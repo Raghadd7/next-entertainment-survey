{
 "cells": [
  {
   "cell_type": "markdown",
   "metadata": {},
   "source": [
    "## Next Entertainment Survey"
   ]
  },
  {
   "cell_type": "markdown",
   "metadata": {},
   "source": [
    "Author: Raghad Alotaibi"
   ]
  },
  {
   "cell_type": "markdown",
   "metadata": {},
   "source": [
    "# 1. Improt libraries "
   ]
  },
  {
   "cell_type": "code",
   "execution_count": 1,
   "metadata": {},
   "outputs": [],
   "source": [
    "import numpy as np\n",
    "import pandas as pd\n",
    "\n",
    "import plotly as py\n",
    "import plotly.graph_objs as go\n",
    "\n",
    "\n",
    "import matplotlib.pyplot as plt\n",
    "import plotly.express as px\n"
   ]
  },
  {
   "cell_type": "markdown",
   "metadata": {},
   "source": [
    "# 2. Read the data"
   ]
  },
  {
   "cell_type": "code",
   "execution_count": 2,
   "metadata": {},
   "outputs": [],
   "source": [
    "url = 'https://drive.google.com/file/d/1q-jmmJjwssaug5yq3jcojUEz9BI1u__h/view?usp=sharing'\n",
    "path = 'https://drive.google.com/uc?export=download&id='+url.split('/')[-2]\n",
    "df = pd.read_csv(path)"
   ]
  },
  {
   "cell_type": "code",
   "execution_count": 3,
   "metadata": {},
   "outputs": [
    {
     "data": {
      "text/html": [
       "<div>\n",
       "<style scoped>\n",
       "    .dataframe tbody tr th:only-of-type {\n",
       "        vertical-align: middle;\n",
       "    }\n",
       "\n",
       "    .dataframe tbody tr th {\n",
       "        vertical-align: top;\n",
       "    }\n",
       "\n",
       "    .dataframe thead th {\n",
       "        text-align: right;\n",
       "    }\n",
       "</style>\n",
       "<table border=\"1\" class=\"dataframe\">\n",
       "  <thead>\n",
       "    <tr style=\"text-align: right;\">\n",
       "      <th></th>\n",
       "      <th>ID</th>\n",
       "      <th>q1</th>\n",
       "      <th>q2</th>\n",
       "      <th>q3</th>\n",
       "      <th>q4</th>\n",
       "      <th>q5</th>\n",
       "      <th>q6</th>\n",
       "      <th>q7</th>\n",
       "      <th>q8</th>\n",
       "      <th>q9</th>\n",
       "    </tr>\n",
       "  </thead>\n",
       "  <tbody>\n",
       "    <tr>\n",
       "      <th>0</th>\n",
       "      <td>1</td>\n",
       "      <td>2</td>\n",
       "      <td>4</td>\n",
       "      <td>1</td>\n",
       "      <td>4</td>\n",
       "      <td>1</td>\n",
       "      <td>3</td>\n",
       "      <td>1</td>\n",
       "      <td>1</td>\n",
       "      <td>Null</td>\n",
       "    </tr>\n",
       "    <tr>\n",
       "      <th>1</th>\n",
       "      <td>2</td>\n",
       "      <td>2</td>\n",
       "      <td>4</td>\n",
       "      <td>1</td>\n",
       "      <td>4</td>\n",
       "      <td>2</td>\n",
       "      <td>2</td>\n",
       "      <td>3</td>\n",
       "      <td>4</td>\n",
       "      <td>4</td>\n",
       "    </tr>\n",
       "    <tr>\n",
       "      <th>2</th>\n",
       "      <td>3</td>\n",
       "      <td>1</td>\n",
       "      <td>3</td>\n",
       "      <td>1</td>\n",
       "      <td>2</td>\n",
       "      <td>3</td>\n",
       "      <td>5</td>\n",
       "      <td>1</td>\n",
       "      <td>3</td>\n",
       "      <td>1</td>\n",
       "    </tr>\n",
       "    <tr>\n",
       "      <th>3</th>\n",
       "      <td>4</td>\n",
       "      <td>2</td>\n",
       "      <td>4</td>\n",
       "      <td>3</td>\n",
       "      <td>4</td>\n",
       "      <td>1</td>\n",
       "      <td>4</td>\n",
       "      <td>3</td>\n",
       "      <td>2</td>\n",
       "      <td>3</td>\n",
       "    </tr>\n",
       "    <tr>\n",
       "      <th>4</th>\n",
       "      <td>5</td>\n",
       "      <td>2</td>\n",
       "      <td>2</td>\n",
       "      <td>2</td>\n",
       "      <td>4</td>\n",
       "      <td>4</td>\n",
       "      <td>3</td>\n",
       "      <td>1</td>\n",
       "      <td>3</td>\n",
       "      <td>3</td>\n",
       "    </tr>\n",
       "  </tbody>\n",
       "</table>\n",
       "</div>"
      ],
      "text/plain": [
       "   ID  q1  q2  q3  q4  q5  q6  q7  q8    q9\n",
       "0   1   2   4   1   4   1   3   1   1  Null\n",
       "1   2   2   4   1   4   2   2   3   4     4\n",
       "2   3   1   3   1   2   3   5   1   3     1\n",
       "3   4   2   4   3   4   1   4   3   2     3\n",
       "4   5   2   2   2   4   4   3   1   3     3"
      ]
     },
     "execution_count": 3,
     "metadata": {},
     "output_type": "execute_result"
    }
   ],
   "source": [
    "df.head()"
   ]
  },
  {
   "cell_type": "code",
   "execution_count": 4,
   "metadata": {},
   "outputs": [
    {
     "data": {
      "text/plain": [
       "(500, 10)"
      ]
     },
     "execution_count": 4,
     "metadata": {},
     "output_type": "execute_result"
    }
   ],
   "source": [
    "df.shape"
   ]
  },
  {
   "cell_type": "code",
   "execution_count": 5,
   "metadata": {},
   "outputs": [
    {
     "data": {
      "text/plain": [
       "ID     int64\n",
       "q1     int64\n",
       "q2     int64\n",
       "q3     int64\n",
       "q4     int64\n",
       "q5     int64\n",
       "q6     int64\n",
       "q7     int64\n",
       "q8     int64\n",
       "q9    object\n",
       "dtype: object"
      ]
     },
     "execution_count": 5,
     "metadata": {},
     "output_type": "execute_result"
    }
   ],
   "source": [
    "df.dtypes"
   ]
  },
  {
   "cell_type": "markdown",
   "metadata": {},
   "source": [
    "# 3. Exploratory Data Analysis  (EDA) & Data Preprocessing"
   ]
  },
  {
   "cell_type": "code",
   "execution_count": 6,
   "metadata": {},
   "outputs": [],
   "source": [
    "#droping ID\n",
    "df = df.drop(\"ID\", axis = 1)"
   ]
  },
  {
   "cell_type": "code",
   "execution_count": 7,
   "metadata": {},
   "outputs": [],
   "source": [
    "#rename columns\n",
    "df = df.rename(columns={\"q1\":'Gender',\n",
    "                        \"q2\":'AgeGroup',\n",
    "                        \"q3\":'MaritalStatus',\n",
    "                        \"q4\":'MonthlyIncomeLevel',\n",
    "                        \"q5\":'ResidentialArea',\n",
    "                        \"q6\":'EventsSatisfaction',\n",
    "                        \"q7\":'WeeklyVisitFrequency',\n",
    "                        \"q8\":'Paywilingness',\n",
    "                        \"q9\":'MoneySpend'},inplace=False)\n",
    "                        "
   ]
  },
  {
   "cell_type": "code",
   "execution_count": 8,
   "metadata": {},
   "outputs": [
    {
     "data": {
      "text/html": [
       "<div>\n",
       "<style scoped>\n",
       "    .dataframe tbody tr th:only-of-type {\n",
       "        vertical-align: middle;\n",
       "    }\n",
       "\n",
       "    .dataframe tbody tr th {\n",
       "        vertical-align: top;\n",
       "    }\n",
       "\n",
       "    .dataframe thead th {\n",
       "        text-align: right;\n",
       "    }\n",
       "</style>\n",
       "<table border=\"1\" class=\"dataframe\">\n",
       "  <thead>\n",
       "    <tr style=\"text-align: right;\">\n",
       "      <th></th>\n",
       "      <th>Gender</th>\n",
       "      <th>AgeGroup</th>\n",
       "      <th>MaritalStatus</th>\n",
       "      <th>MonthlyIncomeLevel</th>\n",
       "      <th>ResidentialArea</th>\n",
       "      <th>EventsSatisfaction</th>\n",
       "      <th>WeeklyVisitFrequency</th>\n",
       "      <th>Paywilingness</th>\n",
       "      <th>MoneySpend</th>\n",
       "    </tr>\n",
       "  </thead>\n",
       "  <tbody>\n",
       "    <tr>\n",
       "      <th>0</th>\n",
       "      <td>2</td>\n",
       "      <td>4</td>\n",
       "      <td>1</td>\n",
       "      <td>4</td>\n",
       "      <td>1</td>\n",
       "      <td>3</td>\n",
       "      <td>1</td>\n",
       "      <td>1</td>\n",
       "      <td>Null</td>\n",
       "    </tr>\n",
       "    <tr>\n",
       "      <th>1</th>\n",
       "      <td>2</td>\n",
       "      <td>4</td>\n",
       "      <td>1</td>\n",
       "      <td>4</td>\n",
       "      <td>2</td>\n",
       "      <td>2</td>\n",
       "      <td>3</td>\n",
       "      <td>4</td>\n",
       "      <td>4</td>\n",
       "    </tr>\n",
       "    <tr>\n",
       "      <th>2</th>\n",
       "      <td>1</td>\n",
       "      <td>3</td>\n",
       "      <td>1</td>\n",
       "      <td>2</td>\n",
       "      <td>3</td>\n",
       "      <td>5</td>\n",
       "      <td>1</td>\n",
       "      <td>3</td>\n",
       "      <td>1</td>\n",
       "    </tr>\n",
       "    <tr>\n",
       "      <th>3</th>\n",
       "      <td>2</td>\n",
       "      <td>4</td>\n",
       "      <td>3</td>\n",
       "      <td>4</td>\n",
       "      <td>1</td>\n",
       "      <td>4</td>\n",
       "      <td>3</td>\n",
       "      <td>2</td>\n",
       "      <td>3</td>\n",
       "    </tr>\n",
       "    <tr>\n",
       "      <th>4</th>\n",
       "      <td>2</td>\n",
       "      <td>2</td>\n",
       "      <td>2</td>\n",
       "      <td>4</td>\n",
       "      <td>4</td>\n",
       "      <td>3</td>\n",
       "      <td>1</td>\n",
       "      <td>3</td>\n",
       "      <td>3</td>\n",
       "    </tr>\n",
       "  </tbody>\n",
       "</table>\n",
       "</div>"
      ],
      "text/plain": [
       "   Gender  AgeGroup  MaritalStatus  MonthlyIncomeLevel  ResidentialArea  \\\n",
       "0       2         4              1                   4                1   \n",
       "1       2         4              1                   4                2   \n",
       "2       1         3              1                   2                3   \n",
       "3       2         4              3                   4                1   \n",
       "4       2         2              2                   4                4   \n",
       "\n",
       "   EventsSatisfaction  WeeklyVisitFrequency  Paywilingness MoneySpend  \n",
       "0                   3                     1              1       Null  \n",
       "1                   2                     3              4          4  \n",
       "2                   5                     1              3          1  \n",
       "3                   4                     3              2          3  \n",
       "4                   3                     1              3          3  "
      ]
     },
     "execution_count": 8,
     "metadata": {},
     "output_type": "execute_result"
    }
   ],
   "source": [
    "df.head()"
   ]
  },
  {
   "cell_type": "code",
   "execution_count": 9,
   "metadata": {},
   "outputs": [],
   "source": [
    "df = df.replace('Null',np.nan, regex=True)"
   ]
  },
  {
   "cell_type": "code",
   "execution_count": 10,
   "metadata": {},
   "outputs": [
    {
     "data": {
      "text/html": [
       "<div>\n",
       "<style scoped>\n",
       "    .dataframe tbody tr th:only-of-type {\n",
       "        vertical-align: middle;\n",
       "    }\n",
       "\n",
       "    .dataframe tbody tr th {\n",
       "        vertical-align: top;\n",
       "    }\n",
       "\n",
       "    .dataframe thead th {\n",
       "        text-align: right;\n",
       "    }\n",
       "</style>\n",
       "<table border=\"1\" class=\"dataframe\">\n",
       "  <thead>\n",
       "    <tr style=\"text-align: right;\">\n",
       "      <th></th>\n",
       "      <th>Gender</th>\n",
       "      <th>AgeGroup</th>\n",
       "      <th>MaritalStatus</th>\n",
       "      <th>MonthlyIncomeLevel</th>\n",
       "      <th>ResidentialArea</th>\n",
       "      <th>EventsSatisfaction</th>\n",
       "      <th>WeeklyVisitFrequency</th>\n",
       "      <th>Paywilingness</th>\n",
       "      <th>MoneySpend</th>\n",
       "    </tr>\n",
       "  </thead>\n",
       "  <tbody>\n",
       "    <tr>\n",
       "      <th>0</th>\n",
       "      <td>2</td>\n",
       "      <td>4</td>\n",
       "      <td>1</td>\n",
       "      <td>4</td>\n",
       "      <td>1</td>\n",
       "      <td>3</td>\n",
       "      <td>1</td>\n",
       "      <td>1</td>\n",
       "      <td>NaN</td>\n",
       "    </tr>\n",
       "    <tr>\n",
       "      <th>1</th>\n",
       "      <td>2</td>\n",
       "      <td>4</td>\n",
       "      <td>1</td>\n",
       "      <td>4</td>\n",
       "      <td>2</td>\n",
       "      <td>2</td>\n",
       "      <td>3</td>\n",
       "      <td>4</td>\n",
       "      <td>4</td>\n",
       "    </tr>\n",
       "    <tr>\n",
       "      <th>2</th>\n",
       "      <td>1</td>\n",
       "      <td>3</td>\n",
       "      <td>1</td>\n",
       "      <td>2</td>\n",
       "      <td>3</td>\n",
       "      <td>5</td>\n",
       "      <td>1</td>\n",
       "      <td>3</td>\n",
       "      <td>1</td>\n",
       "    </tr>\n",
       "    <tr>\n",
       "      <th>3</th>\n",
       "      <td>2</td>\n",
       "      <td>4</td>\n",
       "      <td>3</td>\n",
       "      <td>4</td>\n",
       "      <td>1</td>\n",
       "      <td>4</td>\n",
       "      <td>3</td>\n",
       "      <td>2</td>\n",
       "      <td>3</td>\n",
       "    </tr>\n",
       "    <tr>\n",
       "      <th>4</th>\n",
       "      <td>2</td>\n",
       "      <td>2</td>\n",
       "      <td>2</td>\n",
       "      <td>4</td>\n",
       "      <td>4</td>\n",
       "      <td>3</td>\n",
       "      <td>1</td>\n",
       "      <td>3</td>\n",
       "      <td>3</td>\n",
       "    </tr>\n",
       "  </tbody>\n",
       "</table>\n",
       "</div>"
      ],
      "text/plain": [
       "   Gender  AgeGroup  MaritalStatus  MonthlyIncomeLevel  ResidentialArea  \\\n",
       "0       2         4              1                   4                1   \n",
       "1       2         4              1                   4                2   \n",
       "2       1         3              1                   2                3   \n",
       "3       2         4              3                   4                1   \n",
       "4       2         2              2                   4                4   \n",
       "\n",
       "   EventsSatisfaction  WeeklyVisitFrequency  Paywilingness MoneySpend  \n",
       "0                   3                     1              1        NaN  \n",
       "1                   2                     3              4          4  \n",
       "2                   5                     1              3          1  \n",
       "3                   4                     3              2          3  \n",
       "4                   3                     1              3          3  "
      ]
     },
     "execution_count": 10,
     "metadata": {},
     "output_type": "execute_result"
    }
   ],
   "source": [
    "df.head()"
   ]
  },
  {
   "cell_type": "code",
   "execution_count": 11,
   "metadata": {},
   "outputs": [
    {
     "name": "stdout",
     "output_type": "stream",
     "text": [
      "<class 'pandas.core.frame.DataFrame'>\n",
      "RangeIndex: 500 entries, 0 to 499\n",
      "Data columns (total 9 columns):\n",
      " #   Column                Non-Null Count  Dtype \n",
      "---  ------                --------------  ----- \n",
      " 0   Gender                500 non-null    int64 \n",
      " 1   AgeGroup              500 non-null    int64 \n",
      " 2   MaritalStatus         500 non-null    int64 \n",
      " 3   MonthlyIncomeLevel    500 non-null    int64 \n",
      " 4   ResidentialArea       500 non-null    int64 \n",
      " 5   EventsSatisfaction    500 non-null    int64 \n",
      " 6   WeeklyVisitFrequency  500 non-null    int64 \n",
      " 7   Paywilingness         500 non-null    int64 \n",
      " 8   MoneySpend            277 non-null    object\n",
      "dtypes: int64(8), object(1)\n",
      "memory usage: 35.3+ KB\n"
     ]
    }
   ],
   "source": [
    "df.info()"
   ]
  },
  {
   "cell_type": "code",
   "execution_count": 12,
   "metadata": {},
   "outputs": [
    {
     "data": {
      "text/plain": [
       "Gender                    0\n",
       "AgeGroup                  0\n",
       "MaritalStatus             0\n",
       "MonthlyIncomeLevel        0\n",
       "ResidentialArea           0\n",
       "EventsSatisfaction        0\n",
       "WeeklyVisitFrequency      0\n",
       "Paywilingness             0\n",
       "MoneySpend              223\n",
       "dtype: int64"
      ]
     },
     "execution_count": 12,
     "metadata": {},
     "output_type": "execute_result"
    }
   ],
   "source": [
    "df.isnull().sum()"
   ]
  },
  {
   "cell_type": "code",
   "execution_count": 13,
   "metadata": {},
   "outputs": [],
   "source": [
    "df_viz = df.copy()"
   ]
  },
  {
   "cell_type": "code",
   "execution_count": 14,
   "metadata": {},
   "outputs": [
    {
     "data": {
      "text/html": [
       "<div>\n",
       "<style scoped>\n",
       "    .dataframe tbody tr th:only-of-type {\n",
       "        vertical-align: middle;\n",
       "    }\n",
       "\n",
       "    .dataframe tbody tr th {\n",
       "        vertical-align: top;\n",
       "    }\n",
       "\n",
       "    .dataframe thead th {\n",
       "        text-align: right;\n",
       "    }\n",
       "</style>\n",
       "<table border=\"1\" class=\"dataframe\">\n",
       "  <thead>\n",
       "    <tr style=\"text-align: right;\">\n",
       "      <th></th>\n",
       "      <th>Gender</th>\n",
       "      <th>AgeGroup</th>\n",
       "      <th>MaritalStatus</th>\n",
       "      <th>MonthlyIncomeLevel</th>\n",
       "      <th>ResidentialArea</th>\n",
       "      <th>EventsSatisfaction</th>\n",
       "      <th>WeeklyVisitFrequency</th>\n",
       "      <th>Paywilingness</th>\n",
       "      <th>MoneySpend</th>\n",
       "    </tr>\n",
       "  </thead>\n",
       "  <tbody>\n",
       "    <tr>\n",
       "      <th>0</th>\n",
       "      <td>2</td>\n",
       "      <td>4</td>\n",
       "      <td>1</td>\n",
       "      <td>4</td>\n",
       "      <td>1</td>\n",
       "      <td>3</td>\n",
       "      <td>1</td>\n",
       "      <td>1</td>\n",
       "      <td>NaN</td>\n",
       "    </tr>\n",
       "    <tr>\n",
       "      <th>1</th>\n",
       "      <td>2</td>\n",
       "      <td>4</td>\n",
       "      <td>1</td>\n",
       "      <td>4</td>\n",
       "      <td>2</td>\n",
       "      <td>2</td>\n",
       "      <td>3</td>\n",
       "      <td>4</td>\n",
       "      <td>4</td>\n",
       "    </tr>\n",
       "    <tr>\n",
       "      <th>2</th>\n",
       "      <td>1</td>\n",
       "      <td>3</td>\n",
       "      <td>1</td>\n",
       "      <td>2</td>\n",
       "      <td>3</td>\n",
       "      <td>5</td>\n",
       "      <td>1</td>\n",
       "      <td>3</td>\n",
       "      <td>1</td>\n",
       "    </tr>\n",
       "    <tr>\n",
       "      <th>3</th>\n",
       "      <td>2</td>\n",
       "      <td>4</td>\n",
       "      <td>3</td>\n",
       "      <td>4</td>\n",
       "      <td>1</td>\n",
       "      <td>4</td>\n",
       "      <td>3</td>\n",
       "      <td>2</td>\n",
       "      <td>3</td>\n",
       "    </tr>\n",
       "    <tr>\n",
       "      <th>4</th>\n",
       "      <td>2</td>\n",
       "      <td>2</td>\n",
       "      <td>2</td>\n",
       "      <td>4</td>\n",
       "      <td>4</td>\n",
       "      <td>3</td>\n",
       "      <td>1</td>\n",
       "      <td>3</td>\n",
       "      <td>3</td>\n",
       "    </tr>\n",
       "    <tr>\n",
       "      <th>...</th>\n",
       "      <td>...</td>\n",
       "      <td>...</td>\n",
       "      <td>...</td>\n",
       "      <td>...</td>\n",
       "      <td>...</td>\n",
       "      <td>...</td>\n",
       "      <td>...</td>\n",
       "      <td>...</td>\n",
       "      <td>...</td>\n",
       "    </tr>\n",
       "    <tr>\n",
       "      <th>495</th>\n",
       "      <td>2</td>\n",
       "      <td>3</td>\n",
       "      <td>2</td>\n",
       "      <td>3</td>\n",
       "      <td>4</td>\n",
       "      <td>4</td>\n",
       "      <td>2</td>\n",
       "      <td>1</td>\n",
       "      <td>NaN</td>\n",
       "    </tr>\n",
       "    <tr>\n",
       "      <th>496</th>\n",
       "      <td>1</td>\n",
       "      <td>1</td>\n",
       "      <td>3</td>\n",
       "      <td>1</td>\n",
       "      <td>4</td>\n",
       "      <td>5</td>\n",
       "      <td>1</td>\n",
       "      <td>1</td>\n",
       "      <td>NaN</td>\n",
       "    </tr>\n",
       "    <tr>\n",
       "      <th>497</th>\n",
       "      <td>1</td>\n",
       "      <td>1</td>\n",
       "      <td>2</td>\n",
       "      <td>4</td>\n",
       "      <td>2</td>\n",
       "      <td>2</td>\n",
       "      <td>2</td>\n",
       "      <td>4</td>\n",
       "      <td>3</td>\n",
       "    </tr>\n",
       "    <tr>\n",
       "      <th>498</th>\n",
       "      <td>1</td>\n",
       "      <td>4</td>\n",
       "      <td>3</td>\n",
       "      <td>3</td>\n",
       "      <td>2</td>\n",
       "      <td>1</td>\n",
       "      <td>3</td>\n",
       "      <td>4</td>\n",
       "      <td>4</td>\n",
       "    </tr>\n",
       "    <tr>\n",
       "      <th>499</th>\n",
       "      <td>2</td>\n",
       "      <td>3</td>\n",
       "      <td>4</td>\n",
       "      <td>2</td>\n",
       "      <td>3</td>\n",
       "      <td>3</td>\n",
       "      <td>3</td>\n",
       "      <td>2</td>\n",
       "      <td>1</td>\n",
       "    </tr>\n",
       "  </tbody>\n",
       "</table>\n",
       "<p>500 rows × 9 columns</p>\n",
       "</div>"
      ],
      "text/plain": [
       "     Gender  AgeGroup  MaritalStatus  MonthlyIncomeLevel  ResidentialArea  \\\n",
       "0         2         4              1                   4                1   \n",
       "1         2         4              1                   4                2   \n",
       "2         1         3              1                   2                3   \n",
       "3         2         4              3                   4                1   \n",
       "4         2         2              2                   4                4   \n",
       "..      ...       ...            ...                 ...              ...   \n",
       "495       2         3              2                   3                4   \n",
       "496       1         1              3                   1                4   \n",
       "497       1         1              2                   4                2   \n",
       "498       1         4              3                   3                2   \n",
       "499       2         3              4                   2                3   \n",
       "\n",
       "     EventsSatisfaction  WeeklyVisitFrequency  Paywilingness MoneySpend  \n",
       "0                     3                     1              1        NaN  \n",
       "1                     2                     3              4          4  \n",
       "2                     5                     1              3          1  \n",
       "3                     4                     3              2          3  \n",
       "4                     3                     1              3          3  \n",
       "..                  ...                   ...            ...        ...  \n",
       "495                   4                     2              1        NaN  \n",
       "496                   5                     1              1        NaN  \n",
       "497                   2                     2              4          3  \n",
       "498                   1                     3              4          4  \n",
       "499                   3                     3              2          1  \n",
       "\n",
       "[500 rows x 9 columns]"
      ]
     },
     "execution_count": 14,
     "metadata": {},
     "output_type": "execute_result"
    }
   ],
   "source": [
    "df_viz"
   ]
  },
  {
   "cell_type": "markdown",
   "metadata": {},
   "source": [
    "## Relabeling the columns values for visualization interpretation "
   ]
  },
  {
   "cell_type": "code",
   "execution_count": 15,
   "metadata": {},
   "outputs": [],
   "source": [
    "\n",
    "df_viz['Gender'] = df_viz['Gender'].replace([1,2],['Male','Female'])"
   ]
  },
  {
   "cell_type": "code",
   "execution_count": 16,
   "metadata": {},
   "outputs": [],
   "source": [
    "df_viz['AgeGroup'] = df_viz['AgeGroup'].replace([1,2,3,4,5],['18-24','25-30','31-45','46-55','56+'])"
   ]
  },
  {
   "cell_type": "code",
   "execution_count": 17,
   "metadata": {},
   "outputs": [],
   "source": [
    "df_viz['MaritalStatus'] = df_viz['MaritalStatus'].replace([1,2,3,4],['Single','Married with no kids',\n",
    "                                                                 'Married with kids','Single with kids'])"
   ]
  },
  {
   "cell_type": "code",
   "execution_count": 18,
   "metadata": {},
   "outputs": [],
   "source": [
    "df_viz['MonthlyIncomeLevel'] = df_viz['MonthlyIncomeLevel'].replace([1,2,3,4],['<7,000 SAR','7,000-12,000SAR'\n",
    "                                                                          ,'13,000-20,000SAR','>20,000 SAR'])"
   ]
  },
  {
   "cell_type": "code",
   "execution_count": 19,
   "metadata": {},
   "outputs": [],
   "source": [
    "df_viz['ResidentialArea'] = df_viz['ResidentialArea'].replace([1,2,3,4],['North-West of Riyadh',\n",
    "                                                                     'North-Eest of Riyadh',\n",
    "                                                                     'South-West of Riyadh',\n",
    "                                                                     'South-Eest of Riyadh'])"
   ]
  },
  {
   "cell_type": "code",
   "execution_count": 20,
   "metadata": {},
   "outputs": [],
   "source": [
    "df_viz['WeeklyVisitFrequency'] = df_viz['WeeklyVisitFrequency'].replace([1,2,3],['I only go out on weekends',\n",
    "                                                                             '2-3 times a week',\n",
    "                                                                             '3+ times a week'])"
   ]
  },
  {
   "cell_type": "code",
   "execution_count": 21,
   "metadata": {},
   "outputs": [],
   "source": [
    "df_viz['Paywilingness'] = df_viz['Paywilingness'].replace([1,2,3],['I only attend free events',\n",
    "                                                               'I will attend if the ticket is priced reasonably',\n",
    "                                                               'I will attend if the event is exciting enough'])"
   ]
  },
  {
   "cell_type": "code",
   "execution_count": 22,
   "metadata": {},
   "outputs": [],
   "source": [
    "df_viz['MoneySpend'] = df_viz['MoneySpend'].replace(['1','2','3','4'],['<50 SAR',\n",
    "                                                               '50-100 SAR',\n",
    "                                                               '101-200 SAR',\n",
    "                                                               '200+ SAR'])"
   ]
  },
  {
   "cell_type": "code",
   "execution_count": 23,
   "metadata": {},
   "outputs": [
    {
     "data": {
      "text/html": [
       "<div>\n",
       "<style scoped>\n",
       "    .dataframe tbody tr th:only-of-type {\n",
       "        vertical-align: middle;\n",
       "    }\n",
       "\n",
       "    .dataframe tbody tr th {\n",
       "        vertical-align: top;\n",
       "    }\n",
       "\n",
       "    .dataframe thead th {\n",
       "        text-align: right;\n",
       "    }\n",
       "</style>\n",
       "<table border=\"1\" class=\"dataframe\">\n",
       "  <thead>\n",
       "    <tr style=\"text-align: right;\">\n",
       "      <th></th>\n",
       "      <th>Gender</th>\n",
       "      <th>AgeGroup</th>\n",
       "      <th>MaritalStatus</th>\n",
       "      <th>MonthlyIncomeLevel</th>\n",
       "      <th>ResidentialArea</th>\n",
       "      <th>EventsSatisfaction</th>\n",
       "      <th>WeeklyVisitFrequency</th>\n",
       "      <th>Paywilingness</th>\n",
       "      <th>MoneySpend</th>\n",
       "    </tr>\n",
       "  </thead>\n",
       "  <tbody>\n",
       "    <tr>\n",
       "      <th>0</th>\n",
       "      <td>Female</td>\n",
       "      <td>46-55</td>\n",
       "      <td>Single</td>\n",
       "      <td>&gt;20,000 SAR</td>\n",
       "      <td>North-West of Riyadh</td>\n",
       "      <td>3</td>\n",
       "      <td>I only go out on weekends</td>\n",
       "      <td>I only attend free events</td>\n",
       "      <td>NaN</td>\n",
       "    </tr>\n",
       "    <tr>\n",
       "      <th>1</th>\n",
       "      <td>Female</td>\n",
       "      <td>46-55</td>\n",
       "      <td>Single</td>\n",
       "      <td>&gt;20,000 SAR</td>\n",
       "      <td>North-Eest of Riyadh</td>\n",
       "      <td>2</td>\n",
       "      <td>3+ times a week</td>\n",
       "      <td>4</td>\n",
       "      <td>200+ SAR</td>\n",
       "    </tr>\n",
       "    <tr>\n",
       "      <th>2</th>\n",
       "      <td>Male</td>\n",
       "      <td>31-45</td>\n",
       "      <td>Single</td>\n",
       "      <td>7,000-12,000SAR</td>\n",
       "      <td>South-West of Riyadh</td>\n",
       "      <td>5</td>\n",
       "      <td>I only go out on weekends</td>\n",
       "      <td>I will attend if the event is exciting enough</td>\n",
       "      <td>&lt;50 SAR</td>\n",
       "    </tr>\n",
       "    <tr>\n",
       "      <th>3</th>\n",
       "      <td>Female</td>\n",
       "      <td>46-55</td>\n",
       "      <td>Married with kids</td>\n",
       "      <td>&gt;20,000 SAR</td>\n",
       "      <td>North-West of Riyadh</td>\n",
       "      <td>4</td>\n",
       "      <td>3+ times a week</td>\n",
       "      <td>I will attend if the ticket is priced reasonably</td>\n",
       "      <td>101-200 SAR</td>\n",
       "    </tr>\n",
       "    <tr>\n",
       "      <th>4</th>\n",
       "      <td>Female</td>\n",
       "      <td>25-30</td>\n",
       "      <td>Married with no kids</td>\n",
       "      <td>&gt;20,000 SAR</td>\n",
       "      <td>South-Eest of Riyadh</td>\n",
       "      <td>3</td>\n",
       "      <td>I only go out on weekends</td>\n",
       "      <td>I will attend if the event is exciting enough</td>\n",
       "      <td>101-200 SAR</td>\n",
       "    </tr>\n",
       "    <tr>\n",
       "      <th>...</th>\n",
       "      <td>...</td>\n",
       "      <td>...</td>\n",
       "      <td>...</td>\n",
       "      <td>...</td>\n",
       "      <td>...</td>\n",
       "      <td>...</td>\n",
       "      <td>...</td>\n",
       "      <td>...</td>\n",
       "      <td>...</td>\n",
       "    </tr>\n",
       "    <tr>\n",
       "      <th>495</th>\n",
       "      <td>Female</td>\n",
       "      <td>31-45</td>\n",
       "      <td>Married with no kids</td>\n",
       "      <td>13,000-20,000SAR</td>\n",
       "      <td>South-Eest of Riyadh</td>\n",
       "      <td>4</td>\n",
       "      <td>2-3 times a week</td>\n",
       "      <td>I only attend free events</td>\n",
       "      <td>NaN</td>\n",
       "    </tr>\n",
       "    <tr>\n",
       "      <th>496</th>\n",
       "      <td>Male</td>\n",
       "      <td>18-24</td>\n",
       "      <td>Married with kids</td>\n",
       "      <td>&lt;7,000 SAR</td>\n",
       "      <td>South-Eest of Riyadh</td>\n",
       "      <td>5</td>\n",
       "      <td>I only go out on weekends</td>\n",
       "      <td>I only attend free events</td>\n",
       "      <td>NaN</td>\n",
       "    </tr>\n",
       "    <tr>\n",
       "      <th>497</th>\n",
       "      <td>Male</td>\n",
       "      <td>18-24</td>\n",
       "      <td>Married with no kids</td>\n",
       "      <td>&gt;20,000 SAR</td>\n",
       "      <td>North-Eest of Riyadh</td>\n",
       "      <td>2</td>\n",
       "      <td>2-3 times a week</td>\n",
       "      <td>4</td>\n",
       "      <td>101-200 SAR</td>\n",
       "    </tr>\n",
       "    <tr>\n",
       "      <th>498</th>\n",
       "      <td>Male</td>\n",
       "      <td>46-55</td>\n",
       "      <td>Married with kids</td>\n",
       "      <td>13,000-20,000SAR</td>\n",
       "      <td>North-Eest of Riyadh</td>\n",
       "      <td>1</td>\n",
       "      <td>3+ times a week</td>\n",
       "      <td>4</td>\n",
       "      <td>200+ SAR</td>\n",
       "    </tr>\n",
       "    <tr>\n",
       "      <th>499</th>\n",
       "      <td>Female</td>\n",
       "      <td>31-45</td>\n",
       "      <td>Single with kids</td>\n",
       "      <td>7,000-12,000SAR</td>\n",
       "      <td>South-West of Riyadh</td>\n",
       "      <td>3</td>\n",
       "      <td>3+ times a week</td>\n",
       "      <td>I will attend if the ticket is priced reasonably</td>\n",
       "      <td>&lt;50 SAR</td>\n",
       "    </tr>\n",
       "  </tbody>\n",
       "</table>\n",
       "<p>500 rows × 9 columns</p>\n",
       "</div>"
      ],
      "text/plain": [
       "     Gender AgeGroup         MaritalStatus MonthlyIncomeLevel  \\\n",
       "0    Female    46-55                Single        >20,000 SAR   \n",
       "1    Female    46-55                Single        >20,000 SAR   \n",
       "2      Male    31-45                Single    7,000-12,000SAR   \n",
       "3    Female    46-55     Married with kids        >20,000 SAR   \n",
       "4    Female    25-30  Married with no kids        >20,000 SAR   \n",
       "..      ...      ...                   ...                ...   \n",
       "495  Female    31-45  Married with no kids   13,000-20,000SAR   \n",
       "496    Male    18-24     Married with kids         <7,000 SAR   \n",
       "497    Male    18-24  Married with no kids        >20,000 SAR   \n",
       "498    Male    46-55     Married with kids   13,000-20,000SAR   \n",
       "499  Female    31-45      Single with kids    7,000-12,000SAR   \n",
       "\n",
       "          ResidentialArea  EventsSatisfaction       WeeklyVisitFrequency  \\\n",
       "0    North-West of Riyadh                   3  I only go out on weekends   \n",
       "1    North-Eest of Riyadh                   2            3+ times a week   \n",
       "2    South-West of Riyadh                   5  I only go out on weekends   \n",
       "3    North-West of Riyadh                   4            3+ times a week   \n",
       "4    South-Eest of Riyadh                   3  I only go out on weekends   \n",
       "..                    ...                 ...                        ...   \n",
       "495  South-Eest of Riyadh                   4           2-3 times a week   \n",
       "496  South-Eest of Riyadh                   5  I only go out on weekends   \n",
       "497  North-Eest of Riyadh                   2           2-3 times a week   \n",
       "498  North-Eest of Riyadh                   1            3+ times a week   \n",
       "499  South-West of Riyadh                   3            3+ times a week   \n",
       "\n",
       "                                        Paywilingness   MoneySpend  \n",
       "0                           I only attend free events          NaN  \n",
       "1                                                   4     200+ SAR  \n",
       "2       I will attend if the event is exciting enough      <50 SAR  \n",
       "3    I will attend if the ticket is priced reasonably  101-200 SAR  \n",
       "4       I will attend if the event is exciting enough  101-200 SAR  \n",
       "..                                                ...          ...  \n",
       "495                         I only attend free events          NaN  \n",
       "496                         I only attend free events          NaN  \n",
       "497                                                 4  101-200 SAR  \n",
       "498                                                 4     200+ SAR  \n",
       "499  I will attend if the ticket is priced reasonably      <50 SAR  \n",
       "\n",
       "[500 rows x 9 columns]"
      ]
     },
     "execution_count": 23,
     "metadata": {},
     "output_type": "execute_result"
    }
   ],
   "source": [
    "df_viz"
   ]
  },
  {
   "cell_type": "code",
   "execution_count": null,
   "metadata": {},
   "outputs": [],
   "source": []
  },
  {
   "cell_type": "code",
   "execution_count": 24,
   "metadata": {},
   "outputs": [
    {
     "data": {
      "text/plain": [
       "Female    0.554\n",
       "Male      0.446\n",
       "Name: Gender, dtype: float64"
      ]
     },
     "execution_count": 24,
     "metadata": {},
     "output_type": "execute_result"
    }
   ],
   "source": [
    "\n",
    "df_viz.Gender.value_counts(normalize=True)"
   ]
  },
  {
   "cell_type": "markdown",
   "metadata": {},
   "source": [
    "# Takeaway 1"
   ]
  },
  {
   "cell_type": "markdown",
   "metadata": {},
   "source": [
    "### Who are the residents of Riyadh City from a demographic’s perspective "
   ]
  },
  {
   "cell_type": "code",
   "execution_count": 25,
   "metadata": {},
   "outputs": [
    {
     "name": "stdout",
     "output_type": "stream",
     "text": [
      "Requirement already satisfied: plotly==5.5.0 in ./opt/anaconda3/lib/python3.8/site-packages (5.5.0)\n",
      "Requirement already satisfied: six in ./opt/anaconda3/lib/python3.8/site-packages (from plotly==5.5.0) (1.16.0)\n",
      "Requirement already satisfied: tenacity>=6.2.0 in ./opt/anaconda3/lib/python3.8/site-packages (from plotly==5.5.0) (8.1.0)\n",
      "Note: you may need to restart the kernel to use updated packages.\n"
     ]
    }
   ],
   "source": [
    "#pip install plotly==5.5.0"
   ]
  },
  {
   "cell_type": "code",
   "execution_count": 54,
   "metadata": {},
   "outputs": [
    {
     "data": {
      "application/vnd.plotly.v1+json": {
       "config": {
        "plotlyServerURL": "https://plot.ly"
       },
       "data": [
        {
         "alignmentgroup": "True",
         "bingroup": "x",
         "hovertemplate": "Gender=%{x}<br>count=%{y}<extra></extra>",
         "legendgroup": "",
         "marker": {
          "color": "#636efa",
          "pattern": {
           "shape": ""
          }
         },
         "name": "",
         "offsetgroup": "",
         "orientation": "v",
         "showlegend": false,
         "texttemplate": "%{value}",
         "type": "histogram",
         "x": [
          "Female",
          "Female",
          "Male",
          "Female",
          "Female",
          "Female",
          "Male",
          "Female",
          "Female",
          "Female",
          "Male",
          "Female",
          "Female",
          "Male",
          "Female",
          "Female",
          "Female",
          "Female",
          "Male",
          "Female",
          "Female",
          "Male",
          "Female",
          "Female",
          "Male",
          "Female",
          "Male",
          "Male",
          "Male",
          "Female",
          "Female",
          "Female",
          "Female",
          "Male",
          "Male",
          "Female",
          "Female",
          "Female",
          "Male",
          "Female",
          "Male",
          "Male",
          "Male",
          "Female",
          "Male",
          "Male",
          "Female",
          "Female",
          "Male",
          "Female",
          "Male",
          "Male",
          "Male",
          "Female",
          "Male",
          "Male",
          "Male",
          "Male",
          "Male",
          "Female",
          "Female",
          "Male",
          "Female",
          "Female",
          "Female",
          "Female",
          "Female",
          "Male",
          "Male",
          "Female",
          "Female",
          "Male",
          "Male",
          "Female",
          "Female",
          "Male",
          "Male",
          "Female",
          "Female",
          "Female",
          "Male",
          "Male",
          "Female",
          "Male",
          "Female",
          "Male",
          "Male",
          "Female",
          "Female",
          "Female",
          "Female",
          "Male",
          "Female",
          "Female",
          "Female",
          "Female",
          "Female",
          "Male",
          "Female",
          "Female",
          "Male",
          "Female",
          "Male",
          "Female",
          "Female",
          "Male",
          "Female",
          "Male",
          "Male",
          "Female",
          "Male",
          "Female",
          "Male",
          "Male",
          "Female",
          "Male",
          "Male",
          "Male",
          "Female",
          "Female",
          "Male",
          "Female",
          "Male",
          "Female",
          "Female",
          "Female",
          "Female",
          "Male",
          "Female",
          "Male",
          "Male",
          "Male",
          "Male",
          "Female",
          "Female",
          "Male",
          "Female",
          "Female",
          "Male",
          "Male",
          "Female",
          "Male",
          "Female",
          "Male",
          "Male",
          "Female",
          "Female",
          "Female",
          "Female",
          "Female",
          "Female",
          "Male",
          "Male",
          "Male",
          "Female",
          "Female",
          "Female",
          "Female",
          "Female",
          "Female",
          "Female",
          "Male",
          "Male",
          "Male",
          "Male",
          "Male",
          "Male",
          "Male",
          "Male",
          "Female",
          "Female",
          "Female",
          "Female",
          "Female",
          "Male",
          "Female",
          "Female",
          "Female",
          "Female",
          "Female",
          "Female",
          "Female",
          "Male",
          "Male",
          "Female",
          "Female",
          "Female",
          "Male",
          "Male",
          "Male",
          "Male",
          "Female",
          "Male",
          "Male",
          "Female",
          "Male",
          "Female",
          "Male",
          "Female",
          "Male",
          "Male",
          "Female",
          "Male",
          "Male",
          "Male",
          "Male",
          "Male",
          "Female",
          "Female",
          "Male",
          "Female",
          "Female",
          "Male",
          "Female",
          "Female",
          "Male",
          "Female",
          "Male",
          "Female",
          "Female",
          "Female",
          "Female",
          "Female",
          "Female",
          "Female",
          "Male",
          "Male",
          "Male",
          "Male",
          "Male",
          "Female",
          "Male",
          "Male",
          "Male",
          "Male",
          "Male",
          "Female",
          "Male",
          "Male",
          "Male",
          "Female",
          "Male",
          "Female",
          "Male",
          "Male",
          "Female",
          "Female",
          "Male",
          "Female",
          "Female",
          "Male",
          "Female",
          "Female",
          "Female",
          "Male",
          "Female",
          "Male",
          "Female",
          "Female",
          "Female",
          "Female",
          "Male",
          "Male",
          "Female",
          "Male",
          "Female",
          "Male",
          "Female",
          "Male",
          "Female",
          "Male",
          "Female",
          "Female",
          "Female",
          "Female",
          "Female",
          "Female",
          "Male",
          "Female",
          "Male",
          "Male",
          "Male",
          "Female",
          "Male",
          "Male",
          "Male",
          "Female",
          "Female",
          "Male",
          "Female",
          "Female",
          "Female",
          "Female",
          "Male",
          "Female",
          "Female",
          "Male",
          "Female",
          "Female",
          "Female",
          "Female",
          "Male",
          "Female",
          "Male",
          "Female",
          "Male",
          "Female",
          "Male",
          "Female",
          "Male",
          "Male",
          "Male",
          "Female",
          "Female",
          "Male",
          "Male",
          "Female",
          "Male",
          "Female",
          "Female",
          "Female",
          "Female",
          "Female",
          "Female",
          "Female",
          "Female",
          "Female",
          "Female",
          "Male",
          "Female",
          "Female",
          "Male",
          "Female",
          "Female",
          "Male",
          "Male",
          "Female",
          "Male",
          "Male",
          "Female",
          "Male",
          "Male",
          "Male",
          "Female",
          "Male",
          "Female",
          "Female",
          "Male",
          "Female",
          "Male",
          "Female",
          "Female",
          "Female",
          "Male",
          "Female",
          "Male",
          "Male",
          "Male",
          "Female",
          "Female",
          "Male",
          "Male",
          "Male",
          "Male",
          "Female",
          "Male",
          "Male",
          "Female",
          "Male",
          "Male",
          "Male",
          "Female",
          "Male",
          "Male",
          "Female",
          "Male",
          "Male",
          "Male",
          "Female",
          "Female",
          "Female",
          "Female",
          "Female",
          "Male",
          "Female",
          "Female",
          "Male",
          "Male",
          "Male",
          "Female",
          "Male",
          "Female",
          "Male",
          "Female",
          "Female",
          "Female",
          "Female",
          "Female",
          "Male",
          "Male",
          "Male",
          "Female",
          "Male",
          "Male",
          "Male",
          "Female",
          "Female",
          "Female",
          "Male",
          "Male",
          "Male",
          "Female",
          "Female",
          "Male",
          "Male",
          "Male",
          "Female",
          "Male",
          "Female",
          "Female",
          "Female",
          "Female",
          "Female",
          "Male",
          "Female",
          "Male",
          "Male",
          "Female",
          "Female",
          "Female",
          "Female",
          "Female",
          "Male",
          "Female",
          "Female",
          "Female",
          "Female",
          "Male",
          "Female",
          "Male",
          "Male",
          "Female",
          "Male",
          "Female",
          "Male",
          "Female",
          "Male",
          "Male",
          "Female",
          "Female",
          "Male",
          "Male",
          "Female",
          "Female",
          "Female",
          "Male",
          "Female",
          "Female",
          "Female",
          "Female",
          "Female",
          "Female",
          "Female",
          "Female",
          "Male",
          "Female",
          "Male",
          "Female",
          "Male",
          "Male",
          "Female",
          "Male",
          "Male",
          "Female",
          "Male",
          "Female",
          "Female",
          "Female",
          "Female",
          "Male",
          "Male",
          "Female",
          "Female",
          "Male",
          "Female",
          "Female",
          "Male",
          "Female",
          "Male",
          "Female",
          "Female",
          "Male",
          "Female",
          "Female",
          "Female",
          "Female",
          "Male",
          "Male",
          "Male",
          "Female"
         ],
         "xaxis": "x",
         "yaxis": "y"
        }
       ],
       "layout": {
        "barmode": "relative",
        "legend": {
         "tracegroupgap": 0
        },
        "margin": {
         "t": 60
        },
        "template": {
         "data": {
          "bar": [
           {
            "error_x": {
             "color": "#2a3f5f"
            },
            "error_y": {
             "color": "#2a3f5f"
            },
            "marker": {
             "line": {
              "color": "#E5ECF6",
              "width": 0.5
             },
             "pattern": {
              "fillmode": "overlay",
              "size": 10,
              "solidity": 0.2
             }
            },
            "type": "bar"
           }
          ],
          "barpolar": [
           {
            "marker": {
             "line": {
              "color": "#E5ECF6",
              "width": 0.5
             },
             "pattern": {
              "fillmode": "overlay",
              "size": 10,
              "solidity": 0.2
             }
            },
            "type": "barpolar"
           }
          ],
          "carpet": [
           {
            "aaxis": {
             "endlinecolor": "#2a3f5f",
             "gridcolor": "white",
             "linecolor": "white",
             "minorgridcolor": "white",
             "startlinecolor": "#2a3f5f"
            },
            "baxis": {
             "endlinecolor": "#2a3f5f",
             "gridcolor": "white",
             "linecolor": "white",
             "minorgridcolor": "white",
             "startlinecolor": "#2a3f5f"
            },
            "type": "carpet"
           }
          ],
          "choropleth": [
           {
            "colorbar": {
             "outlinewidth": 0,
             "ticks": ""
            },
            "type": "choropleth"
           }
          ],
          "contour": [
           {
            "colorbar": {
             "outlinewidth": 0,
             "ticks": ""
            },
            "colorscale": [
             [
              0,
              "#0d0887"
             ],
             [
              0.1111111111111111,
              "#46039f"
             ],
             [
              0.2222222222222222,
              "#7201a8"
             ],
             [
              0.3333333333333333,
              "#9c179e"
             ],
             [
              0.4444444444444444,
              "#bd3786"
             ],
             [
              0.5555555555555556,
              "#d8576b"
             ],
             [
              0.6666666666666666,
              "#ed7953"
             ],
             [
              0.7777777777777778,
              "#fb9f3a"
             ],
             [
              0.8888888888888888,
              "#fdca26"
             ],
             [
              1,
              "#f0f921"
             ]
            ],
            "type": "contour"
           }
          ],
          "contourcarpet": [
           {
            "colorbar": {
             "outlinewidth": 0,
             "ticks": ""
            },
            "type": "contourcarpet"
           }
          ],
          "heatmap": [
           {
            "colorbar": {
             "outlinewidth": 0,
             "ticks": ""
            },
            "colorscale": [
             [
              0,
              "#0d0887"
             ],
             [
              0.1111111111111111,
              "#46039f"
             ],
             [
              0.2222222222222222,
              "#7201a8"
             ],
             [
              0.3333333333333333,
              "#9c179e"
             ],
             [
              0.4444444444444444,
              "#bd3786"
             ],
             [
              0.5555555555555556,
              "#d8576b"
             ],
             [
              0.6666666666666666,
              "#ed7953"
             ],
             [
              0.7777777777777778,
              "#fb9f3a"
             ],
             [
              0.8888888888888888,
              "#fdca26"
             ],
             [
              1,
              "#f0f921"
             ]
            ],
            "type": "heatmap"
           }
          ],
          "heatmapgl": [
           {
            "colorbar": {
             "outlinewidth": 0,
             "ticks": ""
            },
            "colorscale": [
             [
              0,
              "#0d0887"
             ],
             [
              0.1111111111111111,
              "#46039f"
             ],
             [
              0.2222222222222222,
              "#7201a8"
             ],
             [
              0.3333333333333333,
              "#9c179e"
             ],
             [
              0.4444444444444444,
              "#bd3786"
             ],
             [
              0.5555555555555556,
              "#d8576b"
             ],
             [
              0.6666666666666666,
              "#ed7953"
             ],
             [
              0.7777777777777778,
              "#fb9f3a"
             ],
             [
              0.8888888888888888,
              "#fdca26"
             ],
             [
              1,
              "#f0f921"
             ]
            ],
            "type": "heatmapgl"
           }
          ],
          "histogram": [
           {
            "marker": {
             "pattern": {
              "fillmode": "overlay",
              "size": 10,
              "solidity": 0.2
             }
            },
            "type": "histogram"
           }
          ],
          "histogram2d": [
           {
            "colorbar": {
             "outlinewidth": 0,
             "ticks": ""
            },
            "colorscale": [
             [
              0,
              "#0d0887"
             ],
             [
              0.1111111111111111,
              "#46039f"
             ],
             [
              0.2222222222222222,
              "#7201a8"
             ],
             [
              0.3333333333333333,
              "#9c179e"
             ],
             [
              0.4444444444444444,
              "#bd3786"
             ],
             [
              0.5555555555555556,
              "#d8576b"
             ],
             [
              0.6666666666666666,
              "#ed7953"
             ],
             [
              0.7777777777777778,
              "#fb9f3a"
             ],
             [
              0.8888888888888888,
              "#fdca26"
             ],
             [
              1,
              "#f0f921"
             ]
            ],
            "type": "histogram2d"
           }
          ],
          "histogram2dcontour": [
           {
            "colorbar": {
             "outlinewidth": 0,
             "ticks": ""
            },
            "colorscale": [
             [
              0,
              "#0d0887"
             ],
             [
              0.1111111111111111,
              "#46039f"
             ],
             [
              0.2222222222222222,
              "#7201a8"
             ],
             [
              0.3333333333333333,
              "#9c179e"
             ],
             [
              0.4444444444444444,
              "#bd3786"
             ],
             [
              0.5555555555555556,
              "#d8576b"
             ],
             [
              0.6666666666666666,
              "#ed7953"
             ],
             [
              0.7777777777777778,
              "#fb9f3a"
             ],
             [
              0.8888888888888888,
              "#fdca26"
             ],
             [
              1,
              "#f0f921"
             ]
            ],
            "type": "histogram2dcontour"
           }
          ],
          "mesh3d": [
           {
            "colorbar": {
             "outlinewidth": 0,
             "ticks": ""
            },
            "type": "mesh3d"
           }
          ],
          "parcoords": [
           {
            "line": {
             "colorbar": {
              "outlinewidth": 0,
              "ticks": ""
             }
            },
            "type": "parcoords"
           }
          ],
          "pie": [
           {
            "automargin": true,
            "type": "pie"
           }
          ],
          "scatter": [
           {
            "marker": {
             "colorbar": {
              "outlinewidth": 0,
              "ticks": ""
             }
            },
            "type": "scatter"
           }
          ],
          "scatter3d": [
           {
            "line": {
             "colorbar": {
              "outlinewidth": 0,
              "ticks": ""
             }
            },
            "marker": {
             "colorbar": {
              "outlinewidth": 0,
              "ticks": ""
             }
            },
            "type": "scatter3d"
           }
          ],
          "scattercarpet": [
           {
            "marker": {
             "colorbar": {
              "outlinewidth": 0,
              "ticks": ""
             }
            },
            "type": "scattercarpet"
           }
          ],
          "scattergeo": [
           {
            "marker": {
             "colorbar": {
              "outlinewidth": 0,
              "ticks": ""
             }
            },
            "type": "scattergeo"
           }
          ],
          "scattergl": [
           {
            "marker": {
             "colorbar": {
              "outlinewidth": 0,
              "ticks": ""
             }
            },
            "type": "scattergl"
           }
          ],
          "scattermapbox": [
           {
            "marker": {
             "colorbar": {
              "outlinewidth": 0,
              "ticks": ""
             }
            },
            "type": "scattermapbox"
           }
          ],
          "scatterpolar": [
           {
            "marker": {
             "colorbar": {
              "outlinewidth": 0,
              "ticks": ""
             }
            },
            "type": "scatterpolar"
           }
          ],
          "scatterpolargl": [
           {
            "marker": {
             "colorbar": {
              "outlinewidth": 0,
              "ticks": ""
             }
            },
            "type": "scatterpolargl"
           }
          ],
          "scatterternary": [
           {
            "marker": {
             "colorbar": {
              "outlinewidth": 0,
              "ticks": ""
             }
            },
            "type": "scatterternary"
           }
          ],
          "surface": [
           {
            "colorbar": {
             "outlinewidth": 0,
             "ticks": ""
            },
            "colorscale": [
             [
              0,
              "#0d0887"
             ],
             [
              0.1111111111111111,
              "#46039f"
             ],
             [
              0.2222222222222222,
              "#7201a8"
             ],
             [
              0.3333333333333333,
              "#9c179e"
             ],
             [
              0.4444444444444444,
              "#bd3786"
             ],
             [
              0.5555555555555556,
              "#d8576b"
             ],
             [
              0.6666666666666666,
              "#ed7953"
             ],
             [
              0.7777777777777778,
              "#fb9f3a"
             ],
             [
              0.8888888888888888,
              "#fdca26"
             ],
             [
              1,
              "#f0f921"
             ]
            ],
            "type": "surface"
           }
          ],
          "table": [
           {
            "cells": {
             "fill": {
              "color": "#EBF0F8"
             },
             "line": {
              "color": "white"
             }
            },
            "header": {
             "fill": {
              "color": "#C8D4E3"
             },
             "line": {
              "color": "white"
             }
            },
            "type": "table"
           }
          ]
         },
         "layout": {
          "annotationdefaults": {
           "arrowcolor": "#2a3f5f",
           "arrowhead": 0,
           "arrowwidth": 1
          },
          "autotypenumbers": "strict",
          "coloraxis": {
           "colorbar": {
            "outlinewidth": 0,
            "ticks": ""
           }
          },
          "colorscale": {
           "diverging": [
            [
             0,
             "#8e0152"
            ],
            [
             0.1,
             "#c51b7d"
            ],
            [
             0.2,
             "#de77ae"
            ],
            [
             0.3,
             "#f1b6da"
            ],
            [
             0.4,
             "#fde0ef"
            ],
            [
             0.5,
             "#f7f7f7"
            ],
            [
             0.6,
             "#e6f5d0"
            ],
            [
             0.7,
             "#b8e186"
            ],
            [
             0.8,
             "#7fbc41"
            ],
            [
             0.9,
             "#4d9221"
            ],
            [
             1,
             "#276419"
            ]
           ],
           "sequential": [
            [
             0,
             "#0d0887"
            ],
            [
             0.1111111111111111,
             "#46039f"
            ],
            [
             0.2222222222222222,
             "#7201a8"
            ],
            [
             0.3333333333333333,
             "#9c179e"
            ],
            [
             0.4444444444444444,
             "#bd3786"
            ],
            [
             0.5555555555555556,
             "#d8576b"
            ],
            [
             0.6666666666666666,
             "#ed7953"
            ],
            [
             0.7777777777777778,
             "#fb9f3a"
            ],
            [
             0.8888888888888888,
             "#fdca26"
            ],
            [
             1,
             "#f0f921"
            ]
           ],
           "sequentialminus": [
            [
             0,
             "#0d0887"
            ],
            [
             0.1111111111111111,
             "#46039f"
            ],
            [
             0.2222222222222222,
             "#7201a8"
            ],
            [
             0.3333333333333333,
             "#9c179e"
            ],
            [
             0.4444444444444444,
             "#bd3786"
            ],
            [
             0.5555555555555556,
             "#d8576b"
            ],
            [
             0.6666666666666666,
             "#ed7953"
            ],
            [
             0.7777777777777778,
             "#fb9f3a"
            ],
            [
             0.8888888888888888,
             "#fdca26"
            ],
            [
             1,
             "#f0f921"
            ]
           ]
          },
          "colorway": [
           "#636efa",
           "#EF553B",
           "#00cc96",
           "#ab63fa",
           "#FFA15A",
           "#19d3f3",
           "#FF6692",
           "#B6E880",
           "#FF97FF",
           "#FECB52"
          ],
          "font": {
           "color": "#2a3f5f"
          },
          "geo": {
           "bgcolor": "white",
           "lakecolor": "white",
           "landcolor": "#E5ECF6",
           "showlakes": true,
           "showland": true,
           "subunitcolor": "white"
          },
          "hoverlabel": {
           "align": "left"
          },
          "hovermode": "closest",
          "mapbox": {
           "style": "light"
          },
          "paper_bgcolor": "white",
          "plot_bgcolor": "#E5ECF6",
          "polar": {
           "angularaxis": {
            "gridcolor": "white",
            "linecolor": "white",
            "ticks": ""
           },
           "bgcolor": "#E5ECF6",
           "radialaxis": {
            "gridcolor": "white",
            "linecolor": "white",
            "ticks": ""
           }
          },
          "scene": {
           "xaxis": {
            "backgroundcolor": "#E5ECF6",
            "gridcolor": "white",
            "gridwidth": 2,
            "linecolor": "white",
            "showbackground": true,
            "ticks": "",
            "zerolinecolor": "white"
           },
           "yaxis": {
            "backgroundcolor": "#E5ECF6",
            "gridcolor": "white",
            "gridwidth": 2,
            "linecolor": "white",
            "showbackground": true,
            "ticks": "",
            "zerolinecolor": "white"
           },
           "zaxis": {
            "backgroundcolor": "#E5ECF6",
            "gridcolor": "white",
            "gridwidth": 2,
            "linecolor": "white",
            "showbackground": true,
            "ticks": "",
            "zerolinecolor": "white"
           }
          },
          "shapedefaults": {
           "line": {
            "color": "#2a3f5f"
           }
          },
          "ternary": {
           "aaxis": {
            "gridcolor": "white",
            "linecolor": "white",
            "ticks": ""
           },
           "baxis": {
            "gridcolor": "white",
            "linecolor": "white",
            "ticks": ""
           },
           "bgcolor": "#E5ECF6",
           "caxis": {
            "gridcolor": "white",
            "linecolor": "white",
            "ticks": ""
           }
          },
          "title": {
           "x": 0.05
          },
          "xaxis": {
           "automargin": true,
           "gridcolor": "white",
           "linecolor": "white",
           "ticks": "",
           "title": {
            "standoff": 15
           },
           "zerolinecolor": "white",
           "zerolinewidth": 2
          },
          "yaxis": {
           "automargin": true,
           "gridcolor": "white",
           "linecolor": "white",
           "ticks": "",
           "title": {
            "standoff": 15
           },
           "zerolinecolor": "white",
           "zerolinewidth": 2
          }
         }
        },
        "xaxis": {
         "anchor": "y",
         "domain": [
          0,
          1
         ],
         "title": {
          "text": "Gender"
         }
        },
        "yaxis": {
         "anchor": "x",
         "domain": [
          0,
          1
         ],
         "title": {
          "text": "count"
         }
        }
       }
      },
      "text/html": [
       "<div>                            <div id=\"b5514038-cd22-4ee2-8e7b-e9ae39dd46e3\" class=\"plotly-graph-div\" style=\"height:525px; width:100%;\"></div>            <script type=\"text/javascript\">                require([\"plotly\"], function(Plotly) {                    window.PLOTLYENV=window.PLOTLYENV || {};                                    if (document.getElementById(\"b5514038-cd22-4ee2-8e7b-e9ae39dd46e3\")) {                    Plotly.newPlot(                        \"b5514038-cd22-4ee2-8e7b-e9ae39dd46e3\",                        [{\"alignmentgroup\":\"True\",\"bingroup\":\"x\",\"hovertemplate\":\"Gender=%{x}<br>count=%{y}<extra></extra>\",\"legendgroup\":\"\",\"marker\":{\"color\":\"#636efa\",\"pattern\":{\"shape\":\"\"}},\"name\":\"\",\"offsetgroup\":\"\",\"orientation\":\"v\",\"showlegend\":false,\"texttemplate\":\"%{value}\",\"x\":[\"Female\",\"Female\",\"Male\",\"Female\",\"Female\",\"Female\",\"Male\",\"Female\",\"Female\",\"Female\",\"Male\",\"Female\",\"Female\",\"Male\",\"Female\",\"Female\",\"Female\",\"Female\",\"Male\",\"Female\",\"Female\",\"Male\",\"Female\",\"Female\",\"Male\",\"Female\",\"Male\",\"Male\",\"Male\",\"Female\",\"Female\",\"Female\",\"Female\",\"Male\",\"Male\",\"Female\",\"Female\",\"Female\",\"Male\",\"Female\",\"Male\",\"Male\",\"Male\",\"Female\",\"Male\",\"Male\",\"Female\",\"Female\",\"Male\",\"Female\",\"Male\",\"Male\",\"Male\",\"Female\",\"Male\",\"Male\",\"Male\",\"Male\",\"Male\",\"Female\",\"Female\",\"Male\",\"Female\",\"Female\",\"Female\",\"Female\",\"Female\",\"Male\",\"Male\",\"Female\",\"Female\",\"Male\",\"Male\",\"Female\",\"Female\",\"Male\",\"Male\",\"Female\",\"Female\",\"Female\",\"Male\",\"Male\",\"Female\",\"Male\",\"Female\",\"Male\",\"Male\",\"Female\",\"Female\",\"Female\",\"Female\",\"Male\",\"Female\",\"Female\",\"Female\",\"Female\",\"Female\",\"Male\",\"Female\",\"Female\",\"Male\",\"Female\",\"Male\",\"Female\",\"Female\",\"Male\",\"Female\",\"Male\",\"Male\",\"Female\",\"Male\",\"Female\",\"Male\",\"Male\",\"Female\",\"Male\",\"Male\",\"Male\",\"Female\",\"Female\",\"Male\",\"Female\",\"Male\",\"Female\",\"Female\",\"Female\",\"Female\",\"Male\",\"Female\",\"Male\",\"Male\",\"Male\",\"Male\",\"Female\",\"Female\",\"Male\",\"Female\",\"Female\",\"Male\",\"Male\",\"Female\",\"Male\",\"Female\",\"Male\",\"Male\",\"Female\",\"Female\",\"Female\",\"Female\",\"Female\",\"Female\",\"Male\",\"Male\",\"Male\",\"Female\",\"Female\",\"Female\",\"Female\",\"Female\",\"Female\",\"Female\",\"Male\",\"Male\",\"Male\",\"Male\",\"Male\",\"Male\",\"Male\",\"Male\",\"Female\",\"Female\",\"Female\",\"Female\",\"Female\",\"Male\",\"Female\",\"Female\",\"Female\",\"Female\",\"Female\",\"Female\",\"Female\",\"Male\",\"Male\",\"Female\",\"Female\",\"Female\",\"Male\",\"Male\",\"Male\",\"Male\",\"Female\",\"Male\",\"Male\",\"Female\",\"Male\",\"Female\",\"Male\",\"Female\",\"Male\",\"Male\",\"Female\",\"Male\",\"Male\",\"Male\",\"Male\",\"Male\",\"Female\",\"Female\",\"Male\",\"Female\",\"Female\",\"Male\",\"Female\",\"Female\",\"Male\",\"Female\",\"Male\",\"Female\",\"Female\",\"Female\",\"Female\",\"Female\",\"Female\",\"Female\",\"Male\",\"Male\",\"Male\",\"Male\",\"Male\",\"Female\",\"Male\",\"Male\",\"Male\",\"Male\",\"Male\",\"Female\",\"Male\",\"Male\",\"Male\",\"Female\",\"Male\",\"Female\",\"Male\",\"Male\",\"Female\",\"Female\",\"Male\",\"Female\",\"Female\",\"Male\",\"Female\",\"Female\",\"Female\",\"Male\",\"Female\",\"Male\",\"Female\",\"Female\",\"Female\",\"Female\",\"Male\",\"Male\",\"Female\",\"Male\",\"Female\",\"Male\",\"Female\",\"Male\",\"Female\",\"Male\",\"Female\",\"Female\",\"Female\",\"Female\",\"Female\",\"Female\",\"Male\",\"Female\",\"Male\",\"Male\",\"Male\",\"Female\",\"Male\",\"Male\",\"Male\",\"Female\",\"Female\",\"Male\",\"Female\",\"Female\",\"Female\",\"Female\",\"Male\",\"Female\",\"Female\",\"Male\",\"Female\",\"Female\",\"Female\",\"Female\",\"Male\",\"Female\",\"Male\",\"Female\",\"Male\",\"Female\",\"Male\",\"Female\",\"Male\",\"Male\",\"Male\",\"Female\",\"Female\",\"Male\",\"Male\",\"Female\",\"Male\",\"Female\",\"Female\",\"Female\",\"Female\",\"Female\",\"Female\",\"Female\",\"Female\",\"Female\",\"Female\",\"Male\",\"Female\",\"Female\",\"Male\",\"Female\",\"Female\",\"Male\",\"Male\",\"Female\",\"Male\",\"Male\",\"Female\",\"Male\",\"Male\",\"Male\",\"Female\",\"Male\",\"Female\",\"Female\",\"Male\",\"Female\",\"Male\",\"Female\",\"Female\",\"Female\",\"Male\",\"Female\",\"Male\",\"Male\",\"Male\",\"Female\",\"Female\",\"Male\",\"Male\",\"Male\",\"Male\",\"Female\",\"Male\",\"Male\",\"Female\",\"Male\",\"Male\",\"Male\",\"Female\",\"Male\",\"Male\",\"Female\",\"Male\",\"Male\",\"Male\",\"Female\",\"Female\",\"Female\",\"Female\",\"Female\",\"Male\",\"Female\",\"Female\",\"Male\",\"Male\",\"Male\",\"Female\",\"Male\",\"Female\",\"Male\",\"Female\",\"Female\",\"Female\",\"Female\",\"Female\",\"Male\",\"Male\",\"Male\",\"Female\",\"Male\",\"Male\",\"Male\",\"Female\",\"Female\",\"Female\",\"Male\",\"Male\",\"Male\",\"Female\",\"Female\",\"Male\",\"Male\",\"Male\",\"Female\",\"Male\",\"Female\",\"Female\",\"Female\",\"Female\",\"Female\",\"Male\",\"Female\",\"Male\",\"Male\",\"Female\",\"Female\",\"Female\",\"Female\",\"Female\",\"Male\",\"Female\",\"Female\",\"Female\",\"Female\",\"Male\",\"Female\",\"Male\",\"Male\",\"Female\",\"Male\",\"Female\",\"Male\",\"Female\",\"Male\",\"Male\",\"Female\",\"Female\",\"Male\",\"Male\",\"Female\",\"Female\",\"Female\",\"Male\",\"Female\",\"Female\",\"Female\",\"Female\",\"Female\",\"Female\",\"Female\",\"Female\",\"Male\",\"Female\",\"Male\",\"Female\",\"Male\",\"Male\",\"Female\",\"Male\",\"Male\",\"Female\",\"Male\",\"Female\",\"Female\",\"Female\",\"Female\",\"Male\",\"Male\",\"Female\",\"Female\",\"Male\",\"Female\",\"Female\",\"Male\",\"Female\",\"Male\",\"Female\",\"Female\",\"Male\",\"Female\",\"Female\",\"Female\",\"Female\",\"Male\",\"Male\",\"Male\",\"Female\"],\"xaxis\":\"x\",\"yaxis\":\"y\",\"type\":\"histogram\"}],                        {\"template\":{\"data\":{\"bar\":[{\"error_x\":{\"color\":\"#2a3f5f\"},\"error_y\":{\"color\":\"#2a3f5f\"},\"marker\":{\"line\":{\"color\":\"#E5ECF6\",\"width\":0.5},\"pattern\":{\"fillmode\":\"overlay\",\"size\":10,\"solidity\":0.2}},\"type\":\"bar\"}],\"barpolar\":[{\"marker\":{\"line\":{\"color\":\"#E5ECF6\",\"width\":0.5},\"pattern\":{\"fillmode\":\"overlay\",\"size\":10,\"solidity\":0.2}},\"type\":\"barpolar\"}],\"carpet\":[{\"aaxis\":{\"endlinecolor\":\"#2a3f5f\",\"gridcolor\":\"white\",\"linecolor\":\"white\",\"minorgridcolor\":\"white\",\"startlinecolor\":\"#2a3f5f\"},\"baxis\":{\"endlinecolor\":\"#2a3f5f\",\"gridcolor\":\"white\",\"linecolor\":\"white\",\"minorgridcolor\":\"white\",\"startlinecolor\":\"#2a3f5f\"},\"type\":\"carpet\"}],\"choropleth\":[{\"colorbar\":{\"outlinewidth\":0,\"ticks\":\"\"},\"type\":\"choropleth\"}],\"contour\":[{\"colorbar\":{\"outlinewidth\":0,\"ticks\":\"\"},\"colorscale\":[[0.0,\"#0d0887\"],[0.1111111111111111,\"#46039f\"],[0.2222222222222222,\"#7201a8\"],[0.3333333333333333,\"#9c179e\"],[0.4444444444444444,\"#bd3786\"],[0.5555555555555556,\"#d8576b\"],[0.6666666666666666,\"#ed7953\"],[0.7777777777777778,\"#fb9f3a\"],[0.8888888888888888,\"#fdca26\"],[1.0,\"#f0f921\"]],\"type\":\"contour\"}],\"contourcarpet\":[{\"colorbar\":{\"outlinewidth\":0,\"ticks\":\"\"},\"type\":\"contourcarpet\"}],\"heatmap\":[{\"colorbar\":{\"outlinewidth\":0,\"ticks\":\"\"},\"colorscale\":[[0.0,\"#0d0887\"],[0.1111111111111111,\"#46039f\"],[0.2222222222222222,\"#7201a8\"],[0.3333333333333333,\"#9c179e\"],[0.4444444444444444,\"#bd3786\"],[0.5555555555555556,\"#d8576b\"],[0.6666666666666666,\"#ed7953\"],[0.7777777777777778,\"#fb9f3a\"],[0.8888888888888888,\"#fdca26\"],[1.0,\"#f0f921\"]],\"type\":\"heatmap\"}],\"heatmapgl\":[{\"colorbar\":{\"outlinewidth\":0,\"ticks\":\"\"},\"colorscale\":[[0.0,\"#0d0887\"],[0.1111111111111111,\"#46039f\"],[0.2222222222222222,\"#7201a8\"],[0.3333333333333333,\"#9c179e\"],[0.4444444444444444,\"#bd3786\"],[0.5555555555555556,\"#d8576b\"],[0.6666666666666666,\"#ed7953\"],[0.7777777777777778,\"#fb9f3a\"],[0.8888888888888888,\"#fdca26\"],[1.0,\"#f0f921\"]],\"type\":\"heatmapgl\"}],\"histogram\":[{\"marker\":{\"pattern\":{\"fillmode\":\"overlay\",\"size\":10,\"solidity\":0.2}},\"type\":\"histogram\"}],\"histogram2d\":[{\"colorbar\":{\"outlinewidth\":0,\"ticks\":\"\"},\"colorscale\":[[0.0,\"#0d0887\"],[0.1111111111111111,\"#46039f\"],[0.2222222222222222,\"#7201a8\"],[0.3333333333333333,\"#9c179e\"],[0.4444444444444444,\"#bd3786\"],[0.5555555555555556,\"#d8576b\"],[0.6666666666666666,\"#ed7953\"],[0.7777777777777778,\"#fb9f3a\"],[0.8888888888888888,\"#fdca26\"],[1.0,\"#f0f921\"]],\"type\":\"histogram2d\"}],\"histogram2dcontour\":[{\"colorbar\":{\"outlinewidth\":0,\"ticks\":\"\"},\"colorscale\":[[0.0,\"#0d0887\"],[0.1111111111111111,\"#46039f\"],[0.2222222222222222,\"#7201a8\"],[0.3333333333333333,\"#9c179e\"],[0.4444444444444444,\"#bd3786\"],[0.5555555555555556,\"#d8576b\"],[0.6666666666666666,\"#ed7953\"],[0.7777777777777778,\"#fb9f3a\"],[0.8888888888888888,\"#fdca26\"],[1.0,\"#f0f921\"]],\"type\":\"histogram2dcontour\"}],\"mesh3d\":[{\"colorbar\":{\"outlinewidth\":0,\"ticks\":\"\"},\"type\":\"mesh3d\"}],\"parcoords\":[{\"line\":{\"colorbar\":{\"outlinewidth\":0,\"ticks\":\"\"}},\"type\":\"parcoords\"}],\"pie\":[{\"automargin\":true,\"type\":\"pie\"}],\"scatter\":[{\"marker\":{\"colorbar\":{\"outlinewidth\":0,\"ticks\":\"\"}},\"type\":\"scatter\"}],\"scatter3d\":[{\"line\":{\"colorbar\":{\"outlinewidth\":0,\"ticks\":\"\"}},\"marker\":{\"colorbar\":{\"outlinewidth\":0,\"ticks\":\"\"}},\"type\":\"scatter3d\"}],\"scattercarpet\":[{\"marker\":{\"colorbar\":{\"outlinewidth\":0,\"ticks\":\"\"}},\"type\":\"scattercarpet\"}],\"scattergeo\":[{\"marker\":{\"colorbar\":{\"outlinewidth\":0,\"ticks\":\"\"}},\"type\":\"scattergeo\"}],\"scattergl\":[{\"marker\":{\"colorbar\":{\"outlinewidth\":0,\"ticks\":\"\"}},\"type\":\"scattergl\"}],\"scattermapbox\":[{\"marker\":{\"colorbar\":{\"outlinewidth\":0,\"ticks\":\"\"}},\"type\":\"scattermapbox\"}],\"scatterpolar\":[{\"marker\":{\"colorbar\":{\"outlinewidth\":0,\"ticks\":\"\"}},\"type\":\"scatterpolar\"}],\"scatterpolargl\":[{\"marker\":{\"colorbar\":{\"outlinewidth\":0,\"ticks\":\"\"}},\"type\":\"scatterpolargl\"}],\"scatterternary\":[{\"marker\":{\"colorbar\":{\"outlinewidth\":0,\"ticks\":\"\"}},\"type\":\"scatterternary\"}],\"surface\":[{\"colorbar\":{\"outlinewidth\":0,\"ticks\":\"\"},\"colorscale\":[[0.0,\"#0d0887\"],[0.1111111111111111,\"#46039f\"],[0.2222222222222222,\"#7201a8\"],[0.3333333333333333,\"#9c179e\"],[0.4444444444444444,\"#bd3786\"],[0.5555555555555556,\"#d8576b\"],[0.6666666666666666,\"#ed7953\"],[0.7777777777777778,\"#fb9f3a\"],[0.8888888888888888,\"#fdca26\"],[1.0,\"#f0f921\"]],\"type\":\"surface\"}],\"table\":[{\"cells\":{\"fill\":{\"color\":\"#EBF0F8\"},\"line\":{\"color\":\"white\"}},\"header\":{\"fill\":{\"color\":\"#C8D4E3\"},\"line\":{\"color\":\"white\"}},\"type\":\"table\"}]},\"layout\":{\"annotationdefaults\":{\"arrowcolor\":\"#2a3f5f\",\"arrowhead\":0,\"arrowwidth\":1},\"autotypenumbers\":\"strict\",\"coloraxis\":{\"colorbar\":{\"outlinewidth\":0,\"ticks\":\"\"}},\"colorscale\":{\"diverging\":[[0,\"#8e0152\"],[0.1,\"#c51b7d\"],[0.2,\"#de77ae\"],[0.3,\"#f1b6da\"],[0.4,\"#fde0ef\"],[0.5,\"#f7f7f7\"],[0.6,\"#e6f5d0\"],[0.7,\"#b8e186\"],[0.8,\"#7fbc41\"],[0.9,\"#4d9221\"],[1,\"#276419\"]],\"sequential\":[[0.0,\"#0d0887\"],[0.1111111111111111,\"#46039f\"],[0.2222222222222222,\"#7201a8\"],[0.3333333333333333,\"#9c179e\"],[0.4444444444444444,\"#bd3786\"],[0.5555555555555556,\"#d8576b\"],[0.6666666666666666,\"#ed7953\"],[0.7777777777777778,\"#fb9f3a\"],[0.8888888888888888,\"#fdca26\"],[1.0,\"#f0f921\"]],\"sequentialminus\":[[0.0,\"#0d0887\"],[0.1111111111111111,\"#46039f\"],[0.2222222222222222,\"#7201a8\"],[0.3333333333333333,\"#9c179e\"],[0.4444444444444444,\"#bd3786\"],[0.5555555555555556,\"#d8576b\"],[0.6666666666666666,\"#ed7953\"],[0.7777777777777778,\"#fb9f3a\"],[0.8888888888888888,\"#fdca26\"],[1.0,\"#f0f921\"]]},\"colorway\":[\"#636efa\",\"#EF553B\",\"#00cc96\",\"#ab63fa\",\"#FFA15A\",\"#19d3f3\",\"#FF6692\",\"#B6E880\",\"#FF97FF\",\"#FECB52\"],\"font\":{\"color\":\"#2a3f5f\"},\"geo\":{\"bgcolor\":\"white\",\"lakecolor\":\"white\",\"landcolor\":\"#E5ECF6\",\"showlakes\":true,\"showland\":true,\"subunitcolor\":\"white\"},\"hoverlabel\":{\"align\":\"left\"},\"hovermode\":\"closest\",\"mapbox\":{\"style\":\"light\"},\"paper_bgcolor\":\"white\",\"plot_bgcolor\":\"#E5ECF6\",\"polar\":{\"angularaxis\":{\"gridcolor\":\"white\",\"linecolor\":\"white\",\"ticks\":\"\"},\"bgcolor\":\"#E5ECF6\",\"radialaxis\":{\"gridcolor\":\"white\",\"linecolor\":\"white\",\"ticks\":\"\"}},\"scene\":{\"xaxis\":{\"backgroundcolor\":\"#E5ECF6\",\"gridcolor\":\"white\",\"gridwidth\":2,\"linecolor\":\"white\",\"showbackground\":true,\"ticks\":\"\",\"zerolinecolor\":\"white\"},\"yaxis\":{\"backgroundcolor\":\"#E5ECF6\",\"gridcolor\":\"white\",\"gridwidth\":2,\"linecolor\":\"white\",\"showbackground\":true,\"ticks\":\"\",\"zerolinecolor\":\"white\"},\"zaxis\":{\"backgroundcolor\":\"#E5ECF6\",\"gridcolor\":\"white\",\"gridwidth\":2,\"linecolor\":\"white\",\"showbackground\":true,\"ticks\":\"\",\"zerolinecolor\":\"white\"}},\"shapedefaults\":{\"line\":{\"color\":\"#2a3f5f\"}},\"ternary\":{\"aaxis\":{\"gridcolor\":\"white\",\"linecolor\":\"white\",\"ticks\":\"\"},\"baxis\":{\"gridcolor\":\"white\",\"linecolor\":\"white\",\"ticks\":\"\"},\"bgcolor\":\"#E5ECF6\",\"caxis\":{\"gridcolor\":\"white\",\"linecolor\":\"white\",\"ticks\":\"\"}},\"title\":{\"x\":0.05},\"xaxis\":{\"automargin\":true,\"gridcolor\":\"white\",\"linecolor\":\"white\",\"ticks\":\"\",\"title\":{\"standoff\":15},\"zerolinecolor\":\"white\",\"zerolinewidth\":2},\"yaxis\":{\"automargin\":true,\"gridcolor\":\"white\",\"linecolor\":\"white\",\"ticks\":\"\",\"title\":{\"standoff\":15},\"zerolinecolor\":\"white\",\"zerolinewidth\":2}}},\"xaxis\":{\"anchor\":\"y\",\"domain\":[0.0,1.0],\"title\":{\"text\":\"Gender\"}},\"yaxis\":{\"anchor\":\"x\",\"domain\":[0.0,1.0],\"title\":{\"text\":\"count\"}},\"legend\":{\"tracegroupgap\":0},\"margin\":{\"t\":60},\"barmode\":\"relative\"},                        {\"responsive\": true}                    ).then(function(){\n",
       "                            \n",
       "var gd = document.getElementById('b5514038-cd22-4ee2-8e7b-e9ae39dd46e3');\n",
       "var x = new MutationObserver(function (mutations, observer) {{\n",
       "        var display = window.getComputedStyle(gd).display;\n",
       "        if (!display || display === 'none') {{\n",
       "            console.log([gd, 'removed!']);\n",
       "            Plotly.purge(gd);\n",
       "            observer.disconnect();\n",
       "        }}\n",
       "}});\n",
       "\n",
       "// Listen for the removal of the full notebook cells\n",
       "var notebookContainer = gd.closest('#notebook-container');\n",
       "if (notebookContainer) {{\n",
       "    x.observe(notebookContainer, {childList: true});\n",
       "}}\n",
       "\n",
       "// Listen for the clearing of the current output cell\n",
       "var outputEl = gd.closest('.output');\n",
       "if (outputEl) {{\n",
       "    x.observe(outputEl, {childList: true});\n",
       "}}\n",
       "\n",
       "                        })                };                });            </script>        </div>"
      ]
     },
     "metadata": {},
     "output_type": "display_data"
    }
   ],
   "source": [
    "fig = px.histogram(df_viz, x='Gender', text_auto=True)\n",
    "fig.show()"
   ]
  },
  {
   "cell_type": "markdown",
   "metadata": {},
   "source": [
    "### Gender percentages "
   ]
  },
  {
   "cell_type": "code",
   "execution_count": 27,
   "metadata": {},
   "outputs": [
    {
     "data": {
      "text/plain": [
       "Female    55.4\n",
       "Male      44.6\n",
       "Name: Gender, dtype: float64"
      ]
     },
     "execution_count": 27,
     "metadata": {},
     "output_type": "execute_result"
    }
   ],
   "source": [
    "df_viz.Gender.value_counts(normalize=True)*100"
   ]
  },
  {
   "cell_type": "code",
   "execution_count": 28,
   "metadata": {},
   "outputs": [
    {
     "data": {
      "text/plain": [
       "Female    277\n",
       "Male      223\n",
       "Name: Gender, dtype: int64"
      ]
     },
     "execution_count": 28,
     "metadata": {},
     "output_type": "execute_result"
    }
   ],
   "source": [
    "df_viz.Gender.value_counts()"
   ]
  },
  {
   "cell_type": "code",
   "execution_count": 29,
   "metadata": {},
   "outputs": [
    {
     "data": {
      "application/vnd.plotly.v1+json": {
       "config": {
        "plotlyServerURL": "https://plot.ly"
       },
       "data": [
        {
         "alignmentgroup": "True",
         "bingroup": "x",
         "hovertemplate": "AgeGroup=%{x}<br>count=%{y}<extra></extra>",
         "legendgroup": "",
         "marker": {
          "color": "#636efa",
          "pattern": {
           "shape": ""
          }
         },
         "name": "",
         "offsetgroup": "",
         "orientation": "v",
         "showlegend": false,
         "type": "histogram",
         "x": [
          "46-55",
          "46-55",
          "31-45",
          "46-55",
          "25-30",
          "56+",
          "46-55",
          "25-30",
          "46-55",
          "46-55",
          "31-45",
          "31-45",
          "25-30",
          "31-45",
          "25-30",
          "31-45",
          "25-30",
          "25-30",
          "56+",
          "56+",
          "25-30",
          "18-24",
          "31-45",
          "18-24",
          "25-30",
          "25-30",
          "31-45",
          "25-30",
          "56+",
          "18-24",
          "18-24",
          "46-55",
          "25-30",
          "31-45",
          "18-24",
          "18-24",
          "18-24",
          "25-30",
          "46-55",
          "46-55",
          "18-24",
          "31-45",
          "56+",
          "56+",
          "18-24",
          "31-45",
          "18-24",
          "31-45",
          "46-55",
          "56+",
          "46-55",
          "25-30",
          "25-30",
          "56+",
          "18-24",
          "18-24",
          "25-30",
          "25-30",
          "56+",
          "25-30",
          "56+",
          "31-45",
          "46-55",
          "31-45",
          "18-24",
          "18-24",
          "56+",
          "56+",
          "25-30",
          "18-24",
          "46-55",
          "18-24",
          "18-24",
          "31-45",
          "56+",
          "31-45",
          "25-30",
          "25-30",
          "25-30",
          "18-24",
          "56+",
          "31-45",
          "25-30",
          "46-55",
          "46-55",
          "18-24",
          "18-24",
          "56+",
          "56+",
          "56+",
          "18-24",
          "56+",
          "31-45",
          "56+",
          "46-55",
          "56+",
          "18-24",
          "25-30",
          "46-55",
          "56+",
          "31-45",
          "31-45",
          "46-55",
          "18-24",
          "46-55",
          "56+",
          "56+",
          "46-55",
          "18-24",
          "31-45",
          "31-45",
          "31-45",
          "18-24",
          "18-24",
          "18-24",
          "56+",
          "25-30",
          "46-55",
          "31-45",
          "31-45",
          "18-24",
          "18-24",
          "25-30",
          "25-30",
          "56+",
          "18-24",
          "18-24",
          "56+",
          "18-24",
          "46-55",
          "31-45",
          "46-55",
          "56+",
          "56+",
          "25-30",
          "18-24",
          "31-45",
          "25-30",
          "56+",
          "46-55",
          "25-30",
          "46-55",
          "56+",
          "18-24",
          "56+",
          "25-30",
          "25-30",
          "25-30",
          "31-45",
          "56+",
          "18-24",
          "56+",
          "31-45",
          "18-24",
          "46-55",
          "18-24",
          "25-30",
          "25-30",
          "46-55",
          "31-45",
          "25-30",
          "25-30",
          "31-45",
          "46-55",
          "31-45",
          "25-30",
          "25-30",
          "18-24",
          "31-45",
          "25-30",
          "18-24",
          "31-45",
          "31-45",
          "56+",
          "31-45",
          "18-24",
          "25-30",
          "18-24",
          "31-45",
          "25-30",
          "56+",
          "25-30",
          "31-45",
          "56+",
          "46-55",
          "25-30",
          "31-45",
          "31-45",
          "18-24",
          "46-55",
          "56+",
          "56+",
          "56+",
          "56+",
          "25-30",
          "56+",
          "56+",
          "56+",
          "18-24",
          "56+",
          "31-45",
          "18-24",
          "46-55",
          "56+",
          "31-45",
          "25-30",
          "31-45",
          "46-55",
          "18-24",
          "46-55",
          "25-30",
          "46-55",
          "46-55",
          "56+",
          "25-30",
          "56+",
          "25-30",
          "56+",
          "56+",
          "25-30",
          "25-30",
          "46-55",
          "31-45",
          "46-55",
          "56+",
          "25-30",
          "18-24",
          "56+",
          "31-45",
          "46-55",
          "46-55",
          "56+",
          "25-30",
          "25-30",
          "25-30",
          "25-30",
          "25-30",
          "18-24",
          "18-24",
          "46-55",
          "46-55",
          "18-24",
          "46-55",
          "56+",
          "46-55",
          "31-45",
          "46-55",
          "18-24",
          "56+",
          "25-30",
          "25-30",
          "25-30",
          "18-24",
          "46-55",
          "25-30",
          "25-30",
          "18-24",
          "31-45",
          "31-45",
          "18-24",
          "31-45",
          "31-45",
          "31-45",
          "18-24",
          "56+",
          "31-45",
          "18-24",
          "18-24",
          "31-45",
          "25-30",
          "25-30",
          "46-55",
          "31-45",
          "56+",
          "31-45",
          "56+",
          "25-30",
          "56+",
          "46-55",
          "18-24",
          "56+",
          "31-45",
          "56+",
          "46-55",
          "18-24",
          "46-55",
          "46-55",
          "56+",
          "25-30",
          "18-24",
          "46-55",
          "46-55",
          "18-24",
          "25-30",
          "25-30",
          "56+",
          "56+",
          "31-45",
          "46-55",
          "56+",
          "31-45",
          "31-45",
          "18-24",
          "46-55",
          "25-30",
          "46-55",
          "56+",
          "56+",
          "56+",
          "25-30",
          "31-45",
          "31-45",
          "46-55",
          "31-45",
          "46-55",
          "56+",
          "46-55",
          "31-45",
          "25-30",
          "56+",
          "56+",
          "18-24",
          "31-45",
          "25-30",
          "56+",
          "25-30",
          "56+",
          "18-24",
          "18-24",
          "56+",
          "46-55",
          "56+",
          "18-24",
          "18-24",
          "56+",
          "56+",
          "46-55",
          "56+",
          "31-45",
          "25-30",
          "46-55",
          "56+",
          "46-55",
          "18-24",
          "18-24",
          "46-55",
          "46-55",
          "56+",
          "18-24",
          "18-24",
          "46-55",
          "25-30",
          "46-55",
          "25-30",
          "56+",
          "25-30",
          "56+",
          "46-55",
          "25-30",
          "18-24",
          "18-24",
          "31-45",
          "31-45",
          "56+",
          "18-24",
          "18-24",
          "31-45",
          "46-55",
          "25-30",
          "56+",
          "56+",
          "46-55",
          "31-45",
          "31-45",
          "56+",
          "56+",
          "46-55",
          "46-55",
          "25-30",
          "25-30",
          "31-45",
          "25-30",
          "56+",
          "46-55",
          "46-55",
          "31-45",
          "56+",
          "31-45",
          "25-30",
          "31-45",
          "31-45",
          "25-30",
          "31-45",
          "56+",
          "31-45",
          "31-45",
          "25-30",
          "46-55",
          "25-30",
          "18-24",
          "31-45",
          "25-30",
          "18-24",
          "25-30",
          "56+",
          "18-24",
          "46-55",
          "31-45",
          "18-24",
          "25-30",
          "25-30",
          "46-55",
          "56+",
          "25-30",
          "18-24",
          "56+",
          "25-30",
          "46-55",
          "18-24",
          "46-55",
          "25-30",
          "31-45",
          "46-55",
          "46-55",
          "31-45",
          "25-30",
          "31-45",
          "56+",
          "56+",
          "18-24",
          "18-24",
          "56+",
          "46-55",
          "25-30",
          "56+",
          "25-30",
          "25-30",
          "18-24",
          "56+",
          "56+",
          "56+",
          "18-24",
          "46-55",
          "31-45",
          "31-45",
          "56+",
          "46-55",
          "18-24",
          "31-45",
          "56+",
          "46-55",
          "46-55",
          "25-30",
          "46-55",
          "46-55",
          "18-24",
          "56+",
          "56+",
          "31-45",
          "46-55",
          "31-45",
          "31-45",
          "56+",
          "56+",
          "25-30",
          "46-55",
          "25-30",
          "25-30",
          "56+",
          "25-30",
          "56+",
          "25-30",
          "18-24",
          "56+",
          "25-30",
          "18-24",
          "31-45",
          "46-55",
          "46-55",
          "18-24",
          "31-45",
          "25-30",
          "46-55",
          "56+",
          "46-55",
          "31-45",
          "18-24",
          "18-24",
          "46-55",
          "31-45",
          "46-55",
          "31-45",
          "46-55",
          "46-55",
          "56+",
          "31-45",
          "18-24",
          "18-24",
          "46-55",
          "31-45"
         ],
         "xaxis": "x",
         "yaxis": "y"
        }
       ],
       "layout": {
        "barmode": "relative",
        "legend": {
         "tracegroupgap": 0
        },
        "margin": {
         "t": 60
        },
        "template": {
         "data": {
          "bar": [
           {
            "error_x": {
             "color": "#2a3f5f"
            },
            "error_y": {
             "color": "#2a3f5f"
            },
            "marker": {
             "line": {
              "color": "#E5ECF6",
              "width": 0.5
             },
             "pattern": {
              "fillmode": "overlay",
              "size": 10,
              "solidity": 0.2
             }
            },
            "type": "bar"
           }
          ],
          "barpolar": [
           {
            "marker": {
             "line": {
              "color": "#E5ECF6",
              "width": 0.5
             },
             "pattern": {
              "fillmode": "overlay",
              "size": 10,
              "solidity": 0.2
             }
            },
            "type": "barpolar"
           }
          ],
          "carpet": [
           {
            "aaxis": {
             "endlinecolor": "#2a3f5f",
             "gridcolor": "white",
             "linecolor": "white",
             "minorgridcolor": "white",
             "startlinecolor": "#2a3f5f"
            },
            "baxis": {
             "endlinecolor": "#2a3f5f",
             "gridcolor": "white",
             "linecolor": "white",
             "minorgridcolor": "white",
             "startlinecolor": "#2a3f5f"
            },
            "type": "carpet"
           }
          ],
          "choropleth": [
           {
            "colorbar": {
             "outlinewidth": 0,
             "ticks": ""
            },
            "type": "choropleth"
           }
          ],
          "contour": [
           {
            "colorbar": {
             "outlinewidth": 0,
             "ticks": ""
            },
            "colorscale": [
             [
              0,
              "#0d0887"
             ],
             [
              0.1111111111111111,
              "#46039f"
             ],
             [
              0.2222222222222222,
              "#7201a8"
             ],
             [
              0.3333333333333333,
              "#9c179e"
             ],
             [
              0.4444444444444444,
              "#bd3786"
             ],
             [
              0.5555555555555556,
              "#d8576b"
             ],
             [
              0.6666666666666666,
              "#ed7953"
             ],
             [
              0.7777777777777778,
              "#fb9f3a"
             ],
             [
              0.8888888888888888,
              "#fdca26"
             ],
             [
              1,
              "#f0f921"
             ]
            ],
            "type": "contour"
           }
          ],
          "contourcarpet": [
           {
            "colorbar": {
             "outlinewidth": 0,
             "ticks": ""
            },
            "type": "contourcarpet"
           }
          ],
          "heatmap": [
           {
            "colorbar": {
             "outlinewidth": 0,
             "ticks": ""
            },
            "colorscale": [
             [
              0,
              "#0d0887"
             ],
             [
              0.1111111111111111,
              "#46039f"
             ],
             [
              0.2222222222222222,
              "#7201a8"
             ],
             [
              0.3333333333333333,
              "#9c179e"
             ],
             [
              0.4444444444444444,
              "#bd3786"
             ],
             [
              0.5555555555555556,
              "#d8576b"
             ],
             [
              0.6666666666666666,
              "#ed7953"
             ],
             [
              0.7777777777777778,
              "#fb9f3a"
             ],
             [
              0.8888888888888888,
              "#fdca26"
             ],
             [
              1,
              "#f0f921"
             ]
            ],
            "type": "heatmap"
           }
          ],
          "heatmapgl": [
           {
            "colorbar": {
             "outlinewidth": 0,
             "ticks": ""
            },
            "colorscale": [
             [
              0,
              "#0d0887"
             ],
             [
              0.1111111111111111,
              "#46039f"
             ],
             [
              0.2222222222222222,
              "#7201a8"
             ],
             [
              0.3333333333333333,
              "#9c179e"
             ],
             [
              0.4444444444444444,
              "#bd3786"
             ],
             [
              0.5555555555555556,
              "#d8576b"
             ],
             [
              0.6666666666666666,
              "#ed7953"
             ],
             [
              0.7777777777777778,
              "#fb9f3a"
             ],
             [
              0.8888888888888888,
              "#fdca26"
             ],
             [
              1,
              "#f0f921"
             ]
            ],
            "type": "heatmapgl"
           }
          ],
          "histogram": [
           {
            "marker": {
             "pattern": {
              "fillmode": "overlay",
              "size": 10,
              "solidity": 0.2
             }
            },
            "type": "histogram"
           }
          ],
          "histogram2d": [
           {
            "colorbar": {
             "outlinewidth": 0,
             "ticks": ""
            },
            "colorscale": [
             [
              0,
              "#0d0887"
             ],
             [
              0.1111111111111111,
              "#46039f"
             ],
             [
              0.2222222222222222,
              "#7201a8"
             ],
             [
              0.3333333333333333,
              "#9c179e"
             ],
             [
              0.4444444444444444,
              "#bd3786"
             ],
             [
              0.5555555555555556,
              "#d8576b"
             ],
             [
              0.6666666666666666,
              "#ed7953"
             ],
             [
              0.7777777777777778,
              "#fb9f3a"
             ],
             [
              0.8888888888888888,
              "#fdca26"
             ],
             [
              1,
              "#f0f921"
             ]
            ],
            "type": "histogram2d"
           }
          ],
          "histogram2dcontour": [
           {
            "colorbar": {
             "outlinewidth": 0,
             "ticks": ""
            },
            "colorscale": [
             [
              0,
              "#0d0887"
             ],
             [
              0.1111111111111111,
              "#46039f"
             ],
             [
              0.2222222222222222,
              "#7201a8"
             ],
             [
              0.3333333333333333,
              "#9c179e"
             ],
             [
              0.4444444444444444,
              "#bd3786"
             ],
             [
              0.5555555555555556,
              "#d8576b"
             ],
             [
              0.6666666666666666,
              "#ed7953"
             ],
             [
              0.7777777777777778,
              "#fb9f3a"
             ],
             [
              0.8888888888888888,
              "#fdca26"
             ],
             [
              1,
              "#f0f921"
             ]
            ],
            "type": "histogram2dcontour"
           }
          ],
          "mesh3d": [
           {
            "colorbar": {
             "outlinewidth": 0,
             "ticks": ""
            },
            "type": "mesh3d"
           }
          ],
          "parcoords": [
           {
            "line": {
             "colorbar": {
              "outlinewidth": 0,
              "ticks": ""
             }
            },
            "type": "parcoords"
           }
          ],
          "pie": [
           {
            "automargin": true,
            "type": "pie"
           }
          ],
          "scatter": [
           {
            "marker": {
             "colorbar": {
              "outlinewidth": 0,
              "ticks": ""
             }
            },
            "type": "scatter"
           }
          ],
          "scatter3d": [
           {
            "line": {
             "colorbar": {
              "outlinewidth": 0,
              "ticks": ""
             }
            },
            "marker": {
             "colorbar": {
              "outlinewidth": 0,
              "ticks": ""
             }
            },
            "type": "scatter3d"
           }
          ],
          "scattercarpet": [
           {
            "marker": {
             "colorbar": {
              "outlinewidth": 0,
              "ticks": ""
             }
            },
            "type": "scattercarpet"
           }
          ],
          "scattergeo": [
           {
            "marker": {
             "colorbar": {
              "outlinewidth": 0,
              "ticks": ""
             }
            },
            "type": "scattergeo"
           }
          ],
          "scattergl": [
           {
            "marker": {
             "colorbar": {
              "outlinewidth": 0,
              "ticks": ""
             }
            },
            "type": "scattergl"
           }
          ],
          "scattermapbox": [
           {
            "marker": {
             "colorbar": {
              "outlinewidth": 0,
              "ticks": ""
             }
            },
            "type": "scattermapbox"
           }
          ],
          "scatterpolar": [
           {
            "marker": {
             "colorbar": {
              "outlinewidth": 0,
              "ticks": ""
             }
            },
            "type": "scatterpolar"
           }
          ],
          "scatterpolargl": [
           {
            "marker": {
             "colorbar": {
              "outlinewidth": 0,
              "ticks": ""
             }
            },
            "type": "scatterpolargl"
           }
          ],
          "scatterternary": [
           {
            "marker": {
             "colorbar": {
              "outlinewidth": 0,
              "ticks": ""
             }
            },
            "type": "scatterternary"
           }
          ],
          "surface": [
           {
            "colorbar": {
             "outlinewidth": 0,
             "ticks": ""
            },
            "colorscale": [
             [
              0,
              "#0d0887"
             ],
             [
              0.1111111111111111,
              "#46039f"
             ],
             [
              0.2222222222222222,
              "#7201a8"
             ],
             [
              0.3333333333333333,
              "#9c179e"
             ],
             [
              0.4444444444444444,
              "#bd3786"
             ],
             [
              0.5555555555555556,
              "#d8576b"
             ],
             [
              0.6666666666666666,
              "#ed7953"
             ],
             [
              0.7777777777777778,
              "#fb9f3a"
             ],
             [
              0.8888888888888888,
              "#fdca26"
             ],
             [
              1,
              "#f0f921"
             ]
            ],
            "type": "surface"
           }
          ],
          "table": [
           {
            "cells": {
             "fill": {
              "color": "#EBF0F8"
             },
             "line": {
              "color": "white"
             }
            },
            "header": {
             "fill": {
              "color": "#C8D4E3"
             },
             "line": {
              "color": "white"
             }
            },
            "type": "table"
           }
          ]
         },
         "layout": {
          "annotationdefaults": {
           "arrowcolor": "#2a3f5f",
           "arrowhead": 0,
           "arrowwidth": 1
          },
          "autotypenumbers": "strict",
          "coloraxis": {
           "colorbar": {
            "outlinewidth": 0,
            "ticks": ""
           }
          },
          "colorscale": {
           "diverging": [
            [
             0,
             "#8e0152"
            ],
            [
             0.1,
             "#c51b7d"
            ],
            [
             0.2,
             "#de77ae"
            ],
            [
             0.3,
             "#f1b6da"
            ],
            [
             0.4,
             "#fde0ef"
            ],
            [
             0.5,
             "#f7f7f7"
            ],
            [
             0.6,
             "#e6f5d0"
            ],
            [
             0.7,
             "#b8e186"
            ],
            [
             0.8,
             "#7fbc41"
            ],
            [
             0.9,
             "#4d9221"
            ],
            [
             1,
             "#276419"
            ]
           ],
           "sequential": [
            [
             0,
             "#0d0887"
            ],
            [
             0.1111111111111111,
             "#46039f"
            ],
            [
             0.2222222222222222,
             "#7201a8"
            ],
            [
             0.3333333333333333,
             "#9c179e"
            ],
            [
             0.4444444444444444,
             "#bd3786"
            ],
            [
             0.5555555555555556,
             "#d8576b"
            ],
            [
             0.6666666666666666,
             "#ed7953"
            ],
            [
             0.7777777777777778,
             "#fb9f3a"
            ],
            [
             0.8888888888888888,
             "#fdca26"
            ],
            [
             1,
             "#f0f921"
            ]
           ],
           "sequentialminus": [
            [
             0,
             "#0d0887"
            ],
            [
             0.1111111111111111,
             "#46039f"
            ],
            [
             0.2222222222222222,
             "#7201a8"
            ],
            [
             0.3333333333333333,
             "#9c179e"
            ],
            [
             0.4444444444444444,
             "#bd3786"
            ],
            [
             0.5555555555555556,
             "#d8576b"
            ],
            [
             0.6666666666666666,
             "#ed7953"
            ],
            [
             0.7777777777777778,
             "#fb9f3a"
            ],
            [
             0.8888888888888888,
             "#fdca26"
            ],
            [
             1,
             "#f0f921"
            ]
           ]
          },
          "colorway": [
           "#636efa",
           "#EF553B",
           "#00cc96",
           "#ab63fa",
           "#FFA15A",
           "#19d3f3",
           "#FF6692",
           "#B6E880",
           "#FF97FF",
           "#FECB52"
          ],
          "font": {
           "color": "#2a3f5f"
          },
          "geo": {
           "bgcolor": "white",
           "lakecolor": "white",
           "landcolor": "#E5ECF6",
           "showlakes": true,
           "showland": true,
           "subunitcolor": "white"
          },
          "hoverlabel": {
           "align": "left"
          },
          "hovermode": "closest",
          "mapbox": {
           "style": "light"
          },
          "paper_bgcolor": "white",
          "plot_bgcolor": "#E5ECF6",
          "polar": {
           "angularaxis": {
            "gridcolor": "white",
            "linecolor": "white",
            "ticks": ""
           },
           "bgcolor": "#E5ECF6",
           "radialaxis": {
            "gridcolor": "white",
            "linecolor": "white",
            "ticks": ""
           }
          },
          "scene": {
           "xaxis": {
            "backgroundcolor": "#E5ECF6",
            "gridcolor": "white",
            "gridwidth": 2,
            "linecolor": "white",
            "showbackground": true,
            "ticks": "",
            "zerolinecolor": "white"
           },
           "yaxis": {
            "backgroundcolor": "#E5ECF6",
            "gridcolor": "white",
            "gridwidth": 2,
            "linecolor": "white",
            "showbackground": true,
            "ticks": "",
            "zerolinecolor": "white"
           },
           "zaxis": {
            "backgroundcolor": "#E5ECF6",
            "gridcolor": "white",
            "gridwidth": 2,
            "linecolor": "white",
            "showbackground": true,
            "ticks": "",
            "zerolinecolor": "white"
           }
          },
          "shapedefaults": {
           "line": {
            "color": "#2a3f5f"
           }
          },
          "ternary": {
           "aaxis": {
            "gridcolor": "white",
            "linecolor": "white",
            "ticks": ""
           },
           "baxis": {
            "gridcolor": "white",
            "linecolor": "white",
            "ticks": ""
           },
           "bgcolor": "#E5ECF6",
           "caxis": {
            "gridcolor": "white",
            "linecolor": "white",
            "ticks": ""
           }
          },
          "title": {
           "x": 0.05
          },
          "xaxis": {
           "automargin": true,
           "gridcolor": "white",
           "linecolor": "white",
           "ticks": "",
           "title": {
            "standoff": 15
           },
           "zerolinecolor": "white",
           "zerolinewidth": 2
          },
          "yaxis": {
           "automargin": true,
           "gridcolor": "white",
           "linecolor": "white",
           "ticks": "",
           "title": {
            "standoff": 15
           },
           "zerolinecolor": "white",
           "zerolinewidth": 2
          }
         }
        },
        "xaxis": {
         "anchor": "y",
         "categoryorder": "category ascending",
         "domain": [
          0,
          1
         ],
         "title": {
          "text": "AgeGroup"
         }
        },
        "yaxis": {
         "anchor": "x",
         "domain": [
          0,
          1
         ],
         "title": {
          "text": "count"
         }
        }
       }
      },
      "text/html": [
       "<div>                            <div id=\"13bb19cd-f081-4fd3-8091-b85f7564de40\" class=\"plotly-graph-div\" style=\"height:525px; width:100%;\"></div>            <script type=\"text/javascript\">                require([\"plotly\"], function(Plotly) {                    window.PLOTLYENV=window.PLOTLYENV || {};                                    if (document.getElementById(\"13bb19cd-f081-4fd3-8091-b85f7564de40\")) {                    Plotly.newPlot(                        \"13bb19cd-f081-4fd3-8091-b85f7564de40\",                        [{\"alignmentgroup\":\"True\",\"bingroup\":\"x\",\"hovertemplate\":\"AgeGroup=%{x}<br>count=%{y}<extra></extra>\",\"legendgroup\":\"\",\"marker\":{\"color\":\"#636efa\",\"pattern\":{\"shape\":\"\"}},\"name\":\"\",\"offsetgroup\":\"\",\"orientation\":\"v\",\"showlegend\":false,\"x\":[\"46-55\",\"46-55\",\"31-45\",\"46-55\",\"25-30\",\"56+\",\"46-55\",\"25-30\",\"46-55\",\"46-55\",\"31-45\",\"31-45\",\"25-30\",\"31-45\",\"25-30\",\"31-45\",\"25-30\",\"25-30\",\"56+\",\"56+\",\"25-30\",\"18-24\",\"31-45\",\"18-24\",\"25-30\",\"25-30\",\"31-45\",\"25-30\",\"56+\",\"18-24\",\"18-24\",\"46-55\",\"25-30\",\"31-45\",\"18-24\",\"18-24\",\"18-24\",\"25-30\",\"46-55\",\"46-55\",\"18-24\",\"31-45\",\"56+\",\"56+\",\"18-24\",\"31-45\",\"18-24\",\"31-45\",\"46-55\",\"56+\",\"46-55\",\"25-30\",\"25-30\",\"56+\",\"18-24\",\"18-24\",\"25-30\",\"25-30\",\"56+\",\"25-30\",\"56+\",\"31-45\",\"46-55\",\"31-45\",\"18-24\",\"18-24\",\"56+\",\"56+\",\"25-30\",\"18-24\",\"46-55\",\"18-24\",\"18-24\",\"31-45\",\"56+\",\"31-45\",\"25-30\",\"25-30\",\"25-30\",\"18-24\",\"56+\",\"31-45\",\"25-30\",\"46-55\",\"46-55\",\"18-24\",\"18-24\",\"56+\",\"56+\",\"56+\",\"18-24\",\"56+\",\"31-45\",\"56+\",\"46-55\",\"56+\",\"18-24\",\"25-30\",\"46-55\",\"56+\",\"31-45\",\"31-45\",\"46-55\",\"18-24\",\"46-55\",\"56+\",\"56+\",\"46-55\",\"18-24\",\"31-45\",\"31-45\",\"31-45\",\"18-24\",\"18-24\",\"18-24\",\"56+\",\"25-30\",\"46-55\",\"31-45\",\"31-45\",\"18-24\",\"18-24\",\"25-30\",\"25-30\",\"56+\",\"18-24\",\"18-24\",\"56+\",\"18-24\",\"46-55\",\"31-45\",\"46-55\",\"56+\",\"56+\",\"25-30\",\"18-24\",\"31-45\",\"25-30\",\"56+\",\"46-55\",\"25-30\",\"46-55\",\"56+\",\"18-24\",\"56+\",\"25-30\",\"25-30\",\"25-30\",\"31-45\",\"56+\",\"18-24\",\"56+\",\"31-45\",\"18-24\",\"46-55\",\"18-24\",\"25-30\",\"25-30\",\"46-55\",\"31-45\",\"25-30\",\"25-30\",\"31-45\",\"46-55\",\"31-45\",\"25-30\",\"25-30\",\"18-24\",\"31-45\",\"25-30\",\"18-24\",\"31-45\",\"31-45\",\"56+\",\"31-45\",\"18-24\",\"25-30\",\"18-24\",\"31-45\",\"25-30\",\"56+\",\"25-30\",\"31-45\",\"56+\",\"46-55\",\"25-30\",\"31-45\",\"31-45\",\"18-24\",\"46-55\",\"56+\",\"56+\",\"56+\",\"56+\",\"25-30\",\"56+\",\"56+\",\"56+\",\"18-24\",\"56+\",\"31-45\",\"18-24\",\"46-55\",\"56+\",\"31-45\",\"25-30\",\"31-45\",\"46-55\",\"18-24\",\"46-55\",\"25-30\",\"46-55\",\"46-55\",\"56+\",\"25-30\",\"56+\",\"25-30\",\"56+\",\"56+\",\"25-30\",\"25-30\",\"46-55\",\"31-45\",\"46-55\",\"56+\",\"25-30\",\"18-24\",\"56+\",\"31-45\",\"46-55\",\"46-55\",\"56+\",\"25-30\",\"25-30\",\"25-30\",\"25-30\",\"25-30\",\"18-24\",\"18-24\",\"46-55\",\"46-55\",\"18-24\",\"46-55\",\"56+\",\"46-55\",\"31-45\",\"46-55\",\"18-24\",\"56+\",\"25-30\",\"25-30\",\"25-30\",\"18-24\",\"46-55\",\"25-30\",\"25-30\",\"18-24\",\"31-45\",\"31-45\",\"18-24\",\"31-45\",\"31-45\",\"31-45\",\"18-24\",\"56+\",\"31-45\",\"18-24\",\"18-24\",\"31-45\",\"25-30\",\"25-30\",\"46-55\",\"31-45\",\"56+\",\"31-45\",\"56+\",\"25-30\",\"56+\",\"46-55\",\"18-24\",\"56+\",\"31-45\",\"56+\",\"46-55\",\"18-24\",\"46-55\",\"46-55\",\"56+\",\"25-30\",\"18-24\",\"46-55\",\"46-55\",\"18-24\",\"25-30\",\"25-30\",\"56+\",\"56+\",\"31-45\",\"46-55\",\"56+\",\"31-45\",\"31-45\",\"18-24\",\"46-55\",\"25-30\",\"46-55\",\"56+\",\"56+\",\"56+\",\"25-30\",\"31-45\",\"31-45\",\"46-55\",\"31-45\",\"46-55\",\"56+\",\"46-55\",\"31-45\",\"25-30\",\"56+\",\"56+\",\"18-24\",\"31-45\",\"25-30\",\"56+\",\"25-30\",\"56+\",\"18-24\",\"18-24\",\"56+\",\"46-55\",\"56+\",\"18-24\",\"18-24\",\"56+\",\"56+\",\"46-55\",\"56+\",\"31-45\",\"25-30\",\"46-55\",\"56+\",\"46-55\",\"18-24\",\"18-24\",\"46-55\",\"46-55\",\"56+\",\"18-24\",\"18-24\",\"46-55\",\"25-30\",\"46-55\",\"25-30\",\"56+\",\"25-30\",\"56+\",\"46-55\",\"25-30\",\"18-24\",\"18-24\",\"31-45\",\"31-45\",\"56+\",\"18-24\",\"18-24\",\"31-45\",\"46-55\",\"25-30\",\"56+\",\"56+\",\"46-55\",\"31-45\",\"31-45\",\"56+\",\"56+\",\"46-55\",\"46-55\",\"25-30\",\"25-30\",\"31-45\",\"25-30\",\"56+\",\"46-55\",\"46-55\",\"31-45\",\"56+\",\"31-45\",\"25-30\",\"31-45\",\"31-45\",\"25-30\",\"31-45\",\"56+\",\"31-45\",\"31-45\",\"25-30\",\"46-55\",\"25-30\",\"18-24\",\"31-45\",\"25-30\",\"18-24\",\"25-30\",\"56+\",\"18-24\",\"46-55\",\"31-45\",\"18-24\",\"25-30\",\"25-30\",\"46-55\",\"56+\",\"25-30\",\"18-24\",\"56+\",\"25-30\",\"46-55\",\"18-24\",\"46-55\",\"25-30\",\"31-45\",\"46-55\",\"46-55\",\"31-45\",\"25-30\",\"31-45\",\"56+\",\"56+\",\"18-24\",\"18-24\",\"56+\",\"46-55\",\"25-30\",\"56+\",\"25-30\",\"25-30\",\"18-24\",\"56+\",\"56+\",\"56+\",\"18-24\",\"46-55\",\"31-45\",\"31-45\",\"56+\",\"46-55\",\"18-24\",\"31-45\",\"56+\",\"46-55\",\"46-55\",\"25-30\",\"46-55\",\"46-55\",\"18-24\",\"56+\",\"56+\",\"31-45\",\"46-55\",\"31-45\",\"31-45\",\"56+\",\"56+\",\"25-30\",\"46-55\",\"25-30\",\"25-30\",\"56+\",\"25-30\",\"56+\",\"25-30\",\"18-24\",\"56+\",\"25-30\",\"18-24\",\"31-45\",\"46-55\",\"46-55\",\"18-24\",\"31-45\",\"25-30\",\"46-55\",\"56+\",\"46-55\",\"31-45\",\"18-24\",\"18-24\",\"46-55\",\"31-45\",\"46-55\",\"31-45\",\"46-55\",\"46-55\",\"56+\",\"31-45\",\"18-24\",\"18-24\",\"46-55\",\"31-45\"],\"xaxis\":\"x\",\"yaxis\":\"y\",\"type\":\"histogram\"}],                        {\"template\":{\"data\":{\"bar\":[{\"error_x\":{\"color\":\"#2a3f5f\"},\"error_y\":{\"color\":\"#2a3f5f\"},\"marker\":{\"line\":{\"color\":\"#E5ECF6\",\"width\":0.5},\"pattern\":{\"fillmode\":\"overlay\",\"size\":10,\"solidity\":0.2}},\"type\":\"bar\"}],\"barpolar\":[{\"marker\":{\"line\":{\"color\":\"#E5ECF6\",\"width\":0.5},\"pattern\":{\"fillmode\":\"overlay\",\"size\":10,\"solidity\":0.2}},\"type\":\"barpolar\"}],\"carpet\":[{\"aaxis\":{\"endlinecolor\":\"#2a3f5f\",\"gridcolor\":\"white\",\"linecolor\":\"white\",\"minorgridcolor\":\"white\",\"startlinecolor\":\"#2a3f5f\"},\"baxis\":{\"endlinecolor\":\"#2a3f5f\",\"gridcolor\":\"white\",\"linecolor\":\"white\",\"minorgridcolor\":\"white\",\"startlinecolor\":\"#2a3f5f\"},\"type\":\"carpet\"}],\"choropleth\":[{\"colorbar\":{\"outlinewidth\":0,\"ticks\":\"\"},\"type\":\"choropleth\"}],\"contour\":[{\"colorbar\":{\"outlinewidth\":0,\"ticks\":\"\"},\"colorscale\":[[0.0,\"#0d0887\"],[0.1111111111111111,\"#46039f\"],[0.2222222222222222,\"#7201a8\"],[0.3333333333333333,\"#9c179e\"],[0.4444444444444444,\"#bd3786\"],[0.5555555555555556,\"#d8576b\"],[0.6666666666666666,\"#ed7953\"],[0.7777777777777778,\"#fb9f3a\"],[0.8888888888888888,\"#fdca26\"],[1.0,\"#f0f921\"]],\"type\":\"contour\"}],\"contourcarpet\":[{\"colorbar\":{\"outlinewidth\":0,\"ticks\":\"\"},\"type\":\"contourcarpet\"}],\"heatmap\":[{\"colorbar\":{\"outlinewidth\":0,\"ticks\":\"\"},\"colorscale\":[[0.0,\"#0d0887\"],[0.1111111111111111,\"#46039f\"],[0.2222222222222222,\"#7201a8\"],[0.3333333333333333,\"#9c179e\"],[0.4444444444444444,\"#bd3786\"],[0.5555555555555556,\"#d8576b\"],[0.6666666666666666,\"#ed7953\"],[0.7777777777777778,\"#fb9f3a\"],[0.8888888888888888,\"#fdca26\"],[1.0,\"#f0f921\"]],\"type\":\"heatmap\"}],\"heatmapgl\":[{\"colorbar\":{\"outlinewidth\":0,\"ticks\":\"\"},\"colorscale\":[[0.0,\"#0d0887\"],[0.1111111111111111,\"#46039f\"],[0.2222222222222222,\"#7201a8\"],[0.3333333333333333,\"#9c179e\"],[0.4444444444444444,\"#bd3786\"],[0.5555555555555556,\"#d8576b\"],[0.6666666666666666,\"#ed7953\"],[0.7777777777777778,\"#fb9f3a\"],[0.8888888888888888,\"#fdca26\"],[1.0,\"#f0f921\"]],\"type\":\"heatmapgl\"}],\"histogram\":[{\"marker\":{\"pattern\":{\"fillmode\":\"overlay\",\"size\":10,\"solidity\":0.2}},\"type\":\"histogram\"}],\"histogram2d\":[{\"colorbar\":{\"outlinewidth\":0,\"ticks\":\"\"},\"colorscale\":[[0.0,\"#0d0887\"],[0.1111111111111111,\"#46039f\"],[0.2222222222222222,\"#7201a8\"],[0.3333333333333333,\"#9c179e\"],[0.4444444444444444,\"#bd3786\"],[0.5555555555555556,\"#d8576b\"],[0.6666666666666666,\"#ed7953\"],[0.7777777777777778,\"#fb9f3a\"],[0.8888888888888888,\"#fdca26\"],[1.0,\"#f0f921\"]],\"type\":\"histogram2d\"}],\"histogram2dcontour\":[{\"colorbar\":{\"outlinewidth\":0,\"ticks\":\"\"},\"colorscale\":[[0.0,\"#0d0887\"],[0.1111111111111111,\"#46039f\"],[0.2222222222222222,\"#7201a8\"],[0.3333333333333333,\"#9c179e\"],[0.4444444444444444,\"#bd3786\"],[0.5555555555555556,\"#d8576b\"],[0.6666666666666666,\"#ed7953\"],[0.7777777777777778,\"#fb9f3a\"],[0.8888888888888888,\"#fdca26\"],[1.0,\"#f0f921\"]],\"type\":\"histogram2dcontour\"}],\"mesh3d\":[{\"colorbar\":{\"outlinewidth\":0,\"ticks\":\"\"},\"type\":\"mesh3d\"}],\"parcoords\":[{\"line\":{\"colorbar\":{\"outlinewidth\":0,\"ticks\":\"\"}},\"type\":\"parcoords\"}],\"pie\":[{\"automargin\":true,\"type\":\"pie\"}],\"scatter\":[{\"marker\":{\"colorbar\":{\"outlinewidth\":0,\"ticks\":\"\"}},\"type\":\"scatter\"}],\"scatter3d\":[{\"line\":{\"colorbar\":{\"outlinewidth\":0,\"ticks\":\"\"}},\"marker\":{\"colorbar\":{\"outlinewidth\":0,\"ticks\":\"\"}},\"type\":\"scatter3d\"}],\"scattercarpet\":[{\"marker\":{\"colorbar\":{\"outlinewidth\":0,\"ticks\":\"\"}},\"type\":\"scattercarpet\"}],\"scattergeo\":[{\"marker\":{\"colorbar\":{\"outlinewidth\":0,\"ticks\":\"\"}},\"type\":\"scattergeo\"}],\"scattergl\":[{\"marker\":{\"colorbar\":{\"outlinewidth\":0,\"ticks\":\"\"}},\"type\":\"scattergl\"}],\"scattermapbox\":[{\"marker\":{\"colorbar\":{\"outlinewidth\":0,\"ticks\":\"\"}},\"type\":\"scattermapbox\"}],\"scatterpolar\":[{\"marker\":{\"colorbar\":{\"outlinewidth\":0,\"ticks\":\"\"}},\"type\":\"scatterpolar\"}],\"scatterpolargl\":[{\"marker\":{\"colorbar\":{\"outlinewidth\":0,\"ticks\":\"\"}},\"type\":\"scatterpolargl\"}],\"scatterternary\":[{\"marker\":{\"colorbar\":{\"outlinewidth\":0,\"ticks\":\"\"}},\"type\":\"scatterternary\"}],\"surface\":[{\"colorbar\":{\"outlinewidth\":0,\"ticks\":\"\"},\"colorscale\":[[0.0,\"#0d0887\"],[0.1111111111111111,\"#46039f\"],[0.2222222222222222,\"#7201a8\"],[0.3333333333333333,\"#9c179e\"],[0.4444444444444444,\"#bd3786\"],[0.5555555555555556,\"#d8576b\"],[0.6666666666666666,\"#ed7953\"],[0.7777777777777778,\"#fb9f3a\"],[0.8888888888888888,\"#fdca26\"],[1.0,\"#f0f921\"]],\"type\":\"surface\"}],\"table\":[{\"cells\":{\"fill\":{\"color\":\"#EBF0F8\"},\"line\":{\"color\":\"white\"}},\"header\":{\"fill\":{\"color\":\"#C8D4E3\"},\"line\":{\"color\":\"white\"}},\"type\":\"table\"}]},\"layout\":{\"annotationdefaults\":{\"arrowcolor\":\"#2a3f5f\",\"arrowhead\":0,\"arrowwidth\":1},\"autotypenumbers\":\"strict\",\"coloraxis\":{\"colorbar\":{\"outlinewidth\":0,\"ticks\":\"\"}},\"colorscale\":{\"diverging\":[[0,\"#8e0152\"],[0.1,\"#c51b7d\"],[0.2,\"#de77ae\"],[0.3,\"#f1b6da\"],[0.4,\"#fde0ef\"],[0.5,\"#f7f7f7\"],[0.6,\"#e6f5d0\"],[0.7,\"#b8e186\"],[0.8,\"#7fbc41\"],[0.9,\"#4d9221\"],[1,\"#276419\"]],\"sequential\":[[0.0,\"#0d0887\"],[0.1111111111111111,\"#46039f\"],[0.2222222222222222,\"#7201a8\"],[0.3333333333333333,\"#9c179e\"],[0.4444444444444444,\"#bd3786\"],[0.5555555555555556,\"#d8576b\"],[0.6666666666666666,\"#ed7953\"],[0.7777777777777778,\"#fb9f3a\"],[0.8888888888888888,\"#fdca26\"],[1.0,\"#f0f921\"]],\"sequentialminus\":[[0.0,\"#0d0887\"],[0.1111111111111111,\"#46039f\"],[0.2222222222222222,\"#7201a8\"],[0.3333333333333333,\"#9c179e\"],[0.4444444444444444,\"#bd3786\"],[0.5555555555555556,\"#d8576b\"],[0.6666666666666666,\"#ed7953\"],[0.7777777777777778,\"#fb9f3a\"],[0.8888888888888888,\"#fdca26\"],[1.0,\"#f0f921\"]]},\"colorway\":[\"#636efa\",\"#EF553B\",\"#00cc96\",\"#ab63fa\",\"#FFA15A\",\"#19d3f3\",\"#FF6692\",\"#B6E880\",\"#FF97FF\",\"#FECB52\"],\"font\":{\"color\":\"#2a3f5f\"},\"geo\":{\"bgcolor\":\"white\",\"lakecolor\":\"white\",\"landcolor\":\"#E5ECF6\",\"showlakes\":true,\"showland\":true,\"subunitcolor\":\"white\"},\"hoverlabel\":{\"align\":\"left\"},\"hovermode\":\"closest\",\"mapbox\":{\"style\":\"light\"},\"paper_bgcolor\":\"white\",\"plot_bgcolor\":\"#E5ECF6\",\"polar\":{\"angularaxis\":{\"gridcolor\":\"white\",\"linecolor\":\"white\",\"ticks\":\"\"},\"bgcolor\":\"#E5ECF6\",\"radialaxis\":{\"gridcolor\":\"white\",\"linecolor\":\"white\",\"ticks\":\"\"}},\"scene\":{\"xaxis\":{\"backgroundcolor\":\"#E5ECF6\",\"gridcolor\":\"white\",\"gridwidth\":2,\"linecolor\":\"white\",\"showbackground\":true,\"ticks\":\"\",\"zerolinecolor\":\"white\"},\"yaxis\":{\"backgroundcolor\":\"#E5ECF6\",\"gridcolor\":\"white\",\"gridwidth\":2,\"linecolor\":\"white\",\"showbackground\":true,\"ticks\":\"\",\"zerolinecolor\":\"white\"},\"zaxis\":{\"backgroundcolor\":\"#E5ECF6\",\"gridcolor\":\"white\",\"gridwidth\":2,\"linecolor\":\"white\",\"showbackground\":true,\"ticks\":\"\",\"zerolinecolor\":\"white\"}},\"shapedefaults\":{\"line\":{\"color\":\"#2a3f5f\"}},\"ternary\":{\"aaxis\":{\"gridcolor\":\"white\",\"linecolor\":\"white\",\"ticks\":\"\"},\"baxis\":{\"gridcolor\":\"white\",\"linecolor\":\"white\",\"ticks\":\"\"},\"bgcolor\":\"#E5ECF6\",\"caxis\":{\"gridcolor\":\"white\",\"linecolor\":\"white\",\"ticks\":\"\"}},\"title\":{\"x\":0.05},\"xaxis\":{\"automargin\":true,\"gridcolor\":\"white\",\"linecolor\":\"white\",\"ticks\":\"\",\"title\":{\"standoff\":15},\"zerolinecolor\":\"white\",\"zerolinewidth\":2},\"yaxis\":{\"automargin\":true,\"gridcolor\":\"white\",\"linecolor\":\"white\",\"ticks\":\"\",\"title\":{\"standoff\":15},\"zerolinecolor\":\"white\",\"zerolinewidth\":2}}},\"xaxis\":{\"anchor\":\"y\",\"domain\":[0.0,1.0],\"title\":{\"text\":\"AgeGroup\"},\"categoryorder\":\"category ascending\"},\"yaxis\":{\"anchor\":\"x\",\"domain\":[0.0,1.0],\"title\":{\"text\":\"count\"}},\"legend\":{\"tracegroupgap\":0},\"margin\":{\"t\":60},\"barmode\":\"relative\"},                        {\"responsive\": true}                    ).then(function(){\n",
       "                            \n",
       "var gd = document.getElementById('13bb19cd-f081-4fd3-8091-b85f7564de40');\n",
       "var x = new MutationObserver(function (mutations, observer) {{\n",
       "        var display = window.getComputedStyle(gd).display;\n",
       "        if (!display || display === 'none') {{\n",
       "            console.log([gd, 'removed!']);\n",
       "            Plotly.purge(gd);\n",
       "            observer.disconnect();\n",
       "        }}\n",
       "}});\n",
       "\n",
       "// Listen for the removal of the full notebook cells\n",
       "var notebookContainer = gd.closest('#notebook-container');\n",
       "if (notebookContainer) {{\n",
       "    x.observe(notebookContainer, {childList: true});\n",
       "}}\n",
       "\n",
       "// Listen for the clearing of the current output cell\n",
       "var outputEl = gd.closest('.output');\n",
       "if (outputEl) {{\n",
       "    x.observe(outputEl, {childList: true});\n",
       "}}\n",
       "\n",
       "                        })                };                });            </script>        </div>"
      ]
     },
     "metadata": {},
     "output_type": "display_data"
    }
   ],
   "source": [
    "fig = px.histogram(df_viz, x='AgeGroup')\n",
    "fig.update_layout(xaxis={'categoryorder':'category ascending'})\n",
    "fig.show()"
   ]
  },
  {
   "cell_type": "code",
   "execution_count": 30,
   "metadata": {},
   "outputs": [
    {
     "data": {
      "text/plain": [
       "56+      22.0\n",
       "25-30    20.8\n",
       "46-55    19.6\n",
       "31-45    19.0\n",
       "18-24    18.6\n",
       "Name: AgeGroup, dtype: float64"
      ]
     },
     "execution_count": 30,
     "metadata": {},
     "output_type": "execute_result"
    }
   ],
   "source": [
    "df_viz.AgeGroup.value_counts(normalize=True)*100"
   ]
  },
  {
   "cell_type": "code",
   "execution_count": 31,
   "metadata": {},
   "outputs": [
    {
     "data": {
      "text/plain": [
       "56+      110\n",
       "25-30    104\n",
       "46-55     98\n",
       "31-45     95\n",
       "18-24     93\n",
       "Name: AgeGroup, dtype: int64"
      ]
     },
     "execution_count": 31,
     "metadata": {},
     "output_type": "execute_result"
    }
   ],
   "source": [
    "df_viz.AgeGroup.value_counts()"
   ]
  },
  {
   "cell_type": "code",
   "execution_count": 32,
   "metadata": {},
   "outputs": [
    {
     "data": {
      "application/vnd.plotly.v1+json": {
       "config": {
        "plotlyServerURL": "https://plot.ly"
       },
       "data": [
        {
         "alignmentgroup": "True",
         "bingroup": "x",
         "hovertemplate": "ResidentialArea=North-West of Riyadh<br>MaritalStatus=%{x}<br>count=%{y}<extra></extra>",
         "legendgroup": "North-West of Riyadh",
         "marker": {
          "color": "#636efa",
          "pattern": {
           "shape": ""
          }
         },
         "name": "North-West of Riyadh",
         "offsetgroup": "North-West of Riyadh",
         "orientation": "v",
         "showlegend": true,
         "type": "histogram",
         "x": [
          "Single",
          "Married with kids",
          "Married with kids",
          "Single with kids",
          "Single",
          "Single",
          "Single with kids",
          "Married with no kids",
          "Married with kids",
          "Married with kids",
          "Married with no kids",
          "Single with kids",
          "Married with kids",
          "Married with no kids",
          "Married with kids",
          "Single with kids",
          "Single",
          "Married with kids",
          "Married with kids",
          "Married with kids",
          "Single",
          "Single",
          "Married with kids",
          "Married with kids",
          "Single with kids",
          "Single with kids",
          "Single with kids",
          "Married with kids",
          "Married with kids",
          "Single with kids",
          "Single with kids",
          "Single",
          "Single with kids",
          "Married with kids",
          "Married with kids",
          "Married with kids",
          "Single",
          "Married with no kids",
          "Single with kids",
          "Single",
          "Married with kids",
          "Single with kids",
          "Single with kids",
          "Single with kids",
          "Married with kids",
          "Married with no kids",
          "Married with no kids",
          "Married with no kids",
          "Married with kids",
          "Married with kids",
          "Married with kids",
          "Single with kids",
          "Single with kids",
          "Married with no kids",
          "Single with kids",
          "Married with no kids",
          "Single with kids",
          "Single",
          "Married with kids",
          "Single with kids",
          "Single",
          "Single",
          "Single with kids",
          "Single",
          "Single",
          "Married with no kids",
          "Married with no kids",
          "Married with kids",
          "Married with kids",
          "Married with kids",
          "Single",
          "Single",
          "Married with no kids",
          "Single with kids",
          "Married with no kids",
          "Married with kids",
          "Single",
          "Single",
          "Single with kids",
          "Married with kids",
          "Single with kids",
          "Married with no kids",
          "Single",
          "Married with no kids",
          "Married with kids",
          "Married with no kids",
          "Married with kids",
          "Single",
          "Married with kids",
          "Single",
          "Single",
          "Married with no kids",
          "Married with no kids",
          "Married with kids",
          "Single",
          "Married with kids",
          "Married with no kids",
          "Married with no kids",
          "Married with no kids",
          "Married with kids",
          "Single with kids",
          "Married with no kids",
          "Single",
          "Married with no kids",
          "Single with kids",
          "Married with kids",
          "Married with kids",
          "Single with kids",
          "Married with no kids",
          "Married with kids",
          "Single",
          "Married with no kids",
          "Married with kids",
          "Married with kids",
          "Single with kids",
          "Married with no kids",
          "Married with no kids",
          "Married with no kids",
          "Married with kids",
          "Single",
          "Married with kids",
          "Married with no kids",
          "Married with kids"
         ],
         "xaxis": "x",
         "yaxis": "y"
        },
        {
         "alignmentgroup": "True",
         "bingroup": "x",
         "hovertemplate": "ResidentialArea=North-Eest of Riyadh<br>MaritalStatus=%{x}<br>count=%{y}<extra></extra>",
         "legendgroup": "North-Eest of Riyadh",
         "marker": {
          "color": "#EF553B",
          "pattern": {
           "shape": ""
          }
         },
         "name": "North-Eest of Riyadh",
         "offsetgroup": "North-Eest of Riyadh",
         "orientation": "v",
         "showlegend": true,
         "type": "histogram",
         "x": [
          "Single",
          "Married with no kids",
          "Married with kids",
          "Married with no kids",
          "Married with no kids",
          "Single with kids",
          "Single with kids",
          "Married with no kids",
          "Married with kids",
          "Married with kids",
          "Married with kids",
          "Married with no kids",
          "Married with kids",
          "Married with no kids",
          "Married with no kids",
          "Single",
          "Married with kids",
          "Single with kids",
          "Married with no kids",
          "Married with no kids",
          "Married with no kids",
          "Single with kids",
          "Married with no kids",
          "Single",
          "Single with kids",
          "Single with kids",
          "Married with no kids",
          "Single",
          "Married with no kids",
          "Single",
          "Single with kids",
          "Single",
          "Single",
          "Married with kids",
          "Married with no kids",
          "Married with no kids",
          "Married with kids",
          "Married with kids",
          "Single with kids",
          "Married with kids",
          "Single",
          "Married with no kids",
          "Married with no kids",
          "Married with kids",
          "Married with kids",
          "Single",
          "Married with kids",
          "Married with kids",
          "Married with kids",
          "Married with kids",
          "Married with kids",
          "Single",
          "Married with no kids",
          "Married with kids",
          "Married with kids",
          "Married with kids",
          "Married with no kids",
          "Single",
          "Single with kids",
          "Married with no kids",
          "Single with kids",
          "Single with kids",
          "Single with kids",
          "Married with kids",
          "Single",
          "Married with kids",
          "Single with kids",
          "Married with kids",
          "Married with kids",
          "Single",
          "Single with kids",
          "Married with kids",
          "Single with kids",
          "Married with no kids",
          "Single",
          "Married with kids",
          "Single with kids",
          "Married with kids",
          "Single with kids",
          "Married with kids",
          "Married with kids",
          "Single with kids",
          "Single",
          "Married with no kids",
          "Single",
          "Married with kids",
          "Single with kids",
          "Married with no kids",
          "Married with kids",
          "Single",
          "Single with kids",
          "Single",
          "Married with no kids",
          "Married with no kids",
          "Single with kids",
          "Single with kids",
          "Single",
          "Married with kids",
          "Single with kids",
          "Married with no kids",
          "Married with kids",
          "Married with no kids",
          "Married with kids",
          "Single with kids",
          "Married with no kids",
          "Married with kids",
          "Married with kids",
          "Single with kids",
          "Single with kids",
          "Single",
          "Married with no kids",
          "Single",
          "Married with no kids",
          "Single with kids",
          "Single with kids",
          "Single with kids",
          "Single with kids",
          "Single with kids",
          "Married with no kids",
          "Married with no kids",
          "Single",
          "Married with kids",
          "Married with kids",
          "Married with no kids",
          "Married with kids"
         ],
         "xaxis": "x",
         "yaxis": "y"
        },
        {
         "alignmentgroup": "True",
         "bingroup": "x",
         "hovertemplate": "ResidentialArea=South-West of Riyadh<br>MaritalStatus=%{x}<br>count=%{y}<extra></extra>",
         "legendgroup": "South-West of Riyadh",
         "marker": {
          "color": "#00cc96",
          "pattern": {
           "shape": ""
          }
         },
         "name": "South-West of Riyadh",
         "offsetgroup": "South-West of Riyadh",
         "orientation": "v",
         "showlegend": true,
         "type": "histogram",
         "x": [
          "Single",
          "Single with kids",
          "Married with no kids",
          "Married with no kids",
          "Single with kids",
          "Single",
          "Single with kids",
          "Married with no kids",
          "Married with no kids",
          "Married with kids",
          "Single",
          "Single",
          "Married with kids",
          "Married with no kids",
          "Married with kids",
          "Married with kids",
          "Single with kids",
          "Single",
          "Married with no kids",
          "Single",
          "Single with kids",
          "Single",
          "Single with kids",
          "Married with no kids",
          "Married with no kids",
          "Married with kids",
          "Single with kids",
          "Single with kids",
          "Married with no kids",
          "Single with kids",
          "Single with kids",
          "Single with kids",
          "Married with kids",
          "Single",
          "Single with kids",
          "Single with kids",
          "Single",
          "Single with kids",
          "Married with no kids",
          "Single",
          "Married with kids",
          "Married with no kids",
          "Married with kids",
          "Married with kids",
          "Married with kids",
          "Single with kids",
          "Married with no kids",
          "Married with no kids",
          "Married with kids",
          "Married with no kids",
          "Married with no kids",
          "Single",
          "Married with kids",
          "Married with kids",
          "Married with no kids",
          "Married with no kids",
          "Single with kids",
          "Single with kids",
          "Single with kids",
          "Single",
          "Single",
          "Single",
          "Single with kids",
          "Single with kids",
          "Married with kids",
          "Married with kids",
          "Married with kids",
          "Single",
          "Married with kids",
          "Single",
          "Married with kids",
          "Married with no kids",
          "Married with no kids",
          "Single",
          "Single with kids",
          "Single with kids",
          "Married with no kids",
          "Single with kids",
          "Single with kids",
          "Married with kids",
          "Married with no kids",
          "Single",
          "Single",
          "Married with no kids",
          "Married with no kids",
          "Married with kids",
          "Married with no kids",
          "Single",
          "Married with kids",
          "Married with kids",
          "Married with no kids",
          "Single with kids",
          "Single with kids",
          "Single with kids",
          "Married with kids",
          "Married with no kids",
          "Single with kids",
          "Married with kids",
          "Married with no kids",
          "Single",
          "Married with kids",
          "Married with kids",
          "Single with kids",
          "Married with kids",
          "Single",
          "Married with no kids",
          "Married with kids",
          "Single",
          "Married with kids",
          "Single with kids",
          "Single with kids",
          "Married with no kids",
          "Single with kids",
          "Married with no kids",
          "Single with kids",
          "Single with kids",
          "Single",
          "Single",
          "Married with kids",
          "Married with kids",
          "Married with kids",
          "Married with kids",
          "Married with kids",
          "Married with kids",
          "Married with kids",
          "Single with kids"
         ],
         "xaxis": "x",
         "yaxis": "y"
        },
        {
         "alignmentgroup": "True",
         "bingroup": "x",
         "hovertemplate": "ResidentialArea=South-Eest of Riyadh<br>MaritalStatus=%{x}<br>count=%{y}<extra></extra>",
         "legendgroup": "South-Eest of Riyadh",
         "marker": {
          "color": "#ab63fa",
          "pattern": {
           "shape": ""
          }
         },
         "name": "South-Eest of Riyadh",
         "offsetgroup": "South-Eest of Riyadh",
         "orientation": "v",
         "showlegend": true,
         "type": "histogram",
         "x": [
          "Married with no kids",
          "Married with no kids",
          "Single with kids",
          "Married with no kids",
          "Single",
          "Single",
          "Married with kids",
          "Single",
          "Single",
          "Married with no kids",
          "Married with kids",
          "Married with no kids",
          "Single",
          "Married with kids",
          "Single with kids",
          "Married with no kids",
          "Single with kids",
          "Married with no kids",
          "Single with kids",
          "Single with kids",
          "Single with kids",
          "Married with no kids",
          "Married with no kids",
          "Married with kids",
          "Single",
          "Single",
          "Single with kids",
          "Married with no kids",
          "Married with no kids",
          "Married with no kids",
          "Married with kids",
          "Single",
          "Single with kids",
          "Single with kids",
          "Married with kids",
          "Married with no kids",
          "Married with no kids",
          "Single with kids",
          "Married with kids",
          "Married with kids",
          "Married with kids",
          "Single with kids",
          "Single with kids",
          "Single with kids",
          "Married with kids",
          "Married with no kids",
          "Single",
          "Single",
          "Married with no kids",
          "Single",
          "Single",
          "Married with no kids",
          "Single with kids",
          "Married with no kids",
          "Single",
          "Single",
          "Single",
          "Married with no kids",
          "Single",
          "Single with kids",
          "Single",
          "Single with kids",
          "Married with no kids",
          "Single with kids",
          "Single with kids",
          "Married with kids",
          "Married with no kids",
          "Married with no kids",
          "Married with no kids",
          "Single",
          "Single with kids",
          "Single",
          "Single",
          "Married with no kids",
          "Single with kids",
          "Single",
          "Married with no kids",
          "Single with kids",
          "Married with no kids",
          "Single",
          "Single with kids",
          "Married with kids",
          "Married with kids",
          "Married with no kids",
          "Married with kids",
          "Single",
          "Married with kids",
          "Married with no kids",
          "Married with no kids",
          "Single with kids",
          "Married with no kids",
          "Single with kids",
          "Married with kids",
          "Married with no kids",
          "Single",
          "Married with no kids",
          "Single with kids",
          "Married with kids",
          "Single with kids",
          "Single",
          "Single with kids",
          "Married with no kids",
          "Single",
          "Married with no kids",
          "Single with kids",
          "Single with kids",
          "Single with kids",
          "Single with kids",
          "Married with no kids",
          "Married with no kids",
          "Single",
          "Married with no kids",
          "Married with no kids",
          "Married with kids",
          "Single",
          "Single with kids",
          "Married with kids",
          "Single with kids",
          "Married with kids",
          "Married with kids",
          "Married with kids",
          "Married with kids",
          "Married with kids",
          "Married with no kids",
          "Married with no kids",
          "Married with kids"
         ],
         "xaxis": "x",
         "yaxis": "y"
        }
       ],
       "layout": {
        "barmode": "group",
        "legend": {
         "title": {
          "text": "ResidentialArea"
         },
         "tracegroupgap": 0
        },
        "margin": {
         "t": 60
        },
        "template": {
         "data": {
          "bar": [
           {
            "error_x": {
             "color": "#2a3f5f"
            },
            "error_y": {
             "color": "#2a3f5f"
            },
            "marker": {
             "line": {
              "color": "#E5ECF6",
              "width": 0.5
             },
             "pattern": {
              "fillmode": "overlay",
              "size": 10,
              "solidity": 0.2
             }
            },
            "type": "bar"
           }
          ],
          "barpolar": [
           {
            "marker": {
             "line": {
              "color": "#E5ECF6",
              "width": 0.5
             },
             "pattern": {
              "fillmode": "overlay",
              "size": 10,
              "solidity": 0.2
             }
            },
            "type": "barpolar"
           }
          ],
          "carpet": [
           {
            "aaxis": {
             "endlinecolor": "#2a3f5f",
             "gridcolor": "white",
             "linecolor": "white",
             "minorgridcolor": "white",
             "startlinecolor": "#2a3f5f"
            },
            "baxis": {
             "endlinecolor": "#2a3f5f",
             "gridcolor": "white",
             "linecolor": "white",
             "minorgridcolor": "white",
             "startlinecolor": "#2a3f5f"
            },
            "type": "carpet"
           }
          ],
          "choropleth": [
           {
            "colorbar": {
             "outlinewidth": 0,
             "ticks": ""
            },
            "type": "choropleth"
           }
          ],
          "contour": [
           {
            "colorbar": {
             "outlinewidth": 0,
             "ticks": ""
            },
            "colorscale": [
             [
              0,
              "#0d0887"
             ],
             [
              0.1111111111111111,
              "#46039f"
             ],
             [
              0.2222222222222222,
              "#7201a8"
             ],
             [
              0.3333333333333333,
              "#9c179e"
             ],
             [
              0.4444444444444444,
              "#bd3786"
             ],
             [
              0.5555555555555556,
              "#d8576b"
             ],
             [
              0.6666666666666666,
              "#ed7953"
             ],
             [
              0.7777777777777778,
              "#fb9f3a"
             ],
             [
              0.8888888888888888,
              "#fdca26"
             ],
             [
              1,
              "#f0f921"
             ]
            ],
            "type": "contour"
           }
          ],
          "contourcarpet": [
           {
            "colorbar": {
             "outlinewidth": 0,
             "ticks": ""
            },
            "type": "contourcarpet"
           }
          ],
          "heatmap": [
           {
            "colorbar": {
             "outlinewidth": 0,
             "ticks": ""
            },
            "colorscale": [
             [
              0,
              "#0d0887"
             ],
             [
              0.1111111111111111,
              "#46039f"
             ],
             [
              0.2222222222222222,
              "#7201a8"
             ],
             [
              0.3333333333333333,
              "#9c179e"
             ],
             [
              0.4444444444444444,
              "#bd3786"
             ],
             [
              0.5555555555555556,
              "#d8576b"
             ],
             [
              0.6666666666666666,
              "#ed7953"
             ],
             [
              0.7777777777777778,
              "#fb9f3a"
             ],
             [
              0.8888888888888888,
              "#fdca26"
             ],
             [
              1,
              "#f0f921"
             ]
            ],
            "type": "heatmap"
           }
          ],
          "heatmapgl": [
           {
            "colorbar": {
             "outlinewidth": 0,
             "ticks": ""
            },
            "colorscale": [
             [
              0,
              "#0d0887"
             ],
             [
              0.1111111111111111,
              "#46039f"
             ],
             [
              0.2222222222222222,
              "#7201a8"
             ],
             [
              0.3333333333333333,
              "#9c179e"
             ],
             [
              0.4444444444444444,
              "#bd3786"
             ],
             [
              0.5555555555555556,
              "#d8576b"
             ],
             [
              0.6666666666666666,
              "#ed7953"
             ],
             [
              0.7777777777777778,
              "#fb9f3a"
             ],
             [
              0.8888888888888888,
              "#fdca26"
             ],
             [
              1,
              "#f0f921"
             ]
            ],
            "type": "heatmapgl"
           }
          ],
          "histogram": [
           {
            "marker": {
             "pattern": {
              "fillmode": "overlay",
              "size": 10,
              "solidity": 0.2
             }
            },
            "type": "histogram"
           }
          ],
          "histogram2d": [
           {
            "colorbar": {
             "outlinewidth": 0,
             "ticks": ""
            },
            "colorscale": [
             [
              0,
              "#0d0887"
             ],
             [
              0.1111111111111111,
              "#46039f"
             ],
             [
              0.2222222222222222,
              "#7201a8"
             ],
             [
              0.3333333333333333,
              "#9c179e"
             ],
             [
              0.4444444444444444,
              "#bd3786"
             ],
             [
              0.5555555555555556,
              "#d8576b"
             ],
             [
              0.6666666666666666,
              "#ed7953"
             ],
             [
              0.7777777777777778,
              "#fb9f3a"
             ],
             [
              0.8888888888888888,
              "#fdca26"
             ],
             [
              1,
              "#f0f921"
             ]
            ],
            "type": "histogram2d"
           }
          ],
          "histogram2dcontour": [
           {
            "colorbar": {
             "outlinewidth": 0,
             "ticks": ""
            },
            "colorscale": [
             [
              0,
              "#0d0887"
             ],
             [
              0.1111111111111111,
              "#46039f"
             ],
             [
              0.2222222222222222,
              "#7201a8"
             ],
             [
              0.3333333333333333,
              "#9c179e"
             ],
             [
              0.4444444444444444,
              "#bd3786"
             ],
             [
              0.5555555555555556,
              "#d8576b"
             ],
             [
              0.6666666666666666,
              "#ed7953"
             ],
             [
              0.7777777777777778,
              "#fb9f3a"
             ],
             [
              0.8888888888888888,
              "#fdca26"
             ],
             [
              1,
              "#f0f921"
             ]
            ],
            "type": "histogram2dcontour"
           }
          ],
          "mesh3d": [
           {
            "colorbar": {
             "outlinewidth": 0,
             "ticks": ""
            },
            "type": "mesh3d"
           }
          ],
          "parcoords": [
           {
            "line": {
             "colorbar": {
              "outlinewidth": 0,
              "ticks": ""
             }
            },
            "type": "parcoords"
           }
          ],
          "pie": [
           {
            "automargin": true,
            "type": "pie"
           }
          ],
          "scatter": [
           {
            "marker": {
             "colorbar": {
              "outlinewidth": 0,
              "ticks": ""
             }
            },
            "type": "scatter"
           }
          ],
          "scatter3d": [
           {
            "line": {
             "colorbar": {
              "outlinewidth": 0,
              "ticks": ""
             }
            },
            "marker": {
             "colorbar": {
              "outlinewidth": 0,
              "ticks": ""
             }
            },
            "type": "scatter3d"
           }
          ],
          "scattercarpet": [
           {
            "marker": {
             "colorbar": {
              "outlinewidth": 0,
              "ticks": ""
             }
            },
            "type": "scattercarpet"
           }
          ],
          "scattergeo": [
           {
            "marker": {
             "colorbar": {
              "outlinewidth": 0,
              "ticks": ""
             }
            },
            "type": "scattergeo"
           }
          ],
          "scattergl": [
           {
            "marker": {
             "colorbar": {
              "outlinewidth": 0,
              "ticks": ""
             }
            },
            "type": "scattergl"
           }
          ],
          "scattermapbox": [
           {
            "marker": {
             "colorbar": {
              "outlinewidth": 0,
              "ticks": ""
             }
            },
            "type": "scattermapbox"
           }
          ],
          "scatterpolar": [
           {
            "marker": {
             "colorbar": {
              "outlinewidth": 0,
              "ticks": ""
             }
            },
            "type": "scatterpolar"
           }
          ],
          "scatterpolargl": [
           {
            "marker": {
             "colorbar": {
              "outlinewidth": 0,
              "ticks": ""
             }
            },
            "type": "scatterpolargl"
           }
          ],
          "scatterternary": [
           {
            "marker": {
             "colorbar": {
              "outlinewidth": 0,
              "ticks": ""
             }
            },
            "type": "scatterternary"
           }
          ],
          "surface": [
           {
            "colorbar": {
             "outlinewidth": 0,
             "ticks": ""
            },
            "colorscale": [
             [
              0,
              "#0d0887"
             ],
             [
              0.1111111111111111,
              "#46039f"
             ],
             [
              0.2222222222222222,
              "#7201a8"
             ],
             [
              0.3333333333333333,
              "#9c179e"
             ],
             [
              0.4444444444444444,
              "#bd3786"
             ],
             [
              0.5555555555555556,
              "#d8576b"
             ],
             [
              0.6666666666666666,
              "#ed7953"
             ],
             [
              0.7777777777777778,
              "#fb9f3a"
             ],
             [
              0.8888888888888888,
              "#fdca26"
             ],
             [
              1,
              "#f0f921"
             ]
            ],
            "type": "surface"
           }
          ],
          "table": [
           {
            "cells": {
             "fill": {
              "color": "#EBF0F8"
             },
             "line": {
              "color": "white"
             }
            },
            "header": {
             "fill": {
              "color": "#C8D4E3"
             },
             "line": {
              "color": "white"
             }
            },
            "type": "table"
           }
          ]
         },
         "layout": {
          "annotationdefaults": {
           "arrowcolor": "#2a3f5f",
           "arrowhead": 0,
           "arrowwidth": 1
          },
          "autotypenumbers": "strict",
          "coloraxis": {
           "colorbar": {
            "outlinewidth": 0,
            "ticks": ""
           }
          },
          "colorscale": {
           "diverging": [
            [
             0,
             "#8e0152"
            ],
            [
             0.1,
             "#c51b7d"
            ],
            [
             0.2,
             "#de77ae"
            ],
            [
             0.3,
             "#f1b6da"
            ],
            [
             0.4,
             "#fde0ef"
            ],
            [
             0.5,
             "#f7f7f7"
            ],
            [
             0.6,
             "#e6f5d0"
            ],
            [
             0.7,
             "#b8e186"
            ],
            [
             0.8,
             "#7fbc41"
            ],
            [
             0.9,
             "#4d9221"
            ],
            [
             1,
             "#276419"
            ]
           ],
           "sequential": [
            [
             0,
             "#0d0887"
            ],
            [
             0.1111111111111111,
             "#46039f"
            ],
            [
             0.2222222222222222,
             "#7201a8"
            ],
            [
             0.3333333333333333,
             "#9c179e"
            ],
            [
             0.4444444444444444,
             "#bd3786"
            ],
            [
             0.5555555555555556,
             "#d8576b"
            ],
            [
             0.6666666666666666,
             "#ed7953"
            ],
            [
             0.7777777777777778,
             "#fb9f3a"
            ],
            [
             0.8888888888888888,
             "#fdca26"
            ],
            [
             1,
             "#f0f921"
            ]
           ],
           "sequentialminus": [
            [
             0,
             "#0d0887"
            ],
            [
             0.1111111111111111,
             "#46039f"
            ],
            [
             0.2222222222222222,
             "#7201a8"
            ],
            [
             0.3333333333333333,
             "#9c179e"
            ],
            [
             0.4444444444444444,
             "#bd3786"
            ],
            [
             0.5555555555555556,
             "#d8576b"
            ],
            [
             0.6666666666666666,
             "#ed7953"
            ],
            [
             0.7777777777777778,
             "#fb9f3a"
            ],
            [
             0.8888888888888888,
             "#fdca26"
            ],
            [
             1,
             "#f0f921"
            ]
           ]
          },
          "colorway": [
           "#636efa",
           "#EF553B",
           "#00cc96",
           "#ab63fa",
           "#FFA15A",
           "#19d3f3",
           "#FF6692",
           "#B6E880",
           "#FF97FF",
           "#FECB52"
          ],
          "font": {
           "color": "#2a3f5f"
          },
          "geo": {
           "bgcolor": "white",
           "lakecolor": "white",
           "landcolor": "#E5ECF6",
           "showlakes": true,
           "showland": true,
           "subunitcolor": "white"
          },
          "hoverlabel": {
           "align": "left"
          },
          "hovermode": "closest",
          "mapbox": {
           "style": "light"
          },
          "paper_bgcolor": "white",
          "plot_bgcolor": "#E5ECF6",
          "polar": {
           "angularaxis": {
            "gridcolor": "white",
            "linecolor": "white",
            "ticks": ""
           },
           "bgcolor": "#E5ECF6",
           "radialaxis": {
            "gridcolor": "white",
            "linecolor": "white",
            "ticks": ""
           }
          },
          "scene": {
           "xaxis": {
            "backgroundcolor": "#E5ECF6",
            "gridcolor": "white",
            "gridwidth": 2,
            "linecolor": "white",
            "showbackground": true,
            "ticks": "",
            "zerolinecolor": "white"
           },
           "yaxis": {
            "backgroundcolor": "#E5ECF6",
            "gridcolor": "white",
            "gridwidth": 2,
            "linecolor": "white",
            "showbackground": true,
            "ticks": "",
            "zerolinecolor": "white"
           },
           "zaxis": {
            "backgroundcolor": "#E5ECF6",
            "gridcolor": "white",
            "gridwidth": 2,
            "linecolor": "white",
            "showbackground": true,
            "ticks": "",
            "zerolinecolor": "white"
           }
          },
          "shapedefaults": {
           "line": {
            "color": "#2a3f5f"
           }
          },
          "ternary": {
           "aaxis": {
            "gridcolor": "white",
            "linecolor": "white",
            "ticks": ""
           },
           "baxis": {
            "gridcolor": "white",
            "linecolor": "white",
            "ticks": ""
           },
           "bgcolor": "#E5ECF6",
           "caxis": {
            "gridcolor": "white",
            "linecolor": "white",
            "ticks": ""
           }
          },
          "title": {
           "x": 0.05
          },
          "xaxis": {
           "automargin": true,
           "gridcolor": "white",
           "linecolor": "white",
           "ticks": "",
           "title": {
            "standoff": 15
           },
           "zerolinecolor": "white",
           "zerolinewidth": 2
          },
          "yaxis": {
           "automargin": true,
           "gridcolor": "white",
           "linecolor": "white",
           "ticks": "",
           "title": {
            "standoff": 15
           },
           "zerolinecolor": "white",
           "zerolinewidth": 2
          }
         }
        },
        "xaxis": {
         "anchor": "y",
         "domain": [
          0,
          1
         ],
         "title": {
          "text": "MaritalStatus"
         }
        },
        "yaxis": {
         "anchor": "x",
         "domain": [
          0,
          1
         ],
         "title": {
          "text": "count"
         }
        }
       }
      },
      "text/html": [
       "<div>                            <div id=\"a7a8880f-32cc-4efd-99ac-0128cfaab055\" class=\"plotly-graph-div\" style=\"height:525px; width:100%;\"></div>            <script type=\"text/javascript\">                require([\"plotly\"], function(Plotly) {                    window.PLOTLYENV=window.PLOTLYENV || {};                                    if (document.getElementById(\"a7a8880f-32cc-4efd-99ac-0128cfaab055\")) {                    Plotly.newPlot(                        \"a7a8880f-32cc-4efd-99ac-0128cfaab055\",                        [{\"alignmentgroup\":\"True\",\"bingroup\":\"x\",\"hovertemplate\":\"ResidentialArea=North-West of Riyadh<br>MaritalStatus=%{x}<br>count=%{y}<extra></extra>\",\"legendgroup\":\"North-West of Riyadh\",\"marker\":{\"color\":\"#636efa\",\"pattern\":{\"shape\":\"\"}},\"name\":\"North-West of Riyadh\",\"offsetgroup\":\"North-West of Riyadh\",\"orientation\":\"v\",\"showlegend\":true,\"x\":[\"Single\",\"Married with kids\",\"Married with kids\",\"Single with kids\",\"Single\",\"Single\",\"Single with kids\",\"Married with no kids\",\"Married with kids\",\"Married with kids\",\"Married with no kids\",\"Single with kids\",\"Married with kids\",\"Married with no kids\",\"Married with kids\",\"Single with kids\",\"Single\",\"Married with kids\",\"Married with kids\",\"Married with kids\",\"Single\",\"Single\",\"Married with kids\",\"Married with kids\",\"Single with kids\",\"Single with kids\",\"Single with kids\",\"Married with kids\",\"Married with kids\",\"Single with kids\",\"Single with kids\",\"Single\",\"Single with kids\",\"Married with kids\",\"Married with kids\",\"Married with kids\",\"Single\",\"Married with no kids\",\"Single with kids\",\"Single\",\"Married with kids\",\"Single with kids\",\"Single with kids\",\"Single with kids\",\"Married with kids\",\"Married with no kids\",\"Married with no kids\",\"Married with no kids\",\"Married with kids\",\"Married with kids\",\"Married with kids\",\"Single with kids\",\"Single with kids\",\"Married with no kids\",\"Single with kids\",\"Married with no kids\",\"Single with kids\",\"Single\",\"Married with kids\",\"Single with kids\",\"Single\",\"Single\",\"Single with kids\",\"Single\",\"Single\",\"Married with no kids\",\"Married with no kids\",\"Married with kids\",\"Married with kids\",\"Married with kids\",\"Single\",\"Single\",\"Married with no kids\",\"Single with kids\",\"Married with no kids\",\"Married with kids\",\"Single\",\"Single\",\"Single with kids\",\"Married with kids\",\"Single with kids\",\"Married with no kids\",\"Single\",\"Married with no kids\",\"Married with kids\",\"Married with no kids\",\"Married with kids\",\"Single\",\"Married with kids\",\"Single\",\"Single\",\"Married with no kids\",\"Married with no kids\",\"Married with kids\",\"Single\",\"Married with kids\",\"Married with no kids\",\"Married with no kids\",\"Married with no kids\",\"Married with kids\",\"Single with kids\",\"Married with no kids\",\"Single\",\"Married with no kids\",\"Single with kids\",\"Married with kids\",\"Married with kids\",\"Single with kids\",\"Married with no kids\",\"Married with kids\",\"Single\",\"Married with no kids\",\"Married with kids\",\"Married with kids\",\"Single with kids\",\"Married with no kids\",\"Married with no kids\",\"Married with no kids\",\"Married with kids\",\"Single\",\"Married with kids\",\"Married with no kids\",\"Married with kids\"],\"xaxis\":\"x\",\"yaxis\":\"y\",\"type\":\"histogram\"},{\"alignmentgroup\":\"True\",\"bingroup\":\"x\",\"hovertemplate\":\"ResidentialArea=North-Eest of Riyadh<br>MaritalStatus=%{x}<br>count=%{y}<extra></extra>\",\"legendgroup\":\"North-Eest of Riyadh\",\"marker\":{\"color\":\"#EF553B\",\"pattern\":{\"shape\":\"\"}},\"name\":\"North-Eest of Riyadh\",\"offsetgroup\":\"North-Eest of Riyadh\",\"orientation\":\"v\",\"showlegend\":true,\"x\":[\"Single\",\"Married with no kids\",\"Married with kids\",\"Married with no kids\",\"Married with no kids\",\"Single with kids\",\"Single with kids\",\"Married with no kids\",\"Married with kids\",\"Married with kids\",\"Married with kids\",\"Married with no kids\",\"Married with kids\",\"Married with no kids\",\"Married with no kids\",\"Single\",\"Married with kids\",\"Single with kids\",\"Married with no kids\",\"Married with no kids\",\"Married with no kids\",\"Single with kids\",\"Married with no kids\",\"Single\",\"Single with kids\",\"Single with kids\",\"Married with no kids\",\"Single\",\"Married with no kids\",\"Single\",\"Single with kids\",\"Single\",\"Single\",\"Married with kids\",\"Married with no kids\",\"Married with no kids\",\"Married with kids\",\"Married with kids\",\"Single with kids\",\"Married with kids\",\"Single\",\"Married with no kids\",\"Married with no kids\",\"Married with kids\",\"Married with kids\",\"Single\",\"Married with kids\",\"Married with kids\",\"Married with kids\",\"Married with kids\",\"Married with kids\",\"Single\",\"Married with no kids\",\"Married with kids\",\"Married with kids\",\"Married with kids\",\"Married with no kids\",\"Single\",\"Single with kids\",\"Married with no kids\",\"Single with kids\",\"Single with kids\",\"Single with kids\",\"Married with kids\",\"Single\",\"Married with kids\",\"Single with kids\",\"Married with kids\",\"Married with kids\",\"Single\",\"Single with kids\",\"Married with kids\",\"Single with kids\",\"Married with no kids\",\"Single\",\"Married with kids\",\"Single with kids\",\"Married with kids\",\"Single with kids\",\"Married with kids\",\"Married with kids\",\"Single with kids\",\"Single\",\"Married with no kids\",\"Single\",\"Married with kids\",\"Single with kids\",\"Married with no kids\",\"Married with kids\",\"Single\",\"Single with kids\",\"Single\",\"Married with no kids\",\"Married with no kids\",\"Single with kids\",\"Single with kids\",\"Single\",\"Married with kids\",\"Single with kids\",\"Married with no kids\",\"Married with kids\",\"Married with no kids\",\"Married with kids\",\"Single with kids\",\"Married with no kids\",\"Married with kids\",\"Married with kids\",\"Single with kids\",\"Single with kids\",\"Single\",\"Married with no kids\",\"Single\",\"Married with no kids\",\"Single with kids\",\"Single with kids\",\"Single with kids\",\"Single with kids\",\"Single with kids\",\"Married with no kids\",\"Married with no kids\",\"Single\",\"Married with kids\",\"Married with kids\",\"Married with no kids\",\"Married with kids\"],\"xaxis\":\"x\",\"yaxis\":\"y\",\"type\":\"histogram\"},{\"alignmentgroup\":\"True\",\"bingroup\":\"x\",\"hovertemplate\":\"ResidentialArea=South-West of Riyadh<br>MaritalStatus=%{x}<br>count=%{y}<extra></extra>\",\"legendgroup\":\"South-West of Riyadh\",\"marker\":{\"color\":\"#00cc96\",\"pattern\":{\"shape\":\"\"}},\"name\":\"South-West of Riyadh\",\"offsetgroup\":\"South-West of Riyadh\",\"orientation\":\"v\",\"showlegend\":true,\"x\":[\"Single\",\"Single with kids\",\"Married with no kids\",\"Married with no kids\",\"Single with kids\",\"Single\",\"Single with kids\",\"Married with no kids\",\"Married with no kids\",\"Married with kids\",\"Single\",\"Single\",\"Married with kids\",\"Married with no kids\",\"Married with kids\",\"Married with kids\",\"Single with kids\",\"Single\",\"Married with no kids\",\"Single\",\"Single with kids\",\"Single\",\"Single with kids\",\"Married with no kids\",\"Married with no kids\",\"Married with kids\",\"Single with kids\",\"Single with kids\",\"Married with no kids\",\"Single with kids\",\"Single with kids\",\"Single with kids\",\"Married with kids\",\"Single\",\"Single with kids\",\"Single with kids\",\"Single\",\"Single with kids\",\"Married with no kids\",\"Single\",\"Married with kids\",\"Married with no kids\",\"Married with kids\",\"Married with kids\",\"Married with kids\",\"Single with kids\",\"Married with no kids\",\"Married with no kids\",\"Married with kids\",\"Married with no kids\",\"Married with no kids\",\"Single\",\"Married with kids\",\"Married with kids\",\"Married with no kids\",\"Married with no kids\",\"Single with kids\",\"Single with kids\",\"Single with kids\",\"Single\",\"Single\",\"Single\",\"Single with kids\",\"Single with kids\",\"Married with kids\",\"Married with kids\",\"Married with kids\",\"Single\",\"Married with kids\",\"Single\",\"Married with kids\",\"Married with no kids\",\"Married with no kids\",\"Single\",\"Single with kids\",\"Single with kids\",\"Married with no kids\",\"Single with kids\",\"Single with kids\",\"Married with kids\",\"Married with no kids\",\"Single\",\"Single\",\"Married with no kids\",\"Married with no kids\",\"Married with kids\",\"Married with no kids\",\"Single\",\"Married with kids\",\"Married with kids\",\"Married with no kids\",\"Single with kids\",\"Single with kids\",\"Single with kids\",\"Married with kids\",\"Married with no kids\",\"Single with kids\",\"Married with kids\",\"Married with no kids\",\"Single\",\"Married with kids\",\"Married with kids\",\"Single with kids\",\"Married with kids\",\"Single\",\"Married with no kids\",\"Married with kids\",\"Single\",\"Married with kids\",\"Single with kids\",\"Single with kids\",\"Married with no kids\",\"Single with kids\",\"Married with no kids\",\"Single with kids\",\"Single with kids\",\"Single\",\"Single\",\"Married with kids\",\"Married with kids\",\"Married with kids\",\"Married with kids\",\"Married with kids\",\"Married with kids\",\"Married with kids\",\"Single with kids\"],\"xaxis\":\"x\",\"yaxis\":\"y\",\"type\":\"histogram\"},{\"alignmentgroup\":\"True\",\"bingroup\":\"x\",\"hovertemplate\":\"ResidentialArea=South-Eest of Riyadh<br>MaritalStatus=%{x}<br>count=%{y}<extra></extra>\",\"legendgroup\":\"South-Eest of Riyadh\",\"marker\":{\"color\":\"#ab63fa\",\"pattern\":{\"shape\":\"\"}},\"name\":\"South-Eest of Riyadh\",\"offsetgroup\":\"South-Eest of Riyadh\",\"orientation\":\"v\",\"showlegend\":true,\"x\":[\"Married with no kids\",\"Married with no kids\",\"Single with kids\",\"Married with no kids\",\"Single\",\"Single\",\"Married with kids\",\"Single\",\"Single\",\"Married with no kids\",\"Married with kids\",\"Married with no kids\",\"Single\",\"Married with kids\",\"Single with kids\",\"Married with no kids\",\"Single with kids\",\"Married with no kids\",\"Single with kids\",\"Single with kids\",\"Single with kids\",\"Married with no kids\",\"Married with no kids\",\"Married with kids\",\"Single\",\"Single\",\"Single with kids\",\"Married with no kids\",\"Married with no kids\",\"Married with no kids\",\"Married with kids\",\"Single\",\"Single with kids\",\"Single with kids\",\"Married with kids\",\"Married with no kids\",\"Married with no kids\",\"Single with kids\",\"Married with kids\",\"Married with kids\",\"Married with kids\",\"Single with kids\",\"Single with kids\",\"Single with kids\",\"Married with kids\",\"Married with no kids\",\"Single\",\"Single\",\"Married with no kids\",\"Single\",\"Single\",\"Married with no kids\",\"Single with kids\",\"Married with no kids\",\"Single\",\"Single\",\"Single\",\"Married with no kids\",\"Single\",\"Single with kids\",\"Single\",\"Single with kids\",\"Married with no kids\",\"Single with kids\",\"Single with kids\",\"Married with kids\",\"Married with no kids\",\"Married with no kids\",\"Married with no kids\",\"Single\",\"Single with kids\",\"Single\",\"Single\",\"Married with no kids\",\"Single with kids\",\"Single\",\"Married with no kids\",\"Single with kids\",\"Married with no kids\",\"Single\",\"Single with kids\",\"Married with kids\",\"Married with kids\",\"Married with no kids\",\"Married with kids\",\"Single\",\"Married with kids\",\"Married with no kids\",\"Married with no kids\",\"Single with kids\",\"Married with no kids\",\"Single with kids\",\"Married with kids\",\"Married with no kids\",\"Single\",\"Married with no kids\",\"Single with kids\",\"Married with kids\",\"Single with kids\",\"Single\",\"Single with kids\",\"Married with no kids\",\"Single\",\"Married with no kids\",\"Single with kids\",\"Single with kids\",\"Single with kids\",\"Single with kids\",\"Married with no kids\",\"Married with no kids\",\"Single\",\"Married with no kids\",\"Married with no kids\",\"Married with kids\",\"Single\",\"Single with kids\",\"Married with kids\",\"Single with kids\",\"Married with kids\",\"Married with kids\",\"Married with kids\",\"Married with kids\",\"Married with kids\",\"Married with no kids\",\"Married with no kids\",\"Married with kids\"],\"xaxis\":\"x\",\"yaxis\":\"y\",\"type\":\"histogram\"}],                        {\"template\":{\"data\":{\"bar\":[{\"error_x\":{\"color\":\"#2a3f5f\"},\"error_y\":{\"color\":\"#2a3f5f\"},\"marker\":{\"line\":{\"color\":\"#E5ECF6\",\"width\":0.5},\"pattern\":{\"fillmode\":\"overlay\",\"size\":10,\"solidity\":0.2}},\"type\":\"bar\"}],\"barpolar\":[{\"marker\":{\"line\":{\"color\":\"#E5ECF6\",\"width\":0.5},\"pattern\":{\"fillmode\":\"overlay\",\"size\":10,\"solidity\":0.2}},\"type\":\"barpolar\"}],\"carpet\":[{\"aaxis\":{\"endlinecolor\":\"#2a3f5f\",\"gridcolor\":\"white\",\"linecolor\":\"white\",\"minorgridcolor\":\"white\",\"startlinecolor\":\"#2a3f5f\"},\"baxis\":{\"endlinecolor\":\"#2a3f5f\",\"gridcolor\":\"white\",\"linecolor\":\"white\",\"minorgridcolor\":\"white\",\"startlinecolor\":\"#2a3f5f\"},\"type\":\"carpet\"}],\"choropleth\":[{\"colorbar\":{\"outlinewidth\":0,\"ticks\":\"\"},\"type\":\"choropleth\"}],\"contour\":[{\"colorbar\":{\"outlinewidth\":0,\"ticks\":\"\"},\"colorscale\":[[0.0,\"#0d0887\"],[0.1111111111111111,\"#46039f\"],[0.2222222222222222,\"#7201a8\"],[0.3333333333333333,\"#9c179e\"],[0.4444444444444444,\"#bd3786\"],[0.5555555555555556,\"#d8576b\"],[0.6666666666666666,\"#ed7953\"],[0.7777777777777778,\"#fb9f3a\"],[0.8888888888888888,\"#fdca26\"],[1.0,\"#f0f921\"]],\"type\":\"contour\"}],\"contourcarpet\":[{\"colorbar\":{\"outlinewidth\":0,\"ticks\":\"\"},\"type\":\"contourcarpet\"}],\"heatmap\":[{\"colorbar\":{\"outlinewidth\":0,\"ticks\":\"\"},\"colorscale\":[[0.0,\"#0d0887\"],[0.1111111111111111,\"#46039f\"],[0.2222222222222222,\"#7201a8\"],[0.3333333333333333,\"#9c179e\"],[0.4444444444444444,\"#bd3786\"],[0.5555555555555556,\"#d8576b\"],[0.6666666666666666,\"#ed7953\"],[0.7777777777777778,\"#fb9f3a\"],[0.8888888888888888,\"#fdca26\"],[1.0,\"#f0f921\"]],\"type\":\"heatmap\"}],\"heatmapgl\":[{\"colorbar\":{\"outlinewidth\":0,\"ticks\":\"\"},\"colorscale\":[[0.0,\"#0d0887\"],[0.1111111111111111,\"#46039f\"],[0.2222222222222222,\"#7201a8\"],[0.3333333333333333,\"#9c179e\"],[0.4444444444444444,\"#bd3786\"],[0.5555555555555556,\"#d8576b\"],[0.6666666666666666,\"#ed7953\"],[0.7777777777777778,\"#fb9f3a\"],[0.8888888888888888,\"#fdca26\"],[1.0,\"#f0f921\"]],\"type\":\"heatmapgl\"}],\"histogram\":[{\"marker\":{\"pattern\":{\"fillmode\":\"overlay\",\"size\":10,\"solidity\":0.2}},\"type\":\"histogram\"}],\"histogram2d\":[{\"colorbar\":{\"outlinewidth\":0,\"ticks\":\"\"},\"colorscale\":[[0.0,\"#0d0887\"],[0.1111111111111111,\"#46039f\"],[0.2222222222222222,\"#7201a8\"],[0.3333333333333333,\"#9c179e\"],[0.4444444444444444,\"#bd3786\"],[0.5555555555555556,\"#d8576b\"],[0.6666666666666666,\"#ed7953\"],[0.7777777777777778,\"#fb9f3a\"],[0.8888888888888888,\"#fdca26\"],[1.0,\"#f0f921\"]],\"type\":\"histogram2d\"}],\"histogram2dcontour\":[{\"colorbar\":{\"outlinewidth\":0,\"ticks\":\"\"},\"colorscale\":[[0.0,\"#0d0887\"],[0.1111111111111111,\"#46039f\"],[0.2222222222222222,\"#7201a8\"],[0.3333333333333333,\"#9c179e\"],[0.4444444444444444,\"#bd3786\"],[0.5555555555555556,\"#d8576b\"],[0.6666666666666666,\"#ed7953\"],[0.7777777777777778,\"#fb9f3a\"],[0.8888888888888888,\"#fdca26\"],[1.0,\"#f0f921\"]],\"type\":\"histogram2dcontour\"}],\"mesh3d\":[{\"colorbar\":{\"outlinewidth\":0,\"ticks\":\"\"},\"type\":\"mesh3d\"}],\"parcoords\":[{\"line\":{\"colorbar\":{\"outlinewidth\":0,\"ticks\":\"\"}},\"type\":\"parcoords\"}],\"pie\":[{\"automargin\":true,\"type\":\"pie\"}],\"scatter\":[{\"marker\":{\"colorbar\":{\"outlinewidth\":0,\"ticks\":\"\"}},\"type\":\"scatter\"}],\"scatter3d\":[{\"line\":{\"colorbar\":{\"outlinewidth\":0,\"ticks\":\"\"}},\"marker\":{\"colorbar\":{\"outlinewidth\":0,\"ticks\":\"\"}},\"type\":\"scatter3d\"}],\"scattercarpet\":[{\"marker\":{\"colorbar\":{\"outlinewidth\":0,\"ticks\":\"\"}},\"type\":\"scattercarpet\"}],\"scattergeo\":[{\"marker\":{\"colorbar\":{\"outlinewidth\":0,\"ticks\":\"\"}},\"type\":\"scattergeo\"}],\"scattergl\":[{\"marker\":{\"colorbar\":{\"outlinewidth\":0,\"ticks\":\"\"}},\"type\":\"scattergl\"}],\"scattermapbox\":[{\"marker\":{\"colorbar\":{\"outlinewidth\":0,\"ticks\":\"\"}},\"type\":\"scattermapbox\"}],\"scatterpolar\":[{\"marker\":{\"colorbar\":{\"outlinewidth\":0,\"ticks\":\"\"}},\"type\":\"scatterpolar\"}],\"scatterpolargl\":[{\"marker\":{\"colorbar\":{\"outlinewidth\":0,\"ticks\":\"\"}},\"type\":\"scatterpolargl\"}],\"scatterternary\":[{\"marker\":{\"colorbar\":{\"outlinewidth\":0,\"ticks\":\"\"}},\"type\":\"scatterternary\"}],\"surface\":[{\"colorbar\":{\"outlinewidth\":0,\"ticks\":\"\"},\"colorscale\":[[0.0,\"#0d0887\"],[0.1111111111111111,\"#46039f\"],[0.2222222222222222,\"#7201a8\"],[0.3333333333333333,\"#9c179e\"],[0.4444444444444444,\"#bd3786\"],[0.5555555555555556,\"#d8576b\"],[0.6666666666666666,\"#ed7953\"],[0.7777777777777778,\"#fb9f3a\"],[0.8888888888888888,\"#fdca26\"],[1.0,\"#f0f921\"]],\"type\":\"surface\"}],\"table\":[{\"cells\":{\"fill\":{\"color\":\"#EBF0F8\"},\"line\":{\"color\":\"white\"}},\"header\":{\"fill\":{\"color\":\"#C8D4E3\"},\"line\":{\"color\":\"white\"}},\"type\":\"table\"}]},\"layout\":{\"annotationdefaults\":{\"arrowcolor\":\"#2a3f5f\",\"arrowhead\":0,\"arrowwidth\":1},\"autotypenumbers\":\"strict\",\"coloraxis\":{\"colorbar\":{\"outlinewidth\":0,\"ticks\":\"\"}},\"colorscale\":{\"diverging\":[[0,\"#8e0152\"],[0.1,\"#c51b7d\"],[0.2,\"#de77ae\"],[0.3,\"#f1b6da\"],[0.4,\"#fde0ef\"],[0.5,\"#f7f7f7\"],[0.6,\"#e6f5d0\"],[0.7,\"#b8e186\"],[0.8,\"#7fbc41\"],[0.9,\"#4d9221\"],[1,\"#276419\"]],\"sequential\":[[0.0,\"#0d0887\"],[0.1111111111111111,\"#46039f\"],[0.2222222222222222,\"#7201a8\"],[0.3333333333333333,\"#9c179e\"],[0.4444444444444444,\"#bd3786\"],[0.5555555555555556,\"#d8576b\"],[0.6666666666666666,\"#ed7953\"],[0.7777777777777778,\"#fb9f3a\"],[0.8888888888888888,\"#fdca26\"],[1.0,\"#f0f921\"]],\"sequentialminus\":[[0.0,\"#0d0887\"],[0.1111111111111111,\"#46039f\"],[0.2222222222222222,\"#7201a8\"],[0.3333333333333333,\"#9c179e\"],[0.4444444444444444,\"#bd3786\"],[0.5555555555555556,\"#d8576b\"],[0.6666666666666666,\"#ed7953\"],[0.7777777777777778,\"#fb9f3a\"],[0.8888888888888888,\"#fdca26\"],[1.0,\"#f0f921\"]]},\"colorway\":[\"#636efa\",\"#EF553B\",\"#00cc96\",\"#ab63fa\",\"#FFA15A\",\"#19d3f3\",\"#FF6692\",\"#B6E880\",\"#FF97FF\",\"#FECB52\"],\"font\":{\"color\":\"#2a3f5f\"},\"geo\":{\"bgcolor\":\"white\",\"lakecolor\":\"white\",\"landcolor\":\"#E5ECF6\",\"showlakes\":true,\"showland\":true,\"subunitcolor\":\"white\"},\"hoverlabel\":{\"align\":\"left\"},\"hovermode\":\"closest\",\"mapbox\":{\"style\":\"light\"},\"paper_bgcolor\":\"white\",\"plot_bgcolor\":\"#E5ECF6\",\"polar\":{\"angularaxis\":{\"gridcolor\":\"white\",\"linecolor\":\"white\",\"ticks\":\"\"},\"bgcolor\":\"#E5ECF6\",\"radialaxis\":{\"gridcolor\":\"white\",\"linecolor\":\"white\",\"ticks\":\"\"}},\"scene\":{\"xaxis\":{\"backgroundcolor\":\"#E5ECF6\",\"gridcolor\":\"white\",\"gridwidth\":2,\"linecolor\":\"white\",\"showbackground\":true,\"ticks\":\"\",\"zerolinecolor\":\"white\"},\"yaxis\":{\"backgroundcolor\":\"#E5ECF6\",\"gridcolor\":\"white\",\"gridwidth\":2,\"linecolor\":\"white\",\"showbackground\":true,\"ticks\":\"\",\"zerolinecolor\":\"white\"},\"zaxis\":{\"backgroundcolor\":\"#E5ECF6\",\"gridcolor\":\"white\",\"gridwidth\":2,\"linecolor\":\"white\",\"showbackground\":true,\"ticks\":\"\",\"zerolinecolor\":\"white\"}},\"shapedefaults\":{\"line\":{\"color\":\"#2a3f5f\"}},\"ternary\":{\"aaxis\":{\"gridcolor\":\"white\",\"linecolor\":\"white\",\"ticks\":\"\"},\"baxis\":{\"gridcolor\":\"white\",\"linecolor\":\"white\",\"ticks\":\"\"},\"bgcolor\":\"#E5ECF6\",\"caxis\":{\"gridcolor\":\"white\",\"linecolor\":\"white\",\"ticks\":\"\"}},\"title\":{\"x\":0.05},\"xaxis\":{\"automargin\":true,\"gridcolor\":\"white\",\"linecolor\":\"white\",\"ticks\":\"\",\"title\":{\"standoff\":15},\"zerolinecolor\":\"white\",\"zerolinewidth\":2},\"yaxis\":{\"automargin\":true,\"gridcolor\":\"white\",\"linecolor\":\"white\",\"ticks\":\"\",\"title\":{\"standoff\":15},\"zerolinecolor\":\"white\",\"zerolinewidth\":2}}},\"xaxis\":{\"anchor\":\"y\",\"domain\":[0.0,1.0],\"title\":{\"text\":\"MaritalStatus\"}},\"yaxis\":{\"anchor\":\"x\",\"domain\":[0.0,1.0],\"title\":{\"text\":\"count\"}},\"legend\":{\"title\":{\"text\":\"ResidentialArea\"},\"tracegroupgap\":0},\"margin\":{\"t\":60},\"barmode\":\"group\"},                        {\"responsive\": true}                    ).then(function(){\n",
       "                            \n",
       "var gd = document.getElementById('a7a8880f-32cc-4efd-99ac-0128cfaab055');\n",
       "var x = new MutationObserver(function (mutations, observer) {{\n",
       "        var display = window.getComputedStyle(gd).display;\n",
       "        if (!display || display === 'none') {{\n",
       "            console.log([gd, 'removed!']);\n",
       "            Plotly.purge(gd);\n",
       "            observer.disconnect();\n",
       "        }}\n",
       "}});\n",
       "\n",
       "// Listen for the removal of the full notebook cells\n",
       "var notebookContainer = gd.closest('#notebook-container');\n",
       "if (notebookContainer) {{\n",
       "    x.observe(notebookContainer, {childList: true});\n",
       "}}\n",
       "\n",
       "// Listen for the clearing of the current output cell\n",
       "var outputEl = gd.closest('.output');\n",
       "if (outputEl) {{\n",
       "    x.observe(outputEl, {childList: true});\n",
       "}}\n",
       "\n",
       "                        })                };                });            </script>        </div>"
      ]
     },
     "metadata": {},
     "output_type": "display_data"
    }
   ],
   "source": [
    "fig = px.histogram(df_viz, x=\"MaritalStatus\",\n",
    "             color=\"ResidentialArea\", barmode = 'group')\n",
    "fig.show()"
   ]
  },
  {
   "cell_type": "code",
   "execution_count": 33,
   "metadata": {},
   "outputs": [
    {
     "data": {
      "application/vnd.plotly.v1+json": {
       "config": {
        "plotlyServerURL": "https://plot.ly"
       },
       "data": [
        {
         "alignmentgroup": "True",
         "bingroup": "x",
         "hovertemplate": "MaritalStatus=%{x}<br>count=%{y}<extra></extra>",
         "legendgroup": "",
         "marker": {
          "color": "#636efa",
          "pattern": {
           "shape": ""
          }
         },
         "name": "",
         "offsetgroup": "",
         "orientation": "v",
         "showlegend": false,
         "type": "histogram",
         "x": [
          "Single",
          "Single",
          "Single",
          "Married with kids",
          "Married with no kids",
          "Married with kids",
          "Married with no kids",
          "Married with no kids",
          "Single with kids",
          "Married with kids",
          "Single with kids",
          "Single",
          "Married with no kids",
          "Single with kids",
          "Married with no kids",
          "Single",
          "Single with kids",
          "Single with kids",
          "Married with no kids",
          "Married with kids",
          "Married with no kids",
          "Married with kids",
          "Single with kids",
          "Married with no kids",
          "Married with no kids",
          "Married with no kids",
          "Married with no kids",
          "Married with kids",
          "Single",
          "Single",
          "Married with kids",
          "Married with kids",
          "Single with kids",
          "Single",
          "Single",
          "Married with kids",
          "Single",
          "Married with no kids",
          "Single with kids",
          "Married with no kids",
          "Married with no kids",
          "Married with kids",
          "Married with no kids",
          "Married with no kids",
          "Single",
          "Married with kids",
          "Married with no kids",
          "Single with kids",
          "Married with kids",
          "Married with kids",
          "Single",
          "Married with kids",
          "Married with no kids",
          "Single",
          "Single with kids",
          "Married with kids",
          "Single with kids",
          "Married with no kids",
          "Single",
          "Married with no kids",
          "Single with kids",
          "Married with no kids",
          "Married with kids",
          "Married with no kids",
          "Married with no kids",
          "Married with kids",
          "Single with kids",
          "Single with kids",
          "Married with kids",
          "Married with kids",
          "Single with kids",
          "Married with no kids",
          "Single with kids",
          "Married with no kids",
          "Single with kids",
          "Married with no kids",
          "Single",
          "Single",
          "Married with no kids",
          "Married with kids",
          "Married with kids",
          "Married with kids",
          "Single",
          "Single",
          "Single with kids",
          "Married with no kids",
          "Single",
          "Single with kids",
          "Single",
          "Single with kids",
          "Single with kids",
          "Single",
          "Single with kids",
          "Married with no kids",
          "Married with no kids",
          "Married with kids",
          "Single",
          "Married with no kids",
          "Single",
          "Married with kids",
          "Married with no kids",
          "Married with kids",
          "Single",
          "Married with kids",
          "Single with kids",
          "Single with kids",
          "Single with kids",
          "Married with no kids",
          "Married with no kids",
          "Single",
          "Married with no kids",
          "Single with kids",
          "Married with no kids",
          "Single with kids",
          "Single with kids",
          "Single",
          "Married with kids",
          "Married with no kids",
          "Single",
          "Single with kids",
          "Married with kids",
          "Married with kids",
          "Single with kids",
          "Single with kids",
          "Single with kids",
          "Single with kids",
          "Single",
          "Single with kids",
          "Married with kids",
          "Single with kids",
          "Single with kids",
          "Married with kids",
          "Married with no kids",
          "Single",
          "Married with no kids",
          "Married with no kids",
          "Single with kids",
          "Married with kids",
          "Married with kids",
          "Single with kids",
          "Married with kids",
          "Married with no kids",
          "Married with kids",
          "Married with kids",
          "Single",
          "Married with kids",
          "Married with kids",
          "Single with kids",
          "Married with kids",
          "Single",
          "Single with kids",
          "Married with kids",
          "Single with kids",
          "Single with kids",
          "Single with kids",
          "Married with kids",
          "Single with kids",
          "Single",
          "Single with kids",
          "Married with no kids",
          "Married with kids",
          "Single",
          "Married with no kids",
          "Single",
          "Married with kids",
          "Married with no kids",
          "Married with no kids",
          "Single with kids",
          "Single",
          "Married with kids",
          "Married with no kids",
          "Single",
          "Married with kids",
          "Married with kids",
          "Single",
          "Married with kids",
          "Single with kids",
          "Married with no kids",
          "Single with kids",
          "Single",
          "Married with no kids",
          "Single",
          "Single with kids",
          "Married with no kids",
          "Married with no kids",
          "Single with kids",
          "Married with kids",
          "Married with kids",
          "Married with no kids",
          "Married with kids",
          "Married with kids",
          "Single with kids",
          "Single",
          "Married with no kids",
          "Married with no kids",
          "Married with no kids",
          "Married with no kids",
          "Single",
          "Married with no kids",
          "Single",
          "Single",
          "Single",
          "Married with no kids",
          "Married with kids",
          "Married with kids",
          "Married with kids",
          "Married with kids",
          "Married with no kids",
          "Married with no kids",
          "Married with kids",
          "Married with kids",
          "Married with no kids",
          "Single",
          "Married with kids",
          "Single with kids",
          "Single with kids",
          "Married with no kids",
          "Single with kids",
          "Single with kids",
          "Married with no kids",
          "Married with kids",
          "Single with kids",
          "Single with kids",
          "Single with kids",
          "Married with kids",
          "Married with kids",
          "Single",
          "Single",
          "Single",
          "Single with kids",
          "Single",
          "Single",
          "Single",
          "Single with kids",
          "Married with no kids",
          "Single with kids",
          "Married with kids",
          "Single with kids",
          "Married with no kids",
          "Single with kids",
          "Single with kids",
          "Married with kids",
          "Married with kids",
          "Married with kids",
          "Married with kids",
          "Single",
          "Single with kids",
          "Married with kids",
          "Married with kids",
          "Single",
          "Single with kids",
          "Married with kids",
          "Single",
          "Single",
          "Married with no kids",
          "Married with kids",
          "Single",
          "Single",
          "Married with no kids",
          "Single with kids",
          "Single",
          "Married with no kids",
          "Married with kids",
          "Married with no kids",
          "Married with no kids",
          "Married with no kids",
          "Married with no kids",
          "Single with kids",
          "Single with kids",
          "Single with kids",
          "Married with no kids",
          "Single",
          "Single with kids",
          "Married with no kids",
          "Married with kids",
          "Married with kids",
          "Single",
          "Single",
          "Single",
          "Single",
          "Married with no kids",
          "Married with kids",
          "Married with kids",
          "Single with kids",
          "Married with kids",
          "Married with kids",
          "Married with kids",
          "Single with kids",
          "Single with kids",
          "Married with no kids",
          "Single with kids",
          "Single",
          "Single",
          "Single with kids",
          "Single",
          "Single",
          "Married with kids",
          "Married with no kids",
          "Single with kids",
          "Single with kids",
          "Single with kids",
          "Married with no kids",
          "Married with no kids",
          "Single with kids",
          "Single with kids",
          "Married with no kids",
          "Married with no kids",
          "Married with kids",
          "Single",
          "Single",
          "Married with kids",
          "Single",
          "Single",
          "Married with no kids",
          "Married with kids",
          "Single with kids",
          "Married with kids",
          "Single with kids",
          "Single with kids",
          "Single",
          "Single with kids",
          "Married with kids",
          "Single with kids",
          "Married with no kids",
          "Married with kids",
          "Single",
          "Married with kids",
          "Single",
          "Married with no kids",
          "Married with no kids",
          "Married with no kids",
          "Married with no kids",
          "Married with kids",
          "Single",
          "Married with kids",
          "Married with kids",
          "Married with kids",
          "Single with kids",
          "Married with kids",
          "Single",
          "Married with kids",
          "Married with no kids",
          "Married with no kids",
          "Single",
          "Married with no kids",
          "Married with kids",
          "Single",
          "Married with kids",
          "Married with kids",
          "Married with no kids",
          "Single with kids",
          "Single with kids",
          "Married with no kids",
          "Married with kids",
          "Married with no kids",
          "Married with kids",
          "Married with no kids",
          "Married with no kids",
          "Single",
          "Single with kids",
          "Married with kids",
          "Single",
          "Single",
          "Single with kids",
          "Single",
          "Married with kids",
          "Married with no kids",
          "Single",
          "Single with kids",
          "Married with no kids",
          "Single with kids",
          "Single with kids",
          "Married with no kids",
          "Single with kids",
          "Single with kids",
          "Married with no kids",
          "Married with kids",
          "Married with no kids",
          "Married with no kids",
          "Single",
          "Married with kids",
          "Single",
          "Married with no kids",
          "Single",
          "Single with kids",
          "Married with kids",
          "Married with kids",
          "Married with kids",
          "Single with kids",
          "Single with kids",
          "Married with no kids",
          "Married with kids",
          "Single with kids",
          "Single",
          "Single with kids",
          "Married with no kids",
          "Married with no kids",
          "Married with kids",
          "Married with no kids",
          "Married with no kids",
          "Married with no kids",
          "Married with kids",
          "Single",
          "Married with kids",
          "Married with no kids",
          "Single",
          "Married with no kids",
          "Single with kids",
          "Married with kids",
          "Single with kids",
          "Married with no kids",
          "Married with kids",
          "Married with kids",
          "Single with kids",
          "Single with kids",
          "Single with kids",
          "Married with kids",
          "Single with kids",
          "Married with no kids",
          "Married with kids",
          "Single",
          "Single with kids",
          "Married with no kids",
          "Single with kids",
          "Single",
          "Married with no kids",
          "Married with kids",
          "Single with kids",
          "Single",
          "Single",
          "Married with kids",
          "Married with kids",
          "Single with kids",
          "Married with kids",
          "Single with kids",
          "Married with no kids",
          "Single with kids",
          "Single with kids",
          "Married with no kids",
          "Single with kids",
          "Single",
          "Married with no kids",
          "Married with no kids",
          "Single with kids",
          "Married with no kids",
          "Married with no kids",
          "Single with kids",
          "Married with kids",
          "Single with kids",
          "Married with no kids",
          "Single",
          "Single",
          "Single",
          "Married with no kids",
          "Single",
          "Single with kids",
          "Single with kids",
          "Single with kids",
          "Single with kids",
          "Married with no kids",
          "Married with kids",
          "Married with no kids",
          "Married with kids",
          "Married with kids",
          "Married with kids",
          "Single",
          "Married with no kids",
          "Married with kids",
          "Single with kids",
          "Single with kids",
          "Married with no kids",
          "Married with no kids",
          "Single",
          "Married with kids",
          "Married with no kids",
          "Married with kids",
          "Married with no kids",
          "Married with kids",
          "Single with kids",
          "Married with kids",
          "Married with kids",
          "Single",
          "Married with kids",
          "Married with kids",
          "Married with no kids",
          "Married with kids",
          "Married with kids",
          "Married with kids",
          "Married with kids",
          "Married with kids",
          "Married with kids",
          "Married with kids",
          "Married with kids",
          "Married with kids",
          "Married with no kids",
          "Married with no kids",
          "Married with kids",
          "Married with no kids",
          "Married with kids",
          "Single with kids"
         ],
         "xaxis": "x",
         "yaxis": "y"
        }
       ],
       "layout": {
        "barmode": "relative",
        "legend": {
         "tracegroupgap": 0
        },
        "margin": {
         "t": 60
        },
        "template": {
         "data": {
          "bar": [
           {
            "error_x": {
             "color": "#2a3f5f"
            },
            "error_y": {
             "color": "#2a3f5f"
            },
            "marker": {
             "line": {
              "color": "#E5ECF6",
              "width": 0.5
             },
             "pattern": {
              "fillmode": "overlay",
              "size": 10,
              "solidity": 0.2
             }
            },
            "type": "bar"
           }
          ],
          "barpolar": [
           {
            "marker": {
             "line": {
              "color": "#E5ECF6",
              "width": 0.5
             },
             "pattern": {
              "fillmode": "overlay",
              "size": 10,
              "solidity": 0.2
             }
            },
            "type": "barpolar"
           }
          ],
          "carpet": [
           {
            "aaxis": {
             "endlinecolor": "#2a3f5f",
             "gridcolor": "white",
             "linecolor": "white",
             "minorgridcolor": "white",
             "startlinecolor": "#2a3f5f"
            },
            "baxis": {
             "endlinecolor": "#2a3f5f",
             "gridcolor": "white",
             "linecolor": "white",
             "minorgridcolor": "white",
             "startlinecolor": "#2a3f5f"
            },
            "type": "carpet"
           }
          ],
          "choropleth": [
           {
            "colorbar": {
             "outlinewidth": 0,
             "ticks": ""
            },
            "type": "choropleth"
           }
          ],
          "contour": [
           {
            "colorbar": {
             "outlinewidth": 0,
             "ticks": ""
            },
            "colorscale": [
             [
              0,
              "#0d0887"
             ],
             [
              0.1111111111111111,
              "#46039f"
             ],
             [
              0.2222222222222222,
              "#7201a8"
             ],
             [
              0.3333333333333333,
              "#9c179e"
             ],
             [
              0.4444444444444444,
              "#bd3786"
             ],
             [
              0.5555555555555556,
              "#d8576b"
             ],
             [
              0.6666666666666666,
              "#ed7953"
             ],
             [
              0.7777777777777778,
              "#fb9f3a"
             ],
             [
              0.8888888888888888,
              "#fdca26"
             ],
             [
              1,
              "#f0f921"
             ]
            ],
            "type": "contour"
           }
          ],
          "contourcarpet": [
           {
            "colorbar": {
             "outlinewidth": 0,
             "ticks": ""
            },
            "type": "contourcarpet"
           }
          ],
          "heatmap": [
           {
            "colorbar": {
             "outlinewidth": 0,
             "ticks": ""
            },
            "colorscale": [
             [
              0,
              "#0d0887"
             ],
             [
              0.1111111111111111,
              "#46039f"
             ],
             [
              0.2222222222222222,
              "#7201a8"
             ],
             [
              0.3333333333333333,
              "#9c179e"
             ],
             [
              0.4444444444444444,
              "#bd3786"
             ],
             [
              0.5555555555555556,
              "#d8576b"
             ],
             [
              0.6666666666666666,
              "#ed7953"
             ],
             [
              0.7777777777777778,
              "#fb9f3a"
             ],
             [
              0.8888888888888888,
              "#fdca26"
             ],
             [
              1,
              "#f0f921"
             ]
            ],
            "type": "heatmap"
           }
          ],
          "heatmapgl": [
           {
            "colorbar": {
             "outlinewidth": 0,
             "ticks": ""
            },
            "colorscale": [
             [
              0,
              "#0d0887"
             ],
             [
              0.1111111111111111,
              "#46039f"
             ],
             [
              0.2222222222222222,
              "#7201a8"
             ],
             [
              0.3333333333333333,
              "#9c179e"
             ],
             [
              0.4444444444444444,
              "#bd3786"
             ],
             [
              0.5555555555555556,
              "#d8576b"
             ],
             [
              0.6666666666666666,
              "#ed7953"
             ],
             [
              0.7777777777777778,
              "#fb9f3a"
             ],
             [
              0.8888888888888888,
              "#fdca26"
             ],
             [
              1,
              "#f0f921"
             ]
            ],
            "type": "heatmapgl"
           }
          ],
          "histogram": [
           {
            "marker": {
             "pattern": {
              "fillmode": "overlay",
              "size": 10,
              "solidity": 0.2
             }
            },
            "type": "histogram"
           }
          ],
          "histogram2d": [
           {
            "colorbar": {
             "outlinewidth": 0,
             "ticks": ""
            },
            "colorscale": [
             [
              0,
              "#0d0887"
             ],
             [
              0.1111111111111111,
              "#46039f"
             ],
             [
              0.2222222222222222,
              "#7201a8"
             ],
             [
              0.3333333333333333,
              "#9c179e"
             ],
             [
              0.4444444444444444,
              "#bd3786"
             ],
             [
              0.5555555555555556,
              "#d8576b"
             ],
             [
              0.6666666666666666,
              "#ed7953"
             ],
             [
              0.7777777777777778,
              "#fb9f3a"
             ],
             [
              0.8888888888888888,
              "#fdca26"
             ],
             [
              1,
              "#f0f921"
             ]
            ],
            "type": "histogram2d"
           }
          ],
          "histogram2dcontour": [
           {
            "colorbar": {
             "outlinewidth": 0,
             "ticks": ""
            },
            "colorscale": [
             [
              0,
              "#0d0887"
             ],
             [
              0.1111111111111111,
              "#46039f"
             ],
             [
              0.2222222222222222,
              "#7201a8"
             ],
             [
              0.3333333333333333,
              "#9c179e"
             ],
             [
              0.4444444444444444,
              "#bd3786"
             ],
             [
              0.5555555555555556,
              "#d8576b"
             ],
             [
              0.6666666666666666,
              "#ed7953"
             ],
             [
              0.7777777777777778,
              "#fb9f3a"
             ],
             [
              0.8888888888888888,
              "#fdca26"
             ],
             [
              1,
              "#f0f921"
             ]
            ],
            "type": "histogram2dcontour"
           }
          ],
          "mesh3d": [
           {
            "colorbar": {
             "outlinewidth": 0,
             "ticks": ""
            },
            "type": "mesh3d"
           }
          ],
          "parcoords": [
           {
            "line": {
             "colorbar": {
              "outlinewidth": 0,
              "ticks": ""
             }
            },
            "type": "parcoords"
           }
          ],
          "pie": [
           {
            "automargin": true,
            "type": "pie"
           }
          ],
          "scatter": [
           {
            "marker": {
             "colorbar": {
              "outlinewidth": 0,
              "ticks": ""
             }
            },
            "type": "scatter"
           }
          ],
          "scatter3d": [
           {
            "line": {
             "colorbar": {
              "outlinewidth": 0,
              "ticks": ""
             }
            },
            "marker": {
             "colorbar": {
              "outlinewidth": 0,
              "ticks": ""
             }
            },
            "type": "scatter3d"
           }
          ],
          "scattercarpet": [
           {
            "marker": {
             "colorbar": {
              "outlinewidth": 0,
              "ticks": ""
             }
            },
            "type": "scattercarpet"
           }
          ],
          "scattergeo": [
           {
            "marker": {
             "colorbar": {
              "outlinewidth": 0,
              "ticks": ""
             }
            },
            "type": "scattergeo"
           }
          ],
          "scattergl": [
           {
            "marker": {
             "colorbar": {
              "outlinewidth": 0,
              "ticks": ""
             }
            },
            "type": "scattergl"
           }
          ],
          "scattermapbox": [
           {
            "marker": {
             "colorbar": {
              "outlinewidth": 0,
              "ticks": ""
             }
            },
            "type": "scattermapbox"
           }
          ],
          "scatterpolar": [
           {
            "marker": {
             "colorbar": {
              "outlinewidth": 0,
              "ticks": ""
             }
            },
            "type": "scatterpolar"
           }
          ],
          "scatterpolargl": [
           {
            "marker": {
             "colorbar": {
              "outlinewidth": 0,
              "ticks": ""
             }
            },
            "type": "scatterpolargl"
           }
          ],
          "scatterternary": [
           {
            "marker": {
             "colorbar": {
              "outlinewidth": 0,
              "ticks": ""
             }
            },
            "type": "scatterternary"
           }
          ],
          "surface": [
           {
            "colorbar": {
             "outlinewidth": 0,
             "ticks": ""
            },
            "colorscale": [
             [
              0,
              "#0d0887"
             ],
             [
              0.1111111111111111,
              "#46039f"
             ],
             [
              0.2222222222222222,
              "#7201a8"
             ],
             [
              0.3333333333333333,
              "#9c179e"
             ],
             [
              0.4444444444444444,
              "#bd3786"
             ],
             [
              0.5555555555555556,
              "#d8576b"
             ],
             [
              0.6666666666666666,
              "#ed7953"
             ],
             [
              0.7777777777777778,
              "#fb9f3a"
             ],
             [
              0.8888888888888888,
              "#fdca26"
             ],
             [
              1,
              "#f0f921"
             ]
            ],
            "type": "surface"
           }
          ],
          "table": [
           {
            "cells": {
             "fill": {
              "color": "#EBF0F8"
             },
             "line": {
              "color": "white"
             }
            },
            "header": {
             "fill": {
              "color": "#C8D4E3"
             },
             "line": {
              "color": "white"
             }
            },
            "type": "table"
           }
          ]
         },
         "layout": {
          "annotationdefaults": {
           "arrowcolor": "#2a3f5f",
           "arrowhead": 0,
           "arrowwidth": 1
          },
          "autotypenumbers": "strict",
          "coloraxis": {
           "colorbar": {
            "outlinewidth": 0,
            "ticks": ""
           }
          },
          "colorscale": {
           "diverging": [
            [
             0,
             "#8e0152"
            ],
            [
             0.1,
             "#c51b7d"
            ],
            [
             0.2,
             "#de77ae"
            ],
            [
             0.3,
             "#f1b6da"
            ],
            [
             0.4,
             "#fde0ef"
            ],
            [
             0.5,
             "#f7f7f7"
            ],
            [
             0.6,
             "#e6f5d0"
            ],
            [
             0.7,
             "#b8e186"
            ],
            [
             0.8,
             "#7fbc41"
            ],
            [
             0.9,
             "#4d9221"
            ],
            [
             1,
             "#276419"
            ]
           ],
           "sequential": [
            [
             0,
             "#0d0887"
            ],
            [
             0.1111111111111111,
             "#46039f"
            ],
            [
             0.2222222222222222,
             "#7201a8"
            ],
            [
             0.3333333333333333,
             "#9c179e"
            ],
            [
             0.4444444444444444,
             "#bd3786"
            ],
            [
             0.5555555555555556,
             "#d8576b"
            ],
            [
             0.6666666666666666,
             "#ed7953"
            ],
            [
             0.7777777777777778,
             "#fb9f3a"
            ],
            [
             0.8888888888888888,
             "#fdca26"
            ],
            [
             1,
             "#f0f921"
            ]
           ],
           "sequentialminus": [
            [
             0,
             "#0d0887"
            ],
            [
             0.1111111111111111,
             "#46039f"
            ],
            [
             0.2222222222222222,
             "#7201a8"
            ],
            [
             0.3333333333333333,
             "#9c179e"
            ],
            [
             0.4444444444444444,
             "#bd3786"
            ],
            [
             0.5555555555555556,
             "#d8576b"
            ],
            [
             0.6666666666666666,
             "#ed7953"
            ],
            [
             0.7777777777777778,
             "#fb9f3a"
            ],
            [
             0.8888888888888888,
             "#fdca26"
            ],
            [
             1,
             "#f0f921"
            ]
           ]
          },
          "colorway": [
           "#636efa",
           "#EF553B",
           "#00cc96",
           "#ab63fa",
           "#FFA15A",
           "#19d3f3",
           "#FF6692",
           "#B6E880",
           "#FF97FF",
           "#FECB52"
          ],
          "font": {
           "color": "#2a3f5f"
          },
          "geo": {
           "bgcolor": "white",
           "lakecolor": "white",
           "landcolor": "#E5ECF6",
           "showlakes": true,
           "showland": true,
           "subunitcolor": "white"
          },
          "hoverlabel": {
           "align": "left"
          },
          "hovermode": "closest",
          "mapbox": {
           "style": "light"
          },
          "paper_bgcolor": "white",
          "plot_bgcolor": "#E5ECF6",
          "polar": {
           "angularaxis": {
            "gridcolor": "white",
            "linecolor": "white",
            "ticks": ""
           },
           "bgcolor": "#E5ECF6",
           "radialaxis": {
            "gridcolor": "white",
            "linecolor": "white",
            "ticks": ""
           }
          },
          "scene": {
           "xaxis": {
            "backgroundcolor": "#E5ECF6",
            "gridcolor": "white",
            "gridwidth": 2,
            "linecolor": "white",
            "showbackground": true,
            "ticks": "",
            "zerolinecolor": "white"
           },
           "yaxis": {
            "backgroundcolor": "#E5ECF6",
            "gridcolor": "white",
            "gridwidth": 2,
            "linecolor": "white",
            "showbackground": true,
            "ticks": "",
            "zerolinecolor": "white"
           },
           "zaxis": {
            "backgroundcolor": "#E5ECF6",
            "gridcolor": "white",
            "gridwidth": 2,
            "linecolor": "white",
            "showbackground": true,
            "ticks": "",
            "zerolinecolor": "white"
           }
          },
          "shapedefaults": {
           "line": {
            "color": "#2a3f5f"
           }
          },
          "ternary": {
           "aaxis": {
            "gridcolor": "white",
            "linecolor": "white",
            "ticks": ""
           },
           "baxis": {
            "gridcolor": "white",
            "linecolor": "white",
            "ticks": ""
           },
           "bgcolor": "#E5ECF6",
           "caxis": {
            "gridcolor": "white",
            "linecolor": "white",
            "ticks": ""
           }
          },
          "title": {
           "x": 0.05
          },
          "xaxis": {
           "automargin": true,
           "gridcolor": "white",
           "linecolor": "white",
           "ticks": "",
           "title": {
            "standoff": 15
           },
           "zerolinecolor": "white",
           "zerolinewidth": 2
          },
          "yaxis": {
           "automargin": true,
           "gridcolor": "white",
           "linecolor": "white",
           "ticks": "",
           "title": {
            "standoff": 15
           },
           "zerolinecolor": "white",
           "zerolinewidth": 2
          }
         }
        },
        "xaxis": {
         "anchor": "y",
         "categoryorder": "total descending",
         "domain": [
          0,
          1
         ],
         "title": {
          "text": "MaritalStatus"
         }
        },
        "yaxis": {
         "anchor": "x",
         "domain": [
          0,
          1
         ],
         "title": {
          "text": "count"
         }
        }
       }
      },
      "text/html": [
       "<div>                            <div id=\"abd36fc1-365c-4da8-a409-77d9e736dd1a\" class=\"plotly-graph-div\" style=\"height:525px; width:100%;\"></div>            <script type=\"text/javascript\">                require([\"plotly\"], function(Plotly) {                    window.PLOTLYENV=window.PLOTLYENV || {};                                    if (document.getElementById(\"abd36fc1-365c-4da8-a409-77d9e736dd1a\")) {                    Plotly.newPlot(                        \"abd36fc1-365c-4da8-a409-77d9e736dd1a\",                        [{\"alignmentgroup\":\"True\",\"bingroup\":\"x\",\"hovertemplate\":\"MaritalStatus=%{x}<br>count=%{y}<extra></extra>\",\"legendgroup\":\"\",\"marker\":{\"color\":\"#636efa\",\"pattern\":{\"shape\":\"\"}},\"name\":\"\",\"offsetgroup\":\"\",\"orientation\":\"v\",\"showlegend\":false,\"x\":[\"Single\",\"Single\",\"Single\",\"Married with kids\",\"Married with no kids\",\"Married with kids\",\"Married with no kids\",\"Married with no kids\",\"Single with kids\",\"Married with kids\",\"Single with kids\",\"Single\",\"Married with no kids\",\"Single with kids\",\"Married with no kids\",\"Single\",\"Single with kids\",\"Single with kids\",\"Married with no kids\",\"Married with kids\",\"Married with no kids\",\"Married with kids\",\"Single with kids\",\"Married with no kids\",\"Married with no kids\",\"Married with no kids\",\"Married with no kids\",\"Married with kids\",\"Single\",\"Single\",\"Married with kids\",\"Married with kids\",\"Single with kids\",\"Single\",\"Single\",\"Married with kids\",\"Single\",\"Married with no kids\",\"Single with kids\",\"Married with no kids\",\"Married with no kids\",\"Married with kids\",\"Married with no kids\",\"Married with no kids\",\"Single\",\"Married with kids\",\"Married with no kids\",\"Single with kids\",\"Married with kids\",\"Married with kids\",\"Single\",\"Married with kids\",\"Married with no kids\",\"Single\",\"Single with kids\",\"Married with kids\",\"Single with kids\",\"Married with no kids\",\"Single\",\"Married with no kids\",\"Single with kids\",\"Married with no kids\",\"Married with kids\",\"Married with no kids\",\"Married with no kids\",\"Married with kids\",\"Single with kids\",\"Single with kids\",\"Married with kids\",\"Married with kids\",\"Single with kids\",\"Married with no kids\",\"Single with kids\",\"Married with no kids\",\"Single with kids\",\"Married with no kids\",\"Single\",\"Single\",\"Married with no kids\",\"Married with kids\",\"Married with kids\",\"Married with kids\",\"Single\",\"Single\",\"Single with kids\",\"Married with no kids\",\"Single\",\"Single with kids\",\"Single\",\"Single with kids\",\"Single with kids\",\"Single\",\"Single with kids\",\"Married with no kids\",\"Married with no kids\",\"Married with kids\",\"Single\",\"Married with no kids\",\"Single\",\"Married with kids\",\"Married with no kids\",\"Married with kids\",\"Single\",\"Married with kids\",\"Single with kids\",\"Single with kids\",\"Single with kids\",\"Married with no kids\",\"Married with no kids\",\"Single\",\"Married with no kids\",\"Single with kids\",\"Married with no kids\",\"Single with kids\",\"Single with kids\",\"Single\",\"Married with kids\",\"Married with no kids\",\"Single\",\"Single with kids\",\"Married with kids\",\"Married with kids\",\"Single with kids\",\"Single with kids\",\"Single with kids\",\"Single with kids\",\"Single\",\"Single with kids\",\"Married with kids\",\"Single with kids\",\"Single with kids\",\"Married with kids\",\"Married with no kids\",\"Single\",\"Married with no kids\",\"Married with no kids\",\"Single with kids\",\"Married with kids\",\"Married with kids\",\"Single with kids\",\"Married with kids\",\"Married with no kids\",\"Married with kids\",\"Married with kids\",\"Single\",\"Married with kids\",\"Married with kids\",\"Single with kids\",\"Married with kids\",\"Single\",\"Single with kids\",\"Married with kids\",\"Single with kids\",\"Single with kids\",\"Single with kids\",\"Married with kids\",\"Single with kids\",\"Single\",\"Single with kids\",\"Married with no kids\",\"Married with kids\",\"Single\",\"Married with no kids\",\"Single\",\"Married with kids\",\"Married with no kids\",\"Married with no kids\",\"Single with kids\",\"Single\",\"Married with kids\",\"Married with no kids\",\"Single\",\"Married with kids\",\"Married with kids\",\"Single\",\"Married with kids\",\"Single with kids\",\"Married with no kids\",\"Single with kids\",\"Single\",\"Married with no kids\",\"Single\",\"Single with kids\",\"Married with no kids\",\"Married with no kids\",\"Single with kids\",\"Married with kids\",\"Married with kids\",\"Married with no kids\",\"Married with kids\",\"Married with kids\",\"Single with kids\",\"Single\",\"Married with no kids\",\"Married with no kids\",\"Married with no kids\",\"Married with no kids\",\"Single\",\"Married with no kids\",\"Single\",\"Single\",\"Single\",\"Married with no kids\",\"Married with kids\",\"Married with kids\",\"Married with kids\",\"Married with kids\",\"Married with no kids\",\"Married with no kids\",\"Married with kids\",\"Married with kids\",\"Married with no kids\",\"Single\",\"Married with kids\",\"Single with kids\",\"Single with kids\",\"Married with no kids\",\"Single with kids\",\"Single with kids\",\"Married with no kids\",\"Married with kids\",\"Single with kids\",\"Single with kids\",\"Single with kids\",\"Married with kids\",\"Married with kids\",\"Single\",\"Single\",\"Single\",\"Single with kids\",\"Single\",\"Single\",\"Single\",\"Single with kids\",\"Married with no kids\",\"Single with kids\",\"Married with kids\",\"Single with kids\",\"Married with no kids\",\"Single with kids\",\"Single with kids\",\"Married with kids\",\"Married with kids\",\"Married with kids\",\"Married with kids\",\"Single\",\"Single with kids\",\"Married with kids\",\"Married with kids\",\"Single\",\"Single with kids\",\"Married with kids\",\"Single\",\"Single\",\"Married with no kids\",\"Married with kids\",\"Single\",\"Single\",\"Married with no kids\",\"Single with kids\",\"Single\",\"Married with no kids\",\"Married with kids\",\"Married with no kids\",\"Married with no kids\",\"Married with no kids\",\"Married with no kids\",\"Single with kids\",\"Single with kids\",\"Single with kids\",\"Married with no kids\",\"Single\",\"Single with kids\",\"Married with no kids\",\"Married with kids\",\"Married with kids\",\"Single\",\"Single\",\"Single\",\"Single\",\"Married with no kids\",\"Married with kids\",\"Married with kids\",\"Single with kids\",\"Married with kids\",\"Married with kids\",\"Married with kids\",\"Single with kids\",\"Single with kids\",\"Married with no kids\",\"Single with kids\",\"Single\",\"Single\",\"Single with kids\",\"Single\",\"Single\",\"Married with kids\",\"Married with no kids\",\"Single with kids\",\"Single with kids\",\"Single with kids\",\"Married with no kids\",\"Married with no kids\",\"Single with kids\",\"Single with kids\",\"Married with no kids\",\"Married with no kids\",\"Married with kids\",\"Single\",\"Single\",\"Married with kids\",\"Single\",\"Single\",\"Married with no kids\",\"Married with kids\",\"Single with kids\",\"Married with kids\",\"Single with kids\",\"Single with kids\",\"Single\",\"Single with kids\",\"Married with kids\",\"Single with kids\",\"Married with no kids\",\"Married with kids\",\"Single\",\"Married with kids\",\"Single\",\"Married with no kids\",\"Married with no kids\",\"Married with no kids\",\"Married with no kids\",\"Married with kids\",\"Single\",\"Married with kids\",\"Married with kids\",\"Married with kids\",\"Single with kids\",\"Married with kids\",\"Single\",\"Married with kids\",\"Married with no kids\",\"Married with no kids\",\"Single\",\"Married with no kids\",\"Married with kids\",\"Single\",\"Married with kids\",\"Married with kids\",\"Married with no kids\",\"Single with kids\",\"Single with kids\",\"Married with no kids\",\"Married with kids\",\"Married with no kids\",\"Married with kids\",\"Married with no kids\",\"Married with no kids\",\"Single\",\"Single with kids\",\"Married with kids\",\"Single\",\"Single\",\"Single with kids\",\"Single\",\"Married with kids\",\"Married with no kids\",\"Single\",\"Single with kids\",\"Married with no kids\",\"Single with kids\",\"Single with kids\",\"Married with no kids\",\"Single with kids\",\"Single with kids\",\"Married with no kids\",\"Married with kids\",\"Married with no kids\",\"Married with no kids\",\"Single\",\"Married with kids\",\"Single\",\"Married with no kids\",\"Single\",\"Single with kids\",\"Married with kids\",\"Married with kids\",\"Married with kids\",\"Single with kids\",\"Single with kids\",\"Married with no kids\",\"Married with kids\",\"Single with kids\",\"Single\",\"Single with kids\",\"Married with no kids\",\"Married with no kids\",\"Married with kids\",\"Married with no kids\",\"Married with no kids\",\"Married with no kids\",\"Married with kids\",\"Single\",\"Married with kids\",\"Married with no kids\",\"Single\",\"Married with no kids\",\"Single with kids\",\"Married with kids\",\"Single with kids\",\"Married with no kids\",\"Married with kids\",\"Married with kids\",\"Single with kids\",\"Single with kids\",\"Single with kids\",\"Married with kids\",\"Single with kids\",\"Married with no kids\",\"Married with kids\",\"Single\",\"Single with kids\",\"Married with no kids\",\"Single with kids\",\"Single\",\"Married with no kids\",\"Married with kids\",\"Single with kids\",\"Single\",\"Single\",\"Married with kids\",\"Married with kids\",\"Single with kids\",\"Married with kids\",\"Single with kids\",\"Married with no kids\",\"Single with kids\",\"Single with kids\",\"Married with no kids\",\"Single with kids\",\"Single\",\"Married with no kids\",\"Married with no kids\",\"Single with kids\",\"Married with no kids\",\"Married with no kids\",\"Single with kids\",\"Married with kids\",\"Single with kids\",\"Married with no kids\",\"Single\",\"Single\",\"Single\",\"Married with no kids\",\"Single\",\"Single with kids\",\"Single with kids\",\"Single with kids\",\"Single with kids\",\"Married with no kids\",\"Married with kids\",\"Married with no kids\",\"Married with kids\",\"Married with kids\",\"Married with kids\",\"Single\",\"Married with no kids\",\"Married with kids\",\"Single with kids\",\"Single with kids\",\"Married with no kids\",\"Married with no kids\",\"Single\",\"Married with kids\",\"Married with no kids\",\"Married with kids\",\"Married with no kids\",\"Married with kids\",\"Single with kids\",\"Married with kids\",\"Married with kids\",\"Single\",\"Married with kids\",\"Married with kids\",\"Married with no kids\",\"Married with kids\",\"Married with kids\",\"Married with kids\",\"Married with kids\",\"Married with kids\",\"Married with kids\",\"Married with kids\",\"Married with kids\",\"Married with kids\",\"Married with no kids\",\"Married with no kids\",\"Married with kids\",\"Married with no kids\",\"Married with kids\",\"Single with kids\"],\"xaxis\":\"x\",\"yaxis\":\"y\",\"type\":\"histogram\"}],                        {\"template\":{\"data\":{\"bar\":[{\"error_x\":{\"color\":\"#2a3f5f\"},\"error_y\":{\"color\":\"#2a3f5f\"},\"marker\":{\"line\":{\"color\":\"#E5ECF6\",\"width\":0.5},\"pattern\":{\"fillmode\":\"overlay\",\"size\":10,\"solidity\":0.2}},\"type\":\"bar\"}],\"barpolar\":[{\"marker\":{\"line\":{\"color\":\"#E5ECF6\",\"width\":0.5},\"pattern\":{\"fillmode\":\"overlay\",\"size\":10,\"solidity\":0.2}},\"type\":\"barpolar\"}],\"carpet\":[{\"aaxis\":{\"endlinecolor\":\"#2a3f5f\",\"gridcolor\":\"white\",\"linecolor\":\"white\",\"minorgridcolor\":\"white\",\"startlinecolor\":\"#2a3f5f\"},\"baxis\":{\"endlinecolor\":\"#2a3f5f\",\"gridcolor\":\"white\",\"linecolor\":\"white\",\"minorgridcolor\":\"white\",\"startlinecolor\":\"#2a3f5f\"},\"type\":\"carpet\"}],\"choropleth\":[{\"colorbar\":{\"outlinewidth\":0,\"ticks\":\"\"},\"type\":\"choropleth\"}],\"contour\":[{\"colorbar\":{\"outlinewidth\":0,\"ticks\":\"\"},\"colorscale\":[[0.0,\"#0d0887\"],[0.1111111111111111,\"#46039f\"],[0.2222222222222222,\"#7201a8\"],[0.3333333333333333,\"#9c179e\"],[0.4444444444444444,\"#bd3786\"],[0.5555555555555556,\"#d8576b\"],[0.6666666666666666,\"#ed7953\"],[0.7777777777777778,\"#fb9f3a\"],[0.8888888888888888,\"#fdca26\"],[1.0,\"#f0f921\"]],\"type\":\"contour\"}],\"contourcarpet\":[{\"colorbar\":{\"outlinewidth\":0,\"ticks\":\"\"},\"type\":\"contourcarpet\"}],\"heatmap\":[{\"colorbar\":{\"outlinewidth\":0,\"ticks\":\"\"},\"colorscale\":[[0.0,\"#0d0887\"],[0.1111111111111111,\"#46039f\"],[0.2222222222222222,\"#7201a8\"],[0.3333333333333333,\"#9c179e\"],[0.4444444444444444,\"#bd3786\"],[0.5555555555555556,\"#d8576b\"],[0.6666666666666666,\"#ed7953\"],[0.7777777777777778,\"#fb9f3a\"],[0.8888888888888888,\"#fdca26\"],[1.0,\"#f0f921\"]],\"type\":\"heatmap\"}],\"heatmapgl\":[{\"colorbar\":{\"outlinewidth\":0,\"ticks\":\"\"},\"colorscale\":[[0.0,\"#0d0887\"],[0.1111111111111111,\"#46039f\"],[0.2222222222222222,\"#7201a8\"],[0.3333333333333333,\"#9c179e\"],[0.4444444444444444,\"#bd3786\"],[0.5555555555555556,\"#d8576b\"],[0.6666666666666666,\"#ed7953\"],[0.7777777777777778,\"#fb9f3a\"],[0.8888888888888888,\"#fdca26\"],[1.0,\"#f0f921\"]],\"type\":\"heatmapgl\"}],\"histogram\":[{\"marker\":{\"pattern\":{\"fillmode\":\"overlay\",\"size\":10,\"solidity\":0.2}},\"type\":\"histogram\"}],\"histogram2d\":[{\"colorbar\":{\"outlinewidth\":0,\"ticks\":\"\"},\"colorscale\":[[0.0,\"#0d0887\"],[0.1111111111111111,\"#46039f\"],[0.2222222222222222,\"#7201a8\"],[0.3333333333333333,\"#9c179e\"],[0.4444444444444444,\"#bd3786\"],[0.5555555555555556,\"#d8576b\"],[0.6666666666666666,\"#ed7953\"],[0.7777777777777778,\"#fb9f3a\"],[0.8888888888888888,\"#fdca26\"],[1.0,\"#f0f921\"]],\"type\":\"histogram2d\"}],\"histogram2dcontour\":[{\"colorbar\":{\"outlinewidth\":0,\"ticks\":\"\"},\"colorscale\":[[0.0,\"#0d0887\"],[0.1111111111111111,\"#46039f\"],[0.2222222222222222,\"#7201a8\"],[0.3333333333333333,\"#9c179e\"],[0.4444444444444444,\"#bd3786\"],[0.5555555555555556,\"#d8576b\"],[0.6666666666666666,\"#ed7953\"],[0.7777777777777778,\"#fb9f3a\"],[0.8888888888888888,\"#fdca26\"],[1.0,\"#f0f921\"]],\"type\":\"histogram2dcontour\"}],\"mesh3d\":[{\"colorbar\":{\"outlinewidth\":0,\"ticks\":\"\"},\"type\":\"mesh3d\"}],\"parcoords\":[{\"line\":{\"colorbar\":{\"outlinewidth\":0,\"ticks\":\"\"}},\"type\":\"parcoords\"}],\"pie\":[{\"automargin\":true,\"type\":\"pie\"}],\"scatter\":[{\"marker\":{\"colorbar\":{\"outlinewidth\":0,\"ticks\":\"\"}},\"type\":\"scatter\"}],\"scatter3d\":[{\"line\":{\"colorbar\":{\"outlinewidth\":0,\"ticks\":\"\"}},\"marker\":{\"colorbar\":{\"outlinewidth\":0,\"ticks\":\"\"}},\"type\":\"scatter3d\"}],\"scattercarpet\":[{\"marker\":{\"colorbar\":{\"outlinewidth\":0,\"ticks\":\"\"}},\"type\":\"scattercarpet\"}],\"scattergeo\":[{\"marker\":{\"colorbar\":{\"outlinewidth\":0,\"ticks\":\"\"}},\"type\":\"scattergeo\"}],\"scattergl\":[{\"marker\":{\"colorbar\":{\"outlinewidth\":0,\"ticks\":\"\"}},\"type\":\"scattergl\"}],\"scattermapbox\":[{\"marker\":{\"colorbar\":{\"outlinewidth\":0,\"ticks\":\"\"}},\"type\":\"scattermapbox\"}],\"scatterpolar\":[{\"marker\":{\"colorbar\":{\"outlinewidth\":0,\"ticks\":\"\"}},\"type\":\"scatterpolar\"}],\"scatterpolargl\":[{\"marker\":{\"colorbar\":{\"outlinewidth\":0,\"ticks\":\"\"}},\"type\":\"scatterpolargl\"}],\"scatterternary\":[{\"marker\":{\"colorbar\":{\"outlinewidth\":0,\"ticks\":\"\"}},\"type\":\"scatterternary\"}],\"surface\":[{\"colorbar\":{\"outlinewidth\":0,\"ticks\":\"\"},\"colorscale\":[[0.0,\"#0d0887\"],[0.1111111111111111,\"#46039f\"],[0.2222222222222222,\"#7201a8\"],[0.3333333333333333,\"#9c179e\"],[0.4444444444444444,\"#bd3786\"],[0.5555555555555556,\"#d8576b\"],[0.6666666666666666,\"#ed7953\"],[0.7777777777777778,\"#fb9f3a\"],[0.8888888888888888,\"#fdca26\"],[1.0,\"#f0f921\"]],\"type\":\"surface\"}],\"table\":[{\"cells\":{\"fill\":{\"color\":\"#EBF0F8\"},\"line\":{\"color\":\"white\"}},\"header\":{\"fill\":{\"color\":\"#C8D4E3\"},\"line\":{\"color\":\"white\"}},\"type\":\"table\"}]},\"layout\":{\"annotationdefaults\":{\"arrowcolor\":\"#2a3f5f\",\"arrowhead\":0,\"arrowwidth\":1},\"autotypenumbers\":\"strict\",\"coloraxis\":{\"colorbar\":{\"outlinewidth\":0,\"ticks\":\"\"}},\"colorscale\":{\"diverging\":[[0,\"#8e0152\"],[0.1,\"#c51b7d\"],[0.2,\"#de77ae\"],[0.3,\"#f1b6da\"],[0.4,\"#fde0ef\"],[0.5,\"#f7f7f7\"],[0.6,\"#e6f5d0\"],[0.7,\"#b8e186\"],[0.8,\"#7fbc41\"],[0.9,\"#4d9221\"],[1,\"#276419\"]],\"sequential\":[[0.0,\"#0d0887\"],[0.1111111111111111,\"#46039f\"],[0.2222222222222222,\"#7201a8\"],[0.3333333333333333,\"#9c179e\"],[0.4444444444444444,\"#bd3786\"],[0.5555555555555556,\"#d8576b\"],[0.6666666666666666,\"#ed7953\"],[0.7777777777777778,\"#fb9f3a\"],[0.8888888888888888,\"#fdca26\"],[1.0,\"#f0f921\"]],\"sequentialminus\":[[0.0,\"#0d0887\"],[0.1111111111111111,\"#46039f\"],[0.2222222222222222,\"#7201a8\"],[0.3333333333333333,\"#9c179e\"],[0.4444444444444444,\"#bd3786\"],[0.5555555555555556,\"#d8576b\"],[0.6666666666666666,\"#ed7953\"],[0.7777777777777778,\"#fb9f3a\"],[0.8888888888888888,\"#fdca26\"],[1.0,\"#f0f921\"]]},\"colorway\":[\"#636efa\",\"#EF553B\",\"#00cc96\",\"#ab63fa\",\"#FFA15A\",\"#19d3f3\",\"#FF6692\",\"#B6E880\",\"#FF97FF\",\"#FECB52\"],\"font\":{\"color\":\"#2a3f5f\"},\"geo\":{\"bgcolor\":\"white\",\"lakecolor\":\"white\",\"landcolor\":\"#E5ECF6\",\"showlakes\":true,\"showland\":true,\"subunitcolor\":\"white\"},\"hoverlabel\":{\"align\":\"left\"},\"hovermode\":\"closest\",\"mapbox\":{\"style\":\"light\"},\"paper_bgcolor\":\"white\",\"plot_bgcolor\":\"#E5ECF6\",\"polar\":{\"angularaxis\":{\"gridcolor\":\"white\",\"linecolor\":\"white\",\"ticks\":\"\"},\"bgcolor\":\"#E5ECF6\",\"radialaxis\":{\"gridcolor\":\"white\",\"linecolor\":\"white\",\"ticks\":\"\"}},\"scene\":{\"xaxis\":{\"backgroundcolor\":\"#E5ECF6\",\"gridcolor\":\"white\",\"gridwidth\":2,\"linecolor\":\"white\",\"showbackground\":true,\"ticks\":\"\",\"zerolinecolor\":\"white\"},\"yaxis\":{\"backgroundcolor\":\"#E5ECF6\",\"gridcolor\":\"white\",\"gridwidth\":2,\"linecolor\":\"white\",\"showbackground\":true,\"ticks\":\"\",\"zerolinecolor\":\"white\"},\"zaxis\":{\"backgroundcolor\":\"#E5ECF6\",\"gridcolor\":\"white\",\"gridwidth\":2,\"linecolor\":\"white\",\"showbackground\":true,\"ticks\":\"\",\"zerolinecolor\":\"white\"}},\"shapedefaults\":{\"line\":{\"color\":\"#2a3f5f\"}},\"ternary\":{\"aaxis\":{\"gridcolor\":\"white\",\"linecolor\":\"white\",\"ticks\":\"\"},\"baxis\":{\"gridcolor\":\"white\",\"linecolor\":\"white\",\"ticks\":\"\"},\"bgcolor\":\"#E5ECF6\",\"caxis\":{\"gridcolor\":\"white\",\"linecolor\":\"white\",\"ticks\":\"\"}},\"title\":{\"x\":0.05},\"xaxis\":{\"automargin\":true,\"gridcolor\":\"white\",\"linecolor\":\"white\",\"ticks\":\"\",\"title\":{\"standoff\":15},\"zerolinecolor\":\"white\",\"zerolinewidth\":2},\"yaxis\":{\"automargin\":true,\"gridcolor\":\"white\",\"linecolor\":\"white\",\"ticks\":\"\",\"title\":{\"standoff\":15},\"zerolinecolor\":\"white\",\"zerolinewidth\":2}}},\"xaxis\":{\"anchor\":\"y\",\"domain\":[0.0,1.0],\"title\":{\"text\":\"MaritalStatus\"},\"categoryorder\":\"total descending\"},\"yaxis\":{\"anchor\":\"x\",\"domain\":[0.0,1.0],\"title\":{\"text\":\"count\"}},\"legend\":{\"tracegroupgap\":0},\"margin\":{\"t\":60},\"barmode\":\"relative\"},                        {\"responsive\": true}                    ).then(function(){\n",
       "                            \n",
       "var gd = document.getElementById('abd36fc1-365c-4da8-a409-77d9e736dd1a');\n",
       "var x = new MutationObserver(function (mutations, observer) {{\n",
       "        var display = window.getComputedStyle(gd).display;\n",
       "        if (!display || display === 'none') {{\n",
       "            console.log([gd, 'removed!']);\n",
       "            Plotly.purge(gd);\n",
       "            observer.disconnect();\n",
       "        }}\n",
       "}});\n",
       "\n",
       "// Listen for the removal of the full notebook cells\n",
       "var notebookContainer = gd.closest('#notebook-container');\n",
       "if (notebookContainer) {{\n",
       "    x.observe(notebookContainer, {childList: true});\n",
       "}}\n",
       "\n",
       "// Listen for the clearing of the current output cell\n",
       "var outputEl = gd.closest('.output');\n",
       "if (outputEl) {{\n",
       "    x.observe(outputEl, {childList: true});\n",
       "}}\n",
       "\n",
       "                        })                };                });            </script>        </div>"
      ]
     },
     "metadata": {},
     "output_type": "display_data"
    }
   ],
   "source": [
    "fig = px.histogram(df_viz, x=\"MaritalStatus\")\n",
    "fig.update_layout(xaxis={'categoryorder':'total descending'})\n",
    "fig.show()"
   ]
  },
  {
   "cell_type": "code",
   "execution_count": 34,
   "metadata": {},
   "outputs": [
    {
     "data": {
      "text/plain": [
       "Married with kids       28.2\n",
       "Married with no kids    26.4\n",
       "Single with kids        25.2\n",
       "Single                  20.2\n",
       "Name: MaritalStatus, dtype: float64"
      ]
     },
     "execution_count": 34,
     "metadata": {},
     "output_type": "execute_result"
    }
   ],
   "source": [
    "df_viz.MaritalStatus.value_counts(normalize=True)*100"
   ]
  },
  {
   "cell_type": "code",
   "execution_count": 35,
   "metadata": {},
   "outputs": [
    {
     "data": {
      "text/plain": [
       "Married with kids       141\n",
       "Married with no kids    132\n",
       "Single with kids        126\n",
       "Single                  101\n",
       "Name: MaritalStatus, dtype: int64"
      ]
     },
     "execution_count": 35,
     "metadata": {},
     "output_type": "execute_result"
    }
   ],
   "source": [
    "df_viz.MaritalStatus.value_counts()"
   ]
  },
  {
   "cell_type": "markdown",
   "metadata": {},
   "source": [
    "# Takeaway 2"
   ]
  },
  {
   "cell_type": "markdown",
   "metadata": {},
   "source": [
    "### Where to host their next event \t"
   ]
  },
  {
   "cell_type": "code",
   "execution_count": 36,
   "metadata": {},
   "outputs": [
    {
     "data": {
      "application/vnd.plotly.v1+json": {
       "config": {
        "plotlyServerURL": "https://plot.ly"
       },
       "data": [
        {
         "alignmentgroup": "True",
         "bingroup": "x",
         "hovertemplate": "ResidentialArea=%{x}<br>count=%{y}<extra></extra>",
         "legendgroup": "",
         "marker": {
          "color": "#636efa",
          "pattern": {
           "shape": ""
          }
         },
         "name": "",
         "offsetgroup": "",
         "orientation": "v",
         "showlegend": false,
         "type": "histogram",
         "x": [
          "North-West of Riyadh",
          "North-Eest of Riyadh",
          "South-West of Riyadh",
          "North-West of Riyadh",
          "South-Eest of Riyadh",
          "North-West of Riyadh",
          "North-Eest of Riyadh",
          "South-Eest of Riyadh",
          "North-West of Riyadh",
          "North-Eest of Riyadh",
          "South-Eest of Riyadh",
          "North-West of Riyadh",
          "North-Eest of Riyadh",
          "South-West of Riyadh",
          "North-Eest of Riyadh",
          "North-West of Riyadh",
          "North-West of Riyadh",
          "North-Eest of Riyadh",
          "North-West of Riyadh",
          "North-West of Riyadh",
          "South-West of Riyadh",
          "North-West of Riyadh",
          "North-Eest of Riyadh",
          "North-Eest of Riyadh",
          "South-West of Riyadh",
          "South-Eest of Riyadh",
          "North-West of Riyadh",
          "North-Eest of Riyadh",
          "South-Eest of Riyadh",
          "South-Eest of Riyadh",
          "North-Eest of Riyadh",
          "South-Eest of Riyadh",
          "South-West of Riyadh",
          "South-Eest of Riyadh",
          "South-Eest of Riyadh",
          "North-Eest of Riyadh",
          "South-West of Riyadh",
          "North-Eest of Riyadh",
          "South-West of Riyadh",
          "South-West of Riyadh",
          "South-West of Riyadh",
          "North-Eest of Riyadh",
          "North-Eest of Riyadh",
          "North-Eest of Riyadh",
          "North-Eest of Riyadh",
          "South-West of Riyadh",
          "South-Eest of Riyadh",
          "North-West of Riyadh",
          "North-Eest of Riyadh",
          "North-West of Riyadh",
          "South-West of Riyadh",
          "South-Eest of Riyadh",
          "South-Eest of Riyadh",
          "South-Eest of Riyadh",
          "North-Eest of Riyadh",
          "South-Eest of Riyadh",
          "South-Eest of Riyadh",
          "North-Eest of Riyadh",
          "South-West of Riyadh",
          "South-Eest of Riyadh",
          "South-Eest of Riyadh",
          "North-West of Riyadh",
          "South-West of Riyadh",
          "South-West of Riyadh",
          "South-Eest of Riyadh",
          "North-West of Riyadh",
          "South-Eest of Riyadh",
          "South-Eest of Riyadh",
          "South-West of Riyadh",
          "South-West of Riyadh",
          "North-West of Riyadh",
          "North-Eest of Riyadh",
          "South-West of Riyadh",
          "North-Eest of Riyadh",
          "South-Eest of Riyadh",
          "South-Eest of Riyadh",
          "North-West of Riyadh",
          "South-West of Riyadh",
          "South-West of Riyadh",
          "North-West of Riyadh",
          "North-West of Riyadh",
          "North-West of Riyadh",
          "South-West of Riyadh",
          "North-West of Riyadh",
          "North-Eest of Riyadh",
          "North-Eest of Riyadh",
          "North-Eest of Riyadh",
          "South-West of Riyadh",
          "North-West of Riyadh",
          "North-Eest of Riyadh",
          "North-Eest of Riyadh",
          "South-West of Riyadh",
          "South-West of Riyadh",
          "South-Eest of Riyadh",
          "North-Eest of Riyadh",
          "South-Eest of Riyadh",
          "South-Eest of Riyadh",
          "South-West of Riyadh",
          "North-Eest of Riyadh",
          "North-West of Riyadh",
          "South-West of Riyadh",
          "North-West of Riyadh",
          "South-Eest of Riyadh",
          "South-West of Riyadh",
          "South-Eest of Riyadh",
          "South-West of Riyadh",
          "South-West of Riyadh",
          "North-Eest of Riyadh",
          "South-Eest of Riyadh",
          "North-Eest of Riyadh",
          "South-Eest of Riyadh",
          "North-West of Riyadh",
          "South-Eest of Riyadh",
          "North-West of Riyadh",
          "North-Eest of Riyadh",
          "North-Eest of Riyadh",
          "South-Eest of Riyadh",
          "South-West of Riyadh",
          "South-Eest of Riyadh",
          "North-West of Riyadh",
          "North-West of Riyadh",
          "North-West of Riyadh",
          "South-West of Riyadh",
          "South-West of Riyadh",
          "South-Eest of Riyadh",
          "North-West of Riyadh",
          "North-Eest of Riyadh",
          "South-West of Riyadh",
          "North-Eest of Riyadh",
          "North-West of Riyadh",
          "South-Eest of Riyadh",
          "South-Eest of Riyadh",
          "North-Eest of Riyadh",
          "North-West of Riyadh",
          "South-Eest of Riyadh",
          "South-Eest of Riyadh",
          "North-West of Riyadh",
          "North-West of Riyadh",
          "North-West of Riyadh",
          "South-Eest of Riyadh",
          "South-West of Riyadh",
          "North-Eest of Riyadh",
          "North-West of Riyadh",
          "North-Eest of Riyadh",
          "South-West of Riyadh",
          "North-Eest of Riyadh",
          "South-Eest of Riyadh",
          "North-Eest of Riyadh",
          "South-Eest of Riyadh",
          "North-West of Riyadh",
          "South-West of Riyadh",
          "South-Eest of Riyadh",
          "South-Eest of Riyadh",
          "South-West of Riyadh",
          "South-Eest of Riyadh",
          "North-Eest of Riyadh",
          "South-Eest of Riyadh",
          "South-West of Riyadh",
          "South-West of Riyadh",
          "South-West of Riyadh",
          "South-Eest of Riyadh",
          "South-West of Riyadh",
          "South-Eest of Riyadh",
          "South-Eest of Riyadh",
          "South-West of Riyadh",
          "North-West of Riyadh",
          "South-West of Riyadh",
          "North-West of Riyadh",
          "North-Eest of Riyadh",
          "South-West of Riyadh",
          "North-Eest of Riyadh",
          "South-Eest of Riyadh",
          "South-West of Riyadh",
          "South-West of Riyadh",
          "North-West of Riyadh",
          "North-West of Riyadh",
          "South-West of Riyadh",
          "South-Eest of Riyadh",
          "North-West of Riyadh",
          "South-Eest of Riyadh",
          "South-West of Riyadh",
          "South-Eest of Riyadh",
          "North-West of Riyadh",
          "South-West of Riyadh",
          "North-Eest of Riyadh",
          "North-West of Riyadh",
          "North-Eest of Riyadh",
          "North-West of Riyadh",
          "South-Eest of Riyadh",
          "South-West of Riyadh",
          "North-Eest of Riyadh",
          "South-Eest of Riyadh",
          "North-Eest of Riyadh",
          "North-West of Riyadh",
          "South-West of Riyadh",
          "South-West of Riyadh",
          "South-Eest of Riyadh",
          "South-Eest of Riyadh",
          "North-West of Riyadh",
          "South-Eest of Riyadh",
          "South-Eest of Riyadh",
          "South-West of Riyadh",
          "North-West of Riyadh",
          "North-Eest of Riyadh",
          "South-West of Riyadh",
          "South-West of Riyadh",
          "North-West of Riyadh",
          "South-Eest of Riyadh",
          "South-West of Riyadh",
          "North-Eest of Riyadh",
          "North-West of Riyadh",
          "South-West of Riyadh",
          "South-Eest of Riyadh",
          "North-West of Riyadh",
          "North-West of Riyadh",
          "North-West of Riyadh",
          "North-West of Riyadh",
          "North-West of Riyadh",
          "South-West of Riyadh",
          "North-West of Riyadh",
          "North-Eest of Riyadh",
          "South-West of Riyadh",
          "North-West of Riyadh",
          "South-West of Riyadh",
          "North-Eest of Riyadh",
          "North-Eest of Riyadh",
          "South-West of Riyadh",
          "South-West of Riyadh",
          "South-West of Riyadh",
          "South-Eest of Riyadh",
          "South-Eest of Riyadh",
          "North-Eest of Riyadh",
          "North-West of Riyadh",
          "South-Eest of Riyadh",
          "South-Eest of Riyadh",
          "South-Eest of Riyadh",
          "North-West of Riyadh",
          "South-West of Riyadh",
          "North-Eest of Riyadh",
          "South-West of Riyadh",
          "North-West of Riyadh",
          "North-Eest of Riyadh",
          "South-West of Riyadh",
          "South-West of Riyadh",
          "South-West of Riyadh",
          "North-West of Riyadh",
          "South-Eest of Riyadh",
          "South-Eest of Riyadh",
          "North-Eest of Riyadh",
          "North-West of Riyadh",
          "North-West of Riyadh",
          "North-Eest of Riyadh",
          "North-West of Riyadh",
          "South-West of Riyadh",
          "North-Eest of Riyadh",
          "South-West of Riyadh",
          "North-Eest of Riyadh",
          "North-West of Riyadh",
          "South-Eest of Riyadh",
          "North-Eest of Riyadh",
          "South-West of Riyadh",
          "South-Eest of Riyadh",
          "South-West of Riyadh",
          "South-Eest of Riyadh",
          "North-Eest of Riyadh",
          "North-West of Riyadh",
          "South-West of Riyadh",
          "North-Eest of Riyadh",
          "North-Eest of Riyadh",
          "North-Eest of Riyadh",
          "North-West of Riyadh",
          "South-Eest of Riyadh",
          "South-Eest of Riyadh",
          "South-West of Riyadh",
          "North-West of Riyadh",
          "North-Eest of Riyadh",
          "North-Eest of Riyadh",
          "South-West of Riyadh",
          "South-Eest of Riyadh",
          "South-Eest of Riyadh",
          "South-Eest of Riyadh",
          "North-West of Riyadh",
          "North-Eest of Riyadh",
          "North-Eest of Riyadh",
          "North-Eest of Riyadh",
          "North-Eest of Riyadh",
          "North-West of Riyadh",
          "South-West of Riyadh",
          "South-West of Riyadh",
          "South-West of Riyadh",
          "South-Eest of Riyadh",
          "North-West of Riyadh",
          "North-Eest of Riyadh",
          "North-Eest of Riyadh",
          "North-West of Riyadh",
          "South-Eest of Riyadh",
          "North-Eest of Riyadh",
          "North-West of Riyadh",
          "South-West of Riyadh",
          "North-West of Riyadh",
          "North-Eest of Riyadh",
          "South-Eest of Riyadh",
          "North-Eest of Riyadh",
          "South-West of Riyadh",
          "South-Eest of Riyadh",
          "South-Eest of Riyadh",
          "North-West of Riyadh",
          "North-West of Riyadh",
          "North-Eest of Riyadh",
          "North-West of Riyadh",
          "South-West of Riyadh",
          "South-Eest of Riyadh",
          "North-West of Riyadh",
          "South-West of Riyadh",
          "North-Eest of Riyadh",
          "North-Eest of Riyadh",
          "North-Eest of Riyadh",
          "South-Eest of Riyadh",
          "North-Eest of Riyadh",
          "South-West of Riyadh",
          "North-West of Riyadh",
          "North-West of Riyadh",
          "North-West of Riyadh",
          "North-West of Riyadh",
          "South-Eest of Riyadh",
          "North-West of Riyadh",
          "South-Eest of Riyadh",
          "South-West of Riyadh",
          "South-West of Riyadh",
          "South-West of Riyadh",
          "South-Eest of Riyadh",
          "North-West of Riyadh",
          "South-Eest of Riyadh",
          "South-Eest of Riyadh",
          "North-Eest of Riyadh",
          "South-West of Riyadh",
          "North-Eest of Riyadh",
          "North-Eest of Riyadh",
          "North-West of Riyadh",
          "North-Eest of Riyadh",
          "South-Eest of Riyadh",
          "North-Eest of Riyadh",
          "South-West of Riyadh",
          "South-West of Riyadh",
          "South-Eest of Riyadh",
          "South-West of Riyadh",
          "North-Eest of Riyadh",
          "North-Eest of Riyadh",
          "South-West of Riyadh",
          "South-Eest of Riyadh",
          "South-Eest of Riyadh",
          "North-Eest of Riyadh",
          "North-Eest of Riyadh",
          "North-Eest of Riyadh",
          "North-West of Riyadh",
          "North-West of Riyadh",
          "South-Eest of Riyadh",
          "South-West of Riyadh",
          "North-West of Riyadh",
          "South-Eest of Riyadh",
          "North-West of Riyadh",
          "North-Eest of Riyadh",
          "North-West of Riyadh",
          "North-Eest of Riyadh",
          "North-Eest of Riyadh",
          "South-Eest of Riyadh",
          "North-Eest of Riyadh",
          "North-West of Riyadh",
          "South-West of Riyadh",
          "North-Eest of Riyadh",
          "South-West of Riyadh",
          "North-Eest of Riyadh",
          "North-West of Riyadh",
          "South-West of Riyadh",
          "North-Eest of Riyadh",
          "South-Eest of Riyadh",
          "South-West of Riyadh",
          "South-West of Riyadh",
          "North-West of Riyadh",
          "South-Eest of Riyadh",
          "North-West of Riyadh",
          "North-Eest of Riyadh",
          "South-Eest of Riyadh",
          "North-West of Riyadh",
          "South-Eest of Riyadh",
          "North-Eest of Riyadh",
          "North-West of Riyadh",
          "South-Eest of Riyadh",
          "North-Eest of Riyadh",
          "South-West of Riyadh",
          "North-Eest of Riyadh",
          "North-Eest of Riyadh",
          "South-Eest of Riyadh",
          "South-Eest of Riyadh",
          "South-Eest of Riyadh",
          "South-Eest of Riyadh",
          "North-West of Riyadh",
          "South-West of Riyadh",
          "North-Eest of Riyadh",
          "North-West of Riyadh",
          "North-West of Riyadh",
          "North-Eest of Riyadh",
          "South-Eest of Riyadh",
          "North-West of Riyadh",
          "South-West of Riyadh",
          "South-West of Riyadh",
          "South-Eest of Riyadh",
          "North-Eest of Riyadh",
          "South-West of Riyadh",
          "North-West of Riyadh",
          "North-Eest of Riyadh",
          "South-West of Riyadh",
          "North-Eest of Riyadh",
          "South-Eest of Riyadh",
          "South-Eest of Riyadh",
          "South-Eest of Riyadh",
          "North-Eest of Riyadh",
          "South-West of Riyadh",
          "North-West of Riyadh",
          "South-West of Riyadh",
          "South-West of Riyadh",
          "North-Eest of Riyadh",
          "South-West of Riyadh",
          "North-Eest of Riyadh",
          "North-West of Riyadh",
          "North-West of Riyadh",
          "South-West of Riyadh",
          "North-West of Riyadh",
          "South-West of Riyadh",
          "North-Eest of Riyadh",
          "North-West of Riyadh",
          "South-West of Riyadh",
          "South-West of Riyadh",
          "North-West of Riyadh",
          "South-West of Riyadh",
          "South-West of Riyadh",
          "South-West of Riyadh",
          "South-Eest of Riyadh",
          "North-Eest of Riyadh",
          "North-West of Riyadh",
          "North-Eest of Riyadh",
          "South-West of Riyadh",
          "North-Eest of Riyadh",
          "North-Eest of Riyadh",
          "South-Eest of Riyadh",
          "North-West of Riyadh",
          "South-West of Riyadh",
          "North-West of Riyadh",
          "South-West of Riyadh",
          "South-Eest of Riyadh",
          "South-West of Riyadh",
          "South-Eest of Riyadh",
          "South-West of Riyadh",
          "South-Eest of Riyadh",
          "North-West of Riyadh",
          "North-Eest of Riyadh",
          "North-Eest of Riyadh",
          "North-Eest of Riyadh",
          "North-Eest of Riyadh",
          "South-Eest of Riyadh",
          "South-West of Riyadh",
          "North-West of Riyadh",
          "North-West of Riyadh",
          "North-West of Riyadh",
          "South-Eest of Riyadh",
          "South-Eest of Riyadh",
          "North-Eest of Riyadh",
          "South-West of Riyadh",
          "South-Eest of Riyadh",
          "North-West of Riyadh",
          "North-Eest of Riyadh",
          "North-West of Riyadh",
          "North-Eest of Riyadh",
          "South-Eest of Riyadh",
          "North-West of Riyadh",
          "South-West of Riyadh",
          "North-West of Riyadh",
          "South-West of Riyadh",
          "South-Eest of Riyadh",
          "South-West of Riyadh",
          "North-West of Riyadh",
          "North-West of Riyadh",
          "North-Eest of Riyadh",
          "North-West of Riyadh",
          "North-West of Riyadh",
          "South-Eest of Riyadh",
          "North-Eest of Riyadh",
          "North-West of Riyadh",
          "South-West of Riyadh",
          "South-Eest of Riyadh",
          "South-Eest of Riyadh",
          "South-Eest of Riyadh",
          "South-West of Riyadh",
          "South-Eest of Riyadh",
          "South-Eest of Riyadh",
          "South-Eest of Riyadh",
          "South-Eest of Riyadh",
          "North-Eest of Riyadh",
          "North-Eest of Riyadh",
          "South-West of Riyadh"
         ],
         "xaxis": "x",
         "yaxis": "y"
        }
       ],
       "layout": {
        "barmode": "relative",
        "legend": {
         "tracegroupgap": 0
        },
        "margin": {
         "t": 60
        },
        "template": {
         "data": {
          "bar": [
           {
            "error_x": {
             "color": "#2a3f5f"
            },
            "error_y": {
             "color": "#2a3f5f"
            },
            "marker": {
             "line": {
              "color": "#E5ECF6",
              "width": 0.5
             },
             "pattern": {
              "fillmode": "overlay",
              "size": 10,
              "solidity": 0.2
             }
            },
            "type": "bar"
           }
          ],
          "barpolar": [
           {
            "marker": {
             "line": {
              "color": "#E5ECF6",
              "width": 0.5
             },
             "pattern": {
              "fillmode": "overlay",
              "size": 10,
              "solidity": 0.2
             }
            },
            "type": "barpolar"
           }
          ],
          "carpet": [
           {
            "aaxis": {
             "endlinecolor": "#2a3f5f",
             "gridcolor": "white",
             "linecolor": "white",
             "minorgridcolor": "white",
             "startlinecolor": "#2a3f5f"
            },
            "baxis": {
             "endlinecolor": "#2a3f5f",
             "gridcolor": "white",
             "linecolor": "white",
             "minorgridcolor": "white",
             "startlinecolor": "#2a3f5f"
            },
            "type": "carpet"
           }
          ],
          "choropleth": [
           {
            "colorbar": {
             "outlinewidth": 0,
             "ticks": ""
            },
            "type": "choropleth"
           }
          ],
          "contour": [
           {
            "colorbar": {
             "outlinewidth": 0,
             "ticks": ""
            },
            "colorscale": [
             [
              0,
              "#0d0887"
             ],
             [
              0.1111111111111111,
              "#46039f"
             ],
             [
              0.2222222222222222,
              "#7201a8"
             ],
             [
              0.3333333333333333,
              "#9c179e"
             ],
             [
              0.4444444444444444,
              "#bd3786"
             ],
             [
              0.5555555555555556,
              "#d8576b"
             ],
             [
              0.6666666666666666,
              "#ed7953"
             ],
             [
              0.7777777777777778,
              "#fb9f3a"
             ],
             [
              0.8888888888888888,
              "#fdca26"
             ],
             [
              1,
              "#f0f921"
             ]
            ],
            "type": "contour"
           }
          ],
          "contourcarpet": [
           {
            "colorbar": {
             "outlinewidth": 0,
             "ticks": ""
            },
            "type": "contourcarpet"
           }
          ],
          "heatmap": [
           {
            "colorbar": {
             "outlinewidth": 0,
             "ticks": ""
            },
            "colorscale": [
             [
              0,
              "#0d0887"
             ],
             [
              0.1111111111111111,
              "#46039f"
             ],
             [
              0.2222222222222222,
              "#7201a8"
             ],
             [
              0.3333333333333333,
              "#9c179e"
             ],
             [
              0.4444444444444444,
              "#bd3786"
             ],
             [
              0.5555555555555556,
              "#d8576b"
             ],
             [
              0.6666666666666666,
              "#ed7953"
             ],
             [
              0.7777777777777778,
              "#fb9f3a"
             ],
             [
              0.8888888888888888,
              "#fdca26"
             ],
             [
              1,
              "#f0f921"
             ]
            ],
            "type": "heatmap"
           }
          ],
          "heatmapgl": [
           {
            "colorbar": {
             "outlinewidth": 0,
             "ticks": ""
            },
            "colorscale": [
             [
              0,
              "#0d0887"
             ],
             [
              0.1111111111111111,
              "#46039f"
             ],
             [
              0.2222222222222222,
              "#7201a8"
             ],
             [
              0.3333333333333333,
              "#9c179e"
             ],
             [
              0.4444444444444444,
              "#bd3786"
             ],
             [
              0.5555555555555556,
              "#d8576b"
             ],
             [
              0.6666666666666666,
              "#ed7953"
             ],
             [
              0.7777777777777778,
              "#fb9f3a"
             ],
             [
              0.8888888888888888,
              "#fdca26"
             ],
             [
              1,
              "#f0f921"
             ]
            ],
            "type": "heatmapgl"
           }
          ],
          "histogram": [
           {
            "marker": {
             "pattern": {
              "fillmode": "overlay",
              "size": 10,
              "solidity": 0.2
             }
            },
            "type": "histogram"
           }
          ],
          "histogram2d": [
           {
            "colorbar": {
             "outlinewidth": 0,
             "ticks": ""
            },
            "colorscale": [
             [
              0,
              "#0d0887"
             ],
             [
              0.1111111111111111,
              "#46039f"
             ],
             [
              0.2222222222222222,
              "#7201a8"
             ],
             [
              0.3333333333333333,
              "#9c179e"
             ],
             [
              0.4444444444444444,
              "#bd3786"
             ],
             [
              0.5555555555555556,
              "#d8576b"
             ],
             [
              0.6666666666666666,
              "#ed7953"
             ],
             [
              0.7777777777777778,
              "#fb9f3a"
             ],
             [
              0.8888888888888888,
              "#fdca26"
             ],
             [
              1,
              "#f0f921"
             ]
            ],
            "type": "histogram2d"
           }
          ],
          "histogram2dcontour": [
           {
            "colorbar": {
             "outlinewidth": 0,
             "ticks": ""
            },
            "colorscale": [
             [
              0,
              "#0d0887"
             ],
             [
              0.1111111111111111,
              "#46039f"
             ],
             [
              0.2222222222222222,
              "#7201a8"
             ],
             [
              0.3333333333333333,
              "#9c179e"
             ],
             [
              0.4444444444444444,
              "#bd3786"
             ],
             [
              0.5555555555555556,
              "#d8576b"
             ],
             [
              0.6666666666666666,
              "#ed7953"
             ],
             [
              0.7777777777777778,
              "#fb9f3a"
             ],
             [
              0.8888888888888888,
              "#fdca26"
             ],
             [
              1,
              "#f0f921"
             ]
            ],
            "type": "histogram2dcontour"
           }
          ],
          "mesh3d": [
           {
            "colorbar": {
             "outlinewidth": 0,
             "ticks": ""
            },
            "type": "mesh3d"
           }
          ],
          "parcoords": [
           {
            "line": {
             "colorbar": {
              "outlinewidth": 0,
              "ticks": ""
             }
            },
            "type": "parcoords"
           }
          ],
          "pie": [
           {
            "automargin": true,
            "type": "pie"
           }
          ],
          "scatter": [
           {
            "marker": {
             "colorbar": {
              "outlinewidth": 0,
              "ticks": ""
             }
            },
            "type": "scatter"
           }
          ],
          "scatter3d": [
           {
            "line": {
             "colorbar": {
              "outlinewidth": 0,
              "ticks": ""
             }
            },
            "marker": {
             "colorbar": {
              "outlinewidth": 0,
              "ticks": ""
             }
            },
            "type": "scatter3d"
           }
          ],
          "scattercarpet": [
           {
            "marker": {
             "colorbar": {
              "outlinewidth": 0,
              "ticks": ""
             }
            },
            "type": "scattercarpet"
           }
          ],
          "scattergeo": [
           {
            "marker": {
             "colorbar": {
              "outlinewidth": 0,
              "ticks": ""
             }
            },
            "type": "scattergeo"
           }
          ],
          "scattergl": [
           {
            "marker": {
             "colorbar": {
              "outlinewidth": 0,
              "ticks": ""
             }
            },
            "type": "scattergl"
           }
          ],
          "scattermapbox": [
           {
            "marker": {
             "colorbar": {
              "outlinewidth": 0,
              "ticks": ""
             }
            },
            "type": "scattermapbox"
           }
          ],
          "scatterpolar": [
           {
            "marker": {
             "colorbar": {
              "outlinewidth": 0,
              "ticks": ""
             }
            },
            "type": "scatterpolar"
           }
          ],
          "scatterpolargl": [
           {
            "marker": {
             "colorbar": {
              "outlinewidth": 0,
              "ticks": ""
             }
            },
            "type": "scatterpolargl"
           }
          ],
          "scatterternary": [
           {
            "marker": {
             "colorbar": {
              "outlinewidth": 0,
              "ticks": ""
             }
            },
            "type": "scatterternary"
           }
          ],
          "surface": [
           {
            "colorbar": {
             "outlinewidth": 0,
             "ticks": ""
            },
            "colorscale": [
             [
              0,
              "#0d0887"
             ],
             [
              0.1111111111111111,
              "#46039f"
             ],
             [
              0.2222222222222222,
              "#7201a8"
             ],
             [
              0.3333333333333333,
              "#9c179e"
             ],
             [
              0.4444444444444444,
              "#bd3786"
             ],
             [
              0.5555555555555556,
              "#d8576b"
             ],
             [
              0.6666666666666666,
              "#ed7953"
             ],
             [
              0.7777777777777778,
              "#fb9f3a"
             ],
             [
              0.8888888888888888,
              "#fdca26"
             ],
             [
              1,
              "#f0f921"
             ]
            ],
            "type": "surface"
           }
          ],
          "table": [
           {
            "cells": {
             "fill": {
              "color": "#EBF0F8"
             },
             "line": {
              "color": "white"
             }
            },
            "header": {
             "fill": {
              "color": "#C8D4E3"
             },
             "line": {
              "color": "white"
             }
            },
            "type": "table"
           }
          ]
         },
         "layout": {
          "annotationdefaults": {
           "arrowcolor": "#2a3f5f",
           "arrowhead": 0,
           "arrowwidth": 1
          },
          "autotypenumbers": "strict",
          "coloraxis": {
           "colorbar": {
            "outlinewidth": 0,
            "ticks": ""
           }
          },
          "colorscale": {
           "diverging": [
            [
             0,
             "#8e0152"
            ],
            [
             0.1,
             "#c51b7d"
            ],
            [
             0.2,
             "#de77ae"
            ],
            [
             0.3,
             "#f1b6da"
            ],
            [
             0.4,
             "#fde0ef"
            ],
            [
             0.5,
             "#f7f7f7"
            ],
            [
             0.6,
             "#e6f5d0"
            ],
            [
             0.7,
             "#b8e186"
            ],
            [
             0.8,
             "#7fbc41"
            ],
            [
             0.9,
             "#4d9221"
            ],
            [
             1,
             "#276419"
            ]
           ],
           "sequential": [
            [
             0,
             "#0d0887"
            ],
            [
             0.1111111111111111,
             "#46039f"
            ],
            [
             0.2222222222222222,
             "#7201a8"
            ],
            [
             0.3333333333333333,
             "#9c179e"
            ],
            [
             0.4444444444444444,
             "#bd3786"
            ],
            [
             0.5555555555555556,
             "#d8576b"
            ],
            [
             0.6666666666666666,
             "#ed7953"
            ],
            [
             0.7777777777777778,
             "#fb9f3a"
            ],
            [
             0.8888888888888888,
             "#fdca26"
            ],
            [
             1,
             "#f0f921"
            ]
           ],
           "sequentialminus": [
            [
             0,
             "#0d0887"
            ],
            [
             0.1111111111111111,
             "#46039f"
            ],
            [
             0.2222222222222222,
             "#7201a8"
            ],
            [
             0.3333333333333333,
             "#9c179e"
            ],
            [
             0.4444444444444444,
             "#bd3786"
            ],
            [
             0.5555555555555556,
             "#d8576b"
            ],
            [
             0.6666666666666666,
             "#ed7953"
            ],
            [
             0.7777777777777778,
             "#fb9f3a"
            ],
            [
             0.8888888888888888,
             "#fdca26"
            ],
            [
             1,
             "#f0f921"
            ]
           ]
          },
          "colorway": [
           "#636efa",
           "#EF553B",
           "#00cc96",
           "#ab63fa",
           "#FFA15A",
           "#19d3f3",
           "#FF6692",
           "#B6E880",
           "#FF97FF",
           "#FECB52"
          ],
          "font": {
           "color": "#2a3f5f"
          },
          "geo": {
           "bgcolor": "white",
           "lakecolor": "white",
           "landcolor": "#E5ECF6",
           "showlakes": true,
           "showland": true,
           "subunitcolor": "white"
          },
          "hoverlabel": {
           "align": "left"
          },
          "hovermode": "closest",
          "mapbox": {
           "style": "light"
          },
          "paper_bgcolor": "white",
          "plot_bgcolor": "#E5ECF6",
          "polar": {
           "angularaxis": {
            "gridcolor": "white",
            "linecolor": "white",
            "ticks": ""
           },
           "bgcolor": "#E5ECF6",
           "radialaxis": {
            "gridcolor": "white",
            "linecolor": "white",
            "ticks": ""
           }
          },
          "scene": {
           "xaxis": {
            "backgroundcolor": "#E5ECF6",
            "gridcolor": "white",
            "gridwidth": 2,
            "linecolor": "white",
            "showbackground": true,
            "ticks": "",
            "zerolinecolor": "white"
           },
           "yaxis": {
            "backgroundcolor": "#E5ECF6",
            "gridcolor": "white",
            "gridwidth": 2,
            "linecolor": "white",
            "showbackground": true,
            "ticks": "",
            "zerolinecolor": "white"
           },
           "zaxis": {
            "backgroundcolor": "#E5ECF6",
            "gridcolor": "white",
            "gridwidth": 2,
            "linecolor": "white",
            "showbackground": true,
            "ticks": "",
            "zerolinecolor": "white"
           }
          },
          "shapedefaults": {
           "line": {
            "color": "#2a3f5f"
           }
          },
          "ternary": {
           "aaxis": {
            "gridcolor": "white",
            "linecolor": "white",
            "ticks": ""
           },
           "baxis": {
            "gridcolor": "white",
            "linecolor": "white",
            "ticks": ""
           },
           "bgcolor": "#E5ECF6",
           "caxis": {
            "gridcolor": "white",
            "linecolor": "white",
            "ticks": ""
           }
          },
          "title": {
           "x": 0.05
          },
          "xaxis": {
           "automargin": true,
           "gridcolor": "white",
           "linecolor": "white",
           "ticks": "",
           "title": {
            "standoff": 15
           },
           "zerolinecolor": "white",
           "zerolinewidth": 2
          },
          "yaxis": {
           "automargin": true,
           "gridcolor": "white",
           "linecolor": "white",
           "ticks": "",
           "title": {
            "standoff": 15
           },
           "zerolinecolor": "white",
           "zerolinewidth": 2
          }
         }
        },
        "xaxis": {
         "anchor": "y",
         "domain": [
          0,
          1
         ],
         "title": {
          "text": "ResidentialArea"
         }
        },
        "yaxis": {
         "anchor": "x",
         "domain": [
          0,
          1
         ],
         "title": {
          "text": "count"
         }
        }
       }
      },
      "text/html": [
       "<div>                            <div id=\"5c7495d9-fe43-41c9-8712-0d023bf5096b\" class=\"plotly-graph-div\" style=\"height:525px; width:100%;\"></div>            <script type=\"text/javascript\">                require([\"plotly\"], function(Plotly) {                    window.PLOTLYENV=window.PLOTLYENV || {};                                    if (document.getElementById(\"5c7495d9-fe43-41c9-8712-0d023bf5096b\")) {                    Plotly.newPlot(                        \"5c7495d9-fe43-41c9-8712-0d023bf5096b\",                        [{\"alignmentgroup\":\"True\",\"bingroup\":\"x\",\"hovertemplate\":\"ResidentialArea=%{x}<br>count=%{y}<extra></extra>\",\"legendgroup\":\"\",\"marker\":{\"color\":\"#636efa\",\"pattern\":{\"shape\":\"\"}},\"name\":\"\",\"offsetgroup\":\"\",\"orientation\":\"v\",\"showlegend\":false,\"x\":[\"North-West of Riyadh\",\"North-Eest of Riyadh\",\"South-West of Riyadh\",\"North-West of Riyadh\",\"South-Eest of Riyadh\",\"North-West of Riyadh\",\"North-Eest of Riyadh\",\"South-Eest of Riyadh\",\"North-West of Riyadh\",\"North-Eest of Riyadh\",\"South-Eest of Riyadh\",\"North-West of Riyadh\",\"North-Eest of Riyadh\",\"South-West of Riyadh\",\"North-Eest of Riyadh\",\"North-West of Riyadh\",\"North-West of Riyadh\",\"North-Eest of Riyadh\",\"North-West of Riyadh\",\"North-West of Riyadh\",\"South-West of Riyadh\",\"North-West of Riyadh\",\"North-Eest of Riyadh\",\"North-Eest of Riyadh\",\"South-West of Riyadh\",\"South-Eest of Riyadh\",\"North-West of Riyadh\",\"North-Eest of Riyadh\",\"South-Eest of Riyadh\",\"South-Eest of Riyadh\",\"North-Eest of Riyadh\",\"South-Eest of Riyadh\",\"South-West of Riyadh\",\"South-Eest of Riyadh\",\"South-Eest of Riyadh\",\"North-Eest of Riyadh\",\"South-West of Riyadh\",\"North-Eest of Riyadh\",\"South-West of Riyadh\",\"South-West of Riyadh\",\"South-West of Riyadh\",\"North-Eest of Riyadh\",\"North-Eest of Riyadh\",\"North-Eest of Riyadh\",\"North-Eest of Riyadh\",\"South-West of Riyadh\",\"South-Eest of Riyadh\",\"North-West of Riyadh\",\"North-Eest of Riyadh\",\"North-West of Riyadh\",\"South-West of Riyadh\",\"South-Eest of Riyadh\",\"South-Eest of Riyadh\",\"South-Eest of Riyadh\",\"North-Eest of Riyadh\",\"South-Eest of Riyadh\",\"South-Eest of Riyadh\",\"North-Eest of Riyadh\",\"South-West of Riyadh\",\"South-Eest of Riyadh\",\"South-Eest of Riyadh\",\"North-West of Riyadh\",\"South-West of Riyadh\",\"South-West of Riyadh\",\"South-Eest of Riyadh\",\"North-West of Riyadh\",\"South-Eest of Riyadh\",\"South-Eest of Riyadh\",\"South-West of Riyadh\",\"South-West of Riyadh\",\"North-West of Riyadh\",\"North-Eest of Riyadh\",\"South-West of Riyadh\",\"North-Eest of Riyadh\",\"South-Eest of Riyadh\",\"South-Eest of Riyadh\",\"North-West of Riyadh\",\"South-West of Riyadh\",\"South-West of Riyadh\",\"North-West of Riyadh\",\"North-West of Riyadh\",\"North-West of Riyadh\",\"South-West of Riyadh\",\"North-West of Riyadh\",\"North-Eest of Riyadh\",\"North-Eest of Riyadh\",\"North-Eest of Riyadh\",\"South-West of Riyadh\",\"North-West of Riyadh\",\"North-Eest of Riyadh\",\"North-Eest of Riyadh\",\"South-West of Riyadh\",\"South-West of Riyadh\",\"South-Eest of Riyadh\",\"North-Eest of Riyadh\",\"South-Eest of Riyadh\",\"South-Eest of Riyadh\",\"South-West of Riyadh\",\"North-Eest of Riyadh\",\"North-West of Riyadh\",\"South-West of Riyadh\",\"North-West of Riyadh\",\"South-Eest of Riyadh\",\"South-West of Riyadh\",\"South-Eest of Riyadh\",\"South-West of Riyadh\",\"South-West of Riyadh\",\"North-Eest of Riyadh\",\"South-Eest of Riyadh\",\"North-Eest of Riyadh\",\"South-Eest of Riyadh\",\"North-West of Riyadh\",\"South-Eest of Riyadh\",\"North-West of Riyadh\",\"North-Eest of Riyadh\",\"North-Eest of Riyadh\",\"South-Eest of Riyadh\",\"South-West of Riyadh\",\"South-Eest of Riyadh\",\"North-West of Riyadh\",\"North-West of Riyadh\",\"North-West of Riyadh\",\"South-West of Riyadh\",\"South-West of Riyadh\",\"South-Eest of Riyadh\",\"North-West of Riyadh\",\"North-Eest of Riyadh\",\"South-West of Riyadh\",\"North-Eest of Riyadh\",\"North-West of Riyadh\",\"South-Eest of Riyadh\",\"South-Eest of Riyadh\",\"North-Eest of Riyadh\",\"North-West of Riyadh\",\"South-Eest of Riyadh\",\"South-Eest of Riyadh\",\"North-West of Riyadh\",\"North-West of Riyadh\",\"North-West of Riyadh\",\"South-Eest of Riyadh\",\"South-West of Riyadh\",\"North-Eest of Riyadh\",\"North-West of Riyadh\",\"North-Eest of Riyadh\",\"South-West of Riyadh\",\"North-Eest of Riyadh\",\"South-Eest of Riyadh\",\"North-Eest of Riyadh\",\"South-Eest of Riyadh\",\"North-West of Riyadh\",\"South-West of Riyadh\",\"South-Eest of Riyadh\",\"South-Eest of Riyadh\",\"South-West of Riyadh\",\"South-Eest of Riyadh\",\"North-Eest of Riyadh\",\"South-Eest of Riyadh\",\"South-West of Riyadh\",\"South-West of Riyadh\",\"South-West of Riyadh\",\"South-Eest of Riyadh\",\"South-West of Riyadh\",\"South-Eest of Riyadh\",\"South-Eest of Riyadh\",\"South-West of Riyadh\",\"North-West of Riyadh\",\"South-West of Riyadh\",\"North-West of Riyadh\",\"North-Eest of Riyadh\",\"South-West of Riyadh\",\"North-Eest of Riyadh\",\"South-Eest of Riyadh\",\"South-West of Riyadh\",\"South-West of Riyadh\",\"North-West of Riyadh\",\"North-West of Riyadh\",\"South-West of Riyadh\",\"South-Eest of Riyadh\",\"North-West of Riyadh\",\"South-Eest of Riyadh\",\"South-West of Riyadh\",\"South-Eest of Riyadh\",\"North-West of Riyadh\",\"South-West of Riyadh\",\"North-Eest of Riyadh\",\"North-West of Riyadh\",\"North-Eest of Riyadh\",\"North-West of Riyadh\",\"South-Eest of Riyadh\",\"South-West of Riyadh\",\"North-Eest of Riyadh\",\"South-Eest of Riyadh\",\"North-Eest of Riyadh\",\"North-West of Riyadh\",\"South-West of Riyadh\",\"South-West of Riyadh\",\"South-Eest of Riyadh\",\"South-Eest of Riyadh\",\"North-West of Riyadh\",\"South-Eest of Riyadh\",\"South-Eest of Riyadh\",\"South-West of Riyadh\",\"North-West of Riyadh\",\"North-Eest of Riyadh\",\"South-West of Riyadh\",\"South-West of Riyadh\",\"North-West of Riyadh\",\"South-Eest of Riyadh\",\"South-West of Riyadh\",\"North-Eest of Riyadh\",\"North-West of Riyadh\",\"South-West of Riyadh\",\"South-Eest of Riyadh\",\"North-West of Riyadh\",\"North-West of Riyadh\",\"North-West of Riyadh\",\"North-West of Riyadh\",\"North-West of Riyadh\",\"South-West of Riyadh\",\"North-West of Riyadh\",\"North-Eest of Riyadh\",\"South-West of Riyadh\",\"North-West of Riyadh\",\"South-West of Riyadh\",\"North-Eest of Riyadh\",\"North-Eest of Riyadh\",\"South-West of Riyadh\",\"South-West of Riyadh\",\"South-West of Riyadh\",\"South-Eest of Riyadh\",\"South-Eest of Riyadh\",\"North-Eest of Riyadh\",\"North-West of Riyadh\",\"South-Eest of Riyadh\",\"South-Eest of Riyadh\",\"South-Eest of Riyadh\",\"North-West of Riyadh\",\"South-West of Riyadh\",\"North-Eest of Riyadh\",\"South-West of Riyadh\",\"North-West of Riyadh\",\"North-Eest of Riyadh\",\"South-West of Riyadh\",\"South-West of Riyadh\",\"South-West of Riyadh\",\"North-West of Riyadh\",\"South-Eest of Riyadh\",\"South-Eest of Riyadh\",\"North-Eest of Riyadh\",\"North-West of Riyadh\",\"North-West of Riyadh\",\"North-Eest of Riyadh\",\"North-West of Riyadh\",\"South-West of Riyadh\",\"North-Eest of Riyadh\",\"South-West of Riyadh\",\"North-Eest of Riyadh\",\"North-West of Riyadh\",\"South-Eest of Riyadh\",\"North-Eest of Riyadh\",\"South-West of Riyadh\",\"South-Eest of Riyadh\",\"South-West of Riyadh\",\"South-Eest of Riyadh\",\"North-Eest of Riyadh\",\"North-West of Riyadh\",\"South-West of Riyadh\",\"North-Eest of Riyadh\",\"North-Eest of Riyadh\",\"North-Eest of Riyadh\",\"North-West of Riyadh\",\"South-Eest of Riyadh\",\"South-Eest of Riyadh\",\"South-West of Riyadh\",\"North-West of Riyadh\",\"North-Eest of Riyadh\",\"North-Eest of Riyadh\",\"South-West of Riyadh\",\"South-Eest of Riyadh\",\"South-Eest of Riyadh\",\"South-Eest of Riyadh\",\"North-West of Riyadh\",\"North-Eest of Riyadh\",\"North-Eest of Riyadh\",\"North-Eest of Riyadh\",\"North-Eest of Riyadh\",\"North-West of Riyadh\",\"South-West of Riyadh\",\"South-West of Riyadh\",\"South-West of Riyadh\",\"South-Eest of Riyadh\",\"North-West of Riyadh\",\"North-Eest of Riyadh\",\"North-Eest of Riyadh\",\"North-West of Riyadh\",\"South-Eest of Riyadh\",\"North-Eest of Riyadh\",\"North-West of Riyadh\",\"South-West of Riyadh\",\"North-West of Riyadh\",\"North-Eest of Riyadh\",\"South-Eest of Riyadh\",\"North-Eest of Riyadh\",\"South-West of Riyadh\",\"South-Eest of Riyadh\",\"South-Eest of Riyadh\",\"North-West of Riyadh\",\"North-West of Riyadh\",\"North-Eest of Riyadh\",\"North-West of Riyadh\",\"South-West of Riyadh\",\"South-Eest of Riyadh\",\"North-West of Riyadh\",\"South-West of Riyadh\",\"North-Eest of Riyadh\",\"North-Eest of Riyadh\",\"North-Eest of Riyadh\",\"South-Eest of Riyadh\",\"North-Eest of Riyadh\",\"South-West of Riyadh\",\"North-West of Riyadh\",\"North-West of Riyadh\",\"North-West of Riyadh\",\"North-West of Riyadh\",\"South-Eest of Riyadh\",\"North-West of Riyadh\",\"South-Eest of Riyadh\",\"South-West of Riyadh\",\"South-West of Riyadh\",\"South-West of Riyadh\",\"South-Eest of Riyadh\",\"North-West of Riyadh\",\"South-Eest of Riyadh\",\"South-Eest of Riyadh\",\"North-Eest of Riyadh\",\"South-West of Riyadh\",\"North-Eest of Riyadh\",\"North-Eest of Riyadh\",\"North-West of Riyadh\",\"North-Eest of Riyadh\",\"South-Eest of Riyadh\",\"North-Eest of Riyadh\",\"South-West of Riyadh\",\"South-West of Riyadh\",\"South-Eest of Riyadh\",\"South-West of Riyadh\",\"North-Eest of Riyadh\",\"North-Eest of Riyadh\",\"South-West of Riyadh\",\"South-Eest of Riyadh\",\"South-Eest of Riyadh\",\"North-Eest of Riyadh\",\"North-Eest of Riyadh\",\"North-Eest of Riyadh\",\"North-West of Riyadh\",\"North-West of Riyadh\",\"South-Eest of Riyadh\",\"South-West of Riyadh\",\"North-West of Riyadh\",\"South-Eest of Riyadh\",\"North-West of Riyadh\",\"North-Eest of Riyadh\",\"North-West of Riyadh\",\"North-Eest of Riyadh\",\"North-Eest of Riyadh\",\"South-Eest of Riyadh\",\"North-Eest of Riyadh\",\"North-West of Riyadh\",\"South-West of Riyadh\",\"North-Eest of Riyadh\",\"South-West of Riyadh\",\"North-Eest of Riyadh\",\"North-West of Riyadh\",\"South-West of Riyadh\",\"North-Eest of Riyadh\",\"South-Eest of Riyadh\",\"South-West of Riyadh\",\"South-West of Riyadh\",\"North-West of Riyadh\",\"South-Eest of Riyadh\",\"North-West of Riyadh\",\"North-Eest of Riyadh\",\"South-Eest of Riyadh\",\"North-West of Riyadh\",\"South-Eest of Riyadh\",\"North-Eest of Riyadh\",\"North-West of Riyadh\",\"South-Eest of Riyadh\",\"North-Eest of Riyadh\",\"South-West of Riyadh\",\"North-Eest of Riyadh\",\"North-Eest of Riyadh\",\"South-Eest of Riyadh\",\"South-Eest of Riyadh\",\"South-Eest of Riyadh\",\"South-Eest of Riyadh\",\"North-West of Riyadh\",\"South-West of Riyadh\",\"North-Eest of Riyadh\",\"North-West of Riyadh\",\"North-West of Riyadh\",\"North-Eest of Riyadh\",\"South-Eest of Riyadh\",\"North-West of Riyadh\",\"South-West of Riyadh\",\"South-West of Riyadh\",\"South-Eest of Riyadh\",\"North-Eest of Riyadh\",\"South-West of Riyadh\",\"North-West of Riyadh\",\"North-Eest of Riyadh\",\"South-West of Riyadh\",\"North-Eest of Riyadh\",\"South-Eest of Riyadh\",\"South-Eest of Riyadh\",\"South-Eest of Riyadh\",\"North-Eest of Riyadh\",\"South-West of Riyadh\",\"North-West of Riyadh\",\"South-West of Riyadh\",\"South-West of Riyadh\",\"North-Eest of Riyadh\",\"South-West of Riyadh\",\"North-Eest of Riyadh\",\"North-West of Riyadh\",\"North-West of Riyadh\",\"South-West of Riyadh\",\"North-West of Riyadh\",\"South-West of Riyadh\",\"North-Eest of Riyadh\",\"North-West of Riyadh\",\"South-West of Riyadh\",\"South-West of Riyadh\",\"North-West of Riyadh\",\"South-West of Riyadh\",\"South-West of Riyadh\",\"South-West of Riyadh\",\"South-Eest of Riyadh\",\"North-Eest of Riyadh\",\"North-West of Riyadh\",\"North-Eest of Riyadh\",\"South-West of Riyadh\",\"North-Eest of Riyadh\",\"North-Eest of Riyadh\",\"South-Eest of Riyadh\",\"North-West of Riyadh\",\"South-West of Riyadh\",\"North-West of Riyadh\",\"South-West of Riyadh\",\"South-Eest of Riyadh\",\"South-West of Riyadh\",\"South-Eest of Riyadh\",\"South-West of Riyadh\",\"South-Eest of Riyadh\",\"North-West of Riyadh\",\"North-Eest of Riyadh\",\"North-Eest of Riyadh\",\"North-Eest of Riyadh\",\"North-Eest of Riyadh\",\"South-Eest of Riyadh\",\"South-West of Riyadh\",\"North-West of Riyadh\",\"North-West of Riyadh\",\"North-West of Riyadh\",\"South-Eest of Riyadh\",\"South-Eest of Riyadh\",\"North-Eest of Riyadh\",\"South-West of Riyadh\",\"South-Eest of Riyadh\",\"North-West of Riyadh\",\"North-Eest of Riyadh\",\"North-West of Riyadh\",\"North-Eest of Riyadh\",\"South-Eest of Riyadh\",\"North-West of Riyadh\",\"South-West of Riyadh\",\"North-West of Riyadh\",\"South-West of Riyadh\",\"South-Eest of Riyadh\",\"South-West of Riyadh\",\"North-West of Riyadh\",\"North-West of Riyadh\",\"North-Eest of Riyadh\",\"North-West of Riyadh\",\"North-West of Riyadh\",\"South-Eest of Riyadh\",\"North-Eest of Riyadh\",\"North-West of Riyadh\",\"South-West of Riyadh\",\"South-Eest of Riyadh\",\"South-Eest of Riyadh\",\"South-Eest of Riyadh\",\"South-West of Riyadh\",\"South-Eest of Riyadh\",\"South-Eest of Riyadh\",\"South-Eest of Riyadh\",\"South-Eest of Riyadh\",\"North-Eest of Riyadh\",\"North-Eest of Riyadh\",\"South-West of Riyadh\"],\"xaxis\":\"x\",\"yaxis\":\"y\",\"type\":\"histogram\"}],                        {\"template\":{\"data\":{\"bar\":[{\"error_x\":{\"color\":\"#2a3f5f\"},\"error_y\":{\"color\":\"#2a3f5f\"},\"marker\":{\"line\":{\"color\":\"#E5ECF6\",\"width\":0.5},\"pattern\":{\"fillmode\":\"overlay\",\"size\":10,\"solidity\":0.2}},\"type\":\"bar\"}],\"barpolar\":[{\"marker\":{\"line\":{\"color\":\"#E5ECF6\",\"width\":0.5},\"pattern\":{\"fillmode\":\"overlay\",\"size\":10,\"solidity\":0.2}},\"type\":\"barpolar\"}],\"carpet\":[{\"aaxis\":{\"endlinecolor\":\"#2a3f5f\",\"gridcolor\":\"white\",\"linecolor\":\"white\",\"minorgridcolor\":\"white\",\"startlinecolor\":\"#2a3f5f\"},\"baxis\":{\"endlinecolor\":\"#2a3f5f\",\"gridcolor\":\"white\",\"linecolor\":\"white\",\"minorgridcolor\":\"white\",\"startlinecolor\":\"#2a3f5f\"},\"type\":\"carpet\"}],\"choropleth\":[{\"colorbar\":{\"outlinewidth\":0,\"ticks\":\"\"},\"type\":\"choropleth\"}],\"contour\":[{\"colorbar\":{\"outlinewidth\":0,\"ticks\":\"\"},\"colorscale\":[[0.0,\"#0d0887\"],[0.1111111111111111,\"#46039f\"],[0.2222222222222222,\"#7201a8\"],[0.3333333333333333,\"#9c179e\"],[0.4444444444444444,\"#bd3786\"],[0.5555555555555556,\"#d8576b\"],[0.6666666666666666,\"#ed7953\"],[0.7777777777777778,\"#fb9f3a\"],[0.8888888888888888,\"#fdca26\"],[1.0,\"#f0f921\"]],\"type\":\"contour\"}],\"contourcarpet\":[{\"colorbar\":{\"outlinewidth\":0,\"ticks\":\"\"},\"type\":\"contourcarpet\"}],\"heatmap\":[{\"colorbar\":{\"outlinewidth\":0,\"ticks\":\"\"},\"colorscale\":[[0.0,\"#0d0887\"],[0.1111111111111111,\"#46039f\"],[0.2222222222222222,\"#7201a8\"],[0.3333333333333333,\"#9c179e\"],[0.4444444444444444,\"#bd3786\"],[0.5555555555555556,\"#d8576b\"],[0.6666666666666666,\"#ed7953\"],[0.7777777777777778,\"#fb9f3a\"],[0.8888888888888888,\"#fdca26\"],[1.0,\"#f0f921\"]],\"type\":\"heatmap\"}],\"heatmapgl\":[{\"colorbar\":{\"outlinewidth\":0,\"ticks\":\"\"},\"colorscale\":[[0.0,\"#0d0887\"],[0.1111111111111111,\"#46039f\"],[0.2222222222222222,\"#7201a8\"],[0.3333333333333333,\"#9c179e\"],[0.4444444444444444,\"#bd3786\"],[0.5555555555555556,\"#d8576b\"],[0.6666666666666666,\"#ed7953\"],[0.7777777777777778,\"#fb9f3a\"],[0.8888888888888888,\"#fdca26\"],[1.0,\"#f0f921\"]],\"type\":\"heatmapgl\"}],\"histogram\":[{\"marker\":{\"pattern\":{\"fillmode\":\"overlay\",\"size\":10,\"solidity\":0.2}},\"type\":\"histogram\"}],\"histogram2d\":[{\"colorbar\":{\"outlinewidth\":0,\"ticks\":\"\"},\"colorscale\":[[0.0,\"#0d0887\"],[0.1111111111111111,\"#46039f\"],[0.2222222222222222,\"#7201a8\"],[0.3333333333333333,\"#9c179e\"],[0.4444444444444444,\"#bd3786\"],[0.5555555555555556,\"#d8576b\"],[0.6666666666666666,\"#ed7953\"],[0.7777777777777778,\"#fb9f3a\"],[0.8888888888888888,\"#fdca26\"],[1.0,\"#f0f921\"]],\"type\":\"histogram2d\"}],\"histogram2dcontour\":[{\"colorbar\":{\"outlinewidth\":0,\"ticks\":\"\"},\"colorscale\":[[0.0,\"#0d0887\"],[0.1111111111111111,\"#46039f\"],[0.2222222222222222,\"#7201a8\"],[0.3333333333333333,\"#9c179e\"],[0.4444444444444444,\"#bd3786\"],[0.5555555555555556,\"#d8576b\"],[0.6666666666666666,\"#ed7953\"],[0.7777777777777778,\"#fb9f3a\"],[0.8888888888888888,\"#fdca26\"],[1.0,\"#f0f921\"]],\"type\":\"histogram2dcontour\"}],\"mesh3d\":[{\"colorbar\":{\"outlinewidth\":0,\"ticks\":\"\"},\"type\":\"mesh3d\"}],\"parcoords\":[{\"line\":{\"colorbar\":{\"outlinewidth\":0,\"ticks\":\"\"}},\"type\":\"parcoords\"}],\"pie\":[{\"automargin\":true,\"type\":\"pie\"}],\"scatter\":[{\"marker\":{\"colorbar\":{\"outlinewidth\":0,\"ticks\":\"\"}},\"type\":\"scatter\"}],\"scatter3d\":[{\"line\":{\"colorbar\":{\"outlinewidth\":0,\"ticks\":\"\"}},\"marker\":{\"colorbar\":{\"outlinewidth\":0,\"ticks\":\"\"}},\"type\":\"scatter3d\"}],\"scattercarpet\":[{\"marker\":{\"colorbar\":{\"outlinewidth\":0,\"ticks\":\"\"}},\"type\":\"scattercarpet\"}],\"scattergeo\":[{\"marker\":{\"colorbar\":{\"outlinewidth\":0,\"ticks\":\"\"}},\"type\":\"scattergeo\"}],\"scattergl\":[{\"marker\":{\"colorbar\":{\"outlinewidth\":0,\"ticks\":\"\"}},\"type\":\"scattergl\"}],\"scattermapbox\":[{\"marker\":{\"colorbar\":{\"outlinewidth\":0,\"ticks\":\"\"}},\"type\":\"scattermapbox\"}],\"scatterpolar\":[{\"marker\":{\"colorbar\":{\"outlinewidth\":0,\"ticks\":\"\"}},\"type\":\"scatterpolar\"}],\"scatterpolargl\":[{\"marker\":{\"colorbar\":{\"outlinewidth\":0,\"ticks\":\"\"}},\"type\":\"scatterpolargl\"}],\"scatterternary\":[{\"marker\":{\"colorbar\":{\"outlinewidth\":0,\"ticks\":\"\"}},\"type\":\"scatterternary\"}],\"surface\":[{\"colorbar\":{\"outlinewidth\":0,\"ticks\":\"\"},\"colorscale\":[[0.0,\"#0d0887\"],[0.1111111111111111,\"#46039f\"],[0.2222222222222222,\"#7201a8\"],[0.3333333333333333,\"#9c179e\"],[0.4444444444444444,\"#bd3786\"],[0.5555555555555556,\"#d8576b\"],[0.6666666666666666,\"#ed7953\"],[0.7777777777777778,\"#fb9f3a\"],[0.8888888888888888,\"#fdca26\"],[1.0,\"#f0f921\"]],\"type\":\"surface\"}],\"table\":[{\"cells\":{\"fill\":{\"color\":\"#EBF0F8\"},\"line\":{\"color\":\"white\"}},\"header\":{\"fill\":{\"color\":\"#C8D4E3\"},\"line\":{\"color\":\"white\"}},\"type\":\"table\"}]},\"layout\":{\"annotationdefaults\":{\"arrowcolor\":\"#2a3f5f\",\"arrowhead\":0,\"arrowwidth\":1},\"autotypenumbers\":\"strict\",\"coloraxis\":{\"colorbar\":{\"outlinewidth\":0,\"ticks\":\"\"}},\"colorscale\":{\"diverging\":[[0,\"#8e0152\"],[0.1,\"#c51b7d\"],[0.2,\"#de77ae\"],[0.3,\"#f1b6da\"],[0.4,\"#fde0ef\"],[0.5,\"#f7f7f7\"],[0.6,\"#e6f5d0\"],[0.7,\"#b8e186\"],[0.8,\"#7fbc41\"],[0.9,\"#4d9221\"],[1,\"#276419\"]],\"sequential\":[[0.0,\"#0d0887\"],[0.1111111111111111,\"#46039f\"],[0.2222222222222222,\"#7201a8\"],[0.3333333333333333,\"#9c179e\"],[0.4444444444444444,\"#bd3786\"],[0.5555555555555556,\"#d8576b\"],[0.6666666666666666,\"#ed7953\"],[0.7777777777777778,\"#fb9f3a\"],[0.8888888888888888,\"#fdca26\"],[1.0,\"#f0f921\"]],\"sequentialminus\":[[0.0,\"#0d0887\"],[0.1111111111111111,\"#46039f\"],[0.2222222222222222,\"#7201a8\"],[0.3333333333333333,\"#9c179e\"],[0.4444444444444444,\"#bd3786\"],[0.5555555555555556,\"#d8576b\"],[0.6666666666666666,\"#ed7953\"],[0.7777777777777778,\"#fb9f3a\"],[0.8888888888888888,\"#fdca26\"],[1.0,\"#f0f921\"]]},\"colorway\":[\"#636efa\",\"#EF553B\",\"#00cc96\",\"#ab63fa\",\"#FFA15A\",\"#19d3f3\",\"#FF6692\",\"#B6E880\",\"#FF97FF\",\"#FECB52\"],\"font\":{\"color\":\"#2a3f5f\"},\"geo\":{\"bgcolor\":\"white\",\"lakecolor\":\"white\",\"landcolor\":\"#E5ECF6\",\"showlakes\":true,\"showland\":true,\"subunitcolor\":\"white\"},\"hoverlabel\":{\"align\":\"left\"},\"hovermode\":\"closest\",\"mapbox\":{\"style\":\"light\"},\"paper_bgcolor\":\"white\",\"plot_bgcolor\":\"#E5ECF6\",\"polar\":{\"angularaxis\":{\"gridcolor\":\"white\",\"linecolor\":\"white\",\"ticks\":\"\"},\"bgcolor\":\"#E5ECF6\",\"radialaxis\":{\"gridcolor\":\"white\",\"linecolor\":\"white\",\"ticks\":\"\"}},\"scene\":{\"xaxis\":{\"backgroundcolor\":\"#E5ECF6\",\"gridcolor\":\"white\",\"gridwidth\":2,\"linecolor\":\"white\",\"showbackground\":true,\"ticks\":\"\",\"zerolinecolor\":\"white\"},\"yaxis\":{\"backgroundcolor\":\"#E5ECF6\",\"gridcolor\":\"white\",\"gridwidth\":2,\"linecolor\":\"white\",\"showbackground\":true,\"ticks\":\"\",\"zerolinecolor\":\"white\"},\"zaxis\":{\"backgroundcolor\":\"#E5ECF6\",\"gridcolor\":\"white\",\"gridwidth\":2,\"linecolor\":\"white\",\"showbackground\":true,\"ticks\":\"\",\"zerolinecolor\":\"white\"}},\"shapedefaults\":{\"line\":{\"color\":\"#2a3f5f\"}},\"ternary\":{\"aaxis\":{\"gridcolor\":\"white\",\"linecolor\":\"white\",\"ticks\":\"\"},\"baxis\":{\"gridcolor\":\"white\",\"linecolor\":\"white\",\"ticks\":\"\"},\"bgcolor\":\"#E5ECF6\",\"caxis\":{\"gridcolor\":\"white\",\"linecolor\":\"white\",\"ticks\":\"\"}},\"title\":{\"x\":0.05},\"xaxis\":{\"automargin\":true,\"gridcolor\":\"white\",\"linecolor\":\"white\",\"ticks\":\"\",\"title\":{\"standoff\":15},\"zerolinecolor\":\"white\",\"zerolinewidth\":2},\"yaxis\":{\"automargin\":true,\"gridcolor\":\"white\",\"linecolor\":\"white\",\"ticks\":\"\",\"title\":{\"standoff\":15},\"zerolinecolor\":\"white\",\"zerolinewidth\":2}}},\"xaxis\":{\"anchor\":\"y\",\"domain\":[0.0,1.0],\"title\":{\"text\":\"ResidentialArea\"}},\"yaxis\":{\"anchor\":\"x\",\"domain\":[0.0,1.0],\"title\":{\"text\":\"count\"}},\"legend\":{\"tracegroupgap\":0},\"margin\":{\"t\":60},\"barmode\":\"relative\"},                        {\"responsive\": true}                    ).then(function(){\n",
       "                            \n",
       "var gd = document.getElementById('5c7495d9-fe43-41c9-8712-0d023bf5096b');\n",
       "var x = new MutationObserver(function (mutations, observer) {{\n",
       "        var display = window.getComputedStyle(gd).display;\n",
       "        if (!display || display === 'none') {{\n",
       "            console.log([gd, 'removed!']);\n",
       "            Plotly.purge(gd);\n",
       "            observer.disconnect();\n",
       "        }}\n",
       "}});\n",
       "\n",
       "// Listen for the removal of the full notebook cells\n",
       "var notebookContainer = gd.closest('#notebook-container');\n",
       "if (notebookContainer) {{\n",
       "    x.observe(notebookContainer, {childList: true});\n",
       "}}\n",
       "\n",
       "// Listen for the clearing of the current output cell\n",
       "var outputEl = gd.closest('.output');\n",
       "if (outputEl) {{\n",
       "    x.observe(outputEl, {childList: true});\n",
       "}}\n",
       "\n",
       "                        })                };                });            </script>        </div>"
      ]
     },
     "metadata": {},
     "output_type": "display_data"
    }
   ],
   "source": [
    "fig = px.histogram(df_viz, x='ResidentialArea')\n",
    "fig.show()"
   ]
  },
  {
   "cell_type": "code",
   "execution_count": 37,
   "metadata": {},
   "outputs": [
    {
     "data": {
      "text/plain": [
       "South-West of Riyadh    25.2\n",
       "South-Eest of Riyadh    25.2\n",
       "North-Eest of Riyadh    25.0\n",
       "North-West of Riyadh    24.6\n",
       "Name: ResidentialArea, dtype: float64"
      ]
     },
     "execution_count": 37,
     "metadata": {},
     "output_type": "execute_result"
    }
   ],
   "source": [
    "df_viz.ResidentialArea.value_counts(normalize=True)*100"
   ]
  },
  {
   "cell_type": "code",
   "execution_count": 38,
   "metadata": {},
   "outputs": [
    {
     "data": {
      "text/plain": [
       "South-West of Riyadh    126\n",
       "South-Eest of Riyadh    126\n",
       "North-Eest of Riyadh    125\n",
       "North-West of Riyadh    123\n",
       "Name: ResidentialArea, dtype: int64"
      ]
     },
     "execution_count": 38,
     "metadata": {},
     "output_type": "execute_result"
    }
   ],
   "source": [
    "df_viz.ResidentialArea.value_counts()"
   ]
  },
  {
   "cell_type": "code",
   "execution_count": 39,
   "metadata": {},
   "outputs": [
    {
     "data": {
      "application/vnd.plotly.v1+json": {
       "config": {
        "plotlyServerURL": "https://plot.ly"
       },
       "data": [
        {
         "alignmentgroup": "True",
         "bingroup": "x",
         "hovertemplate": "WeeklyVisitFrequency=I only go out on weekends<br>ResidentialArea=%{x}<br>count=%{y}<extra></extra>",
         "legendgroup": "I only go out on weekends",
         "marker": {
          "color": "#636efa",
          "pattern": {
           "shape": ""
          }
         },
         "name": "I only go out on weekends",
         "offsetgroup": "I only go out on weekends",
         "orientation": "v",
         "showlegend": true,
         "type": "histogram",
         "x": [
          "North-West of Riyadh",
          "South-West of Riyadh",
          "South-Eest of Riyadh",
          "North-Eest of Riyadh",
          "South-Eest of Riyadh",
          "North-West of Riyadh",
          "North-Eest of Riyadh",
          "North-West of Riyadh",
          "North-Eest of Riyadh",
          "North-West of Riyadh",
          "North-Eest of Riyadh",
          "North-Eest of Riyadh",
          "North-Eest of Riyadh",
          "South-Eest of Riyadh",
          "South-Eest of Riyadh",
          "North-Eest of Riyadh",
          "South-West of Riyadh",
          "North-Eest of Riyadh",
          "North-Eest of Riyadh",
          "North-Eest of Riyadh",
          "South-Eest of Riyadh",
          "North-Eest of Riyadh",
          "North-West of Riyadh",
          "South-Eest of Riyadh",
          "South-Eest of Riyadh",
          "North-Eest of Riyadh",
          "South-West of Riyadh",
          "South-West of Riyadh",
          "South-Eest of Riyadh",
          "South-West of Riyadh",
          "North-Eest of Riyadh",
          "South-Eest of Riyadh",
          "South-West of Riyadh",
          "North-West of Riyadh",
          "North-West of Riyadh",
          "North-Eest of Riyadh",
          "North-Eest of Riyadh",
          "South-West of Riyadh",
          "South-West of Riyadh",
          "South-West of Riyadh",
          "North-West of Riyadh",
          "South-West of Riyadh",
          "North-West of Riyadh",
          "South-Eest of Riyadh",
          "North-Eest of Riyadh",
          "South-Eest of Riyadh",
          "North-West of Riyadh",
          "North-West of Riyadh",
          "South-Eest of Riyadh",
          "South-Eest of Riyadh",
          "North-Eest of Riyadh",
          "South-West of Riyadh",
          "North-West of Riyadh",
          "South-Eest of Riyadh",
          "South-Eest of Riyadh",
          "South-Eest of Riyadh",
          "South-West of Riyadh",
          "North-Eest of Riyadh",
          "South-West of Riyadh",
          "North-Eest of Riyadh",
          "North-Eest of Riyadh",
          "South-Eest of Riyadh",
          "North-Eest of Riyadh",
          "South-Eest of Riyadh",
          "South-West of Riyadh",
          "South-Eest of Riyadh",
          "South-Eest of Riyadh",
          "South-Eest of Riyadh",
          "South-Eest of Riyadh",
          "South-West of Riyadh",
          "North-West of Riyadh",
          "North-Eest of Riyadh",
          "South-West of Riyadh",
          "North-West of Riyadh",
          "North-West of Riyadh",
          "South-West of Riyadh",
          "North-West of Riyadh",
          "North-West of Riyadh",
          "South-West of Riyadh",
          "North-Eest of Riyadh",
          "South-West of Riyadh",
          "South-Eest of Riyadh",
          "South-Eest of Riyadh",
          "South-Eest of Riyadh",
          "North-West of Riyadh",
          "South-West of Riyadh",
          "North-Eest of Riyadh",
          "South-West of Riyadh",
          "South-Eest of Riyadh",
          "North-Eest of Riyadh",
          "South-Eest of Riyadh",
          "South-West of Riyadh",
          "North-West of Riyadh",
          "South-West of Riyadh",
          "North-Eest of Riyadh",
          "North-Eest of Riyadh",
          "South-Eest of Riyadh",
          "North-Eest of Riyadh",
          "South-Eest of Riyadh",
          "North-Eest of Riyadh",
          "South-West of Riyadh",
          "South-Eest of Riyadh",
          "South-Eest of Riyadh",
          "South-West of Riyadh",
          "North-West of Riyadh",
          "South-Eest of Riyadh",
          "North-West of Riyadh",
          "South-West of Riyadh",
          "South-West of Riyadh",
          "North-Eest of Riyadh",
          "South-West of Riyadh",
          "South-Eest of Riyadh",
          "South-West of Riyadh",
          "South-Eest of Riyadh",
          "North-West of Riyadh",
          "South-Eest of Riyadh",
          "North-Eest of Riyadh",
          "South-Eest of Riyadh",
          "North-West of Riyadh",
          "North-West of Riyadh",
          "North-Eest of Riyadh",
          "North-West of Riyadh",
          "North-West of Riyadh",
          "South-West of Riyadh",
          "North-Eest of Riyadh",
          "South-West of Riyadh",
          "South-West of Riyadh",
          "North-Eest of Riyadh",
          "South-Eest of Riyadh",
          "North-Eest of Riyadh",
          "South-Eest of Riyadh",
          "South-Eest of Riyadh",
          "North-Eest of Riyadh",
          "North-West of Riyadh",
          "South-Eest of Riyadh",
          "South-West of Riyadh",
          "South-West of Riyadh",
          "North-Eest of Riyadh",
          "South-Eest of Riyadh",
          "South-West of Riyadh",
          "South-West of Riyadh",
          "North-Eest of Riyadh",
          "North-West of Riyadh",
          "North-West of Riyadh",
          "South-West of Riyadh",
          "North-West of Riyadh",
          "South-West of Riyadh",
          "South-Eest of Riyadh",
          "North-West of Riyadh",
          "South-West of Riyadh",
          "North-West of Riyadh",
          "North-West of Riyadh",
          "North-Eest of Riyadh",
          "North-Eest of Riyadh",
          "North-West of Riyadh",
          "South-Eest of Riyadh",
          "North-Eest of Riyadh",
          "South-Eest of Riyadh",
          "South-West of Riyadh",
          "South-West of Riyadh",
          "North-West of Riyadh",
          "South-Eest of Riyadh",
          "South-Eest of Riyadh",
          "South-Eest of Riyadh"
         ],
         "xaxis": "x",
         "yaxis": "y"
        },
        {
         "alignmentgroup": "True",
         "bingroup": "x",
         "hovertemplate": "WeeklyVisitFrequency=3+ times a week<br>ResidentialArea=%{x}<br>count=%{y}<extra></extra>",
         "legendgroup": "3+ times a week",
         "marker": {
          "color": "#EF553B",
          "pattern": {
           "shape": ""
          }
         },
         "name": "3+ times a week",
         "offsetgroup": "3+ times a week",
         "orientation": "v",
         "showlegend": true,
         "type": "histogram",
         "x": [
          "North-Eest of Riyadh",
          "North-West of Riyadh",
          "North-West of Riyadh",
          "North-West of Riyadh",
          "South-Eest of Riyadh",
          "North-Eest of Riyadh",
          "North-West of Riyadh",
          "North-West of Riyadh",
          "South-West of Riyadh",
          "South-West of Riyadh",
          "North-West of Riyadh",
          "North-Eest of Riyadh",
          "South-West of Riyadh",
          "South-Eest of Riyadh",
          "South-West of Riyadh",
          "North-Eest of Riyadh",
          "South-West of Riyadh",
          "North-West of Riyadh",
          "North-Eest of Riyadh",
          "South-West of Riyadh",
          "South-Eest of Riyadh",
          "North-West of Riyadh",
          "South-Eest of Riyadh",
          "North-West of Riyadh",
          "South-Eest of Riyadh",
          "North-West of Riyadh",
          "South-West of Riyadh",
          "North-West of Riyadh",
          "South-West of Riyadh",
          "North-Eest of Riyadh",
          "North-Eest of Riyadh",
          "North-Eest of Riyadh",
          "South-Eest of Riyadh",
          "South-Eest of Riyadh",
          "South-Eest of Riyadh",
          "South-West of Riyadh",
          "South-Eest of Riyadh",
          "South-West of Riyadh",
          "North-West of Riyadh",
          "North-Eest of Riyadh",
          "South-Eest of Riyadh",
          "North-West of Riyadh",
          "North-West of Riyadh",
          "South-West of Riyadh",
          "South-West of Riyadh",
          "South-West of Riyadh",
          "South-Eest of Riyadh",
          "North-West of Riyadh",
          "South-West of Riyadh",
          "North-West of Riyadh",
          "North-Eest of Riyadh",
          "North-Eest of Riyadh",
          "South-Eest of Riyadh",
          "South-West of Riyadh",
          "South-Eest of Riyadh",
          "North-West of Riyadh",
          "North-Eest of Riyadh",
          "South-West of Riyadh",
          "North-West of Riyadh",
          "South-West of Riyadh",
          "South-Eest of Riyadh",
          "North-West of Riyadh",
          "South-Eest of Riyadh",
          "South-West of Riyadh",
          "North-West of Riyadh",
          "North-West of Riyadh",
          "North-Eest of Riyadh",
          "North-West of Riyadh",
          "South-West of Riyadh",
          "North-West of Riyadh",
          "South-West of Riyadh",
          "North-West of Riyadh",
          "North-Eest of Riyadh",
          "South-West of Riyadh",
          "North-West of Riyadh",
          "North-West of Riyadh",
          "North-West of Riyadh",
          "South-West of Riyadh",
          "North-Eest of Riyadh",
          "South-West of Riyadh",
          "South-West of Riyadh",
          "South-Eest of Riyadh",
          "North-Eest of Riyadh",
          "North-West of Riyadh",
          "South-West of Riyadh",
          "South-Eest of Riyadh",
          "North-Eest of Riyadh",
          "North-West of Riyadh",
          "North-Eest of Riyadh",
          "North-Eest of Riyadh",
          "South-West of Riyadh",
          "South-Eest of Riyadh",
          "North-Eest of Riyadh",
          "North-West of Riyadh",
          "South-West of Riyadh",
          "North-West of Riyadh",
          "South-West of Riyadh",
          "South-West of Riyadh",
          "North-West of Riyadh",
          "North-Eest of Riyadh",
          "North-West of Riyadh",
          "South-Eest of Riyadh",
          "North-West of Riyadh",
          "North-West of Riyadh",
          "North-West of Riyadh",
          "South-Eest of Riyadh",
          "South-West of Riyadh",
          "North-West of Riyadh",
          "North-Eest of Riyadh",
          "North-Eest of Riyadh",
          "North-Eest of Riyadh",
          "North-Eest of Riyadh",
          "South-West of Riyadh",
          "South-West of Riyadh",
          "South-West of Riyadh",
          "South-Eest of Riyadh",
          "South-Eest of Riyadh",
          "South-Eest of Riyadh",
          "North-West of Riyadh",
          "North-Eest of Riyadh",
          "South-Eest of Riyadh",
          "North-Eest of Riyadh",
          "North-West of Riyadh",
          "North-Eest of Riyadh",
          "South-Eest of Riyadh",
          "North-West of Riyadh",
          "South-Eest of Riyadh",
          "North-West of Riyadh",
          "South-Eest of Riyadh",
          "South-West of Riyadh",
          "North-Eest of Riyadh",
          "North-Eest of Riyadh",
          "South-West of Riyadh",
          "North-Eest of Riyadh",
          "North-West of Riyadh",
          "North-West of Riyadh",
          "South-West of Riyadh",
          "South-Eest of Riyadh",
          "South-Eest of Riyadh",
          "North-Eest of Riyadh",
          "North-West of Riyadh",
          "South-West of Riyadh",
          "South-West of Riyadh",
          "South-West of Riyadh",
          "South-Eest of Riyadh",
          "South-West of Riyadh",
          "North-Eest of Riyadh",
          "South-Eest of Riyadh",
          "North-Eest of Riyadh",
          "North-West of Riyadh",
          "South-West of Riyadh",
          "South-Eest of Riyadh",
          "North-West of Riyadh",
          "North-Eest of Riyadh",
          "North-West of Riyadh",
          "North-West of Riyadh",
          "South-Eest of Riyadh",
          "North-Eest of Riyadh",
          "North-West of Riyadh",
          "South-West of Riyadh",
          "South-Eest of Riyadh",
          "South-Eest of Riyadh",
          "North-Eest of Riyadh",
          "South-West of Riyadh"
         ],
         "xaxis": "x",
         "yaxis": "y"
        },
        {
         "alignmentgroup": "True",
         "bingroup": "x",
         "hovertemplate": "WeeklyVisitFrequency=2-3 times a week<br>ResidentialArea=%{x}<br>count=%{y}<extra></extra>",
         "legendgroup": "2-3 times a week",
         "marker": {
          "color": "#00cc96",
          "pattern": {
           "shape": ""
          }
         },
         "name": "2-3 times a week",
         "offsetgroup": "2-3 times a week",
         "orientation": "v",
         "showlegend": true,
         "type": "histogram",
         "x": [
          "North-Eest of Riyadh",
          "South-West of Riyadh",
          "North-West of Riyadh",
          "South-Eest of Riyadh",
          "South-Eest of Riyadh",
          "South-Eest of Riyadh",
          "South-West of Riyadh",
          "North-Eest of Riyadh",
          "South-West of Riyadh",
          "South-West of Riyadh",
          "South-Eest of Riyadh",
          "South-Eest of Riyadh",
          "South-Eest of Riyadh",
          "South-Eest of Riyadh",
          "South-West of Riyadh",
          "North-West of Riyadh",
          "South-West of Riyadh",
          "North-Eest of Riyadh",
          "South-Eest of Riyadh",
          "North-West of Riyadh",
          "North-West of Riyadh",
          "North-Eest of Riyadh",
          "North-Eest of Riyadh",
          "South-West of Riyadh",
          "South-West of Riyadh",
          "South-Eest of Riyadh",
          "North-Eest of Riyadh",
          "South-Eest of Riyadh",
          "North-Eest of Riyadh",
          "South-West of Riyadh",
          "South-Eest of Riyadh",
          "South-Eest of Riyadh",
          "North-West of Riyadh",
          "North-Eest of Riyadh",
          "North-Eest of Riyadh",
          "North-West of Riyadh",
          "South-Eest of Riyadh",
          "North-Eest of Riyadh",
          "North-West of Riyadh",
          "North-West of Riyadh",
          "North-West of Riyadh",
          "South-Eest of Riyadh",
          "North-Eest of Riyadh",
          "South-Eest of Riyadh",
          "South-West of Riyadh",
          "South-Eest of Riyadh",
          "South-Eest of Riyadh",
          "South-West of Riyadh",
          "North-Eest of Riyadh",
          "South-West of Riyadh",
          "South-West of Riyadh",
          "South-Eest of Riyadh",
          "South-West of Riyadh",
          "South-West of Riyadh",
          "South-West of Riyadh",
          "North-West of Riyadh",
          "South-Eest of Riyadh",
          "South-West of Riyadh",
          "North-West of Riyadh",
          "South-Eest of Riyadh",
          "North-West of Riyadh",
          "South-West of Riyadh",
          "South-Eest of Riyadh",
          "South-West of Riyadh",
          "South-Eest of Riyadh",
          "North-West of Riyadh",
          "North-Eest of Riyadh",
          "South-Eest of Riyadh",
          "South-West of Riyadh",
          "North-Eest of Riyadh",
          "North-West of Riyadh",
          "South-West of Riyadh",
          "North-West of Riyadh",
          "South-Eest of Riyadh",
          "North-West of Riyadh",
          "North-West of Riyadh",
          "South-West of Riyadh",
          "South-West of Riyadh",
          "North-Eest of Riyadh",
          "North-West of Riyadh",
          "North-Eest of Riyadh",
          "North-West of Riyadh",
          "South-Eest of Riyadh",
          "South-West of Riyadh",
          "North-Eest of Riyadh",
          "South-Eest of Riyadh",
          "South-Eest of Riyadh",
          "North-Eest of Riyadh",
          "North-Eest of Riyadh",
          "North-Eest of Riyadh",
          "North-West of Riyadh",
          "South-West of Riyadh",
          "North-West of Riyadh",
          "North-Eest of Riyadh",
          "North-Eest of Riyadh",
          "North-West of Riyadh",
          "North-Eest of Riyadh",
          "North-West of Riyadh",
          "North-Eest of Riyadh",
          "South-Eest of Riyadh",
          "North-Eest of Riyadh",
          "South-Eest of Riyadh",
          "North-Eest of Riyadh",
          "North-Eest of Riyadh",
          "South-Eest of Riyadh",
          "North-Eest of Riyadh",
          "North-West of Riyadh",
          "North-West of Riyadh",
          "North-West of Riyadh",
          "South-West of Riyadh",
          "South-Eest of Riyadh",
          "South-Eest of Riyadh",
          "South-West of Riyadh",
          "North-Eest of Riyadh",
          "South-Eest of Riyadh",
          "North-Eest of Riyadh",
          "South-West of Riyadh",
          "North-Eest of Riyadh",
          "North-Eest of Riyadh",
          "North-Eest of Riyadh",
          "North-West of Riyadh",
          "South-West of Riyadh",
          "North-Eest of Riyadh",
          "North-Eest of Riyadh",
          "South-West of Riyadh",
          "South-West of Riyadh",
          "North-West of Riyadh",
          "North-West of Riyadh",
          "North-Eest of Riyadh",
          "South-Eest of Riyadh",
          "South-Eest of Riyadh",
          "South-Eest of Riyadh",
          "North-West of Riyadh",
          "North-West of Riyadh",
          "South-West of Riyadh",
          "South-Eest of Riyadh",
          "North-Eest of Riyadh",
          "North-Eest of Riyadh",
          "South-West of Riyadh",
          "South-West of Riyadh",
          "North-Eest of Riyadh",
          "North-Eest of Riyadh",
          "North-West of Riyadh",
          "North-West of Riyadh",
          "South-West of Riyadh",
          "South-West of Riyadh",
          "North-Eest of Riyadh",
          "North-West of Riyadh",
          "North-Eest of Riyadh",
          "North-Eest of Riyadh",
          "South-West of Riyadh",
          "South-Eest of Riyadh",
          "South-West of Riyadh",
          "South-West of Riyadh",
          "South-Eest of Riyadh",
          "North-Eest of Riyadh",
          "South-Eest of Riyadh",
          "South-West of Riyadh",
          "North-West of Riyadh",
          "South-Eest of Riyadh",
          "North-Eest of Riyadh",
          "North-West of Riyadh",
          "South-West of Riyadh",
          "North-West of Riyadh",
          "South-Eest of Riyadh",
          "North-West of Riyadh",
          "North-Eest of Riyadh",
          "North-West of Riyadh",
          "South-West of Riyadh",
          "South-Eest of Riyadh",
          "South-Eest of Riyadh",
          "North-Eest of Riyadh"
         ],
         "xaxis": "x",
         "yaxis": "y"
        }
       ],
       "layout": {
        "barmode": "group",
        "legend": {
         "title": {
          "text": "WeeklyVisitFrequency"
         },
         "tracegroupgap": 0
        },
        "margin": {
         "t": 60
        },
        "template": {
         "data": {
          "bar": [
           {
            "error_x": {
             "color": "#2a3f5f"
            },
            "error_y": {
             "color": "#2a3f5f"
            },
            "marker": {
             "line": {
              "color": "#E5ECF6",
              "width": 0.5
             },
             "pattern": {
              "fillmode": "overlay",
              "size": 10,
              "solidity": 0.2
             }
            },
            "type": "bar"
           }
          ],
          "barpolar": [
           {
            "marker": {
             "line": {
              "color": "#E5ECF6",
              "width": 0.5
             },
             "pattern": {
              "fillmode": "overlay",
              "size": 10,
              "solidity": 0.2
             }
            },
            "type": "barpolar"
           }
          ],
          "carpet": [
           {
            "aaxis": {
             "endlinecolor": "#2a3f5f",
             "gridcolor": "white",
             "linecolor": "white",
             "minorgridcolor": "white",
             "startlinecolor": "#2a3f5f"
            },
            "baxis": {
             "endlinecolor": "#2a3f5f",
             "gridcolor": "white",
             "linecolor": "white",
             "minorgridcolor": "white",
             "startlinecolor": "#2a3f5f"
            },
            "type": "carpet"
           }
          ],
          "choropleth": [
           {
            "colorbar": {
             "outlinewidth": 0,
             "ticks": ""
            },
            "type": "choropleth"
           }
          ],
          "contour": [
           {
            "colorbar": {
             "outlinewidth": 0,
             "ticks": ""
            },
            "colorscale": [
             [
              0,
              "#0d0887"
             ],
             [
              0.1111111111111111,
              "#46039f"
             ],
             [
              0.2222222222222222,
              "#7201a8"
             ],
             [
              0.3333333333333333,
              "#9c179e"
             ],
             [
              0.4444444444444444,
              "#bd3786"
             ],
             [
              0.5555555555555556,
              "#d8576b"
             ],
             [
              0.6666666666666666,
              "#ed7953"
             ],
             [
              0.7777777777777778,
              "#fb9f3a"
             ],
             [
              0.8888888888888888,
              "#fdca26"
             ],
             [
              1,
              "#f0f921"
             ]
            ],
            "type": "contour"
           }
          ],
          "contourcarpet": [
           {
            "colorbar": {
             "outlinewidth": 0,
             "ticks": ""
            },
            "type": "contourcarpet"
           }
          ],
          "heatmap": [
           {
            "colorbar": {
             "outlinewidth": 0,
             "ticks": ""
            },
            "colorscale": [
             [
              0,
              "#0d0887"
             ],
             [
              0.1111111111111111,
              "#46039f"
             ],
             [
              0.2222222222222222,
              "#7201a8"
             ],
             [
              0.3333333333333333,
              "#9c179e"
             ],
             [
              0.4444444444444444,
              "#bd3786"
             ],
             [
              0.5555555555555556,
              "#d8576b"
             ],
             [
              0.6666666666666666,
              "#ed7953"
             ],
             [
              0.7777777777777778,
              "#fb9f3a"
             ],
             [
              0.8888888888888888,
              "#fdca26"
             ],
             [
              1,
              "#f0f921"
             ]
            ],
            "type": "heatmap"
           }
          ],
          "heatmapgl": [
           {
            "colorbar": {
             "outlinewidth": 0,
             "ticks": ""
            },
            "colorscale": [
             [
              0,
              "#0d0887"
             ],
             [
              0.1111111111111111,
              "#46039f"
             ],
             [
              0.2222222222222222,
              "#7201a8"
             ],
             [
              0.3333333333333333,
              "#9c179e"
             ],
             [
              0.4444444444444444,
              "#bd3786"
             ],
             [
              0.5555555555555556,
              "#d8576b"
             ],
             [
              0.6666666666666666,
              "#ed7953"
             ],
             [
              0.7777777777777778,
              "#fb9f3a"
             ],
             [
              0.8888888888888888,
              "#fdca26"
             ],
             [
              1,
              "#f0f921"
             ]
            ],
            "type": "heatmapgl"
           }
          ],
          "histogram": [
           {
            "marker": {
             "pattern": {
              "fillmode": "overlay",
              "size": 10,
              "solidity": 0.2
             }
            },
            "type": "histogram"
           }
          ],
          "histogram2d": [
           {
            "colorbar": {
             "outlinewidth": 0,
             "ticks": ""
            },
            "colorscale": [
             [
              0,
              "#0d0887"
             ],
             [
              0.1111111111111111,
              "#46039f"
             ],
             [
              0.2222222222222222,
              "#7201a8"
             ],
             [
              0.3333333333333333,
              "#9c179e"
             ],
             [
              0.4444444444444444,
              "#bd3786"
             ],
             [
              0.5555555555555556,
              "#d8576b"
             ],
             [
              0.6666666666666666,
              "#ed7953"
             ],
             [
              0.7777777777777778,
              "#fb9f3a"
             ],
             [
              0.8888888888888888,
              "#fdca26"
             ],
             [
              1,
              "#f0f921"
             ]
            ],
            "type": "histogram2d"
           }
          ],
          "histogram2dcontour": [
           {
            "colorbar": {
             "outlinewidth": 0,
             "ticks": ""
            },
            "colorscale": [
             [
              0,
              "#0d0887"
             ],
             [
              0.1111111111111111,
              "#46039f"
             ],
             [
              0.2222222222222222,
              "#7201a8"
             ],
             [
              0.3333333333333333,
              "#9c179e"
             ],
             [
              0.4444444444444444,
              "#bd3786"
             ],
             [
              0.5555555555555556,
              "#d8576b"
             ],
             [
              0.6666666666666666,
              "#ed7953"
             ],
             [
              0.7777777777777778,
              "#fb9f3a"
             ],
             [
              0.8888888888888888,
              "#fdca26"
             ],
             [
              1,
              "#f0f921"
             ]
            ],
            "type": "histogram2dcontour"
           }
          ],
          "mesh3d": [
           {
            "colorbar": {
             "outlinewidth": 0,
             "ticks": ""
            },
            "type": "mesh3d"
           }
          ],
          "parcoords": [
           {
            "line": {
             "colorbar": {
              "outlinewidth": 0,
              "ticks": ""
             }
            },
            "type": "parcoords"
           }
          ],
          "pie": [
           {
            "automargin": true,
            "type": "pie"
           }
          ],
          "scatter": [
           {
            "marker": {
             "colorbar": {
              "outlinewidth": 0,
              "ticks": ""
             }
            },
            "type": "scatter"
           }
          ],
          "scatter3d": [
           {
            "line": {
             "colorbar": {
              "outlinewidth": 0,
              "ticks": ""
             }
            },
            "marker": {
             "colorbar": {
              "outlinewidth": 0,
              "ticks": ""
             }
            },
            "type": "scatter3d"
           }
          ],
          "scattercarpet": [
           {
            "marker": {
             "colorbar": {
              "outlinewidth": 0,
              "ticks": ""
             }
            },
            "type": "scattercarpet"
           }
          ],
          "scattergeo": [
           {
            "marker": {
             "colorbar": {
              "outlinewidth": 0,
              "ticks": ""
             }
            },
            "type": "scattergeo"
           }
          ],
          "scattergl": [
           {
            "marker": {
             "colorbar": {
              "outlinewidth": 0,
              "ticks": ""
             }
            },
            "type": "scattergl"
           }
          ],
          "scattermapbox": [
           {
            "marker": {
             "colorbar": {
              "outlinewidth": 0,
              "ticks": ""
             }
            },
            "type": "scattermapbox"
           }
          ],
          "scatterpolar": [
           {
            "marker": {
             "colorbar": {
              "outlinewidth": 0,
              "ticks": ""
             }
            },
            "type": "scatterpolar"
           }
          ],
          "scatterpolargl": [
           {
            "marker": {
             "colorbar": {
              "outlinewidth": 0,
              "ticks": ""
             }
            },
            "type": "scatterpolargl"
           }
          ],
          "scatterternary": [
           {
            "marker": {
             "colorbar": {
              "outlinewidth": 0,
              "ticks": ""
             }
            },
            "type": "scatterternary"
           }
          ],
          "surface": [
           {
            "colorbar": {
             "outlinewidth": 0,
             "ticks": ""
            },
            "colorscale": [
             [
              0,
              "#0d0887"
             ],
             [
              0.1111111111111111,
              "#46039f"
             ],
             [
              0.2222222222222222,
              "#7201a8"
             ],
             [
              0.3333333333333333,
              "#9c179e"
             ],
             [
              0.4444444444444444,
              "#bd3786"
             ],
             [
              0.5555555555555556,
              "#d8576b"
             ],
             [
              0.6666666666666666,
              "#ed7953"
             ],
             [
              0.7777777777777778,
              "#fb9f3a"
             ],
             [
              0.8888888888888888,
              "#fdca26"
             ],
             [
              1,
              "#f0f921"
             ]
            ],
            "type": "surface"
           }
          ],
          "table": [
           {
            "cells": {
             "fill": {
              "color": "#EBF0F8"
             },
             "line": {
              "color": "white"
             }
            },
            "header": {
             "fill": {
              "color": "#C8D4E3"
             },
             "line": {
              "color": "white"
             }
            },
            "type": "table"
           }
          ]
         },
         "layout": {
          "annotationdefaults": {
           "arrowcolor": "#2a3f5f",
           "arrowhead": 0,
           "arrowwidth": 1
          },
          "autotypenumbers": "strict",
          "coloraxis": {
           "colorbar": {
            "outlinewidth": 0,
            "ticks": ""
           }
          },
          "colorscale": {
           "diverging": [
            [
             0,
             "#8e0152"
            ],
            [
             0.1,
             "#c51b7d"
            ],
            [
             0.2,
             "#de77ae"
            ],
            [
             0.3,
             "#f1b6da"
            ],
            [
             0.4,
             "#fde0ef"
            ],
            [
             0.5,
             "#f7f7f7"
            ],
            [
             0.6,
             "#e6f5d0"
            ],
            [
             0.7,
             "#b8e186"
            ],
            [
             0.8,
             "#7fbc41"
            ],
            [
             0.9,
             "#4d9221"
            ],
            [
             1,
             "#276419"
            ]
           ],
           "sequential": [
            [
             0,
             "#0d0887"
            ],
            [
             0.1111111111111111,
             "#46039f"
            ],
            [
             0.2222222222222222,
             "#7201a8"
            ],
            [
             0.3333333333333333,
             "#9c179e"
            ],
            [
             0.4444444444444444,
             "#bd3786"
            ],
            [
             0.5555555555555556,
             "#d8576b"
            ],
            [
             0.6666666666666666,
             "#ed7953"
            ],
            [
             0.7777777777777778,
             "#fb9f3a"
            ],
            [
             0.8888888888888888,
             "#fdca26"
            ],
            [
             1,
             "#f0f921"
            ]
           ],
           "sequentialminus": [
            [
             0,
             "#0d0887"
            ],
            [
             0.1111111111111111,
             "#46039f"
            ],
            [
             0.2222222222222222,
             "#7201a8"
            ],
            [
             0.3333333333333333,
             "#9c179e"
            ],
            [
             0.4444444444444444,
             "#bd3786"
            ],
            [
             0.5555555555555556,
             "#d8576b"
            ],
            [
             0.6666666666666666,
             "#ed7953"
            ],
            [
             0.7777777777777778,
             "#fb9f3a"
            ],
            [
             0.8888888888888888,
             "#fdca26"
            ],
            [
             1,
             "#f0f921"
            ]
           ]
          },
          "colorway": [
           "#636efa",
           "#EF553B",
           "#00cc96",
           "#ab63fa",
           "#FFA15A",
           "#19d3f3",
           "#FF6692",
           "#B6E880",
           "#FF97FF",
           "#FECB52"
          ],
          "font": {
           "color": "#2a3f5f"
          },
          "geo": {
           "bgcolor": "white",
           "lakecolor": "white",
           "landcolor": "#E5ECF6",
           "showlakes": true,
           "showland": true,
           "subunitcolor": "white"
          },
          "hoverlabel": {
           "align": "left"
          },
          "hovermode": "closest",
          "mapbox": {
           "style": "light"
          },
          "paper_bgcolor": "white",
          "plot_bgcolor": "#E5ECF6",
          "polar": {
           "angularaxis": {
            "gridcolor": "white",
            "linecolor": "white",
            "ticks": ""
           },
           "bgcolor": "#E5ECF6",
           "radialaxis": {
            "gridcolor": "white",
            "linecolor": "white",
            "ticks": ""
           }
          },
          "scene": {
           "xaxis": {
            "backgroundcolor": "#E5ECF6",
            "gridcolor": "white",
            "gridwidth": 2,
            "linecolor": "white",
            "showbackground": true,
            "ticks": "",
            "zerolinecolor": "white"
           },
           "yaxis": {
            "backgroundcolor": "#E5ECF6",
            "gridcolor": "white",
            "gridwidth": 2,
            "linecolor": "white",
            "showbackground": true,
            "ticks": "",
            "zerolinecolor": "white"
           },
           "zaxis": {
            "backgroundcolor": "#E5ECF6",
            "gridcolor": "white",
            "gridwidth": 2,
            "linecolor": "white",
            "showbackground": true,
            "ticks": "",
            "zerolinecolor": "white"
           }
          },
          "shapedefaults": {
           "line": {
            "color": "#2a3f5f"
           }
          },
          "ternary": {
           "aaxis": {
            "gridcolor": "white",
            "linecolor": "white",
            "ticks": ""
           },
           "baxis": {
            "gridcolor": "white",
            "linecolor": "white",
            "ticks": ""
           },
           "bgcolor": "#E5ECF6",
           "caxis": {
            "gridcolor": "white",
            "linecolor": "white",
            "ticks": ""
           }
          },
          "title": {
           "x": 0.05
          },
          "xaxis": {
           "automargin": true,
           "gridcolor": "white",
           "linecolor": "white",
           "ticks": "",
           "title": {
            "standoff": 15
           },
           "zerolinecolor": "white",
           "zerolinewidth": 2
          },
          "yaxis": {
           "automargin": true,
           "gridcolor": "white",
           "linecolor": "white",
           "ticks": "",
           "title": {
            "standoff": 15
           },
           "zerolinecolor": "white",
           "zerolinewidth": 2
          }
         }
        },
        "xaxis": {
         "anchor": "y",
         "domain": [
          0,
          1
         ],
         "title": {
          "text": "ResidentialArea"
         }
        },
        "yaxis": {
         "anchor": "x",
         "domain": [
          0,
          1
         ],
         "title": {
          "text": "count"
         }
        }
       }
      },
      "text/html": [
       "<div>                            <div id=\"98b8468f-89eb-4e29-8f6d-76e42773705b\" class=\"plotly-graph-div\" style=\"height:525px; width:100%;\"></div>            <script type=\"text/javascript\">                require([\"plotly\"], function(Plotly) {                    window.PLOTLYENV=window.PLOTLYENV || {};                                    if (document.getElementById(\"98b8468f-89eb-4e29-8f6d-76e42773705b\")) {                    Plotly.newPlot(                        \"98b8468f-89eb-4e29-8f6d-76e42773705b\",                        [{\"alignmentgroup\":\"True\",\"bingroup\":\"x\",\"hovertemplate\":\"WeeklyVisitFrequency=I only go out on weekends<br>ResidentialArea=%{x}<br>count=%{y}<extra></extra>\",\"legendgroup\":\"I only go out on weekends\",\"marker\":{\"color\":\"#636efa\",\"pattern\":{\"shape\":\"\"}},\"name\":\"I only go out on weekends\",\"offsetgroup\":\"I only go out on weekends\",\"orientation\":\"v\",\"showlegend\":true,\"x\":[\"North-West of Riyadh\",\"South-West of Riyadh\",\"South-Eest of Riyadh\",\"North-Eest of Riyadh\",\"South-Eest of Riyadh\",\"North-West of Riyadh\",\"North-Eest of Riyadh\",\"North-West of Riyadh\",\"North-Eest of Riyadh\",\"North-West of Riyadh\",\"North-Eest of Riyadh\",\"North-Eest of Riyadh\",\"North-Eest of Riyadh\",\"South-Eest of Riyadh\",\"South-Eest of Riyadh\",\"North-Eest of Riyadh\",\"South-West of Riyadh\",\"North-Eest of Riyadh\",\"North-Eest of Riyadh\",\"North-Eest of Riyadh\",\"South-Eest of Riyadh\",\"North-Eest of Riyadh\",\"North-West of Riyadh\",\"South-Eest of Riyadh\",\"South-Eest of Riyadh\",\"North-Eest of Riyadh\",\"South-West of Riyadh\",\"South-West of Riyadh\",\"South-Eest of Riyadh\",\"South-West of Riyadh\",\"North-Eest of Riyadh\",\"South-Eest of Riyadh\",\"South-West of Riyadh\",\"North-West of Riyadh\",\"North-West of Riyadh\",\"North-Eest of Riyadh\",\"North-Eest of Riyadh\",\"South-West of Riyadh\",\"South-West of Riyadh\",\"South-West of Riyadh\",\"North-West of Riyadh\",\"South-West of Riyadh\",\"North-West of Riyadh\",\"South-Eest of Riyadh\",\"North-Eest of Riyadh\",\"South-Eest of Riyadh\",\"North-West of Riyadh\",\"North-West of Riyadh\",\"South-Eest of Riyadh\",\"South-Eest of Riyadh\",\"North-Eest of Riyadh\",\"South-West of Riyadh\",\"North-West of Riyadh\",\"South-Eest of Riyadh\",\"South-Eest of Riyadh\",\"South-Eest of Riyadh\",\"South-West of Riyadh\",\"North-Eest of Riyadh\",\"South-West of Riyadh\",\"North-Eest of Riyadh\",\"North-Eest of Riyadh\",\"South-Eest of Riyadh\",\"North-Eest of Riyadh\",\"South-Eest of Riyadh\",\"South-West of Riyadh\",\"South-Eest of Riyadh\",\"South-Eest of Riyadh\",\"South-Eest of Riyadh\",\"South-Eest of Riyadh\",\"South-West of Riyadh\",\"North-West of Riyadh\",\"North-Eest of Riyadh\",\"South-West of Riyadh\",\"North-West of Riyadh\",\"North-West of Riyadh\",\"South-West of Riyadh\",\"North-West of Riyadh\",\"North-West of Riyadh\",\"South-West of Riyadh\",\"North-Eest of Riyadh\",\"South-West of Riyadh\",\"South-Eest of Riyadh\",\"South-Eest of Riyadh\",\"South-Eest of Riyadh\",\"North-West of Riyadh\",\"South-West of Riyadh\",\"North-Eest of Riyadh\",\"South-West of Riyadh\",\"South-Eest of Riyadh\",\"North-Eest of Riyadh\",\"South-Eest of Riyadh\",\"South-West of Riyadh\",\"North-West of Riyadh\",\"South-West of Riyadh\",\"North-Eest of Riyadh\",\"North-Eest of Riyadh\",\"South-Eest of Riyadh\",\"North-Eest of Riyadh\",\"South-Eest of Riyadh\",\"North-Eest of Riyadh\",\"South-West of Riyadh\",\"South-Eest of Riyadh\",\"South-Eest of Riyadh\",\"South-West of Riyadh\",\"North-West of Riyadh\",\"South-Eest of Riyadh\",\"North-West of Riyadh\",\"South-West of Riyadh\",\"South-West of Riyadh\",\"North-Eest of Riyadh\",\"South-West of Riyadh\",\"South-Eest of Riyadh\",\"South-West of Riyadh\",\"South-Eest of Riyadh\",\"North-West of Riyadh\",\"South-Eest of Riyadh\",\"North-Eest of Riyadh\",\"South-Eest of Riyadh\",\"North-West of Riyadh\",\"North-West of Riyadh\",\"North-Eest of Riyadh\",\"North-West of Riyadh\",\"North-West of Riyadh\",\"South-West of Riyadh\",\"North-Eest of Riyadh\",\"South-West of Riyadh\",\"South-West of Riyadh\",\"North-Eest of Riyadh\",\"South-Eest of Riyadh\",\"North-Eest of Riyadh\",\"South-Eest of Riyadh\",\"South-Eest of Riyadh\",\"North-Eest of Riyadh\",\"North-West of Riyadh\",\"South-Eest of Riyadh\",\"South-West of Riyadh\",\"South-West of Riyadh\",\"North-Eest of Riyadh\",\"South-Eest of Riyadh\",\"South-West of Riyadh\",\"South-West of Riyadh\",\"North-Eest of Riyadh\",\"North-West of Riyadh\",\"North-West of Riyadh\",\"South-West of Riyadh\",\"North-West of Riyadh\",\"South-West of Riyadh\",\"South-Eest of Riyadh\",\"North-West of Riyadh\",\"South-West of Riyadh\",\"North-West of Riyadh\",\"North-West of Riyadh\",\"North-Eest of Riyadh\",\"North-Eest of Riyadh\",\"North-West of Riyadh\",\"South-Eest of Riyadh\",\"North-Eest of Riyadh\",\"South-Eest of Riyadh\",\"South-West of Riyadh\",\"South-West of Riyadh\",\"North-West of Riyadh\",\"South-Eest of Riyadh\",\"South-Eest of Riyadh\",\"South-Eest of Riyadh\"],\"xaxis\":\"x\",\"yaxis\":\"y\",\"type\":\"histogram\"},{\"alignmentgroup\":\"True\",\"bingroup\":\"x\",\"hovertemplate\":\"WeeklyVisitFrequency=3+ times a week<br>ResidentialArea=%{x}<br>count=%{y}<extra></extra>\",\"legendgroup\":\"3+ times a week\",\"marker\":{\"color\":\"#EF553B\",\"pattern\":{\"shape\":\"\"}},\"name\":\"3+ times a week\",\"offsetgroup\":\"3+ times a week\",\"orientation\":\"v\",\"showlegend\":true,\"x\":[\"North-Eest of Riyadh\",\"North-West of Riyadh\",\"North-West of Riyadh\",\"North-West of Riyadh\",\"South-Eest of Riyadh\",\"North-Eest of Riyadh\",\"North-West of Riyadh\",\"North-West of Riyadh\",\"South-West of Riyadh\",\"South-West of Riyadh\",\"North-West of Riyadh\",\"North-Eest of Riyadh\",\"South-West of Riyadh\",\"South-Eest of Riyadh\",\"South-West of Riyadh\",\"North-Eest of Riyadh\",\"South-West of Riyadh\",\"North-West of Riyadh\",\"North-Eest of Riyadh\",\"South-West of Riyadh\",\"South-Eest of Riyadh\",\"North-West of Riyadh\",\"South-Eest of Riyadh\",\"North-West of Riyadh\",\"South-Eest of Riyadh\",\"North-West of Riyadh\",\"South-West of Riyadh\",\"North-West of Riyadh\",\"South-West of Riyadh\",\"North-Eest of Riyadh\",\"North-Eest of Riyadh\",\"North-Eest of Riyadh\",\"South-Eest of Riyadh\",\"South-Eest of Riyadh\",\"South-Eest of Riyadh\",\"South-West of Riyadh\",\"South-Eest of Riyadh\",\"South-West of Riyadh\",\"North-West of Riyadh\",\"North-Eest of Riyadh\",\"South-Eest of Riyadh\",\"North-West of Riyadh\",\"North-West of Riyadh\",\"South-West of Riyadh\",\"South-West of Riyadh\",\"South-West of Riyadh\",\"South-Eest of Riyadh\",\"North-West of Riyadh\",\"South-West of Riyadh\",\"North-West of Riyadh\",\"North-Eest of Riyadh\",\"North-Eest of Riyadh\",\"South-Eest of Riyadh\",\"South-West of Riyadh\",\"South-Eest of Riyadh\",\"North-West of Riyadh\",\"North-Eest of Riyadh\",\"South-West of Riyadh\",\"North-West of Riyadh\",\"South-West of Riyadh\",\"South-Eest of Riyadh\",\"North-West of Riyadh\",\"South-Eest of Riyadh\",\"South-West of Riyadh\",\"North-West of Riyadh\",\"North-West of Riyadh\",\"North-Eest of Riyadh\",\"North-West of Riyadh\",\"South-West of Riyadh\",\"North-West of Riyadh\",\"South-West of Riyadh\",\"North-West of Riyadh\",\"North-Eest of Riyadh\",\"South-West of Riyadh\",\"North-West of Riyadh\",\"North-West of Riyadh\",\"North-West of Riyadh\",\"South-West of Riyadh\",\"North-Eest of Riyadh\",\"South-West of Riyadh\",\"South-West of Riyadh\",\"South-Eest of Riyadh\",\"North-Eest of Riyadh\",\"North-West of Riyadh\",\"South-West of Riyadh\",\"South-Eest of Riyadh\",\"North-Eest of Riyadh\",\"North-West of Riyadh\",\"North-Eest of Riyadh\",\"North-Eest of Riyadh\",\"South-West of Riyadh\",\"South-Eest of Riyadh\",\"North-Eest of Riyadh\",\"North-West of Riyadh\",\"South-West of Riyadh\",\"North-West of Riyadh\",\"South-West of Riyadh\",\"South-West of Riyadh\",\"North-West of Riyadh\",\"North-Eest of Riyadh\",\"North-West of Riyadh\",\"South-Eest of Riyadh\",\"North-West of Riyadh\",\"North-West of Riyadh\",\"North-West of Riyadh\",\"South-Eest of Riyadh\",\"South-West of Riyadh\",\"North-West of Riyadh\",\"North-Eest of Riyadh\",\"North-Eest of Riyadh\",\"North-Eest of Riyadh\",\"North-Eest of Riyadh\",\"South-West of Riyadh\",\"South-West of Riyadh\",\"South-West of Riyadh\",\"South-Eest of Riyadh\",\"South-Eest of Riyadh\",\"South-Eest of Riyadh\",\"North-West of Riyadh\",\"North-Eest of Riyadh\",\"South-Eest of Riyadh\",\"North-Eest of Riyadh\",\"North-West of Riyadh\",\"North-Eest of Riyadh\",\"South-Eest of Riyadh\",\"North-West of Riyadh\",\"South-Eest of Riyadh\",\"North-West of Riyadh\",\"South-Eest of Riyadh\",\"South-West of Riyadh\",\"North-Eest of Riyadh\",\"North-Eest of Riyadh\",\"South-West of Riyadh\",\"North-Eest of Riyadh\",\"North-West of Riyadh\",\"North-West of Riyadh\",\"South-West of Riyadh\",\"South-Eest of Riyadh\",\"South-Eest of Riyadh\",\"North-Eest of Riyadh\",\"North-West of Riyadh\",\"South-West of Riyadh\",\"South-West of Riyadh\",\"South-West of Riyadh\",\"South-Eest of Riyadh\",\"South-West of Riyadh\",\"North-Eest of Riyadh\",\"South-Eest of Riyadh\",\"North-Eest of Riyadh\",\"North-West of Riyadh\",\"South-West of Riyadh\",\"South-Eest of Riyadh\",\"North-West of Riyadh\",\"North-Eest of Riyadh\",\"North-West of Riyadh\",\"North-West of Riyadh\",\"South-Eest of Riyadh\",\"North-Eest of Riyadh\",\"North-West of Riyadh\",\"South-West of Riyadh\",\"South-Eest of Riyadh\",\"South-Eest of Riyadh\",\"North-Eest of Riyadh\",\"South-West of Riyadh\"],\"xaxis\":\"x\",\"yaxis\":\"y\",\"type\":\"histogram\"},{\"alignmentgroup\":\"True\",\"bingroup\":\"x\",\"hovertemplate\":\"WeeklyVisitFrequency=2-3 times a week<br>ResidentialArea=%{x}<br>count=%{y}<extra></extra>\",\"legendgroup\":\"2-3 times a week\",\"marker\":{\"color\":\"#00cc96\",\"pattern\":{\"shape\":\"\"}},\"name\":\"2-3 times a week\",\"offsetgroup\":\"2-3 times a week\",\"orientation\":\"v\",\"showlegend\":true,\"x\":[\"North-Eest of Riyadh\",\"South-West of Riyadh\",\"North-West of Riyadh\",\"South-Eest of Riyadh\",\"South-Eest of Riyadh\",\"South-Eest of Riyadh\",\"South-West of Riyadh\",\"North-Eest of Riyadh\",\"South-West of Riyadh\",\"South-West of Riyadh\",\"South-Eest of Riyadh\",\"South-Eest of Riyadh\",\"South-Eest of Riyadh\",\"South-Eest of Riyadh\",\"South-West of Riyadh\",\"North-West of Riyadh\",\"South-West of Riyadh\",\"North-Eest of Riyadh\",\"South-Eest of Riyadh\",\"North-West of Riyadh\",\"North-West of Riyadh\",\"North-Eest of Riyadh\",\"North-Eest of Riyadh\",\"South-West of Riyadh\",\"South-West of Riyadh\",\"South-Eest of Riyadh\",\"North-Eest of Riyadh\",\"South-Eest of Riyadh\",\"North-Eest of Riyadh\",\"South-West of Riyadh\",\"South-Eest of Riyadh\",\"South-Eest of Riyadh\",\"North-West of Riyadh\",\"North-Eest of Riyadh\",\"North-Eest of Riyadh\",\"North-West of Riyadh\",\"South-Eest of Riyadh\",\"North-Eest of Riyadh\",\"North-West of Riyadh\",\"North-West of Riyadh\",\"North-West of Riyadh\",\"South-Eest of Riyadh\",\"North-Eest of Riyadh\",\"South-Eest of Riyadh\",\"South-West of Riyadh\",\"South-Eest of Riyadh\",\"South-Eest of Riyadh\",\"South-West of Riyadh\",\"North-Eest of Riyadh\",\"South-West of Riyadh\",\"South-West of Riyadh\",\"South-Eest of Riyadh\",\"South-West of Riyadh\",\"South-West of Riyadh\",\"South-West of Riyadh\",\"North-West of Riyadh\",\"South-Eest of Riyadh\",\"South-West of Riyadh\",\"North-West of Riyadh\",\"South-Eest of Riyadh\",\"North-West of Riyadh\",\"South-West of Riyadh\",\"South-Eest of Riyadh\",\"South-West of Riyadh\",\"South-Eest of Riyadh\",\"North-West of Riyadh\",\"North-Eest of Riyadh\",\"South-Eest of Riyadh\",\"South-West of Riyadh\",\"North-Eest of Riyadh\",\"North-West of Riyadh\",\"South-West of Riyadh\",\"North-West of Riyadh\",\"South-Eest of Riyadh\",\"North-West of Riyadh\",\"North-West of Riyadh\",\"South-West of Riyadh\",\"South-West of Riyadh\",\"North-Eest of Riyadh\",\"North-West of Riyadh\",\"North-Eest of Riyadh\",\"North-West of Riyadh\",\"South-Eest of Riyadh\",\"South-West of Riyadh\",\"North-Eest of Riyadh\",\"South-Eest of Riyadh\",\"South-Eest of Riyadh\",\"North-Eest of Riyadh\",\"North-Eest of Riyadh\",\"North-Eest of Riyadh\",\"North-West of Riyadh\",\"South-West of Riyadh\",\"North-West of Riyadh\",\"North-Eest of Riyadh\",\"North-Eest of Riyadh\",\"North-West of Riyadh\",\"North-Eest of Riyadh\",\"North-West of Riyadh\",\"North-Eest of Riyadh\",\"South-Eest of Riyadh\",\"North-Eest of Riyadh\",\"South-Eest of Riyadh\",\"North-Eest of Riyadh\",\"North-Eest of Riyadh\",\"South-Eest of Riyadh\",\"North-Eest of Riyadh\",\"North-West of Riyadh\",\"North-West of Riyadh\",\"North-West of Riyadh\",\"South-West of Riyadh\",\"South-Eest of Riyadh\",\"South-Eest of Riyadh\",\"South-West of Riyadh\",\"North-Eest of Riyadh\",\"South-Eest of Riyadh\",\"North-Eest of Riyadh\",\"South-West of Riyadh\",\"North-Eest of Riyadh\",\"North-Eest of Riyadh\",\"North-Eest of Riyadh\",\"North-West of Riyadh\",\"South-West of Riyadh\",\"North-Eest of Riyadh\",\"North-Eest of Riyadh\",\"South-West of Riyadh\",\"South-West of Riyadh\",\"North-West of Riyadh\",\"North-West of Riyadh\",\"North-Eest of Riyadh\",\"South-Eest of Riyadh\",\"South-Eest of Riyadh\",\"South-Eest of Riyadh\",\"North-West of Riyadh\",\"North-West of Riyadh\",\"South-West of Riyadh\",\"South-Eest of Riyadh\",\"North-Eest of Riyadh\",\"North-Eest of Riyadh\",\"South-West of Riyadh\",\"South-West of Riyadh\",\"North-Eest of Riyadh\",\"North-Eest of Riyadh\",\"North-West of Riyadh\",\"North-West of Riyadh\",\"South-West of Riyadh\",\"South-West of Riyadh\",\"North-Eest of Riyadh\",\"North-West of Riyadh\",\"North-Eest of Riyadh\",\"North-Eest of Riyadh\",\"South-West of Riyadh\",\"South-Eest of Riyadh\",\"South-West of Riyadh\",\"South-West of Riyadh\",\"South-Eest of Riyadh\",\"North-Eest of Riyadh\",\"South-Eest of Riyadh\",\"South-West of Riyadh\",\"North-West of Riyadh\",\"South-Eest of Riyadh\",\"North-Eest of Riyadh\",\"North-West of Riyadh\",\"South-West of Riyadh\",\"North-West of Riyadh\",\"South-Eest of Riyadh\",\"North-West of Riyadh\",\"North-Eest of Riyadh\",\"North-West of Riyadh\",\"South-West of Riyadh\",\"South-Eest of Riyadh\",\"South-Eest of Riyadh\",\"North-Eest of Riyadh\"],\"xaxis\":\"x\",\"yaxis\":\"y\",\"type\":\"histogram\"}],                        {\"template\":{\"data\":{\"bar\":[{\"error_x\":{\"color\":\"#2a3f5f\"},\"error_y\":{\"color\":\"#2a3f5f\"},\"marker\":{\"line\":{\"color\":\"#E5ECF6\",\"width\":0.5},\"pattern\":{\"fillmode\":\"overlay\",\"size\":10,\"solidity\":0.2}},\"type\":\"bar\"}],\"barpolar\":[{\"marker\":{\"line\":{\"color\":\"#E5ECF6\",\"width\":0.5},\"pattern\":{\"fillmode\":\"overlay\",\"size\":10,\"solidity\":0.2}},\"type\":\"barpolar\"}],\"carpet\":[{\"aaxis\":{\"endlinecolor\":\"#2a3f5f\",\"gridcolor\":\"white\",\"linecolor\":\"white\",\"minorgridcolor\":\"white\",\"startlinecolor\":\"#2a3f5f\"},\"baxis\":{\"endlinecolor\":\"#2a3f5f\",\"gridcolor\":\"white\",\"linecolor\":\"white\",\"minorgridcolor\":\"white\",\"startlinecolor\":\"#2a3f5f\"},\"type\":\"carpet\"}],\"choropleth\":[{\"colorbar\":{\"outlinewidth\":0,\"ticks\":\"\"},\"type\":\"choropleth\"}],\"contour\":[{\"colorbar\":{\"outlinewidth\":0,\"ticks\":\"\"},\"colorscale\":[[0.0,\"#0d0887\"],[0.1111111111111111,\"#46039f\"],[0.2222222222222222,\"#7201a8\"],[0.3333333333333333,\"#9c179e\"],[0.4444444444444444,\"#bd3786\"],[0.5555555555555556,\"#d8576b\"],[0.6666666666666666,\"#ed7953\"],[0.7777777777777778,\"#fb9f3a\"],[0.8888888888888888,\"#fdca26\"],[1.0,\"#f0f921\"]],\"type\":\"contour\"}],\"contourcarpet\":[{\"colorbar\":{\"outlinewidth\":0,\"ticks\":\"\"},\"type\":\"contourcarpet\"}],\"heatmap\":[{\"colorbar\":{\"outlinewidth\":0,\"ticks\":\"\"},\"colorscale\":[[0.0,\"#0d0887\"],[0.1111111111111111,\"#46039f\"],[0.2222222222222222,\"#7201a8\"],[0.3333333333333333,\"#9c179e\"],[0.4444444444444444,\"#bd3786\"],[0.5555555555555556,\"#d8576b\"],[0.6666666666666666,\"#ed7953\"],[0.7777777777777778,\"#fb9f3a\"],[0.8888888888888888,\"#fdca26\"],[1.0,\"#f0f921\"]],\"type\":\"heatmap\"}],\"heatmapgl\":[{\"colorbar\":{\"outlinewidth\":0,\"ticks\":\"\"},\"colorscale\":[[0.0,\"#0d0887\"],[0.1111111111111111,\"#46039f\"],[0.2222222222222222,\"#7201a8\"],[0.3333333333333333,\"#9c179e\"],[0.4444444444444444,\"#bd3786\"],[0.5555555555555556,\"#d8576b\"],[0.6666666666666666,\"#ed7953\"],[0.7777777777777778,\"#fb9f3a\"],[0.8888888888888888,\"#fdca26\"],[1.0,\"#f0f921\"]],\"type\":\"heatmapgl\"}],\"histogram\":[{\"marker\":{\"pattern\":{\"fillmode\":\"overlay\",\"size\":10,\"solidity\":0.2}},\"type\":\"histogram\"}],\"histogram2d\":[{\"colorbar\":{\"outlinewidth\":0,\"ticks\":\"\"},\"colorscale\":[[0.0,\"#0d0887\"],[0.1111111111111111,\"#46039f\"],[0.2222222222222222,\"#7201a8\"],[0.3333333333333333,\"#9c179e\"],[0.4444444444444444,\"#bd3786\"],[0.5555555555555556,\"#d8576b\"],[0.6666666666666666,\"#ed7953\"],[0.7777777777777778,\"#fb9f3a\"],[0.8888888888888888,\"#fdca26\"],[1.0,\"#f0f921\"]],\"type\":\"histogram2d\"}],\"histogram2dcontour\":[{\"colorbar\":{\"outlinewidth\":0,\"ticks\":\"\"},\"colorscale\":[[0.0,\"#0d0887\"],[0.1111111111111111,\"#46039f\"],[0.2222222222222222,\"#7201a8\"],[0.3333333333333333,\"#9c179e\"],[0.4444444444444444,\"#bd3786\"],[0.5555555555555556,\"#d8576b\"],[0.6666666666666666,\"#ed7953\"],[0.7777777777777778,\"#fb9f3a\"],[0.8888888888888888,\"#fdca26\"],[1.0,\"#f0f921\"]],\"type\":\"histogram2dcontour\"}],\"mesh3d\":[{\"colorbar\":{\"outlinewidth\":0,\"ticks\":\"\"},\"type\":\"mesh3d\"}],\"parcoords\":[{\"line\":{\"colorbar\":{\"outlinewidth\":0,\"ticks\":\"\"}},\"type\":\"parcoords\"}],\"pie\":[{\"automargin\":true,\"type\":\"pie\"}],\"scatter\":[{\"marker\":{\"colorbar\":{\"outlinewidth\":0,\"ticks\":\"\"}},\"type\":\"scatter\"}],\"scatter3d\":[{\"line\":{\"colorbar\":{\"outlinewidth\":0,\"ticks\":\"\"}},\"marker\":{\"colorbar\":{\"outlinewidth\":0,\"ticks\":\"\"}},\"type\":\"scatter3d\"}],\"scattercarpet\":[{\"marker\":{\"colorbar\":{\"outlinewidth\":0,\"ticks\":\"\"}},\"type\":\"scattercarpet\"}],\"scattergeo\":[{\"marker\":{\"colorbar\":{\"outlinewidth\":0,\"ticks\":\"\"}},\"type\":\"scattergeo\"}],\"scattergl\":[{\"marker\":{\"colorbar\":{\"outlinewidth\":0,\"ticks\":\"\"}},\"type\":\"scattergl\"}],\"scattermapbox\":[{\"marker\":{\"colorbar\":{\"outlinewidth\":0,\"ticks\":\"\"}},\"type\":\"scattermapbox\"}],\"scatterpolar\":[{\"marker\":{\"colorbar\":{\"outlinewidth\":0,\"ticks\":\"\"}},\"type\":\"scatterpolar\"}],\"scatterpolargl\":[{\"marker\":{\"colorbar\":{\"outlinewidth\":0,\"ticks\":\"\"}},\"type\":\"scatterpolargl\"}],\"scatterternary\":[{\"marker\":{\"colorbar\":{\"outlinewidth\":0,\"ticks\":\"\"}},\"type\":\"scatterternary\"}],\"surface\":[{\"colorbar\":{\"outlinewidth\":0,\"ticks\":\"\"},\"colorscale\":[[0.0,\"#0d0887\"],[0.1111111111111111,\"#46039f\"],[0.2222222222222222,\"#7201a8\"],[0.3333333333333333,\"#9c179e\"],[0.4444444444444444,\"#bd3786\"],[0.5555555555555556,\"#d8576b\"],[0.6666666666666666,\"#ed7953\"],[0.7777777777777778,\"#fb9f3a\"],[0.8888888888888888,\"#fdca26\"],[1.0,\"#f0f921\"]],\"type\":\"surface\"}],\"table\":[{\"cells\":{\"fill\":{\"color\":\"#EBF0F8\"},\"line\":{\"color\":\"white\"}},\"header\":{\"fill\":{\"color\":\"#C8D4E3\"},\"line\":{\"color\":\"white\"}},\"type\":\"table\"}]},\"layout\":{\"annotationdefaults\":{\"arrowcolor\":\"#2a3f5f\",\"arrowhead\":0,\"arrowwidth\":1},\"autotypenumbers\":\"strict\",\"coloraxis\":{\"colorbar\":{\"outlinewidth\":0,\"ticks\":\"\"}},\"colorscale\":{\"diverging\":[[0,\"#8e0152\"],[0.1,\"#c51b7d\"],[0.2,\"#de77ae\"],[0.3,\"#f1b6da\"],[0.4,\"#fde0ef\"],[0.5,\"#f7f7f7\"],[0.6,\"#e6f5d0\"],[0.7,\"#b8e186\"],[0.8,\"#7fbc41\"],[0.9,\"#4d9221\"],[1,\"#276419\"]],\"sequential\":[[0.0,\"#0d0887\"],[0.1111111111111111,\"#46039f\"],[0.2222222222222222,\"#7201a8\"],[0.3333333333333333,\"#9c179e\"],[0.4444444444444444,\"#bd3786\"],[0.5555555555555556,\"#d8576b\"],[0.6666666666666666,\"#ed7953\"],[0.7777777777777778,\"#fb9f3a\"],[0.8888888888888888,\"#fdca26\"],[1.0,\"#f0f921\"]],\"sequentialminus\":[[0.0,\"#0d0887\"],[0.1111111111111111,\"#46039f\"],[0.2222222222222222,\"#7201a8\"],[0.3333333333333333,\"#9c179e\"],[0.4444444444444444,\"#bd3786\"],[0.5555555555555556,\"#d8576b\"],[0.6666666666666666,\"#ed7953\"],[0.7777777777777778,\"#fb9f3a\"],[0.8888888888888888,\"#fdca26\"],[1.0,\"#f0f921\"]]},\"colorway\":[\"#636efa\",\"#EF553B\",\"#00cc96\",\"#ab63fa\",\"#FFA15A\",\"#19d3f3\",\"#FF6692\",\"#B6E880\",\"#FF97FF\",\"#FECB52\"],\"font\":{\"color\":\"#2a3f5f\"},\"geo\":{\"bgcolor\":\"white\",\"lakecolor\":\"white\",\"landcolor\":\"#E5ECF6\",\"showlakes\":true,\"showland\":true,\"subunitcolor\":\"white\"},\"hoverlabel\":{\"align\":\"left\"},\"hovermode\":\"closest\",\"mapbox\":{\"style\":\"light\"},\"paper_bgcolor\":\"white\",\"plot_bgcolor\":\"#E5ECF6\",\"polar\":{\"angularaxis\":{\"gridcolor\":\"white\",\"linecolor\":\"white\",\"ticks\":\"\"},\"bgcolor\":\"#E5ECF6\",\"radialaxis\":{\"gridcolor\":\"white\",\"linecolor\":\"white\",\"ticks\":\"\"}},\"scene\":{\"xaxis\":{\"backgroundcolor\":\"#E5ECF6\",\"gridcolor\":\"white\",\"gridwidth\":2,\"linecolor\":\"white\",\"showbackground\":true,\"ticks\":\"\",\"zerolinecolor\":\"white\"},\"yaxis\":{\"backgroundcolor\":\"#E5ECF6\",\"gridcolor\":\"white\",\"gridwidth\":2,\"linecolor\":\"white\",\"showbackground\":true,\"ticks\":\"\",\"zerolinecolor\":\"white\"},\"zaxis\":{\"backgroundcolor\":\"#E5ECF6\",\"gridcolor\":\"white\",\"gridwidth\":2,\"linecolor\":\"white\",\"showbackground\":true,\"ticks\":\"\",\"zerolinecolor\":\"white\"}},\"shapedefaults\":{\"line\":{\"color\":\"#2a3f5f\"}},\"ternary\":{\"aaxis\":{\"gridcolor\":\"white\",\"linecolor\":\"white\",\"ticks\":\"\"},\"baxis\":{\"gridcolor\":\"white\",\"linecolor\":\"white\",\"ticks\":\"\"},\"bgcolor\":\"#E5ECF6\",\"caxis\":{\"gridcolor\":\"white\",\"linecolor\":\"white\",\"ticks\":\"\"}},\"title\":{\"x\":0.05},\"xaxis\":{\"automargin\":true,\"gridcolor\":\"white\",\"linecolor\":\"white\",\"ticks\":\"\",\"title\":{\"standoff\":15},\"zerolinecolor\":\"white\",\"zerolinewidth\":2},\"yaxis\":{\"automargin\":true,\"gridcolor\":\"white\",\"linecolor\":\"white\",\"ticks\":\"\",\"title\":{\"standoff\":15},\"zerolinecolor\":\"white\",\"zerolinewidth\":2}}},\"xaxis\":{\"anchor\":\"y\",\"domain\":[0.0,1.0],\"title\":{\"text\":\"ResidentialArea\"}},\"yaxis\":{\"anchor\":\"x\",\"domain\":[0.0,1.0],\"title\":{\"text\":\"count\"}},\"legend\":{\"title\":{\"text\":\"WeeklyVisitFrequency\"},\"tracegroupgap\":0},\"margin\":{\"t\":60},\"barmode\":\"group\"},                        {\"responsive\": true}                    ).then(function(){\n",
       "                            \n",
       "var gd = document.getElementById('98b8468f-89eb-4e29-8f6d-76e42773705b');\n",
       "var x = new MutationObserver(function (mutations, observer) {{\n",
       "        var display = window.getComputedStyle(gd).display;\n",
       "        if (!display || display === 'none') {{\n",
       "            console.log([gd, 'removed!']);\n",
       "            Plotly.purge(gd);\n",
       "            observer.disconnect();\n",
       "        }}\n",
       "}});\n",
       "\n",
       "// Listen for the removal of the full notebook cells\n",
       "var notebookContainer = gd.closest('#notebook-container');\n",
       "if (notebookContainer) {{\n",
       "    x.observe(notebookContainer, {childList: true});\n",
       "}}\n",
       "\n",
       "// Listen for the clearing of the current output cell\n",
       "var outputEl = gd.closest('.output');\n",
       "if (outputEl) {{\n",
       "    x.observe(outputEl, {childList: true});\n",
       "}}\n",
       "\n",
       "                        })                };                });            </script>        </div>"
      ]
     },
     "metadata": {},
     "output_type": "display_data"
    }
   ],
   "source": [
    "fig = px.histogram(df_viz, x=\"ResidentialArea\",\n",
    "             color=\"WeeklyVisitFrequency\", barmode = 'group')\n",
    "fig.show() "
   ]
  },
  {
   "cell_type": "code",
   "execution_count": 40,
   "metadata": {},
   "outputs": [
    {
     "data": {
      "application/vnd.plotly.v1+json": {
       "config": {
        "plotlyServerURL": "https://plot.ly"
       },
       "data": [
        {
         "alignmentgroup": "True",
         "bingroup": "x",
         "hovertemplate": "ResidentialArea=North-West of Riyadh<br>EventsSatisfaction=%{x}<br>count=%{y}<extra></extra>",
         "legendgroup": "North-West of Riyadh",
         "marker": {
          "color": "#636efa",
          "pattern": {
           "shape": ""
          }
         },
         "name": "North-West of Riyadh",
         "offsetgroup": "North-West of Riyadh",
         "orientation": "v",
         "showlegend": true,
         "type": "histogram",
         "x": [
          3,
          4,
          5,
          5,
          2,
          5,
          1,
          4,
          4,
          2,
          1,
          2,
          5,
          4,
          5,
          3,
          4,
          5,
          3,
          4,
          3,
          1,
          2,
          4,
          5,
          5,
          4,
          1,
          3,
          4,
          3,
          1,
          5,
          3,
          2,
          1,
          3,
          3,
          2,
          1,
          5,
          4,
          5,
          4,
          5,
          2,
          1,
          1,
          2,
          2,
          3,
          3,
          2,
          2,
          1,
          1,
          4,
          4,
          2,
          2,
          1,
          1,
          2,
          1,
          3,
          3,
          4,
          5,
          4,
          2,
          2,
          5,
          2,
          5,
          1,
          3,
          3,
          4,
          4,
          2,
          3,
          4,
          3,
          5,
          1,
          2,
          3,
          4,
          4,
          2,
          3,
          2,
          1,
          5,
          3,
          5,
          5,
          3,
          3,
          2,
          5,
          5,
          2,
          1,
          1,
          5,
          1,
          4,
          5,
          1,
          1,
          4,
          3,
          1,
          1,
          4,
          1,
          5,
          4,
          4,
          1,
          4,
          2
         ],
         "xaxis": "x",
         "yaxis": "y"
        },
        {
         "alignmentgroup": "True",
         "bingroup": "x",
         "hovertemplate": "ResidentialArea=North-Eest of Riyadh<br>EventsSatisfaction=%{x}<br>count=%{y}<extra></extra>",
         "legendgroup": "North-Eest of Riyadh",
         "marker": {
          "color": "#EF553B",
          "pattern": {
           "shape": ""
          }
         },
         "name": "North-Eest of Riyadh",
         "offsetgroup": "North-Eest of Riyadh",
         "orientation": "v",
         "showlegend": true,
         "type": "histogram",
         "x": [
          2,
          4,
          1,
          5,
          3,
          3,
          2,
          1,
          4,
          4,
          2,
          5,
          5,
          1,
          4,
          1,
          5,
          3,
          4,
          1,
          4,
          2,
          3,
          1,
          3,
          1,
          5,
          1,
          5,
          4,
          2,
          5,
          3,
          2,
          1,
          4,
          4,
          4,
          5,
          1,
          1,
          2,
          1,
          5,
          3,
          5,
          2,
          3,
          3,
          4,
          3,
          5,
          5,
          3,
          4,
          1,
          3,
          1,
          2,
          3,
          3,
          5,
          2,
          3,
          1,
          1,
          2,
          4,
          2,
          4,
          2,
          5,
          4,
          3,
          1,
          4,
          4,
          4,
          3,
          3,
          1,
          2,
          1,
          3,
          2,
          4,
          4,
          1,
          3,
          4,
          1,
          5,
          3,
          4,
          4,
          2,
          2,
          5,
          4,
          3,
          5,
          2,
          5,
          2,
          1,
          4,
          4,
          1,
          5,
          1,
          4,
          4,
          1,
          1,
          1,
          5,
          3,
          1,
          3,
          4,
          4,
          3,
          5,
          2,
          1
         ],
         "xaxis": "x",
         "yaxis": "y"
        },
        {
         "alignmentgroup": "True",
         "bingroup": "x",
         "hovertemplate": "ResidentialArea=South-West of Riyadh<br>EventsSatisfaction=%{x}<br>count=%{y}<extra></extra>",
         "legendgroup": "South-West of Riyadh",
         "marker": {
          "color": "#00cc96",
          "pattern": {
           "shape": ""
          }
         },
         "name": "South-West of Riyadh",
         "offsetgroup": "South-West of Riyadh",
         "orientation": "v",
         "showlegend": true,
         "type": "histogram",
         "x": [
          5,
          4,
          4,
          1,
          3,
          5,
          2,
          2,
          2,
          2,
          4,
          3,
          5,
          5,
          1,
          2,
          2,
          2,
          3,
          4,
          4,
          5,
          5,
          1,
          3,
          4,
          4,
          4,
          1,
          4,
          1,
          3,
          1,
          5,
          4,
          3,
          5,
          2,
          1,
          3,
          4,
          3,
          3,
          3,
          5,
          1,
          3,
          1,
          3,
          3,
          4,
          3,
          3,
          5,
          5,
          1,
          3,
          5,
          3,
          2,
          1,
          4,
          4,
          5,
          2,
          4,
          4,
          2,
          4,
          1,
          2,
          2,
          1,
          5,
          4,
          3,
          3,
          4,
          3,
          5,
          4,
          4,
          2,
          1,
          3,
          3,
          5,
          2,
          5,
          5,
          2,
          5,
          1,
          3,
          3,
          5,
          3,
          5,
          3,
          2,
          5,
          5,
          5,
          2,
          1,
          2,
          5,
          5,
          1,
          1,
          4,
          2,
          2,
          2,
          2,
          1,
          3,
          5,
          3,
          5,
          5,
          1,
          2,
          5,
          4,
          3
         ],
         "xaxis": "x",
         "yaxis": "y"
        },
        {
         "alignmentgroup": "True",
         "bingroup": "x",
         "hovertemplate": "ResidentialArea=South-Eest of Riyadh<br>EventsSatisfaction=%{x}<br>count=%{y}<extra></extra>",
         "legendgroup": "South-Eest of Riyadh",
         "marker": {
          "color": "#ab63fa",
          "pattern": {
           "shape": ""
          }
         },
         "name": "South-Eest of Riyadh",
         "offsetgroup": "South-Eest of Riyadh",
         "orientation": "v",
         "showlegend": true,
         "type": "histogram",
         "x": [
          3,
          4,
          2,
          5,
          5,
          4,
          3,
          1,
          5,
          5,
          2,
          5,
          3,
          2,
          4,
          2,
          2,
          2,
          1,
          5,
          5,
          5,
          1,
          3,
          4,
          5,
          3,
          3,
          5,
          4,
          1,
          2,
          1,
          1,
          2,
          2,
          1,
          2,
          5,
          5,
          4,
          1,
          1,
          2,
          4,
          5,
          2,
          4,
          3,
          3,
          3,
          4,
          3,
          5,
          4,
          3,
          4,
          3,
          5,
          5,
          2,
          3,
          2,
          3,
          4,
          5,
          1,
          1,
          1,
          1,
          1,
          5,
          1,
          3,
          4,
          3,
          1,
          2,
          1,
          2,
          2,
          3,
          4,
          2,
          2,
          2,
          5,
          2,
          5,
          1,
          5,
          3,
          2,
          1,
          4,
          5,
          2,
          5,
          4,
          2,
          4,
          2,
          3,
          4,
          1,
          2,
          2,
          1,
          2,
          4,
          3,
          1,
          5,
          3,
          5,
          2,
          1,
          5,
          2,
          3,
          5,
          5,
          2,
          4,
          4,
          5
         ],
         "xaxis": "x",
         "yaxis": "y"
        }
       ],
       "layout": {
        "barmode": "group",
        "legend": {
         "title": {
          "text": "ResidentialArea"
         },
         "tracegroupgap": 0
        },
        "margin": {
         "t": 60
        },
        "template": {
         "data": {
          "bar": [
           {
            "error_x": {
             "color": "#2a3f5f"
            },
            "error_y": {
             "color": "#2a3f5f"
            },
            "marker": {
             "line": {
              "color": "#E5ECF6",
              "width": 0.5
             },
             "pattern": {
              "fillmode": "overlay",
              "size": 10,
              "solidity": 0.2
             }
            },
            "type": "bar"
           }
          ],
          "barpolar": [
           {
            "marker": {
             "line": {
              "color": "#E5ECF6",
              "width": 0.5
             },
             "pattern": {
              "fillmode": "overlay",
              "size": 10,
              "solidity": 0.2
             }
            },
            "type": "barpolar"
           }
          ],
          "carpet": [
           {
            "aaxis": {
             "endlinecolor": "#2a3f5f",
             "gridcolor": "white",
             "linecolor": "white",
             "minorgridcolor": "white",
             "startlinecolor": "#2a3f5f"
            },
            "baxis": {
             "endlinecolor": "#2a3f5f",
             "gridcolor": "white",
             "linecolor": "white",
             "minorgridcolor": "white",
             "startlinecolor": "#2a3f5f"
            },
            "type": "carpet"
           }
          ],
          "choropleth": [
           {
            "colorbar": {
             "outlinewidth": 0,
             "ticks": ""
            },
            "type": "choropleth"
           }
          ],
          "contour": [
           {
            "colorbar": {
             "outlinewidth": 0,
             "ticks": ""
            },
            "colorscale": [
             [
              0,
              "#0d0887"
             ],
             [
              0.1111111111111111,
              "#46039f"
             ],
             [
              0.2222222222222222,
              "#7201a8"
             ],
             [
              0.3333333333333333,
              "#9c179e"
             ],
             [
              0.4444444444444444,
              "#bd3786"
             ],
             [
              0.5555555555555556,
              "#d8576b"
             ],
             [
              0.6666666666666666,
              "#ed7953"
             ],
             [
              0.7777777777777778,
              "#fb9f3a"
             ],
             [
              0.8888888888888888,
              "#fdca26"
             ],
             [
              1,
              "#f0f921"
             ]
            ],
            "type": "contour"
           }
          ],
          "contourcarpet": [
           {
            "colorbar": {
             "outlinewidth": 0,
             "ticks": ""
            },
            "type": "contourcarpet"
           }
          ],
          "heatmap": [
           {
            "colorbar": {
             "outlinewidth": 0,
             "ticks": ""
            },
            "colorscale": [
             [
              0,
              "#0d0887"
             ],
             [
              0.1111111111111111,
              "#46039f"
             ],
             [
              0.2222222222222222,
              "#7201a8"
             ],
             [
              0.3333333333333333,
              "#9c179e"
             ],
             [
              0.4444444444444444,
              "#bd3786"
             ],
             [
              0.5555555555555556,
              "#d8576b"
             ],
             [
              0.6666666666666666,
              "#ed7953"
             ],
             [
              0.7777777777777778,
              "#fb9f3a"
             ],
             [
              0.8888888888888888,
              "#fdca26"
             ],
             [
              1,
              "#f0f921"
             ]
            ],
            "type": "heatmap"
           }
          ],
          "heatmapgl": [
           {
            "colorbar": {
             "outlinewidth": 0,
             "ticks": ""
            },
            "colorscale": [
             [
              0,
              "#0d0887"
             ],
             [
              0.1111111111111111,
              "#46039f"
             ],
             [
              0.2222222222222222,
              "#7201a8"
             ],
             [
              0.3333333333333333,
              "#9c179e"
             ],
             [
              0.4444444444444444,
              "#bd3786"
             ],
             [
              0.5555555555555556,
              "#d8576b"
             ],
             [
              0.6666666666666666,
              "#ed7953"
             ],
             [
              0.7777777777777778,
              "#fb9f3a"
             ],
             [
              0.8888888888888888,
              "#fdca26"
             ],
             [
              1,
              "#f0f921"
             ]
            ],
            "type": "heatmapgl"
           }
          ],
          "histogram": [
           {
            "marker": {
             "pattern": {
              "fillmode": "overlay",
              "size": 10,
              "solidity": 0.2
             }
            },
            "type": "histogram"
           }
          ],
          "histogram2d": [
           {
            "colorbar": {
             "outlinewidth": 0,
             "ticks": ""
            },
            "colorscale": [
             [
              0,
              "#0d0887"
             ],
             [
              0.1111111111111111,
              "#46039f"
             ],
             [
              0.2222222222222222,
              "#7201a8"
             ],
             [
              0.3333333333333333,
              "#9c179e"
             ],
             [
              0.4444444444444444,
              "#bd3786"
             ],
             [
              0.5555555555555556,
              "#d8576b"
             ],
             [
              0.6666666666666666,
              "#ed7953"
             ],
             [
              0.7777777777777778,
              "#fb9f3a"
             ],
             [
              0.8888888888888888,
              "#fdca26"
             ],
             [
              1,
              "#f0f921"
             ]
            ],
            "type": "histogram2d"
           }
          ],
          "histogram2dcontour": [
           {
            "colorbar": {
             "outlinewidth": 0,
             "ticks": ""
            },
            "colorscale": [
             [
              0,
              "#0d0887"
             ],
             [
              0.1111111111111111,
              "#46039f"
             ],
             [
              0.2222222222222222,
              "#7201a8"
             ],
             [
              0.3333333333333333,
              "#9c179e"
             ],
             [
              0.4444444444444444,
              "#bd3786"
             ],
             [
              0.5555555555555556,
              "#d8576b"
             ],
             [
              0.6666666666666666,
              "#ed7953"
             ],
             [
              0.7777777777777778,
              "#fb9f3a"
             ],
             [
              0.8888888888888888,
              "#fdca26"
             ],
             [
              1,
              "#f0f921"
             ]
            ],
            "type": "histogram2dcontour"
           }
          ],
          "mesh3d": [
           {
            "colorbar": {
             "outlinewidth": 0,
             "ticks": ""
            },
            "type": "mesh3d"
           }
          ],
          "parcoords": [
           {
            "line": {
             "colorbar": {
              "outlinewidth": 0,
              "ticks": ""
             }
            },
            "type": "parcoords"
           }
          ],
          "pie": [
           {
            "automargin": true,
            "type": "pie"
           }
          ],
          "scatter": [
           {
            "marker": {
             "colorbar": {
              "outlinewidth": 0,
              "ticks": ""
             }
            },
            "type": "scatter"
           }
          ],
          "scatter3d": [
           {
            "line": {
             "colorbar": {
              "outlinewidth": 0,
              "ticks": ""
             }
            },
            "marker": {
             "colorbar": {
              "outlinewidth": 0,
              "ticks": ""
             }
            },
            "type": "scatter3d"
           }
          ],
          "scattercarpet": [
           {
            "marker": {
             "colorbar": {
              "outlinewidth": 0,
              "ticks": ""
             }
            },
            "type": "scattercarpet"
           }
          ],
          "scattergeo": [
           {
            "marker": {
             "colorbar": {
              "outlinewidth": 0,
              "ticks": ""
             }
            },
            "type": "scattergeo"
           }
          ],
          "scattergl": [
           {
            "marker": {
             "colorbar": {
              "outlinewidth": 0,
              "ticks": ""
             }
            },
            "type": "scattergl"
           }
          ],
          "scattermapbox": [
           {
            "marker": {
             "colorbar": {
              "outlinewidth": 0,
              "ticks": ""
             }
            },
            "type": "scattermapbox"
           }
          ],
          "scatterpolar": [
           {
            "marker": {
             "colorbar": {
              "outlinewidth": 0,
              "ticks": ""
             }
            },
            "type": "scatterpolar"
           }
          ],
          "scatterpolargl": [
           {
            "marker": {
             "colorbar": {
              "outlinewidth": 0,
              "ticks": ""
             }
            },
            "type": "scatterpolargl"
           }
          ],
          "scatterternary": [
           {
            "marker": {
             "colorbar": {
              "outlinewidth": 0,
              "ticks": ""
             }
            },
            "type": "scatterternary"
           }
          ],
          "surface": [
           {
            "colorbar": {
             "outlinewidth": 0,
             "ticks": ""
            },
            "colorscale": [
             [
              0,
              "#0d0887"
             ],
             [
              0.1111111111111111,
              "#46039f"
             ],
             [
              0.2222222222222222,
              "#7201a8"
             ],
             [
              0.3333333333333333,
              "#9c179e"
             ],
             [
              0.4444444444444444,
              "#bd3786"
             ],
             [
              0.5555555555555556,
              "#d8576b"
             ],
             [
              0.6666666666666666,
              "#ed7953"
             ],
             [
              0.7777777777777778,
              "#fb9f3a"
             ],
             [
              0.8888888888888888,
              "#fdca26"
             ],
             [
              1,
              "#f0f921"
             ]
            ],
            "type": "surface"
           }
          ],
          "table": [
           {
            "cells": {
             "fill": {
              "color": "#EBF0F8"
             },
             "line": {
              "color": "white"
             }
            },
            "header": {
             "fill": {
              "color": "#C8D4E3"
             },
             "line": {
              "color": "white"
             }
            },
            "type": "table"
           }
          ]
         },
         "layout": {
          "annotationdefaults": {
           "arrowcolor": "#2a3f5f",
           "arrowhead": 0,
           "arrowwidth": 1
          },
          "autotypenumbers": "strict",
          "coloraxis": {
           "colorbar": {
            "outlinewidth": 0,
            "ticks": ""
           }
          },
          "colorscale": {
           "diverging": [
            [
             0,
             "#8e0152"
            ],
            [
             0.1,
             "#c51b7d"
            ],
            [
             0.2,
             "#de77ae"
            ],
            [
             0.3,
             "#f1b6da"
            ],
            [
             0.4,
             "#fde0ef"
            ],
            [
             0.5,
             "#f7f7f7"
            ],
            [
             0.6,
             "#e6f5d0"
            ],
            [
             0.7,
             "#b8e186"
            ],
            [
             0.8,
             "#7fbc41"
            ],
            [
             0.9,
             "#4d9221"
            ],
            [
             1,
             "#276419"
            ]
           ],
           "sequential": [
            [
             0,
             "#0d0887"
            ],
            [
             0.1111111111111111,
             "#46039f"
            ],
            [
             0.2222222222222222,
             "#7201a8"
            ],
            [
             0.3333333333333333,
             "#9c179e"
            ],
            [
             0.4444444444444444,
             "#bd3786"
            ],
            [
             0.5555555555555556,
             "#d8576b"
            ],
            [
             0.6666666666666666,
             "#ed7953"
            ],
            [
             0.7777777777777778,
             "#fb9f3a"
            ],
            [
             0.8888888888888888,
             "#fdca26"
            ],
            [
             1,
             "#f0f921"
            ]
           ],
           "sequentialminus": [
            [
             0,
             "#0d0887"
            ],
            [
             0.1111111111111111,
             "#46039f"
            ],
            [
             0.2222222222222222,
             "#7201a8"
            ],
            [
             0.3333333333333333,
             "#9c179e"
            ],
            [
             0.4444444444444444,
             "#bd3786"
            ],
            [
             0.5555555555555556,
             "#d8576b"
            ],
            [
             0.6666666666666666,
             "#ed7953"
            ],
            [
             0.7777777777777778,
             "#fb9f3a"
            ],
            [
             0.8888888888888888,
             "#fdca26"
            ],
            [
             1,
             "#f0f921"
            ]
           ]
          },
          "colorway": [
           "#636efa",
           "#EF553B",
           "#00cc96",
           "#ab63fa",
           "#FFA15A",
           "#19d3f3",
           "#FF6692",
           "#B6E880",
           "#FF97FF",
           "#FECB52"
          ],
          "font": {
           "color": "#2a3f5f"
          },
          "geo": {
           "bgcolor": "white",
           "lakecolor": "white",
           "landcolor": "#E5ECF6",
           "showlakes": true,
           "showland": true,
           "subunitcolor": "white"
          },
          "hoverlabel": {
           "align": "left"
          },
          "hovermode": "closest",
          "mapbox": {
           "style": "light"
          },
          "paper_bgcolor": "white",
          "plot_bgcolor": "#E5ECF6",
          "polar": {
           "angularaxis": {
            "gridcolor": "white",
            "linecolor": "white",
            "ticks": ""
           },
           "bgcolor": "#E5ECF6",
           "radialaxis": {
            "gridcolor": "white",
            "linecolor": "white",
            "ticks": ""
           }
          },
          "scene": {
           "xaxis": {
            "backgroundcolor": "#E5ECF6",
            "gridcolor": "white",
            "gridwidth": 2,
            "linecolor": "white",
            "showbackground": true,
            "ticks": "",
            "zerolinecolor": "white"
           },
           "yaxis": {
            "backgroundcolor": "#E5ECF6",
            "gridcolor": "white",
            "gridwidth": 2,
            "linecolor": "white",
            "showbackground": true,
            "ticks": "",
            "zerolinecolor": "white"
           },
           "zaxis": {
            "backgroundcolor": "#E5ECF6",
            "gridcolor": "white",
            "gridwidth": 2,
            "linecolor": "white",
            "showbackground": true,
            "ticks": "",
            "zerolinecolor": "white"
           }
          },
          "shapedefaults": {
           "line": {
            "color": "#2a3f5f"
           }
          },
          "ternary": {
           "aaxis": {
            "gridcolor": "white",
            "linecolor": "white",
            "ticks": ""
           },
           "baxis": {
            "gridcolor": "white",
            "linecolor": "white",
            "ticks": ""
           },
           "bgcolor": "#E5ECF6",
           "caxis": {
            "gridcolor": "white",
            "linecolor": "white",
            "ticks": ""
           }
          },
          "title": {
           "x": 0.05
          },
          "xaxis": {
           "automargin": true,
           "gridcolor": "white",
           "linecolor": "white",
           "ticks": "",
           "title": {
            "standoff": 15
           },
           "zerolinecolor": "white",
           "zerolinewidth": 2
          },
          "yaxis": {
           "automargin": true,
           "gridcolor": "white",
           "linecolor": "white",
           "ticks": "",
           "title": {
            "standoff": 15
           },
           "zerolinecolor": "white",
           "zerolinewidth": 2
          }
         }
        },
        "xaxis": {
         "anchor": "y",
         "domain": [
          0,
          1
         ],
         "title": {
          "text": "EventsSatisfaction"
         }
        },
        "yaxis": {
         "anchor": "x",
         "domain": [
          0,
          1
         ],
         "title": {
          "text": "count"
         }
        }
       }
      },
      "text/html": [
       "<div>                            <div id=\"7253d245-d6ab-4643-be2a-2f10c8468f40\" class=\"plotly-graph-div\" style=\"height:525px; width:100%;\"></div>            <script type=\"text/javascript\">                require([\"plotly\"], function(Plotly) {                    window.PLOTLYENV=window.PLOTLYENV || {};                                    if (document.getElementById(\"7253d245-d6ab-4643-be2a-2f10c8468f40\")) {                    Plotly.newPlot(                        \"7253d245-d6ab-4643-be2a-2f10c8468f40\",                        [{\"alignmentgroup\":\"True\",\"bingroup\":\"x\",\"hovertemplate\":\"ResidentialArea=North-West of Riyadh<br>EventsSatisfaction=%{x}<br>count=%{y}<extra></extra>\",\"legendgroup\":\"North-West of Riyadh\",\"marker\":{\"color\":\"#636efa\",\"pattern\":{\"shape\":\"\"}},\"name\":\"North-West of Riyadh\",\"offsetgroup\":\"North-West of Riyadh\",\"orientation\":\"v\",\"showlegend\":true,\"x\":[3,4,5,5,2,5,1,4,4,2,1,2,5,4,5,3,4,5,3,4,3,1,2,4,5,5,4,1,3,4,3,1,5,3,2,1,3,3,2,1,5,4,5,4,5,2,1,1,2,2,3,3,2,2,1,1,4,4,2,2,1,1,2,1,3,3,4,5,4,2,2,5,2,5,1,3,3,4,4,2,3,4,3,5,1,2,3,4,4,2,3,2,1,5,3,5,5,3,3,2,5,5,2,1,1,5,1,4,5,1,1,4,3,1,1,4,1,5,4,4,1,4,2],\"xaxis\":\"x\",\"yaxis\":\"y\",\"type\":\"histogram\"},{\"alignmentgroup\":\"True\",\"bingroup\":\"x\",\"hovertemplate\":\"ResidentialArea=North-Eest of Riyadh<br>EventsSatisfaction=%{x}<br>count=%{y}<extra></extra>\",\"legendgroup\":\"North-Eest of Riyadh\",\"marker\":{\"color\":\"#EF553B\",\"pattern\":{\"shape\":\"\"}},\"name\":\"North-Eest of Riyadh\",\"offsetgroup\":\"North-Eest of Riyadh\",\"orientation\":\"v\",\"showlegend\":true,\"x\":[2,4,1,5,3,3,2,1,4,4,2,5,5,1,4,1,5,3,4,1,4,2,3,1,3,1,5,1,5,4,2,5,3,2,1,4,4,4,5,1,1,2,1,5,3,5,2,3,3,4,3,5,5,3,4,1,3,1,2,3,3,5,2,3,1,1,2,4,2,4,2,5,4,3,1,4,4,4,3,3,1,2,1,3,2,4,4,1,3,4,1,5,3,4,4,2,2,5,4,3,5,2,5,2,1,4,4,1,5,1,4,4,1,1,1,5,3,1,3,4,4,3,5,2,1],\"xaxis\":\"x\",\"yaxis\":\"y\",\"type\":\"histogram\"},{\"alignmentgroup\":\"True\",\"bingroup\":\"x\",\"hovertemplate\":\"ResidentialArea=South-West of Riyadh<br>EventsSatisfaction=%{x}<br>count=%{y}<extra></extra>\",\"legendgroup\":\"South-West of Riyadh\",\"marker\":{\"color\":\"#00cc96\",\"pattern\":{\"shape\":\"\"}},\"name\":\"South-West of Riyadh\",\"offsetgroup\":\"South-West of Riyadh\",\"orientation\":\"v\",\"showlegend\":true,\"x\":[5,4,4,1,3,5,2,2,2,2,4,3,5,5,1,2,2,2,3,4,4,5,5,1,3,4,4,4,1,4,1,3,1,5,4,3,5,2,1,3,4,3,3,3,5,1,3,1,3,3,4,3,3,5,5,1,3,5,3,2,1,4,4,5,2,4,4,2,4,1,2,2,1,5,4,3,3,4,3,5,4,4,2,1,3,3,5,2,5,5,2,5,1,3,3,5,3,5,3,2,5,5,5,2,1,2,5,5,1,1,4,2,2,2,2,1,3,5,3,5,5,1,2,5,4,3],\"xaxis\":\"x\",\"yaxis\":\"y\",\"type\":\"histogram\"},{\"alignmentgroup\":\"True\",\"bingroup\":\"x\",\"hovertemplate\":\"ResidentialArea=South-Eest of Riyadh<br>EventsSatisfaction=%{x}<br>count=%{y}<extra></extra>\",\"legendgroup\":\"South-Eest of Riyadh\",\"marker\":{\"color\":\"#ab63fa\",\"pattern\":{\"shape\":\"\"}},\"name\":\"South-Eest of Riyadh\",\"offsetgroup\":\"South-Eest of Riyadh\",\"orientation\":\"v\",\"showlegend\":true,\"x\":[3,4,2,5,5,4,3,1,5,5,2,5,3,2,4,2,2,2,1,5,5,5,1,3,4,5,3,3,5,4,1,2,1,1,2,2,1,2,5,5,4,1,1,2,4,5,2,4,3,3,3,4,3,5,4,3,4,3,5,5,2,3,2,3,4,5,1,1,1,1,1,5,1,3,4,3,1,2,1,2,2,3,4,2,2,2,5,2,5,1,5,3,2,1,4,5,2,5,4,2,4,2,3,4,1,2,2,1,2,4,3,1,5,3,5,2,1,5,2,3,5,5,2,4,4,5],\"xaxis\":\"x\",\"yaxis\":\"y\",\"type\":\"histogram\"}],                        {\"template\":{\"data\":{\"bar\":[{\"error_x\":{\"color\":\"#2a3f5f\"},\"error_y\":{\"color\":\"#2a3f5f\"},\"marker\":{\"line\":{\"color\":\"#E5ECF6\",\"width\":0.5},\"pattern\":{\"fillmode\":\"overlay\",\"size\":10,\"solidity\":0.2}},\"type\":\"bar\"}],\"barpolar\":[{\"marker\":{\"line\":{\"color\":\"#E5ECF6\",\"width\":0.5},\"pattern\":{\"fillmode\":\"overlay\",\"size\":10,\"solidity\":0.2}},\"type\":\"barpolar\"}],\"carpet\":[{\"aaxis\":{\"endlinecolor\":\"#2a3f5f\",\"gridcolor\":\"white\",\"linecolor\":\"white\",\"minorgridcolor\":\"white\",\"startlinecolor\":\"#2a3f5f\"},\"baxis\":{\"endlinecolor\":\"#2a3f5f\",\"gridcolor\":\"white\",\"linecolor\":\"white\",\"minorgridcolor\":\"white\",\"startlinecolor\":\"#2a3f5f\"},\"type\":\"carpet\"}],\"choropleth\":[{\"colorbar\":{\"outlinewidth\":0,\"ticks\":\"\"},\"type\":\"choropleth\"}],\"contour\":[{\"colorbar\":{\"outlinewidth\":0,\"ticks\":\"\"},\"colorscale\":[[0.0,\"#0d0887\"],[0.1111111111111111,\"#46039f\"],[0.2222222222222222,\"#7201a8\"],[0.3333333333333333,\"#9c179e\"],[0.4444444444444444,\"#bd3786\"],[0.5555555555555556,\"#d8576b\"],[0.6666666666666666,\"#ed7953\"],[0.7777777777777778,\"#fb9f3a\"],[0.8888888888888888,\"#fdca26\"],[1.0,\"#f0f921\"]],\"type\":\"contour\"}],\"contourcarpet\":[{\"colorbar\":{\"outlinewidth\":0,\"ticks\":\"\"},\"type\":\"contourcarpet\"}],\"heatmap\":[{\"colorbar\":{\"outlinewidth\":0,\"ticks\":\"\"},\"colorscale\":[[0.0,\"#0d0887\"],[0.1111111111111111,\"#46039f\"],[0.2222222222222222,\"#7201a8\"],[0.3333333333333333,\"#9c179e\"],[0.4444444444444444,\"#bd3786\"],[0.5555555555555556,\"#d8576b\"],[0.6666666666666666,\"#ed7953\"],[0.7777777777777778,\"#fb9f3a\"],[0.8888888888888888,\"#fdca26\"],[1.0,\"#f0f921\"]],\"type\":\"heatmap\"}],\"heatmapgl\":[{\"colorbar\":{\"outlinewidth\":0,\"ticks\":\"\"},\"colorscale\":[[0.0,\"#0d0887\"],[0.1111111111111111,\"#46039f\"],[0.2222222222222222,\"#7201a8\"],[0.3333333333333333,\"#9c179e\"],[0.4444444444444444,\"#bd3786\"],[0.5555555555555556,\"#d8576b\"],[0.6666666666666666,\"#ed7953\"],[0.7777777777777778,\"#fb9f3a\"],[0.8888888888888888,\"#fdca26\"],[1.0,\"#f0f921\"]],\"type\":\"heatmapgl\"}],\"histogram\":[{\"marker\":{\"pattern\":{\"fillmode\":\"overlay\",\"size\":10,\"solidity\":0.2}},\"type\":\"histogram\"}],\"histogram2d\":[{\"colorbar\":{\"outlinewidth\":0,\"ticks\":\"\"},\"colorscale\":[[0.0,\"#0d0887\"],[0.1111111111111111,\"#46039f\"],[0.2222222222222222,\"#7201a8\"],[0.3333333333333333,\"#9c179e\"],[0.4444444444444444,\"#bd3786\"],[0.5555555555555556,\"#d8576b\"],[0.6666666666666666,\"#ed7953\"],[0.7777777777777778,\"#fb9f3a\"],[0.8888888888888888,\"#fdca26\"],[1.0,\"#f0f921\"]],\"type\":\"histogram2d\"}],\"histogram2dcontour\":[{\"colorbar\":{\"outlinewidth\":0,\"ticks\":\"\"},\"colorscale\":[[0.0,\"#0d0887\"],[0.1111111111111111,\"#46039f\"],[0.2222222222222222,\"#7201a8\"],[0.3333333333333333,\"#9c179e\"],[0.4444444444444444,\"#bd3786\"],[0.5555555555555556,\"#d8576b\"],[0.6666666666666666,\"#ed7953\"],[0.7777777777777778,\"#fb9f3a\"],[0.8888888888888888,\"#fdca26\"],[1.0,\"#f0f921\"]],\"type\":\"histogram2dcontour\"}],\"mesh3d\":[{\"colorbar\":{\"outlinewidth\":0,\"ticks\":\"\"},\"type\":\"mesh3d\"}],\"parcoords\":[{\"line\":{\"colorbar\":{\"outlinewidth\":0,\"ticks\":\"\"}},\"type\":\"parcoords\"}],\"pie\":[{\"automargin\":true,\"type\":\"pie\"}],\"scatter\":[{\"marker\":{\"colorbar\":{\"outlinewidth\":0,\"ticks\":\"\"}},\"type\":\"scatter\"}],\"scatter3d\":[{\"line\":{\"colorbar\":{\"outlinewidth\":0,\"ticks\":\"\"}},\"marker\":{\"colorbar\":{\"outlinewidth\":0,\"ticks\":\"\"}},\"type\":\"scatter3d\"}],\"scattercarpet\":[{\"marker\":{\"colorbar\":{\"outlinewidth\":0,\"ticks\":\"\"}},\"type\":\"scattercarpet\"}],\"scattergeo\":[{\"marker\":{\"colorbar\":{\"outlinewidth\":0,\"ticks\":\"\"}},\"type\":\"scattergeo\"}],\"scattergl\":[{\"marker\":{\"colorbar\":{\"outlinewidth\":0,\"ticks\":\"\"}},\"type\":\"scattergl\"}],\"scattermapbox\":[{\"marker\":{\"colorbar\":{\"outlinewidth\":0,\"ticks\":\"\"}},\"type\":\"scattermapbox\"}],\"scatterpolar\":[{\"marker\":{\"colorbar\":{\"outlinewidth\":0,\"ticks\":\"\"}},\"type\":\"scatterpolar\"}],\"scatterpolargl\":[{\"marker\":{\"colorbar\":{\"outlinewidth\":0,\"ticks\":\"\"}},\"type\":\"scatterpolargl\"}],\"scatterternary\":[{\"marker\":{\"colorbar\":{\"outlinewidth\":0,\"ticks\":\"\"}},\"type\":\"scatterternary\"}],\"surface\":[{\"colorbar\":{\"outlinewidth\":0,\"ticks\":\"\"},\"colorscale\":[[0.0,\"#0d0887\"],[0.1111111111111111,\"#46039f\"],[0.2222222222222222,\"#7201a8\"],[0.3333333333333333,\"#9c179e\"],[0.4444444444444444,\"#bd3786\"],[0.5555555555555556,\"#d8576b\"],[0.6666666666666666,\"#ed7953\"],[0.7777777777777778,\"#fb9f3a\"],[0.8888888888888888,\"#fdca26\"],[1.0,\"#f0f921\"]],\"type\":\"surface\"}],\"table\":[{\"cells\":{\"fill\":{\"color\":\"#EBF0F8\"},\"line\":{\"color\":\"white\"}},\"header\":{\"fill\":{\"color\":\"#C8D4E3\"},\"line\":{\"color\":\"white\"}},\"type\":\"table\"}]},\"layout\":{\"annotationdefaults\":{\"arrowcolor\":\"#2a3f5f\",\"arrowhead\":0,\"arrowwidth\":1},\"autotypenumbers\":\"strict\",\"coloraxis\":{\"colorbar\":{\"outlinewidth\":0,\"ticks\":\"\"}},\"colorscale\":{\"diverging\":[[0,\"#8e0152\"],[0.1,\"#c51b7d\"],[0.2,\"#de77ae\"],[0.3,\"#f1b6da\"],[0.4,\"#fde0ef\"],[0.5,\"#f7f7f7\"],[0.6,\"#e6f5d0\"],[0.7,\"#b8e186\"],[0.8,\"#7fbc41\"],[0.9,\"#4d9221\"],[1,\"#276419\"]],\"sequential\":[[0.0,\"#0d0887\"],[0.1111111111111111,\"#46039f\"],[0.2222222222222222,\"#7201a8\"],[0.3333333333333333,\"#9c179e\"],[0.4444444444444444,\"#bd3786\"],[0.5555555555555556,\"#d8576b\"],[0.6666666666666666,\"#ed7953\"],[0.7777777777777778,\"#fb9f3a\"],[0.8888888888888888,\"#fdca26\"],[1.0,\"#f0f921\"]],\"sequentialminus\":[[0.0,\"#0d0887\"],[0.1111111111111111,\"#46039f\"],[0.2222222222222222,\"#7201a8\"],[0.3333333333333333,\"#9c179e\"],[0.4444444444444444,\"#bd3786\"],[0.5555555555555556,\"#d8576b\"],[0.6666666666666666,\"#ed7953\"],[0.7777777777777778,\"#fb9f3a\"],[0.8888888888888888,\"#fdca26\"],[1.0,\"#f0f921\"]]},\"colorway\":[\"#636efa\",\"#EF553B\",\"#00cc96\",\"#ab63fa\",\"#FFA15A\",\"#19d3f3\",\"#FF6692\",\"#B6E880\",\"#FF97FF\",\"#FECB52\"],\"font\":{\"color\":\"#2a3f5f\"},\"geo\":{\"bgcolor\":\"white\",\"lakecolor\":\"white\",\"landcolor\":\"#E5ECF6\",\"showlakes\":true,\"showland\":true,\"subunitcolor\":\"white\"},\"hoverlabel\":{\"align\":\"left\"},\"hovermode\":\"closest\",\"mapbox\":{\"style\":\"light\"},\"paper_bgcolor\":\"white\",\"plot_bgcolor\":\"#E5ECF6\",\"polar\":{\"angularaxis\":{\"gridcolor\":\"white\",\"linecolor\":\"white\",\"ticks\":\"\"},\"bgcolor\":\"#E5ECF6\",\"radialaxis\":{\"gridcolor\":\"white\",\"linecolor\":\"white\",\"ticks\":\"\"}},\"scene\":{\"xaxis\":{\"backgroundcolor\":\"#E5ECF6\",\"gridcolor\":\"white\",\"gridwidth\":2,\"linecolor\":\"white\",\"showbackground\":true,\"ticks\":\"\",\"zerolinecolor\":\"white\"},\"yaxis\":{\"backgroundcolor\":\"#E5ECF6\",\"gridcolor\":\"white\",\"gridwidth\":2,\"linecolor\":\"white\",\"showbackground\":true,\"ticks\":\"\",\"zerolinecolor\":\"white\"},\"zaxis\":{\"backgroundcolor\":\"#E5ECF6\",\"gridcolor\":\"white\",\"gridwidth\":2,\"linecolor\":\"white\",\"showbackground\":true,\"ticks\":\"\",\"zerolinecolor\":\"white\"}},\"shapedefaults\":{\"line\":{\"color\":\"#2a3f5f\"}},\"ternary\":{\"aaxis\":{\"gridcolor\":\"white\",\"linecolor\":\"white\",\"ticks\":\"\"},\"baxis\":{\"gridcolor\":\"white\",\"linecolor\":\"white\",\"ticks\":\"\"},\"bgcolor\":\"#E5ECF6\",\"caxis\":{\"gridcolor\":\"white\",\"linecolor\":\"white\",\"ticks\":\"\"}},\"title\":{\"x\":0.05},\"xaxis\":{\"automargin\":true,\"gridcolor\":\"white\",\"linecolor\":\"white\",\"ticks\":\"\",\"title\":{\"standoff\":15},\"zerolinecolor\":\"white\",\"zerolinewidth\":2},\"yaxis\":{\"automargin\":true,\"gridcolor\":\"white\",\"linecolor\":\"white\",\"ticks\":\"\",\"title\":{\"standoff\":15},\"zerolinecolor\":\"white\",\"zerolinewidth\":2}}},\"xaxis\":{\"anchor\":\"y\",\"domain\":[0.0,1.0],\"title\":{\"text\":\"EventsSatisfaction\"}},\"yaxis\":{\"anchor\":\"x\",\"domain\":[0.0,1.0],\"title\":{\"text\":\"count\"}},\"legend\":{\"title\":{\"text\":\"ResidentialArea\"},\"tracegroupgap\":0},\"margin\":{\"t\":60},\"barmode\":\"group\"},                        {\"responsive\": true}                    ).then(function(){\n",
       "                            \n",
       "var gd = document.getElementById('7253d245-d6ab-4643-be2a-2f10c8468f40');\n",
       "var x = new MutationObserver(function (mutations, observer) {{\n",
       "        var display = window.getComputedStyle(gd).display;\n",
       "        if (!display || display === 'none') {{\n",
       "            console.log([gd, 'removed!']);\n",
       "            Plotly.purge(gd);\n",
       "            observer.disconnect();\n",
       "        }}\n",
       "}});\n",
       "\n",
       "// Listen for the removal of the full notebook cells\n",
       "var notebookContainer = gd.closest('#notebook-container');\n",
       "if (notebookContainer) {{\n",
       "    x.observe(notebookContainer, {childList: true});\n",
       "}}\n",
       "\n",
       "// Listen for the clearing of the current output cell\n",
       "var outputEl = gd.closest('.output');\n",
       "if (outputEl) {{\n",
       "    x.observe(outputEl, {childList: true});\n",
       "}}\n",
       "\n",
       "                        })                };                });            </script>        </div>"
      ]
     },
     "metadata": {},
     "output_type": "display_data"
    }
   ],
   "source": [
    "fig = px.histogram(df_viz, x=\"EventsSatisfaction\",\n",
    "             color=\"ResidentialArea\", barmode = 'group')\n",
    "fig.show() "
   ]
  },
  {
   "cell_type": "code",
   "execution_count": 41,
   "metadata": {},
   "outputs": [],
   "source": [
    "# creating subset of responders living in the north area of Riyadh city\n",
    "df_viz_north = df_viz.loc[df_viz['ResidentialArea'].isin(['North-West of Riyadh','North-Eest of Riyadh'])]"
   ]
  },
  {
   "cell_type": "code",
   "execution_count": 42,
   "metadata": {},
   "outputs": [
    {
     "data": {
      "application/vnd.plotly.v1+json": {
       "config": {
        "plotlyServerURL": "https://plot.ly"
       },
       "data": [
        {
         "alignmentgroup": "True",
         "bingroup": "x",
         "hovertemplate": "ResidentialArea=North-West of Riyadh<br>MaritalStatus=%{x}<br>count=%{y}<extra></extra>",
         "legendgroup": "North-West of Riyadh",
         "marker": {
          "color": "#636efa",
          "pattern": {
           "shape": ""
          }
         },
         "name": "North-West of Riyadh",
         "offsetgroup": "North-West of Riyadh",
         "orientation": "v",
         "showlegend": true,
         "type": "histogram",
         "x": [
          "Single",
          "Married with kids",
          "Married with kids",
          "Single with kids",
          "Single",
          "Single",
          "Single with kids",
          "Married with no kids",
          "Married with kids",
          "Married with kids",
          "Married with no kids",
          "Single with kids",
          "Married with kids",
          "Married with no kids",
          "Married with kids",
          "Single with kids",
          "Single",
          "Married with kids",
          "Married with kids",
          "Married with kids",
          "Single",
          "Single",
          "Married with kids",
          "Married with kids",
          "Single with kids",
          "Single with kids",
          "Single with kids",
          "Married with kids",
          "Married with kids",
          "Single with kids",
          "Single with kids",
          "Single",
          "Single with kids",
          "Married with kids",
          "Married with kids",
          "Married with kids",
          "Single",
          "Married with no kids",
          "Single with kids",
          "Single",
          "Married with kids",
          "Single with kids",
          "Single with kids",
          "Single with kids",
          "Married with kids",
          "Married with no kids",
          "Married with no kids",
          "Married with no kids",
          "Married with kids",
          "Married with kids",
          "Married with kids",
          "Single with kids",
          "Single with kids",
          "Married with no kids",
          "Single with kids",
          "Married with no kids",
          "Single with kids",
          "Single",
          "Married with kids",
          "Single with kids",
          "Single",
          "Single",
          "Single with kids",
          "Single",
          "Single",
          "Married with no kids",
          "Married with no kids",
          "Married with kids",
          "Married with kids",
          "Married with kids",
          "Single",
          "Single",
          "Married with no kids",
          "Single with kids",
          "Married with no kids",
          "Married with kids",
          "Single",
          "Single",
          "Single with kids",
          "Married with kids",
          "Single with kids",
          "Married with no kids",
          "Single",
          "Married with no kids",
          "Married with kids",
          "Married with no kids",
          "Married with kids",
          "Single",
          "Married with kids",
          "Single",
          "Single",
          "Married with no kids",
          "Married with no kids",
          "Married with kids",
          "Single",
          "Married with kids",
          "Married with no kids",
          "Married with no kids",
          "Married with no kids",
          "Married with kids",
          "Single with kids",
          "Married with no kids",
          "Single",
          "Married with no kids",
          "Single with kids",
          "Married with kids",
          "Married with kids",
          "Single with kids",
          "Married with no kids",
          "Married with kids",
          "Single",
          "Married with no kids",
          "Married with kids",
          "Married with kids",
          "Single with kids",
          "Married with no kids",
          "Married with no kids",
          "Married with no kids",
          "Married with kids",
          "Single",
          "Married with kids",
          "Married with no kids",
          "Married with kids"
         ],
         "xaxis": "x",
         "yaxis": "y"
        },
        {
         "alignmentgroup": "True",
         "bingroup": "x",
         "hovertemplate": "ResidentialArea=North-Eest of Riyadh<br>MaritalStatus=%{x}<br>count=%{y}<extra></extra>",
         "legendgroup": "North-Eest of Riyadh",
         "marker": {
          "color": "#EF553B",
          "pattern": {
           "shape": ""
          }
         },
         "name": "North-Eest of Riyadh",
         "offsetgroup": "North-Eest of Riyadh",
         "orientation": "v",
         "showlegend": true,
         "type": "histogram",
         "x": [
          "Single",
          "Married with no kids",
          "Married with kids",
          "Married with no kids",
          "Married with no kids",
          "Single with kids",
          "Single with kids",
          "Married with no kids",
          "Married with kids",
          "Married with kids",
          "Married with kids",
          "Married with no kids",
          "Married with kids",
          "Married with no kids",
          "Married with no kids",
          "Single",
          "Married with kids",
          "Single with kids",
          "Married with no kids",
          "Married with no kids",
          "Married with no kids",
          "Single with kids",
          "Married with no kids",
          "Single",
          "Single with kids",
          "Single with kids",
          "Married with no kids",
          "Single",
          "Married with no kids",
          "Single",
          "Single with kids",
          "Single",
          "Single",
          "Married with kids",
          "Married with no kids",
          "Married with no kids",
          "Married with kids",
          "Married with kids",
          "Single with kids",
          "Married with kids",
          "Single",
          "Married with no kids",
          "Married with no kids",
          "Married with kids",
          "Married with kids",
          "Single",
          "Married with kids",
          "Married with kids",
          "Married with kids",
          "Married with kids",
          "Married with kids",
          "Single",
          "Married with no kids",
          "Married with kids",
          "Married with kids",
          "Married with kids",
          "Married with no kids",
          "Single",
          "Single with kids",
          "Married with no kids",
          "Single with kids",
          "Single with kids",
          "Single with kids",
          "Married with kids",
          "Single",
          "Married with kids",
          "Single with kids",
          "Married with kids",
          "Married with kids",
          "Single",
          "Single with kids",
          "Married with kids",
          "Single with kids",
          "Married with no kids",
          "Single",
          "Married with kids",
          "Single with kids",
          "Married with kids",
          "Single with kids",
          "Married with kids",
          "Married with kids",
          "Single with kids",
          "Single",
          "Married with no kids",
          "Single",
          "Married with kids",
          "Single with kids",
          "Married with no kids",
          "Married with kids",
          "Single",
          "Single with kids",
          "Single",
          "Married with no kids",
          "Married with no kids",
          "Single with kids",
          "Single with kids",
          "Single",
          "Married with kids",
          "Single with kids",
          "Married with no kids",
          "Married with kids",
          "Married with no kids",
          "Married with kids",
          "Single with kids",
          "Married with no kids",
          "Married with kids",
          "Married with kids",
          "Single with kids",
          "Single with kids",
          "Single",
          "Married with no kids",
          "Single",
          "Married with no kids",
          "Single with kids",
          "Single with kids",
          "Single with kids",
          "Single with kids",
          "Single with kids",
          "Married with no kids",
          "Married with no kids",
          "Single",
          "Married with kids",
          "Married with kids",
          "Married with no kids",
          "Married with kids"
         ],
         "xaxis": "x",
         "yaxis": "y"
        }
       ],
       "layout": {
        "barmode": "group",
        "legend": {
         "title": {
          "text": "ResidentialArea"
         },
         "tracegroupgap": 0
        },
        "margin": {
         "t": 60
        },
        "template": {
         "data": {
          "bar": [
           {
            "error_x": {
             "color": "#2a3f5f"
            },
            "error_y": {
             "color": "#2a3f5f"
            },
            "marker": {
             "line": {
              "color": "#E5ECF6",
              "width": 0.5
             },
             "pattern": {
              "fillmode": "overlay",
              "size": 10,
              "solidity": 0.2
             }
            },
            "type": "bar"
           }
          ],
          "barpolar": [
           {
            "marker": {
             "line": {
              "color": "#E5ECF6",
              "width": 0.5
             },
             "pattern": {
              "fillmode": "overlay",
              "size": 10,
              "solidity": 0.2
             }
            },
            "type": "barpolar"
           }
          ],
          "carpet": [
           {
            "aaxis": {
             "endlinecolor": "#2a3f5f",
             "gridcolor": "white",
             "linecolor": "white",
             "minorgridcolor": "white",
             "startlinecolor": "#2a3f5f"
            },
            "baxis": {
             "endlinecolor": "#2a3f5f",
             "gridcolor": "white",
             "linecolor": "white",
             "minorgridcolor": "white",
             "startlinecolor": "#2a3f5f"
            },
            "type": "carpet"
           }
          ],
          "choropleth": [
           {
            "colorbar": {
             "outlinewidth": 0,
             "ticks": ""
            },
            "type": "choropleth"
           }
          ],
          "contour": [
           {
            "colorbar": {
             "outlinewidth": 0,
             "ticks": ""
            },
            "colorscale": [
             [
              0,
              "#0d0887"
             ],
             [
              0.1111111111111111,
              "#46039f"
             ],
             [
              0.2222222222222222,
              "#7201a8"
             ],
             [
              0.3333333333333333,
              "#9c179e"
             ],
             [
              0.4444444444444444,
              "#bd3786"
             ],
             [
              0.5555555555555556,
              "#d8576b"
             ],
             [
              0.6666666666666666,
              "#ed7953"
             ],
             [
              0.7777777777777778,
              "#fb9f3a"
             ],
             [
              0.8888888888888888,
              "#fdca26"
             ],
             [
              1,
              "#f0f921"
             ]
            ],
            "type": "contour"
           }
          ],
          "contourcarpet": [
           {
            "colorbar": {
             "outlinewidth": 0,
             "ticks": ""
            },
            "type": "contourcarpet"
           }
          ],
          "heatmap": [
           {
            "colorbar": {
             "outlinewidth": 0,
             "ticks": ""
            },
            "colorscale": [
             [
              0,
              "#0d0887"
             ],
             [
              0.1111111111111111,
              "#46039f"
             ],
             [
              0.2222222222222222,
              "#7201a8"
             ],
             [
              0.3333333333333333,
              "#9c179e"
             ],
             [
              0.4444444444444444,
              "#bd3786"
             ],
             [
              0.5555555555555556,
              "#d8576b"
             ],
             [
              0.6666666666666666,
              "#ed7953"
             ],
             [
              0.7777777777777778,
              "#fb9f3a"
             ],
             [
              0.8888888888888888,
              "#fdca26"
             ],
             [
              1,
              "#f0f921"
             ]
            ],
            "type": "heatmap"
           }
          ],
          "heatmapgl": [
           {
            "colorbar": {
             "outlinewidth": 0,
             "ticks": ""
            },
            "colorscale": [
             [
              0,
              "#0d0887"
             ],
             [
              0.1111111111111111,
              "#46039f"
             ],
             [
              0.2222222222222222,
              "#7201a8"
             ],
             [
              0.3333333333333333,
              "#9c179e"
             ],
             [
              0.4444444444444444,
              "#bd3786"
             ],
             [
              0.5555555555555556,
              "#d8576b"
             ],
             [
              0.6666666666666666,
              "#ed7953"
             ],
             [
              0.7777777777777778,
              "#fb9f3a"
             ],
             [
              0.8888888888888888,
              "#fdca26"
             ],
             [
              1,
              "#f0f921"
             ]
            ],
            "type": "heatmapgl"
           }
          ],
          "histogram": [
           {
            "marker": {
             "pattern": {
              "fillmode": "overlay",
              "size": 10,
              "solidity": 0.2
             }
            },
            "type": "histogram"
           }
          ],
          "histogram2d": [
           {
            "colorbar": {
             "outlinewidth": 0,
             "ticks": ""
            },
            "colorscale": [
             [
              0,
              "#0d0887"
             ],
             [
              0.1111111111111111,
              "#46039f"
             ],
             [
              0.2222222222222222,
              "#7201a8"
             ],
             [
              0.3333333333333333,
              "#9c179e"
             ],
             [
              0.4444444444444444,
              "#bd3786"
             ],
             [
              0.5555555555555556,
              "#d8576b"
             ],
             [
              0.6666666666666666,
              "#ed7953"
             ],
             [
              0.7777777777777778,
              "#fb9f3a"
             ],
             [
              0.8888888888888888,
              "#fdca26"
             ],
             [
              1,
              "#f0f921"
             ]
            ],
            "type": "histogram2d"
           }
          ],
          "histogram2dcontour": [
           {
            "colorbar": {
             "outlinewidth": 0,
             "ticks": ""
            },
            "colorscale": [
             [
              0,
              "#0d0887"
             ],
             [
              0.1111111111111111,
              "#46039f"
             ],
             [
              0.2222222222222222,
              "#7201a8"
             ],
             [
              0.3333333333333333,
              "#9c179e"
             ],
             [
              0.4444444444444444,
              "#bd3786"
             ],
             [
              0.5555555555555556,
              "#d8576b"
             ],
             [
              0.6666666666666666,
              "#ed7953"
             ],
             [
              0.7777777777777778,
              "#fb9f3a"
             ],
             [
              0.8888888888888888,
              "#fdca26"
             ],
             [
              1,
              "#f0f921"
             ]
            ],
            "type": "histogram2dcontour"
           }
          ],
          "mesh3d": [
           {
            "colorbar": {
             "outlinewidth": 0,
             "ticks": ""
            },
            "type": "mesh3d"
           }
          ],
          "parcoords": [
           {
            "line": {
             "colorbar": {
              "outlinewidth": 0,
              "ticks": ""
             }
            },
            "type": "parcoords"
           }
          ],
          "pie": [
           {
            "automargin": true,
            "type": "pie"
           }
          ],
          "scatter": [
           {
            "marker": {
             "colorbar": {
              "outlinewidth": 0,
              "ticks": ""
             }
            },
            "type": "scatter"
           }
          ],
          "scatter3d": [
           {
            "line": {
             "colorbar": {
              "outlinewidth": 0,
              "ticks": ""
             }
            },
            "marker": {
             "colorbar": {
              "outlinewidth": 0,
              "ticks": ""
             }
            },
            "type": "scatter3d"
           }
          ],
          "scattercarpet": [
           {
            "marker": {
             "colorbar": {
              "outlinewidth": 0,
              "ticks": ""
             }
            },
            "type": "scattercarpet"
           }
          ],
          "scattergeo": [
           {
            "marker": {
             "colorbar": {
              "outlinewidth": 0,
              "ticks": ""
             }
            },
            "type": "scattergeo"
           }
          ],
          "scattergl": [
           {
            "marker": {
             "colorbar": {
              "outlinewidth": 0,
              "ticks": ""
             }
            },
            "type": "scattergl"
           }
          ],
          "scattermapbox": [
           {
            "marker": {
             "colorbar": {
              "outlinewidth": 0,
              "ticks": ""
             }
            },
            "type": "scattermapbox"
           }
          ],
          "scatterpolar": [
           {
            "marker": {
             "colorbar": {
              "outlinewidth": 0,
              "ticks": ""
             }
            },
            "type": "scatterpolar"
           }
          ],
          "scatterpolargl": [
           {
            "marker": {
             "colorbar": {
              "outlinewidth": 0,
              "ticks": ""
             }
            },
            "type": "scatterpolargl"
           }
          ],
          "scatterternary": [
           {
            "marker": {
             "colorbar": {
              "outlinewidth": 0,
              "ticks": ""
             }
            },
            "type": "scatterternary"
           }
          ],
          "surface": [
           {
            "colorbar": {
             "outlinewidth": 0,
             "ticks": ""
            },
            "colorscale": [
             [
              0,
              "#0d0887"
             ],
             [
              0.1111111111111111,
              "#46039f"
             ],
             [
              0.2222222222222222,
              "#7201a8"
             ],
             [
              0.3333333333333333,
              "#9c179e"
             ],
             [
              0.4444444444444444,
              "#bd3786"
             ],
             [
              0.5555555555555556,
              "#d8576b"
             ],
             [
              0.6666666666666666,
              "#ed7953"
             ],
             [
              0.7777777777777778,
              "#fb9f3a"
             ],
             [
              0.8888888888888888,
              "#fdca26"
             ],
             [
              1,
              "#f0f921"
             ]
            ],
            "type": "surface"
           }
          ],
          "table": [
           {
            "cells": {
             "fill": {
              "color": "#EBF0F8"
             },
             "line": {
              "color": "white"
             }
            },
            "header": {
             "fill": {
              "color": "#C8D4E3"
             },
             "line": {
              "color": "white"
             }
            },
            "type": "table"
           }
          ]
         },
         "layout": {
          "annotationdefaults": {
           "arrowcolor": "#2a3f5f",
           "arrowhead": 0,
           "arrowwidth": 1
          },
          "autotypenumbers": "strict",
          "coloraxis": {
           "colorbar": {
            "outlinewidth": 0,
            "ticks": ""
           }
          },
          "colorscale": {
           "diverging": [
            [
             0,
             "#8e0152"
            ],
            [
             0.1,
             "#c51b7d"
            ],
            [
             0.2,
             "#de77ae"
            ],
            [
             0.3,
             "#f1b6da"
            ],
            [
             0.4,
             "#fde0ef"
            ],
            [
             0.5,
             "#f7f7f7"
            ],
            [
             0.6,
             "#e6f5d0"
            ],
            [
             0.7,
             "#b8e186"
            ],
            [
             0.8,
             "#7fbc41"
            ],
            [
             0.9,
             "#4d9221"
            ],
            [
             1,
             "#276419"
            ]
           ],
           "sequential": [
            [
             0,
             "#0d0887"
            ],
            [
             0.1111111111111111,
             "#46039f"
            ],
            [
             0.2222222222222222,
             "#7201a8"
            ],
            [
             0.3333333333333333,
             "#9c179e"
            ],
            [
             0.4444444444444444,
             "#bd3786"
            ],
            [
             0.5555555555555556,
             "#d8576b"
            ],
            [
             0.6666666666666666,
             "#ed7953"
            ],
            [
             0.7777777777777778,
             "#fb9f3a"
            ],
            [
             0.8888888888888888,
             "#fdca26"
            ],
            [
             1,
             "#f0f921"
            ]
           ],
           "sequentialminus": [
            [
             0,
             "#0d0887"
            ],
            [
             0.1111111111111111,
             "#46039f"
            ],
            [
             0.2222222222222222,
             "#7201a8"
            ],
            [
             0.3333333333333333,
             "#9c179e"
            ],
            [
             0.4444444444444444,
             "#bd3786"
            ],
            [
             0.5555555555555556,
             "#d8576b"
            ],
            [
             0.6666666666666666,
             "#ed7953"
            ],
            [
             0.7777777777777778,
             "#fb9f3a"
            ],
            [
             0.8888888888888888,
             "#fdca26"
            ],
            [
             1,
             "#f0f921"
            ]
           ]
          },
          "colorway": [
           "#636efa",
           "#EF553B",
           "#00cc96",
           "#ab63fa",
           "#FFA15A",
           "#19d3f3",
           "#FF6692",
           "#B6E880",
           "#FF97FF",
           "#FECB52"
          ],
          "font": {
           "color": "#2a3f5f"
          },
          "geo": {
           "bgcolor": "white",
           "lakecolor": "white",
           "landcolor": "#E5ECF6",
           "showlakes": true,
           "showland": true,
           "subunitcolor": "white"
          },
          "hoverlabel": {
           "align": "left"
          },
          "hovermode": "closest",
          "mapbox": {
           "style": "light"
          },
          "paper_bgcolor": "white",
          "plot_bgcolor": "#E5ECF6",
          "polar": {
           "angularaxis": {
            "gridcolor": "white",
            "linecolor": "white",
            "ticks": ""
           },
           "bgcolor": "#E5ECF6",
           "radialaxis": {
            "gridcolor": "white",
            "linecolor": "white",
            "ticks": ""
           }
          },
          "scene": {
           "xaxis": {
            "backgroundcolor": "#E5ECF6",
            "gridcolor": "white",
            "gridwidth": 2,
            "linecolor": "white",
            "showbackground": true,
            "ticks": "",
            "zerolinecolor": "white"
           },
           "yaxis": {
            "backgroundcolor": "#E5ECF6",
            "gridcolor": "white",
            "gridwidth": 2,
            "linecolor": "white",
            "showbackground": true,
            "ticks": "",
            "zerolinecolor": "white"
           },
           "zaxis": {
            "backgroundcolor": "#E5ECF6",
            "gridcolor": "white",
            "gridwidth": 2,
            "linecolor": "white",
            "showbackground": true,
            "ticks": "",
            "zerolinecolor": "white"
           }
          },
          "shapedefaults": {
           "line": {
            "color": "#2a3f5f"
           }
          },
          "ternary": {
           "aaxis": {
            "gridcolor": "white",
            "linecolor": "white",
            "ticks": ""
           },
           "baxis": {
            "gridcolor": "white",
            "linecolor": "white",
            "ticks": ""
           },
           "bgcolor": "#E5ECF6",
           "caxis": {
            "gridcolor": "white",
            "linecolor": "white",
            "ticks": ""
           }
          },
          "title": {
           "x": 0.05
          },
          "xaxis": {
           "automargin": true,
           "gridcolor": "white",
           "linecolor": "white",
           "ticks": "",
           "title": {
            "standoff": 15
           },
           "zerolinecolor": "white",
           "zerolinewidth": 2
          },
          "yaxis": {
           "automargin": true,
           "gridcolor": "white",
           "linecolor": "white",
           "ticks": "",
           "title": {
            "standoff": 15
           },
           "zerolinecolor": "white",
           "zerolinewidth": 2
          }
         }
        },
        "xaxis": {
         "anchor": "y",
         "domain": [
          0,
          1
         ],
         "title": {
          "text": "MaritalStatus"
         }
        },
        "yaxis": {
         "anchor": "x",
         "domain": [
          0,
          1
         ],
         "title": {
          "text": "count"
         }
        }
       }
      },
      "text/html": [
       "<div>                            <div id=\"277e6fad-d3c1-44f1-a12d-c1e57bb3e5d5\" class=\"plotly-graph-div\" style=\"height:525px; width:100%;\"></div>            <script type=\"text/javascript\">                require([\"plotly\"], function(Plotly) {                    window.PLOTLYENV=window.PLOTLYENV || {};                                    if (document.getElementById(\"277e6fad-d3c1-44f1-a12d-c1e57bb3e5d5\")) {                    Plotly.newPlot(                        \"277e6fad-d3c1-44f1-a12d-c1e57bb3e5d5\",                        [{\"alignmentgroup\":\"True\",\"bingroup\":\"x\",\"hovertemplate\":\"ResidentialArea=North-West of Riyadh<br>MaritalStatus=%{x}<br>count=%{y}<extra></extra>\",\"legendgroup\":\"North-West of Riyadh\",\"marker\":{\"color\":\"#636efa\",\"pattern\":{\"shape\":\"\"}},\"name\":\"North-West of Riyadh\",\"offsetgroup\":\"North-West of Riyadh\",\"orientation\":\"v\",\"showlegend\":true,\"x\":[\"Single\",\"Married with kids\",\"Married with kids\",\"Single with kids\",\"Single\",\"Single\",\"Single with kids\",\"Married with no kids\",\"Married with kids\",\"Married with kids\",\"Married with no kids\",\"Single with kids\",\"Married with kids\",\"Married with no kids\",\"Married with kids\",\"Single with kids\",\"Single\",\"Married with kids\",\"Married with kids\",\"Married with kids\",\"Single\",\"Single\",\"Married with kids\",\"Married with kids\",\"Single with kids\",\"Single with kids\",\"Single with kids\",\"Married with kids\",\"Married with kids\",\"Single with kids\",\"Single with kids\",\"Single\",\"Single with kids\",\"Married with kids\",\"Married with kids\",\"Married with kids\",\"Single\",\"Married with no kids\",\"Single with kids\",\"Single\",\"Married with kids\",\"Single with kids\",\"Single with kids\",\"Single with kids\",\"Married with kids\",\"Married with no kids\",\"Married with no kids\",\"Married with no kids\",\"Married with kids\",\"Married with kids\",\"Married with kids\",\"Single with kids\",\"Single with kids\",\"Married with no kids\",\"Single with kids\",\"Married with no kids\",\"Single with kids\",\"Single\",\"Married with kids\",\"Single with kids\",\"Single\",\"Single\",\"Single with kids\",\"Single\",\"Single\",\"Married with no kids\",\"Married with no kids\",\"Married with kids\",\"Married with kids\",\"Married with kids\",\"Single\",\"Single\",\"Married with no kids\",\"Single with kids\",\"Married with no kids\",\"Married with kids\",\"Single\",\"Single\",\"Single with kids\",\"Married with kids\",\"Single with kids\",\"Married with no kids\",\"Single\",\"Married with no kids\",\"Married with kids\",\"Married with no kids\",\"Married with kids\",\"Single\",\"Married with kids\",\"Single\",\"Single\",\"Married with no kids\",\"Married with no kids\",\"Married with kids\",\"Single\",\"Married with kids\",\"Married with no kids\",\"Married with no kids\",\"Married with no kids\",\"Married with kids\",\"Single with kids\",\"Married with no kids\",\"Single\",\"Married with no kids\",\"Single with kids\",\"Married with kids\",\"Married with kids\",\"Single with kids\",\"Married with no kids\",\"Married with kids\",\"Single\",\"Married with no kids\",\"Married with kids\",\"Married with kids\",\"Single with kids\",\"Married with no kids\",\"Married with no kids\",\"Married with no kids\",\"Married with kids\",\"Single\",\"Married with kids\",\"Married with no kids\",\"Married with kids\"],\"xaxis\":\"x\",\"yaxis\":\"y\",\"type\":\"histogram\"},{\"alignmentgroup\":\"True\",\"bingroup\":\"x\",\"hovertemplate\":\"ResidentialArea=North-Eest of Riyadh<br>MaritalStatus=%{x}<br>count=%{y}<extra></extra>\",\"legendgroup\":\"North-Eest of Riyadh\",\"marker\":{\"color\":\"#EF553B\",\"pattern\":{\"shape\":\"\"}},\"name\":\"North-Eest of Riyadh\",\"offsetgroup\":\"North-Eest of Riyadh\",\"orientation\":\"v\",\"showlegend\":true,\"x\":[\"Single\",\"Married with no kids\",\"Married with kids\",\"Married with no kids\",\"Married with no kids\",\"Single with kids\",\"Single with kids\",\"Married with no kids\",\"Married with kids\",\"Married with kids\",\"Married with kids\",\"Married with no kids\",\"Married with kids\",\"Married with no kids\",\"Married with no kids\",\"Single\",\"Married with kids\",\"Single with kids\",\"Married with no kids\",\"Married with no kids\",\"Married with no kids\",\"Single with kids\",\"Married with no kids\",\"Single\",\"Single with kids\",\"Single with kids\",\"Married with no kids\",\"Single\",\"Married with no kids\",\"Single\",\"Single with kids\",\"Single\",\"Single\",\"Married with kids\",\"Married with no kids\",\"Married with no kids\",\"Married with kids\",\"Married with kids\",\"Single with kids\",\"Married with kids\",\"Single\",\"Married with no kids\",\"Married with no kids\",\"Married with kids\",\"Married with kids\",\"Single\",\"Married with kids\",\"Married with kids\",\"Married with kids\",\"Married with kids\",\"Married with kids\",\"Single\",\"Married with no kids\",\"Married with kids\",\"Married with kids\",\"Married with kids\",\"Married with no kids\",\"Single\",\"Single with kids\",\"Married with no kids\",\"Single with kids\",\"Single with kids\",\"Single with kids\",\"Married with kids\",\"Single\",\"Married with kids\",\"Single with kids\",\"Married with kids\",\"Married with kids\",\"Single\",\"Single with kids\",\"Married with kids\",\"Single with kids\",\"Married with no kids\",\"Single\",\"Married with kids\",\"Single with kids\",\"Married with kids\",\"Single with kids\",\"Married with kids\",\"Married with kids\",\"Single with kids\",\"Single\",\"Married with no kids\",\"Single\",\"Married with kids\",\"Single with kids\",\"Married with no kids\",\"Married with kids\",\"Single\",\"Single with kids\",\"Single\",\"Married with no kids\",\"Married with no kids\",\"Single with kids\",\"Single with kids\",\"Single\",\"Married with kids\",\"Single with kids\",\"Married with no kids\",\"Married with kids\",\"Married with no kids\",\"Married with kids\",\"Single with kids\",\"Married with no kids\",\"Married with kids\",\"Married with kids\",\"Single with kids\",\"Single with kids\",\"Single\",\"Married with no kids\",\"Single\",\"Married with no kids\",\"Single with kids\",\"Single with kids\",\"Single with kids\",\"Single with kids\",\"Single with kids\",\"Married with no kids\",\"Married with no kids\",\"Single\",\"Married with kids\",\"Married with kids\",\"Married with no kids\",\"Married with kids\"],\"xaxis\":\"x\",\"yaxis\":\"y\",\"type\":\"histogram\"}],                        {\"template\":{\"data\":{\"bar\":[{\"error_x\":{\"color\":\"#2a3f5f\"},\"error_y\":{\"color\":\"#2a3f5f\"},\"marker\":{\"line\":{\"color\":\"#E5ECF6\",\"width\":0.5},\"pattern\":{\"fillmode\":\"overlay\",\"size\":10,\"solidity\":0.2}},\"type\":\"bar\"}],\"barpolar\":[{\"marker\":{\"line\":{\"color\":\"#E5ECF6\",\"width\":0.5},\"pattern\":{\"fillmode\":\"overlay\",\"size\":10,\"solidity\":0.2}},\"type\":\"barpolar\"}],\"carpet\":[{\"aaxis\":{\"endlinecolor\":\"#2a3f5f\",\"gridcolor\":\"white\",\"linecolor\":\"white\",\"minorgridcolor\":\"white\",\"startlinecolor\":\"#2a3f5f\"},\"baxis\":{\"endlinecolor\":\"#2a3f5f\",\"gridcolor\":\"white\",\"linecolor\":\"white\",\"minorgridcolor\":\"white\",\"startlinecolor\":\"#2a3f5f\"},\"type\":\"carpet\"}],\"choropleth\":[{\"colorbar\":{\"outlinewidth\":0,\"ticks\":\"\"},\"type\":\"choropleth\"}],\"contour\":[{\"colorbar\":{\"outlinewidth\":0,\"ticks\":\"\"},\"colorscale\":[[0.0,\"#0d0887\"],[0.1111111111111111,\"#46039f\"],[0.2222222222222222,\"#7201a8\"],[0.3333333333333333,\"#9c179e\"],[0.4444444444444444,\"#bd3786\"],[0.5555555555555556,\"#d8576b\"],[0.6666666666666666,\"#ed7953\"],[0.7777777777777778,\"#fb9f3a\"],[0.8888888888888888,\"#fdca26\"],[1.0,\"#f0f921\"]],\"type\":\"contour\"}],\"contourcarpet\":[{\"colorbar\":{\"outlinewidth\":0,\"ticks\":\"\"},\"type\":\"contourcarpet\"}],\"heatmap\":[{\"colorbar\":{\"outlinewidth\":0,\"ticks\":\"\"},\"colorscale\":[[0.0,\"#0d0887\"],[0.1111111111111111,\"#46039f\"],[0.2222222222222222,\"#7201a8\"],[0.3333333333333333,\"#9c179e\"],[0.4444444444444444,\"#bd3786\"],[0.5555555555555556,\"#d8576b\"],[0.6666666666666666,\"#ed7953\"],[0.7777777777777778,\"#fb9f3a\"],[0.8888888888888888,\"#fdca26\"],[1.0,\"#f0f921\"]],\"type\":\"heatmap\"}],\"heatmapgl\":[{\"colorbar\":{\"outlinewidth\":0,\"ticks\":\"\"},\"colorscale\":[[0.0,\"#0d0887\"],[0.1111111111111111,\"#46039f\"],[0.2222222222222222,\"#7201a8\"],[0.3333333333333333,\"#9c179e\"],[0.4444444444444444,\"#bd3786\"],[0.5555555555555556,\"#d8576b\"],[0.6666666666666666,\"#ed7953\"],[0.7777777777777778,\"#fb9f3a\"],[0.8888888888888888,\"#fdca26\"],[1.0,\"#f0f921\"]],\"type\":\"heatmapgl\"}],\"histogram\":[{\"marker\":{\"pattern\":{\"fillmode\":\"overlay\",\"size\":10,\"solidity\":0.2}},\"type\":\"histogram\"}],\"histogram2d\":[{\"colorbar\":{\"outlinewidth\":0,\"ticks\":\"\"},\"colorscale\":[[0.0,\"#0d0887\"],[0.1111111111111111,\"#46039f\"],[0.2222222222222222,\"#7201a8\"],[0.3333333333333333,\"#9c179e\"],[0.4444444444444444,\"#bd3786\"],[0.5555555555555556,\"#d8576b\"],[0.6666666666666666,\"#ed7953\"],[0.7777777777777778,\"#fb9f3a\"],[0.8888888888888888,\"#fdca26\"],[1.0,\"#f0f921\"]],\"type\":\"histogram2d\"}],\"histogram2dcontour\":[{\"colorbar\":{\"outlinewidth\":0,\"ticks\":\"\"},\"colorscale\":[[0.0,\"#0d0887\"],[0.1111111111111111,\"#46039f\"],[0.2222222222222222,\"#7201a8\"],[0.3333333333333333,\"#9c179e\"],[0.4444444444444444,\"#bd3786\"],[0.5555555555555556,\"#d8576b\"],[0.6666666666666666,\"#ed7953\"],[0.7777777777777778,\"#fb9f3a\"],[0.8888888888888888,\"#fdca26\"],[1.0,\"#f0f921\"]],\"type\":\"histogram2dcontour\"}],\"mesh3d\":[{\"colorbar\":{\"outlinewidth\":0,\"ticks\":\"\"},\"type\":\"mesh3d\"}],\"parcoords\":[{\"line\":{\"colorbar\":{\"outlinewidth\":0,\"ticks\":\"\"}},\"type\":\"parcoords\"}],\"pie\":[{\"automargin\":true,\"type\":\"pie\"}],\"scatter\":[{\"marker\":{\"colorbar\":{\"outlinewidth\":0,\"ticks\":\"\"}},\"type\":\"scatter\"}],\"scatter3d\":[{\"line\":{\"colorbar\":{\"outlinewidth\":0,\"ticks\":\"\"}},\"marker\":{\"colorbar\":{\"outlinewidth\":0,\"ticks\":\"\"}},\"type\":\"scatter3d\"}],\"scattercarpet\":[{\"marker\":{\"colorbar\":{\"outlinewidth\":0,\"ticks\":\"\"}},\"type\":\"scattercarpet\"}],\"scattergeo\":[{\"marker\":{\"colorbar\":{\"outlinewidth\":0,\"ticks\":\"\"}},\"type\":\"scattergeo\"}],\"scattergl\":[{\"marker\":{\"colorbar\":{\"outlinewidth\":0,\"ticks\":\"\"}},\"type\":\"scattergl\"}],\"scattermapbox\":[{\"marker\":{\"colorbar\":{\"outlinewidth\":0,\"ticks\":\"\"}},\"type\":\"scattermapbox\"}],\"scatterpolar\":[{\"marker\":{\"colorbar\":{\"outlinewidth\":0,\"ticks\":\"\"}},\"type\":\"scatterpolar\"}],\"scatterpolargl\":[{\"marker\":{\"colorbar\":{\"outlinewidth\":0,\"ticks\":\"\"}},\"type\":\"scatterpolargl\"}],\"scatterternary\":[{\"marker\":{\"colorbar\":{\"outlinewidth\":0,\"ticks\":\"\"}},\"type\":\"scatterternary\"}],\"surface\":[{\"colorbar\":{\"outlinewidth\":0,\"ticks\":\"\"},\"colorscale\":[[0.0,\"#0d0887\"],[0.1111111111111111,\"#46039f\"],[0.2222222222222222,\"#7201a8\"],[0.3333333333333333,\"#9c179e\"],[0.4444444444444444,\"#bd3786\"],[0.5555555555555556,\"#d8576b\"],[0.6666666666666666,\"#ed7953\"],[0.7777777777777778,\"#fb9f3a\"],[0.8888888888888888,\"#fdca26\"],[1.0,\"#f0f921\"]],\"type\":\"surface\"}],\"table\":[{\"cells\":{\"fill\":{\"color\":\"#EBF0F8\"},\"line\":{\"color\":\"white\"}},\"header\":{\"fill\":{\"color\":\"#C8D4E3\"},\"line\":{\"color\":\"white\"}},\"type\":\"table\"}]},\"layout\":{\"annotationdefaults\":{\"arrowcolor\":\"#2a3f5f\",\"arrowhead\":0,\"arrowwidth\":1},\"autotypenumbers\":\"strict\",\"coloraxis\":{\"colorbar\":{\"outlinewidth\":0,\"ticks\":\"\"}},\"colorscale\":{\"diverging\":[[0,\"#8e0152\"],[0.1,\"#c51b7d\"],[0.2,\"#de77ae\"],[0.3,\"#f1b6da\"],[0.4,\"#fde0ef\"],[0.5,\"#f7f7f7\"],[0.6,\"#e6f5d0\"],[0.7,\"#b8e186\"],[0.8,\"#7fbc41\"],[0.9,\"#4d9221\"],[1,\"#276419\"]],\"sequential\":[[0.0,\"#0d0887\"],[0.1111111111111111,\"#46039f\"],[0.2222222222222222,\"#7201a8\"],[0.3333333333333333,\"#9c179e\"],[0.4444444444444444,\"#bd3786\"],[0.5555555555555556,\"#d8576b\"],[0.6666666666666666,\"#ed7953\"],[0.7777777777777778,\"#fb9f3a\"],[0.8888888888888888,\"#fdca26\"],[1.0,\"#f0f921\"]],\"sequentialminus\":[[0.0,\"#0d0887\"],[0.1111111111111111,\"#46039f\"],[0.2222222222222222,\"#7201a8\"],[0.3333333333333333,\"#9c179e\"],[0.4444444444444444,\"#bd3786\"],[0.5555555555555556,\"#d8576b\"],[0.6666666666666666,\"#ed7953\"],[0.7777777777777778,\"#fb9f3a\"],[0.8888888888888888,\"#fdca26\"],[1.0,\"#f0f921\"]]},\"colorway\":[\"#636efa\",\"#EF553B\",\"#00cc96\",\"#ab63fa\",\"#FFA15A\",\"#19d3f3\",\"#FF6692\",\"#B6E880\",\"#FF97FF\",\"#FECB52\"],\"font\":{\"color\":\"#2a3f5f\"},\"geo\":{\"bgcolor\":\"white\",\"lakecolor\":\"white\",\"landcolor\":\"#E5ECF6\",\"showlakes\":true,\"showland\":true,\"subunitcolor\":\"white\"},\"hoverlabel\":{\"align\":\"left\"},\"hovermode\":\"closest\",\"mapbox\":{\"style\":\"light\"},\"paper_bgcolor\":\"white\",\"plot_bgcolor\":\"#E5ECF6\",\"polar\":{\"angularaxis\":{\"gridcolor\":\"white\",\"linecolor\":\"white\",\"ticks\":\"\"},\"bgcolor\":\"#E5ECF6\",\"radialaxis\":{\"gridcolor\":\"white\",\"linecolor\":\"white\",\"ticks\":\"\"}},\"scene\":{\"xaxis\":{\"backgroundcolor\":\"#E5ECF6\",\"gridcolor\":\"white\",\"gridwidth\":2,\"linecolor\":\"white\",\"showbackground\":true,\"ticks\":\"\",\"zerolinecolor\":\"white\"},\"yaxis\":{\"backgroundcolor\":\"#E5ECF6\",\"gridcolor\":\"white\",\"gridwidth\":2,\"linecolor\":\"white\",\"showbackground\":true,\"ticks\":\"\",\"zerolinecolor\":\"white\"},\"zaxis\":{\"backgroundcolor\":\"#E5ECF6\",\"gridcolor\":\"white\",\"gridwidth\":2,\"linecolor\":\"white\",\"showbackground\":true,\"ticks\":\"\",\"zerolinecolor\":\"white\"}},\"shapedefaults\":{\"line\":{\"color\":\"#2a3f5f\"}},\"ternary\":{\"aaxis\":{\"gridcolor\":\"white\",\"linecolor\":\"white\",\"ticks\":\"\"},\"baxis\":{\"gridcolor\":\"white\",\"linecolor\":\"white\",\"ticks\":\"\"},\"bgcolor\":\"#E5ECF6\",\"caxis\":{\"gridcolor\":\"white\",\"linecolor\":\"white\",\"ticks\":\"\"}},\"title\":{\"x\":0.05},\"xaxis\":{\"automargin\":true,\"gridcolor\":\"white\",\"linecolor\":\"white\",\"ticks\":\"\",\"title\":{\"standoff\":15},\"zerolinecolor\":\"white\",\"zerolinewidth\":2},\"yaxis\":{\"automargin\":true,\"gridcolor\":\"white\",\"linecolor\":\"white\",\"ticks\":\"\",\"title\":{\"standoff\":15},\"zerolinecolor\":\"white\",\"zerolinewidth\":2}}},\"xaxis\":{\"anchor\":\"y\",\"domain\":[0.0,1.0],\"title\":{\"text\":\"MaritalStatus\"}},\"yaxis\":{\"anchor\":\"x\",\"domain\":[0.0,1.0],\"title\":{\"text\":\"count\"}},\"legend\":{\"title\":{\"text\":\"ResidentialArea\"},\"tracegroupgap\":0},\"margin\":{\"t\":60},\"barmode\":\"group\"},                        {\"responsive\": true}                    ).then(function(){\n",
       "                            \n",
       "var gd = document.getElementById('277e6fad-d3c1-44f1-a12d-c1e57bb3e5d5');\n",
       "var x = new MutationObserver(function (mutations, observer) {{\n",
       "        var display = window.getComputedStyle(gd).display;\n",
       "        if (!display || display === 'none') {{\n",
       "            console.log([gd, 'removed!']);\n",
       "            Plotly.purge(gd);\n",
       "            observer.disconnect();\n",
       "        }}\n",
       "}});\n",
       "\n",
       "// Listen for the removal of the full notebook cells\n",
       "var notebookContainer = gd.closest('#notebook-container');\n",
       "if (notebookContainer) {{\n",
       "    x.observe(notebookContainer, {childList: true});\n",
       "}}\n",
       "\n",
       "// Listen for the clearing of the current output cell\n",
       "var outputEl = gd.closest('.output');\n",
       "if (outputEl) {{\n",
       "    x.observe(outputEl, {childList: true});\n",
       "}}\n",
       "\n",
       "                        })                };                });            </script>        </div>"
      ]
     },
     "metadata": {},
     "output_type": "display_data"
    }
   ],
   "source": [
    "fig = px.histogram(df_viz_north, x=\"MaritalStatus\", color=\"ResidentialArea\", barmode = 'group')\n",
    "fig.show()"
   ]
  },
  {
   "cell_type": "code",
   "execution_count": 43,
   "metadata": {},
   "outputs": [
    {
     "data": {
      "application/vnd.plotly.v1+json": {
       "config": {
        "plotlyServerURL": "https://plot.ly"
       },
       "data": [
        {
         "alignmentgroup": "True",
         "bingroup": "x",
         "hovertemplate": "ResidentialArea=North-West of Riyadh<br>AgeGroup=%{x}<br>count=%{y}<extra></extra>",
         "legendgroup": "North-West of Riyadh",
         "marker": {
          "color": "#636efa",
          "pattern": {
           "shape": ""
          }
         },
         "name": "North-West of Riyadh",
         "offsetgroup": "North-West of Riyadh",
         "orientation": "v",
         "showlegend": true,
         "type": "histogram",
         "x": [
          "46-55",
          "46-55",
          "56+",
          "46-55",
          "31-45",
          "31-45",
          "25-30",
          "56+",
          "56+",
          "18-24",
          "31-45",
          "31-45",
          "56+",
          "31-45",
          "18-24",
          "46-55",
          "25-30",
          "18-24",
          "56+",
          "31-45",
          "46-55",
          "56+",
          "56+",
          "31-45",
          "31-45",
          "18-24",
          "31-45",
          "18-24",
          "18-24",
          "18-24",
          "46-55",
          "56+",
          "31-45",
          "25-30",
          "56+",
          "56+",
          "56+",
          "25-30",
          "18-24",
          "31-45",
          "18-24",
          "31-45",
          "31-45",
          "25-30",
          "31-45",
          "56+",
          "18-24",
          "46-55",
          "31-45",
          "25-30",
          "56+",
          "25-30",
          "56+",
          "25-30",
          "56+",
          "25-30",
          "31-45",
          "25-30",
          "25-30",
          "46-55",
          "31-45",
          "25-30",
          "25-30",
          "18-24",
          "31-45",
          "31-45",
          "25-30",
          "31-45",
          "31-45",
          "46-55",
          "46-55",
          "25-30",
          "31-45",
          "56+",
          "56+",
          "56+",
          "25-30",
          "46-55",
          "56+",
          "18-24",
          "31-45",
          "25-30",
          "25-30",
          "56+",
          "31-45",
          "56+",
          "25-30",
          "25-30",
          "18-24",
          "31-45",
          "46-55",
          "31-45",
          "25-30",
          "31-45",
          "46-55",
          "56+",
          "25-30",
          "18-24",
          "31-45",
          "25-30",
          "25-30",
          "18-24",
          "31-45",
          "25-30",
          "56+",
          "18-24",
          "25-30",
          "56+",
          "56+",
          "18-24",
          "46-55",
          "31-45",
          "56+",
          "56+",
          "25-30",
          "25-30",
          "25-30",
          "31-45",
          "31-45",
          "25-30",
          "56+",
          "46-55",
          "18-24"
         ],
         "xaxis": "x",
         "yaxis": "y"
        },
        {
         "alignmentgroup": "True",
         "bingroup": "x",
         "hovertemplate": "ResidentialArea=North-Eest of Riyadh<br>AgeGroup=%{x}<br>count=%{y}<extra></extra>",
         "legendgroup": "North-Eest of Riyadh",
         "marker": {
          "color": "#EF553B",
          "pattern": {
           "shape": ""
          }
         },
         "name": "North-Eest of Riyadh",
         "offsetgroup": "North-Eest of Riyadh",
         "orientation": "v",
         "showlegend": true,
         "type": "histogram",
         "x": [
          "46-55",
          "46-55",
          "46-55",
          "25-30",
          "25-30",
          "25-30",
          "31-45",
          "18-24",
          "25-30",
          "18-24",
          "18-24",
          "25-30",
          "31-45",
          "56+",
          "56+",
          "18-24",
          "46-55",
          "18-24",
          "25-30",
          "18-24",
          "31-45",
          "46-55",
          "18-24",
          "18-24",
          "56+",
          "18-24",
          "46-55",
          "46-55",
          "46-55",
          "31-45",
          "18-24",
          "56+",
          "18-24",
          "18-24",
          "56+",
          "46-55",
          "18-24",
          "25-30",
          "25-30",
          "18-24",
          "31-45",
          "18-24",
          "46-55",
          "31-45",
          "56+",
          "56+",
          "56+",
          "46-55",
          "25-30",
          "56+",
          "25-30",
          "56+",
          "18-24",
          "18-24",
          "56+",
          "25-30",
          "25-30",
          "18-24",
          "18-24",
          "56+",
          "18-24",
          "31-45",
          "25-30",
          "56+",
          "25-30",
          "56+",
          "46-55",
          "18-24",
          "46-55",
          "18-24",
          "25-30",
          "56+",
          "31-45",
          "18-24",
          "56+",
          "46-55",
          "56+",
          "46-55",
          "25-30",
          "56+",
          "46-55",
          "56+",
          "25-30",
          "56+",
          "46-55",
          "56+",
          "25-30",
          "46-55",
          "25-30",
          "31-45",
          "56+",
          "18-24",
          "31-45",
          "56+",
          "46-55",
          "56+",
          "25-30",
          "31-45",
          "25-30",
          "31-45",
          "25-30",
          "25-30",
          "25-30",
          "31-45",
          "25-30",
          "56+",
          "25-30",
          "31-45",
          "46-55",
          "18-24",
          "56+",
          "56+",
          "46-55",
          "31-45",
          "18-24",
          "56+",
          "56+",
          "31-45",
          "25-30",
          "56+",
          "18-24",
          "46-55",
          "18-24",
          "18-24",
          "46-55"
         ],
         "xaxis": "x",
         "yaxis": "y"
        }
       ],
       "layout": {
        "barmode": "group",
        "legend": {
         "title": {
          "text": "ResidentialArea"
         },
         "tracegroupgap": 0
        },
        "margin": {
         "t": 60
        },
        "template": {
         "data": {
          "bar": [
           {
            "error_x": {
             "color": "#2a3f5f"
            },
            "error_y": {
             "color": "#2a3f5f"
            },
            "marker": {
             "line": {
              "color": "#E5ECF6",
              "width": 0.5
             },
             "pattern": {
              "fillmode": "overlay",
              "size": 10,
              "solidity": 0.2
             }
            },
            "type": "bar"
           }
          ],
          "barpolar": [
           {
            "marker": {
             "line": {
              "color": "#E5ECF6",
              "width": 0.5
             },
             "pattern": {
              "fillmode": "overlay",
              "size": 10,
              "solidity": 0.2
             }
            },
            "type": "barpolar"
           }
          ],
          "carpet": [
           {
            "aaxis": {
             "endlinecolor": "#2a3f5f",
             "gridcolor": "white",
             "linecolor": "white",
             "minorgridcolor": "white",
             "startlinecolor": "#2a3f5f"
            },
            "baxis": {
             "endlinecolor": "#2a3f5f",
             "gridcolor": "white",
             "linecolor": "white",
             "minorgridcolor": "white",
             "startlinecolor": "#2a3f5f"
            },
            "type": "carpet"
           }
          ],
          "choropleth": [
           {
            "colorbar": {
             "outlinewidth": 0,
             "ticks": ""
            },
            "type": "choropleth"
           }
          ],
          "contour": [
           {
            "colorbar": {
             "outlinewidth": 0,
             "ticks": ""
            },
            "colorscale": [
             [
              0,
              "#0d0887"
             ],
             [
              0.1111111111111111,
              "#46039f"
             ],
             [
              0.2222222222222222,
              "#7201a8"
             ],
             [
              0.3333333333333333,
              "#9c179e"
             ],
             [
              0.4444444444444444,
              "#bd3786"
             ],
             [
              0.5555555555555556,
              "#d8576b"
             ],
             [
              0.6666666666666666,
              "#ed7953"
             ],
             [
              0.7777777777777778,
              "#fb9f3a"
             ],
             [
              0.8888888888888888,
              "#fdca26"
             ],
             [
              1,
              "#f0f921"
             ]
            ],
            "type": "contour"
           }
          ],
          "contourcarpet": [
           {
            "colorbar": {
             "outlinewidth": 0,
             "ticks": ""
            },
            "type": "contourcarpet"
           }
          ],
          "heatmap": [
           {
            "colorbar": {
             "outlinewidth": 0,
             "ticks": ""
            },
            "colorscale": [
             [
              0,
              "#0d0887"
             ],
             [
              0.1111111111111111,
              "#46039f"
             ],
             [
              0.2222222222222222,
              "#7201a8"
             ],
             [
              0.3333333333333333,
              "#9c179e"
             ],
             [
              0.4444444444444444,
              "#bd3786"
             ],
             [
              0.5555555555555556,
              "#d8576b"
             ],
             [
              0.6666666666666666,
              "#ed7953"
             ],
             [
              0.7777777777777778,
              "#fb9f3a"
             ],
             [
              0.8888888888888888,
              "#fdca26"
             ],
             [
              1,
              "#f0f921"
             ]
            ],
            "type": "heatmap"
           }
          ],
          "heatmapgl": [
           {
            "colorbar": {
             "outlinewidth": 0,
             "ticks": ""
            },
            "colorscale": [
             [
              0,
              "#0d0887"
             ],
             [
              0.1111111111111111,
              "#46039f"
             ],
             [
              0.2222222222222222,
              "#7201a8"
             ],
             [
              0.3333333333333333,
              "#9c179e"
             ],
             [
              0.4444444444444444,
              "#bd3786"
             ],
             [
              0.5555555555555556,
              "#d8576b"
             ],
             [
              0.6666666666666666,
              "#ed7953"
             ],
             [
              0.7777777777777778,
              "#fb9f3a"
             ],
             [
              0.8888888888888888,
              "#fdca26"
             ],
             [
              1,
              "#f0f921"
             ]
            ],
            "type": "heatmapgl"
           }
          ],
          "histogram": [
           {
            "marker": {
             "pattern": {
              "fillmode": "overlay",
              "size": 10,
              "solidity": 0.2
             }
            },
            "type": "histogram"
           }
          ],
          "histogram2d": [
           {
            "colorbar": {
             "outlinewidth": 0,
             "ticks": ""
            },
            "colorscale": [
             [
              0,
              "#0d0887"
             ],
             [
              0.1111111111111111,
              "#46039f"
             ],
             [
              0.2222222222222222,
              "#7201a8"
             ],
             [
              0.3333333333333333,
              "#9c179e"
             ],
             [
              0.4444444444444444,
              "#bd3786"
             ],
             [
              0.5555555555555556,
              "#d8576b"
             ],
             [
              0.6666666666666666,
              "#ed7953"
             ],
             [
              0.7777777777777778,
              "#fb9f3a"
             ],
             [
              0.8888888888888888,
              "#fdca26"
             ],
             [
              1,
              "#f0f921"
             ]
            ],
            "type": "histogram2d"
           }
          ],
          "histogram2dcontour": [
           {
            "colorbar": {
             "outlinewidth": 0,
             "ticks": ""
            },
            "colorscale": [
             [
              0,
              "#0d0887"
             ],
             [
              0.1111111111111111,
              "#46039f"
             ],
             [
              0.2222222222222222,
              "#7201a8"
             ],
             [
              0.3333333333333333,
              "#9c179e"
             ],
             [
              0.4444444444444444,
              "#bd3786"
             ],
             [
              0.5555555555555556,
              "#d8576b"
             ],
             [
              0.6666666666666666,
              "#ed7953"
             ],
             [
              0.7777777777777778,
              "#fb9f3a"
             ],
             [
              0.8888888888888888,
              "#fdca26"
             ],
             [
              1,
              "#f0f921"
             ]
            ],
            "type": "histogram2dcontour"
           }
          ],
          "mesh3d": [
           {
            "colorbar": {
             "outlinewidth": 0,
             "ticks": ""
            },
            "type": "mesh3d"
           }
          ],
          "parcoords": [
           {
            "line": {
             "colorbar": {
              "outlinewidth": 0,
              "ticks": ""
             }
            },
            "type": "parcoords"
           }
          ],
          "pie": [
           {
            "automargin": true,
            "type": "pie"
           }
          ],
          "scatter": [
           {
            "marker": {
             "colorbar": {
              "outlinewidth": 0,
              "ticks": ""
             }
            },
            "type": "scatter"
           }
          ],
          "scatter3d": [
           {
            "line": {
             "colorbar": {
              "outlinewidth": 0,
              "ticks": ""
             }
            },
            "marker": {
             "colorbar": {
              "outlinewidth": 0,
              "ticks": ""
             }
            },
            "type": "scatter3d"
           }
          ],
          "scattercarpet": [
           {
            "marker": {
             "colorbar": {
              "outlinewidth": 0,
              "ticks": ""
             }
            },
            "type": "scattercarpet"
           }
          ],
          "scattergeo": [
           {
            "marker": {
             "colorbar": {
              "outlinewidth": 0,
              "ticks": ""
             }
            },
            "type": "scattergeo"
           }
          ],
          "scattergl": [
           {
            "marker": {
             "colorbar": {
              "outlinewidth": 0,
              "ticks": ""
             }
            },
            "type": "scattergl"
           }
          ],
          "scattermapbox": [
           {
            "marker": {
             "colorbar": {
              "outlinewidth": 0,
              "ticks": ""
             }
            },
            "type": "scattermapbox"
           }
          ],
          "scatterpolar": [
           {
            "marker": {
             "colorbar": {
              "outlinewidth": 0,
              "ticks": ""
             }
            },
            "type": "scatterpolar"
           }
          ],
          "scatterpolargl": [
           {
            "marker": {
             "colorbar": {
              "outlinewidth": 0,
              "ticks": ""
             }
            },
            "type": "scatterpolargl"
           }
          ],
          "scatterternary": [
           {
            "marker": {
             "colorbar": {
              "outlinewidth": 0,
              "ticks": ""
             }
            },
            "type": "scatterternary"
           }
          ],
          "surface": [
           {
            "colorbar": {
             "outlinewidth": 0,
             "ticks": ""
            },
            "colorscale": [
             [
              0,
              "#0d0887"
             ],
             [
              0.1111111111111111,
              "#46039f"
             ],
             [
              0.2222222222222222,
              "#7201a8"
             ],
             [
              0.3333333333333333,
              "#9c179e"
             ],
             [
              0.4444444444444444,
              "#bd3786"
             ],
             [
              0.5555555555555556,
              "#d8576b"
             ],
             [
              0.6666666666666666,
              "#ed7953"
             ],
             [
              0.7777777777777778,
              "#fb9f3a"
             ],
             [
              0.8888888888888888,
              "#fdca26"
             ],
             [
              1,
              "#f0f921"
             ]
            ],
            "type": "surface"
           }
          ],
          "table": [
           {
            "cells": {
             "fill": {
              "color": "#EBF0F8"
             },
             "line": {
              "color": "white"
             }
            },
            "header": {
             "fill": {
              "color": "#C8D4E3"
             },
             "line": {
              "color": "white"
             }
            },
            "type": "table"
           }
          ]
         },
         "layout": {
          "annotationdefaults": {
           "arrowcolor": "#2a3f5f",
           "arrowhead": 0,
           "arrowwidth": 1
          },
          "autotypenumbers": "strict",
          "coloraxis": {
           "colorbar": {
            "outlinewidth": 0,
            "ticks": ""
           }
          },
          "colorscale": {
           "diverging": [
            [
             0,
             "#8e0152"
            ],
            [
             0.1,
             "#c51b7d"
            ],
            [
             0.2,
             "#de77ae"
            ],
            [
             0.3,
             "#f1b6da"
            ],
            [
             0.4,
             "#fde0ef"
            ],
            [
             0.5,
             "#f7f7f7"
            ],
            [
             0.6,
             "#e6f5d0"
            ],
            [
             0.7,
             "#b8e186"
            ],
            [
             0.8,
             "#7fbc41"
            ],
            [
             0.9,
             "#4d9221"
            ],
            [
             1,
             "#276419"
            ]
           ],
           "sequential": [
            [
             0,
             "#0d0887"
            ],
            [
             0.1111111111111111,
             "#46039f"
            ],
            [
             0.2222222222222222,
             "#7201a8"
            ],
            [
             0.3333333333333333,
             "#9c179e"
            ],
            [
             0.4444444444444444,
             "#bd3786"
            ],
            [
             0.5555555555555556,
             "#d8576b"
            ],
            [
             0.6666666666666666,
             "#ed7953"
            ],
            [
             0.7777777777777778,
             "#fb9f3a"
            ],
            [
             0.8888888888888888,
             "#fdca26"
            ],
            [
             1,
             "#f0f921"
            ]
           ],
           "sequentialminus": [
            [
             0,
             "#0d0887"
            ],
            [
             0.1111111111111111,
             "#46039f"
            ],
            [
             0.2222222222222222,
             "#7201a8"
            ],
            [
             0.3333333333333333,
             "#9c179e"
            ],
            [
             0.4444444444444444,
             "#bd3786"
            ],
            [
             0.5555555555555556,
             "#d8576b"
            ],
            [
             0.6666666666666666,
             "#ed7953"
            ],
            [
             0.7777777777777778,
             "#fb9f3a"
            ],
            [
             0.8888888888888888,
             "#fdca26"
            ],
            [
             1,
             "#f0f921"
            ]
           ]
          },
          "colorway": [
           "#636efa",
           "#EF553B",
           "#00cc96",
           "#ab63fa",
           "#FFA15A",
           "#19d3f3",
           "#FF6692",
           "#B6E880",
           "#FF97FF",
           "#FECB52"
          ],
          "font": {
           "color": "#2a3f5f"
          },
          "geo": {
           "bgcolor": "white",
           "lakecolor": "white",
           "landcolor": "#E5ECF6",
           "showlakes": true,
           "showland": true,
           "subunitcolor": "white"
          },
          "hoverlabel": {
           "align": "left"
          },
          "hovermode": "closest",
          "mapbox": {
           "style": "light"
          },
          "paper_bgcolor": "white",
          "plot_bgcolor": "#E5ECF6",
          "polar": {
           "angularaxis": {
            "gridcolor": "white",
            "linecolor": "white",
            "ticks": ""
           },
           "bgcolor": "#E5ECF6",
           "radialaxis": {
            "gridcolor": "white",
            "linecolor": "white",
            "ticks": ""
           }
          },
          "scene": {
           "xaxis": {
            "backgroundcolor": "#E5ECF6",
            "gridcolor": "white",
            "gridwidth": 2,
            "linecolor": "white",
            "showbackground": true,
            "ticks": "",
            "zerolinecolor": "white"
           },
           "yaxis": {
            "backgroundcolor": "#E5ECF6",
            "gridcolor": "white",
            "gridwidth": 2,
            "linecolor": "white",
            "showbackground": true,
            "ticks": "",
            "zerolinecolor": "white"
           },
           "zaxis": {
            "backgroundcolor": "#E5ECF6",
            "gridcolor": "white",
            "gridwidth": 2,
            "linecolor": "white",
            "showbackground": true,
            "ticks": "",
            "zerolinecolor": "white"
           }
          },
          "shapedefaults": {
           "line": {
            "color": "#2a3f5f"
           }
          },
          "ternary": {
           "aaxis": {
            "gridcolor": "white",
            "linecolor": "white",
            "ticks": ""
           },
           "baxis": {
            "gridcolor": "white",
            "linecolor": "white",
            "ticks": ""
           },
           "bgcolor": "#E5ECF6",
           "caxis": {
            "gridcolor": "white",
            "linecolor": "white",
            "ticks": ""
           }
          },
          "title": {
           "x": 0.05
          },
          "xaxis": {
           "automargin": true,
           "gridcolor": "white",
           "linecolor": "white",
           "ticks": "",
           "title": {
            "standoff": 15
           },
           "zerolinecolor": "white",
           "zerolinewidth": 2
          },
          "yaxis": {
           "automargin": true,
           "gridcolor": "white",
           "linecolor": "white",
           "ticks": "",
           "title": {
            "standoff": 15
           },
           "zerolinecolor": "white",
           "zerolinewidth": 2
          }
         }
        },
        "xaxis": {
         "anchor": "y",
         "categoryorder": "category ascending",
         "domain": [
          0,
          1
         ],
         "title": {
          "text": "AgeGroup"
         }
        },
        "yaxis": {
         "anchor": "x",
         "domain": [
          0,
          1
         ],
         "title": {
          "text": "count"
         }
        }
       }
      },
      "text/html": [
       "<div>                            <div id=\"3e800760-2cff-4101-b97d-b8c79b6f64f1\" class=\"plotly-graph-div\" style=\"height:525px; width:100%;\"></div>            <script type=\"text/javascript\">                require([\"plotly\"], function(Plotly) {                    window.PLOTLYENV=window.PLOTLYENV || {};                                    if (document.getElementById(\"3e800760-2cff-4101-b97d-b8c79b6f64f1\")) {                    Plotly.newPlot(                        \"3e800760-2cff-4101-b97d-b8c79b6f64f1\",                        [{\"alignmentgroup\":\"True\",\"bingroup\":\"x\",\"hovertemplate\":\"ResidentialArea=North-West of Riyadh<br>AgeGroup=%{x}<br>count=%{y}<extra></extra>\",\"legendgroup\":\"North-West of Riyadh\",\"marker\":{\"color\":\"#636efa\",\"pattern\":{\"shape\":\"\"}},\"name\":\"North-West of Riyadh\",\"offsetgroup\":\"North-West of Riyadh\",\"orientation\":\"v\",\"showlegend\":true,\"x\":[\"46-55\",\"46-55\",\"56+\",\"46-55\",\"31-45\",\"31-45\",\"25-30\",\"56+\",\"56+\",\"18-24\",\"31-45\",\"31-45\",\"56+\",\"31-45\",\"18-24\",\"46-55\",\"25-30\",\"18-24\",\"56+\",\"31-45\",\"46-55\",\"56+\",\"56+\",\"31-45\",\"31-45\",\"18-24\",\"31-45\",\"18-24\",\"18-24\",\"18-24\",\"46-55\",\"56+\",\"31-45\",\"25-30\",\"56+\",\"56+\",\"56+\",\"25-30\",\"18-24\",\"31-45\",\"18-24\",\"31-45\",\"31-45\",\"25-30\",\"31-45\",\"56+\",\"18-24\",\"46-55\",\"31-45\",\"25-30\",\"56+\",\"25-30\",\"56+\",\"25-30\",\"56+\",\"25-30\",\"31-45\",\"25-30\",\"25-30\",\"46-55\",\"31-45\",\"25-30\",\"25-30\",\"18-24\",\"31-45\",\"31-45\",\"25-30\",\"31-45\",\"31-45\",\"46-55\",\"46-55\",\"25-30\",\"31-45\",\"56+\",\"56+\",\"56+\",\"25-30\",\"46-55\",\"56+\",\"18-24\",\"31-45\",\"25-30\",\"25-30\",\"56+\",\"31-45\",\"56+\",\"25-30\",\"25-30\",\"18-24\",\"31-45\",\"46-55\",\"31-45\",\"25-30\",\"31-45\",\"46-55\",\"56+\",\"25-30\",\"18-24\",\"31-45\",\"25-30\",\"25-30\",\"18-24\",\"31-45\",\"25-30\",\"56+\",\"18-24\",\"25-30\",\"56+\",\"56+\",\"18-24\",\"46-55\",\"31-45\",\"56+\",\"56+\",\"25-30\",\"25-30\",\"25-30\",\"31-45\",\"31-45\",\"25-30\",\"56+\",\"46-55\",\"18-24\"],\"xaxis\":\"x\",\"yaxis\":\"y\",\"type\":\"histogram\"},{\"alignmentgroup\":\"True\",\"bingroup\":\"x\",\"hovertemplate\":\"ResidentialArea=North-Eest of Riyadh<br>AgeGroup=%{x}<br>count=%{y}<extra></extra>\",\"legendgroup\":\"North-Eest of Riyadh\",\"marker\":{\"color\":\"#EF553B\",\"pattern\":{\"shape\":\"\"}},\"name\":\"North-Eest of Riyadh\",\"offsetgroup\":\"North-Eest of Riyadh\",\"orientation\":\"v\",\"showlegend\":true,\"x\":[\"46-55\",\"46-55\",\"46-55\",\"25-30\",\"25-30\",\"25-30\",\"31-45\",\"18-24\",\"25-30\",\"18-24\",\"18-24\",\"25-30\",\"31-45\",\"56+\",\"56+\",\"18-24\",\"46-55\",\"18-24\",\"25-30\",\"18-24\",\"31-45\",\"46-55\",\"18-24\",\"18-24\",\"56+\",\"18-24\",\"46-55\",\"46-55\",\"46-55\",\"31-45\",\"18-24\",\"56+\",\"18-24\",\"18-24\",\"56+\",\"46-55\",\"18-24\",\"25-30\",\"25-30\",\"18-24\",\"31-45\",\"18-24\",\"46-55\",\"31-45\",\"56+\",\"56+\",\"56+\",\"46-55\",\"25-30\",\"56+\",\"25-30\",\"56+\",\"18-24\",\"18-24\",\"56+\",\"25-30\",\"25-30\",\"18-24\",\"18-24\",\"56+\",\"18-24\",\"31-45\",\"25-30\",\"56+\",\"25-30\",\"56+\",\"46-55\",\"18-24\",\"46-55\",\"18-24\",\"25-30\",\"56+\",\"31-45\",\"18-24\",\"56+\",\"46-55\",\"56+\",\"46-55\",\"25-30\",\"56+\",\"46-55\",\"56+\",\"25-30\",\"56+\",\"46-55\",\"56+\",\"25-30\",\"46-55\",\"25-30\",\"31-45\",\"56+\",\"18-24\",\"31-45\",\"56+\",\"46-55\",\"56+\",\"25-30\",\"31-45\",\"25-30\",\"31-45\",\"25-30\",\"25-30\",\"25-30\",\"31-45\",\"25-30\",\"56+\",\"25-30\",\"31-45\",\"46-55\",\"18-24\",\"56+\",\"56+\",\"46-55\",\"31-45\",\"18-24\",\"56+\",\"56+\",\"31-45\",\"25-30\",\"56+\",\"18-24\",\"46-55\",\"18-24\",\"18-24\",\"46-55\"],\"xaxis\":\"x\",\"yaxis\":\"y\",\"type\":\"histogram\"}],                        {\"template\":{\"data\":{\"bar\":[{\"error_x\":{\"color\":\"#2a3f5f\"},\"error_y\":{\"color\":\"#2a3f5f\"},\"marker\":{\"line\":{\"color\":\"#E5ECF6\",\"width\":0.5},\"pattern\":{\"fillmode\":\"overlay\",\"size\":10,\"solidity\":0.2}},\"type\":\"bar\"}],\"barpolar\":[{\"marker\":{\"line\":{\"color\":\"#E5ECF6\",\"width\":0.5},\"pattern\":{\"fillmode\":\"overlay\",\"size\":10,\"solidity\":0.2}},\"type\":\"barpolar\"}],\"carpet\":[{\"aaxis\":{\"endlinecolor\":\"#2a3f5f\",\"gridcolor\":\"white\",\"linecolor\":\"white\",\"minorgridcolor\":\"white\",\"startlinecolor\":\"#2a3f5f\"},\"baxis\":{\"endlinecolor\":\"#2a3f5f\",\"gridcolor\":\"white\",\"linecolor\":\"white\",\"minorgridcolor\":\"white\",\"startlinecolor\":\"#2a3f5f\"},\"type\":\"carpet\"}],\"choropleth\":[{\"colorbar\":{\"outlinewidth\":0,\"ticks\":\"\"},\"type\":\"choropleth\"}],\"contour\":[{\"colorbar\":{\"outlinewidth\":0,\"ticks\":\"\"},\"colorscale\":[[0.0,\"#0d0887\"],[0.1111111111111111,\"#46039f\"],[0.2222222222222222,\"#7201a8\"],[0.3333333333333333,\"#9c179e\"],[0.4444444444444444,\"#bd3786\"],[0.5555555555555556,\"#d8576b\"],[0.6666666666666666,\"#ed7953\"],[0.7777777777777778,\"#fb9f3a\"],[0.8888888888888888,\"#fdca26\"],[1.0,\"#f0f921\"]],\"type\":\"contour\"}],\"contourcarpet\":[{\"colorbar\":{\"outlinewidth\":0,\"ticks\":\"\"},\"type\":\"contourcarpet\"}],\"heatmap\":[{\"colorbar\":{\"outlinewidth\":0,\"ticks\":\"\"},\"colorscale\":[[0.0,\"#0d0887\"],[0.1111111111111111,\"#46039f\"],[0.2222222222222222,\"#7201a8\"],[0.3333333333333333,\"#9c179e\"],[0.4444444444444444,\"#bd3786\"],[0.5555555555555556,\"#d8576b\"],[0.6666666666666666,\"#ed7953\"],[0.7777777777777778,\"#fb9f3a\"],[0.8888888888888888,\"#fdca26\"],[1.0,\"#f0f921\"]],\"type\":\"heatmap\"}],\"heatmapgl\":[{\"colorbar\":{\"outlinewidth\":0,\"ticks\":\"\"},\"colorscale\":[[0.0,\"#0d0887\"],[0.1111111111111111,\"#46039f\"],[0.2222222222222222,\"#7201a8\"],[0.3333333333333333,\"#9c179e\"],[0.4444444444444444,\"#bd3786\"],[0.5555555555555556,\"#d8576b\"],[0.6666666666666666,\"#ed7953\"],[0.7777777777777778,\"#fb9f3a\"],[0.8888888888888888,\"#fdca26\"],[1.0,\"#f0f921\"]],\"type\":\"heatmapgl\"}],\"histogram\":[{\"marker\":{\"pattern\":{\"fillmode\":\"overlay\",\"size\":10,\"solidity\":0.2}},\"type\":\"histogram\"}],\"histogram2d\":[{\"colorbar\":{\"outlinewidth\":0,\"ticks\":\"\"},\"colorscale\":[[0.0,\"#0d0887\"],[0.1111111111111111,\"#46039f\"],[0.2222222222222222,\"#7201a8\"],[0.3333333333333333,\"#9c179e\"],[0.4444444444444444,\"#bd3786\"],[0.5555555555555556,\"#d8576b\"],[0.6666666666666666,\"#ed7953\"],[0.7777777777777778,\"#fb9f3a\"],[0.8888888888888888,\"#fdca26\"],[1.0,\"#f0f921\"]],\"type\":\"histogram2d\"}],\"histogram2dcontour\":[{\"colorbar\":{\"outlinewidth\":0,\"ticks\":\"\"},\"colorscale\":[[0.0,\"#0d0887\"],[0.1111111111111111,\"#46039f\"],[0.2222222222222222,\"#7201a8\"],[0.3333333333333333,\"#9c179e\"],[0.4444444444444444,\"#bd3786\"],[0.5555555555555556,\"#d8576b\"],[0.6666666666666666,\"#ed7953\"],[0.7777777777777778,\"#fb9f3a\"],[0.8888888888888888,\"#fdca26\"],[1.0,\"#f0f921\"]],\"type\":\"histogram2dcontour\"}],\"mesh3d\":[{\"colorbar\":{\"outlinewidth\":0,\"ticks\":\"\"},\"type\":\"mesh3d\"}],\"parcoords\":[{\"line\":{\"colorbar\":{\"outlinewidth\":0,\"ticks\":\"\"}},\"type\":\"parcoords\"}],\"pie\":[{\"automargin\":true,\"type\":\"pie\"}],\"scatter\":[{\"marker\":{\"colorbar\":{\"outlinewidth\":0,\"ticks\":\"\"}},\"type\":\"scatter\"}],\"scatter3d\":[{\"line\":{\"colorbar\":{\"outlinewidth\":0,\"ticks\":\"\"}},\"marker\":{\"colorbar\":{\"outlinewidth\":0,\"ticks\":\"\"}},\"type\":\"scatter3d\"}],\"scattercarpet\":[{\"marker\":{\"colorbar\":{\"outlinewidth\":0,\"ticks\":\"\"}},\"type\":\"scattercarpet\"}],\"scattergeo\":[{\"marker\":{\"colorbar\":{\"outlinewidth\":0,\"ticks\":\"\"}},\"type\":\"scattergeo\"}],\"scattergl\":[{\"marker\":{\"colorbar\":{\"outlinewidth\":0,\"ticks\":\"\"}},\"type\":\"scattergl\"}],\"scattermapbox\":[{\"marker\":{\"colorbar\":{\"outlinewidth\":0,\"ticks\":\"\"}},\"type\":\"scattermapbox\"}],\"scatterpolar\":[{\"marker\":{\"colorbar\":{\"outlinewidth\":0,\"ticks\":\"\"}},\"type\":\"scatterpolar\"}],\"scatterpolargl\":[{\"marker\":{\"colorbar\":{\"outlinewidth\":0,\"ticks\":\"\"}},\"type\":\"scatterpolargl\"}],\"scatterternary\":[{\"marker\":{\"colorbar\":{\"outlinewidth\":0,\"ticks\":\"\"}},\"type\":\"scatterternary\"}],\"surface\":[{\"colorbar\":{\"outlinewidth\":0,\"ticks\":\"\"},\"colorscale\":[[0.0,\"#0d0887\"],[0.1111111111111111,\"#46039f\"],[0.2222222222222222,\"#7201a8\"],[0.3333333333333333,\"#9c179e\"],[0.4444444444444444,\"#bd3786\"],[0.5555555555555556,\"#d8576b\"],[0.6666666666666666,\"#ed7953\"],[0.7777777777777778,\"#fb9f3a\"],[0.8888888888888888,\"#fdca26\"],[1.0,\"#f0f921\"]],\"type\":\"surface\"}],\"table\":[{\"cells\":{\"fill\":{\"color\":\"#EBF0F8\"},\"line\":{\"color\":\"white\"}},\"header\":{\"fill\":{\"color\":\"#C8D4E3\"},\"line\":{\"color\":\"white\"}},\"type\":\"table\"}]},\"layout\":{\"annotationdefaults\":{\"arrowcolor\":\"#2a3f5f\",\"arrowhead\":0,\"arrowwidth\":1},\"autotypenumbers\":\"strict\",\"coloraxis\":{\"colorbar\":{\"outlinewidth\":0,\"ticks\":\"\"}},\"colorscale\":{\"diverging\":[[0,\"#8e0152\"],[0.1,\"#c51b7d\"],[0.2,\"#de77ae\"],[0.3,\"#f1b6da\"],[0.4,\"#fde0ef\"],[0.5,\"#f7f7f7\"],[0.6,\"#e6f5d0\"],[0.7,\"#b8e186\"],[0.8,\"#7fbc41\"],[0.9,\"#4d9221\"],[1,\"#276419\"]],\"sequential\":[[0.0,\"#0d0887\"],[0.1111111111111111,\"#46039f\"],[0.2222222222222222,\"#7201a8\"],[0.3333333333333333,\"#9c179e\"],[0.4444444444444444,\"#bd3786\"],[0.5555555555555556,\"#d8576b\"],[0.6666666666666666,\"#ed7953\"],[0.7777777777777778,\"#fb9f3a\"],[0.8888888888888888,\"#fdca26\"],[1.0,\"#f0f921\"]],\"sequentialminus\":[[0.0,\"#0d0887\"],[0.1111111111111111,\"#46039f\"],[0.2222222222222222,\"#7201a8\"],[0.3333333333333333,\"#9c179e\"],[0.4444444444444444,\"#bd3786\"],[0.5555555555555556,\"#d8576b\"],[0.6666666666666666,\"#ed7953\"],[0.7777777777777778,\"#fb9f3a\"],[0.8888888888888888,\"#fdca26\"],[1.0,\"#f0f921\"]]},\"colorway\":[\"#636efa\",\"#EF553B\",\"#00cc96\",\"#ab63fa\",\"#FFA15A\",\"#19d3f3\",\"#FF6692\",\"#B6E880\",\"#FF97FF\",\"#FECB52\"],\"font\":{\"color\":\"#2a3f5f\"},\"geo\":{\"bgcolor\":\"white\",\"lakecolor\":\"white\",\"landcolor\":\"#E5ECF6\",\"showlakes\":true,\"showland\":true,\"subunitcolor\":\"white\"},\"hoverlabel\":{\"align\":\"left\"},\"hovermode\":\"closest\",\"mapbox\":{\"style\":\"light\"},\"paper_bgcolor\":\"white\",\"plot_bgcolor\":\"#E5ECF6\",\"polar\":{\"angularaxis\":{\"gridcolor\":\"white\",\"linecolor\":\"white\",\"ticks\":\"\"},\"bgcolor\":\"#E5ECF6\",\"radialaxis\":{\"gridcolor\":\"white\",\"linecolor\":\"white\",\"ticks\":\"\"}},\"scene\":{\"xaxis\":{\"backgroundcolor\":\"#E5ECF6\",\"gridcolor\":\"white\",\"gridwidth\":2,\"linecolor\":\"white\",\"showbackground\":true,\"ticks\":\"\",\"zerolinecolor\":\"white\"},\"yaxis\":{\"backgroundcolor\":\"#E5ECF6\",\"gridcolor\":\"white\",\"gridwidth\":2,\"linecolor\":\"white\",\"showbackground\":true,\"ticks\":\"\",\"zerolinecolor\":\"white\"},\"zaxis\":{\"backgroundcolor\":\"#E5ECF6\",\"gridcolor\":\"white\",\"gridwidth\":2,\"linecolor\":\"white\",\"showbackground\":true,\"ticks\":\"\",\"zerolinecolor\":\"white\"}},\"shapedefaults\":{\"line\":{\"color\":\"#2a3f5f\"}},\"ternary\":{\"aaxis\":{\"gridcolor\":\"white\",\"linecolor\":\"white\",\"ticks\":\"\"},\"baxis\":{\"gridcolor\":\"white\",\"linecolor\":\"white\",\"ticks\":\"\"},\"bgcolor\":\"#E5ECF6\",\"caxis\":{\"gridcolor\":\"white\",\"linecolor\":\"white\",\"ticks\":\"\"}},\"title\":{\"x\":0.05},\"xaxis\":{\"automargin\":true,\"gridcolor\":\"white\",\"linecolor\":\"white\",\"ticks\":\"\",\"title\":{\"standoff\":15},\"zerolinecolor\":\"white\",\"zerolinewidth\":2},\"yaxis\":{\"automargin\":true,\"gridcolor\":\"white\",\"linecolor\":\"white\",\"ticks\":\"\",\"title\":{\"standoff\":15},\"zerolinecolor\":\"white\",\"zerolinewidth\":2}}},\"xaxis\":{\"anchor\":\"y\",\"domain\":[0.0,1.0],\"title\":{\"text\":\"AgeGroup\"},\"categoryorder\":\"category ascending\"},\"yaxis\":{\"anchor\":\"x\",\"domain\":[0.0,1.0],\"title\":{\"text\":\"count\"}},\"legend\":{\"title\":{\"text\":\"ResidentialArea\"},\"tracegroupgap\":0},\"margin\":{\"t\":60},\"barmode\":\"group\"},                        {\"responsive\": true}                    ).then(function(){\n",
       "                            \n",
       "var gd = document.getElementById('3e800760-2cff-4101-b97d-b8c79b6f64f1');\n",
       "var x = new MutationObserver(function (mutations, observer) {{\n",
       "        var display = window.getComputedStyle(gd).display;\n",
       "        if (!display || display === 'none') {{\n",
       "            console.log([gd, 'removed!']);\n",
       "            Plotly.purge(gd);\n",
       "            observer.disconnect();\n",
       "        }}\n",
       "}});\n",
       "\n",
       "// Listen for the removal of the full notebook cells\n",
       "var notebookContainer = gd.closest('#notebook-container');\n",
       "if (notebookContainer) {{\n",
       "    x.observe(notebookContainer, {childList: true});\n",
       "}}\n",
       "\n",
       "// Listen for the clearing of the current output cell\n",
       "var outputEl = gd.closest('.output');\n",
       "if (outputEl) {{\n",
       "    x.observe(outputEl, {childList: true});\n",
       "}}\n",
       "\n",
       "                        })                };                });            </script>        </div>"
      ]
     },
     "metadata": {},
     "output_type": "display_data"
    }
   ],
   "source": [
    "fig = px.histogram(df_viz_north, x=\"AgeGroup\", color=\"ResidentialArea\", barmode = 'group')\n",
    "fig.update_layout(xaxis={'categoryorder':'category ascending'})\n",
    "fig.show()"
   ]
  },
  {
   "cell_type": "code",
   "execution_count": 44,
   "metadata": {},
   "outputs": [
    {
     "data": {
      "application/vnd.plotly.v1+json": {
       "config": {
        "plotlyServerURL": "https://plot.ly"
       },
       "data": [
        {
         "alignmentgroup": "True",
         "bingroup": "x",
         "hovertemplate": "ResidentialArea=North-West of Riyadh<br>MonthlyIncomeLevel=%{x}<br>count=%{y}<extra></extra>",
         "legendgroup": "North-West of Riyadh",
         "marker": {
          "color": "#636efa",
          "pattern": {
           "shape": ""
          }
         },
         "name": "North-West of Riyadh",
         "offsetgroup": "North-West of Riyadh",
         "orientation": "v",
         "showlegend": true,
         "type": "histogram",
         "x": [
          ">20,000 SAR",
          ">20,000 SAR",
          ">20,000 SAR",
          ">20,000 SAR",
          "<7,000 SAR",
          "7,000-12,000SAR",
          "7,000-12,000SAR",
          ">20,000 SAR",
          "<7,000 SAR",
          ">20,000 SAR",
          ">20,000 SAR",
          "7,000-12,000SAR",
          "<7,000 SAR",
          "7,000-12,000SAR",
          "<7,000 SAR",
          "<7,000 SAR",
          "13,000-20,000SAR",
          "<7,000 SAR",
          "7,000-12,000SAR",
          "7,000-12,000SAR",
          "13,000-20,000SAR",
          ">20,000 SAR",
          "<7,000 SAR",
          "7,000-12,000SAR",
          "<7,000 SAR",
          "<7,000 SAR",
          ">20,000 SAR",
          "7,000-12,000SAR",
          ">20,000 SAR",
          "<7,000 SAR",
          ">20,000 SAR",
          "<7,000 SAR",
          "7,000-12,000SAR",
          "13,000-20,000SAR",
          "7,000-12,000SAR",
          "7,000-12,000SAR",
          "13,000-20,000SAR",
          "<7,000 SAR",
          ">20,000 SAR",
          ">20,000 SAR",
          "<7,000 SAR",
          ">20,000 SAR",
          "13,000-20,000SAR",
          "13,000-20,000SAR",
          "7,000-12,000SAR",
          "13,000-20,000SAR",
          "7,000-12,000SAR",
          ">20,000 SAR",
          ">20,000 SAR",
          "13,000-20,000SAR",
          ">20,000 SAR",
          "7,000-12,000SAR",
          "<7,000 SAR",
          "<7,000 SAR",
          ">20,000 SAR",
          "13,000-20,000SAR",
          "7,000-12,000SAR",
          ">20,000 SAR",
          "13,000-20,000SAR",
          "<7,000 SAR",
          "7,000-12,000SAR",
          ">20,000 SAR",
          "13,000-20,000SAR",
          ">20,000 SAR",
          ">20,000 SAR",
          ">20,000 SAR",
          "7,000-12,000SAR",
          "7,000-12,000SAR",
          ">20,000 SAR",
          "<7,000 SAR",
          "7,000-12,000SAR",
          ">20,000 SAR",
          "7,000-12,000SAR",
          "13,000-20,000SAR",
          "13,000-20,000SAR",
          ">20,000 SAR",
          ">20,000 SAR",
          ">20,000 SAR",
          "7,000-12,000SAR",
          "7,000-12,000SAR",
          ">20,000 SAR",
          ">20,000 SAR",
          "<7,000 SAR",
          "7,000-12,000SAR",
          "13,000-20,000SAR",
          "7,000-12,000SAR",
          ">20,000 SAR",
          "13,000-20,000SAR",
          ">20,000 SAR",
          "13,000-20,000SAR",
          "<7,000 SAR",
          "13,000-20,000SAR",
          ">20,000 SAR",
          "<7,000 SAR",
          "<7,000 SAR",
          "<7,000 SAR",
          ">20,000 SAR",
          ">20,000 SAR",
          "13,000-20,000SAR",
          "13,000-20,000SAR",
          ">20,000 SAR",
          "<7,000 SAR",
          "13,000-20,000SAR",
          ">20,000 SAR",
          "13,000-20,000SAR",
          "7,000-12,000SAR",
          ">20,000 SAR",
          "7,000-12,000SAR",
          "13,000-20,000SAR",
          "7,000-12,000SAR",
          "7,000-12,000SAR",
          "7,000-12,000SAR",
          "13,000-20,000SAR",
          "<7,000 SAR",
          "13,000-20,000SAR",
          "13,000-20,000SAR",
          ">20,000 SAR",
          "<7,000 SAR",
          ">20,000 SAR",
          "<7,000 SAR",
          "<7,000 SAR",
          "<7,000 SAR",
          "13,000-20,000SAR"
         ],
         "xaxis": "x",
         "yaxis": "y"
        },
        {
         "alignmentgroup": "True",
         "bingroup": "x",
         "hovertemplate": "ResidentialArea=North-Eest of Riyadh<br>MonthlyIncomeLevel=%{x}<br>count=%{y}<extra></extra>",
         "legendgroup": "North-Eest of Riyadh",
         "marker": {
          "color": "#EF553B",
          "pattern": {
           "shape": ""
          }
         },
         "name": "North-Eest of Riyadh",
         "offsetgroup": "North-Eest of Riyadh",
         "orientation": "v",
         "showlegend": true,
         "type": "histogram",
         "x": [
          ">20,000 SAR",
          "7,000-12,000SAR",
          ">20,000 SAR",
          "7,000-12,000SAR",
          ">20,000 SAR",
          "13,000-20,000SAR",
          "7,000-12,000SAR",
          "13,000-20,000SAR",
          "13,000-20,000SAR",
          "<7,000 SAR",
          "13,000-20,000SAR",
          ">20,000 SAR",
          "<7,000 SAR",
          "<7,000 SAR",
          ">20,000 SAR",
          "<7,000 SAR",
          "<7,000 SAR",
          "7,000-12,000SAR",
          "<7,000 SAR",
          "13,000-20,000SAR",
          ">20,000 SAR",
          "7,000-12,000SAR",
          "<7,000 SAR",
          ">20,000 SAR",
          "<7,000 SAR",
          ">20,000 SAR",
          "13,000-20,000SAR",
          "7,000-12,000SAR",
          "13,000-20,000SAR",
          ">20,000 SAR",
          ">20,000 SAR",
          "7,000-12,000SAR",
          "7,000-12,000SAR",
          "<7,000 SAR",
          "7,000-12,000SAR",
          "13,000-20,000SAR",
          ">20,000 SAR",
          ">20,000 SAR",
          "7,000-12,000SAR",
          "<7,000 SAR",
          "7,000-12,000SAR",
          "7,000-12,000SAR",
          "<7,000 SAR",
          "<7,000 SAR",
          "<7,000 SAR",
          "7,000-12,000SAR",
          "7,000-12,000SAR",
          ">20,000 SAR",
          "<7,000 SAR",
          "13,000-20,000SAR",
          "7,000-12,000SAR",
          "<7,000 SAR",
          "13,000-20,000SAR",
          "13,000-20,000SAR",
          "7,000-12,000SAR",
          ">20,000 SAR",
          "<7,000 SAR",
          "13,000-20,000SAR",
          "<7,000 SAR",
          ">20,000 SAR",
          ">20,000 SAR",
          ">20,000 SAR",
          "7,000-12,000SAR",
          ">20,000 SAR",
          "13,000-20,000SAR",
          "7,000-12,000SAR",
          "<7,000 SAR",
          "<7,000 SAR",
          ">20,000 SAR",
          "7,000-12,000SAR",
          "7,000-12,000SAR",
          ">20,000 SAR",
          "7,000-12,000SAR",
          ">20,000 SAR",
          "<7,000 SAR",
          "7,000-12,000SAR",
          ">20,000 SAR",
          "7,000-12,000SAR",
          "7,000-12,000SAR",
          "13,000-20,000SAR",
          "<7,000 SAR",
          ">20,000 SAR",
          "<7,000 SAR",
          ">20,000 SAR",
          "13,000-20,000SAR",
          "7,000-12,000SAR",
          "<7,000 SAR",
          "13,000-20,000SAR",
          "<7,000 SAR",
          "7,000-12,000SAR",
          "<7,000 SAR",
          "13,000-20,000SAR",
          "7,000-12,000SAR",
          "13,000-20,000SAR",
          "<7,000 SAR",
          ">20,000 SAR",
          ">20,000 SAR",
          "<7,000 SAR",
          "13,000-20,000SAR",
          "7,000-12,000SAR",
          "13,000-20,000SAR",
          ">20,000 SAR",
          ">20,000 SAR",
          "13,000-20,000SAR",
          ">20,000 SAR",
          ">20,000 SAR",
          "<7,000 SAR",
          "7,000-12,000SAR",
          ">20,000 SAR",
          ">20,000 SAR",
          "13,000-20,000SAR",
          ">20,000 SAR",
          "7,000-12,000SAR",
          ">20,000 SAR",
          ">20,000 SAR",
          "<7,000 SAR",
          ">20,000 SAR",
          "7,000-12,000SAR",
          "13,000-20,000SAR",
          ">20,000 SAR",
          "<7,000 SAR",
          "13,000-20,000SAR",
          ">20,000 SAR",
          ">20,000 SAR",
          "13,000-20,000SAR"
         ],
         "xaxis": "x",
         "yaxis": "y"
        }
       ],
       "layout": {
        "barmode": "group",
        "legend": {
         "title": {
          "text": "ResidentialArea"
         },
         "tracegroupgap": 0
        },
        "margin": {
         "t": 60
        },
        "template": {
         "data": {
          "bar": [
           {
            "error_x": {
             "color": "#2a3f5f"
            },
            "error_y": {
             "color": "#2a3f5f"
            },
            "marker": {
             "line": {
              "color": "#E5ECF6",
              "width": 0.5
             },
             "pattern": {
              "fillmode": "overlay",
              "size": 10,
              "solidity": 0.2
             }
            },
            "type": "bar"
           }
          ],
          "barpolar": [
           {
            "marker": {
             "line": {
              "color": "#E5ECF6",
              "width": 0.5
             },
             "pattern": {
              "fillmode": "overlay",
              "size": 10,
              "solidity": 0.2
             }
            },
            "type": "barpolar"
           }
          ],
          "carpet": [
           {
            "aaxis": {
             "endlinecolor": "#2a3f5f",
             "gridcolor": "white",
             "linecolor": "white",
             "minorgridcolor": "white",
             "startlinecolor": "#2a3f5f"
            },
            "baxis": {
             "endlinecolor": "#2a3f5f",
             "gridcolor": "white",
             "linecolor": "white",
             "minorgridcolor": "white",
             "startlinecolor": "#2a3f5f"
            },
            "type": "carpet"
           }
          ],
          "choropleth": [
           {
            "colorbar": {
             "outlinewidth": 0,
             "ticks": ""
            },
            "type": "choropleth"
           }
          ],
          "contour": [
           {
            "colorbar": {
             "outlinewidth": 0,
             "ticks": ""
            },
            "colorscale": [
             [
              0,
              "#0d0887"
             ],
             [
              0.1111111111111111,
              "#46039f"
             ],
             [
              0.2222222222222222,
              "#7201a8"
             ],
             [
              0.3333333333333333,
              "#9c179e"
             ],
             [
              0.4444444444444444,
              "#bd3786"
             ],
             [
              0.5555555555555556,
              "#d8576b"
             ],
             [
              0.6666666666666666,
              "#ed7953"
             ],
             [
              0.7777777777777778,
              "#fb9f3a"
             ],
             [
              0.8888888888888888,
              "#fdca26"
             ],
             [
              1,
              "#f0f921"
             ]
            ],
            "type": "contour"
           }
          ],
          "contourcarpet": [
           {
            "colorbar": {
             "outlinewidth": 0,
             "ticks": ""
            },
            "type": "contourcarpet"
           }
          ],
          "heatmap": [
           {
            "colorbar": {
             "outlinewidth": 0,
             "ticks": ""
            },
            "colorscale": [
             [
              0,
              "#0d0887"
             ],
             [
              0.1111111111111111,
              "#46039f"
             ],
             [
              0.2222222222222222,
              "#7201a8"
             ],
             [
              0.3333333333333333,
              "#9c179e"
             ],
             [
              0.4444444444444444,
              "#bd3786"
             ],
             [
              0.5555555555555556,
              "#d8576b"
             ],
             [
              0.6666666666666666,
              "#ed7953"
             ],
             [
              0.7777777777777778,
              "#fb9f3a"
             ],
             [
              0.8888888888888888,
              "#fdca26"
             ],
             [
              1,
              "#f0f921"
             ]
            ],
            "type": "heatmap"
           }
          ],
          "heatmapgl": [
           {
            "colorbar": {
             "outlinewidth": 0,
             "ticks": ""
            },
            "colorscale": [
             [
              0,
              "#0d0887"
             ],
             [
              0.1111111111111111,
              "#46039f"
             ],
             [
              0.2222222222222222,
              "#7201a8"
             ],
             [
              0.3333333333333333,
              "#9c179e"
             ],
             [
              0.4444444444444444,
              "#bd3786"
             ],
             [
              0.5555555555555556,
              "#d8576b"
             ],
             [
              0.6666666666666666,
              "#ed7953"
             ],
             [
              0.7777777777777778,
              "#fb9f3a"
             ],
             [
              0.8888888888888888,
              "#fdca26"
             ],
             [
              1,
              "#f0f921"
             ]
            ],
            "type": "heatmapgl"
           }
          ],
          "histogram": [
           {
            "marker": {
             "pattern": {
              "fillmode": "overlay",
              "size": 10,
              "solidity": 0.2
             }
            },
            "type": "histogram"
           }
          ],
          "histogram2d": [
           {
            "colorbar": {
             "outlinewidth": 0,
             "ticks": ""
            },
            "colorscale": [
             [
              0,
              "#0d0887"
             ],
             [
              0.1111111111111111,
              "#46039f"
             ],
             [
              0.2222222222222222,
              "#7201a8"
             ],
             [
              0.3333333333333333,
              "#9c179e"
             ],
             [
              0.4444444444444444,
              "#bd3786"
             ],
             [
              0.5555555555555556,
              "#d8576b"
             ],
             [
              0.6666666666666666,
              "#ed7953"
             ],
             [
              0.7777777777777778,
              "#fb9f3a"
             ],
             [
              0.8888888888888888,
              "#fdca26"
             ],
             [
              1,
              "#f0f921"
             ]
            ],
            "type": "histogram2d"
           }
          ],
          "histogram2dcontour": [
           {
            "colorbar": {
             "outlinewidth": 0,
             "ticks": ""
            },
            "colorscale": [
             [
              0,
              "#0d0887"
             ],
             [
              0.1111111111111111,
              "#46039f"
             ],
             [
              0.2222222222222222,
              "#7201a8"
             ],
             [
              0.3333333333333333,
              "#9c179e"
             ],
             [
              0.4444444444444444,
              "#bd3786"
             ],
             [
              0.5555555555555556,
              "#d8576b"
             ],
             [
              0.6666666666666666,
              "#ed7953"
             ],
             [
              0.7777777777777778,
              "#fb9f3a"
             ],
             [
              0.8888888888888888,
              "#fdca26"
             ],
             [
              1,
              "#f0f921"
             ]
            ],
            "type": "histogram2dcontour"
           }
          ],
          "mesh3d": [
           {
            "colorbar": {
             "outlinewidth": 0,
             "ticks": ""
            },
            "type": "mesh3d"
           }
          ],
          "parcoords": [
           {
            "line": {
             "colorbar": {
              "outlinewidth": 0,
              "ticks": ""
             }
            },
            "type": "parcoords"
           }
          ],
          "pie": [
           {
            "automargin": true,
            "type": "pie"
           }
          ],
          "scatter": [
           {
            "marker": {
             "colorbar": {
              "outlinewidth": 0,
              "ticks": ""
             }
            },
            "type": "scatter"
           }
          ],
          "scatter3d": [
           {
            "line": {
             "colorbar": {
              "outlinewidth": 0,
              "ticks": ""
             }
            },
            "marker": {
             "colorbar": {
              "outlinewidth": 0,
              "ticks": ""
             }
            },
            "type": "scatter3d"
           }
          ],
          "scattercarpet": [
           {
            "marker": {
             "colorbar": {
              "outlinewidth": 0,
              "ticks": ""
             }
            },
            "type": "scattercarpet"
           }
          ],
          "scattergeo": [
           {
            "marker": {
             "colorbar": {
              "outlinewidth": 0,
              "ticks": ""
             }
            },
            "type": "scattergeo"
           }
          ],
          "scattergl": [
           {
            "marker": {
             "colorbar": {
              "outlinewidth": 0,
              "ticks": ""
             }
            },
            "type": "scattergl"
           }
          ],
          "scattermapbox": [
           {
            "marker": {
             "colorbar": {
              "outlinewidth": 0,
              "ticks": ""
             }
            },
            "type": "scattermapbox"
           }
          ],
          "scatterpolar": [
           {
            "marker": {
             "colorbar": {
              "outlinewidth": 0,
              "ticks": ""
             }
            },
            "type": "scatterpolar"
           }
          ],
          "scatterpolargl": [
           {
            "marker": {
             "colorbar": {
              "outlinewidth": 0,
              "ticks": ""
             }
            },
            "type": "scatterpolargl"
           }
          ],
          "scatterternary": [
           {
            "marker": {
             "colorbar": {
              "outlinewidth": 0,
              "ticks": ""
             }
            },
            "type": "scatterternary"
           }
          ],
          "surface": [
           {
            "colorbar": {
             "outlinewidth": 0,
             "ticks": ""
            },
            "colorscale": [
             [
              0,
              "#0d0887"
             ],
             [
              0.1111111111111111,
              "#46039f"
             ],
             [
              0.2222222222222222,
              "#7201a8"
             ],
             [
              0.3333333333333333,
              "#9c179e"
             ],
             [
              0.4444444444444444,
              "#bd3786"
             ],
             [
              0.5555555555555556,
              "#d8576b"
             ],
             [
              0.6666666666666666,
              "#ed7953"
             ],
             [
              0.7777777777777778,
              "#fb9f3a"
             ],
             [
              0.8888888888888888,
              "#fdca26"
             ],
             [
              1,
              "#f0f921"
             ]
            ],
            "type": "surface"
           }
          ],
          "table": [
           {
            "cells": {
             "fill": {
              "color": "#EBF0F8"
             },
             "line": {
              "color": "white"
             }
            },
            "header": {
             "fill": {
              "color": "#C8D4E3"
             },
             "line": {
              "color": "white"
             }
            },
            "type": "table"
           }
          ]
         },
         "layout": {
          "annotationdefaults": {
           "arrowcolor": "#2a3f5f",
           "arrowhead": 0,
           "arrowwidth": 1
          },
          "autotypenumbers": "strict",
          "coloraxis": {
           "colorbar": {
            "outlinewidth": 0,
            "ticks": ""
           }
          },
          "colorscale": {
           "diverging": [
            [
             0,
             "#8e0152"
            ],
            [
             0.1,
             "#c51b7d"
            ],
            [
             0.2,
             "#de77ae"
            ],
            [
             0.3,
             "#f1b6da"
            ],
            [
             0.4,
             "#fde0ef"
            ],
            [
             0.5,
             "#f7f7f7"
            ],
            [
             0.6,
             "#e6f5d0"
            ],
            [
             0.7,
             "#b8e186"
            ],
            [
             0.8,
             "#7fbc41"
            ],
            [
             0.9,
             "#4d9221"
            ],
            [
             1,
             "#276419"
            ]
           ],
           "sequential": [
            [
             0,
             "#0d0887"
            ],
            [
             0.1111111111111111,
             "#46039f"
            ],
            [
             0.2222222222222222,
             "#7201a8"
            ],
            [
             0.3333333333333333,
             "#9c179e"
            ],
            [
             0.4444444444444444,
             "#bd3786"
            ],
            [
             0.5555555555555556,
             "#d8576b"
            ],
            [
             0.6666666666666666,
             "#ed7953"
            ],
            [
             0.7777777777777778,
             "#fb9f3a"
            ],
            [
             0.8888888888888888,
             "#fdca26"
            ],
            [
             1,
             "#f0f921"
            ]
           ],
           "sequentialminus": [
            [
             0,
             "#0d0887"
            ],
            [
             0.1111111111111111,
             "#46039f"
            ],
            [
             0.2222222222222222,
             "#7201a8"
            ],
            [
             0.3333333333333333,
             "#9c179e"
            ],
            [
             0.4444444444444444,
             "#bd3786"
            ],
            [
             0.5555555555555556,
             "#d8576b"
            ],
            [
             0.6666666666666666,
             "#ed7953"
            ],
            [
             0.7777777777777778,
             "#fb9f3a"
            ],
            [
             0.8888888888888888,
             "#fdca26"
            ],
            [
             1,
             "#f0f921"
            ]
           ]
          },
          "colorway": [
           "#636efa",
           "#EF553B",
           "#00cc96",
           "#ab63fa",
           "#FFA15A",
           "#19d3f3",
           "#FF6692",
           "#B6E880",
           "#FF97FF",
           "#FECB52"
          ],
          "font": {
           "color": "#2a3f5f"
          },
          "geo": {
           "bgcolor": "white",
           "lakecolor": "white",
           "landcolor": "#E5ECF6",
           "showlakes": true,
           "showland": true,
           "subunitcolor": "white"
          },
          "hoverlabel": {
           "align": "left"
          },
          "hovermode": "closest",
          "mapbox": {
           "style": "light"
          },
          "paper_bgcolor": "white",
          "plot_bgcolor": "#E5ECF6",
          "polar": {
           "angularaxis": {
            "gridcolor": "white",
            "linecolor": "white",
            "ticks": ""
           },
           "bgcolor": "#E5ECF6",
           "radialaxis": {
            "gridcolor": "white",
            "linecolor": "white",
            "ticks": ""
           }
          },
          "scene": {
           "xaxis": {
            "backgroundcolor": "#E5ECF6",
            "gridcolor": "white",
            "gridwidth": 2,
            "linecolor": "white",
            "showbackground": true,
            "ticks": "",
            "zerolinecolor": "white"
           },
           "yaxis": {
            "backgroundcolor": "#E5ECF6",
            "gridcolor": "white",
            "gridwidth": 2,
            "linecolor": "white",
            "showbackground": true,
            "ticks": "",
            "zerolinecolor": "white"
           },
           "zaxis": {
            "backgroundcolor": "#E5ECF6",
            "gridcolor": "white",
            "gridwidth": 2,
            "linecolor": "white",
            "showbackground": true,
            "ticks": "",
            "zerolinecolor": "white"
           }
          },
          "shapedefaults": {
           "line": {
            "color": "#2a3f5f"
           }
          },
          "ternary": {
           "aaxis": {
            "gridcolor": "white",
            "linecolor": "white",
            "ticks": ""
           },
           "baxis": {
            "gridcolor": "white",
            "linecolor": "white",
            "ticks": ""
           },
           "bgcolor": "#E5ECF6",
           "caxis": {
            "gridcolor": "white",
            "linecolor": "white",
            "ticks": ""
           }
          },
          "title": {
           "x": 0.05
          },
          "xaxis": {
           "automargin": true,
           "gridcolor": "white",
           "linecolor": "white",
           "ticks": "",
           "title": {
            "standoff": 15
           },
           "zerolinecolor": "white",
           "zerolinewidth": 2
          },
          "yaxis": {
           "automargin": true,
           "gridcolor": "white",
           "linecolor": "white",
           "ticks": "",
           "title": {
            "standoff": 15
           },
           "zerolinecolor": "white",
           "zerolinewidth": 2
          }
         }
        },
        "xaxis": {
         "anchor": "y",
         "categoryorder": "category descending",
         "domain": [
          0,
          1
         ],
         "title": {
          "text": "MonthlyIncomeLevel"
         }
        },
        "yaxis": {
         "anchor": "x",
         "domain": [
          0,
          1
         ],
         "title": {
          "text": "count"
         }
        }
       }
      },
      "text/html": [
       "<div>                            <div id=\"67ea1fbc-17c8-4422-869f-ce841069eafc\" class=\"plotly-graph-div\" style=\"height:525px; width:100%;\"></div>            <script type=\"text/javascript\">                require([\"plotly\"], function(Plotly) {                    window.PLOTLYENV=window.PLOTLYENV || {};                                    if (document.getElementById(\"67ea1fbc-17c8-4422-869f-ce841069eafc\")) {                    Plotly.newPlot(                        \"67ea1fbc-17c8-4422-869f-ce841069eafc\",                        [{\"alignmentgroup\":\"True\",\"bingroup\":\"x\",\"hovertemplate\":\"ResidentialArea=North-West of Riyadh<br>MonthlyIncomeLevel=%{x}<br>count=%{y}<extra></extra>\",\"legendgroup\":\"North-West of Riyadh\",\"marker\":{\"color\":\"#636efa\",\"pattern\":{\"shape\":\"\"}},\"name\":\"North-West of Riyadh\",\"offsetgroup\":\"North-West of Riyadh\",\"orientation\":\"v\",\"showlegend\":true,\"x\":[\">20,000 SAR\",\">20,000 SAR\",\">20,000 SAR\",\">20,000 SAR\",\"<7,000 SAR\",\"7,000-12,000SAR\",\"7,000-12,000SAR\",\">20,000 SAR\",\"<7,000 SAR\",\">20,000 SAR\",\">20,000 SAR\",\"7,000-12,000SAR\",\"<7,000 SAR\",\"7,000-12,000SAR\",\"<7,000 SAR\",\"<7,000 SAR\",\"13,000-20,000SAR\",\"<7,000 SAR\",\"7,000-12,000SAR\",\"7,000-12,000SAR\",\"13,000-20,000SAR\",\">20,000 SAR\",\"<7,000 SAR\",\"7,000-12,000SAR\",\"<7,000 SAR\",\"<7,000 SAR\",\">20,000 SAR\",\"7,000-12,000SAR\",\">20,000 SAR\",\"<7,000 SAR\",\">20,000 SAR\",\"<7,000 SAR\",\"7,000-12,000SAR\",\"13,000-20,000SAR\",\"7,000-12,000SAR\",\"7,000-12,000SAR\",\"13,000-20,000SAR\",\"<7,000 SAR\",\">20,000 SAR\",\">20,000 SAR\",\"<7,000 SAR\",\">20,000 SAR\",\"13,000-20,000SAR\",\"13,000-20,000SAR\",\"7,000-12,000SAR\",\"13,000-20,000SAR\",\"7,000-12,000SAR\",\">20,000 SAR\",\">20,000 SAR\",\"13,000-20,000SAR\",\">20,000 SAR\",\"7,000-12,000SAR\",\"<7,000 SAR\",\"<7,000 SAR\",\">20,000 SAR\",\"13,000-20,000SAR\",\"7,000-12,000SAR\",\">20,000 SAR\",\"13,000-20,000SAR\",\"<7,000 SAR\",\"7,000-12,000SAR\",\">20,000 SAR\",\"13,000-20,000SAR\",\">20,000 SAR\",\">20,000 SAR\",\">20,000 SAR\",\"7,000-12,000SAR\",\"7,000-12,000SAR\",\">20,000 SAR\",\"<7,000 SAR\",\"7,000-12,000SAR\",\">20,000 SAR\",\"7,000-12,000SAR\",\"13,000-20,000SAR\",\"13,000-20,000SAR\",\">20,000 SAR\",\">20,000 SAR\",\">20,000 SAR\",\"7,000-12,000SAR\",\"7,000-12,000SAR\",\">20,000 SAR\",\">20,000 SAR\",\"<7,000 SAR\",\"7,000-12,000SAR\",\"13,000-20,000SAR\",\"7,000-12,000SAR\",\">20,000 SAR\",\"13,000-20,000SAR\",\">20,000 SAR\",\"13,000-20,000SAR\",\"<7,000 SAR\",\"13,000-20,000SAR\",\">20,000 SAR\",\"<7,000 SAR\",\"<7,000 SAR\",\"<7,000 SAR\",\">20,000 SAR\",\">20,000 SAR\",\"13,000-20,000SAR\",\"13,000-20,000SAR\",\">20,000 SAR\",\"<7,000 SAR\",\"13,000-20,000SAR\",\">20,000 SAR\",\"13,000-20,000SAR\",\"7,000-12,000SAR\",\">20,000 SAR\",\"7,000-12,000SAR\",\"13,000-20,000SAR\",\"7,000-12,000SAR\",\"7,000-12,000SAR\",\"7,000-12,000SAR\",\"13,000-20,000SAR\",\"<7,000 SAR\",\"13,000-20,000SAR\",\"13,000-20,000SAR\",\">20,000 SAR\",\"<7,000 SAR\",\">20,000 SAR\",\"<7,000 SAR\",\"<7,000 SAR\",\"<7,000 SAR\",\"13,000-20,000SAR\"],\"xaxis\":\"x\",\"yaxis\":\"y\",\"type\":\"histogram\"},{\"alignmentgroup\":\"True\",\"bingroup\":\"x\",\"hovertemplate\":\"ResidentialArea=North-Eest of Riyadh<br>MonthlyIncomeLevel=%{x}<br>count=%{y}<extra></extra>\",\"legendgroup\":\"North-Eest of Riyadh\",\"marker\":{\"color\":\"#EF553B\",\"pattern\":{\"shape\":\"\"}},\"name\":\"North-Eest of Riyadh\",\"offsetgroup\":\"North-Eest of Riyadh\",\"orientation\":\"v\",\"showlegend\":true,\"x\":[\">20,000 SAR\",\"7,000-12,000SAR\",\">20,000 SAR\",\"7,000-12,000SAR\",\">20,000 SAR\",\"13,000-20,000SAR\",\"7,000-12,000SAR\",\"13,000-20,000SAR\",\"13,000-20,000SAR\",\"<7,000 SAR\",\"13,000-20,000SAR\",\">20,000 SAR\",\"<7,000 SAR\",\"<7,000 SAR\",\">20,000 SAR\",\"<7,000 SAR\",\"<7,000 SAR\",\"7,000-12,000SAR\",\"<7,000 SAR\",\"13,000-20,000SAR\",\">20,000 SAR\",\"7,000-12,000SAR\",\"<7,000 SAR\",\">20,000 SAR\",\"<7,000 SAR\",\">20,000 SAR\",\"13,000-20,000SAR\",\"7,000-12,000SAR\",\"13,000-20,000SAR\",\">20,000 SAR\",\">20,000 SAR\",\"7,000-12,000SAR\",\"7,000-12,000SAR\",\"<7,000 SAR\",\"7,000-12,000SAR\",\"13,000-20,000SAR\",\">20,000 SAR\",\">20,000 SAR\",\"7,000-12,000SAR\",\"<7,000 SAR\",\"7,000-12,000SAR\",\"7,000-12,000SAR\",\"<7,000 SAR\",\"<7,000 SAR\",\"<7,000 SAR\",\"7,000-12,000SAR\",\"7,000-12,000SAR\",\">20,000 SAR\",\"<7,000 SAR\",\"13,000-20,000SAR\",\"7,000-12,000SAR\",\"<7,000 SAR\",\"13,000-20,000SAR\",\"13,000-20,000SAR\",\"7,000-12,000SAR\",\">20,000 SAR\",\"<7,000 SAR\",\"13,000-20,000SAR\",\"<7,000 SAR\",\">20,000 SAR\",\">20,000 SAR\",\">20,000 SAR\",\"7,000-12,000SAR\",\">20,000 SAR\",\"13,000-20,000SAR\",\"7,000-12,000SAR\",\"<7,000 SAR\",\"<7,000 SAR\",\">20,000 SAR\",\"7,000-12,000SAR\",\"7,000-12,000SAR\",\">20,000 SAR\",\"7,000-12,000SAR\",\">20,000 SAR\",\"<7,000 SAR\",\"7,000-12,000SAR\",\">20,000 SAR\",\"7,000-12,000SAR\",\"7,000-12,000SAR\",\"13,000-20,000SAR\",\"<7,000 SAR\",\">20,000 SAR\",\"<7,000 SAR\",\">20,000 SAR\",\"13,000-20,000SAR\",\"7,000-12,000SAR\",\"<7,000 SAR\",\"13,000-20,000SAR\",\"<7,000 SAR\",\"7,000-12,000SAR\",\"<7,000 SAR\",\"13,000-20,000SAR\",\"7,000-12,000SAR\",\"13,000-20,000SAR\",\"<7,000 SAR\",\">20,000 SAR\",\">20,000 SAR\",\"<7,000 SAR\",\"13,000-20,000SAR\",\"7,000-12,000SAR\",\"13,000-20,000SAR\",\">20,000 SAR\",\">20,000 SAR\",\"13,000-20,000SAR\",\">20,000 SAR\",\">20,000 SAR\",\"<7,000 SAR\",\"7,000-12,000SAR\",\">20,000 SAR\",\">20,000 SAR\",\"13,000-20,000SAR\",\">20,000 SAR\",\"7,000-12,000SAR\",\">20,000 SAR\",\">20,000 SAR\",\"<7,000 SAR\",\">20,000 SAR\",\"7,000-12,000SAR\",\"13,000-20,000SAR\",\">20,000 SAR\",\"<7,000 SAR\",\"13,000-20,000SAR\",\">20,000 SAR\",\">20,000 SAR\",\"13,000-20,000SAR\"],\"xaxis\":\"x\",\"yaxis\":\"y\",\"type\":\"histogram\"}],                        {\"template\":{\"data\":{\"bar\":[{\"error_x\":{\"color\":\"#2a3f5f\"},\"error_y\":{\"color\":\"#2a3f5f\"},\"marker\":{\"line\":{\"color\":\"#E5ECF6\",\"width\":0.5},\"pattern\":{\"fillmode\":\"overlay\",\"size\":10,\"solidity\":0.2}},\"type\":\"bar\"}],\"barpolar\":[{\"marker\":{\"line\":{\"color\":\"#E5ECF6\",\"width\":0.5},\"pattern\":{\"fillmode\":\"overlay\",\"size\":10,\"solidity\":0.2}},\"type\":\"barpolar\"}],\"carpet\":[{\"aaxis\":{\"endlinecolor\":\"#2a3f5f\",\"gridcolor\":\"white\",\"linecolor\":\"white\",\"minorgridcolor\":\"white\",\"startlinecolor\":\"#2a3f5f\"},\"baxis\":{\"endlinecolor\":\"#2a3f5f\",\"gridcolor\":\"white\",\"linecolor\":\"white\",\"minorgridcolor\":\"white\",\"startlinecolor\":\"#2a3f5f\"},\"type\":\"carpet\"}],\"choropleth\":[{\"colorbar\":{\"outlinewidth\":0,\"ticks\":\"\"},\"type\":\"choropleth\"}],\"contour\":[{\"colorbar\":{\"outlinewidth\":0,\"ticks\":\"\"},\"colorscale\":[[0.0,\"#0d0887\"],[0.1111111111111111,\"#46039f\"],[0.2222222222222222,\"#7201a8\"],[0.3333333333333333,\"#9c179e\"],[0.4444444444444444,\"#bd3786\"],[0.5555555555555556,\"#d8576b\"],[0.6666666666666666,\"#ed7953\"],[0.7777777777777778,\"#fb9f3a\"],[0.8888888888888888,\"#fdca26\"],[1.0,\"#f0f921\"]],\"type\":\"contour\"}],\"contourcarpet\":[{\"colorbar\":{\"outlinewidth\":0,\"ticks\":\"\"},\"type\":\"contourcarpet\"}],\"heatmap\":[{\"colorbar\":{\"outlinewidth\":0,\"ticks\":\"\"},\"colorscale\":[[0.0,\"#0d0887\"],[0.1111111111111111,\"#46039f\"],[0.2222222222222222,\"#7201a8\"],[0.3333333333333333,\"#9c179e\"],[0.4444444444444444,\"#bd3786\"],[0.5555555555555556,\"#d8576b\"],[0.6666666666666666,\"#ed7953\"],[0.7777777777777778,\"#fb9f3a\"],[0.8888888888888888,\"#fdca26\"],[1.0,\"#f0f921\"]],\"type\":\"heatmap\"}],\"heatmapgl\":[{\"colorbar\":{\"outlinewidth\":0,\"ticks\":\"\"},\"colorscale\":[[0.0,\"#0d0887\"],[0.1111111111111111,\"#46039f\"],[0.2222222222222222,\"#7201a8\"],[0.3333333333333333,\"#9c179e\"],[0.4444444444444444,\"#bd3786\"],[0.5555555555555556,\"#d8576b\"],[0.6666666666666666,\"#ed7953\"],[0.7777777777777778,\"#fb9f3a\"],[0.8888888888888888,\"#fdca26\"],[1.0,\"#f0f921\"]],\"type\":\"heatmapgl\"}],\"histogram\":[{\"marker\":{\"pattern\":{\"fillmode\":\"overlay\",\"size\":10,\"solidity\":0.2}},\"type\":\"histogram\"}],\"histogram2d\":[{\"colorbar\":{\"outlinewidth\":0,\"ticks\":\"\"},\"colorscale\":[[0.0,\"#0d0887\"],[0.1111111111111111,\"#46039f\"],[0.2222222222222222,\"#7201a8\"],[0.3333333333333333,\"#9c179e\"],[0.4444444444444444,\"#bd3786\"],[0.5555555555555556,\"#d8576b\"],[0.6666666666666666,\"#ed7953\"],[0.7777777777777778,\"#fb9f3a\"],[0.8888888888888888,\"#fdca26\"],[1.0,\"#f0f921\"]],\"type\":\"histogram2d\"}],\"histogram2dcontour\":[{\"colorbar\":{\"outlinewidth\":0,\"ticks\":\"\"},\"colorscale\":[[0.0,\"#0d0887\"],[0.1111111111111111,\"#46039f\"],[0.2222222222222222,\"#7201a8\"],[0.3333333333333333,\"#9c179e\"],[0.4444444444444444,\"#bd3786\"],[0.5555555555555556,\"#d8576b\"],[0.6666666666666666,\"#ed7953\"],[0.7777777777777778,\"#fb9f3a\"],[0.8888888888888888,\"#fdca26\"],[1.0,\"#f0f921\"]],\"type\":\"histogram2dcontour\"}],\"mesh3d\":[{\"colorbar\":{\"outlinewidth\":0,\"ticks\":\"\"},\"type\":\"mesh3d\"}],\"parcoords\":[{\"line\":{\"colorbar\":{\"outlinewidth\":0,\"ticks\":\"\"}},\"type\":\"parcoords\"}],\"pie\":[{\"automargin\":true,\"type\":\"pie\"}],\"scatter\":[{\"marker\":{\"colorbar\":{\"outlinewidth\":0,\"ticks\":\"\"}},\"type\":\"scatter\"}],\"scatter3d\":[{\"line\":{\"colorbar\":{\"outlinewidth\":0,\"ticks\":\"\"}},\"marker\":{\"colorbar\":{\"outlinewidth\":0,\"ticks\":\"\"}},\"type\":\"scatter3d\"}],\"scattercarpet\":[{\"marker\":{\"colorbar\":{\"outlinewidth\":0,\"ticks\":\"\"}},\"type\":\"scattercarpet\"}],\"scattergeo\":[{\"marker\":{\"colorbar\":{\"outlinewidth\":0,\"ticks\":\"\"}},\"type\":\"scattergeo\"}],\"scattergl\":[{\"marker\":{\"colorbar\":{\"outlinewidth\":0,\"ticks\":\"\"}},\"type\":\"scattergl\"}],\"scattermapbox\":[{\"marker\":{\"colorbar\":{\"outlinewidth\":0,\"ticks\":\"\"}},\"type\":\"scattermapbox\"}],\"scatterpolar\":[{\"marker\":{\"colorbar\":{\"outlinewidth\":0,\"ticks\":\"\"}},\"type\":\"scatterpolar\"}],\"scatterpolargl\":[{\"marker\":{\"colorbar\":{\"outlinewidth\":0,\"ticks\":\"\"}},\"type\":\"scatterpolargl\"}],\"scatterternary\":[{\"marker\":{\"colorbar\":{\"outlinewidth\":0,\"ticks\":\"\"}},\"type\":\"scatterternary\"}],\"surface\":[{\"colorbar\":{\"outlinewidth\":0,\"ticks\":\"\"},\"colorscale\":[[0.0,\"#0d0887\"],[0.1111111111111111,\"#46039f\"],[0.2222222222222222,\"#7201a8\"],[0.3333333333333333,\"#9c179e\"],[0.4444444444444444,\"#bd3786\"],[0.5555555555555556,\"#d8576b\"],[0.6666666666666666,\"#ed7953\"],[0.7777777777777778,\"#fb9f3a\"],[0.8888888888888888,\"#fdca26\"],[1.0,\"#f0f921\"]],\"type\":\"surface\"}],\"table\":[{\"cells\":{\"fill\":{\"color\":\"#EBF0F8\"},\"line\":{\"color\":\"white\"}},\"header\":{\"fill\":{\"color\":\"#C8D4E3\"},\"line\":{\"color\":\"white\"}},\"type\":\"table\"}]},\"layout\":{\"annotationdefaults\":{\"arrowcolor\":\"#2a3f5f\",\"arrowhead\":0,\"arrowwidth\":1},\"autotypenumbers\":\"strict\",\"coloraxis\":{\"colorbar\":{\"outlinewidth\":0,\"ticks\":\"\"}},\"colorscale\":{\"diverging\":[[0,\"#8e0152\"],[0.1,\"#c51b7d\"],[0.2,\"#de77ae\"],[0.3,\"#f1b6da\"],[0.4,\"#fde0ef\"],[0.5,\"#f7f7f7\"],[0.6,\"#e6f5d0\"],[0.7,\"#b8e186\"],[0.8,\"#7fbc41\"],[0.9,\"#4d9221\"],[1,\"#276419\"]],\"sequential\":[[0.0,\"#0d0887\"],[0.1111111111111111,\"#46039f\"],[0.2222222222222222,\"#7201a8\"],[0.3333333333333333,\"#9c179e\"],[0.4444444444444444,\"#bd3786\"],[0.5555555555555556,\"#d8576b\"],[0.6666666666666666,\"#ed7953\"],[0.7777777777777778,\"#fb9f3a\"],[0.8888888888888888,\"#fdca26\"],[1.0,\"#f0f921\"]],\"sequentialminus\":[[0.0,\"#0d0887\"],[0.1111111111111111,\"#46039f\"],[0.2222222222222222,\"#7201a8\"],[0.3333333333333333,\"#9c179e\"],[0.4444444444444444,\"#bd3786\"],[0.5555555555555556,\"#d8576b\"],[0.6666666666666666,\"#ed7953\"],[0.7777777777777778,\"#fb9f3a\"],[0.8888888888888888,\"#fdca26\"],[1.0,\"#f0f921\"]]},\"colorway\":[\"#636efa\",\"#EF553B\",\"#00cc96\",\"#ab63fa\",\"#FFA15A\",\"#19d3f3\",\"#FF6692\",\"#B6E880\",\"#FF97FF\",\"#FECB52\"],\"font\":{\"color\":\"#2a3f5f\"},\"geo\":{\"bgcolor\":\"white\",\"lakecolor\":\"white\",\"landcolor\":\"#E5ECF6\",\"showlakes\":true,\"showland\":true,\"subunitcolor\":\"white\"},\"hoverlabel\":{\"align\":\"left\"},\"hovermode\":\"closest\",\"mapbox\":{\"style\":\"light\"},\"paper_bgcolor\":\"white\",\"plot_bgcolor\":\"#E5ECF6\",\"polar\":{\"angularaxis\":{\"gridcolor\":\"white\",\"linecolor\":\"white\",\"ticks\":\"\"},\"bgcolor\":\"#E5ECF6\",\"radialaxis\":{\"gridcolor\":\"white\",\"linecolor\":\"white\",\"ticks\":\"\"}},\"scene\":{\"xaxis\":{\"backgroundcolor\":\"#E5ECF6\",\"gridcolor\":\"white\",\"gridwidth\":2,\"linecolor\":\"white\",\"showbackground\":true,\"ticks\":\"\",\"zerolinecolor\":\"white\"},\"yaxis\":{\"backgroundcolor\":\"#E5ECF6\",\"gridcolor\":\"white\",\"gridwidth\":2,\"linecolor\":\"white\",\"showbackground\":true,\"ticks\":\"\",\"zerolinecolor\":\"white\"},\"zaxis\":{\"backgroundcolor\":\"#E5ECF6\",\"gridcolor\":\"white\",\"gridwidth\":2,\"linecolor\":\"white\",\"showbackground\":true,\"ticks\":\"\",\"zerolinecolor\":\"white\"}},\"shapedefaults\":{\"line\":{\"color\":\"#2a3f5f\"}},\"ternary\":{\"aaxis\":{\"gridcolor\":\"white\",\"linecolor\":\"white\",\"ticks\":\"\"},\"baxis\":{\"gridcolor\":\"white\",\"linecolor\":\"white\",\"ticks\":\"\"},\"bgcolor\":\"#E5ECF6\",\"caxis\":{\"gridcolor\":\"white\",\"linecolor\":\"white\",\"ticks\":\"\"}},\"title\":{\"x\":0.05},\"xaxis\":{\"automargin\":true,\"gridcolor\":\"white\",\"linecolor\":\"white\",\"ticks\":\"\",\"title\":{\"standoff\":15},\"zerolinecolor\":\"white\",\"zerolinewidth\":2},\"yaxis\":{\"automargin\":true,\"gridcolor\":\"white\",\"linecolor\":\"white\",\"ticks\":\"\",\"title\":{\"standoff\":15},\"zerolinecolor\":\"white\",\"zerolinewidth\":2}}},\"xaxis\":{\"anchor\":\"y\",\"domain\":[0.0,1.0],\"title\":{\"text\":\"MonthlyIncomeLevel\"},\"categoryorder\":\"category descending\"},\"yaxis\":{\"anchor\":\"x\",\"domain\":[0.0,1.0],\"title\":{\"text\":\"count\"}},\"legend\":{\"title\":{\"text\":\"ResidentialArea\"},\"tracegroupgap\":0},\"margin\":{\"t\":60},\"barmode\":\"group\"},                        {\"responsive\": true}                    ).then(function(){\n",
       "                            \n",
       "var gd = document.getElementById('67ea1fbc-17c8-4422-869f-ce841069eafc');\n",
       "var x = new MutationObserver(function (mutations, observer) {{\n",
       "        var display = window.getComputedStyle(gd).display;\n",
       "        if (!display || display === 'none') {{\n",
       "            console.log([gd, 'removed!']);\n",
       "            Plotly.purge(gd);\n",
       "            observer.disconnect();\n",
       "        }}\n",
       "}});\n",
       "\n",
       "// Listen for the removal of the full notebook cells\n",
       "var notebookContainer = gd.closest('#notebook-container');\n",
       "if (notebookContainer) {{\n",
       "    x.observe(notebookContainer, {childList: true});\n",
       "}}\n",
       "\n",
       "// Listen for the clearing of the current output cell\n",
       "var outputEl = gd.closest('.output');\n",
       "if (outputEl) {{\n",
       "    x.observe(outputEl, {childList: true});\n",
       "}}\n",
       "\n",
       "                        })                };                });            </script>        </div>"
      ]
     },
     "metadata": {},
     "output_type": "display_data"
    }
   ],
   "source": [
    "fig = px.histogram(df_viz_north, x=\"MonthlyIncomeLevel\"\n",
    "                               , color=\"ResidentialArea\", barmode = 'group')\n",
    "fig.update_layout(xaxis={'categoryorder':'category descending'})\n",
    "fig.show()"
   ]
  },
  {
   "cell_type": "code",
   "execution_count": 45,
   "metadata": {},
   "outputs": [
    {
     "data": {
      "text/plain": [
       "(248, 9)"
      ]
     },
     "execution_count": 45,
     "metadata": {},
     "output_type": "execute_result"
    }
   ],
   "source": [
    "df_viz_north.shape"
   ]
  },
  {
   "cell_type": "markdown",
   "metadata": {},
   "source": [
    "# Takeaway 3"
   ]
  },
  {
   "cell_type": "markdown",
   "metadata": {},
   "source": [
    "### How much should they price entrance ticket"
   ]
  },
  {
   "cell_type": "code",
   "execution_count": 46,
   "metadata": {},
   "outputs": [
    {
     "data": {
      "application/vnd.plotly.v1+json": {
       "config": {
        "plotlyServerURL": "https://plot.ly"
       },
       "data": [
        {
         "alignmentgroup": "True",
         "bingroup": "x",
         "hovertemplate": "MonthlyIncomeLevel=%{x}<br>count=%{y}<extra></extra>",
         "legendgroup": "",
         "marker": {
          "color": "#636efa",
          "pattern": {
           "shape": ""
          }
         },
         "name": "",
         "offsetgroup": "",
         "orientation": "v",
         "showlegend": false,
         "type": "histogram",
         "x": [
          ">20,000 SAR",
          ">20,000 SAR",
          "7,000-12,000SAR",
          ">20,000 SAR",
          ">20,000 SAR",
          ">20,000 SAR",
          "7,000-12,000SAR",
          "<7,000 SAR",
          ">20,000 SAR",
          ">20,000 SAR",
          "<7,000 SAR",
          "<7,000 SAR",
          "7,000-12,000SAR",
          ">20,000 SAR",
          ">20,000 SAR",
          "7,000-12,000SAR",
          "7,000-12,000SAR",
          "13,000-20,000SAR",
          ">20,000 SAR",
          "<7,000 SAR",
          "7,000-12,000SAR",
          ">20,000 SAR",
          "7,000-12,000SAR",
          "13,000-20,000SAR",
          ">20,000 SAR",
          "13,000-20,000SAR",
          ">20,000 SAR",
          "13,000-20,000SAR",
          "<7,000 SAR",
          ">20,000 SAR",
          "<7,000 SAR",
          ">20,000 SAR",
          "7,000-12,000SAR",
          "<7,000 SAR",
          "7,000-12,000SAR",
          "13,000-20,000SAR",
          ">20,000 SAR",
          ">20,000 SAR",
          "7,000-12,000SAR",
          ">20,000 SAR",
          "<7,000 SAR",
          "<7,000 SAR",
          "<7,000 SAR",
          ">20,000 SAR",
          "<7,000 SAR",
          "7,000-12,000SAR",
          "<7,000 SAR",
          "7,000-12,000SAR",
          "<7,000 SAR",
          "<7,000 SAR",
          "<7,000 SAR",
          ">20,000 SAR",
          "<7,000 SAR",
          "<7,000 SAR",
          "7,000-12,000SAR",
          ">20,000 SAR",
          ">20,000 SAR",
          "<7,000 SAR",
          ">20,000 SAR",
          "7,000-12,000SAR",
          ">20,000 SAR",
          "7,000-12,000SAR",
          "13,000-20,000SAR",
          "<7,000 SAR",
          "7,000-12,000SAR",
          "<7,000 SAR",
          ">20,000 SAR",
          "7,000-12,000SAR",
          "<7,000 SAR",
          ">20,000 SAR",
          "<7,000 SAR",
          "13,000-20,000SAR",
          "<7,000 SAR",
          ">20,000 SAR",
          "<7,000 SAR",
          ">20,000 SAR",
          "13,000-20,000SAR",
          ">20,000 SAR",
          ">20,000 SAR",
          "<7,000 SAR",
          "7,000-12,000SAR",
          "7,000-12,000SAR",
          "<7,000 SAR",
          "13,000-20,000SAR",
          "7,000-12,000SAR",
          "<7,000 SAR",
          ">20,000 SAR",
          "13,000-20,000SAR",
          ">20,000 SAR",
          "<7,000 SAR",
          ">20,000 SAR",
          "7,000-12,000SAR",
          ">20,000 SAR",
          "<7,000 SAR",
          "13,000-20,000SAR",
          "13,000-20,000SAR",
          "<7,000 SAR",
          "<7,000 SAR",
          "7,000-12,000SAR",
          "<7,000 SAR",
          "<7,000 SAR",
          "7,000-12,000SAR",
          "7,000-12,000SAR",
          ">20,000 SAR",
          "<7,000 SAR",
          "13,000-20,000SAR",
          "13,000-20,000SAR",
          "13,000-20,000SAR",
          "7,000-12,000SAR",
          ">20,000 SAR",
          "7,000-12,000SAR",
          "<7,000 SAR",
          ">20,000 SAR",
          "<7,000 SAR",
          ">20,000 SAR",
          "7,000-12,000SAR",
          "7,000-12,000SAR",
          ">20,000 SAR",
          "<7,000 SAR",
          ">20,000 SAR",
          "7,000-12,000SAR",
          ">20,000 SAR",
          "<7,000 SAR",
          ">20,000 SAR",
          "13,000-20,000SAR",
          "<7,000 SAR",
          "7,000-12,000SAR",
          "<7,000 SAR",
          "<7,000 SAR",
          ">20,000 SAR",
          "13,000-20,000SAR",
          "7,000-12,000SAR",
          "7,000-12,000SAR",
          "<7,000 SAR",
          "13,000-20,000SAR",
          "<7,000 SAR",
          "7,000-12,000SAR",
          "13,000-20,000SAR",
          "7,000-12,000SAR",
          "<7,000 SAR",
          ">20,000 SAR",
          "13,000-20,000SAR",
          "7,000-12,000SAR",
          ">20,000 SAR",
          ">20,000 SAR",
          ">20,000 SAR",
          "13,000-20,000SAR",
          "7,000-12,000SAR",
          "<7,000 SAR",
          "13,000-20,000SAR",
          ">20,000 SAR",
          ">20,000 SAR",
          "7,000-12,000SAR",
          "<7,000 SAR",
          ">20,000 SAR",
          "<7,000 SAR",
          "7,000-12,000SAR",
          "7,000-12,000SAR",
          "7,000-12,000SAR",
          ">20,000 SAR",
          "<7,000 SAR",
          "<7,000 SAR",
          "7,000-12,000SAR",
          "7,000-12,000SAR",
          "7,000-12,000SAR",
          "<7,000 SAR",
          "<7,000 SAR",
          ">20,000 SAR",
          "7,000-12,000SAR",
          ">20,000 SAR",
          "7,000-12,000SAR",
          "13,000-20,000SAR",
          "7,000-12,000SAR",
          "<7,000 SAR",
          ">20,000 SAR",
          "<7,000 SAR",
          "<7,000 SAR",
          "<7,000 SAR",
          ">20,000 SAR",
          "7,000-12,000SAR",
          "7,000-12,000SAR",
          "7,000-12,000SAR",
          "13,000-20,000SAR",
          "<7,000 SAR",
          "<7,000 SAR",
          "13,000-20,000SAR",
          "<7,000 SAR",
          "7,000-12,000SAR",
          "7,000-12,000SAR",
          "7,000-12,000SAR",
          "<7,000 SAR",
          "13,000-20,000SAR",
          "7,000-12,000SAR",
          "13,000-20,000SAR",
          "7,000-12,000SAR",
          "13,000-20,000SAR",
          "13,000-20,000SAR",
          "7,000-12,000SAR",
          "7,000-12,000SAR",
          "13,000-20,000SAR",
          ">20,000 SAR",
          "7,000-12,000SAR",
          ">20,000 SAR",
          "7,000-12,000SAR",
          ">20,000 SAR",
          ">20,000 SAR",
          ">20,000 SAR",
          "13,000-20,000SAR",
          "13,000-20,000SAR",
          ">20,000 SAR",
          "13,000-20,000SAR",
          "13,000-20,000SAR",
          "7,000-12,000SAR",
          ">20,000 SAR",
          "7,000-12,000SAR",
          "<7,000 SAR",
          "<7,000 SAR",
          ">20,000 SAR",
          ">20,000 SAR",
          "13,000-20,000SAR",
          "<7,000 SAR",
          "13,000-20,000SAR",
          "7,000-12,000SAR",
          ">20,000 SAR",
          "13,000-20,000SAR",
          "7,000-12,000SAR",
          "<7,000 SAR",
          ">20,000 SAR",
          ">20,000 SAR",
          "<7,000 SAR",
          ">20,000 SAR",
          "<7,000 SAR",
          ">20,000 SAR",
          ">20,000 SAR",
          ">20,000 SAR",
          "<7,000 SAR",
          "13,000-20,000SAR",
          "13,000-20,000SAR",
          "13,000-20,000SAR",
          ">20,000 SAR",
          "<7,000 SAR",
          "13,000-20,000SAR",
          ">20,000 SAR",
          "13,000-20,000SAR",
          "13,000-20,000SAR",
          "7,000-12,000SAR",
          "7,000-12,000SAR",
          ">20,000 SAR",
          "7,000-12,000SAR",
          ">20,000 SAR",
          "13,000-20,000SAR",
          ">20,000 SAR",
          ">20,000 SAR",
          "7,000-12,000SAR",
          "<7,000 SAR",
          "<7,000 SAR",
          "13,000-20,000SAR",
          ">20,000 SAR",
          "13,000-20,000SAR",
          "<7,000 SAR",
          "7,000-12,000SAR",
          "13,000-20,000SAR",
          "<7,000 SAR",
          ">20,000 SAR",
          ">20,000 SAR",
          ">20,000 SAR",
          ">20,000 SAR",
          ">20,000 SAR",
          ">20,000 SAR",
          "7,000-12,000SAR",
          "7,000-12,000SAR",
          "<7,000 SAR",
          ">20,000 SAR",
          "7,000-12,000SAR",
          "7,000-12,000SAR",
          ">20,000 SAR",
          "13,000-20,000SAR",
          "<7,000 SAR",
          "7,000-12,000SAR",
          "<7,000 SAR",
          "<7,000 SAR",
          ">20,000 SAR",
          "7,000-12,000SAR",
          "<7,000 SAR",
          "<7,000 SAR",
          ">20,000 SAR",
          "<7,000 SAR",
          "<7,000 SAR",
          ">20,000 SAR",
          ">20,000 SAR",
          "13,000-20,000SAR",
          "7,000-12,000SAR",
          "7,000-12,000SAR",
          "7,000-12,000SAR",
          ">20,000 SAR",
          ">20,000 SAR",
          ">20,000 SAR",
          "7,000-12,000SAR",
          "7,000-12,000SAR",
          "13,000-20,000SAR",
          "7,000-12,000SAR",
          "7,000-12,000SAR",
          ">20,000 SAR",
          "7,000-12,000SAR",
          "7,000-12,000SAR",
          "<7,000 SAR",
          "13,000-20,000SAR",
          ">20,000 SAR",
          "<7,000 SAR",
          ">20,000 SAR",
          "13,000-20,000SAR",
          "7,000-12,000SAR",
          ">20,000 SAR",
          "7,000-12,000SAR",
          "7,000-12,000SAR",
          ">20,000 SAR",
          "7,000-12,000SAR",
          "<7,000 SAR",
          "7,000-12,000SAR",
          ">20,000 SAR",
          "7,000-12,000SAR",
          "7,000-12,000SAR",
          ">20,000 SAR",
          ">20,000 SAR",
          ">20,000 SAR",
          "<7,000 SAR",
          "13,000-20,000SAR",
          "7,000-12,000SAR",
          "7,000-12,000SAR",
          "13,000-20,000SAR",
          "7,000-12,000SAR",
          "7,000-12,000SAR",
          ">20,000 SAR",
          "13,000-20,000SAR",
          "13,000-20,000SAR",
          "13,000-20,000SAR",
          "<7,000 SAR",
          ">20,000 SAR",
          "13,000-20,000SAR",
          "<7,000 SAR",
          "13,000-20,000SAR",
          ">20,000 SAR",
          "13,000-20,000SAR",
          ">20,000 SAR",
          "13,000-20,000SAR",
          "<7,000 SAR",
          "13,000-20,000SAR",
          "7,000-12,000SAR",
          ">20,000 SAR",
          "<7,000 SAR",
          "<7,000 SAR",
          "<7,000 SAR",
          "13,000-20,000SAR",
          "<7,000 SAR",
          "7,000-12,000SAR",
          ">20,000 SAR",
          "<7,000 SAR",
          "7,000-12,000SAR",
          "13,000-20,000SAR",
          "7,000-12,000SAR",
          ">20,000 SAR",
          "7,000-12,000SAR",
          "13,000-20,000SAR",
          "<7,000 SAR",
          "13,000-20,000SAR",
          "<7,000 SAR",
          "7,000-12,000SAR",
          "<7,000 SAR",
          "7,000-12,000SAR",
          "13,000-20,000SAR",
          "<7,000 SAR",
          "<7,000 SAR",
          "13,000-20,000SAR",
          ">20,000 SAR",
          ">20,000 SAR",
          "<7,000 SAR",
          ">20,000 SAR",
          "<7,000 SAR",
          ">20,000 SAR",
          "<7,000 SAR",
          "<7,000 SAR",
          ">20,000 SAR",
          "<7,000 SAR",
          "<7,000 SAR",
          ">20,000 SAR",
          "<7,000 SAR",
          "<7,000 SAR",
          "<7,000 SAR",
          "13,000-20,000SAR",
          "<7,000 SAR",
          "7,000-12,000SAR",
          "13,000-20,000SAR",
          "<7,000 SAR",
          "13,000-20,000SAR",
          ">20,000 SAR",
          "7,000-12,000SAR",
          ">20,000 SAR",
          "7,000-12,000SAR",
          ">20,000 SAR",
          ">20,000 SAR",
          "13,000-20,000SAR",
          ">20,000 SAR",
          "13,000-20,000SAR",
          "13,000-20,000SAR",
          "13,000-20,000SAR",
          "7,000-12,000SAR",
          "13,000-20,000SAR",
          "13,000-20,000SAR",
          ">20,000 SAR",
          ">20,000 SAR",
          ">20,000 SAR",
          "7,000-12,000SAR",
          ">20,000 SAR",
          "7,000-12,000SAR",
          "13,000-20,000SAR",
          "<7,000 SAR",
          "<7,000 SAR",
          "7,000-12,000SAR",
          "<7,000 SAR",
          ">20,000 SAR",
          "<7,000 SAR",
          "7,000-12,000SAR",
          ">20,000 SAR",
          ">20,000 SAR",
          "13,000-20,000SAR",
          ">20,000 SAR",
          "<7,000 SAR",
          "13,000-20,000SAR",
          "<7,000 SAR",
          ">20,000 SAR",
          "7,000-12,000SAR",
          "13,000-20,000SAR",
          "7,000-12,000SAR",
          ">20,000 SAR",
          "7,000-12,000SAR",
          "7,000-12,000SAR",
          "13,000-20,000SAR",
          "7,000-12,000SAR",
          "13,000-20,000SAR",
          "7,000-12,000SAR",
          ">20,000 SAR",
          "<7,000 SAR",
          "7,000-12,000SAR",
          ">20,000 SAR",
          ">20,000 SAR",
          "13,000-20,000SAR",
          "13,000-20,000SAR",
          "7,000-12,000SAR",
          "7,000-12,000SAR",
          "<7,000 SAR",
          ">20,000 SAR",
          "7,000-12,000SAR",
          "7,000-12,000SAR",
          "13,000-20,000SAR",
          "7,000-12,000SAR",
          ">20,000 SAR",
          "<7,000 SAR",
          ">20,000 SAR",
          "7,000-12,000SAR",
          "7,000-12,000SAR",
          ">20,000 SAR",
          "7,000-12,000SAR",
          "13,000-20,000SAR",
          "<7,000 SAR",
          "13,000-20,000SAR",
          ">20,000 SAR",
          "13,000-20,000SAR",
          ">20,000 SAR",
          "<7,000 SAR",
          "13,000-20,000SAR",
          ">20,000 SAR",
          "13,000-20,000SAR",
          "<7,000 SAR",
          "7,000-12,000SAR",
          ">20,000 SAR",
          "<7,000 SAR",
          "<7,000 SAR",
          "<7,000 SAR",
          "13,000-20,000SAR",
          "7,000-12,000SAR",
          ">20,000 SAR",
          "<7,000 SAR",
          "13,000-20,000SAR",
          "<7,000 SAR",
          "<7,000 SAR",
          ">20,000 SAR",
          ">20,000 SAR",
          "13,000-20,000SAR",
          ">20,000 SAR",
          "<7,000 SAR",
          ">20,000 SAR",
          ">20,000 SAR",
          "7,000-12,000SAR",
          "7,000-12,000SAR",
          "13,000-20,000SAR",
          "13,000-20,000SAR",
          "<7,000 SAR",
          ">20,000 SAR",
          "13,000-20,000SAR",
          "7,000-12,000SAR"
         ],
         "xaxis": "x",
         "yaxis": "y"
        }
       ],
       "layout": {
        "barmode": "relative",
        "legend": {
         "tracegroupgap": 0
        },
        "margin": {
         "t": 60
        },
        "template": {
         "data": {
          "bar": [
           {
            "error_x": {
             "color": "#2a3f5f"
            },
            "error_y": {
             "color": "#2a3f5f"
            },
            "marker": {
             "line": {
              "color": "#E5ECF6",
              "width": 0.5
             },
             "pattern": {
              "fillmode": "overlay",
              "size": 10,
              "solidity": 0.2
             }
            },
            "type": "bar"
           }
          ],
          "barpolar": [
           {
            "marker": {
             "line": {
              "color": "#E5ECF6",
              "width": 0.5
             },
             "pattern": {
              "fillmode": "overlay",
              "size": 10,
              "solidity": 0.2
             }
            },
            "type": "barpolar"
           }
          ],
          "carpet": [
           {
            "aaxis": {
             "endlinecolor": "#2a3f5f",
             "gridcolor": "white",
             "linecolor": "white",
             "minorgridcolor": "white",
             "startlinecolor": "#2a3f5f"
            },
            "baxis": {
             "endlinecolor": "#2a3f5f",
             "gridcolor": "white",
             "linecolor": "white",
             "minorgridcolor": "white",
             "startlinecolor": "#2a3f5f"
            },
            "type": "carpet"
           }
          ],
          "choropleth": [
           {
            "colorbar": {
             "outlinewidth": 0,
             "ticks": ""
            },
            "type": "choropleth"
           }
          ],
          "contour": [
           {
            "colorbar": {
             "outlinewidth": 0,
             "ticks": ""
            },
            "colorscale": [
             [
              0,
              "#0d0887"
             ],
             [
              0.1111111111111111,
              "#46039f"
             ],
             [
              0.2222222222222222,
              "#7201a8"
             ],
             [
              0.3333333333333333,
              "#9c179e"
             ],
             [
              0.4444444444444444,
              "#bd3786"
             ],
             [
              0.5555555555555556,
              "#d8576b"
             ],
             [
              0.6666666666666666,
              "#ed7953"
             ],
             [
              0.7777777777777778,
              "#fb9f3a"
             ],
             [
              0.8888888888888888,
              "#fdca26"
             ],
             [
              1,
              "#f0f921"
             ]
            ],
            "type": "contour"
           }
          ],
          "contourcarpet": [
           {
            "colorbar": {
             "outlinewidth": 0,
             "ticks": ""
            },
            "type": "contourcarpet"
           }
          ],
          "heatmap": [
           {
            "colorbar": {
             "outlinewidth": 0,
             "ticks": ""
            },
            "colorscale": [
             [
              0,
              "#0d0887"
             ],
             [
              0.1111111111111111,
              "#46039f"
             ],
             [
              0.2222222222222222,
              "#7201a8"
             ],
             [
              0.3333333333333333,
              "#9c179e"
             ],
             [
              0.4444444444444444,
              "#bd3786"
             ],
             [
              0.5555555555555556,
              "#d8576b"
             ],
             [
              0.6666666666666666,
              "#ed7953"
             ],
             [
              0.7777777777777778,
              "#fb9f3a"
             ],
             [
              0.8888888888888888,
              "#fdca26"
             ],
             [
              1,
              "#f0f921"
             ]
            ],
            "type": "heatmap"
           }
          ],
          "heatmapgl": [
           {
            "colorbar": {
             "outlinewidth": 0,
             "ticks": ""
            },
            "colorscale": [
             [
              0,
              "#0d0887"
             ],
             [
              0.1111111111111111,
              "#46039f"
             ],
             [
              0.2222222222222222,
              "#7201a8"
             ],
             [
              0.3333333333333333,
              "#9c179e"
             ],
             [
              0.4444444444444444,
              "#bd3786"
             ],
             [
              0.5555555555555556,
              "#d8576b"
             ],
             [
              0.6666666666666666,
              "#ed7953"
             ],
             [
              0.7777777777777778,
              "#fb9f3a"
             ],
             [
              0.8888888888888888,
              "#fdca26"
             ],
             [
              1,
              "#f0f921"
             ]
            ],
            "type": "heatmapgl"
           }
          ],
          "histogram": [
           {
            "marker": {
             "pattern": {
              "fillmode": "overlay",
              "size": 10,
              "solidity": 0.2
             }
            },
            "type": "histogram"
           }
          ],
          "histogram2d": [
           {
            "colorbar": {
             "outlinewidth": 0,
             "ticks": ""
            },
            "colorscale": [
             [
              0,
              "#0d0887"
             ],
             [
              0.1111111111111111,
              "#46039f"
             ],
             [
              0.2222222222222222,
              "#7201a8"
             ],
             [
              0.3333333333333333,
              "#9c179e"
             ],
             [
              0.4444444444444444,
              "#bd3786"
             ],
             [
              0.5555555555555556,
              "#d8576b"
             ],
             [
              0.6666666666666666,
              "#ed7953"
             ],
             [
              0.7777777777777778,
              "#fb9f3a"
             ],
             [
              0.8888888888888888,
              "#fdca26"
             ],
             [
              1,
              "#f0f921"
             ]
            ],
            "type": "histogram2d"
           }
          ],
          "histogram2dcontour": [
           {
            "colorbar": {
             "outlinewidth": 0,
             "ticks": ""
            },
            "colorscale": [
             [
              0,
              "#0d0887"
             ],
             [
              0.1111111111111111,
              "#46039f"
             ],
             [
              0.2222222222222222,
              "#7201a8"
             ],
             [
              0.3333333333333333,
              "#9c179e"
             ],
             [
              0.4444444444444444,
              "#bd3786"
             ],
             [
              0.5555555555555556,
              "#d8576b"
             ],
             [
              0.6666666666666666,
              "#ed7953"
             ],
             [
              0.7777777777777778,
              "#fb9f3a"
             ],
             [
              0.8888888888888888,
              "#fdca26"
             ],
             [
              1,
              "#f0f921"
             ]
            ],
            "type": "histogram2dcontour"
           }
          ],
          "mesh3d": [
           {
            "colorbar": {
             "outlinewidth": 0,
             "ticks": ""
            },
            "type": "mesh3d"
           }
          ],
          "parcoords": [
           {
            "line": {
             "colorbar": {
              "outlinewidth": 0,
              "ticks": ""
             }
            },
            "type": "parcoords"
           }
          ],
          "pie": [
           {
            "automargin": true,
            "type": "pie"
           }
          ],
          "scatter": [
           {
            "marker": {
             "colorbar": {
              "outlinewidth": 0,
              "ticks": ""
             }
            },
            "type": "scatter"
           }
          ],
          "scatter3d": [
           {
            "line": {
             "colorbar": {
              "outlinewidth": 0,
              "ticks": ""
             }
            },
            "marker": {
             "colorbar": {
              "outlinewidth": 0,
              "ticks": ""
             }
            },
            "type": "scatter3d"
           }
          ],
          "scattercarpet": [
           {
            "marker": {
             "colorbar": {
              "outlinewidth": 0,
              "ticks": ""
             }
            },
            "type": "scattercarpet"
           }
          ],
          "scattergeo": [
           {
            "marker": {
             "colorbar": {
              "outlinewidth": 0,
              "ticks": ""
             }
            },
            "type": "scattergeo"
           }
          ],
          "scattergl": [
           {
            "marker": {
             "colorbar": {
              "outlinewidth": 0,
              "ticks": ""
             }
            },
            "type": "scattergl"
           }
          ],
          "scattermapbox": [
           {
            "marker": {
             "colorbar": {
              "outlinewidth": 0,
              "ticks": ""
             }
            },
            "type": "scattermapbox"
           }
          ],
          "scatterpolar": [
           {
            "marker": {
             "colorbar": {
              "outlinewidth": 0,
              "ticks": ""
             }
            },
            "type": "scatterpolar"
           }
          ],
          "scatterpolargl": [
           {
            "marker": {
             "colorbar": {
              "outlinewidth": 0,
              "ticks": ""
             }
            },
            "type": "scatterpolargl"
           }
          ],
          "scatterternary": [
           {
            "marker": {
             "colorbar": {
              "outlinewidth": 0,
              "ticks": ""
             }
            },
            "type": "scatterternary"
           }
          ],
          "surface": [
           {
            "colorbar": {
             "outlinewidth": 0,
             "ticks": ""
            },
            "colorscale": [
             [
              0,
              "#0d0887"
             ],
             [
              0.1111111111111111,
              "#46039f"
             ],
             [
              0.2222222222222222,
              "#7201a8"
             ],
             [
              0.3333333333333333,
              "#9c179e"
             ],
             [
              0.4444444444444444,
              "#bd3786"
             ],
             [
              0.5555555555555556,
              "#d8576b"
             ],
             [
              0.6666666666666666,
              "#ed7953"
             ],
             [
              0.7777777777777778,
              "#fb9f3a"
             ],
             [
              0.8888888888888888,
              "#fdca26"
             ],
             [
              1,
              "#f0f921"
             ]
            ],
            "type": "surface"
           }
          ],
          "table": [
           {
            "cells": {
             "fill": {
              "color": "#EBF0F8"
             },
             "line": {
              "color": "white"
             }
            },
            "header": {
             "fill": {
              "color": "#C8D4E3"
             },
             "line": {
              "color": "white"
             }
            },
            "type": "table"
           }
          ]
         },
         "layout": {
          "annotationdefaults": {
           "arrowcolor": "#2a3f5f",
           "arrowhead": 0,
           "arrowwidth": 1
          },
          "autotypenumbers": "strict",
          "coloraxis": {
           "colorbar": {
            "outlinewidth": 0,
            "ticks": ""
           }
          },
          "colorscale": {
           "diverging": [
            [
             0,
             "#8e0152"
            ],
            [
             0.1,
             "#c51b7d"
            ],
            [
             0.2,
             "#de77ae"
            ],
            [
             0.3,
             "#f1b6da"
            ],
            [
             0.4,
             "#fde0ef"
            ],
            [
             0.5,
             "#f7f7f7"
            ],
            [
             0.6,
             "#e6f5d0"
            ],
            [
             0.7,
             "#b8e186"
            ],
            [
             0.8,
             "#7fbc41"
            ],
            [
             0.9,
             "#4d9221"
            ],
            [
             1,
             "#276419"
            ]
           ],
           "sequential": [
            [
             0,
             "#0d0887"
            ],
            [
             0.1111111111111111,
             "#46039f"
            ],
            [
             0.2222222222222222,
             "#7201a8"
            ],
            [
             0.3333333333333333,
             "#9c179e"
            ],
            [
             0.4444444444444444,
             "#bd3786"
            ],
            [
             0.5555555555555556,
             "#d8576b"
            ],
            [
             0.6666666666666666,
             "#ed7953"
            ],
            [
             0.7777777777777778,
             "#fb9f3a"
            ],
            [
             0.8888888888888888,
             "#fdca26"
            ],
            [
             1,
             "#f0f921"
            ]
           ],
           "sequentialminus": [
            [
             0,
             "#0d0887"
            ],
            [
             0.1111111111111111,
             "#46039f"
            ],
            [
             0.2222222222222222,
             "#7201a8"
            ],
            [
             0.3333333333333333,
             "#9c179e"
            ],
            [
             0.4444444444444444,
             "#bd3786"
            ],
            [
             0.5555555555555556,
             "#d8576b"
            ],
            [
             0.6666666666666666,
             "#ed7953"
            ],
            [
             0.7777777777777778,
             "#fb9f3a"
            ],
            [
             0.8888888888888888,
             "#fdca26"
            ],
            [
             1,
             "#f0f921"
            ]
           ]
          },
          "colorway": [
           "#636efa",
           "#EF553B",
           "#00cc96",
           "#ab63fa",
           "#FFA15A",
           "#19d3f3",
           "#FF6692",
           "#B6E880",
           "#FF97FF",
           "#FECB52"
          ],
          "font": {
           "color": "#2a3f5f"
          },
          "geo": {
           "bgcolor": "white",
           "lakecolor": "white",
           "landcolor": "#E5ECF6",
           "showlakes": true,
           "showland": true,
           "subunitcolor": "white"
          },
          "hoverlabel": {
           "align": "left"
          },
          "hovermode": "closest",
          "mapbox": {
           "style": "light"
          },
          "paper_bgcolor": "white",
          "plot_bgcolor": "#E5ECF6",
          "polar": {
           "angularaxis": {
            "gridcolor": "white",
            "linecolor": "white",
            "ticks": ""
           },
           "bgcolor": "#E5ECF6",
           "radialaxis": {
            "gridcolor": "white",
            "linecolor": "white",
            "ticks": ""
           }
          },
          "scene": {
           "xaxis": {
            "backgroundcolor": "#E5ECF6",
            "gridcolor": "white",
            "gridwidth": 2,
            "linecolor": "white",
            "showbackground": true,
            "ticks": "",
            "zerolinecolor": "white"
           },
           "yaxis": {
            "backgroundcolor": "#E5ECF6",
            "gridcolor": "white",
            "gridwidth": 2,
            "linecolor": "white",
            "showbackground": true,
            "ticks": "",
            "zerolinecolor": "white"
           },
           "zaxis": {
            "backgroundcolor": "#E5ECF6",
            "gridcolor": "white",
            "gridwidth": 2,
            "linecolor": "white",
            "showbackground": true,
            "ticks": "",
            "zerolinecolor": "white"
           }
          },
          "shapedefaults": {
           "line": {
            "color": "#2a3f5f"
           }
          },
          "ternary": {
           "aaxis": {
            "gridcolor": "white",
            "linecolor": "white",
            "ticks": ""
           },
           "baxis": {
            "gridcolor": "white",
            "linecolor": "white",
            "ticks": ""
           },
           "bgcolor": "#E5ECF6",
           "caxis": {
            "gridcolor": "white",
            "linecolor": "white",
            "ticks": ""
           }
          },
          "title": {
           "x": 0.05
          },
          "xaxis": {
           "automargin": true,
           "gridcolor": "white",
           "linecolor": "white",
           "ticks": "",
           "title": {
            "standoff": 15
           },
           "zerolinecolor": "white",
           "zerolinewidth": 2
          },
          "yaxis": {
           "automargin": true,
           "gridcolor": "white",
           "linecolor": "white",
           "ticks": "",
           "title": {
            "standoff": 15
           },
           "zerolinecolor": "white",
           "zerolinewidth": 2
          }
         }
        },
        "xaxis": {
         "anchor": "y",
         "domain": [
          0,
          1
         ],
         "title": {
          "text": "MonthlyIncomeLevel"
         }
        },
        "yaxis": {
         "anchor": "x",
         "domain": [
          0,
          1
         ],
         "title": {
          "text": "count"
         }
        }
       }
      },
      "text/html": [
       "<div>                            <div id=\"23fc59b7-33ad-423a-9c25-6b8e62d83334\" class=\"plotly-graph-div\" style=\"height:525px; width:100%;\"></div>            <script type=\"text/javascript\">                require([\"plotly\"], function(Plotly) {                    window.PLOTLYENV=window.PLOTLYENV || {};                                    if (document.getElementById(\"23fc59b7-33ad-423a-9c25-6b8e62d83334\")) {                    Plotly.newPlot(                        \"23fc59b7-33ad-423a-9c25-6b8e62d83334\",                        [{\"alignmentgroup\":\"True\",\"bingroup\":\"x\",\"hovertemplate\":\"MonthlyIncomeLevel=%{x}<br>count=%{y}<extra></extra>\",\"legendgroup\":\"\",\"marker\":{\"color\":\"#636efa\",\"pattern\":{\"shape\":\"\"}},\"name\":\"\",\"offsetgroup\":\"\",\"orientation\":\"v\",\"showlegend\":false,\"x\":[\">20,000 SAR\",\">20,000 SAR\",\"7,000-12,000SAR\",\">20,000 SAR\",\">20,000 SAR\",\">20,000 SAR\",\"7,000-12,000SAR\",\"<7,000 SAR\",\">20,000 SAR\",\">20,000 SAR\",\"<7,000 SAR\",\"<7,000 SAR\",\"7,000-12,000SAR\",\">20,000 SAR\",\">20,000 SAR\",\"7,000-12,000SAR\",\"7,000-12,000SAR\",\"13,000-20,000SAR\",\">20,000 SAR\",\"<7,000 SAR\",\"7,000-12,000SAR\",\">20,000 SAR\",\"7,000-12,000SAR\",\"13,000-20,000SAR\",\">20,000 SAR\",\"13,000-20,000SAR\",\">20,000 SAR\",\"13,000-20,000SAR\",\"<7,000 SAR\",\">20,000 SAR\",\"<7,000 SAR\",\">20,000 SAR\",\"7,000-12,000SAR\",\"<7,000 SAR\",\"7,000-12,000SAR\",\"13,000-20,000SAR\",\">20,000 SAR\",\">20,000 SAR\",\"7,000-12,000SAR\",\">20,000 SAR\",\"<7,000 SAR\",\"<7,000 SAR\",\"<7,000 SAR\",\">20,000 SAR\",\"<7,000 SAR\",\"7,000-12,000SAR\",\"<7,000 SAR\",\"7,000-12,000SAR\",\"<7,000 SAR\",\"<7,000 SAR\",\"<7,000 SAR\",\">20,000 SAR\",\"<7,000 SAR\",\"<7,000 SAR\",\"7,000-12,000SAR\",\">20,000 SAR\",\">20,000 SAR\",\"<7,000 SAR\",\">20,000 SAR\",\"7,000-12,000SAR\",\">20,000 SAR\",\"7,000-12,000SAR\",\"13,000-20,000SAR\",\"<7,000 SAR\",\"7,000-12,000SAR\",\"<7,000 SAR\",\">20,000 SAR\",\"7,000-12,000SAR\",\"<7,000 SAR\",\">20,000 SAR\",\"<7,000 SAR\",\"13,000-20,000SAR\",\"<7,000 SAR\",\">20,000 SAR\",\"<7,000 SAR\",\">20,000 SAR\",\"13,000-20,000SAR\",\">20,000 SAR\",\">20,000 SAR\",\"<7,000 SAR\",\"7,000-12,000SAR\",\"7,000-12,000SAR\",\"<7,000 SAR\",\"13,000-20,000SAR\",\"7,000-12,000SAR\",\"<7,000 SAR\",\">20,000 SAR\",\"13,000-20,000SAR\",\">20,000 SAR\",\"<7,000 SAR\",\">20,000 SAR\",\"7,000-12,000SAR\",\">20,000 SAR\",\"<7,000 SAR\",\"13,000-20,000SAR\",\"13,000-20,000SAR\",\"<7,000 SAR\",\"<7,000 SAR\",\"7,000-12,000SAR\",\"<7,000 SAR\",\"<7,000 SAR\",\"7,000-12,000SAR\",\"7,000-12,000SAR\",\">20,000 SAR\",\"<7,000 SAR\",\"13,000-20,000SAR\",\"13,000-20,000SAR\",\"13,000-20,000SAR\",\"7,000-12,000SAR\",\">20,000 SAR\",\"7,000-12,000SAR\",\"<7,000 SAR\",\">20,000 SAR\",\"<7,000 SAR\",\">20,000 SAR\",\"7,000-12,000SAR\",\"7,000-12,000SAR\",\">20,000 SAR\",\"<7,000 SAR\",\">20,000 SAR\",\"7,000-12,000SAR\",\">20,000 SAR\",\"<7,000 SAR\",\">20,000 SAR\",\"13,000-20,000SAR\",\"<7,000 SAR\",\"7,000-12,000SAR\",\"<7,000 SAR\",\"<7,000 SAR\",\">20,000 SAR\",\"13,000-20,000SAR\",\"7,000-12,000SAR\",\"7,000-12,000SAR\",\"<7,000 SAR\",\"13,000-20,000SAR\",\"<7,000 SAR\",\"7,000-12,000SAR\",\"13,000-20,000SAR\",\"7,000-12,000SAR\",\"<7,000 SAR\",\">20,000 SAR\",\"13,000-20,000SAR\",\"7,000-12,000SAR\",\">20,000 SAR\",\">20,000 SAR\",\">20,000 SAR\",\"13,000-20,000SAR\",\"7,000-12,000SAR\",\"<7,000 SAR\",\"13,000-20,000SAR\",\">20,000 SAR\",\">20,000 SAR\",\"7,000-12,000SAR\",\"<7,000 SAR\",\">20,000 SAR\",\"<7,000 SAR\",\"7,000-12,000SAR\",\"7,000-12,000SAR\",\"7,000-12,000SAR\",\">20,000 SAR\",\"<7,000 SAR\",\"<7,000 SAR\",\"7,000-12,000SAR\",\"7,000-12,000SAR\",\"7,000-12,000SAR\",\"<7,000 SAR\",\"<7,000 SAR\",\">20,000 SAR\",\"7,000-12,000SAR\",\">20,000 SAR\",\"7,000-12,000SAR\",\"13,000-20,000SAR\",\"7,000-12,000SAR\",\"<7,000 SAR\",\">20,000 SAR\",\"<7,000 SAR\",\"<7,000 SAR\",\"<7,000 SAR\",\">20,000 SAR\",\"7,000-12,000SAR\",\"7,000-12,000SAR\",\"7,000-12,000SAR\",\"13,000-20,000SAR\",\"<7,000 SAR\",\"<7,000 SAR\",\"13,000-20,000SAR\",\"<7,000 SAR\",\"7,000-12,000SAR\",\"7,000-12,000SAR\",\"7,000-12,000SAR\",\"<7,000 SAR\",\"13,000-20,000SAR\",\"7,000-12,000SAR\",\"13,000-20,000SAR\",\"7,000-12,000SAR\",\"13,000-20,000SAR\",\"13,000-20,000SAR\",\"7,000-12,000SAR\",\"7,000-12,000SAR\",\"13,000-20,000SAR\",\">20,000 SAR\",\"7,000-12,000SAR\",\">20,000 SAR\",\"7,000-12,000SAR\",\">20,000 SAR\",\">20,000 SAR\",\">20,000 SAR\",\"13,000-20,000SAR\",\"13,000-20,000SAR\",\">20,000 SAR\",\"13,000-20,000SAR\",\"13,000-20,000SAR\",\"7,000-12,000SAR\",\">20,000 SAR\",\"7,000-12,000SAR\",\"<7,000 SAR\",\"<7,000 SAR\",\">20,000 SAR\",\">20,000 SAR\",\"13,000-20,000SAR\",\"<7,000 SAR\",\"13,000-20,000SAR\",\"7,000-12,000SAR\",\">20,000 SAR\",\"13,000-20,000SAR\",\"7,000-12,000SAR\",\"<7,000 SAR\",\">20,000 SAR\",\">20,000 SAR\",\"<7,000 SAR\",\">20,000 SAR\",\"<7,000 SAR\",\">20,000 SAR\",\">20,000 SAR\",\">20,000 SAR\",\"<7,000 SAR\",\"13,000-20,000SAR\",\"13,000-20,000SAR\",\"13,000-20,000SAR\",\">20,000 SAR\",\"<7,000 SAR\",\"13,000-20,000SAR\",\">20,000 SAR\",\"13,000-20,000SAR\",\"13,000-20,000SAR\",\"7,000-12,000SAR\",\"7,000-12,000SAR\",\">20,000 SAR\",\"7,000-12,000SAR\",\">20,000 SAR\",\"13,000-20,000SAR\",\">20,000 SAR\",\">20,000 SAR\",\"7,000-12,000SAR\",\"<7,000 SAR\",\"<7,000 SAR\",\"13,000-20,000SAR\",\">20,000 SAR\",\"13,000-20,000SAR\",\"<7,000 SAR\",\"7,000-12,000SAR\",\"13,000-20,000SAR\",\"<7,000 SAR\",\">20,000 SAR\",\">20,000 SAR\",\">20,000 SAR\",\">20,000 SAR\",\">20,000 SAR\",\">20,000 SAR\",\"7,000-12,000SAR\",\"7,000-12,000SAR\",\"<7,000 SAR\",\">20,000 SAR\",\"7,000-12,000SAR\",\"7,000-12,000SAR\",\">20,000 SAR\",\"13,000-20,000SAR\",\"<7,000 SAR\",\"7,000-12,000SAR\",\"<7,000 SAR\",\"<7,000 SAR\",\">20,000 SAR\",\"7,000-12,000SAR\",\"<7,000 SAR\",\"<7,000 SAR\",\">20,000 SAR\",\"<7,000 SAR\",\"<7,000 SAR\",\">20,000 SAR\",\">20,000 SAR\",\"13,000-20,000SAR\",\"7,000-12,000SAR\",\"7,000-12,000SAR\",\"7,000-12,000SAR\",\">20,000 SAR\",\">20,000 SAR\",\">20,000 SAR\",\"7,000-12,000SAR\",\"7,000-12,000SAR\",\"13,000-20,000SAR\",\"7,000-12,000SAR\",\"7,000-12,000SAR\",\">20,000 SAR\",\"7,000-12,000SAR\",\"7,000-12,000SAR\",\"<7,000 SAR\",\"13,000-20,000SAR\",\">20,000 SAR\",\"<7,000 SAR\",\">20,000 SAR\",\"13,000-20,000SAR\",\"7,000-12,000SAR\",\">20,000 SAR\",\"7,000-12,000SAR\",\"7,000-12,000SAR\",\">20,000 SAR\",\"7,000-12,000SAR\",\"<7,000 SAR\",\"7,000-12,000SAR\",\">20,000 SAR\",\"7,000-12,000SAR\",\"7,000-12,000SAR\",\">20,000 SAR\",\">20,000 SAR\",\">20,000 SAR\",\"<7,000 SAR\",\"13,000-20,000SAR\",\"7,000-12,000SAR\",\"7,000-12,000SAR\",\"13,000-20,000SAR\",\"7,000-12,000SAR\",\"7,000-12,000SAR\",\">20,000 SAR\",\"13,000-20,000SAR\",\"13,000-20,000SAR\",\"13,000-20,000SAR\",\"<7,000 SAR\",\">20,000 SAR\",\"13,000-20,000SAR\",\"<7,000 SAR\",\"13,000-20,000SAR\",\">20,000 SAR\",\"13,000-20,000SAR\",\">20,000 SAR\",\"13,000-20,000SAR\",\"<7,000 SAR\",\"13,000-20,000SAR\",\"7,000-12,000SAR\",\">20,000 SAR\",\"<7,000 SAR\",\"<7,000 SAR\",\"<7,000 SAR\",\"13,000-20,000SAR\",\"<7,000 SAR\",\"7,000-12,000SAR\",\">20,000 SAR\",\"<7,000 SAR\",\"7,000-12,000SAR\",\"13,000-20,000SAR\",\"7,000-12,000SAR\",\">20,000 SAR\",\"7,000-12,000SAR\",\"13,000-20,000SAR\",\"<7,000 SAR\",\"13,000-20,000SAR\",\"<7,000 SAR\",\"7,000-12,000SAR\",\"<7,000 SAR\",\"7,000-12,000SAR\",\"13,000-20,000SAR\",\"<7,000 SAR\",\"<7,000 SAR\",\"13,000-20,000SAR\",\">20,000 SAR\",\">20,000 SAR\",\"<7,000 SAR\",\">20,000 SAR\",\"<7,000 SAR\",\">20,000 SAR\",\"<7,000 SAR\",\"<7,000 SAR\",\">20,000 SAR\",\"<7,000 SAR\",\"<7,000 SAR\",\">20,000 SAR\",\"<7,000 SAR\",\"<7,000 SAR\",\"<7,000 SAR\",\"13,000-20,000SAR\",\"<7,000 SAR\",\"7,000-12,000SAR\",\"13,000-20,000SAR\",\"<7,000 SAR\",\"13,000-20,000SAR\",\">20,000 SAR\",\"7,000-12,000SAR\",\">20,000 SAR\",\"7,000-12,000SAR\",\">20,000 SAR\",\">20,000 SAR\",\"13,000-20,000SAR\",\">20,000 SAR\",\"13,000-20,000SAR\",\"13,000-20,000SAR\",\"13,000-20,000SAR\",\"7,000-12,000SAR\",\"13,000-20,000SAR\",\"13,000-20,000SAR\",\">20,000 SAR\",\">20,000 SAR\",\">20,000 SAR\",\"7,000-12,000SAR\",\">20,000 SAR\",\"7,000-12,000SAR\",\"13,000-20,000SAR\",\"<7,000 SAR\",\"<7,000 SAR\",\"7,000-12,000SAR\",\"<7,000 SAR\",\">20,000 SAR\",\"<7,000 SAR\",\"7,000-12,000SAR\",\">20,000 SAR\",\">20,000 SAR\",\"13,000-20,000SAR\",\">20,000 SAR\",\"<7,000 SAR\",\"13,000-20,000SAR\",\"<7,000 SAR\",\">20,000 SAR\",\"7,000-12,000SAR\",\"13,000-20,000SAR\",\"7,000-12,000SAR\",\">20,000 SAR\",\"7,000-12,000SAR\",\"7,000-12,000SAR\",\"13,000-20,000SAR\",\"7,000-12,000SAR\",\"13,000-20,000SAR\",\"7,000-12,000SAR\",\">20,000 SAR\",\"<7,000 SAR\",\"7,000-12,000SAR\",\">20,000 SAR\",\">20,000 SAR\",\"13,000-20,000SAR\",\"13,000-20,000SAR\",\"7,000-12,000SAR\",\"7,000-12,000SAR\",\"<7,000 SAR\",\">20,000 SAR\",\"7,000-12,000SAR\",\"7,000-12,000SAR\",\"13,000-20,000SAR\",\"7,000-12,000SAR\",\">20,000 SAR\",\"<7,000 SAR\",\">20,000 SAR\",\"7,000-12,000SAR\",\"7,000-12,000SAR\",\">20,000 SAR\",\"7,000-12,000SAR\",\"13,000-20,000SAR\",\"<7,000 SAR\",\"13,000-20,000SAR\",\">20,000 SAR\",\"13,000-20,000SAR\",\">20,000 SAR\",\"<7,000 SAR\",\"13,000-20,000SAR\",\">20,000 SAR\",\"13,000-20,000SAR\",\"<7,000 SAR\",\"7,000-12,000SAR\",\">20,000 SAR\",\"<7,000 SAR\",\"<7,000 SAR\",\"<7,000 SAR\",\"13,000-20,000SAR\",\"7,000-12,000SAR\",\">20,000 SAR\",\"<7,000 SAR\",\"13,000-20,000SAR\",\"<7,000 SAR\",\"<7,000 SAR\",\">20,000 SAR\",\">20,000 SAR\",\"13,000-20,000SAR\",\">20,000 SAR\",\"<7,000 SAR\",\">20,000 SAR\",\">20,000 SAR\",\"7,000-12,000SAR\",\"7,000-12,000SAR\",\"13,000-20,000SAR\",\"13,000-20,000SAR\",\"<7,000 SAR\",\">20,000 SAR\",\"13,000-20,000SAR\",\"7,000-12,000SAR\"],\"xaxis\":\"x\",\"yaxis\":\"y\",\"type\":\"histogram\"}],                        {\"template\":{\"data\":{\"bar\":[{\"error_x\":{\"color\":\"#2a3f5f\"},\"error_y\":{\"color\":\"#2a3f5f\"},\"marker\":{\"line\":{\"color\":\"#E5ECF6\",\"width\":0.5},\"pattern\":{\"fillmode\":\"overlay\",\"size\":10,\"solidity\":0.2}},\"type\":\"bar\"}],\"barpolar\":[{\"marker\":{\"line\":{\"color\":\"#E5ECF6\",\"width\":0.5},\"pattern\":{\"fillmode\":\"overlay\",\"size\":10,\"solidity\":0.2}},\"type\":\"barpolar\"}],\"carpet\":[{\"aaxis\":{\"endlinecolor\":\"#2a3f5f\",\"gridcolor\":\"white\",\"linecolor\":\"white\",\"minorgridcolor\":\"white\",\"startlinecolor\":\"#2a3f5f\"},\"baxis\":{\"endlinecolor\":\"#2a3f5f\",\"gridcolor\":\"white\",\"linecolor\":\"white\",\"minorgridcolor\":\"white\",\"startlinecolor\":\"#2a3f5f\"},\"type\":\"carpet\"}],\"choropleth\":[{\"colorbar\":{\"outlinewidth\":0,\"ticks\":\"\"},\"type\":\"choropleth\"}],\"contour\":[{\"colorbar\":{\"outlinewidth\":0,\"ticks\":\"\"},\"colorscale\":[[0.0,\"#0d0887\"],[0.1111111111111111,\"#46039f\"],[0.2222222222222222,\"#7201a8\"],[0.3333333333333333,\"#9c179e\"],[0.4444444444444444,\"#bd3786\"],[0.5555555555555556,\"#d8576b\"],[0.6666666666666666,\"#ed7953\"],[0.7777777777777778,\"#fb9f3a\"],[0.8888888888888888,\"#fdca26\"],[1.0,\"#f0f921\"]],\"type\":\"contour\"}],\"contourcarpet\":[{\"colorbar\":{\"outlinewidth\":0,\"ticks\":\"\"},\"type\":\"contourcarpet\"}],\"heatmap\":[{\"colorbar\":{\"outlinewidth\":0,\"ticks\":\"\"},\"colorscale\":[[0.0,\"#0d0887\"],[0.1111111111111111,\"#46039f\"],[0.2222222222222222,\"#7201a8\"],[0.3333333333333333,\"#9c179e\"],[0.4444444444444444,\"#bd3786\"],[0.5555555555555556,\"#d8576b\"],[0.6666666666666666,\"#ed7953\"],[0.7777777777777778,\"#fb9f3a\"],[0.8888888888888888,\"#fdca26\"],[1.0,\"#f0f921\"]],\"type\":\"heatmap\"}],\"heatmapgl\":[{\"colorbar\":{\"outlinewidth\":0,\"ticks\":\"\"},\"colorscale\":[[0.0,\"#0d0887\"],[0.1111111111111111,\"#46039f\"],[0.2222222222222222,\"#7201a8\"],[0.3333333333333333,\"#9c179e\"],[0.4444444444444444,\"#bd3786\"],[0.5555555555555556,\"#d8576b\"],[0.6666666666666666,\"#ed7953\"],[0.7777777777777778,\"#fb9f3a\"],[0.8888888888888888,\"#fdca26\"],[1.0,\"#f0f921\"]],\"type\":\"heatmapgl\"}],\"histogram\":[{\"marker\":{\"pattern\":{\"fillmode\":\"overlay\",\"size\":10,\"solidity\":0.2}},\"type\":\"histogram\"}],\"histogram2d\":[{\"colorbar\":{\"outlinewidth\":0,\"ticks\":\"\"},\"colorscale\":[[0.0,\"#0d0887\"],[0.1111111111111111,\"#46039f\"],[0.2222222222222222,\"#7201a8\"],[0.3333333333333333,\"#9c179e\"],[0.4444444444444444,\"#bd3786\"],[0.5555555555555556,\"#d8576b\"],[0.6666666666666666,\"#ed7953\"],[0.7777777777777778,\"#fb9f3a\"],[0.8888888888888888,\"#fdca26\"],[1.0,\"#f0f921\"]],\"type\":\"histogram2d\"}],\"histogram2dcontour\":[{\"colorbar\":{\"outlinewidth\":0,\"ticks\":\"\"},\"colorscale\":[[0.0,\"#0d0887\"],[0.1111111111111111,\"#46039f\"],[0.2222222222222222,\"#7201a8\"],[0.3333333333333333,\"#9c179e\"],[0.4444444444444444,\"#bd3786\"],[0.5555555555555556,\"#d8576b\"],[0.6666666666666666,\"#ed7953\"],[0.7777777777777778,\"#fb9f3a\"],[0.8888888888888888,\"#fdca26\"],[1.0,\"#f0f921\"]],\"type\":\"histogram2dcontour\"}],\"mesh3d\":[{\"colorbar\":{\"outlinewidth\":0,\"ticks\":\"\"},\"type\":\"mesh3d\"}],\"parcoords\":[{\"line\":{\"colorbar\":{\"outlinewidth\":0,\"ticks\":\"\"}},\"type\":\"parcoords\"}],\"pie\":[{\"automargin\":true,\"type\":\"pie\"}],\"scatter\":[{\"marker\":{\"colorbar\":{\"outlinewidth\":0,\"ticks\":\"\"}},\"type\":\"scatter\"}],\"scatter3d\":[{\"line\":{\"colorbar\":{\"outlinewidth\":0,\"ticks\":\"\"}},\"marker\":{\"colorbar\":{\"outlinewidth\":0,\"ticks\":\"\"}},\"type\":\"scatter3d\"}],\"scattercarpet\":[{\"marker\":{\"colorbar\":{\"outlinewidth\":0,\"ticks\":\"\"}},\"type\":\"scattercarpet\"}],\"scattergeo\":[{\"marker\":{\"colorbar\":{\"outlinewidth\":0,\"ticks\":\"\"}},\"type\":\"scattergeo\"}],\"scattergl\":[{\"marker\":{\"colorbar\":{\"outlinewidth\":0,\"ticks\":\"\"}},\"type\":\"scattergl\"}],\"scattermapbox\":[{\"marker\":{\"colorbar\":{\"outlinewidth\":0,\"ticks\":\"\"}},\"type\":\"scattermapbox\"}],\"scatterpolar\":[{\"marker\":{\"colorbar\":{\"outlinewidth\":0,\"ticks\":\"\"}},\"type\":\"scatterpolar\"}],\"scatterpolargl\":[{\"marker\":{\"colorbar\":{\"outlinewidth\":0,\"ticks\":\"\"}},\"type\":\"scatterpolargl\"}],\"scatterternary\":[{\"marker\":{\"colorbar\":{\"outlinewidth\":0,\"ticks\":\"\"}},\"type\":\"scatterternary\"}],\"surface\":[{\"colorbar\":{\"outlinewidth\":0,\"ticks\":\"\"},\"colorscale\":[[0.0,\"#0d0887\"],[0.1111111111111111,\"#46039f\"],[0.2222222222222222,\"#7201a8\"],[0.3333333333333333,\"#9c179e\"],[0.4444444444444444,\"#bd3786\"],[0.5555555555555556,\"#d8576b\"],[0.6666666666666666,\"#ed7953\"],[0.7777777777777778,\"#fb9f3a\"],[0.8888888888888888,\"#fdca26\"],[1.0,\"#f0f921\"]],\"type\":\"surface\"}],\"table\":[{\"cells\":{\"fill\":{\"color\":\"#EBF0F8\"},\"line\":{\"color\":\"white\"}},\"header\":{\"fill\":{\"color\":\"#C8D4E3\"},\"line\":{\"color\":\"white\"}},\"type\":\"table\"}]},\"layout\":{\"annotationdefaults\":{\"arrowcolor\":\"#2a3f5f\",\"arrowhead\":0,\"arrowwidth\":1},\"autotypenumbers\":\"strict\",\"coloraxis\":{\"colorbar\":{\"outlinewidth\":0,\"ticks\":\"\"}},\"colorscale\":{\"diverging\":[[0,\"#8e0152\"],[0.1,\"#c51b7d\"],[0.2,\"#de77ae\"],[0.3,\"#f1b6da\"],[0.4,\"#fde0ef\"],[0.5,\"#f7f7f7\"],[0.6,\"#e6f5d0\"],[0.7,\"#b8e186\"],[0.8,\"#7fbc41\"],[0.9,\"#4d9221\"],[1,\"#276419\"]],\"sequential\":[[0.0,\"#0d0887\"],[0.1111111111111111,\"#46039f\"],[0.2222222222222222,\"#7201a8\"],[0.3333333333333333,\"#9c179e\"],[0.4444444444444444,\"#bd3786\"],[0.5555555555555556,\"#d8576b\"],[0.6666666666666666,\"#ed7953\"],[0.7777777777777778,\"#fb9f3a\"],[0.8888888888888888,\"#fdca26\"],[1.0,\"#f0f921\"]],\"sequentialminus\":[[0.0,\"#0d0887\"],[0.1111111111111111,\"#46039f\"],[0.2222222222222222,\"#7201a8\"],[0.3333333333333333,\"#9c179e\"],[0.4444444444444444,\"#bd3786\"],[0.5555555555555556,\"#d8576b\"],[0.6666666666666666,\"#ed7953\"],[0.7777777777777778,\"#fb9f3a\"],[0.8888888888888888,\"#fdca26\"],[1.0,\"#f0f921\"]]},\"colorway\":[\"#636efa\",\"#EF553B\",\"#00cc96\",\"#ab63fa\",\"#FFA15A\",\"#19d3f3\",\"#FF6692\",\"#B6E880\",\"#FF97FF\",\"#FECB52\"],\"font\":{\"color\":\"#2a3f5f\"},\"geo\":{\"bgcolor\":\"white\",\"lakecolor\":\"white\",\"landcolor\":\"#E5ECF6\",\"showlakes\":true,\"showland\":true,\"subunitcolor\":\"white\"},\"hoverlabel\":{\"align\":\"left\"},\"hovermode\":\"closest\",\"mapbox\":{\"style\":\"light\"},\"paper_bgcolor\":\"white\",\"plot_bgcolor\":\"#E5ECF6\",\"polar\":{\"angularaxis\":{\"gridcolor\":\"white\",\"linecolor\":\"white\",\"ticks\":\"\"},\"bgcolor\":\"#E5ECF6\",\"radialaxis\":{\"gridcolor\":\"white\",\"linecolor\":\"white\",\"ticks\":\"\"}},\"scene\":{\"xaxis\":{\"backgroundcolor\":\"#E5ECF6\",\"gridcolor\":\"white\",\"gridwidth\":2,\"linecolor\":\"white\",\"showbackground\":true,\"ticks\":\"\",\"zerolinecolor\":\"white\"},\"yaxis\":{\"backgroundcolor\":\"#E5ECF6\",\"gridcolor\":\"white\",\"gridwidth\":2,\"linecolor\":\"white\",\"showbackground\":true,\"ticks\":\"\",\"zerolinecolor\":\"white\"},\"zaxis\":{\"backgroundcolor\":\"#E5ECF6\",\"gridcolor\":\"white\",\"gridwidth\":2,\"linecolor\":\"white\",\"showbackground\":true,\"ticks\":\"\",\"zerolinecolor\":\"white\"}},\"shapedefaults\":{\"line\":{\"color\":\"#2a3f5f\"}},\"ternary\":{\"aaxis\":{\"gridcolor\":\"white\",\"linecolor\":\"white\",\"ticks\":\"\"},\"baxis\":{\"gridcolor\":\"white\",\"linecolor\":\"white\",\"ticks\":\"\"},\"bgcolor\":\"#E5ECF6\",\"caxis\":{\"gridcolor\":\"white\",\"linecolor\":\"white\",\"ticks\":\"\"}},\"title\":{\"x\":0.05},\"xaxis\":{\"automargin\":true,\"gridcolor\":\"white\",\"linecolor\":\"white\",\"ticks\":\"\",\"title\":{\"standoff\":15},\"zerolinecolor\":\"white\",\"zerolinewidth\":2},\"yaxis\":{\"automargin\":true,\"gridcolor\":\"white\",\"linecolor\":\"white\",\"ticks\":\"\",\"title\":{\"standoff\":15},\"zerolinecolor\":\"white\",\"zerolinewidth\":2}}},\"xaxis\":{\"anchor\":\"y\",\"domain\":[0.0,1.0],\"title\":{\"text\":\"MonthlyIncomeLevel\"}},\"yaxis\":{\"anchor\":\"x\",\"domain\":[0.0,1.0],\"title\":{\"text\":\"count\"}},\"legend\":{\"tracegroupgap\":0},\"margin\":{\"t\":60},\"barmode\":\"relative\"},                        {\"responsive\": true}                    ).then(function(){\n",
       "                            \n",
       "var gd = document.getElementById('23fc59b7-33ad-423a-9c25-6b8e62d83334');\n",
       "var x = new MutationObserver(function (mutations, observer) {{\n",
       "        var display = window.getComputedStyle(gd).display;\n",
       "        if (!display || display === 'none') {{\n",
       "            console.log([gd, 'removed!']);\n",
       "            Plotly.purge(gd);\n",
       "            observer.disconnect();\n",
       "        }}\n",
       "}});\n",
       "\n",
       "// Listen for the removal of the full notebook cells\n",
       "var notebookContainer = gd.closest('#notebook-container');\n",
       "if (notebookContainer) {{\n",
       "    x.observe(notebookContainer, {childList: true});\n",
       "}}\n",
       "\n",
       "// Listen for the clearing of the current output cell\n",
       "var outputEl = gd.closest('.output');\n",
       "if (outputEl) {{\n",
       "    x.observe(outputEl, {childList: true});\n",
       "}}\n",
       "\n",
       "                        })                };                });            </script>        </div>"
      ]
     },
     "metadata": {},
     "output_type": "display_data"
    }
   ],
   "source": [
    "fig = px.histogram(df_viz, x='MonthlyIncomeLevel')\n",
    "fig.show()"
   ]
  },
  {
   "cell_type": "code",
   "execution_count": 47,
   "metadata": {
    "scrolled": false
   },
   "outputs": [
    {
     "data": {
      "application/vnd.plotly.v1+json": {
       "config": {
        "plotlyServerURL": "https://plot.ly"
       },
       "data": [
        {
         "alignmentgroup": "True",
         "bingroup": "x",
         "hovertemplate": "MonthlyIncomeLevel=%{x}<br>count=%{y}<extra></extra>",
         "legendgroup": "",
         "marker": {
          "color": "#636efa",
          "pattern": {
           "shape": ""
          }
         },
         "name": "",
         "offsetgroup": "",
         "orientation": "v",
         "showlegend": false,
         "type": "histogram",
         "x": [
          ">20,000 SAR",
          ">20,000 SAR",
          ">20,000 SAR",
          ">20,000 SAR",
          "7,000-12,000SAR",
          ">20,000 SAR",
          ">20,000 SAR",
          "<7,000 SAR",
          "7,000-12,000SAR",
          ">20,000 SAR",
          "7,000-12,000SAR",
          "7,000-12,000SAR",
          "13,000-20,000SAR",
          ">20,000 SAR",
          "<7,000 SAR",
          ">20,000 SAR",
          "7,000-12,000SAR",
          "13,000-20,000SAR",
          ">20,000 SAR",
          "13,000-20,000SAR",
          "<7,000 SAR",
          "13,000-20,000SAR",
          ">20,000 SAR",
          "<7,000 SAR",
          "<7,000 SAR",
          ">20,000 SAR",
          "<7,000 SAR",
          "7,000-12,000SAR",
          "<7,000 SAR",
          "<7,000 SAR",
          "7,000-12,000SAR",
          "<7,000 SAR",
          "7,000-12,000SAR",
          "<7,000 SAR",
          "<7,000 SAR",
          "13,000-20,000SAR",
          ">20,000 SAR",
          "13,000-20,000SAR",
          "<7,000 SAR",
          "7,000-12,000SAR",
          "7,000-12,000SAR",
          "13,000-20,000SAR",
          "7,000-12,000SAR",
          "<7,000 SAR",
          ">20,000 SAR",
          ">20,000 SAR",
          "<7,000 SAR",
          ">20,000 SAR",
          "13,000-20,000SAR",
          "7,000-12,000SAR",
          "<7,000 SAR",
          "7,000-12,000SAR",
          "13,000-20,000SAR",
          ">20,000 SAR",
          "<7,000 SAR",
          "<7,000 SAR",
          ">20,000 SAR",
          "7,000-12,000SAR",
          ">20,000 SAR",
          "7,000-12,000SAR",
          ">20,000 SAR",
          "<7,000 SAR",
          "7,000-12,000SAR",
          "<7,000 SAR",
          ">20,000 SAR",
          "7,000-12,000SAR",
          "<7,000 SAR",
          "7,000-12,000SAR",
          "13,000-20,000SAR",
          "7,000-12,000SAR",
          "13,000-20,000SAR",
          "7,000-12,000SAR",
          ">20,000 SAR",
          ">20,000 SAR",
          "7,000-12,000SAR",
          "13,000-20,000SAR",
          "<7,000 SAR",
          "<7,000 SAR",
          ">20,000 SAR",
          "7,000-12,000SAR",
          "7,000-12,000SAR",
          ">20,000 SAR",
          "<7,000 SAR",
          ">20,000 SAR",
          "13,000-20,000SAR",
          "<7,000 SAR",
          "13,000-20,000SAR",
          "<7,000 SAR",
          "7,000-12,000SAR",
          "<7,000 SAR",
          "7,000-12,000SAR",
          "13,000-20,000SAR",
          "7,000-12,000SAR",
          ">20,000 SAR",
          "7,000-12,000SAR",
          ">20,000 SAR",
          ">20,000 SAR",
          "13,000-20,000SAR",
          ">20,000 SAR",
          "7,000-12,000SAR",
          "<7,000 SAR",
          "<7,000 SAR",
          ">20,000 SAR",
          "13,000-20,000SAR",
          "<7,000 SAR",
          "7,000-12,000SAR",
          "13,000-20,000SAR",
          "7,000-12,000SAR",
          "<7,000 SAR",
          ">20,000 SAR",
          "13,000-20,000SAR",
          "13,000-20,000SAR",
          "<7,000 SAR",
          "13,000-20,000SAR",
          "7,000-12,000SAR",
          "7,000-12,000SAR",
          ">20,000 SAR",
          "13,000-20,000SAR",
          ">20,000 SAR",
          ">20,000 SAR",
          "<7,000 SAR",
          "13,000-20,000SAR",
          ">20,000 SAR",
          "<7,000 SAR",
          ">20,000 SAR",
          ">20,000 SAR",
          ">20,000 SAR",
          ">20,000 SAR",
          "7,000-12,000SAR",
          "7,000-12,000SAR",
          "7,000-12,000SAR",
          ">20,000 SAR",
          "13,000-20,000SAR",
          ">20,000 SAR",
          "7,000-12,000SAR",
          "<7,000 SAR",
          "<7,000 SAR",
          ">20,000 SAR",
          "<7,000 SAR",
          "7,000-12,000SAR",
          "7,000-12,000SAR",
          "7,000-12,000SAR",
          ">20,000 SAR",
          ">20,000 SAR",
          "7,000-12,000SAR",
          "13,000-20,000SAR",
          "7,000-12,000SAR",
          ">20,000 SAR",
          "13,000-20,000SAR",
          ">20,000 SAR",
          "<7,000 SAR",
          ">20,000 SAR",
          ">20,000 SAR",
          "7,000-12,000SAR",
          ">20,000 SAR",
          "7,000-12,000SAR",
          "7,000-12,000SAR",
          "7,000-12,000SAR",
          "7,000-12,000SAR",
          ">20,000 SAR",
          ">20,000 SAR",
          "<7,000 SAR",
          "7,000-12,000SAR",
          "13,000-20,000SAR",
          "<7,000 SAR",
          ">20,000 SAR",
          "13,000-20,000SAR",
          "<7,000 SAR",
          ">20,000 SAR",
          "13,000-20,000SAR",
          "7,000-12,000SAR",
          "<7,000 SAR",
          "13,000-20,000SAR",
          "<7,000 SAR",
          "7,000-12,000SAR",
          ">20,000 SAR",
          "13,000-20,000SAR",
          ">20,000 SAR",
          "7,000-12,000SAR",
          "13,000-20,000SAR",
          "<7,000 SAR",
          "13,000-20,000SAR",
          "7,000-12,000SAR",
          "<7,000 SAR",
          "13,000-20,000SAR",
          "<7,000 SAR",
          "13,000-20,000SAR",
          ">20,000 SAR",
          ">20,000 SAR",
          "<7,000 SAR",
          ">20,000 SAR",
          "<7,000 SAR",
          "<7,000 SAR",
          "<7,000 SAR",
          "13,000-20,000SAR",
          "7,000-12,000SAR",
          "13,000-20,000SAR",
          ">20,000 SAR",
          ">20,000 SAR",
          ">20,000 SAR",
          "13,000-20,000SAR",
          ">20,000 SAR",
          "13,000-20,000SAR",
          "13,000-20,000SAR",
          ">20,000 SAR",
          ">20,000 SAR",
          ">20,000 SAR",
          "<7,000 SAR",
          "<7,000 SAR",
          "7,000-12,000SAR",
          ">20,000 SAR",
          "13,000-20,000SAR",
          ">20,000 SAR",
          "13,000-20,000SAR",
          ">20,000 SAR",
          "7,000-12,000SAR",
          ">20,000 SAR",
          "13,000-20,000SAR",
          "7,000-12,000SAR",
          ">20,000 SAR",
          "7,000-12,000SAR",
          ">20,000 SAR",
          "13,000-20,000SAR",
          "7,000-12,000SAR",
          "7,000-12,000SAR",
          ">20,000 SAR",
          "<7,000 SAR",
          ">20,000 SAR",
          "7,000-12,000SAR",
          "7,000-12,000SAR",
          "13,000-20,000SAR",
          "<7,000 SAR",
          "13,000-20,000SAR",
          "13,000-20,000SAR",
          ">20,000 SAR",
          "13,000-20,000SAR",
          "<7,000 SAR",
          ">20,000 SAR",
          "<7,000 SAR",
          ">20,000 SAR",
          "<7,000 SAR",
          "13,000-20,000SAR",
          "<7,000 SAR",
          "<7,000 SAR",
          ">20,000 SAR",
          "13,000-20,000SAR",
          ">20,000 SAR",
          "13,000-20,000SAR"
         ],
         "xaxis": "x",
         "yaxis": "y"
        }
       ],
       "layout": {
        "barmode": "relative",
        "legend": {
         "tracegroupgap": 0
        },
        "margin": {
         "t": 60
        },
        "template": {
         "data": {
          "bar": [
           {
            "error_x": {
             "color": "#2a3f5f"
            },
            "error_y": {
             "color": "#2a3f5f"
            },
            "marker": {
             "line": {
              "color": "#E5ECF6",
              "width": 0.5
             },
             "pattern": {
              "fillmode": "overlay",
              "size": 10,
              "solidity": 0.2
             }
            },
            "type": "bar"
           }
          ],
          "barpolar": [
           {
            "marker": {
             "line": {
              "color": "#E5ECF6",
              "width": 0.5
             },
             "pattern": {
              "fillmode": "overlay",
              "size": 10,
              "solidity": 0.2
             }
            },
            "type": "barpolar"
           }
          ],
          "carpet": [
           {
            "aaxis": {
             "endlinecolor": "#2a3f5f",
             "gridcolor": "white",
             "linecolor": "white",
             "minorgridcolor": "white",
             "startlinecolor": "#2a3f5f"
            },
            "baxis": {
             "endlinecolor": "#2a3f5f",
             "gridcolor": "white",
             "linecolor": "white",
             "minorgridcolor": "white",
             "startlinecolor": "#2a3f5f"
            },
            "type": "carpet"
           }
          ],
          "choropleth": [
           {
            "colorbar": {
             "outlinewidth": 0,
             "ticks": ""
            },
            "type": "choropleth"
           }
          ],
          "contour": [
           {
            "colorbar": {
             "outlinewidth": 0,
             "ticks": ""
            },
            "colorscale": [
             [
              0,
              "#0d0887"
             ],
             [
              0.1111111111111111,
              "#46039f"
             ],
             [
              0.2222222222222222,
              "#7201a8"
             ],
             [
              0.3333333333333333,
              "#9c179e"
             ],
             [
              0.4444444444444444,
              "#bd3786"
             ],
             [
              0.5555555555555556,
              "#d8576b"
             ],
             [
              0.6666666666666666,
              "#ed7953"
             ],
             [
              0.7777777777777778,
              "#fb9f3a"
             ],
             [
              0.8888888888888888,
              "#fdca26"
             ],
             [
              1,
              "#f0f921"
             ]
            ],
            "type": "contour"
           }
          ],
          "contourcarpet": [
           {
            "colorbar": {
             "outlinewidth": 0,
             "ticks": ""
            },
            "type": "contourcarpet"
           }
          ],
          "heatmap": [
           {
            "colorbar": {
             "outlinewidth": 0,
             "ticks": ""
            },
            "colorscale": [
             [
              0,
              "#0d0887"
             ],
             [
              0.1111111111111111,
              "#46039f"
             ],
             [
              0.2222222222222222,
              "#7201a8"
             ],
             [
              0.3333333333333333,
              "#9c179e"
             ],
             [
              0.4444444444444444,
              "#bd3786"
             ],
             [
              0.5555555555555556,
              "#d8576b"
             ],
             [
              0.6666666666666666,
              "#ed7953"
             ],
             [
              0.7777777777777778,
              "#fb9f3a"
             ],
             [
              0.8888888888888888,
              "#fdca26"
             ],
             [
              1,
              "#f0f921"
             ]
            ],
            "type": "heatmap"
           }
          ],
          "heatmapgl": [
           {
            "colorbar": {
             "outlinewidth": 0,
             "ticks": ""
            },
            "colorscale": [
             [
              0,
              "#0d0887"
             ],
             [
              0.1111111111111111,
              "#46039f"
             ],
             [
              0.2222222222222222,
              "#7201a8"
             ],
             [
              0.3333333333333333,
              "#9c179e"
             ],
             [
              0.4444444444444444,
              "#bd3786"
             ],
             [
              0.5555555555555556,
              "#d8576b"
             ],
             [
              0.6666666666666666,
              "#ed7953"
             ],
             [
              0.7777777777777778,
              "#fb9f3a"
             ],
             [
              0.8888888888888888,
              "#fdca26"
             ],
             [
              1,
              "#f0f921"
             ]
            ],
            "type": "heatmapgl"
           }
          ],
          "histogram": [
           {
            "marker": {
             "pattern": {
              "fillmode": "overlay",
              "size": 10,
              "solidity": 0.2
             }
            },
            "type": "histogram"
           }
          ],
          "histogram2d": [
           {
            "colorbar": {
             "outlinewidth": 0,
             "ticks": ""
            },
            "colorscale": [
             [
              0,
              "#0d0887"
             ],
             [
              0.1111111111111111,
              "#46039f"
             ],
             [
              0.2222222222222222,
              "#7201a8"
             ],
             [
              0.3333333333333333,
              "#9c179e"
             ],
             [
              0.4444444444444444,
              "#bd3786"
             ],
             [
              0.5555555555555556,
              "#d8576b"
             ],
             [
              0.6666666666666666,
              "#ed7953"
             ],
             [
              0.7777777777777778,
              "#fb9f3a"
             ],
             [
              0.8888888888888888,
              "#fdca26"
             ],
             [
              1,
              "#f0f921"
             ]
            ],
            "type": "histogram2d"
           }
          ],
          "histogram2dcontour": [
           {
            "colorbar": {
             "outlinewidth": 0,
             "ticks": ""
            },
            "colorscale": [
             [
              0,
              "#0d0887"
             ],
             [
              0.1111111111111111,
              "#46039f"
             ],
             [
              0.2222222222222222,
              "#7201a8"
             ],
             [
              0.3333333333333333,
              "#9c179e"
             ],
             [
              0.4444444444444444,
              "#bd3786"
             ],
             [
              0.5555555555555556,
              "#d8576b"
             ],
             [
              0.6666666666666666,
              "#ed7953"
             ],
             [
              0.7777777777777778,
              "#fb9f3a"
             ],
             [
              0.8888888888888888,
              "#fdca26"
             ],
             [
              1,
              "#f0f921"
             ]
            ],
            "type": "histogram2dcontour"
           }
          ],
          "mesh3d": [
           {
            "colorbar": {
             "outlinewidth": 0,
             "ticks": ""
            },
            "type": "mesh3d"
           }
          ],
          "parcoords": [
           {
            "line": {
             "colorbar": {
              "outlinewidth": 0,
              "ticks": ""
             }
            },
            "type": "parcoords"
           }
          ],
          "pie": [
           {
            "automargin": true,
            "type": "pie"
           }
          ],
          "scatter": [
           {
            "marker": {
             "colorbar": {
              "outlinewidth": 0,
              "ticks": ""
             }
            },
            "type": "scatter"
           }
          ],
          "scatter3d": [
           {
            "line": {
             "colorbar": {
              "outlinewidth": 0,
              "ticks": ""
             }
            },
            "marker": {
             "colorbar": {
              "outlinewidth": 0,
              "ticks": ""
             }
            },
            "type": "scatter3d"
           }
          ],
          "scattercarpet": [
           {
            "marker": {
             "colorbar": {
              "outlinewidth": 0,
              "ticks": ""
             }
            },
            "type": "scattercarpet"
           }
          ],
          "scattergeo": [
           {
            "marker": {
             "colorbar": {
              "outlinewidth": 0,
              "ticks": ""
             }
            },
            "type": "scattergeo"
           }
          ],
          "scattergl": [
           {
            "marker": {
             "colorbar": {
              "outlinewidth": 0,
              "ticks": ""
             }
            },
            "type": "scattergl"
           }
          ],
          "scattermapbox": [
           {
            "marker": {
             "colorbar": {
              "outlinewidth": 0,
              "ticks": ""
             }
            },
            "type": "scattermapbox"
           }
          ],
          "scatterpolar": [
           {
            "marker": {
             "colorbar": {
              "outlinewidth": 0,
              "ticks": ""
             }
            },
            "type": "scatterpolar"
           }
          ],
          "scatterpolargl": [
           {
            "marker": {
             "colorbar": {
              "outlinewidth": 0,
              "ticks": ""
             }
            },
            "type": "scatterpolargl"
           }
          ],
          "scatterternary": [
           {
            "marker": {
             "colorbar": {
              "outlinewidth": 0,
              "ticks": ""
             }
            },
            "type": "scatterternary"
           }
          ],
          "surface": [
           {
            "colorbar": {
             "outlinewidth": 0,
             "ticks": ""
            },
            "colorscale": [
             [
              0,
              "#0d0887"
             ],
             [
              0.1111111111111111,
              "#46039f"
             ],
             [
              0.2222222222222222,
              "#7201a8"
             ],
             [
              0.3333333333333333,
              "#9c179e"
             ],
             [
              0.4444444444444444,
              "#bd3786"
             ],
             [
              0.5555555555555556,
              "#d8576b"
             ],
             [
              0.6666666666666666,
              "#ed7953"
             ],
             [
              0.7777777777777778,
              "#fb9f3a"
             ],
             [
              0.8888888888888888,
              "#fdca26"
             ],
             [
              1,
              "#f0f921"
             ]
            ],
            "type": "surface"
           }
          ],
          "table": [
           {
            "cells": {
             "fill": {
              "color": "#EBF0F8"
             },
             "line": {
              "color": "white"
             }
            },
            "header": {
             "fill": {
              "color": "#C8D4E3"
             },
             "line": {
              "color": "white"
             }
            },
            "type": "table"
           }
          ]
         },
         "layout": {
          "annotationdefaults": {
           "arrowcolor": "#2a3f5f",
           "arrowhead": 0,
           "arrowwidth": 1
          },
          "autotypenumbers": "strict",
          "coloraxis": {
           "colorbar": {
            "outlinewidth": 0,
            "ticks": ""
           }
          },
          "colorscale": {
           "diverging": [
            [
             0,
             "#8e0152"
            ],
            [
             0.1,
             "#c51b7d"
            ],
            [
             0.2,
             "#de77ae"
            ],
            [
             0.3,
             "#f1b6da"
            ],
            [
             0.4,
             "#fde0ef"
            ],
            [
             0.5,
             "#f7f7f7"
            ],
            [
             0.6,
             "#e6f5d0"
            ],
            [
             0.7,
             "#b8e186"
            ],
            [
             0.8,
             "#7fbc41"
            ],
            [
             0.9,
             "#4d9221"
            ],
            [
             1,
             "#276419"
            ]
           ],
           "sequential": [
            [
             0,
             "#0d0887"
            ],
            [
             0.1111111111111111,
             "#46039f"
            ],
            [
             0.2222222222222222,
             "#7201a8"
            ],
            [
             0.3333333333333333,
             "#9c179e"
            ],
            [
             0.4444444444444444,
             "#bd3786"
            ],
            [
             0.5555555555555556,
             "#d8576b"
            ],
            [
             0.6666666666666666,
             "#ed7953"
            ],
            [
             0.7777777777777778,
             "#fb9f3a"
            ],
            [
             0.8888888888888888,
             "#fdca26"
            ],
            [
             1,
             "#f0f921"
            ]
           ],
           "sequentialminus": [
            [
             0,
             "#0d0887"
            ],
            [
             0.1111111111111111,
             "#46039f"
            ],
            [
             0.2222222222222222,
             "#7201a8"
            ],
            [
             0.3333333333333333,
             "#9c179e"
            ],
            [
             0.4444444444444444,
             "#bd3786"
            ],
            [
             0.5555555555555556,
             "#d8576b"
            ],
            [
             0.6666666666666666,
             "#ed7953"
            ],
            [
             0.7777777777777778,
             "#fb9f3a"
            ],
            [
             0.8888888888888888,
             "#fdca26"
            ],
            [
             1,
             "#f0f921"
            ]
           ]
          },
          "colorway": [
           "#636efa",
           "#EF553B",
           "#00cc96",
           "#ab63fa",
           "#FFA15A",
           "#19d3f3",
           "#FF6692",
           "#B6E880",
           "#FF97FF",
           "#FECB52"
          ],
          "font": {
           "color": "#2a3f5f"
          },
          "geo": {
           "bgcolor": "white",
           "lakecolor": "white",
           "landcolor": "#E5ECF6",
           "showlakes": true,
           "showland": true,
           "subunitcolor": "white"
          },
          "hoverlabel": {
           "align": "left"
          },
          "hovermode": "closest",
          "mapbox": {
           "style": "light"
          },
          "paper_bgcolor": "white",
          "plot_bgcolor": "#E5ECF6",
          "polar": {
           "angularaxis": {
            "gridcolor": "white",
            "linecolor": "white",
            "ticks": ""
           },
           "bgcolor": "#E5ECF6",
           "radialaxis": {
            "gridcolor": "white",
            "linecolor": "white",
            "ticks": ""
           }
          },
          "scene": {
           "xaxis": {
            "backgroundcolor": "#E5ECF6",
            "gridcolor": "white",
            "gridwidth": 2,
            "linecolor": "white",
            "showbackground": true,
            "ticks": "",
            "zerolinecolor": "white"
           },
           "yaxis": {
            "backgroundcolor": "#E5ECF6",
            "gridcolor": "white",
            "gridwidth": 2,
            "linecolor": "white",
            "showbackground": true,
            "ticks": "",
            "zerolinecolor": "white"
           },
           "zaxis": {
            "backgroundcolor": "#E5ECF6",
            "gridcolor": "white",
            "gridwidth": 2,
            "linecolor": "white",
            "showbackground": true,
            "ticks": "",
            "zerolinecolor": "white"
           }
          },
          "shapedefaults": {
           "line": {
            "color": "#2a3f5f"
           }
          },
          "ternary": {
           "aaxis": {
            "gridcolor": "white",
            "linecolor": "white",
            "ticks": ""
           },
           "baxis": {
            "gridcolor": "white",
            "linecolor": "white",
            "ticks": ""
           },
           "bgcolor": "#E5ECF6",
           "caxis": {
            "gridcolor": "white",
            "linecolor": "white",
            "ticks": ""
           }
          },
          "title": {
           "x": 0.05
          },
          "xaxis": {
           "automargin": true,
           "gridcolor": "white",
           "linecolor": "white",
           "ticks": "",
           "title": {
            "standoff": 15
           },
           "zerolinecolor": "white",
           "zerolinewidth": 2
          },
          "yaxis": {
           "automargin": true,
           "gridcolor": "white",
           "linecolor": "white",
           "ticks": "",
           "title": {
            "standoff": 15
           },
           "zerolinecolor": "white",
           "zerolinewidth": 2
          }
         }
        },
        "xaxis": {
         "anchor": "y",
         "domain": [
          0,
          1
         ],
         "title": {
          "text": "MonthlyIncomeLevel"
         }
        },
        "yaxis": {
         "anchor": "x",
         "domain": [
          0,
          1
         ],
         "title": {
          "text": "count"
         }
        }
       }
      },
      "text/html": [
       "<div>                            <div id=\"7b6b1821-ca78-4c40-9345-359530ea116d\" class=\"plotly-graph-div\" style=\"height:525px; width:100%;\"></div>            <script type=\"text/javascript\">                require([\"plotly\"], function(Plotly) {                    window.PLOTLYENV=window.PLOTLYENV || {};                                    if (document.getElementById(\"7b6b1821-ca78-4c40-9345-359530ea116d\")) {                    Plotly.newPlot(                        \"7b6b1821-ca78-4c40-9345-359530ea116d\",                        [{\"alignmentgroup\":\"True\",\"bingroup\":\"x\",\"hovertemplate\":\"MonthlyIncomeLevel=%{x}<br>count=%{y}<extra></extra>\",\"legendgroup\":\"\",\"marker\":{\"color\":\"#636efa\",\"pattern\":{\"shape\":\"\"}},\"name\":\"\",\"offsetgroup\":\"\",\"orientation\":\"v\",\"showlegend\":false,\"x\":[\">20,000 SAR\",\">20,000 SAR\",\">20,000 SAR\",\">20,000 SAR\",\"7,000-12,000SAR\",\">20,000 SAR\",\">20,000 SAR\",\"<7,000 SAR\",\"7,000-12,000SAR\",\">20,000 SAR\",\"7,000-12,000SAR\",\"7,000-12,000SAR\",\"13,000-20,000SAR\",\">20,000 SAR\",\"<7,000 SAR\",\">20,000 SAR\",\"7,000-12,000SAR\",\"13,000-20,000SAR\",\">20,000 SAR\",\"13,000-20,000SAR\",\"<7,000 SAR\",\"13,000-20,000SAR\",\">20,000 SAR\",\"<7,000 SAR\",\"<7,000 SAR\",\">20,000 SAR\",\"<7,000 SAR\",\"7,000-12,000SAR\",\"<7,000 SAR\",\"<7,000 SAR\",\"7,000-12,000SAR\",\"<7,000 SAR\",\"7,000-12,000SAR\",\"<7,000 SAR\",\"<7,000 SAR\",\"13,000-20,000SAR\",\">20,000 SAR\",\"13,000-20,000SAR\",\"<7,000 SAR\",\"7,000-12,000SAR\",\"7,000-12,000SAR\",\"13,000-20,000SAR\",\"7,000-12,000SAR\",\"<7,000 SAR\",\">20,000 SAR\",\">20,000 SAR\",\"<7,000 SAR\",\">20,000 SAR\",\"13,000-20,000SAR\",\"7,000-12,000SAR\",\"<7,000 SAR\",\"7,000-12,000SAR\",\"13,000-20,000SAR\",\">20,000 SAR\",\"<7,000 SAR\",\"<7,000 SAR\",\">20,000 SAR\",\"7,000-12,000SAR\",\">20,000 SAR\",\"7,000-12,000SAR\",\">20,000 SAR\",\"<7,000 SAR\",\"7,000-12,000SAR\",\"<7,000 SAR\",\">20,000 SAR\",\"7,000-12,000SAR\",\"<7,000 SAR\",\"7,000-12,000SAR\",\"13,000-20,000SAR\",\"7,000-12,000SAR\",\"13,000-20,000SAR\",\"7,000-12,000SAR\",\">20,000 SAR\",\">20,000 SAR\",\"7,000-12,000SAR\",\"13,000-20,000SAR\",\"<7,000 SAR\",\"<7,000 SAR\",\">20,000 SAR\",\"7,000-12,000SAR\",\"7,000-12,000SAR\",\">20,000 SAR\",\"<7,000 SAR\",\">20,000 SAR\",\"13,000-20,000SAR\",\"<7,000 SAR\",\"13,000-20,000SAR\",\"<7,000 SAR\",\"7,000-12,000SAR\",\"<7,000 SAR\",\"7,000-12,000SAR\",\"13,000-20,000SAR\",\"7,000-12,000SAR\",\">20,000 SAR\",\"7,000-12,000SAR\",\">20,000 SAR\",\">20,000 SAR\",\"13,000-20,000SAR\",\">20,000 SAR\",\"7,000-12,000SAR\",\"<7,000 SAR\",\"<7,000 SAR\",\">20,000 SAR\",\"13,000-20,000SAR\",\"<7,000 SAR\",\"7,000-12,000SAR\",\"13,000-20,000SAR\",\"7,000-12,000SAR\",\"<7,000 SAR\",\">20,000 SAR\",\"13,000-20,000SAR\",\"13,000-20,000SAR\",\"<7,000 SAR\",\"13,000-20,000SAR\",\"7,000-12,000SAR\",\"7,000-12,000SAR\",\">20,000 SAR\",\"13,000-20,000SAR\",\">20,000 SAR\",\">20,000 SAR\",\"<7,000 SAR\",\"13,000-20,000SAR\",\">20,000 SAR\",\"<7,000 SAR\",\">20,000 SAR\",\">20,000 SAR\",\">20,000 SAR\",\">20,000 SAR\",\"7,000-12,000SAR\",\"7,000-12,000SAR\",\"7,000-12,000SAR\",\">20,000 SAR\",\"13,000-20,000SAR\",\">20,000 SAR\",\"7,000-12,000SAR\",\"<7,000 SAR\",\"<7,000 SAR\",\">20,000 SAR\",\"<7,000 SAR\",\"7,000-12,000SAR\",\"7,000-12,000SAR\",\"7,000-12,000SAR\",\">20,000 SAR\",\">20,000 SAR\",\"7,000-12,000SAR\",\"13,000-20,000SAR\",\"7,000-12,000SAR\",\">20,000 SAR\",\"13,000-20,000SAR\",\">20,000 SAR\",\"<7,000 SAR\",\">20,000 SAR\",\">20,000 SAR\",\"7,000-12,000SAR\",\">20,000 SAR\",\"7,000-12,000SAR\",\"7,000-12,000SAR\",\"7,000-12,000SAR\",\"7,000-12,000SAR\",\">20,000 SAR\",\">20,000 SAR\",\"<7,000 SAR\",\"7,000-12,000SAR\",\"13,000-20,000SAR\",\"<7,000 SAR\",\">20,000 SAR\",\"13,000-20,000SAR\",\"<7,000 SAR\",\">20,000 SAR\",\"13,000-20,000SAR\",\"7,000-12,000SAR\",\"<7,000 SAR\",\"13,000-20,000SAR\",\"<7,000 SAR\",\"7,000-12,000SAR\",\">20,000 SAR\",\"13,000-20,000SAR\",\">20,000 SAR\",\"7,000-12,000SAR\",\"13,000-20,000SAR\",\"<7,000 SAR\",\"13,000-20,000SAR\",\"7,000-12,000SAR\",\"<7,000 SAR\",\"13,000-20,000SAR\",\"<7,000 SAR\",\"13,000-20,000SAR\",\">20,000 SAR\",\">20,000 SAR\",\"<7,000 SAR\",\">20,000 SAR\",\"<7,000 SAR\",\"<7,000 SAR\",\"<7,000 SAR\",\"13,000-20,000SAR\",\"7,000-12,000SAR\",\"13,000-20,000SAR\",\">20,000 SAR\",\">20,000 SAR\",\">20,000 SAR\",\"13,000-20,000SAR\",\">20,000 SAR\",\"13,000-20,000SAR\",\"13,000-20,000SAR\",\">20,000 SAR\",\">20,000 SAR\",\">20,000 SAR\",\"<7,000 SAR\",\"<7,000 SAR\",\"7,000-12,000SAR\",\">20,000 SAR\",\"13,000-20,000SAR\",\">20,000 SAR\",\"13,000-20,000SAR\",\">20,000 SAR\",\"7,000-12,000SAR\",\">20,000 SAR\",\"13,000-20,000SAR\",\"7,000-12,000SAR\",\">20,000 SAR\",\"7,000-12,000SAR\",\">20,000 SAR\",\"13,000-20,000SAR\",\"7,000-12,000SAR\",\"7,000-12,000SAR\",\">20,000 SAR\",\"<7,000 SAR\",\">20,000 SAR\",\"7,000-12,000SAR\",\"7,000-12,000SAR\",\"13,000-20,000SAR\",\"<7,000 SAR\",\"13,000-20,000SAR\",\"13,000-20,000SAR\",\">20,000 SAR\",\"13,000-20,000SAR\",\"<7,000 SAR\",\">20,000 SAR\",\"<7,000 SAR\",\">20,000 SAR\",\"<7,000 SAR\",\"13,000-20,000SAR\",\"<7,000 SAR\",\"<7,000 SAR\",\">20,000 SAR\",\"13,000-20,000SAR\",\">20,000 SAR\",\"13,000-20,000SAR\"],\"xaxis\":\"x\",\"yaxis\":\"y\",\"type\":\"histogram\"}],                        {\"template\":{\"data\":{\"bar\":[{\"error_x\":{\"color\":\"#2a3f5f\"},\"error_y\":{\"color\":\"#2a3f5f\"},\"marker\":{\"line\":{\"color\":\"#E5ECF6\",\"width\":0.5},\"pattern\":{\"fillmode\":\"overlay\",\"size\":10,\"solidity\":0.2}},\"type\":\"bar\"}],\"barpolar\":[{\"marker\":{\"line\":{\"color\":\"#E5ECF6\",\"width\":0.5},\"pattern\":{\"fillmode\":\"overlay\",\"size\":10,\"solidity\":0.2}},\"type\":\"barpolar\"}],\"carpet\":[{\"aaxis\":{\"endlinecolor\":\"#2a3f5f\",\"gridcolor\":\"white\",\"linecolor\":\"white\",\"minorgridcolor\":\"white\",\"startlinecolor\":\"#2a3f5f\"},\"baxis\":{\"endlinecolor\":\"#2a3f5f\",\"gridcolor\":\"white\",\"linecolor\":\"white\",\"minorgridcolor\":\"white\",\"startlinecolor\":\"#2a3f5f\"},\"type\":\"carpet\"}],\"choropleth\":[{\"colorbar\":{\"outlinewidth\":0,\"ticks\":\"\"},\"type\":\"choropleth\"}],\"contour\":[{\"colorbar\":{\"outlinewidth\":0,\"ticks\":\"\"},\"colorscale\":[[0.0,\"#0d0887\"],[0.1111111111111111,\"#46039f\"],[0.2222222222222222,\"#7201a8\"],[0.3333333333333333,\"#9c179e\"],[0.4444444444444444,\"#bd3786\"],[0.5555555555555556,\"#d8576b\"],[0.6666666666666666,\"#ed7953\"],[0.7777777777777778,\"#fb9f3a\"],[0.8888888888888888,\"#fdca26\"],[1.0,\"#f0f921\"]],\"type\":\"contour\"}],\"contourcarpet\":[{\"colorbar\":{\"outlinewidth\":0,\"ticks\":\"\"},\"type\":\"contourcarpet\"}],\"heatmap\":[{\"colorbar\":{\"outlinewidth\":0,\"ticks\":\"\"},\"colorscale\":[[0.0,\"#0d0887\"],[0.1111111111111111,\"#46039f\"],[0.2222222222222222,\"#7201a8\"],[0.3333333333333333,\"#9c179e\"],[0.4444444444444444,\"#bd3786\"],[0.5555555555555556,\"#d8576b\"],[0.6666666666666666,\"#ed7953\"],[0.7777777777777778,\"#fb9f3a\"],[0.8888888888888888,\"#fdca26\"],[1.0,\"#f0f921\"]],\"type\":\"heatmap\"}],\"heatmapgl\":[{\"colorbar\":{\"outlinewidth\":0,\"ticks\":\"\"},\"colorscale\":[[0.0,\"#0d0887\"],[0.1111111111111111,\"#46039f\"],[0.2222222222222222,\"#7201a8\"],[0.3333333333333333,\"#9c179e\"],[0.4444444444444444,\"#bd3786\"],[0.5555555555555556,\"#d8576b\"],[0.6666666666666666,\"#ed7953\"],[0.7777777777777778,\"#fb9f3a\"],[0.8888888888888888,\"#fdca26\"],[1.0,\"#f0f921\"]],\"type\":\"heatmapgl\"}],\"histogram\":[{\"marker\":{\"pattern\":{\"fillmode\":\"overlay\",\"size\":10,\"solidity\":0.2}},\"type\":\"histogram\"}],\"histogram2d\":[{\"colorbar\":{\"outlinewidth\":0,\"ticks\":\"\"},\"colorscale\":[[0.0,\"#0d0887\"],[0.1111111111111111,\"#46039f\"],[0.2222222222222222,\"#7201a8\"],[0.3333333333333333,\"#9c179e\"],[0.4444444444444444,\"#bd3786\"],[0.5555555555555556,\"#d8576b\"],[0.6666666666666666,\"#ed7953\"],[0.7777777777777778,\"#fb9f3a\"],[0.8888888888888888,\"#fdca26\"],[1.0,\"#f0f921\"]],\"type\":\"histogram2d\"}],\"histogram2dcontour\":[{\"colorbar\":{\"outlinewidth\":0,\"ticks\":\"\"},\"colorscale\":[[0.0,\"#0d0887\"],[0.1111111111111111,\"#46039f\"],[0.2222222222222222,\"#7201a8\"],[0.3333333333333333,\"#9c179e\"],[0.4444444444444444,\"#bd3786\"],[0.5555555555555556,\"#d8576b\"],[0.6666666666666666,\"#ed7953\"],[0.7777777777777778,\"#fb9f3a\"],[0.8888888888888888,\"#fdca26\"],[1.0,\"#f0f921\"]],\"type\":\"histogram2dcontour\"}],\"mesh3d\":[{\"colorbar\":{\"outlinewidth\":0,\"ticks\":\"\"},\"type\":\"mesh3d\"}],\"parcoords\":[{\"line\":{\"colorbar\":{\"outlinewidth\":0,\"ticks\":\"\"}},\"type\":\"parcoords\"}],\"pie\":[{\"automargin\":true,\"type\":\"pie\"}],\"scatter\":[{\"marker\":{\"colorbar\":{\"outlinewidth\":0,\"ticks\":\"\"}},\"type\":\"scatter\"}],\"scatter3d\":[{\"line\":{\"colorbar\":{\"outlinewidth\":0,\"ticks\":\"\"}},\"marker\":{\"colorbar\":{\"outlinewidth\":0,\"ticks\":\"\"}},\"type\":\"scatter3d\"}],\"scattercarpet\":[{\"marker\":{\"colorbar\":{\"outlinewidth\":0,\"ticks\":\"\"}},\"type\":\"scattercarpet\"}],\"scattergeo\":[{\"marker\":{\"colorbar\":{\"outlinewidth\":0,\"ticks\":\"\"}},\"type\":\"scattergeo\"}],\"scattergl\":[{\"marker\":{\"colorbar\":{\"outlinewidth\":0,\"ticks\":\"\"}},\"type\":\"scattergl\"}],\"scattermapbox\":[{\"marker\":{\"colorbar\":{\"outlinewidth\":0,\"ticks\":\"\"}},\"type\":\"scattermapbox\"}],\"scatterpolar\":[{\"marker\":{\"colorbar\":{\"outlinewidth\":0,\"ticks\":\"\"}},\"type\":\"scatterpolar\"}],\"scatterpolargl\":[{\"marker\":{\"colorbar\":{\"outlinewidth\":0,\"ticks\":\"\"}},\"type\":\"scatterpolargl\"}],\"scatterternary\":[{\"marker\":{\"colorbar\":{\"outlinewidth\":0,\"ticks\":\"\"}},\"type\":\"scatterternary\"}],\"surface\":[{\"colorbar\":{\"outlinewidth\":0,\"ticks\":\"\"},\"colorscale\":[[0.0,\"#0d0887\"],[0.1111111111111111,\"#46039f\"],[0.2222222222222222,\"#7201a8\"],[0.3333333333333333,\"#9c179e\"],[0.4444444444444444,\"#bd3786\"],[0.5555555555555556,\"#d8576b\"],[0.6666666666666666,\"#ed7953\"],[0.7777777777777778,\"#fb9f3a\"],[0.8888888888888888,\"#fdca26\"],[1.0,\"#f0f921\"]],\"type\":\"surface\"}],\"table\":[{\"cells\":{\"fill\":{\"color\":\"#EBF0F8\"},\"line\":{\"color\":\"white\"}},\"header\":{\"fill\":{\"color\":\"#C8D4E3\"},\"line\":{\"color\":\"white\"}},\"type\":\"table\"}]},\"layout\":{\"annotationdefaults\":{\"arrowcolor\":\"#2a3f5f\",\"arrowhead\":0,\"arrowwidth\":1},\"autotypenumbers\":\"strict\",\"coloraxis\":{\"colorbar\":{\"outlinewidth\":0,\"ticks\":\"\"}},\"colorscale\":{\"diverging\":[[0,\"#8e0152\"],[0.1,\"#c51b7d\"],[0.2,\"#de77ae\"],[0.3,\"#f1b6da\"],[0.4,\"#fde0ef\"],[0.5,\"#f7f7f7\"],[0.6,\"#e6f5d0\"],[0.7,\"#b8e186\"],[0.8,\"#7fbc41\"],[0.9,\"#4d9221\"],[1,\"#276419\"]],\"sequential\":[[0.0,\"#0d0887\"],[0.1111111111111111,\"#46039f\"],[0.2222222222222222,\"#7201a8\"],[0.3333333333333333,\"#9c179e\"],[0.4444444444444444,\"#bd3786\"],[0.5555555555555556,\"#d8576b\"],[0.6666666666666666,\"#ed7953\"],[0.7777777777777778,\"#fb9f3a\"],[0.8888888888888888,\"#fdca26\"],[1.0,\"#f0f921\"]],\"sequentialminus\":[[0.0,\"#0d0887\"],[0.1111111111111111,\"#46039f\"],[0.2222222222222222,\"#7201a8\"],[0.3333333333333333,\"#9c179e\"],[0.4444444444444444,\"#bd3786\"],[0.5555555555555556,\"#d8576b\"],[0.6666666666666666,\"#ed7953\"],[0.7777777777777778,\"#fb9f3a\"],[0.8888888888888888,\"#fdca26\"],[1.0,\"#f0f921\"]]},\"colorway\":[\"#636efa\",\"#EF553B\",\"#00cc96\",\"#ab63fa\",\"#FFA15A\",\"#19d3f3\",\"#FF6692\",\"#B6E880\",\"#FF97FF\",\"#FECB52\"],\"font\":{\"color\":\"#2a3f5f\"},\"geo\":{\"bgcolor\":\"white\",\"lakecolor\":\"white\",\"landcolor\":\"#E5ECF6\",\"showlakes\":true,\"showland\":true,\"subunitcolor\":\"white\"},\"hoverlabel\":{\"align\":\"left\"},\"hovermode\":\"closest\",\"mapbox\":{\"style\":\"light\"},\"paper_bgcolor\":\"white\",\"plot_bgcolor\":\"#E5ECF6\",\"polar\":{\"angularaxis\":{\"gridcolor\":\"white\",\"linecolor\":\"white\",\"ticks\":\"\"},\"bgcolor\":\"#E5ECF6\",\"radialaxis\":{\"gridcolor\":\"white\",\"linecolor\":\"white\",\"ticks\":\"\"}},\"scene\":{\"xaxis\":{\"backgroundcolor\":\"#E5ECF6\",\"gridcolor\":\"white\",\"gridwidth\":2,\"linecolor\":\"white\",\"showbackground\":true,\"ticks\":\"\",\"zerolinecolor\":\"white\"},\"yaxis\":{\"backgroundcolor\":\"#E5ECF6\",\"gridcolor\":\"white\",\"gridwidth\":2,\"linecolor\":\"white\",\"showbackground\":true,\"ticks\":\"\",\"zerolinecolor\":\"white\"},\"zaxis\":{\"backgroundcolor\":\"#E5ECF6\",\"gridcolor\":\"white\",\"gridwidth\":2,\"linecolor\":\"white\",\"showbackground\":true,\"ticks\":\"\",\"zerolinecolor\":\"white\"}},\"shapedefaults\":{\"line\":{\"color\":\"#2a3f5f\"}},\"ternary\":{\"aaxis\":{\"gridcolor\":\"white\",\"linecolor\":\"white\",\"ticks\":\"\"},\"baxis\":{\"gridcolor\":\"white\",\"linecolor\":\"white\",\"ticks\":\"\"},\"bgcolor\":\"#E5ECF6\",\"caxis\":{\"gridcolor\":\"white\",\"linecolor\":\"white\",\"ticks\":\"\"}},\"title\":{\"x\":0.05},\"xaxis\":{\"automargin\":true,\"gridcolor\":\"white\",\"linecolor\":\"white\",\"ticks\":\"\",\"title\":{\"standoff\":15},\"zerolinecolor\":\"white\",\"zerolinewidth\":2},\"yaxis\":{\"automargin\":true,\"gridcolor\":\"white\",\"linecolor\":\"white\",\"ticks\":\"\",\"title\":{\"standoff\":15},\"zerolinecolor\":\"white\",\"zerolinewidth\":2}}},\"xaxis\":{\"anchor\":\"y\",\"domain\":[0.0,1.0],\"title\":{\"text\":\"MonthlyIncomeLevel\"}},\"yaxis\":{\"anchor\":\"x\",\"domain\":[0.0,1.0],\"title\":{\"text\":\"count\"}},\"legend\":{\"tracegroupgap\":0},\"margin\":{\"t\":60},\"barmode\":\"relative\"},                        {\"responsive\": true}                    ).then(function(){\n",
       "                            \n",
       "var gd = document.getElementById('7b6b1821-ca78-4c40-9345-359530ea116d');\n",
       "var x = new MutationObserver(function (mutations, observer) {{\n",
       "        var display = window.getComputedStyle(gd).display;\n",
       "        if (!display || display === 'none') {{\n",
       "            console.log([gd, 'removed!']);\n",
       "            Plotly.purge(gd);\n",
       "            observer.disconnect();\n",
       "        }}\n",
       "}});\n",
       "\n",
       "// Listen for the removal of the full notebook cells\n",
       "var notebookContainer = gd.closest('#notebook-container');\n",
       "if (notebookContainer) {{\n",
       "    x.observe(notebookContainer, {childList: true});\n",
       "}}\n",
       "\n",
       "// Listen for the clearing of the current output cell\n",
       "var outputEl = gd.closest('.output');\n",
       "if (outputEl) {{\n",
       "    x.observe(outputEl, {childList: true});\n",
       "}}\n",
       "\n",
       "                        })                };                });            </script>        </div>"
      ]
     },
     "metadata": {},
     "output_type": "display_data"
    }
   ],
   "source": [
    "fig = px.histogram(df_viz_north, x='MonthlyIncomeLevel')\n",
    "fig.show()"
   ]
  },
  {
   "cell_type": "code",
   "execution_count": 48,
   "metadata": {},
   "outputs": [
    {
     "name": "stderr",
     "output_type": "stream",
     "text": [
      "/Users/raghad/opt/anaconda3/lib/python3.8/site-packages/plotly/express/_core.py:1637: FutureWarning:\n",
      "\n",
      "The frame.append method is deprecated and will be removed from pandas in a future version. Use pandas.concat instead.\n",
      "\n",
      "/Users/raghad/opt/anaconda3/lib/python3.8/site-packages/plotly/express/_core.py:1637: FutureWarning:\n",
      "\n",
      "The frame.append method is deprecated and will be removed from pandas in a future version. Use pandas.concat instead.\n",
      "\n",
      "/Users/raghad/opt/anaconda3/lib/python3.8/site-packages/plotly/express/_core.py:1637: FutureWarning:\n",
      "\n",
      "The frame.append method is deprecated and will be removed from pandas in a future version. Use pandas.concat instead.\n",
      "\n"
     ]
    },
    {
     "data": {
      "application/vnd.plotly.v1+json": {
       "config": {
        "plotlyServerURL": "https://plot.ly"
       },
       "data": [
        {
         "branchvalues": "total",
         "customdata": [
          [
           "(?)"
          ],
          [
           "(?)"
          ],
          [
           "13,000-20,000SAR"
          ],
          [
           "(?)"
          ],
          [
           ">20,000 SAR"
          ],
          [
           ">20,000 SAR"
          ],
          [
           "7,000-12,000SAR"
          ],
          [
           "<7,000 SAR"
          ],
          [
           "(?)"
          ],
          [
           "<7,000 SAR"
          ],
          [
           "7,000-12,000SAR"
          ],
          [
           "<7,000 SAR"
          ],
          [
           "7,000-12,000SAR"
          ],
          [
           ">20,000 SAR"
          ],
          [
           ">20,000 SAR"
          ],
          [
           "7,000-12,000SAR"
          ],
          [
           "13,000-20,000SAR"
          ],
          [
           "13,000-20,000SAR"
          ],
          [
           "(?)"
          ],
          [
           "<7,000 SAR"
          ],
          [
           "13,000-20,000SAR"
          ]
         ],
         "domain": {
          "x": [
           0,
           1
          ],
          "y": [
           0,
           1
          ]
         },
         "hovertemplate": "labels=%{label}<br>count=%{value}<br>parent=%{parent}<br>id=%{id}<br>MonthlyIncomeLevel=%{customdata[0]}<extra></extra>",
         "ids": [
          "Riyadh City/North-West of Riyadh",
          "Riyadh City",
          "Riyadh City/South-Eest of Riyadh/13,000-20,000SAR",
          "Riyadh City/North-Eest of Riyadh",
          "Riyadh City/South-West of Riyadh/>20,000 SAR",
          "Riyadh City/North-Eest of Riyadh/>20,000 SAR",
          "Riyadh City/South-Eest of Riyadh/7,000-12,000SAR",
          "Riyadh City/South-West of Riyadh/<7,000 SAR",
          "Riyadh City/South-West of Riyadh",
          "Riyadh City/South-Eest of Riyadh/<7,000 SAR",
          "Riyadh City/South-West of Riyadh/7,000-12,000SAR",
          "Riyadh City/North-Eest of Riyadh/<7,000 SAR",
          "Riyadh City/North-West of Riyadh/7,000-12,000SAR",
          "Riyadh City/North-West of Riyadh/>20,000 SAR",
          "Riyadh City/South-Eest of Riyadh/>20,000 SAR",
          "Riyadh City/North-Eest of Riyadh/7,000-12,000SAR",
          "Riyadh City/South-West of Riyadh/13,000-20,000SAR",
          "Riyadh City/North-West of Riyadh/13,000-20,000SAR",
          "Riyadh City/South-Eest of Riyadh",
          "Riyadh City/North-West of Riyadh/<7,000 SAR",
          "Riyadh City/North-Eest of Riyadh/13,000-20,000SAR"
         ],
         "labels": [
          "North-West of Riyadh",
          "Riyadh City",
          "13,000-20,000SAR",
          "North-Eest of Riyadh",
          ">20,000 SAR",
          ">20,000 SAR",
          "7,000-12,000SAR",
          "<7,000 SAR",
          "South-West of Riyadh",
          "<7,000 SAR",
          "7,000-12,000SAR",
          "<7,000 SAR",
          "7,000-12,000SAR",
          ">20,000 SAR",
          ">20,000 SAR",
          "7,000-12,000SAR",
          "13,000-20,000SAR",
          "13,000-20,000SAR",
          "South-Eest of Riyadh",
          "<7,000 SAR",
          "13,000-20,000SAR"
         ],
         "marker": {
          "colors": [
           "#636efa",
           "#636efa",
           "#EF553B",
           "#636efa",
           "#00cc96",
           "#00cc96",
           "#ab63fa",
           "#FFA15A",
           "#636efa",
           "#FFA15A",
           "#ab63fa",
           "#FFA15A",
           "#ab63fa",
           "#00cc96",
           "#00cc96",
           "#ab63fa",
           "#EF553B",
           "#EF553B",
           "#636efa",
           "#FFA15A",
           "#EF553B"
          ]
         },
         "name": "",
         "parents": [
          "Riyadh City",
          "",
          "Riyadh City/South-Eest of Riyadh",
          "Riyadh City",
          "Riyadh City/South-West of Riyadh",
          "Riyadh City/North-Eest of Riyadh",
          "Riyadh City/South-Eest of Riyadh",
          "Riyadh City/South-West of Riyadh",
          "Riyadh City",
          "Riyadh City/South-Eest of Riyadh",
          "Riyadh City/South-West of Riyadh",
          "Riyadh City/North-Eest of Riyadh",
          "Riyadh City/North-West of Riyadh",
          "Riyadh City/North-West of Riyadh",
          "Riyadh City/South-Eest of Riyadh",
          "Riyadh City/North-Eest of Riyadh",
          "Riyadh City/South-West of Riyadh",
          "Riyadh City/North-West of Riyadh",
          "Riyadh City",
          "Riyadh City/North-West of Riyadh",
          "Riyadh City/North-Eest of Riyadh"
         ],
         "type": "treemap",
         "values": [
          123,
          500,
          27,
          125,
          40,
          39,
          32,
          31,
          126,
          38,
          36,
          30,
          29,
          40,
          29,
          31,
          19,
          26,
          126,
          28,
          25
         ]
        }
       ],
       "layout": {
        "legend": {
         "tracegroupgap": 0
        },
        "margin": {
         "b": 25,
         "l": 25,
         "r": 25,
         "t": 50
        },
        "template": {
         "data": {
          "bar": [
           {
            "error_x": {
             "color": "#2a3f5f"
            },
            "error_y": {
             "color": "#2a3f5f"
            },
            "marker": {
             "line": {
              "color": "#E5ECF6",
              "width": 0.5
             },
             "pattern": {
              "fillmode": "overlay",
              "size": 10,
              "solidity": 0.2
             }
            },
            "type": "bar"
           }
          ],
          "barpolar": [
           {
            "marker": {
             "line": {
              "color": "#E5ECF6",
              "width": 0.5
             },
             "pattern": {
              "fillmode": "overlay",
              "size": 10,
              "solidity": 0.2
             }
            },
            "type": "barpolar"
           }
          ],
          "carpet": [
           {
            "aaxis": {
             "endlinecolor": "#2a3f5f",
             "gridcolor": "white",
             "linecolor": "white",
             "minorgridcolor": "white",
             "startlinecolor": "#2a3f5f"
            },
            "baxis": {
             "endlinecolor": "#2a3f5f",
             "gridcolor": "white",
             "linecolor": "white",
             "minorgridcolor": "white",
             "startlinecolor": "#2a3f5f"
            },
            "type": "carpet"
           }
          ],
          "choropleth": [
           {
            "colorbar": {
             "outlinewidth": 0,
             "ticks": ""
            },
            "type": "choropleth"
           }
          ],
          "contour": [
           {
            "colorbar": {
             "outlinewidth": 0,
             "ticks": ""
            },
            "colorscale": [
             [
              0,
              "#0d0887"
             ],
             [
              0.1111111111111111,
              "#46039f"
             ],
             [
              0.2222222222222222,
              "#7201a8"
             ],
             [
              0.3333333333333333,
              "#9c179e"
             ],
             [
              0.4444444444444444,
              "#bd3786"
             ],
             [
              0.5555555555555556,
              "#d8576b"
             ],
             [
              0.6666666666666666,
              "#ed7953"
             ],
             [
              0.7777777777777778,
              "#fb9f3a"
             ],
             [
              0.8888888888888888,
              "#fdca26"
             ],
             [
              1,
              "#f0f921"
             ]
            ],
            "type": "contour"
           }
          ],
          "contourcarpet": [
           {
            "colorbar": {
             "outlinewidth": 0,
             "ticks": ""
            },
            "type": "contourcarpet"
           }
          ],
          "heatmap": [
           {
            "colorbar": {
             "outlinewidth": 0,
             "ticks": ""
            },
            "colorscale": [
             [
              0,
              "#0d0887"
             ],
             [
              0.1111111111111111,
              "#46039f"
             ],
             [
              0.2222222222222222,
              "#7201a8"
             ],
             [
              0.3333333333333333,
              "#9c179e"
             ],
             [
              0.4444444444444444,
              "#bd3786"
             ],
             [
              0.5555555555555556,
              "#d8576b"
             ],
             [
              0.6666666666666666,
              "#ed7953"
             ],
             [
              0.7777777777777778,
              "#fb9f3a"
             ],
             [
              0.8888888888888888,
              "#fdca26"
             ],
             [
              1,
              "#f0f921"
             ]
            ],
            "type": "heatmap"
           }
          ],
          "heatmapgl": [
           {
            "colorbar": {
             "outlinewidth": 0,
             "ticks": ""
            },
            "colorscale": [
             [
              0,
              "#0d0887"
             ],
             [
              0.1111111111111111,
              "#46039f"
             ],
             [
              0.2222222222222222,
              "#7201a8"
             ],
             [
              0.3333333333333333,
              "#9c179e"
             ],
             [
              0.4444444444444444,
              "#bd3786"
             ],
             [
              0.5555555555555556,
              "#d8576b"
             ],
             [
              0.6666666666666666,
              "#ed7953"
             ],
             [
              0.7777777777777778,
              "#fb9f3a"
             ],
             [
              0.8888888888888888,
              "#fdca26"
             ],
             [
              1,
              "#f0f921"
             ]
            ],
            "type": "heatmapgl"
           }
          ],
          "histogram": [
           {
            "marker": {
             "pattern": {
              "fillmode": "overlay",
              "size": 10,
              "solidity": 0.2
             }
            },
            "type": "histogram"
           }
          ],
          "histogram2d": [
           {
            "colorbar": {
             "outlinewidth": 0,
             "ticks": ""
            },
            "colorscale": [
             [
              0,
              "#0d0887"
             ],
             [
              0.1111111111111111,
              "#46039f"
             ],
             [
              0.2222222222222222,
              "#7201a8"
             ],
             [
              0.3333333333333333,
              "#9c179e"
             ],
             [
              0.4444444444444444,
              "#bd3786"
             ],
             [
              0.5555555555555556,
              "#d8576b"
             ],
             [
              0.6666666666666666,
              "#ed7953"
             ],
             [
              0.7777777777777778,
              "#fb9f3a"
             ],
             [
              0.8888888888888888,
              "#fdca26"
             ],
             [
              1,
              "#f0f921"
             ]
            ],
            "type": "histogram2d"
           }
          ],
          "histogram2dcontour": [
           {
            "colorbar": {
             "outlinewidth": 0,
             "ticks": ""
            },
            "colorscale": [
             [
              0,
              "#0d0887"
             ],
             [
              0.1111111111111111,
              "#46039f"
             ],
             [
              0.2222222222222222,
              "#7201a8"
             ],
             [
              0.3333333333333333,
              "#9c179e"
             ],
             [
              0.4444444444444444,
              "#bd3786"
             ],
             [
              0.5555555555555556,
              "#d8576b"
             ],
             [
              0.6666666666666666,
              "#ed7953"
             ],
             [
              0.7777777777777778,
              "#fb9f3a"
             ],
             [
              0.8888888888888888,
              "#fdca26"
             ],
             [
              1,
              "#f0f921"
             ]
            ],
            "type": "histogram2dcontour"
           }
          ],
          "mesh3d": [
           {
            "colorbar": {
             "outlinewidth": 0,
             "ticks": ""
            },
            "type": "mesh3d"
           }
          ],
          "parcoords": [
           {
            "line": {
             "colorbar": {
              "outlinewidth": 0,
              "ticks": ""
             }
            },
            "type": "parcoords"
           }
          ],
          "pie": [
           {
            "automargin": true,
            "type": "pie"
           }
          ],
          "scatter": [
           {
            "marker": {
             "colorbar": {
              "outlinewidth": 0,
              "ticks": ""
             }
            },
            "type": "scatter"
           }
          ],
          "scatter3d": [
           {
            "line": {
             "colorbar": {
              "outlinewidth": 0,
              "ticks": ""
             }
            },
            "marker": {
             "colorbar": {
              "outlinewidth": 0,
              "ticks": ""
             }
            },
            "type": "scatter3d"
           }
          ],
          "scattercarpet": [
           {
            "marker": {
             "colorbar": {
              "outlinewidth": 0,
              "ticks": ""
             }
            },
            "type": "scattercarpet"
           }
          ],
          "scattergeo": [
           {
            "marker": {
             "colorbar": {
              "outlinewidth": 0,
              "ticks": ""
             }
            },
            "type": "scattergeo"
           }
          ],
          "scattergl": [
           {
            "marker": {
             "colorbar": {
              "outlinewidth": 0,
              "ticks": ""
             }
            },
            "type": "scattergl"
           }
          ],
          "scattermapbox": [
           {
            "marker": {
             "colorbar": {
              "outlinewidth": 0,
              "ticks": ""
             }
            },
            "type": "scattermapbox"
           }
          ],
          "scatterpolar": [
           {
            "marker": {
             "colorbar": {
              "outlinewidth": 0,
              "ticks": ""
             }
            },
            "type": "scatterpolar"
           }
          ],
          "scatterpolargl": [
           {
            "marker": {
             "colorbar": {
              "outlinewidth": 0,
              "ticks": ""
             }
            },
            "type": "scatterpolargl"
           }
          ],
          "scatterternary": [
           {
            "marker": {
             "colorbar": {
              "outlinewidth": 0,
              "ticks": ""
             }
            },
            "type": "scatterternary"
           }
          ],
          "surface": [
           {
            "colorbar": {
             "outlinewidth": 0,
             "ticks": ""
            },
            "colorscale": [
             [
              0,
              "#0d0887"
             ],
             [
              0.1111111111111111,
              "#46039f"
             ],
             [
              0.2222222222222222,
              "#7201a8"
             ],
             [
              0.3333333333333333,
              "#9c179e"
             ],
             [
              0.4444444444444444,
              "#bd3786"
             ],
             [
              0.5555555555555556,
              "#d8576b"
             ],
             [
              0.6666666666666666,
              "#ed7953"
             ],
             [
              0.7777777777777778,
              "#fb9f3a"
             ],
             [
              0.8888888888888888,
              "#fdca26"
             ],
             [
              1,
              "#f0f921"
             ]
            ],
            "type": "surface"
           }
          ],
          "table": [
           {
            "cells": {
             "fill": {
              "color": "#EBF0F8"
             },
             "line": {
              "color": "white"
             }
            },
            "header": {
             "fill": {
              "color": "#C8D4E3"
             },
             "line": {
              "color": "white"
             }
            },
            "type": "table"
           }
          ]
         },
         "layout": {
          "annotationdefaults": {
           "arrowcolor": "#2a3f5f",
           "arrowhead": 0,
           "arrowwidth": 1
          },
          "autotypenumbers": "strict",
          "coloraxis": {
           "colorbar": {
            "outlinewidth": 0,
            "ticks": ""
           }
          },
          "colorscale": {
           "diverging": [
            [
             0,
             "#8e0152"
            ],
            [
             0.1,
             "#c51b7d"
            ],
            [
             0.2,
             "#de77ae"
            ],
            [
             0.3,
             "#f1b6da"
            ],
            [
             0.4,
             "#fde0ef"
            ],
            [
             0.5,
             "#f7f7f7"
            ],
            [
             0.6,
             "#e6f5d0"
            ],
            [
             0.7,
             "#b8e186"
            ],
            [
             0.8,
             "#7fbc41"
            ],
            [
             0.9,
             "#4d9221"
            ],
            [
             1,
             "#276419"
            ]
           ],
           "sequential": [
            [
             0,
             "#0d0887"
            ],
            [
             0.1111111111111111,
             "#46039f"
            ],
            [
             0.2222222222222222,
             "#7201a8"
            ],
            [
             0.3333333333333333,
             "#9c179e"
            ],
            [
             0.4444444444444444,
             "#bd3786"
            ],
            [
             0.5555555555555556,
             "#d8576b"
            ],
            [
             0.6666666666666666,
             "#ed7953"
            ],
            [
             0.7777777777777778,
             "#fb9f3a"
            ],
            [
             0.8888888888888888,
             "#fdca26"
            ],
            [
             1,
             "#f0f921"
            ]
           ],
           "sequentialminus": [
            [
             0,
             "#0d0887"
            ],
            [
             0.1111111111111111,
             "#46039f"
            ],
            [
             0.2222222222222222,
             "#7201a8"
            ],
            [
             0.3333333333333333,
             "#9c179e"
            ],
            [
             0.4444444444444444,
             "#bd3786"
            ],
            [
             0.5555555555555556,
             "#d8576b"
            ],
            [
             0.6666666666666666,
             "#ed7953"
            ],
            [
             0.7777777777777778,
             "#fb9f3a"
            ],
            [
             0.8888888888888888,
             "#fdca26"
            ],
            [
             1,
             "#f0f921"
            ]
           ]
          },
          "colorway": [
           "#636efa",
           "#EF553B",
           "#00cc96",
           "#ab63fa",
           "#FFA15A",
           "#19d3f3",
           "#FF6692",
           "#B6E880",
           "#FF97FF",
           "#FECB52"
          ],
          "font": {
           "color": "#2a3f5f"
          },
          "geo": {
           "bgcolor": "white",
           "lakecolor": "white",
           "landcolor": "#E5ECF6",
           "showlakes": true,
           "showland": true,
           "subunitcolor": "white"
          },
          "hoverlabel": {
           "align": "left"
          },
          "hovermode": "closest",
          "mapbox": {
           "style": "light"
          },
          "paper_bgcolor": "white",
          "plot_bgcolor": "#E5ECF6",
          "polar": {
           "angularaxis": {
            "gridcolor": "white",
            "linecolor": "white",
            "ticks": ""
           },
           "bgcolor": "#E5ECF6",
           "radialaxis": {
            "gridcolor": "white",
            "linecolor": "white",
            "ticks": ""
           }
          },
          "scene": {
           "xaxis": {
            "backgroundcolor": "#E5ECF6",
            "gridcolor": "white",
            "gridwidth": 2,
            "linecolor": "white",
            "showbackground": true,
            "ticks": "",
            "zerolinecolor": "white"
           },
           "yaxis": {
            "backgroundcolor": "#E5ECF6",
            "gridcolor": "white",
            "gridwidth": 2,
            "linecolor": "white",
            "showbackground": true,
            "ticks": "",
            "zerolinecolor": "white"
           },
           "zaxis": {
            "backgroundcolor": "#E5ECF6",
            "gridcolor": "white",
            "gridwidth": 2,
            "linecolor": "white",
            "showbackground": true,
            "ticks": "",
            "zerolinecolor": "white"
           }
          },
          "shapedefaults": {
           "line": {
            "color": "#2a3f5f"
           }
          },
          "ternary": {
           "aaxis": {
            "gridcolor": "white",
            "linecolor": "white",
            "ticks": ""
           },
           "baxis": {
            "gridcolor": "white",
            "linecolor": "white",
            "ticks": ""
           },
           "bgcolor": "#E5ECF6",
           "caxis": {
            "gridcolor": "white",
            "linecolor": "white",
            "ticks": ""
           }
          },
          "title": {
           "x": 0.05
          },
          "xaxis": {
           "automargin": true,
           "gridcolor": "white",
           "linecolor": "white",
           "ticks": "",
           "title": {
            "standoff": 15
           },
           "zerolinecolor": "white",
           "zerolinewidth": 2
          },
          "yaxis": {
           "automargin": true,
           "gridcolor": "white",
           "linecolor": "white",
           "ticks": "",
           "title": {
            "standoff": 15
           },
           "zerolinecolor": "white",
           "zerolinewidth": 2
          }
         }
        }
       }
      },
      "text/html": [
       "<div>                            <div id=\"05c22fe3-3cd5-461d-9a46-1f5d811949b9\" class=\"plotly-graph-div\" style=\"height:525px; width:100%;\"></div>            <script type=\"text/javascript\">                require([\"plotly\"], function(Plotly) {                    window.PLOTLYENV=window.PLOTLYENV || {};                                    if (document.getElementById(\"05c22fe3-3cd5-461d-9a46-1f5d811949b9\")) {                    Plotly.newPlot(                        \"05c22fe3-3cd5-461d-9a46-1f5d811949b9\",                        [{\"branchvalues\":\"total\",\"customdata\":[[\"(?)\"],[\"(?)\"],[\"13,000-20,000SAR\"],[\"(?)\"],[\">20,000 SAR\"],[\">20,000 SAR\"],[\"7,000-12,000SAR\"],[\"<7,000 SAR\"],[\"(?)\"],[\"<7,000 SAR\"],[\"7,000-12,000SAR\"],[\"<7,000 SAR\"],[\"7,000-12,000SAR\"],[\">20,000 SAR\"],[\">20,000 SAR\"],[\"7,000-12,000SAR\"],[\"13,000-20,000SAR\"],[\"13,000-20,000SAR\"],[\"(?)\"],[\"<7,000 SAR\"],[\"13,000-20,000SAR\"]],\"domain\":{\"x\":[0.0,1.0],\"y\":[0.0,1.0]},\"hovertemplate\":\"labels=%{label}<br>count=%{value}<br>parent=%{parent}<br>id=%{id}<br>MonthlyIncomeLevel=%{customdata[0]}<extra></extra>\",\"ids\":[\"Riyadh City/North-West of Riyadh\",\"Riyadh City\",\"Riyadh City/South-Eest of Riyadh/13,000-20,000SAR\",\"Riyadh City/North-Eest of Riyadh\",\"Riyadh City/South-West of Riyadh/>20,000 SAR\",\"Riyadh City/North-Eest of Riyadh/>20,000 SAR\",\"Riyadh City/South-Eest of Riyadh/7,000-12,000SAR\",\"Riyadh City/South-West of Riyadh/<7,000 SAR\",\"Riyadh City/South-West of Riyadh\",\"Riyadh City/South-Eest of Riyadh/<7,000 SAR\",\"Riyadh City/South-West of Riyadh/7,000-12,000SAR\",\"Riyadh City/North-Eest of Riyadh/<7,000 SAR\",\"Riyadh City/North-West of Riyadh/7,000-12,000SAR\",\"Riyadh City/North-West of Riyadh/>20,000 SAR\",\"Riyadh City/South-Eest of Riyadh/>20,000 SAR\",\"Riyadh City/North-Eest of Riyadh/7,000-12,000SAR\",\"Riyadh City/South-West of Riyadh/13,000-20,000SAR\",\"Riyadh City/North-West of Riyadh/13,000-20,000SAR\",\"Riyadh City/South-Eest of Riyadh\",\"Riyadh City/North-West of Riyadh/<7,000 SAR\",\"Riyadh City/North-Eest of Riyadh/13,000-20,000SAR\"],\"labels\":[\"North-West of Riyadh\",\"Riyadh City\",\"13,000-20,000SAR\",\"North-Eest of Riyadh\",\">20,000 SAR\",\">20,000 SAR\",\"7,000-12,000SAR\",\"<7,000 SAR\",\"South-West of Riyadh\",\"<7,000 SAR\",\"7,000-12,000SAR\",\"<7,000 SAR\",\"7,000-12,000SAR\",\">20,000 SAR\",\">20,000 SAR\",\"7,000-12,000SAR\",\"13,000-20,000SAR\",\"13,000-20,000SAR\",\"South-Eest of Riyadh\",\"<7,000 SAR\",\"13,000-20,000SAR\"],\"marker\":{\"colors\":[\"#636efa\",\"#636efa\",\"#EF553B\",\"#636efa\",\"#00cc96\",\"#00cc96\",\"#ab63fa\",\"#FFA15A\",\"#636efa\",\"#FFA15A\",\"#ab63fa\",\"#FFA15A\",\"#ab63fa\",\"#00cc96\",\"#00cc96\",\"#ab63fa\",\"#EF553B\",\"#EF553B\",\"#636efa\",\"#FFA15A\",\"#EF553B\"]},\"name\":\"\",\"parents\":[\"Riyadh City\",\"\",\"Riyadh City/South-Eest of Riyadh\",\"Riyadh City\",\"Riyadh City/South-West of Riyadh\",\"Riyadh City/North-Eest of Riyadh\",\"Riyadh City/South-Eest of Riyadh\",\"Riyadh City/South-West of Riyadh\",\"Riyadh City\",\"Riyadh City/South-Eest of Riyadh\",\"Riyadh City/South-West of Riyadh\",\"Riyadh City/North-Eest of Riyadh\",\"Riyadh City/North-West of Riyadh\",\"Riyadh City/North-West of Riyadh\",\"Riyadh City/South-Eest of Riyadh\",\"Riyadh City/North-Eest of Riyadh\",\"Riyadh City/South-West of Riyadh\",\"Riyadh City/North-West of Riyadh\",\"Riyadh City\",\"Riyadh City/North-West of Riyadh\",\"Riyadh City/North-Eest of Riyadh\"],\"values\":[123,500,27,125,40,39,32,31,126,38,36,30,29,40,29,31,19,26,126,28,25],\"type\":\"treemap\"}],                        {\"template\":{\"data\":{\"bar\":[{\"error_x\":{\"color\":\"#2a3f5f\"},\"error_y\":{\"color\":\"#2a3f5f\"},\"marker\":{\"line\":{\"color\":\"#E5ECF6\",\"width\":0.5},\"pattern\":{\"fillmode\":\"overlay\",\"size\":10,\"solidity\":0.2}},\"type\":\"bar\"}],\"barpolar\":[{\"marker\":{\"line\":{\"color\":\"#E5ECF6\",\"width\":0.5},\"pattern\":{\"fillmode\":\"overlay\",\"size\":10,\"solidity\":0.2}},\"type\":\"barpolar\"}],\"carpet\":[{\"aaxis\":{\"endlinecolor\":\"#2a3f5f\",\"gridcolor\":\"white\",\"linecolor\":\"white\",\"minorgridcolor\":\"white\",\"startlinecolor\":\"#2a3f5f\"},\"baxis\":{\"endlinecolor\":\"#2a3f5f\",\"gridcolor\":\"white\",\"linecolor\":\"white\",\"minorgridcolor\":\"white\",\"startlinecolor\":\"#2a3f5f\"},\"type\":\"carpet\"}],\"choropleth\":[{\"colorbar\":{\"outlinewidth\":0,\"ticks\":\"\"},\"type\":\"choropleth\"}],\"contour\":[{\"colorbar\":{\"outlinewidth\":0,\"ticks\":\"\"},\"colorscale\":[[0.0,\"#0d0887\"],[0.1111111111111111,\"#46039f\"],[0.2222222222222222,\"#7201a8\"],[0.3333333333333333,\"#9c179e\"],[0.4444444444444444,\"#bd3786\"],[0.5555555555555556,\"#d8576b\"],[0.6666666666666666,\"#ed7953\"],[0.7777777777777778,\"#fb9f3a\"],[0.8888888888888888,\"#fdca26\"],[1.0,\"#f0f921\"]],\"type\":\"contour\"}],\"contourcarpet\":[{\"colorbar\":{\"outlinewidth\":0,\"ticks\":\"\"},\"type\":\"contourcarpet\"}],\"heatmap\":[{\"colorbar\":{\"outlinewidth\":0,\"ticks\":\"\"},\"colorscale\":[[0.0,\"#0d0887\"],[0.1111111111111111,\"#46039f\"],[0.2222222222222222,\"#7201a8\"],[0.3333333333333333,\"#9c179e\"],[0.4444444444444444,\"#bd3786\"],[0.5555555555555556,\"#d8576b\"],[0.6666666666666666,\"#ed7953\"],[0.7777777777777778,\"#fb9f3a\"],[0.8888888888888888,\"#fdca26\"],[1.0,\"#f0f921\"]],\"type\":\"heatmap\"}],\"heatmapgl\":[{\"colorbar\":{\"outlinewidth\":0,\"ticks\":\"\"},\"colorscale\":[[0.0,\"#0d0887\"],[0.1111111111111111,\"#46039f\"],[0.2222222222222222,\"#7201a8\"],[0.3333333333333333,\"#9c179e\"],[0.4444444444444444,\"#bd3786\"],[0.5555555555555556,\"#d8576b\"],[0.6666666666666666,\"#ed7953\"],[0.7777777777777778,\"#fb9f3a\"],[0.8888888888888888,\"#fdca26\"],[1.0,\"#f0f921\"]],\"type\":\"heatmapgl\"}],\"histogram\":[{\"marker\":{\"pattern\":{\"fillmode\":\"overlay\",\"size\":10,\"solidity\":0.2}},\"type\":\"histogram\"}],\"histogram2d\":[{\"colorbar\":{\"outlinewidth\":0,\"ticks\":\"\"},\"colorscale\":[[0.0,\"#0d0887\"],[0.1111111111111111,\"#46039f\"],[0.2222222222222222,\"#7201a8\"],[0.3333333333333333,\"#9c179e\"],[0.4444444444444444,\"#bd3786\"],[0.5555555555555556,\"#d8576b\"],[0.6666666666666666,\"#ed7953\"],[0.7777777777777778,\"#fb9f3a\"],[0.8888888888888888,\"#fdca26\"],[1.0,\"#f0f921\"]],\"type\":\"histogram2d\"}],\"histogram2dcontour\":[{\"colorbar\":{\"outlinewidth\":0,\"ticks\":\"\"},\"colorscale\":[[0.0,\"#0d0887\"],[0.1111111111111111,\"#46039f\"],[0.2222222222222222,\"#7201a8\"],[0.3333333333333333,\"#9c179e\"],[0.4444444444444444,\"#bd3786\"],[0.5555555555555556,\"#d8576b\"],[0.6666666666666666,\"#ed7953\"],[0.7777777777777778,\"#fb9f3a\"],[0.8888888888888888,\"#fdca26\"],[1.0,\"#f0f921\"]],\"type\":\"histogram2dcontour\"}],\"mesh3d\":[{\"colorbar\":{\"outlinewidth\":0,\"ticks\":\"\"},\"type\":\"mesh3d\"}],\"parcoords\":[{\"line\":{\"colorbar\":{\"outlinewidth\":0,\"ticks\":\"\"}},\"type\":\"parcoords\"}],\"pie\":[{\"automargin\":true,\"type\":\"pie\"}],\"scatter\":[{\"marker\":{\"colorbar\":{\"outlinewidth\":0,\"ticks\":\"\"}},\"type\":\"scatter\"}],\"scatter3d\":[{\"line\":{\"colorbar\":{\"outlinewidth\":0,\"ticks\":\"\"}},\"marker\":{\"colorbar\":{\"outlinewidth\":0,\"ticks\":\"\"}},\"type\":\"scatter3d\"}],\"scattercarpet\":[{\"marker\":{\"colorbar\":{\"outlinewidth\":0,\"ticks\":\"\"}},\"type\":\"scattercarpet\"}],\"scattergeo\":[{\"marker\":{\"colorbar\":{\"outlinewidth\":0,\"ticks\":\"\"}},\"type\":\"scattergeo\"}],\"scattergl\":[{\"marker\":{\"colorbar\":{\"outlinewidth\":0,\"ticks\":\"\"}},\"type\":\"scattergl\"}],\"scattermapbox\":[{\"marker\":{\"colorbar\":{\"outlinewidth\":0,\"ticks\":\"\"}},\"type\":\"scattermapbox\"}],\"scatterpolar\":[{\"marker\":{\"colorbar\":{\"outlinewidth\":0,\"ticks\":\"\"}},\"type\":\"scatterpolar\"}],\"scatterpolargl\":[{\"marker\":{\"colorbar\":{\"outlinewidth\":0,\"ticks\":\"\"}},\"type\":\"scatterpolargl\"}],\"scatterternary\":[{\"marker\":{\"colorbar\":{\"outlinewidth\":0,\"ticks\":\"\"}},\"type\":\"scatterternary\"}],\"surface\":[{\"colorbar\":{\"outlinewidth\":0,\"ticks\":\"\"},\"colorscale\":[[0.0,\"#0d0887\"],[0.1111111111111111,\"#46039f\"],[0.2222222222222222,\"#7201a8\"],[0.3333333333333333,\"#9c179e\"],[0.4444444444444444,\"#bd3786\"],[0.5555555555555556,\"#d8576b\"],[0.6666666666666666,\"#ed7953\"],[0.7777777777777778,\"#fb9f3a\"],[0.8888888888888888,\"#fdca26\"],[1.0,\"#f0f921\"]],\"type\":\"surface\"}],\"table\":[{\"cells\":{\"fill\":{\"color\":\"#EBF0F8\"},\"line\":{\"color\":\"white\"}},\"header\":{\"fill\":{\"color\":\"#C8D4E3\"},\"line\":{\"color\":\"white\"}},\"type\":\"table\"}]},\"layout\":{\"annotationdefaults\":{\"arrowcolor\":\"#2a3f5f\",\"arrowhead\":0,\"arrowwidth\":1},\"autotypenumbers\":\"strict\",\"coloraxis\":{\"colorbar\":{\"outlinewidth\":0,\"ticks\":\"\"}},\"colorscale\":{\"diverging\":[[0,\"#8e0152\"],[0.1,\"#c51b7d\"],[0.2,\"#de77ae\"],[0.3,\"#f1b6da\"],[0.4,\"#fde0ef\"],[0.5,\"#f7f7f7\"],[0.6,\"#e6f5d0\"],[0.7,\"#b8e186\"],[0.8,\"#7fbc41\"],[0.9,\"#4d9221\"],[1,\"#276419\"]],\"sequential\":[[0.0,\"#0d0887\"],[0.1111111111111111,\"#46039f\"],[0.2222222222222222,\"#7201a8\"],[0.3333333333333333,\"#9c179e\"],[0.4444444444444444,\"#bd3786\"],[0.5555555555555556,\"#d8576b\"],[0.6666666666666666,\"#ed7953\"],[0.7777777777777778,\"#fb9f3a\"],[0.8888888888888888,\"#fdca26\"],[1.0,\"#f0f921\"]],\"sequentialminus\":[[0.0,\"#0d0887\"],[0.1111111111111111,\"#46039f\"],[0.2222222222222222,\"#7201a8\"],[0.3333333333333333,\"#9c179e\"],[0.4444444444444444,\"#bd3786\"],[0.5555555555555556,\"#d8576b\"],[0.6666666666666666,\"#ed7953\"],[0.7777777777777778,\"#fb9f3a\"],[0.8888888888888888,\"#fdca26\"],[1.0,\"#f0f921\"]]},\"colorway\":[\"#636efa\",\"#EF553B\",\"#00cc96\",\"#ab63fa\",\"#FFA15A\",\"#19d3f3\",\"#FF6692\",\"#B6E880\",\"#FF97FF\",\"#FECB52\"],\"font\":{\"color\":\"#2a3f5f\"},\"geo\":{\"bgcolor\":\"white\",\"lakecolor\":\"white\",\"landcolor\":\"#E5ECF6\",\"showlakes\":true,\"showland\":true,\"subunitcolor\":\"white\"},\"hoverlabel\":{\"align\":\"left\"},\"hovermode\":\"closest\",\"mapbox\":{\"style\":\"light\"},\"paper_bgcolor\":\"white\",\"plot_bgcolor\":\"#E5ECF6\",\"polar\":{\"angularaxis\":{\"gridcolor\":\"white\",\"linecolor\":\"white\",\"ticks\":\"\"},\"bgcolor\":\"#E5ECF6\",\"radialaxis\":{\"gridcolor\":\"white\",\"linecolor\":\"white\",\"ticks\":\"\"}},\"scene\":{\"xaxis\":{\"backgroundcolor\":\"#E5ECF6\",\"gridcolor\":\"white\",\"gridwidth\":2,\"linecolor\":\"white\",\"showbackground\":true,\"ticks\":\"\",\"zerolinecolor\":\"white\"},\"yaxis\":{\"backgroundcolor\":\"#E5ECF6\",\"gridcolor\":\"white\",\"gridwidth\":2,\"linecolor\":\"white\",\"showbackground\":true,\"ticks\":\"\",\"zerolinecolor\":\"white\"},\"zaxis\":{\"backgroundcolor\":\"#E5ECF6\",\"gridcolor\":\"white\",\"gridwidth\":2,\"linecolor\":\"white\",\"showbackground\":true,\"ticks\":\"\",\"zerolinecolor\":\"white\"}},\"shapedefaults\":{\"line\":{\"color\":\"#2a3f5f\"}},\"ternary\":{\"aaxis\":{\"gridcolor\":\"white\",\"linecolor\":\"white\",\"ticks\":\"\"},\"baxis\":{\"gridcolor\":\"white\",\"linecolor\":\"white\",\"ticks\":\"\"},\"bgcolor\":\"#E5ECF6\",\"caxis\":{\"gridcolor\":\"white\",\"linecolor\":\"white\",\"ticks\":\"\"}},\"title\":{\"x\":0.05},\"xaxis\":{\"automargin\":true,\"gridcolor\":\"white\",\"linecolor\":\"white\",\"ticks\":\"\",\"title\":{\"standoff\":15},\"zerolinecolor\":\"white\",\"zerolinewidth\":2},\"yaxis\":{\"automargin\":true,\"gridcolor\":\"white\",\"linecolor\":\"white\",\"ticks\":\"\",\"title\":{\"standoff\":15},\"zerolinecolor\":\"white\",\"zerolinewidth\":2}}},\"legend\":{\"tracegroupgap\":0},\"margin\":{\"t\":50,\"l\":25,\"r\":25,\"b\":25}},                        {\"responsive\": true}                    ).then(function(){\n",
       "                            \n",
       "var gd = document.getElementById('05c22fe3-3cd5-461d-9a46-1f5d811949b9');\n",
       "var x = new MutationObserver(function (mutations, observer) {{\n",
       "        var display = window.getComputedStyle(gd).display;\n",
       "        if (!display || display === 'none') {{\n",
       "            console.log([gd, 'removed!']);\n",
       "            Plotly.purge(gd);\n",
       "            observer.disconnect();\n",
       "        }}\n",
       "}});\n",
       "\n",
       "// Listen for the removal of the full notebook cells\n",
       "var notebookContainer = gd.closest('#notebook-container');\n",
       "if (notebookContainer) {{\n",
       "    x.observe(notebookContainer, {childList: true});\n",
       "}}\n",
       "\n",
       "// Listen for the clearing of the current output cell\n",
       "var outputEl = gd.closest('.output');\n",
       "if (outputEl) {{\n",
       "    x.observe(outputEl, {childList: true});\n",
       "}}\n",
       "\n",
       "                        })                };                });            </script>        </div>"
      ]
     },
     "metadata": {},
     "output_type": "display_data"
    }
   ],
   "source": [
    "fig = px.treemap(df_viz, path=[px.Constant(\"Riyadh City\"), 'ResidentialArea', 'MonthlyIncomeLevel'],\n",
    "                  color='MonthlyIncomeLevel'\n",
    "                )\n",
    "\n",
    "fig.update_layout(margin = dict(t=50, l=25, r=25, b=25))\n",
    "\n",
    "\n",
    "fig.show()"
   ]
  },
  {
   "cell_type": "code",
   "execution_count": 49,
   "metadata": {},
   "outputs": [],
   "source": [
    "df_viz_north_paying = df_viz_north.dropna()\n",
    "df_viz_north_paying = df_viz_north_paying[df_viz_north_paying.Paywilingness != 4]"
   ]
  },
  {
   "cell_type": "code",
   "execution_count": 50,
   "metadata": {},
   "outputs": [
    {
     "data": {
      "application/vnd.plotly.v1+json": {
       "config": {
        "plotlyServerURL": "https://plot.ly"
       },
       "data": [
        {
         "alignmentgroup": "True",
         "bingroup": "x",
         "hovertemplate": "Paywilingness=I will attend if the ticket is priced reasonably<br>MoneySpend=%{x}<br>count=%{y}<extra></extra>",
         "legendgroup": "I will attend if the ticket is priced reasonably",
         "marker": {
          "color": "#636efa",
          "pattern": {
           "shape": ""
          }
         },
         "name": "I will attend if the ticket is priced reasonably",
         "offsetgroup": "I will attend if the ticket is priced reasonably",
         "orientation": "v",
         "showlegend": true,
         "type": "histogram",
         "x": [
          "101-200 SAR",
          "50-100 SAR",
          "50-100 SAR",
          "<50 SAR",
          "200+ SAR",
          "<50 SAR",
          "<50 SAR",
          "<50 SAR",
          "101-200 SAR",
          "200+ SAR",
          "<50 SAR",
          "200+ SAR",
          "<50 SAR",
          "200+ SAR",
          "200+ SAR",
          "200+ SAR",
          "101-200 SAR",
          "200+ SAR",
          "<50 SAR",
          "50-100 SAR",
          "101-200 SAR",
          "200+ SAR",
          "101-200 SAR",
          "101-200 SAR",
          "101-200 SAR",
          "<50 SAR",
          "50-100 SAR",
          "101-200 SAR",
          "<50 SAR",
          "200+ SAR",
          "<50 SAR",
          "101-200 SAR",
          "<50 SAR",
          "101-200 SAR",
          "101-200 SAR",
          "200+ SAR",
          "200+ SAR",
          "101-200 SAR",
          "101-200 SAR",
          "<50 SAR",
          "50-100 SAR",
          "200+ SAR",
          "200+ SAR",
          "200+ SAR",
          "50-100 SAR"
         ],
         "xaxis": "x",
         "yaxis": "y"
        },
        {
         "alignmentgroup": "True",
         "bingroup": "x",
         "hovertemplate": "Paywilingness=I will attend if the event is exciting enough<br>MoneySpend=%{x}<br>count=%{y}<extra></extra>",
         "legendgroup": "I will attend if the event is exciting enough",
         "marker": {
          "color": "#EF553B",
          "pattern": {
           "shape": ""
          }
         },
         "name": "I will attend if the event is exciting enough",
         "offsetgroup": "I will attend if the event is exciting enough",
         "orientation": "v",
         "showlegend": true,
         "type": "histogram",
         "x": [
          "101-200 SAR",
          "<50 SAR",
          "101-200 SAR",
          "101-200 SAR",
          "101-200 SAR",
          "200+ SAR",
          "<50 SAR",
          "200+ SAR",
          "<50 SAR",
          "50-100 SAR",
          "200+ SAR",
          "101-200 SAR",
          "50-100 SAR",
          "101-200 SAR",
          "101-200 SAR",
          "<50 SAR",
          "200+ SAR",
          "200+ SAR",
          "101-200 SAR",
          "200+ SAR",
          "101-200 SAR",
          "<50 SAR",
          "<50 SAR",
          "50-100 SAR",
          "<50 SAR",
          "<50 SAR",
          "50-100 SAR",
          "101-200 SAR",
          "50-100 SAR",
          "200+ SAR",
          "<50 SAR",
          "101-200 SAR",
          "101-200 SAR",
          "101-200 SAR",
          "50-100 SAR",
          "101-200 SAR",
          "<50 SAR",
          "50-100 SAR",
          "200+ SAR",
          "200+ SAR",
          "50-100 SAR",
          "200+ SAR",
          "200+ SAR",
          "101-200 SAR",
          "50-100 SAR",
          "200+ SAR",
          "50-100 SAR",
          "101-200 SAR",
          "101-200 SAR",
          "<50 SAR",
          "200+ SAR",
          "200+ SAR"
         ],
         "xaxis": "x",
         "yaxis": "y"
        }
       ],
       "layout": {
        "barmode": "group",
        "legend": {
         "title": {
          "text": "Paywilingness"
         },
         "tracegroupgap": 0
        },
        "margin": {
         "t": 60
        },
        "template": {
         "data": {
          "bar": [
           {
            "error_x": {
             "color": "#2a3f5f"
            },
            "error_y": {
             "color": "#2a3f5f"
            },
            "marker": {
             "line": {
              "color": "#E5ECF6",
              "width": 0.5
             },
             "pattern": {
              "fillmode": "overlay",
              "size": 10,
              "solidity": 0.2
             }
            },
            "type": "bar"
           }
          ],
          "barpolar": [
           {
            "marker": {
             "line": {
              "color": "#E5ECF6",
              "width": 0.5
             },
             "pattern": {
              "fillmode": "overlay",
              "size": 10,
              "solidity": 0.2
             }
            },
            "type": "barpolar"
           }
          ],
          "carpet": [
           {
            "aaxis": {
             "endlinecolor": "#2a3f5f",
             "gridcolor": "white",
             "linecolor": "white",
             "minorgridcolor": "white",
             "startlinecolor": "#2a3f5f"
            },
            "baxis": {
             "endlinecolor": "#2a3f5f",
             "gridcolor": "white",
             "linecolor": "white",
             "minorgridcolor": "white",
             "startlinecolor": "#2a3f5f"
            },
            "type": "carpet"
           }
          ],
          "choropleth": [
           {
            "colorbar": {
             "outlinewidth": 0,
             "ticks": ""
            },
            "type": "choropleth"
           }
          ],
          "contour": [
           {
            "colorbar": {
             "outlinewidth": 0,
             "ticks": ""
            },
            "colorscale": [
             [
              0,
              "#0d0887"
             ],
             [
              0.1111111111111111,
              "#46039f"
             ],
             [
              0.2222222222222222,
              "#7201a8"
             ],
             [
              0.3333333333333333,
              "#9c179e"
             ],
             [
              0.4444444444444444,
              "#bd3786"
             ],
             [
              0.5555555555555556,
              "#d8576b"
             ],
             [
              0.6666666666666666,
              "#ed7953"
             ],
             [
              0.7777777777777778,
              "#fb9f3a"
             ],
             [
              0.8888888888888888,
              "#fdca26"
             ],
             [
              1,
              "#f0f921"
             ]
            ],
            "type": "contour"
           }
          ],
          "contourcarpet": [
           {
            "colorbar": {
             "outlinewidth": 0,
             "ticks": ""
            },
            "type": "contourcarpet"
           }
          ],
          "heatmap": [
           {
            "colorbar": {
             "outlinewidth": 0,
             "ticks": ""
            },
            "colorscale": [
             [
              0,
              "#0d0887"
             ],
             [
              0.1111111111111111,
              "#46039f"
             ],
             [
              0.2222222222222222,
              "#7201a8"
             ],
             [
              0.3333333333333333,
              "#9c179e"
             ],
             [
              0.4444444444444444,
              "#bd3786"
             ],
             [
              0.5555555555555556,
              "#d8576b"
             ],
             [
              0.6666666666666666,
              "#ed7953"
             ],
             [
              0.7777777777777778,
              "#fb9f3a"
             ],
             [
              0.8888888888888888,
              "#fdca26"
             ],
             [
              1,
              "#f0f921"
             ]
            ],
            "type": "heatmap"
           }
          ],
          "heatmapgl": [
           {
            "colorbar": {
             "outlinewidth": 0,
             "ticks": ""
            },
            "colorscale": [
             [
              0,
              "#0d0887"
             ],
             [
              0.1111111111111111,
              "#46039f"
             ],
             [
              0.2222222222222222,
              "#7201a8"
             ],
             [
              0.3333333333333333,
              "#9c179e"
             ],
             [
              0.4444444444444444,
              "#bd3786"
             ],
             [
              0.5555555555555556,
              "#d8576b"
             ],
             [
              0.6666666666666666,
              "#ed7953"
             ],
             [
              0.7777777777777778,
              "#fb9f3a"
             ],
             [
              0.8888888888888888,
              "#fdca26"
             ],
             [
              1,
              "#f0f921"
             ]
            ],
            "type": "heatmapgl"
           }
          ],
          "histogram": [
           {
            "marker": {
             "pattern": {
              "fillmode": "overlay",
              "size": 10,
              "solidity": 0.2
             }
            },
            "type": "histogram"
           }
          ],
          "histogram2d": [
           {
            "colorbar": {
             "outlinewidth": 0,
             "ticks": ""
            },
            "colorscale": [
             [
              0,
              "#0d0887"
             ],
             [
              0.1111111111111111,
              "#46039f"
             ],
             [
              0.2222222222222222,
              "#7201a8"
             ],
             [
              0.3333333333333333,
              "#9c179e"
             ],
             [
              0.4444444444444444,
              "#bd3786"
             ],
             [
              0.5555555555555556,
              "#d8576b"
             ],
             [
              0.6666666666666666,
              "#ed7953"
             ],
             [
              0.7777777777777778,
              "#fb9f3a"
             ],
             [
              0.8888888888888888,
              "#fdca26"
             ],
             [
              1,
              "#f0f921"
             ]
            ],
            "type": "histogram2d"
           }
          ],
          "histogram2dcontour": [
           {
            "colorbar": {
             "outlinewidth": 0,
             "ticks": ""
            },
            "colorscale": [
             [
              0,
              "#0d0887"
             ],
             [
              0.1111111111111111,
              "#46039f"
             ],
             [
              0.2222222222222222,
              "#7201a8"
             ],
             [
              0.3333333333333333,
              "#9c179e"
             ],
             [
              0.4444444444444444,
              "#bd3786"
             ],
             [
              0.5555555555555556,
              "#d8576b"
             ],
             [
              0.6666666666666666,
              "#ed7953"
             ],
             [
              0.7777777777777778,
              "#fb9f3a"
             ],
             [
              0.8888888888888888,
              "#fdca26"
             ],
             [
              1,
              "#f0f921"
             ]
            ],
            "type": "histogram2dcontour"
           }
          ],
          "mesh3d": [
           {
            "colorbar": {
             "outlinewidth": 0,
             "ticks": ""
            },
            "type": "mesh3d"
           }
          ],
          "parcoords": [
           {
            "line": {
             "colorbar": {
              "outlinewidth": 0,
              "ticks": ""
             }
            },
            "type": "parcoords"
           }
          ],
          "pie": [
           {
            "automargin": true,
            "type": "pie"
           }
          ],
          "scatter": [
           {
            "marker": {
             "colorbar": {
              "outlinewidth": 0,
              "ticks": ""
             }
            },
            "type": "scatter"
           }
          ],
          "scatter3d": [
           {
            "line": {
             "colorbar": {
              "outlinewidth": 0,
              "ticks": ""
             }
            },
            "marker": {
             "colorbar": {
              "outlinewidth": 0,
              "ticks": ""
             }
            },
            "type": "scatter3d"
           }
          ],
          "scattercarpet": [
           {
            "marker": {
             "colorbar": {
              "outlinewidth": 0,
              "ticks": ""
             }
            },
            "type": "scattercarpet"
           }
          ],
          "scattergeo": [
           {
            "marker": {
             "colorbar": {
              "outlinewidth": 0,
              "ticks": ""
             }
            },
            "type": "scattergeo"
           }
          ],
          "scattergl": [
           {
            "marker": {
             "colorbar": {
              "outlinewidth": 0,
              "ticks": ""
             }
            },
            "type": "scattergl"
           }
          ],
          "scattermapbox": [
           {
            "marker": {
             "colorbar": {
              "outlinewidth": 0,
              "ticks": ""
             }
            },
            "type": "scattermapbox"
           }
          ],
          "scatterpolar": [
           {
            "marker": {
             "colorbar": {
              "outlinewidth": 0,
              "ticks": ""
             }
            },
            "type": "scatterpolar"
           }
          ],
          "scatterpolargl": [
           {
            "marker": {
             "colorbar": {
              "outlinewidth": 0,
              "ticks": ""
             }
            },
            "type": "scatterpolargl"
           }
          ],
          "scatterternary": [
           {
            "marker": {
             "colorbar": {
              "outlinewidth": 0,
              "ticks": ""
             }
            },
            "type": "scatterternary"
           }
          ],
          "surface": [
           {
            "colorbar": {
             "outlinewidth": 0,
             "ticks": ""
            },
            "colorscale": [
             [
              0,
              "#0d0887"
             ],
             [
              0.1111111111111111,
              "#46039f"
             ],
             [
              0.2222222222222222,
              "#7201a8"
             ],
             [
              0.3333333333333333,
              "#9c179e"
             ],
             [
              0.4444444444444444,
              "#bd3786"
             ],
             [
              0.5555555555555556,
              "#d8576b"
             ],
             [
              0.6666666666666666,
              "#ed7953"
             ],
             [
              0.7777777777777778,
              "#fb9f3a"
             ],
             [
              0.8888888888888888,
              "#fdca26"
             ],
             [
              1,
              "#f0f921"
             ]
            ],
            "type": "surface"
           }
          ],
          "table": [
           {
            "cells": {
             "fill": {
              "color": "#EBF0F8"
             },
             "line": {
              "color": "white"
             }
            },
            "header": {
             "fill": {
              "color": "#C8D4E3"
             },
             "line": {
              "color": "white"
             }
            },
            "type": "table"
           }
          ]
         },
         "layout": {
          "annotationdefaults": {
           "arrowcolor": "#2a3f5f",
           "arrowhead": 0,
           "arrowwidth": 1
          },
          "autotypenumbers": "strict",
          "coloraxis": {
           "colorbar": {
            "outlinewidth": 0,
            "ticks": ""
           }
          },
          "colorscale": {
           "diverging": [
            [
             0,
             "#8e0152"
            ],
            [
             0.1,
             "#c51b7d"
            ],
            [
             0.2,
             "#de77ae"
            ],
            [
             0.3,
             "#f1b6da"
            ],
            [
             0.4,
             "#fde0ef"
            ],
            [
             0.5,
             "#f7f7f7"
            ],
            [
             0.6,
             "#e6f5d0"
            ],
            [
             0.7,
             "#b8e186"
            ],
            [
             0.8,
             "#7fbc41"
            ],
            [
             0.9,
             "#4d9221"
            ],
            [
             1,
             "#276419"
            ]
           ],
           "sequential": [
            [
             0,
             "#0d0887"
            ],
            [
             0.1111111111111111,
             "#46039f"
            ],
            [
             0.2222222222222222,
             "#7201a8"
            ],
            [
             0.3333333333333333,
             "#9c179e"
            ],
            [
             0.4444444444444444,
             "#bd3786"
            ],
            [
             0.5555555555555556,
             "#d8576b"
            ],
            [
             0.6666666666666666,
             "#ed7953"
            ],
            [
             0.7777777777777778,
             "#fb9f3a"
            ],
            [
             0.8888888888888888,
             "#fdca26"
            ],
            [
             1,
             "#f0f921"
            ]
           ],
           "sequentialminus": [
            [
             0,
             "#0d0887"
            ],
            [
             0.1111111111111111,
             "#46039f"
            ],
            [
             0.2222222222222222,
             "#7201a8"
            ],
            [
             0.3333333333333333,
             "#9c179e"
            ],
            [
             0.4444444444444444,
             "#bd3786"
            ],
            [
             0.5555555555555556,
             "#d8576b"
            ],
            [
             0.6666666666666666,
             "#ed7953"
            ],
            [
             0.7777777777777778,
             "#fb9f3a"
            ],
            [
             0.8888888888888888,
             "#fdca26"
            ],
            [
             1,
             "#f0f921"
            ]
           ]
          },
          "colorway": [
           "#636efa",
           "#EF553B",
           "#00cc96",
           "#ab63fa",
           "#FFA15A",
           "#19d3f3",
           "#FF6692",
           "#B6E880",
           "#FF97FF",
           "#FECB52"
          ],
          "font": {
           "color": "#2a3f5f"
          },
          "geo": {
           "bgcolor": "white",
           "lakecolor": "white",
           "landcolor": "#E5ECF6",
           "showlakes": true,
           "showland": true,
           "subunitcolor": "white"
          },
          "hoverlabel": {
           "align": "left"
          },
          "hovermode": "closest",
          "mapbox": {
           "style": "light"
          },
          "paper_bgcolor": "white",
          "plot_bgcolor": "#E5ECF6",
          "polar": {
           "angularaxis": {
            "gridcolor": "white",
            "linecolor": "white",
            "ticks": ""
           },
           "bgcolor": "#E5ECF6",
           "radialaxis": {
            "gridcolor": "white",
            "linecolor": "white",
            "ticks": ""
           }
          },
          "scene": {
           "xaxis": {
            "backgroundcolor": "#E5ECF6",
            "gridcolor": "white",
            "gridwidth": 2,
            "linecolor": "white",
            "showbackground": true,
            "ticks": "",
            "zerolinecolor": "white"
           },
           "yaxis": {
            "backgroundcolor": "#E5ECF6",
            "gridcolor": "white",
            "gridwidth": 2,
            "linecolor": "white",
            "showbackground": true,
            "ticks": "",
            "zerolinecolor": "white"
           },
           "zaxis": {
            "backgroundcolor": "#E5ECF6",
            "gridcolor": "white",
            "gridwidth": 2,
            "linecolor": "white",
            "showbackground": true,
            "ticks": "",
            "zerolinecolor": "white"
           }
          },
          "shapedefaults": {
           "line": {
            "color": "#2a3f5f"
           }
          },
          "ternary": {
           "aaxis": {
            "gridcolor": "white",
            "linecolor": "white",
            "ticks": ""
           },
           "baxis": {
            "gridcolor": "white",
            "linecolor": "white",
            "ticks": ""
           },
           "bgcolor": "#E5ECF6",
           "caxis": {
            "gridcolor": "white",
            "linecolor": "white",
            "ticks": ""
           }
          },
          "title": {
           "x": 0.05
          },
          "xaxis": {
           "automargin": true,
           "gridcolor": "white",
           "linecolor": "white",
           "ticks": "",
           "title": {
            "standoff": 15
           },
           "zerolinecolor": "white",
           "zerolinewidth": 2
          },
          "yaxis": {
           "automargin": true,
           "gridcolor": "white",
           "linecolor": "white",
           "ticks": "",
           "title": {
            "standoff": 15
           },
           "zerolinecolor": "white",
           "zerolinewidth": 2
          }
         }
        },
        "xaxis": {
         "anchor": "y",
         "categoryarray": [
          "<50 SAR",
          "50-100 SAR",
          "101-200 SAR",
          "200+ SAR"
         ],
         "categoryorder": "array",
         "domain": [
          0,
          1
         ],
         "title": {
          "text": "MoneySpend"
         }
        },
        "yaxis": {
         "anchor": "x",
         "domain": [
          0,
          1
         ],
         "title": {
          "text": "count"
         }
        }
       }
      },
      "text/html": [
       "<div>                            <div id=\"9eaa121a-347c-4519-acd1-67ea42da3a39\" class=\"plotly-graph-div\" style=\"height:525px; width:100%;\"></div>            <script type=\"text/javascript\">                require([\"plotly\"], function(Plotly) {                    window.PLOTLYENV=window.PLOTLYENV || {};                                    if (document.getElementById(\"9eaa121a-347c-4519-acd1-67ea42da3a39\")) {                    Plotly.newPlot(                        \"9eaa121a-347c-4519-acd1-67ea42da3a39\",                        [{\"alignmentgroup\":\"True\",\"bingroup\":\"x\",\"hovertemplate\":\"Paywilingness=I will attend if the ticket is priced reasonably<br>MoneySpend=%{x}<br>count=%{y}<extra></extra>\",\"legendgroup\":\"I will attend if the ticket is priced reasonably\",\"marker\":{\"color\":\"#636efa\",\"pattern\":{\"shape\":\"\"}},\"name\":\"I will attend if the ticket is priced reasonably\",\"offsetgroup\":\"I will attend if the ticket is priced reasonably\",\"orientation\":\"v\",\"showlegend\":true,\"x\":[\"101-200 SAR\",\"50-100 SAR\",\"50-100 SAR\",\"<50 SAR\",\"200+ SAR\",\"<50 SAR\",\"<50 SAR\",\"<50 SAR\",\"101-200 SAR\",\"200+ SAR\",\"<50 SAR\",\"200+ SAR\",\"<50 SAR\",\"200+ SAR\",\"200+ SAR\",\"200+ SAR\",\"101-200 SAR\",\"200+ SAR\",\"<50 SAR\",\"50-100 SAR\",\"101-200 SAR\",\"200+ SAR\",\"101-200 SAR\",\"101-200 SAR\",\"101-200 SAR\",\"<50 SAR\",\"50-100 SAR\",\"101-200 SAR\",\"<50 SAR\",\"200+ SAR\",\"<50 SAR\",\"101-200 SAR\",\"<50 SAR\",\"101-200 SAR\",\"101-200 SAR\",\"200+ SAR\",\"200+ SAR\",\"101-200 SAR\",\"101-200 SAR\",\"<50 SAR\",\"50-100 SAR\",\"200+ SAR\",\"200+ SAR\",\"200+ SAR\",\"50-100 SAR\"],\"xaxis\":\"x\",\"yaxis\":\"y\",\"type\":\"histogram\"},{\"alignmentgroup\":\"True\",\"bingroup\":\"x\",\"hovertemplate\":\"Paywilingness=I will attend if the event is exciting enough<br>MoneySpend=%{x}<br>count=%{y}<extra></extra>\",\"legendgroup\":\"I will attend if the event is exciting enough\",\"marker\":{\"color\":\"#EF553B\",\"pattern\":{\"shape\":\"\"}},\"name\":\"I will attend if the event is exciting enough\",\"offsetgroup\":\"I will attend if the event is exciting enough\",\"orientation\":\"v\",\"showlegend\":true,\"x\":[\"101-200 SAR\",\"<50 SAR\",\"101-200 SAR\",\"101-200 SAR\",\"101-200 SAR\",\"200+ SAR\",\"<50 SAR\",\"200+ SAR\",\"<50 SAR\",\"50-100 SAR\",\"200+ SAR\",\"101-200 SAR\",\"50-100 SAR\",\"101-200 SAR\",\"101-200 SAR\",\"<50 SAR\",\"200+ SAR\",\"200+ SAR\",\"101-200 SAR\",\"200+ SAR\",\"101-200 SAR\",\"<50 SAR\",\"<50 SAR\",\"50-100 SAR\",\"<50 SAR\",\"<50 SAR\",\"50-100 SAR\",\"101-200 SAR\",\"50-100 SAR\",\"200+ SAR\",\"<50 SAR\",\"101-200 SAR\",\"101-200 SAR\",\"101-200 SAR\",\"50-100 SAR\",\"101-200 SAR\",\"<50 SAR\",\"50-100 SAR\",\"200+ SAR\",\"200+ SAR\",\"50-100 SAR\",\"200+ SAR\",\"200+ SAR\",\"101-200 SAR\",\"50-100 SAR\",\"200+ SAR\",\"50-100 SAR\",\"101-200 SAR\",\"101-200 SAR\",\"<50 SAR\",\"200+ SAR\",\"200+ SAR\"],\"xaxis\":\"x\",\"yaxis\":\"y\",\"type\":\"histogram\"}],                        {\"template\":{\"data\":{\"bar\":[{\"error_x\":{\"color\":\"#2a3f5f\"},\"error_y\":{\"color\":\"#2a3f5f\"},\"marker\":{\"line\":{\"color\":\"#E5ECF6\",\"width\":0.5},\"pattern\":{\"fillmode\":\"overlay\",\"size\":10,\"solidity\":0.2}},\"type\":\"bar\"}],\"barpolar\":[{\"marker\":{\"line\":{\"color\":\"#E5ECF6\",\"width\":0.5},\"pattern\":{\"fillmode\":\"overlay\",\"size\":10,\"solidity\":0.2}},\"type\":\"barpolar\"}],\"carpet\":[{\"aaxis\":{\"endlinecolor\":\"#2a3f5f\",\"gridcolor\":\"white\",\"linecolor\":\"white\",\"minorgridcolor\":\"white\",\"startlinecolor\":\"#2a3f5f\"},\"baxis\":{\"endlinecolor\":\"#2a3f5f\",\"gridcolor\":\"white\",\"linecolor\":\"white\",\"minorgridcolor\":\"white\",\"startlinecolor\":\"#2a3f5f\"},\"type\":\"carpet\"}],\"choropleth\":[{\"colorbar\":{\"outlinewidth\":0,\"ticks\":\"\"},\"type\":\"choropleth\"}],\"contour\":[{\"colorbar\":{\"outlinewidth\":0,\"ticks\":\"\"},\"colorscale\":[[0.0,\"#0d0887\"],[0.1111111111111111,\"#46039f\"],[0.2222222222222222,\"#7201a8\"],[0.3333333333333333,\"#9c179e\"],[0.4444444444444444,\"#bd3786\"],[0.5555555555555556,\"#d8576b\"],[0.6666666666666666,\"#ed7953\"],[0.7777777777777778,\"#fb9f3a\"],[0.8888888888888888,\"#fdca26\"],[1.0,\"#f0f921\"]],\"type\":\"contour\"}],\"contourcarpet\":[{\"colorbar\":{\"outlinewidth\":0,\"ticks\":\"\"},\"type\":\"contourcarpet\"}],\"heatmap\":[{\"colorbar\":{\"outlinewidth\":0,\"ticks\":\"\"},\"colorscale\":[[0.0,\"#0d0887\"],[0.1111111111111111,\"#46039f\"],[0.2222222222222222,\"#7201a8\"],[0.3333333333333333,\"#9c179e\"],[0.4444444444444444,\"#bd3786\"],[0.5555555555555556,\"#d8576b\"],[0.6666666666666666,\"#ed7953\"],[0.7777777777777778,\"#fb9f3a\"],[0.8888888888888888,\"#fdca26\"],[1.0,\"#f0f921\"]],\"type\":\"heatmap\"}],\"heatmapgl\":[{\"colorbar\":{\"outlinewidth\":0,\"ticks\":\"\"},\"colorscale\":[[0.0,\"#0d0887\"],[0.1111111111111111,\"#46039f\"],[0.2222222222222222,\"#7201a8\"],[0.3333333333333333,\"#9c179e\"],[0.4444444444444444,\"#bd3786\"],[0.5555555555555556,\"#d8576b\"],[0.6666666666666666,\"#ed7953\"],[0.7777777777777778,\"#fb9f3a\"],[0.8888888888888888,\"#fdca26\"],[1.0,\"#f0f921\"]],\"type\":\"heatmapgl\"}],\"histogram\":[{\"marker\":{\"pattern\":{\"fillmode\":\"overlay\",\"size\":10,\"solidity\":0.2}},\"type\":\"histogram\"}],\"histogram2d\":[{\"colorbar\":{\"outlinewidth\":0,\"ticks\":\"\"},\"colorscale\":[[0.0,\"#0d0887\"],[0.1111111111111111,\"#46039f\"],[0.2222222222222222,\"#7201a8\"],[0.3333333333333333,\"#9c179e\"],[0.4444444444444444,\"#bd3786\"],[0.5555555555555556,\"#d8576b\"],[0.6666666666666666,\"#ed7953\"],[0.7777777777777778,\"#fb9f3a\"],[0.8888888888888888,\"#fdca26\"],[1.0,\"#f0f921\"]],\"type\":\"histogram2d\"}],\"histogram2dcontour\":[{\"colorbar\":{\"outlinewidth\":0,\"ticks\":\"\"},\"colorscale\":[[0.0,\"#0d0887\"],[0.1111111111111111,\"#46039f\"],[0.2222222222222222,\"#7201a8\"],[0.3333333333333333,\"#9c179e\"],[0.4444444444444444,\"#bd3786\"],[0.5555555555555556,\"#d8576b\"],[0.6666666666666666,\"#ed7953\"],[0.7777777777777778,\"#fb9f3a\"],[0.8888888888888888,\"#fdca26\"],[1.0,\"#f0f921\"]],\"type\":\"histogram2dcontour\"}],\"mesh3d\":[{\"colorbar\":{\"outlinewidth\":0,\"ticks\":\"\"},\"type\":\"mesh3d\"}],\"parcoords\":[{\"line\":{\"colorbar\":{\"outlinewidth\":0,\"ticks\":\"\"}},\"type\":\"parcoords\"}],\"pie\":[{\"automargin\":true,\"type\":\"pie\"}],\"scatter\":[{\"marker\":{\"colorbar\":{\"outlinewidth\":0,\"ticks\":\"\"}},\"type\":\"scatter\"}],\"scatter3d\":[{\"line\":{\"colorbar\":{\"outlinewidth\":0,\"ticks\":\"\"}},\"marker\":{\"colorbar\":{\"outlinewidth\":0,\"ticks\":\"\"}},\"type\":\"scatter3d\"}],\"scattercarpet\":[{\"marker\":{\"colorbar\":{\"outlinewidth\":0,\"ticks\":\"\"}},\"type\":\"scattercarpet\"}],\"scattergeo\":[{\"marker\":{\"colorbar\":{\"outlinewidth\":0,\"ticks\":\"\"}},\"type\":\"scattergeo\"}],\"scattergl\":[{\"marker\":{\"colorbar\":{\"outlinewidth\":0,\"ticks\":\"\"}},\"type\":\"scattergl\"}],\"scattermapbox\":[{\"marker\":{\"colorbar\":{\"outlinewidth\":0,\"ticks\":\"\"}},\"type\":\"scattermapbox\"}],\"scatterpolar\":[{\"marker\":{\"colorbar\":{\"outlinewidth\":0,\"ticks\":\"\"}},\"type\":\"scatterpolar\"}],\"scatterpolargl\":[{\"marker\":{\"colorbar\":{\"outlinewidth\":0,\"ticks\":\"\"}},\"type\":\"scatterpolargl\"}],\"scatterternary\":[{\"marker\":{\"colorbar\":{\"outlinewidth\":0,\"ticks\":\"\"}},\"type\":\"scatterternary\"}],\"surface\":[{\"colorbar\":{\"outlinewidth\":0,\"ticks\":\"\"},\"colorscale\":[[0.0,\"#0d0887\"],[0.1111111111111111,\"#46039f\"],[0.2222222222222222,\"#7201a8\"],[0.3333333333333333,\"#9c179e\"],[0.4444444444444444,\"#bd3786\"],[0.5555555555555556,\"#d8576b\"],[0.6666666666666666,\"#ed7953\"],[0.7777777777777778,\"#fb9f3a\"],[0.8888888888888888,\"#fdca26\"],[1.0,\"#f0f921\"]],\"type\":\"surface\"}],\"table\":[{\"cells\":{\"fill\":{\"color\":\"#EBF0F8\"},\"line\":{\"color\":\"white\"}},\"header\":{\"fill\":{\"color\":\"#C8D4E3\"},\"line\":{\"color\":\"white\"}},\"type\":\"table\"}]},\"layout\":{\"annotationdefaults\":{\"arrowcolor\":\"#2a3f5f\",\"arrowhead\":0,\"arrowwidth\":1},\"autotypenumbers\":\"strict\",\"coloraxis\":{\"colorbar\":{\"outlinewidth\":0,\"ticks\":\"\"}},\"colorscale\":{\"diverging\":[[0,\"#8e0152\"],[0.1,\"#c51b7d\"],[0.2,\"#de77ae\"],[0.3,\"#f1b6da\"],[0.4,\"#fde0ef\"],[0.5,\"#f7f7f7\"],[0.6,\"#e6f5d0\"],[0.7,\"#b8e186\"],[0.8,\"#7fbc41\"],[0.9,\"#4d9221\"],[1,\"#276419\"]],\"sequential\":[[0.0,\"#0d0887\"],[0.1111111111111111,\"#46039f\"],[0.2222222222222222,\"#7201a8\"],[0.3333333333333333,\"#9c179e\"],[0.4444444444444444,\"#bd3786\"],[0.5555555555555556,\"#d8576b\"],[0.6666666666666666,\"#ed7953\"],[0.7777777777777778,\"#fb9f3a\"],[0.8888888888888888,\"#fdca26\"],[1.0,\"#f0f921\"]],\"sequentialminus\":[[0.0,\"#0d0887\"],[0.1111111111111111,\"#46039f\"],[0.2222222222222222,\"#7201a8\"],[0.3333333333333333,\"#9c179e\"],[0.4444444444444444,\"#bd3786\"],[0.5555555555555556,\"#d8576b\"],[0.6666666666666666,\"#ed7953\"],[0.7777777777777778,\"#fb9f3a\"],[0.8888888888888888,\"#fdca26\"],[1.0,\"#f0f921\"]]},\"colorway\":[\"#636efa\",\"#EF553B\",\"#00cc96\",\"#ab63fa\",\"#FFA15A\",\"#19d3f3\",\"#FF6692\",\"#B6E880\",\"#FF97FF\",\"#FECB52\"],\"font\":{\"color\":\"#2a3f5f\"},\"geo\":{\"bgcolor\":\"white\",\"lakecolor\":\"white\",\"landcolor\":\"#E5ECF6\",\"showlakes\":true,\"showland\":true,\"subunitcolor\":\"white\"},\"hoverlabel\":{\"align\":\"left\"},\"hovermode\":\"closest\",\"mapbox\":{\"style\":\"light\"},\"paper_bgcolor\":\"white\",\"plot_bgcolor\":\"#E5ECF6\",\"polar\":{\"angularaxis\":{\"gridcolor\":\"white\",\"linecolor\":\"white\",\"ticks\":\"\"},\"bgcolor\":\"#E5ECF6\",\"radialaxis\":{\"gridcolor\":\"white\",\"linecolor\":\"white\",\"ticks\":\"\"}},\"scene\":{\"xaxis\":{\"backgroundcolor\":\"#E5ECF6\",\"gridcolor\":\"white\",\"gridwidth\":2,\"linecolor\":\"white\",\"showbackground\":true,\"ticks\":\"\",\"zerolinecolor\":\"white\"},\"yaxis\":{\"backgroundcolor\":\"#E5ECF6\",\"gridcolor\":\"white\",\"gridwidth\":2,\"linecolor\":\"white\",\"showbackground\":true,\"ticks\":\"\",\"zerolinecolor\":\"white\"},\"zaxis\":{\"backgroundcolor\":\"#E5ECF6\",\"gridcolor\":\"white\",\"gridwidth\":2,\"linecolor\":\"white\",\"showbackground\":true,\"ticks\":\"\",\"zerolinecolor\":\"white\"}},\"shapedefaults\":{\"line\":{\"color\":\"#2a3f5f\"}},\"ternary\":{\"aaxis\":{\"gridcolor\":\"white\",\"linecolor\":\"white\",\"ticks\":\"\"},\"baxis\":{\"gridcolor\":\"white\",\"linecolor\":\"white\",\"ticks\":\"\"},\"bgcolor\":\"#E5ECF6\",\"caxis\":{\"gridcolor\":\"white\",\"linecolor\":\"white\",\"ticks\":\"\"}},\"title\":{\"x\":0.05},\"xaxis\":{\"automargin\":true,\"gridcolor\":\"white\",\"linecolor\":\"white\",\"ticks\":\"\",\"title\":{\"standoff\":15},\"zerolinecolor\":\"white\",\"zerolinewidth\":2},\"yaxis\":{\"automargin\":true,\"gridcolor\":\"white\",\"linecolor\":\"white\",\"ticks\":\"\",\"title\":{\"standoff\":15},\"zerolinecolor\":\"white\",\"zerolinewidth\":2}}},\"xaxis\":{\"anchor\":\"y\",\"domain\":[0.0,1.0],\"title\":{\"text\":\"MoneySpend\"},\"categoryorder\":\"array\",\"categoryarray\":[\"<50 SAR\",\"50-100 SAR\",\"101-200 SAR\",\"200+ SAR\"]},\"yaxis\":{\"anchor\":\"x\",\"domain\":[0.0,1.0],\"title\":{\"text\":\"count\"}},\"legend\":{\"title\":{\"text\":\"Paywilingness\"},\"tracegroupgap\":0},\"margin\":{\"t\":60},\"barmode\":\"group\"},                        {\"responsive\": true}                    ).then(function(){\n",
       "                            \n",
       "var gd = document.getElementById('9eaa121a-347c-4519-acd1-67ea42da3a39');\n",
       "var x = new MutationObserver(function (mutations, observer) {{\n",
       "        var display = window.getComputedStyle(gd).display;\n",
       "        if (!display || display === 'none') {{\n",
       "            console.log([gd, 'removed!']);\n",
       "            Plotly.purge(gd);\n",
       "            observer.disconnect();\n",
       "        }}\n",
       "}});\n",
       "\n",
       "// Listen for the removal of the full notebook cells\n",
       "var notebookContainer = gd.closest('#notebook-container');\n",
       "if (notebookContainer) {{\n",
       "    x.observe(notebookContainer, {childList: true});\n",
       "}}\n",
       "\n",
       "// Listen for the clearing of the current output cell\n",
       "var outputEl = gd.closest('.output');\n",
       "if (outputEl) {{\n",
       "    x.observe(outputEl, {childList: true});\n",
       "}}\n",
       "\n",
       "                        })                };                });            </script>        </div>"
      ]
     },
     "metadata": {},
     "output_type": "display_data"
    }
   ],
   "source": [
    "fig = px.histogram(df_viz_north_paying, x='MoneySpend',\n",
    "             color=\"Paywilingness\", barmode = 'group')\n",
    "fig.update_xaxes(categoryorder='array', categoryarray= ['<50 SAR','50-100 SAR','101-200 SAR','200+ SAR'])\n",
    "fig.show() "
   ]
  },
  {
   "cell_type": "code",
   "execution_count": 51,
   "metadata": {},
   "outputs": [
    {
     "data": {
      "text/html": [
       "<div>\n",
       "<style scoped>\n",
       "    .dataframe tbody tr th:only-of-type {\n",
       "        vertical-align: middle;\n",
       "    }\n",
       "\n",
       "    .dataframe tbody tr th {\n",
       "        vertical-align: top;\n",
       "    }\n",
       "\n",
       "    .dataframe thead th {\n",
       "        text-align: right;\n",
       "    }\n",
       "</style>\n",
       "<table border=\"1\" class=\"dataframe\">\n",
       "  <thead>\n",
       "    <tr style=\"text-align: right;\">\n",
       "      <th></th>\n",
       "      <th>Gender</th>\n",
       "      <th>AgeGroup</th>\n",
       "      <th>MaritalStatus</th>\n",
       "      <th>MonthlyIncomeLevel</th>\n",
       "      <th>ResidentialArea</th>\n",
       "      <th>EventsSatisfaction</th>\n",
       "      <th>WeeklyVisitFrequency</th>\n",
       "      <th>Paywilingness</th>\n",
       "      <th>MoneySpend</th>\n",
       "    </tr>\n",
       "  </thead>\n",
       "  <tbody>\n",
       "    <tr>\n",
       "      <th>3</th>\n",
       "      <td>Female</td>\n",
       "      <td>46-55</td>\n",
       "      <td>Married with kids</td>\n",
       "      <td>&gt;20,000 SAR</td>\n",
       "      <td>North-West of Riyadh</td>\n",
       "      <td>4</td>\n",
       "      <td>3+ times a week</td>\n",
       "      <td>I will attend if the ticket is priced reasonably</td>\n",
       "      <td>101-200 SAR</td>\n",
       "    </tr>\n",
       "    <tr>\n",
       "      <th>5</th>\n",
       "      <td>Female</td>\n",
       "      <td>56+</td>\n",
       "      <td>Married with kids</td>\n",
       "      <td>&gt;20,000 SAR</td>\n",
       "      <td>North-West of Riyadh</td>\n",
       "      <td>5</td>\n",
       "      <td>3+ times a week</td>\n",
       "      <td>I will attend if the ticket is priced reasonably</td>\n",
       "      <td>50-100 SAR</td>\n",
       "    </tr>\n",
       "    <tr>\n",
       "      <th>6</th>\n",
       "      <td>Male</td>\n",
       "      <td>46-55</td>\n",
       "      <td>Married with no kids</td>\n",
       "      <td>7,000-12,000SAR</td>\n",
       "      <td>North-Eest of Riyadh</td>\n",
       "      <td>4</td>\n",
       "      <td>I only go out on weekends</td>\n",
       "      <td>I will attend if the ticket is priced reasonably</td>\n",
       "      <td>50-100 SAR</td>\n",
       "    </tr>\n",
       "    <tr>\n",
       "      <th>12</th>\n",
       "      <td>Female</td>\n",
       "      <td>25-30</td>\n",
       "      <td>Married with no kids</td>\n",
       "      <td>7,000-12,000SAR</td>\n",
       "      <td>North-Eest of Riyadh</td>\n",
       "      <td>5</td>\n",
       "      <td>I only go out on weekends</td>\n",
       "      <td>I will attend if the event is exciting enough</td>\n",
       "      <td>101-200 SAR</td>\n",
       "    </tr>\n",
       "    <tr>\n",
       "      <th>15</th>\n",
       "      <td>Female</td>\n",
       "      <td>31-45</td>\n",
       "      <td>Single</td>\n",
       "      <td>7,000-12,000SAR</td>\n",
       "      <td>North-West of Riyadh</td>\n",
       "      <td>5</td>\n",
       "      <td>2-3 times a week</td>\n",
       "      <td>I will attend if the ticket is priced reasonably</td>\n",
       "      <td>&lt;50 SAR</td>\n",
       "    </tr>\n",
       "    <tr>\n",
       "      <th>...</th>\n",
       "      <td>...</td>\n",
       "      <td>...</td>\n",
       "      <td>...</td>\n",
       "      <td>...</td>\n",
       "      <td>...</td>\n",
       "      <td>...</td>\n",
       "      <td>...</td>\n",
       "      <td>...</td>\n",
       "      <td>...</td>\n",
       "    </tr>\n",
       "    <tr>\n",
       "      <th>445</th>\n",
       "      <td>Female</td>\n",
       "      <td>56+</td>\n",
       "      <td>Married with no kids</td>\n",
       "      <td>13,000-20,000SAR</td>\n",
       "      <td>North-West of Riyadh</td>\n",
       "      <td>5</td>\n",
       "      <td>I only go out on weekends</td>\n",
       "      <td>I will attend if the ticket is priced reasonably</td>\n",
       "      <td>200+ SAR</td>\n",
       "    </tr>\n",
       "    <tr>\n",
       "      <th>454</th>\n",
       "      <td>Female</td>\n",
       "      <td>46-55</td>\n",
       "      <td>Single</td>\n",
       "      <td>7,000-12,000SAR</td>\n",
       "      <td>North-West of Riyadh</td>\n",
       "      <td>1</td>\n",
       "      <td>I only go out on weekends</td>\n",
       "      <td>I will attend if the ticket is priced reasonably</td>\n",
       "      <td>200+ SAR</td>\n",
       "    </tr>\n",
       "    <tr>\n",
       "      <th>455</th>\n",
       "      <td>Male</td>\n",
       "      <td>18-24</td>\n",
       "      <td>Single with kids</td>\n",
       "      <td>&gt;20,000 SAR</td>\n",
       "      <td>North-Eest of Riyadh</td>\n",
       "      <td>1</td>\n",
       "      <td>I only go out on weekends</td>\n",
       "      <td>I will attend if the event is exciting enough</td>\n",
       "      <td>200+ SAR</td>\n",
       "    </tr>\n",
       "    <tr>\n",
       "      <th>486</th>\n",
       "      <td>Male</td>\n",
       "      <td>18-24</td>\n",
       "      <td>Married with kids</td>\n",
       "      <td>&gt;20,000 SAR</td>\n",
       "      <td>North-Eest of Riyadh</td>\n",
       "      <td>5</td>\n",
       "      <td>3+ times a week</td>\n",
       "      <td>I will attend if the ticket is priced reasonably</td>\n",
       "      <td>50-100 SAR</td>\n",
       "    </tr>\n",
       "    <tr>\n",
       "      <th>487</th>\n",
       "      <td>Female</td>\n",
       "      <td>18-24</td>\n",
       "      <td>Married with kids</td>\n",
       "      <td>13,000-20,000SAR</td>\n",
       "      <td>North-West of Riyadh</td>\n",
       "      <td>2</td>\n",
       "      <td>3+ times a week</td>\n",
       "      <td>I will attend if the event is exciting enough</td>\n",
       "      <td>200+ SAR</td>\n",
       "    </tr>\n",
       "  </tbody>\n",
       "</table>\n",
       "<p>97 rows × 9 columns</p>\n",
       "</div>"
      ],
      "text/plain": [
       "     Gender AgeGroup         MaritalStatus MonthlyIncomeLevel  \\\n",
       "3    Female    46-55     Married with kids        >20,000 SAR   \n",
       "5    Female      56+     Married with kids        >20,000 SAR   \n",
       "6      Male    46-55  Married with no kids    7,000-12,000SAR   \n",
       "12   Female    25-30  Married with no kids    7,000-12,000SAR   \n",
       "15   Female    31-45                Single    7,000-12,000SAR   \n",
       "..      ...      ...                   ...                ...   \n",
       "445  Female      56+  Married with no kids   13,000-20,000SAR   \n",
       "454  Female    46-55                Single    7,000-12,000SAR   \n",
       "455    Male    18-24      Single with kids        >20,000 SAR   \n",
       "486    Male    18-24     Married with kids        >20,000 SAR   \n",
       "487  Female    18-24     Married with kids   13,000-20,000SAR   \n",
       "\n",
       "          ResidentialArea  EventsSatisfaction       WeeklyVisitFrequency  \\\n",
       "3    North-West of Riyadh                   4            3+ times a week   \n",
       "5    North-West of Riyadh                   5            3+ times a week   \n",
       "6    North-Eest of Riyadh                   4  I only go out on weekends   \n",
       "12   North-Eest of Riyadh                   5  I only go out on weekends   \n",
       "15   North-West of Riyadh                   5           2-3 times a week   \n",
       "..                    ...                 ...                        ...   \n",
       "445  North-West of Riyadh                   5  I only go out on weekends   \n",
       "454  North-West of Riyadh                   1  I only go out on weekends   \n",
       "455  North-Eest of Riyadh                   1  I only go out on weekends   \n",
       "486  North-Eest of Riyadh                   5            3+ times a week   \n",
       "487  North-West of Riyadh                   2            3+ times a week   \n",
       "\n",
       "                                        Paywilingness   MoneySpend  \n",
       "3    I will attend if the ticket is priced reasonably  101-200 SAR  \n",
       "5    I will attend if the ticket is priced reasonably   50-100 SAR  \n",
       "6    I will attend if the ticket is priced reasonably   50-100 SAR  \n",
       "12      I will attend if the event is exciting enough  101-200 SAR  \n",
       "15   I will attend if the ticket is priced reasonably      <50 SAR  \n",
       "..                                                ...          ...  \n",
       "445  I will attend if the ticket is priced reasonably     200+ SAR  \n",
       "454  I will attend if the ticket is priced reasonably     200+ SAR  \n",
       "455     I will attend if the event is exciting enough     200+ SAR  \n",
       "486  I will attend if the ticket is priced reasonably   50-100 SAR  \n",
       "487     I will attend if the event is exciting enough     200+ SAR  \n",
       "\n",
       "[97 rows x 9 columns]"
      ]
     },
     "execution_count": 51,
     "metadata": {},
     "output_type": "execute_result"
    }
   ],
   "source": [
    "df_viz_north_paying"
   ]
  },
  {
   "cell_type": "code",
   "execution_count": 52,
   "metadata": {
    "scrolled": false
   },
   "outputs": [
    {
     "data": {
      "application/vnd.plotly.v1+json": {
       "config": {
        "plotlyServerURL": "https://plot.ly"
       },
       "data": [
        {
         "alignmentgroup": "True",
         "bingroup": "x",
         "hovertemplate": "MonthlyIncomeLevel=>20,000 SAR<br>MoneySpend=%{x}<br>count=%{y}<extra></extra>",
         "legendgroup": ">20,000 SAR",
         "marker": {
          "color": "#636efa",
          "pattern": {
           "shape": ""
          }
         },
         "name": ">20,000 SAR",
         "offsetgroup": ">20,000 SAR",
         "orientation": "v",
         "showlegend": true,
         "type": "histogram",
         "x": [
          "101-200 SAR",
          "50-100 SAR",
          "101-200 SAR",
          "200+ SAR",
          "200+ SAR",
          "<50 SAR",
          "<50 SAR",
          "200+ SAR",
          "101-200 SAR",
          "50-100 SAR",
          "<50 SAR",
          "101-200 SAR",
          "200+ SAR",
          "200+ SAR",
          "101-200 SAR",
          "<50 SAR",
          "<50 SAR",
          "101-200 SAR",
          "101-200 SAR",
          "50-100 SAR",
          "<50 SAR",
          "50-100 SAR",
          "101-200 SAR",
          "<50 SAR",
          "101-200 SAR",
          "101-200 SAR",
          "101-200 SAR",
          "101-200 SAR",
          "50-100 SAR",
          "200+ SAR",
          "50-100 SAR",
          "50-100 SAR",
          "200+ SAR",
          "101-200 SAR",
          "50-100 SAR",
          "50-100 SAR",
          "101-200 SAR",
          "101-200 SAR",
          "200+ SAR",
          "<50 SAR",
          "50-100 SAR",
          "200+ SAR",
          "200+ SAR",
          "50-100 SAR"
         ],
         "xaxis": "x",
         "yaxis": "y"
        },
        {
         "alignmentgroup": "True",
         "bingroup": "x",
         "hovertemplate": "MonthlyIncomeLevel=7,000-12,000SAR<br>MoneySpend=%{x}<br>count=%{y}<extra></extra>",
         "legendgroup": "7,000-12,000SAR",
         "marker": {
          "color": "#EF553B",
          "pattern": {
           "shape": ""
          }
         },
         "name": "7,000-12,000SAR",
         "offsetgroup": "7,000-12,000SAR",
         "orientation": "v",
         "showlegend": true,
         "type": "histogram",
         "x": [
          "50-100 SAR",
          "101-200 SAR",
          "<50 SAR",
          "101-200 SAR",
          "<50 SAR",
          "<50 SAR",
          "50-100 SAR",
          "101-200 SAR",
          "200+ SAR",
          "<50 SAR",
          "200+ SAR",
          "101-200 SAR",
          "<50 SAR",
          "200+ SAR",
          "200+ SAR",
          "50-100 SAR",
          "<50 SAR",
          "50-100 SAR",
          "200+ SAR",
          "200+ SAR",
          "101-200 SAR",
          "101-200 SAR",
          "200+ SAR",
          "<50 SAR",
          "<50 SAR",
          "200+ SAR",
          "101-200 SAR",
          "101-200 SAR",
          "<50 SAR",
          "200+ SAR"
         ],
         "xaxis": "x",
         "yaxis": "y"
        },
        {
         "alignmentgroup": "True",
         "bingroup": "x",
         "hovertemplate": "MonthlyIncomeLevel=13,000-20,000SAR<br>MoneySpend=%{x}<br>count=%{y}<extra></extra>",
         "legendgroup": "13,000-20,000SAR",
         "marker": {
          "color": "#00cc96",
          "pattern": {
           "shape": ""
          }
         },
         "name": "13,000-20,000SAR",
         "offsetgroup": "13,000-20,000SAR",
         "orientation": "v",
         "showlegend": true,
         "type": "histogram",
         "x": [
          "<50 SAR",
          "101-200 SAR",
          "200+ SAR",
          "<50 SAR",
          "101-200 SAR",
          "200+ SAR",
          "<50 SAR",
          "200+ SAR",
          "200+ SAR",
          "101-200 SAR",
          "50-100 SAR",
          "<50 SAR",
          "101-200 SAR",
          "<50 SAR",
          "200+ SAR",
          "101-200 SAR",
          "<50 SAR",
          "200+ SAR",
          "101-200 SAR",
          "200+ SAR",
          "101-200 SAR",
          "200+ SAR",
          "200+ SAR"
         ],
         "xaxis": "x",
         "yaxis": "y"
        }
       ],
       "layout": {
        "barmode": "group",
        "legend": {
         "title": {
          "text": "MonthlyIncomeLevel"
         },
         "tracegroupgap": 0
        },
        "margin": {
         "t": 60
        },
        "template": {
         "data": {
          "bar": [
           {
            "error_x": {
             "color": "#2a3f5f"
            },
            "error_y": {
             "color": "#2a3f5f"
            },
            "marker": {
             "line": {
              "color": "#E5ECF6",
              "width": 0.5
             },
             "pattern": {
              "fillmode": "overlay",
              "size": 10,
              "solidity": 0.2
             }
            },
            "type": "bar"
           }
          ],
          "barpolar": [
           {
            "marker": {
             "line": {
              "color": "#E5ECF6",
              "width": 0.5
             },
             "pattern": {
              "fillmode": "overlay",
              "size": 10,
              "solidity": 0.2
             }
            },
            "type": "barpolar"
           }
          ],
          "carpet": [
           {
            "aaxis": {
             "endlinecolor": "#2a3f5f",
             "gridcolor": "white",
             "linecolor": "white",
             "minorgridcolor": "white",
             "startlinecolor": "#2a3f5f"
            },
            "baxis": {
             "endlinecolor": "#2a3f5f",
             "gridcolor": "white",
             "linecolor": "white",
             "minorgridcolor": "white",
             "startlinecolor": "#2a3f5f"
            },
            "type": "carpet"
           }
          ],
          "choropleth": [
           {
            "colorbar": {
             "outlinewidth": 0,
             "ticks": ""
            },
            "type": "choropleth"
           }
          ],
          "contour": [
           {
            "colorbar": {
             "outlinewidth": 0,
             "ticks": ""
            },
            "colorscale": [
             [
              0,
              "#0d0887"
             ],
             [
              0.1111111111111111,
              "#46039f"
             ],
             [
              0.2222222222222222,
              "#7201a8"
             ],
             [
              0.3333333333333333,
              "#9c179e"
             ],
             [
              0.4444444444444444,
              "#bd3786"
             ],
             [
              0.5555555555555556,
              "#d8576b"
             ],
             [
              0.6666666666666666,
              "#ed7953"
             ],
             [
              0.7777777777777778,
              "#fb9f3a"
             ],
             [
              0.8888888888888888,
              "#fdca26"
             ],
             [
              1,
              "#f0f921"
             ]
            ],
            "type": "contour"
           }
          ],
          "contourcarpet": [
           {
            "colorbar": {
             "outlinewidth": 0,
             "ticks": ""
            },
            "type": "contourcarpet"
           }
          ],
          "heatmap": [
           {
            "colorbar": {
             "outlinewidth": 0,
             "ticks": ""
            },
            "colorscale": [
             [
              0,
              "#0d0887"
             ],
             [
              0.1111111111111111,
              "#46039f"
             ],
             [
              0.2222222222222222,
              "#7201a8"
             ],
             [
              0.3333333333333333,
              "#9c179e"
             ],
             [
              0.4444444444444444,
              "#bd3786"
             ],
             [
              0.5555555555555556,
              "#d8576b"
             ],
             [
              0.6666666666666666,
              "#ed7953"
             ],
             [
              0.7777777777777778,
              "#fb9f3a"
             ],
             [
              0.8888888888888888,
              "#fdca26"
             ],
             [
              1,
              "#f0f921"
             ]
            ],
            "type": "heatmap"
           }
          ],
          "heatmapgl": [
           {
            "colorbar": {
             "outlinewidth": 0,
             "ticks": ""
            },
            "colorscale": [
             [
              0,
              "#0d0887"
             ],
             [
              0.1111111111111111,
              "#46039f"
             ],
             [
              0.2222222222222222,
              "#7201a8"
             ],
             [
              0.3333333333333333,
              "#9c179e"
             ],
             [
              0.4444444444444444,
              "#bd3786"
             ],
             [
              0.5555555555555556,
              "#d8576b"
             ],
             [
              0.6666666666666666,
              "#ed7953"
             ],
             [
              0.7777777777777778,
              "#fb9f3a"
             ],
             [
              0.8888888888888888,
              "#fdca26"
             ],
             [
              1,
              "#f0f921"
             ]
            ],
            "type": "heatmapgl"
           }
          ],
          "histogram": [
           {
            "marker": {
             "pattern": {
              "fillmode": "overlay",
              "size": 10,
              "solidity": 0.2
             }
            },
            "type": "histogram"
           }
          ],
          "histogram2d": [
           {
            "colorbar": {
             "outlinewidth": 0,
             "ticks": ""
            },
            "colorscale": [
             [
              0,
              "#0d0887"
             ],
             [
              0.1111111111111111,
              "#46039f"
             ],
             [
              0.2222222222222222,
              "#7201a8"
             ],
             [
              0.3333333333333333,
              "#9c179e"
             ],
             [
              0.4444444444444444,
              "#bd3786"
             ],
             [
              0.5555555555555556,
              "#d8576b"
             ],
             [
              0.6666666666666666,
              "#ed7953"
             ],
             [
              0.7777777777777778,
              "#fb9f3a"
             ],
             [
              0.8888888888888888,
              "#fdca26"
             ],
             [
              1,
              "#f0f921"
             ]
            ],
            "type": "histogram2d"
           }
          ],
          "histogram2dcontour": [
           {
            "colorbar": {
             "outlinewidth": 0,
             "ticks": ""
            },
            "colorscale": [
             [
              0,
              "#0d0887"
             ],
             [
              0.1111111111111111,
              "#46039f"
             ],
             [
              0.2222222222222222,
              "#7201a8"
             ],
             [
              0.3333333333333333,
              "#9c179e"
             ],
             [
              0.4444444444444444,
              "#bd3786"
             ],
             [
              0.5555555555555556,
              "#d8576b"
             ],
             [
              0.6666666666666666,
              "#ed7953"
             ],
             [
              0.7777777777777778,
              "#fb9f3a"
             ],
             [
              0.8888888888888888,
              "#fdca26"
             ],
             [
              1,
              "#f0f921"
             ]
            ],
            "type": "histogram2dcontour"
           }
          ],
          "mesh3d": [
           {
            "colorbar": {
             "outlinewidth": 0,
             "ticks": ""
            },
            "type": "mesh3d"
           }
          ],
          "parcoords": [
           {
            "line": {
             "colorbar": {
              "outlinewidth": 0,
              "ticks": ""
             }
            },
            "type": "parcoords"
           }
          ],
          "pie": [
           {
            "automargin": true,
            "type": "pie"
           }
          ],
          "scatter": [
           {
            "marker": {
             "colorbar": {
              "outlinewidth": 0,
              "ticks": ""
             }
            },
            "type": "scatter"
           }
          ],
          "scatter3d": [
           {
            "line": {
             "colorbar": {
              "outlinewidth": 0,
              "ticks": ""
             }
            },
            "marker": {
             "colorbar": {
              "outlinewidth": 0,
              "ticks": ""
             }
            },
            "type": "scatter3d"
           }
          ],
          "scattercarpet": [
           {
            "marker": {
             "colorbar": {
              "outlinewidth": 0,
              "ticks": ""
             }
            },
            "type": "scattercarpet"
           }
          ],
          "scattergeo": [
           {
            "marker": {
             "colorbar": {
              "outlinewidth": 0,
              "ticks": ""
             }
            },
            "type": "scattergeo"
           }
          ],
          "scattergl": [
           {
            "marker": {
             "colorbar": {
              "outlinewidth": 0,
              "ticks": ""
             }
            },
            "type": "scattergl"
           }
          ],
          "scattermapbox": [
           {
            "marker": {
             "colorbar": {
              "outlinewidth": 0,
              "ticks": ""
             }
            },
            "type": "scattermapbox"
           }
          ],
          "scatterpolar": [
           {
            "marker": {
             "colorbar": {
              "outlinewidth": 0,
              "ticks": ""
             }
            },
            "type": "scatterpolar"
           }
          ],
          "scatterpolargl": [
           {
            "marker": {
             "colorbar": {
              "outlinewidth": 0,
              "ticks": ""
             }
            },
            "type": "scatterpolargl"
           }
          ],
          "scatterternary": [
           {
            "marker": {
             "colorbar": {
              "outlinewidth": 0,
              "ticks": ""
             }
            },
            "type": "scatterternary"
           }
          ],
          "surface": [
           {
            "colorbar": {
             "outlinewidth": 0,
             "ticks": ""
            },
            "colorscale": [
             [
              0,
              "#0d0887"
             ],
             [
              0.1111111111111111,
              "#46039f"
             ],
             [
              0.2222222222222222,
              "#7201a8"
             ],
             [
              0.3333333333333333,
              "#9c179e"
             ],
             [
              0.4444444444444444,
              "#bd3786"
             ],
             [
              0.5555555555555556,
              "#d8576b"
             ],
             [
              0.6666666666666666,
              "#ed7953"
             ],
             [
              0.7777777777777778,
              "#fb9f3a"
             ],
             [
              0.8888888888888888,
              "#fdca26"
             ],
             [
              1,
              "#f0f921"
             ]
            ],
            "type": "surface"
           }
          ],
          "table": [
           {
            "cells": {
             "fill": {
              "color": "#EBF0F8"
             },
             "line": {
              "color": "white"
             }
            },
            "header": {
             "fill": {
              "color": "#C8D4E3"
             },
             "line": {
              "color": "white"
             }
            },
            "type": "table"
           }
          ]
         },
         "layout": {
          "annotationdefaults": {
           "arrowcolor": "#2a3f5f",
           "arrowhead": 0,
           "arrowwidth": 1
          },
          "autotypenumbers": "strict",
          "coloraxis": {
           "colorbar": {
            "outlinewidth": 0,
            "ticks": ""
           }
          },
          "colorscale": {
           "diverging": [
            [
             0,
             "#8e0152"
            ],
            [
             0.1,
             "#c51b7d"
            ],
            [
             0.2,
             "#de77ae"
            ],
            [
             0.3,
             "#f1b6da"
            ],
            [
             0.4,
             "#fde0ef"
            ],
            [
             0.5,
             "#f7f7f7"
            ],
            [
             0.6,
             "#e6f5d0"
            ],
            [
             0.7,
             "#b8e186"
            ],
            [
             0.8,
             "#7fbc41"
            ],
            [
             0.9,
             "#4d9221"
            ],
            [
             1,
             "#276419"
            ]
           ],
           "sequential": [
            [
             0,
             "#0d0887"
            ],
            [
             0.1111111111111111,
             "#46039f"
            ],
            [
             0.2222222222222222,
             "#7201a8"
            ],
            [
             0.3333333333333333,
             "#9c179e"
            ],
            [
             0.4444444444444444,
             "#bd3786"
            ],
            [
             0.5555555555555556,
             "#d8576b"
            ],
            [
             0.6666666666666666,
             "#ed7953"
            ],
            [
             0.7777777777777778,
             "#fb9f3a"
            ],
            [
             0.8888888888888888,
             "#fdca26"
            ],
            [
             1,
             "#f0f921"
            ]
           ],
           "sequentialminus": [
            [
             0,
             "#0d0887"
            ],
            [
             0.1111111111111111,
             "#46039f"
            ],
            [
             0.2222222222222222,
             "#7201a8"
            ],
            [
             0.3333333333333333,
             "#9c179e"
            ],
            [
             0.4444444444444444,
             "#bd3786"
            ],
            [
             0.5555555555555556,
             "#d8576b"
            ],
            [
             0.6666666666666666,
             "#ed7953"
            ],
            [
             0.7777777777777778,
             "#fb9f3a"
            ],
            [
             0.8888888888888888,
             "#fdca26"
            ],
            [
             1,
             "#f0f921"
            ]
           ]
          },
          "colorway": [
           "#636efa",
           "#EF553B",
           "#00cc96",
           "#ab63fa",
           "#FFA15A",
           "#19d3f3",
           "#FF6692",
           "#B6E880",
           "#FF97FF",
           "#FECB52"
          ],
          "font": {
           "color": "#2a3f5f"
          },
          "geo": {
           "bgcolor": "white",
           "lakecolor": "white",
           "landcolor": "#E5ECF6",
           "showlakes": true,
           "showland": true,
           "subunitcolor": "white"
          },
          "hoverlabel": {
           "align": "left"
          },
          "hovermode": "closest",
          "mapbox": {
           "style": "light"
          },
          "paper_bgcolor": "white",
          "plot_bgcolor": "#E5ECF6",
          "polar": {
           "angularaxis": {
            "gridcolor": "white",
            "linecolor": "white",
            "ticks": ""
           },
           "bgcolor": "#E5ECF6",
           "radialaxis": {
            "gridcolor": "white",
            "linecolor": "white",
            "ticks": ""
           }
          },
          "scene": {
           "xaxis": {
            "backgroundcolor": "#E5ECF6",
            "gridcolor": "white",
            "gridwidth": 2,
            "linecolor": "white",
            "showbackground": true,
            "ticks": "",
            "zerolinecolor": "white"
           },
           "yaxis": {
            "backgroundcolor": "#E5ECF6",
            "gridcolor": "white",
            "gridwidth": 2,
            "linecolor": "white",
            "showbackground": true,
            "ticks": "",
            "zerolinecolor": "white"
           },
           "zaxis": {
            "backgroundcolor": "#E5ECF6",
            "gridcolor": "white",
            "gridwidth": 2,
            "linecolor": "white",
            "showbackground": true,
            "ticks": "",
            "zerolinecolor": "white"
           }
          },
          "shapedefaults": {
           "line": {
            "color": "#2a3f5f"
           }
          },
          "ternary": {
           "aaxis": {
            "gridcolor": "white",
            "linecolor": "white",
            "ticks": ""
           },
           "baxis": {
            "gridcolor": "white",
            "linecolor": "white",
            "ticks": ""
           },
           "bgcolor": "#E5ECF6",
           "caxis": {
            "gridcolor": "white",
            "linecolor": "white",
            "ticks": ""
           }
          },
          "title": {
           "x": 0.05
          },
          "xaxis": {
           "automargin": true,
           "gridcolor": "white",
           "linecolor": "white",
           "ticks": "",
           "title": {
            "standoff": 15
           },
           "zerolinecolor": "white",
           "zerolinewidth": 2
          },
          "yaxis": {
           "automargin": true,
           "gridcolor": "white",
           "linecolor": "white",
           "ticks": "",
           "title": {
            "standoff": 15
           },
           "zerolinecolor": "white",
           "zerolinewidth": 2
          }
         }
        },
        "xaxis": {
         "anchor": "y",
         "domain": [
          0,
          1
         ],
         "title": {
          "text": "MoneySpend"
         }
        },
        "yaxis": {
         "anchor": "x",
         "domain": [
          0,
          1
         ],
         "title": {
          "text": "count"
         }
        }
       }
      },
      "text/html": [
       "<div>                            <div id=\"daa118a1-471b-4c12-97a2-83a7538ae4b7\" class=\"plotly-graph-div\" style=\"height:525px; width:100%;\"></div>            <script type=\"text/javascript\">                require([\"plotly\"], function(Plotly) {                    window.PLOTLYENV=window.PLOTLYENV || {};                                    if (document.getElementById(\"daa118a1-471b-4c12-97a2-83a7538ae4b7\")) {                    Plotly.newPlot(                        \"daa118a1-471b-4c12-97a2-83a7538ae4b7\",                        [{\"alignmentgroup\":\"True\",\"bingroup\":\"x\",\"hovertemplate\":\"MonthlyIncomeLevel=>20,000 SAR<br>MoneySpend=%{x}<br>count=%{y}<extra></extra>\",\"legendgroup\":\">20,000 SAR\",\"marker\":{\"color\":\"#636efa\",\"pattern\":{\"shape\":\"\"}},\"name\":\">20,000 SAR\",\"offsetgroup\":\">20,000 SAR\",\"orientation\":\"v\",\"showlegend\":true,\"x\":[\"101-200 SAR\",\"50-100 SAR\",\"101-200 SAR\",\"200+ SAR\",\"200+ SAR\",\"<50 SAR\",\"<50 SAR\",\"200+ SAR\",\"101-200 SAR\",\"50-100 SAR\",\"<50 SAR\",\"101-200 SAR\",\"200+ SAR\",\"200+ SAR\",\"101-200 SAR\",\"<50 SAR\",\"<50 SAR\",\"101-200 SAR\",\"101-200 SAR\",\"50-100 SAR\",\"<50 SAR\",\"50-100 SAR\",\"101-200 SAR\",\"<50 SAR\",\"101-200 SAR\",\"101-200 SAR\",\"101-200 SAR\",\"101-200 SAR\",\"50-100 SAR\",\"200+ SAR\",\"50-100 SAR\",\"50-100 SAR\",\"200+ SAR\",\"101-200 SAR\",\"50-100 SAR\",\"50-100 SAR\",\"101-200 SAR\",\"101-200 SAR\",\"200+ SAR\",\"<50 SAR\",\"50-100 SAR\",\"200+ SAR\",\"200+ SAR\",\"50-100 SAR\"],\"xaxis\":\"x\",\"yaxis\":\"y\",\"type\":\"histogram\"},{\"alignmentgroup\":\"True\",\"bingroup\":\"x\",\"hovertemplate\":\"MonthlyIncomeLevel=7,000-12,000SAR<br>MoneySpend=%{x}<br>count=%{y}<extra></extra>\",\"legendgroup\":\"7,000-12,000SAR\",\"marker\":{\"color\":\"#EF553B\",\"pattern\":{\"shape\":\"\"}},\"name\":\"7,000-12,000SAR\",\"offsetgroup\":\"7,000-12,000SAR\",\"orientation\":\"v\",\"showlegend\":true,\"x\":[\"50-100 SAR\",\"101-200 SAR\",\"<50 SAR\",\"101-200 SAR\",\"<50 SAR\",\"<50 SAR\",\"50-100 SAR\",\"101-200 SAR\",\"200+ SAR\",\"<50 SAR\",\"200+ SAR\",\"101-200 SAR\",\"<50 SAR\",\"200+ SAR\",\"200+ SAR\",\"50-100 SAR\",\"<50 SAR\",\"50-100 SAR\",\"200+ SAR\",\"200+ SAR\",\"101-200 SAR\",\"101-200 SAR\",\"200+ SAR\",\"<50 SAR\",\"<50 SAR\",\"200+ SAR\",\"101-200 SAR\",\"101-200 SAR\",\"<50 SAR\",\"200+ SAR\"],\"xaxis\":\"x\",\"yaxis\":\"y\",\"type\":\"histogram\"},{\"alignmentgroup\":\"True\",\"bingroup\":\"x\",\"hovertemplate\":\"MonthlyIncomeLevel=13,000-20,000SAR<br>MoneySpend=%{x}<br>count=%{y}<extra></extra>\",\"legendgroup\":\"13,000-20,000SAR\",\"marker\":{\"color\":\"#00cc96\",\"pattern\":{\"shape\":\"\"}},\"name\":\"13,000-20,000SAR\",\"offsetgroup\":\"13,000-20,000SAR\",\"orientation\":\"v\",\"showlegend\":true,\"x\":[\"<50 SAR\",\"101-200 SAR\",\"200+ SAR\",\"<50 SAR\",\"101-200 SAR\",\"200+ SAR\",\"<50 SAR\",\"200+ SAR\",\"200+ SAR\",\"101-200 SAR\",\"50-100 SAR\",\"<50 SAR\",\"101-200 SAR\",\"<50 SAR\",\"200+ SAR\",\"101-200 SAR\",\"<50 SAR\",\"200+ SAR\",\"101-200 SAR\",\"200+ SAR\",\"101-200 SAR\",\"200+ SAR\",\"200+ SAR\"],\"xaxis\":\"x\",\"yaxis\":\"y\",\"type\":\"histogram\"}],                        {\"template\":{\"data\":{\"bar\":[{\"error_x\":{\"color\":\"#2a3f5f\"},\"error_y\":{\"color\":\"#2a3f5f\"},\"marker\":{\"line\":{\"color\":\"#E5ECF6\",\"width\":0.5},\"pattern\":{\"fillmode\":\"overlay\",\"size\":10,\"solidity\":0.2}},\"type\":\"bar\"}],\"barpolar\":[{\"marker\":{\"line\":{\"color\":\"#E5ECF6\",\"width\":0.5},\"pattern\":{\"fillmode\":\"overlay\",\"size\":10,\"solidity\":0.2}},\"type\":\"barpolar\"}],\"carpet\":[{\"aaxis\":{\"endlinecolor\":\"#2a3f5f\",\"gridcolor\":\"white\",\"linecolor\":\"white\",\"minorgridcolor\":\"white\",\"startlinecolor\":\"#2a3f5f\"},\"baxis\":{\"endlinecolor\":\"#2a3f5f\",\"gridcolor\":\"white\",\"linecolor\":\"white\",\"minorgridcolor\":\"white\",\"startlinecolor\":\"#2a3f5f\"},\"type\":\"carpet\"}],\"choropleth\":[{\"colorbar\":{\"outlinewidth\":0,\"ticks\":\"\"},\"type\":\"choropleth\"}],\"contour\":[{\"colorbar\":{\"outlinewidth\":0,\"ticks\":\"\"},\"colorscale\":[[0.0,\"#0d0887\"],[0.1111111111111111,\"#46039f\"],[0.2222222222222222,\"#7201a8\"],[0.3333333333333333,\"#9c179e\"],[0.4444444444444444,\"#bd3786\"],[0.5555555555555556,\"#d8576b\"],[0.6666666666666666,\"#ed7953\"],[0.7777777777777778,\"#fb9f3a\"],[0.8888888888888888,\"#fdca26\"],[1.0,\"#f0f921\"]],\"type\":\"contour\"}],\"contourcarpet\":[{\"colorbar\":{\"outlinewidth\":0,\"ticks\":\"\"},\"type\":\"contourcarpet\"}],\"heatmap\":[{\"colorbar\":{\"outlinewidth\":0,\"ticks\":\"\"},\"colorscale\":[[0.0,\"#0d0887\"],[0.1111111111111111,\"#46039f\"],[0.2222222222222222,\"#7201a8\"],[0.3333333333333333,\"#9c179e\"],[0.4444444444444444,\"#bd3786\"],[0.5555555555555556,\"#d8576b\"],[0.6666666666666666,\"#ed7953\"],[0.7777777777777778,\"#fb9f3a\"],[0.8888888888888888,\"#fdca26\"],[1.0,\"#f0f921\"]],\"type\":\"heatmap\"}],\"heatmapgl\":[{\"colorbar\":{\"outlinewidth\":0,\"ticks\":\"\"},\"colorscale\":[[0.0,\"#0d0887\"],[0.1111111111111111,\"#46039f\"],[0.2222222222222222,\"#7201a8\"],[0.3333333333333333,\"#9c179e\"],[0.4444444444444444,\"#bd3786\"],[0.5555555555555556,\"#d8576b\"],[0.6666666666666666,\"#ed7953\"],[0.7777777777777778,\"#fb9f3a\"],[0.8888888888888888,\"#fdca26\"],[1.0,\"#f0f921\"]],\"type\":\"heatmapgl\"}],\"histogram\":[{\"marker\":{\"pattern\":{\"fillmode\":\"overlay\",\"size\":10,\"solidity\":0.2}},\"type\":\"histogram\"}],\"histogram2d\":[{\"colorbar\":{\"outlinewidth\":0,\"ticks\":\"\"},\"colorscale\":[[0.0,\"#0d0887\"],[0.1111111111111111,\"#46039f\"],[0.2222222222222222,\"#7201a8\"],[0.3333333333333333,\"#9c179e\"],[0.4444444444444444,\"#bd3786\"],[0.5555555555555556,\"#d8576b\"],[0.6666666666666666,\"#ed7953\"],[0.7777777777777778,\"#fb9f3a\"],[0.8888888888888888,\"#fdca26\"],[1.0,\"#f0f921\"]],\"type\":\"histogram2d\"}],\"histogram2dcontour\":[{\"colorbar\":{\"outlinewidth\":0,\"ticks\":\"\"},\"colorscale\":[[0.0,\"#0d0887\"],[0.1111111111111111,\"#46039f\"],[0.2222222222222222,\"#7201a8\"],[0.3333333333333333,\"#9c179e\"],[0.4444444444444444,\"#bd3786\"],[0.5555555555555556,\"#d8576b\"],[0.6666666666666666,\"#ed7953\"],[0.7777777777777778,\"#fb9f3a\"],[0.8888888888888888,\"#fdca26\"],[1.0,\"#f0f921\"]],\"type\":\"histogram2dcontour\"}],\"mesh3d\":[{\"colorbar\":{\"outlinewidth\":0,\"ticks\":\"\"},\"type\":\"mesh3d\"}],\"parcoords\":[{\"line\":{\"colorbar\":{\"outlinewidth\":0,\"ticks\":\"\"}},\"type\":\"parcoords\"}],\"pie\":[{\"automargin\":true,\"type\":\"pie\"}],\"scatter\":[{\"marker\":{\"colorbar\":{\"outlinewidth\":0,\"ticks\":\"\"}},\"type\":\"scatter\"}],\"scatter3d\":[{\"line\":{\"colorbar\":{\"outlinewidth\":0,\"ticks\":\"\"}},\"marker\":{\"colorbar\":{\"outlinewidth\":0,\"ticks\":\"\"}},\"type\":\"scatter3d\"}],\"scattercarpet\":[{\"marker\":{\"colorbar\":{\"outlinewidth\":0,\"ticks\":\"\"}},\"type\":\"scattercarpet\"}],\"scattergeo\":[{\"marker\":{\"colorbar\":{\"outlinewidth\":0,\"ticks\":\"\"}},\"type\":\"scattergeo\"}],\"scattergl\":[{\"marker\":{\"colorbar\":{\"outlinewidth\":0,\"ticks\":\"\"}},\"type\":\"scattergl\"}],\"scattermapbox\":[{\"marker\":{\"colorbar\":{\"outlinewidth\":0,\"ticks\":\"\"}},\"type\":\"scattermapbox\"}],\"scatterpolar\":[{\"marker\":{\"colorbar\":{\"outlinewidth\":0,\"ticks\":\"\"}},\"type\":\"scatterpolar\"}],\"scatterpolargl\":[{\"marker\":{\"colorbar\":{\"outlinewidth\":0,\"ticks\":\"\"}},\"type\":\"scatterpolargl\"}],\"scatterternary\":[{\"marker\":{\"colorbar\":{\"outlinewidth\":0,\"ticks\":\"\"}},\"type\":\"scatterternary\"}],\"surface\":[{\"colorbar\":{\"outlinewidth\":0,\"ticks\":\"\"},\"colorscale\":[[0.0,\"#0d0887\"],[0.1111111111111111,\"#46039f\"],[0.2222222222222222,\"#7201a8\"],[0.3333333333333333,\"#9c179e\"],[0.4444444444444444,\"#bd3786\"],[0.5555555555555556,\"#d8576b\"],[0.6666666666666666,\"#ed7953\"],[0.7777777777777778,\"#fb9f3a\"],[0.8888888888888888,\"#fdca26\"],[1.0,\"#f0f921\"]],\"type\":\"surface\"}],\"table\":[{\"cells\":{\"fill\":{\"color\":\"#EBF0F8\"},\"line\":{\"color\":\"white\"}},\"header\":{\"fill\":{\"color\":\"#C8D4E3\"},\"line\":{\"color\":\"white\"}},\"type\":\"table\"}]},\"layout\":{\"annotationdefaults\":{\"arrowcolor\":\"#2a3f5f\",\"arrowhead\":0,\"arrowwidth\":1},\"autotypenumbers\":\"strict\",\"coloraxis\":{\"colorbar\":{\"outlinewidth\":0,\"ticks\":\"\"}},\"colorscale\":{\"diverging\":[[0,\"#8e0152\"],[0.1,\"#c51b7d\"],[0.2,\"#de77ae\"],[0.3,\"#f1b6da\"],[0.4,\"#fde0ef\"],[0.5,\"#f7f7f7\"],[0.6,\"#e6f5d0\"],[0.7,\"#b8e186\"],[0.8,\"#7fbc41\"],[0.9,\"#4d9221\"],[1,\"#276419\"]],\"sequential\":[[0.0,\"#0d0887\"],[0.1111111111111111,\"#46039f\"],[0.2222222222222222,\"#7201a8\"],[0.3333333333333333,\"#9c179e\"],[0.4444444444444444,\"#bd3786\"],[0.5555555555555556,\"#d8576b\"],[0.6666666666666666,\"#ed7953\"],[0.7777777777777778,\"#fb9f3a\"],[0.8888888888888888,\"#fdca26\"],[1.0,\"#f0f921\"]],\"sequentialminus\":[[0.0,\"#0d0887\"],[0.1111111111111111,\"#46039f\"],[0.2222222222222222,\"#7201a8\"],[0.3333333333333333,\"#9c179e\"],[0.4444444444444444,\"#bd3786\"],[0.5555555555555556,\"#d8576b\"],[0.6666666666666666,\"#ed7953\"],[0.7777777777777778,\"#fb9f3a\"],[0.8888888888888888,\"#fdca26\"],[1.0,\"#f0f921\"]]},\"colorway\":[\"#636efa\",\"#EF553B\",\"#00cc96\",\"#ab63fa\",\"#FFA15A\",\"#19d3f3\",\"#FF6692\",\"#B6E880\",\"#FF97FF\",\"#FECB52\"],\"font\":{\"color\":\"#2a3f5f\"},\"geo\":{\"bgcolor\":\"white\",\"lakecolor\":\"white\",\"landcolor\":\"#E5ECF6\",\"showlakes\":true,\"showland\":true,\"subunitcolor\":\"white\"},\"hoverlabel\":{\"align\":\"left\"},\"hovermode\":\"closest\",\"mapbox\":{\"style\":\"light\"},\"paper_bgcolor\":\"white\",\"plot_bgcolor\":\"#E5ECF6\",\"polar\":{\"angularaxis\":{\"gridcolor\":\"white\",\"linecolor\":\"white\",\"ticks\":\"\"},\"bgcolor\":\"#E5ECF6\",\"radialaxis\":{\"gridcolor\":\"white\",\"linecolor\":\"white\",\"ticks\":\"\"}},\"scene\":{\"xaxis\":{\"backgroundcolor\":\"#E5ECF6\",\"gridcolor\":\"white\",\"gridwidth\":2,\"linecolor\":\"white\",\"showbackground\":true,\"ticks\":\"\",\"zerolinecolor\":\"white\"},\"yaxis\":{\"backgroundcolor\":\"#E5ECF6\",\"gridcolor\":\"white\",\"gridwidth\":2,\"linecolor\":\"white\",\"showbackground\":true,\"ticks\":\"\",\"zerolinecolor\":\"white\"},\"zaxis\":{\"backgroundcolor\":\"#E5ECF6\",\"gridcolor\":\"white\",\"gridwidth\":2,\"linecolor\":\"white\",\"showbackground\":true,\"ticks\":\"\",\"zerolinecolor\":\"white\"}},\"shapedefaults\":{\"line\":{\"color\":\"#2a3f5f\"}},\"ternary\":{\"aaxis\":{\"gridcolor\":\"white\",\"linecolor\":\"white\",\"ticks\":\"\"},\"baxis\":{\"gridcolor\":\"white\",\"linecolor\":\"white\",\"ticks\":\"\"},\"bgcolor\":\"#E5ECF6\",\"caxis\":{\"gridcolor\":\"white\",\"linecolor\":\"white\",\"ticks\":\"\"}},\"title\":{\"x\":0.05},\"xaxis\":{\"automargin\":true,\"gridcolor\":\"white\",\"linecolor\":\"white\",\"ticks\":\"\",\"title\":{\"standoff\":15},\"zerolinecolor\":\"white\",\"zerolinewidth\":2},\"yaxis\":{\"automargin\":true,\"gridcolor\":\"white\",\"linecolor\":\"white\",\"ticks\":\"\",\"title\":{\"standoff\":15},\"zerolinecolor\":\"white\",\"zerolinewidth\":2}}},\"xaxis\":{\"anchor\":\"y\",\"domain\":[0.0,1.0],\"title\":{\"text\":\"MoneySpend\"}},\"yaxis\":{\"anchor\":\"x\",\"domain\":[0.0,1.0],\"title\":{\"text\":\"count\"}},\"legend\":{\"title\":{\"text\":\"MonthlyIncomeLevel\"},\"tracegroupgap\":0},\"margin\":{\"t\":60},\"barmode\":\"group\"},                        {\"responsive\": true}                    ).then(function(){\n",
       "                            \n",
       "var gd = document.getElementById('daa118a1-471b-4c12-97a2-83a7538ae4b7');\n",
       "var x = new MutationObserver(function (mutations, observer) {{\n",
       "        var display = window.getComputedStyle(gd).display;\n",
       "        if (!display || display === 'none') {{\n",
       "            console.log([gd, 'removed!']);\n",
       "            Plotly.purge(gd);\n",
       "            observer.disconnect();\n",
       "        }}\n",
       "}});\n",
       "\n",
       "// Listen for the removal of the full notebook cells\n",
       "var notebookContainer = gd.closest('#notebook-container');\n",
       "if (notebookContainer) {{\n",
       "    x.observe(notebookContainer, {childList: true});\n",
       "}}\n",
       "\n",
       "// Listen for the clearing of the current output cell\n",
       "var outputEl = gd.closest('.output');\n",
       "if (outputEl) {{\n",
       "    x.observe(outputEl, {childList: true});\n",
       "}}\n",
       "\n",
       "                        })                };                });            </script>        </div>"
      ]
     },
     "metadata": {},
     "output_type": "display_data"
    }
   ],
   "source": [
    "fig = px.histogram(df_viz_north_paying, x=\"MoneySpend\",\n",
    "             color=\"MonthlyIncomeLevel\", barmode = 'group')\n",
    "fig.show() "
   ]
  },
  {
   "cell_type": "code",
   "execution_count": 53,
   "metadata": {},
   "outputs": [
    {
     "data": {
      "application/vnd.plotly.v1+json": {
       "config": {
        "plotlyServerURL": "https://plot.ly"
       },
       "data": [
        {
         "alignmentgroup": "True",
         "bingroup": "x",
         "hovertemplate": "WeeklyVisitFrequency=3+ times a week<br>Paywilingness=%{x}<br>count=%{y}<extra></extra>",
         "legendgroup": "3+ times a week",
         "marker": {
          "color": "#636efa",
          "pattern": {
           "shape": ""
          }
         },
         "name": "3+ times a week",
         "offsetgroup": "3+ times a week",
         "orientation": "v",
         "showlegend": true,
         "type": "histogram",
         "x": [
          "I will attend if the ticket is priced reasonably",
          "I will attend if the ticket is priced reasonably",
          "I will attend if the event is exciting enough",
          "I will attend if the event is exciting enough",
          "I will attend if the ticket is priced reasonably",
          "I will attend if the event is exciting enough",
          "I will attend if the event is exciting enough",
          "I will attend if the event is exciting enough",
          "I will attend if the event is exciting enough",
          "I will attend if the ticket is priced reasonably",
          "I will attend if the event is exciting enough",
          "I will attend if the event is exciting enough",
          "I will attend if the event is exciting enough",
          "I will attend if the event is exciting enough",
          "I will attend if the ticket is priced reasonably",
          "I will attend if the event is exciting enough",
          "I will attend if the ticket is priced reasonably",
          "I will attend if the ticket is priced reasonably",
          "I will attend if the event is exciting enough",
          "I will attend if the event is exciting enough",
          "I will attend if the ticket is priced reasonably",
          "I will attend if the event is exciting enough",
          "I will attend if the event is exciting enough",
          "I will attend if the event is exciting enough",
          "I will attend if the ticket is priced reasonably",
          "I will attend if the ticket is priced reasonably",
          "I will attend if the event is exciting enough"
         ],
         "xaxis": "x",
         "yaxis": "y"
        },
        {
         "alignmentgroup": "True",
         "bingroup": "x",
         "hovertemplate": "WeeklyVisitFrequency=I only go out on weekends<br>Paywilingness=%{x}<br>count=%{y}<extra></extra>",
         "legendgroup": "I only go out on weekends",
         "marker": {
          "color": "#EF553B",
          "pattern": {
           "shape": ""
          }
         },
         "name": "I only go out on weekends",
         "offsetgroup": "I only go out on weekends",
         "orientation": "v",
         "showlegend": true,
         "type": "histogram",
         "x": [
          "I will attend if the ticket is priced reasonably",
          "I will attend if the event is exciting enough",
          "I will attend if the event is exciting enough",
          "I will attend if the ticket is priced reasonably",
          "I will attend if the event is exciting enough",
          "I will attend if the event is exciting enough",
          "I will attend if the event is exciting enough",
          "I will attend if the event is exciting enough",
          "I will attend if the event is exciting enough",
          "I will attend if the event is exciting enough",
          "I will attend if the ticket is priced reasonably",
          "I will attend if the event is exciting enough",
          "I will attend if the ticket is priced reasonably",
          "I will attend if the ticket is priced reasonably",
          "I will attend if the ticket is priced reasonably",
          "I will attend if the event is exciting enough",
          "I will attend if the event is exciting enough",
          "I will attend if the ticket is priced reasonably",
          "I will attend if the ticket is priced reasonably",
          "I will attend if the event is exciting enough",
          "I will attend if the event is exciting enough",
          "I will attend if the ticket is priced reasonably",
          "I will attend if the event is exciting enough",
          "I will attend if the ticket is priced reasonably",
          "I will attend if the ticket is priced reasonably",
          "I will attend if the event is exciting enough",
          "I will attend if the event is exciting enough",
          "I will attend if the ticket is priced reasonably",
          "I will attend if the ticket is priced reasonably",
          "I will attend if the ticket is priced reasonably",
          "I will attend if the ticket is priced reasonably",
          "I will attend if the ticket is priced reasonably",
          "I will attend if the event is exciting enough"
         ],
         "xaxis": "x",
         "yaxis": "y"
        },
        {
         "alignmentgroup": "True",
         "bingroup": "x",
         "hovertemplate": "WeeklyVisitFrequency=2-3 times a week<br>Paywilingness=%{x}<br>count=%{y}<extra></extra>",
         "legendgroup": "2-3 times a week",
         "marker": {
          "color": "#00cc96",
          "pattern": {
           "shape": ""
          }
         },
         "name": "2-3 times a week",
         "offsetgroup": "2-3 times a week",
         "orientation": "v",
         "showlegend": true,
         "type": "histogram",
         "x": [
          "I will attend if the ticket is priced reasonably",
          "I will attend if the ticket is priced reasonably",
          "I will attend if the event is exciting enough",
          "I will attend if the event is exciting enough",
          "I will attend if the ticket is priced reasonably",
          "I will attend if the event is exciting enough",
          "I will attend if the event is exciting enough",
          "I will attend if the ticket is priced reasonably",
          "I will attend if the event is exciting enough",
          "I will attend if the ticket is priced reasonably",
          "I will attend if the event is exciting enough",
          "I will attend if the event is exciting enough",
          "I will attend if the ticket is priced reasonably",
          "I will attend if the ticket is priced reasonably",
          "I will attend if the ticket is priced reasonably",
          "I will attend if the event is exciting enough",
          "I will attend if the event is exciting enough",
          "I will attend if the event is exciting enough",
          "I will attend if the event is exciting enough",
          "I will attend if the ticket is priced reasonably",
          "I will attend if the event is exciting enough",
          "I will attend if the event is exciting enough",
          "I will attend if the ticket is priced reasonably",
          "I will attend if the event is exciting enough",
          "I will attend if the ticket is priced reasonably",
          "I will attend if the event is exciting enough",
          "I will attend if the ticket is priced reasonably",
          "I will attend if the ticket is priced reasonably",
          "I will attend if the ticket is priced reasonably",
          "I will attend if the event is exciting enough",
          "I will attend if the event is exciting enough",
          "I will attend if the ticket is priced reasonably",
          "I will attend if the event is exciting enough",
          "I will attend if the ticket is priced reasonably",
          "I will attend if the ticket is priced reasonably",
          "I will attend if the ticket is priced reasonably",
          "I will attend if the ticket is priced reasonably"
         ],
         "xaxis": "x",
         "yaxis": "y"
        }
       ],
       "layout": {
        "barmode": "group",
        "legend": {
         "title": {
          "text": "WeeklyVisitFrequency"
         },
         "tracegroupgap": 0
        },
        "margin": {
         "t": 60
        },
        "template": {
         "data": {
          "bar": [
           {
            "error_x": {
             "color": "#2a3f5f"
            },
            "error_y": {
             "color": "#2a3f5f"
            },
            "marker": {
             "line": {
              "color": "#E5ECF6",
              "width": 0.5
             },
             "pattern": {
              "fillmode": "overlay",
              "size": 10,
              "solidity": 0.2
             }
            },
            "type": "bar"
           }
          ],
          "barpolar": [
           {
            "marker": {
             "line": {
              "color": "#E5ECF6",
              "width": 0.5
             },
             "pattern": {
              "fillmode": "overlay",
              "size": 10,
              "solidity": 0.2
             }
            },
            "type": "barpolar"
           }
          ],
          "carpet": [
           {
            "aaxis": {
             "endlinecolor": "#2a3f5f",
             "gridcolor": "white",
             "linecolor": "white",
             "minorgridcolor": "white",
             "startlinecolor": "#2a3f5f"
            },
            "baxis": {
             "endlinecolor": "#2a3f5f",
             "gridcolor": "white",
             "linecolor": "white",
             "minorgridcolor": "white",
             "startlinecolor": "#2a3f5f"
            },
            "type": "carpet"
           }
          ],
          "choropleth": [
           {
            "colorbar": {
             "outlinewidth": 0,
             "ticks": ""
            },
            "type": "choropleth"
           }
          ],
          "contour": [
           {
            "colorbar": {
             "outlinewidth": 0,
             "ticks": ""
            },
            "colorscale": [
             [
              0,
              "#0d0887"
             ],
             [
              0.1111111111111111,
              "#46039f"
             ],
             [
              0.2222222222222222,
              "#7201a8"
             ],
             [
              0.3333333333333333,
              "#9c179e"
             ],
             [
              0.4444444444444444,
              "#bd3786"
             ],
             [
              0.5555555555555556,
              "#d8576b"
             ],
             [
              0.6666666666666666,
              "#ed7953"
             ],
             [
              0.7777777777777778,
              "#fb9f3a"
             ],
             [
              0.8888888888888888,
              "#fdca26"
             ],
             [
              1,
              "#f0f921"
             ]
            ],
            "type": "contour"
           }
          ],
          "contourcarpet": [
           {
            "colorbar": {
             "outlinewidth": 0,
             "ticks": ""
            },
            "type": "contourcarpet"
           }
          ],
          "heatmap": [
           {
            "colorbar": {
             "outlinewidth": 0,
             "ticks": ""
            },
            "colorscale": [
             [
              0,
              "#0d0887"
             ],
             [
              0.1111111111111111,
              "#46039f"
             ],
             [
              0.2222222222222222,
              "#7201a8"
             ],
             [
              0.3333333333333333,
              "#9c179e"
             ],
             [
              0.4444444444444444,
              "#bd3786"
             ],
             [
              0.5555555555555556,
              "#d8576b"
             ],
             [
              0.6666666666666666,
              "#ed7953"
             ],
             [
              0.7777777777777778,
              "#fb9f3a"
             ],
             [
              0.8888888888888888,
              "#fdca26"
             ],
             [
              1,
              "#f0f921"
             ]
            ],
            "type": "heatmap"
           }
          ],
          "heatmapgl": [
           {
            "colorbar": {
             "outlinewidth": 0,
             "ticks": ""
            },
            "colorscale": [
             [
              0,
              "#0d0887"
             ],
             [
              0.1111111111111111,
              "#46039f"
             ],
             [
              0.2222222222222222,
              "#7201a8"
             ],
             [
              0.3333333333333333,
              "#9c179e"
             ],
             [
              0.4444444444444444,
              "#bd3786"
             ],
             [
              0.5555555555555556,
              "#d8576b"
             ],
             [
              0.6666666666666666,
              "#ed7953"
             ],
             [
              0.7777777777777778,
              "#fb9f3a"
             ],
             [
              0.8888888888888888,
              "#fdca26"
             ],
             [
              1,
              "#f0f921"
             ]
            ],
            "type": "heatmapgl"
           }
          ],
          "histogram": [
           {
            "marker": {
             "pattern": {
              "fillmode": "overlay",
              "size": 10,
              "solidity": 0.2
             }
            },
            "type": "histogram"
           }
          ],
          "histogram2d": [
           {
            "colorbar": {
             "outlinewidth": 0,
             "ticks": ""
            },
            "colorscale": [
             [
              0,
              "#0d0887"
             ],
             [
              0.1111111111111111,
              "#46039f"
             ],
             [
              0.2222222222222222,
              "#7201a8"
             ],
             [
              0.3333333333333333,
              "#9c179e"
             ],
             [
              0.4444444444444444,
              "#bd3786"
             ],
             [
              0.5555555555555556,
              "#d8576b"
             ],
             [
              0.6666666666666666,
              "#ed7953"
             ],
             [
              0.7777777777777778,
              "#fb9f3a"
             ],
             [
              0.8888888888888888,
              "#fdca26"
             ],
             [
              1,
              "#f0f921"
             ]
            ],
            "type": "histogram2d"
           }
          ],
          "histogram2dcontour": [
           {
            "colorbar": {
             "outlinewidth": 0,
             "ticks": ""
            },
            "colorscale": [
             [
              0,
              "#0d0887"
             ],
             [
              0.1111111111111111,
              "#46039f"
             ],
             [
              0.2222222222222222,
              "#7201a8"
             ],
             [
              0.3333333333333333,
              "#9c179e"
             ],
             [
              0.4444444444444444,
              "#bd3786"
             ],
             [
              0.5555555555555556,
              "#d8576b"
             ],
             [
              0.6666666666666666,
              "#ed7953"
             ],
             [
              0.7777777777777778,
              "#fb9f3a"
             ],
             [
              0.8888888888888888,
              "#fdca26"
             ],
             [
              1,
              "#f0f921"
             ]
            ],
            "type": "histogram2dcontour"
           }
          ],
          "mesh3d": [
           {
            "colorbar": {
             "outlinewidth": 0,
             "ticks": ""
            },
            "type": "mesh3d"
           }
          ],
          "parcoords": [
           {
            "line": {
             "colorbar": {
              "outlinewidth": 0,
              "ticks": ""
             }
            },
            "type": "parcoords"
           }
          ],
          "pie": [
           {
            "automargin": true,
            "type": "pie"
           }
          ],
          "scatter": [
           {
            "marker": {
             "colorbar": {
              "outlinewidth": 0,
              "ticks": ""
             }
            },
            "type": "scatter"
           }
          ],
          "scatter3d": [
           {
            "line": {
             "colorbar": {
              "outlinewidth": 0,
              "ticks": ""
             }
            },
            "marker": {
             "colorbar": {
              "outlinewidth": 0,
              "ticks": ""
             }
            },
            "type": "scatter3d"
           }
          ],
          "scattercarpet": [
           {
            "marker": {
             "colorbar": {
              "outlinewidth": 0,
              "ticks": ""
             }
            },
            "type": "scattercarpet"
           }
          ],
          "scattergeo": [
           {
            "marker": {
             "colorbar": {
              "outlinewidth": 0,
              "ticks": ""
             }
            },
            "type": "scattergeo"
           }
          ],
          "scattergl": [
           {
            "marker": {
             "colorbar": {
              "outlinewidth": 0,
              "ticks": ""
             }
            },
            "type": "scattergl"
           }
          ],
          "scattermapbox": [
           {
            "marker": {
             "colorbar": {
              "outlinewidth": 0,
              "ticks": ""
             }
            },
            "type": "scattermapbox"
           }
          ],
          "scatterpolar": [
           {
            "marker": {
             "colorbar": {
              "outlinewidth": 0,
              "ticks": ""
             }
            },
            "type": "scatterpolar"
           }
          ],
          "scatterpolargl": [
           {
            "marker": {
             "colorbar": {
              "outlinewidth": 0,
              "ticks": ""
             }
            },
            "type": "scatterpolargl"
           }
          ],
          "scatterternary": [
           {
            "marker": {
             "colorbar": {
              "outlinewidth": 0,
              "ticks": ""
             }
            },
            "type": "scatterternary"
           }
          ],
          "surface": [
           {
            "colorbar": {
             "outlinewidth": 0,
             "ticks": ""
            },
            "colorscale": [
             [
              0,
              "#0d0887"
             ],
             [
              0.1111111111111111,
              "#46039f"
             ],
             [
              0.2222222222222222,
              "#7201a8"
             ],
             [
              0.3333333333333333,
              "#9c179e"
             ],
             [
              0.4444444444444444,
              "#bd3786"
             ],
             [
              0.5555555555555556,
              "#d8576b"
             ],
             [
              0.6666666666666666,
              "#ed7953"
             ],
             [
              0.7777777777777778,
              "#fb9f3a"
             ],
             [
              0.8888888888888888,
              "#fdca26"
             ],
             [
              1,
              "#f0f921"
             ]
            ],
            "type": "surface"
           }
          ],
          "table": [
           {
            "cells": {
             "fill": {
              "color": "#EBF0F8"
             },
             "line": {
              "color": "white"
             }
            },
            "header": {
             "fill": {
              "color": "#C8D4E3"
             },
             "line": {
              "color": "white"
             }
            },
            "type": "table"
           }
          ]
         },
         "layout": {
          "annotationdefaults": {
           "arrowcolor": "#2a3f5f",
           "arrowhead": 0,
           "arrowwidth": 1
          },
          "autotypenumbers": "strict",
          "coloraxis": {
           "colorbar": {
            "outlinewidth": 0,
            "ticks": ""
           }
          },
          "colorscale": {
           "diverging": [
            [
             0,
             "#8e0152"
            ],
            [
             0.1,
             "#c51b7d"
            ],
            [
             0.2,
             "#de77ae"
            ],
            [
             0.3,
             "#f1b6da"
            ],
            [
             0.4,
             "#fde0ef"
            ],
            [
             0.5,
             "#f7f7f7"
            ],
            [
             0.6,
             "#e6f5d0"
            ],
            [
             0.7,
             "#b8e186"
            ],
            [
             0.8,
             "#7fbc41"
            ],
            [
             0.9,
             "#4d9221"
            ],
            [
             1,
             "#276419"
            ]
           ],
           "sequential": [
            [
             0,
             "#0d0887"
            ],
            [
             0.1111111111111111,
             "#46039f"
            ],
            [
             0.2222222222222222,
             "#7201a8"
            ],
            [
             0.3333333333333333,
             "#9c179e"
            ],
            [
             0.4444444444444444,
             "#bd3786"
            ],
            [
             0.5555555555555556,
             "#d8576b"
            ],
            [
             0.6666666666666666,
             "#ed7953"
            ],
            [
             0.7777777777777778,
             "#fb9f3a"
            ],
            [
             0.8888888888888888,
             "#fdca26"
            ],
            [
             1,
             "#f0f921"
            ]
           ],
           "sequentialminus": [
            [
             0,
             "#0d0887"
            ],
            [
             0.1111111111111111,
             "#46039f"
            ],
            [
             0.2222222222222222,
             "#7201a8"
            ],
            [
             0.3333333333333333,
             "#9c179e"
            ],
            [
             0.4444444444444444,
             "#bd3786"
            ],
            [
             0.5555555555555556,
             "#d8576b"
            ],
            [
             0.6666666666666666,
             "#ed7953"
            ],
            [
             0.7777777777777778,
             "#fb9f3a"
            ],
            [
             0.8888888888888888,
             "#fdca26"
            ],
            [
             1,
             "#f0f921"
            ]
           ]
          },
          "colorway": [
           "#636efa",
           "#EF553B",
           "#00cc96",
           "#ab63fa",
           "#FFA15A",
           "#19d3f3",
           "#FF6692",
           "#B6E880",
           "#FF97FF",
           "#FECB52"
          ],
          "font": {
           "color": "#2a3f5f"
          },
          "geo": {
           "bgcolor": "white",
           "lakecolor": "white",
           "landcolor": "#E5ECF6",
           "showlakes": true,
           "showland": true,
           "subunitcolor": "white"
          },
          "hoverlabel": {
           "align": "left"
          },
          "hovermode": "closest",
          "mapbox": {
           "style": "light"
          },
          "paper_bgcolor": "white",
          "plot_bgcolor": "#E5ECF6",
          "polar": {
           "angularaxis": {
            "gridcolor": "white",
            "linecolor": "white",
            "ticks": ""
           },
           "bgcolor": "#E5ECF6",
           "radialaxis": {
            "gridcolor": "white",
            "linecolor": "white",
            "ticks": ""
           }
          },
          "scene": {
           "xaxis": {
            "backgroundcolor": "#E5ECF6",
            "gridcolor": "white",
            "gridwidth": 2,
            "linecolor": "white",
            "showbackground": true,
            "ticks": "",
            "zerolinecolor": "white"
           },
           "yaxis": {
            "backgroundcolor": "#E5ECF6",
            "gridcolor": "white",
            "gridwidth": 2,
            "linecolor": "white",
            "showbackground": true,
            "ticks": "",
            "zerolinecolor": "white"
           },
           "zaxis": {
            "backgroundcolor": "#E5ECF6",
            "gridcolor": "white",
            "gridwidth": 2,
            "linecolor": "white",
            "showbackground": true,
            "ticks": "",
            "zerolinecolor": "white"
           }
          },
          "shapedefaults": {
           "line": {
            "color": "#2a3f5f"
           }
          },
          "ternary": {
           "aaxis": {
            "gridcolor": "white",
            "linecolor": "white",
            "ticks": ""
           },
           "baxis": {
            "gridcolor": "white",
            "linecolor": "white",
            "ticks": ""
           },
           "bgcolor": "#E5ECF6",
           "caxis": {
            "gridcolor": "white",
            "linecolor": "white",
            "ticks": ""
           }
          },
          "title": {
           "x": 0.05
          },
          "xaxis": {
           "automargin": true,
           "gridcolor": "white",
           "linecolor": "white",
           "ticks": "",
           "title": {
            "standoff": 15
           },
           "zerolinecolor": "white",
           "zerolinewidth": 2
          },
          "yaxis": {
           "automargin": true,
           "gridcolor": "white",
           "linecolor": "white",
           "ticks": "",
           "title": {
            "standoff": 15
           },
           "zerolinecolor": "white",
           "zerolinewidth": 2
          }
         }
        },
        "xaxis": {
         "anchor": "y",
         "domain": [
          0,
          1
         ],
         "title": {
          "text": "Paywilingness"
         }
        },
        "yaxis": {
         "anchor": "x",
         "domain": [
          0,
          1
         ],
         "title": {
          "text": "count"
         }
        }
       }
      },
      "text/html": [
       "<div>                            <div id=\"73509e98-63db-45d1-98d5-cef332aad58a\" class=\"plotly-graph-div\" style=\"height:525px; width:100%;\"></div>            <script type=\"text/javascript\">                require([\"plotly\"], function(Plotly) {                    window.PLOTLYENV=window.PLOTLYENV || {};                                    if (document.getElementById(\"73509e98-63db-45d1-98d5-cef332aad58a\")) {                    Plotly.newPlot(                        \"73509e98-63db-45d1-98d5-cef332aad58a\",                        [{\"alignmentgroup\":\"True\",\"bingroup\":\"x\",\"hovertemplate\":\"WeeklyVisitFrequency=3+ times a week<br>Paywilingness=%{x}<br>count=%{y}<extra></extra>\",\"legendgroup\":\"3+ times a week\",\"marker\":{\"color\":\"#636efa\",\"pattern\":{\"shape\":\"\"}},\"name\":\"3+ times a week\",\"offsetgroup\":\"3+ times a week\",\"orientation\":\"v\",\"showlegend\":true,\"x\":[\"I will attend if the ticket is priced reasonably\",\"I will attend if the ticket is priced reasonably\",\"I will attend if the event is exciting enough\",\"I will attend if the event is exciting enough\",\"I will attend if the ticket is priced reasonably\",\"I will attend if the event is exciting enough\",\"I will attend if the event is exciting enough\",\"I will attend if the event is exciting enough\",\"I will attend if the event is exciting enough\",\"I will attend if the ticket is priced reasonably\",\"I will attend if the event is exciting enough\",\"I will attend if the event is exciting enough\",\"I will attend if the event is exciting enough\",\"I will attend if the event is exciting enough\",\"I will attend if the ticket is priced reasonably\",\"I will attend if the event is exciting enough\",\"I will attend if the ticket is priced reasonably\",\"I will attend if the ticket is priced reasonably\",\"I will attend if the event is exciting enough\",\"I will attend if the event is exciting enough\",\"I will attend if the ticket is priced reasonably\",\"I will attend if the event is exciting enough\",\"I will attend if the event is exciting enough\",\"I will attend if the event is exciting enough\",\"I will attend if the ticket is priced reasonably\",\"I will attend if the ticket is priced reasonably\",\"I will attend if the event is exciting enough\"],\"xaxis\":\"x\",\"yaxis\":\"y\",\"type\":\"histogram\"},{\"alignmentgroup\":\"True\",\"bingroup\":\"x\",\"hovertemplate\":\"WeeklyVisitFrequency=I only go out on weekends<br>Paywilingness=%{x}<br>count=%{y}<extra></extra>\",\"legendgroup\":\"I only go out on weekends\",\"marker\":{\"color\":\"#EF553B\",\"pattern\":{\"shape\":\"\"}},\"name\":\"I only go out on weekends\",\"offsetgroup\":\"I only go out on weekends\",\"orientation\":\"v\",\"showlegend\":true,\"x\":[\"I will attend if the ticket is priced reasonably\",\"I will attend if the event is exciting enough\",\"I will attend if the event is exciting enough\",\"I will attend if the ticket is priced reasonably\",\"I will attend if the event is exciting enough\",\"I will attend if the event is exciting enough\",\"I will attend if the event is exciting enough\",\"I will attend if the event is exciting enough\",\"I will attend if the event is exciting enough\",\"I will attend if the event is exciting enough\",\"I will attend if the ticket is priced reasonably\",\"I will attend if the event is exciting enough\",\"I will attend if the ticket is priced reasonably\",\"I will attend if the ticket is priced reasonably\",\"I will attend if the ticket is priced reasonably\",\"I will attend if the event is exciting enough\",\"I will attend if the event is exciting enough\",\"I will attend if the ticket is priced reasonably\",\"I will attend if the ticket is priced reasonably\",\"I will attend if the event is exciting enough\",\"I will attend if the event is exciting enough\",\"I will attend if the ticket is priced reasonably\",\"I will attend if the event is exciting enough\",\"I will attend if the ticket is priced reasonably\",\"I will attend if the ticket is priced reasonably\",\"I will attend if the event is exciting enough\",\"I will attend if the event is exciting enough\",\"I will attend if the ticket is priced reasonably\",\"I will attend if the ticket is priced reasonably\",\"I will attend if the ticket is priced reasonably\",\"I will attend if the ticket is priced reasonably\",\"I will attend if the ticket is priced reasonably\",\"I will attend if the event is exciting enough\"],\"xaxis\":\"x\",\"yaxis\":\"y\",\"type\":\"histogram\"},{\"alignmentgroup\":\"True\",\"bingroup\":\"x\",\"hovertemplate\":\"WeeklyVisitFrequency=2-3 times a week<br>Paywilingness=%{x}<br>count=%{y}<extra></extra>\",\"legendgroup\":\"2-3 times a week\",\"marker\":{\"color\":\"#00cc96\",\"pattern\":{\"shape\":\"\"}},\"name\":\"2-3 times a week\",\"offsetgroup\":\"2-3 times a week\",\"orientation\":\"v\",\"showlegend\":true,\"x\":[\"I will attend if the ticket is priced reasonably\",\"I will attend if the ticket is priced reasonably\",\"I will attend if the event is exciting enough\",\"I will attend if the event is exciting enough\",\"I will attend if the ticket is priced reasonably\",\"I will attend if the event is exciting enough\",\"I will attend if the event is exciting enough\",\"I will attend if the ticket is priced reasonably\",\"I will attend if the event is exciting enough\",\"I will attend if the ticket is priced reasonably\",\"I will attend if the event is exciting enough\",\"I will attend if the event is exciting enough\",\"I will attend if the ticket is priced reasonably\",\"I will attend if the ticket is priced reasonably\",\"I will attend if the ticket is priced reasonably\",\"I will attend if the event is exciting enough\",\"I will attend if the event is exciting enough\",\"I will attend if the event is exciting enough\",\"I will attend if the event is exciting enough\",\"I will attend if the ticket is priced reasonably\",\"I will attend if the event is exciting enough\",\"I will attend if the event is exciting enough\",\"I will attend if the ticket is priced reasonably\",\"I will attend if the event is exciting enough\",\"I will attend if the ticket is priced reasonably\",\"I will attend if the event is exciting enough\",\"I will attend if the ticket is priced reasonably\",\"I will attend if the ticket is priced reasonably\",\"I will attend if the ticket is priced reasonably\",\"I will attend if the event is exciting enough\",\"I will attend if the event is exciting enough\",\"I will attend if the ticket is priced reasonably\",\"I will attend if the event is exciting enough\",\"I will attend if the ticket is priced reasonably\",\"I will attend if the ticket is priced reasonably\",\"I will attend if the ticket is priced reasonably\",\"I will attend if the ticket is priced reasonably\"],\"xaxis\":\"x\",\"yaxis\":\"y\",\"type\":\"histogram\"}],                        {\"template\":{\"data\":{\"bar\":[{\"error_x\":{\"color\":\"#2a3f5f\"},\"error_y\":{\"color\":\"#2a3f5f\"},\"marker\":{\"line\":{\"color\":\"#E5ECF6\",\"width\":0.5},\"pattern\":{\"fillmode\":\"overlay\",\"size\":10,\"solidity\":0.2}},\"type\":\"bar\"}],\"barpolar\":[{\"marker\":{\"line\":{\"color\":\"#E5ECF6\",\"width\":0.5},\"pattern\":{\"fillmode\":\"overlay\",\"size\":10,\"solidity\":0.2}},\"type\":\"barpolar\"}],\"carpet\":[{\"aaxis\":{\"endlinecolor\":\"#2a3f5f\",\"gridcolor\":\"white\",\"linecolor\":\"white\",\"minorgridcolor\":\"white\",\"startlinecolor\":\"#2a3f5f\"},\"baxis\":{\"endlinecolor\":\"#2a3f5f\",\"gridcolor\":\"white\",\"linecolor\":\"white\",\"minorgridcolor\":\"white\",\"startlinecolor\":\"#2a3f5f\"},\"type\":\"carpet\"}],\"choropleth\":[{\"colorbar\":{\"outlinewidth\":0,\"ticks\":\"\"},\"type\":\"choropleth\"}],\"contour\":[{\"colorbar\":{\"outlinewidth\":0,\"ticks\":\"\"},\"colorscale\":[[0.0,\"#0d0887\"],[0.1111111111111111,\"#46039f\"],[0.2222222222222222,\"#7201a8\"],[0.3333333333333333,\"#9c179e\"],[0.4444444444444444,\"#bd3786\"],[0.5555555555555556,\"#d8576b\"],[0.6666666666666666,\"#ed7953\"],[0.7777777777777778,\"#fb9f3a\"],[0.8888888888888888,\"#fdca26\"],[1.0,\"#f0f921\"]],\"type\":\"contour\"}],\"contourcarpet\":[{\"colorbar\":{\"outlinewidth\":0,\"ticks\":\"\"},\"type\":\"contourcarpet\"}],\"heatmap\":[{\"colorbar\":{\"outlinewidth\":0,\"ticks\":\"\"},\"colorscale\":[[0.0,\"#0d0887\"],[0.1111111111111111,\"#46039f\"],[0.2222222222222222,\"#7201a8\"],[0.3333333333333333,\"#9c179e\"],[0.4444444444444444,\"#bd3786\"],[0.5555555555555556,\"#d8576b\"],[0.6666666666666666,\"#ed7953\"],[0.7777777777777778,\"#fb9f3a\"],[0.8888888888888888,\"#fdca26\"],[1.0,\"#f0f921\"]],\"type\":\"heatmap\"}],\"heatmapgl\":[{\"colorbar\":{\"outlinewidth\":0,\"ticks\":\"\"},\"colorscale\":[[0.0,\"#0d0887\"],[0.1111111111111111,\"#46039f\"],[0.2222222222222222,\"#7201a8\"],[0.3333333333333333,\"#9c179e\"],[0.4444444444444444,\"#bd3786\"],[0.5555555555555556,\"#d8576b\"],[0.6666666666666666,\"#ed7953\"],[0.7777777777777778,\"#fb9f3a\"],[0.8888888888888888,\"#fdca26\"],[1.0,\"#f0f921\"]],\"type\":\"heatmapgl\"}],\"histogram\":[{\"marker\":{\"pattern\":{\"fillmode\":\"overlay\",\"size\":10,\"solidity\":0.2}},\"type\":\"histogram\"}],\"histogram2d\":[{\"colorbar\":{\"outlinewidth\":0,\"ticks\":\"\"},\"colorscale\":[[0.0,\"#0d0887\"],[0.1111111111111111,\"#46039f\"],[0.2222222222222222,\"#7201a8\"],[0.3333333333333333,\"#9c179e\"],[0.4444444444444444,\"#bd3786\"],[0.5555555555555556,\"#d8576b\"],[0.6666666666666666,\"#ed7953\"],[0.7777777777777778,\"#fb9f3a\"],[0.8888888888888888,\"#fdca26\"],[1.0,\"#f0f921\"]],\"type\":\"histogram2d\"}],\"histogram2dcontour\":[{\"colorbar\":{\"outlinewidth\":0,\"ticks\":\"\"},\"colorscale\":[[0.0,\"#0d0887\"],[0.1111111111111111,\"#46039f\"],[0.2222222222222222,\"#7201a8\"],[0.3333333333333333,\"#9c179e\"],[0.4444444444444444,\"#bd3786\"],[0.5555555555555556,\"#d8576b\"],[0.6666666666666666,\"#ed7953\"],[0.7777777777777778,\"#fb9f3a\"],[0.8888888888888888,\"#fdca26\"],[1.0,\"#f0f921\"]],\"type\":\"histogram2dcontour\"}],\"mesh3d\":[{\"colorbar\":{\"outlinewidth\":0,\"ticks\":\"\"},\"type\":\"mesh3d\"}],\"parcoords\":[{\"line\":{\"colorbar\":{\"outlinewidth\":0,\"ticks\":\"\"}},\"type\":\"parcoords\"}],\"pie\":[{\"automargin\":true,\"type\":\"pie\"}],\"scatter\":[{\"marker\":{\"colorbar\":{\"outlinewidth\":0,\"ticks\":\"\"}},\"type\":\"scatter\"}],\"scatter3d\":[{\"line\":{\"colorbar\":{\"outlinewidth\":0,\"ticks\":\"\"}},\"marker\":{\"colorbar\":{\"outlinewidth\":0,\"ticks\":\"\"}},\"type\":\"scatter3d\"}],\"scattercarpet\":[{\"marker\":{\"colorbar\":{\"outlinewidth\":0,\"ticks\":\"\"}},\"type\":\"scattercarpet\"}],\"scattergeo\":[{\"marker\":{\"colorbar\":{\"outlinewidth\":0,\"ticks\":\"\"}},\"type\":\"scattergeo\"}],\"scattergl\":[{\"marker\":{\"colorbar\":{\"outlinewidth\":0,\"ticks\":\"\"}},\"type\":\"scattergl\"}],\"scattermapbox\":[{\"marker\":{\"colorbar\":{\"outlinewidth\":0,\"ticks\":\"\"}},\"type\":\"scattermapbox\"}],\"scatterpolar\":[{\"marker\":{\"colorbar\":{\"outlinewidth\":0,\"ticks\":\"\"}},\"type\":\"scatterpolar\"}],\"scatterpolargl\":[{\"marker\":{\"colorbar\":{\"outlinewidth\":0,\"ticks\":\"\"}},\"type\":\"scatterpolargl\"}],\"scatterternary\":[{\"marker\":{\"colorbar\":{\"outlinewidth\":0,\"ticks\":\"\"}},\"type\":\"scatterternary\"}],\"surface\":[{\"colorbar\":{\"outlinewidth\":0,\"ticks\":\"\"},\"colorscale\":[[0.0,\"#0d0887\"],[0.1111111111111111,\"#46039f\"],[0.2222222222222222,\"#7201a8\"],[0.3333333333333333,\"#9c179e\"],[0.4444444444444444,\"#bd3786\"],[0.5555555555555556,\"#d8576b\"],[0.6666666666666666,\"#ed7953\"],[0.7777777777777778,\"#fb9f3a\"],[0.8888888888888888,\"#fdca26\"],[1.0,\"#f0f921\"]],\"type\":\"surface\"}],\"table\":[{\"cells\":{\"fill\":{\"color\":\"#EBF0F8\"},\"line\":{\"color\":\"white\"}},\"header\":{\"fill\":{\"color\":\"#C8D4E3\"},\"line\":{\"color\":\"white\"}},\"type\":\"table\"}]},\"layout\":{\"annotationdefaults\":{\"arrowcolor\":\"#2a3f5f\",\"arrowhead\":0,\"arrowwidth\":1},\"autotypenumbers\":\"strict\",\"coloraxis\":{\"colorbar\":{\"outlinewidth\":0,\"ticks\":\"\"}},\"colorscale\":{\"diverging\":[[0,\"#8e0152\"],[0.1,\"#c51b7d\"],[0.2,\"#de77ae\"],[0.3,\"#f1b6da\"],[0.4,\"#fde0ef\"],[0.5,\"#f7f7f7\"],[0.6,\"#e6f5d0\"],[0.7,\"#b8e186\"],[0.8,\"#7fbc41\"],[0.9,\"#4d9221\"],[1,\"#276419\"]],\"sequential\":[[0.0,\"#0d0887\"],[0.1111111111111111,\"#46039f\"],[0.2222222222222222,\"#7201a8\"],[0.3333333333333333,\"#9c179e\"],[0.4444444444444444,\"#bd3786\"],[0.5555555555555556,\"#d8576b\"],[0.6666666666666666,\"#ed7953\"],[0.7777777777777778,\"#fb9f3a\"],[0.8888888888888888,\"#fdca26\"],[1.0,\"#f0f921\"]],\"sequentialminus\":[[0.0,\"#0d0887\"],[0.1111111111111111,\"#46039f\"],[0.2222222222222222,\"#7201a8\"],[0.3333333333333333,\"#9c179e\"],[0.4444444444444444,\"#bd3786\"],[0.5555555555555556,\"#d8576b\"],[0.6666666666666666,\"#ed7953\"],[0.7777777777777778,\"#fb9f3a\"],[0.8888888888888888,\"#fdca26\"],[1.0,\"#f0f921\"]]},\"colorway\":[\"#636efa\",\"#EF553B\",\"#00cc96\",\"#ab63fa\",\"#FFA15A\",\"#19d3f3\",\"#FF6692\",\"#B6E880\",\"#FF97FF\",\"#FECB52\"],\"font\":{\"color\":\"#2a3f5f\"},\"geo\":{\"bgcolor\":\"white\",\"lakecolor\":\"white\",\"landcolor\":\"#E5ECF6\",\"showlakes\":true,\"showland\":true,\"subunitcolor\":\"white\"},\"hoverlabel\":{\"align\":\"left\"},\"hovermode\":\"closest\",\"mapbox\":{\"style\":\"light\"},\"paper_bgcolor\":\"white\",\"plot_bgcolor\":\"#E5ECF6\",\"polar\":{\"angularaxis\":{\"gridcolor\":\"white\",\"linecolor\":\"white\",\"ticks\":\"\"},\"bgcolor\":\"#E5ECF6\",\"radialaxis\":{\"gridcolor\":\"white\",\"linecolor\":\"white\",\"ticks\":\"\"}},\"scene\":{\"xaxis\":{\"backgroundcolor\":\"#E5ECF6\",\"gridcolor\":\"white\",\"gridwidth\":2,\"linecolor\":\"white\",\"showbackground\":true,\"ticks\":\"\",\"zerolinecolor\":\"white\"},\"yaxis\":{\"backgroundcolor\":\"#E5ECF6\",\"gridcolor\":\"white\",\"gridwidth\":2,\"linecolor\":\"white\",\"showbackground\":true,\"ticks\":\"\",\"zerolinecolor\":\"white\"},\"zaxis\":{\"backgroundcolor\":\"#E5ECF6\",\"gridcolor\":\"white\",\"gridwidth\":2,\"linecolor\":\"white\",\"showbackground\":true,\"ticks\":\"\",\"zerolinecolor\":\"white\"}},\"shapedefaults\":{\"line\":{\"color\":\"#2a3f5f\"}},\"ternary\":{\"aaxis\":{\"gridcolor\":\"white\",\"linecolor\":\"white\",\"ticks\":\"\"},\"baxis\":{\"gridcolor\":\"white\",\"linecolor\":\"white\",\"ticks\":\"\"},\"bgcolor\":\"#E5ECF6\",\"caxis\":{\"gridcolor\":\"white\",\"linecolor\":\"white\",\"ticks\":\"\"}},\"title\":{\"x\":0.05},\"xaxis\":{\"automargin\":true,\"gridcolor\":\"white\",\"linecolor\":\"white\",\"ticks\":\"\",\"title\":{\"standoff\":15},\"zerolinecolor\":\"white\",\"zerolinewidth\":2},\"yaxis\":{\"automargin\":true,\"gridcolor\":\"white\",\"linecolor\":\"white\",\"ticks\":\"\",\"title\":{\"standoff\":15},\"zerolinecolor\":\"white\",\"zerolinewidth\":2}}},\"xaxis\":{\"anchor\":\"y\",\"domain\":[0.0,1.0],\"title\":{\"text\":\"Paywilingness\"}},\"yaxis\":{\"anchor\":\"x\",\"domain\":[0.0,1.0],\"title\":{\"text\":\"count\"}},\"legend\":{\"title\":{\"text\":\"WeeklyVisitFrequency\"},\"tracegroupgap\":0},\"margin\":{\"t\":60},\"barmode\":\"group\"},                        {\"responsive\": true}                    ).then(function(){\n",
       "                            \n",
       "var gd = document.getElementById('73509e98-63db-45d1-98d5-cef332aad58a');\n",
       "var x = new MutationObserver(function (mutations, observer) {{\n",
       "        var display = window.getComputedStyle(gd).display;\n",
       "        if (!display || display === 'none') {{\n",
       "            console.log([gd, 'removed!']);\n",
       "            Plotly.purge(gd);\n",
       "            observer.disconnect();\n",
       "        }}\n",
       "}});\n",
       "\n",
       "// Listen for the removal of the full notebook cells\n",
       "var notebookContainer = gd.closest('#notebook-container');\n",
       "if (notebookContainer) {{\n",
       "    x.observe(notebookContainer, {childList: true});\n",
       "}}\n",
       "\n",
       "// Listen for the clearing of the current output cell\n",
       "var outputEl = gd.closest('.output');\n",
       "if (outputEl) {{\n",
       "    x.observe(outputEl, {childList: true});\n",
       "}}\n",
       "\n",
       "                        })                };                });            </script>        </div>"
      ]
     },
     "metadata": {},
     "output_type": "display_data"
    }
   ],
   "source": [
    "fig = px.histogram(df_viz_north_paying, x=\"Paywilingness\",\n",
    "                           color=\"WeeklyVisitFrequency\", barmode = 'group')\n",
    "fig.show() "
   ]
  },
  {
   "cell_type": "markdown",
   "metadata": {},
   "source": [
    "# Your next event should be located in the north area of Riyadh City, include activities for married females with kids, aged between 25 and 30 and with the entrance ticket priced between 101-200 SAR to cover the largest interest customer group.\n",
    "\n"
   ]
  },
  {
   "cell_type": "code",
   "execution_count": null,
   "metadata": {},
   "outputs": [],
   "source": []
  }
 ],
 "metadata": {
  "kernelspec": {
   "display_name": "Python 3",
   "language": "python",
   "name": "python3"
  },
  "language_info": {
   "codemirror_mode": {
    "name": "ipython",
    "version": 3
   },
   "file_extension": ".py",
   "mimetype": "text/x-python",
   "name": "python",
   "nbconvert_exporter": "python",
   "pygments_lexer": "ipython3",
   "version": "3.8.3"
  }
 },
 "nbformat": 4,
 "nbformat_minor": 4
}
